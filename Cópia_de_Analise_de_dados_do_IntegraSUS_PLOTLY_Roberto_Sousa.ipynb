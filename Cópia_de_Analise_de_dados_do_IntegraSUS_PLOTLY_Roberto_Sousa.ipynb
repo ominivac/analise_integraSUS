{
  "nbformat": 4,
  "nbformat_minor": 0,
  "metadata": {
    "colab": {
      "name": "Cópia de Analise de dados do IntegraSUS PLOTLY- Roberto Sousa.ipynb",
      "provenance": [],
      "collapsed_sections": [],
      "authorship_tag": "ABX9TyM5Dp651SDrkaWem0kqZjqk",
      "include_colab_link": true
    },
    "kernelspec": {
      "name": "python3",
      "display_name": "Python 3"
    }
  },
  "cells": [
    {
      "cell_type": "markdown",
      "metadata": {
        "id": "view-in-github",
        "colab_type": "text"
      },
      "source": [
        "<a href=\"https://colab.research.google.com/github/ominivac/analise_integraSUS/blob/master/C%C3%B3pia_de_Analise_de_dados_do_IntegraSUS_PLOTLY_Roberto_Sousa.ipynb\" target=\"_parent\"><img src=\"https://colab.research.google.com/assets/colab-badge.svg\" alt=\"Open In Colab\"/></a>"
      ]
    },
    {
      "cell_type": "markdown",
      "metadata": {
        "id": "6ANJgTMri_Ab"
      },
      "source": [
        "**Notebook Pandas para Análise Descritiva - concurso INTEGRASUS 2020**\r\n",
        "Fonte dos dados analisados :  http://download-integrasus.saude.ce.gov.br/download\r\n",
        "\r\n",
        "Paticipante : Roberto Sousa - robertokbs@gmail.com"
      ]
    },
    {
      "cell_type": "code",
      "metadata": {
        "id": "iniKbZnmtjNJ",
        "colab": {
          "base_uri": "https://localhost:8080/"
        },
        "outputId": "c59b9159-40b9-45d6-dd1c-3742b6601d52"
      },
      "source": [
        "import folium\r\n",
        "import warnings\r\n",
        "import psycopg2\r\n",
        "import numpy as np\r\n",
        "import pandas as pd\r\n",
        "import altair as alt\r\n",
        "from datetime import *\r\n",
        "import plotly.express as px\r\n",
        "import plotly.graph_objects as go\r\n",
        "\r\n"
      ],
      "execution_count": 1,
      "outputs": [
        {
          "output_type": "stream",
          "text": [
            "/usr/local/lib/python3.6/dist-packages/psycopg2/__init__.py:144: UserWarning: The psycopg2 wheel package will be renamed from release 2.8; in order to keep installing from binary please use \"pip install psycopg2-binary\" instead. For details see: <http://initd.org/psycopg/docs/install.html#binary-install-from-pypi>.\n",
            "  \"\"\")\n"
          ],
          "name": "stderr"
        }
      ]
    },
    {
      "cell_type": "code",
      "metadata": {
        "id": "nxDvn5-8i_zS",
        "colab": {
          "base_uri": "https://localhost:8080/"
        },
        "outputId": "4431bb76-51e4-42ce-dfc2-7548b2d3c650"
      },
      "source": [
        "from google.colab import drive\r\n",
        "drive.mount('/content/drive')"
      ],
      "execution_count": 2,
      "outputs": [
        {
          "output_type": "stream",
          "text": [
            "Drive already mounted at /content/drive; to attempt to forcibly remount, call drive.mount(\"/content/drive\", force_remount=True).\n"
          ],
          "name": "stdout"
        }
      ]
    },
    {
      "cell_type": "code",
      "metadata": {
        "id": "ANt9Vw-FvQOh"
      },
      "source": [
        "import pandas as pd\r\n",
        "df = pd.read_csv(\"/content/drive/My Drive/IntegraSUS/casos_coronavirus_2021_01_10.csv\", low_memory=False, sep=';', date_parser= '%Y-%m-%d')"
      ],
      "execution_count": 3,
      "outputs": []
    },
    {
      "cell_type": "code",
      "metadata": {
        "id": "bg_wOOVKcoXS"
      },
      "source": [
        "#df.info()"
      ],
      "execution_count": 4,
      "outputs": []
    },
    {
      "cell_type": "code",
      "metadata": {
        "colab": {
          "base_uri": "https://localhost:8080/"
        },
        "id": "fr1Txy5mva1c",
        "outputId": "12f87522-c275-4453-ed59-4f5701e8e7e7"
      },
      "source": [
        "#quantidade de registros\r\n",
        "print('Nº de registros : ' , df.shape )"
      ],
      "execution_count": 5,
      "outputs": [
        {
          "output_type": "stream",
          "text": [
            "Nº de registros :  (1593963, 62)\n"
          ],
          "name": "stdout"
        }
      ]
    },
    {
      "cell_type": "code",
      "metadata": {
        "colab": {
          "base_uri": "https://localhost:8080/",
          "height": 213
        },
        "id": "h7rC8TWMvj7U",
        "outputId": "0495fdf8-651e-4489-a5a2-fcfaf730c855"
      },
      "source": [
        "# Preview dos dados , indentificação de colunas, fortmato dos dados etc\r\n",
        "df.head(3)"
      ],
      "execution_count": 6,
      "outputs": [
        {
          "output_type": "execute_result",
          "data": {
            "text/html": [
              "<div>\n",
              "<style scoped>\n",
              "    .dataframe tbody tr th:only-of-type {\n",
              "        vertical-align: middle;\n",
              "    }\n",
              "\n",
              "    .dataframe tbody tr th {\n",
              "        vertical-align: top;\n",
              "    }\n",
              "\n",
              "    .dataframe thead th {\n",
              "        text-align: right;\n",
              "    }\n",
              "</style>\n",
              "<table border=\"1\" class=\"dataframe\">\n",
              "  <thead>\n",
              "    <tr style=\"text-align: right;\">\n",
              "      <th></th>\n",
              "      <th>identificadorCaso</th>\n",
              "      <th>idRedcap</th>\n",
              "      <th>idEsus</th>\n",
              "      <th>idSivep</th>\n",
              "      <th>classificacaoEstadoRedcap</th>\n",
              "      <th>classificacaoEstadoEsus</th>\n",
              "      <th>classificacaoFinalEsus</th>\n",
              "      <th>evolucaoCasoEsus</th>\n",
              "      <th>cboEsus</th>\n",
              "      <th>profissionalSaudeEsus</th>\n",
              "      <th>paisCaso</th>\n",
              "      <th>estadoCaso</th>\n",
              "      <th>codigoMunicipioCaso</th>\n",
              "      <th>municipioCaso</th>\n",
              "      <th>bairroCaso</th>\n",
              "      <th>bairroCasoGeocoder</th>\n",
              "      <th>sexoCaso</th>\n",
              "      <th>idadeCaso</th>\n",
              "      <th>faixaEtaria</th>\n",
              "      <th>dataNascimento</th>\n",
              "      <th>dataNotificacao</th>\n",
              "      <th>dataInicioSintomas</th>\n",
              "      <th>dataSolicitacaoExame</th>\n",
              "      <th>dataColetaExame</th>\n",
              "      <th>dataResultadoExame</th>\n",
              "      <th>resultadoFinalExame</th>\n",
              "      <th>laboratorioExame</th>\n",
              "      <th>classificacaoEstadoSivep</th>\n",
              "      <th>dataInternacaoSivep</th>\n",
              "      <th>dataEntradaUTISivep</th>\n",
              "      <th>dataSaidaUTISivep</th>\n",
              "      <th>evolucaoCasoSivep</th>\n",
              "      <th>dataEvolucaoCasoSivep</th>\n",
              "      <th>comorbidadePuerperaSivep</th>\n",
              "      <th>comorbidadeCardiovascularSivep</th>\n",
              "      <th>comorbidadeHematologiaSivep</th>\n",
              "      <th>comorbidadeSindromeDownSivep</th>\n",
              "      <th>comorbidadeHepaticaSivep</th>\n",
              "      <th>comorbidadeAsmaSivep</th>\n",
              "      <th>comorbidadeDiabetesSivep</th>\n",
              "      <th>comorbidadeNeurologiaSivep</th>\n",
              "      <th>comorbidadePneumopatiaSivep</th>\n",
              "      <th>comorbidadeImunodeficienciaSivep</th>\n",
              "      <th>comorbidadeRenalSivep</th>\n",
              "      <th>comorbidadeObesidadeSivep</th>\n",
              "      <th>comorbidadeHiv</th>\n",
              "      <th>comorbidadeNeoplasias</th>\n",
              "      <th>tipoTesteExame</th>\n",
              "      <th>requisicaoGal</th>\n",
              "      <th>racaCor</th>\n",
              "      <th>dataNotificacaoObito</th>\n",
              "      <th>cnesNotificacaoEsus</th>\n",
              "      <th>municipioNotificacaoEsus</th>\n",
              "      <th>tipoObitoMaterno</th>\n",
              "      <th>classificacaoFinalCasoSivep</th>\n",
              "      <th>gestante</th>\n",
              "      <th>tipoTesteEsus</th>\n",
              "      <th>obitoConfirmado</th>\n",
              "      <th>dataObito</th>\n",
              "      <th>classificacaoObito</th>\n",
              "      <th>localObito</th>\n",
              "      <th>tipoLocalObito</th>\n",
              "    </tr>\n",
              "  </thead>\n",
              "  <tbody>\n",
              "    <tr>\n",
              "      <th>0</th>\n",
              "      <td>1c3dd697de88933a4be558af6378f22d</td>\n",
              "      <td>NaN</td>\n",
              "      <td>NaN</td>\n",
              "      <td>NaN</td>\n",
              "      <td>NaN</td>\n",
              "      <td>NaN</td>\n",
              "      <td>NaN</td>\n",
              "      <td>NaN</td>\n",
              "      <td>NaN</td>\n",
              "      <td>NaN</td>\n",
              "      <td>NaN</td>\n",
              "      <td>CE</td>\n",
              "      <td>230440.0</td>\n",
              "      <td>FORTALEZA</td>\n",
              "      <td>NaN</td>\n",
              "      <td>NaN</td>\n",
              "      <td>FEMININO</td>\n",
              "      <td>31.0</td>\n",
              "      <td>30 a 34 anos</td>\n",
              "      <td>1988-07-02</td>\n",
              "      <td>NaN</td>\n",
              "      <td>NaT</td>\n",
              "      <td>NaN</td>\n",
              "      <td>2020-05-07 00:00:00</td>\n",
              "      <td>2020-05-07 00:00:00</td>\n",
              "      <td>Positivo</td>\n",
              "      <td>HIPOLITO</td>\n",
              "      <td>NaN</td>\n",
              "      <td>NaN</td>\n",
              "      <td>NaN</td>\n",
              "      <td>NaN</td>\n",
              "      <td>NaN</td>\n",
              "      <td>NaN</td>\n",
              "      <td>NaN</td>\n",
              "      <td>NaN</td>\n",
              "      <td>NaN</td>\n",
              "      <td>NaN</td>\n",
              "      <td>NaN</td>\n",
              "      <td>NaN</td>\n",
              "      <td>NaN</td>\n",
              "      <td>NaN</td>\n",
              "      <td>NaN</td>\n",
              "      <td>NaN</td>\n",
              "      <td>NaN</td>\n",
              "      <td>NaN</td>\n",
              "      <td>NaN</td>\n",
              "      <td>NaN</td>\n",
              "      <td>Teste Rápido</td>\n",
              "      <td>NaN</td>\n",
              "      <td>NaN</td>\n",
              "      <td>NaN</td>\n",
              "      <td>NaN</td>\n",
              "      <td>NaN</td>\n",
              "      <td>NaN</td>\n",
              "      <td>NaN</td>\n",
              "      <td>NaN</td>\n",
              "      <td>NaN</td>\n",
              "      <td>NaN</td>\n",
              "      <td>NaN</td>\n",
              "      <td>NaN</td>\n",
              "      <td>NaN</td>\n",
              "      <td>NaN</td>\n",
              "    </tr>\n",
              "    <tr>\n",
              "      <th>1</th>\n",
              "      <td>ff7313a0641ae3ee022b7d85c6554842</td>\n",
              "      <td>NaN</td>\n",
              "      <td>NaN</td>\n",
              "      <td>NaN</td>\n",
              "      <td>NaN</td>\n",
              "      <td>NaN</td>\n",
              "      <td>NaN</td>\n",
              "      <td>NaN</td>\n",
              "      <td>NaN</td>\n",
              "      <td>NaN</td>\n",
              "      <td>NaN</td>\n",
              "      <td>CE</td>\n",
              "      <td>230440.0</td>\n",
              "      <td>FORTALEZA</td>\n",
              "      <td>NaN</td>\n",
              "      <td>NaN</td>\n",
              "      <td>MASCULINO</td>\n",
              "      <td>51.0</td>\n",
              "      <td>50 a 54 anos</td>\n",
              "      <td>1968-06-20</td>\n",
              "      <td>NaN</td>\n",
              "      <td>NaT</td>\n",
              "      <td>NaN</td>\n",
              "      <td>2020-05-07 00:00:00</td>\n",
              "      <td>2020-05-07 00:00:00</td>\n",
              "      <td>Positivo</td>\n",
              "      <td>HIPOLITO</td>\n",
              "      <td>NaN</td>\n",
              "      <td>NaN</td>\n",
              "      <td>NaN</td>\n",
              "      <td>NaN</td>\n",
              "      <td>NaN</td>\n",
              "      <td>NaN</td>\n",
              "      <td>NaN</td>\n",
              "      <td>NaN</td>\n",
              "      <td>NaN</td>\n",
              "      <td>NaN</td>\n",
              "      <td>NaN</td>\n",
              "      <td>NaN</td>\n",
              "      <td>NaN</td>\n",
              "      <td>NaN</td>\n",
              "      <td>NaN</td>\n",
              "      <td>NaN</td>\n",
              "      <td>NaN</td>\n",
              "      <td>NaN</td>\n",
              "      <td>NaN</td>\n",
              "      <td>NaN</td>\n",
              "      <td>Teste Rápido</td>\n",
              "      <td>NaN</td>\n",
              "      <td>NaN</td>\n",
              "      <td>NaN</td>\n",
              "      <td>NaN</td>\n",
              "      <td>NaN</td>\n",
              "      <td>NaN</td>\n",
              "      <td>NaN</td>\n",
              "      <td>NaN</td>\n",
              "      <td>NaN</td>\n",
              "      <td>NaN</td>\n",
              "      <td>NaN</td>\n",
              "      <td>NaN</td>\n",
              "      <td>NaN</td>\n",
              "      <td>NaN</td>\n",
              "    </tr>\n",
              "    <tr>\n",
              "      <th>2</th>\n",
              "      <td>1e83e6c50c2e687901bc0a4e5ac94166</td>\n",
              "      <td>NaN</td>\n",
              "      <td>NaN</td>\n",
              "      <td>NaN</td>\n",
              "      <td>NaN</td>\n",
              "      <td>NaN</td>\n",
              "      <td>NaN</td>\n",
              "      <td>NaN</td>\n",
              "      <td>NaN</td>\n",
              "      <td>NaN</td>\n",
              "      <td>NaN</td>\n",
              "      <td>CE</td>\n",
              "      <td>230440.0</td>\n",
              "      <td>FORTALEZA</td>\n",
              "      <td>NaN</td>\n",
              "      <td>NaN</td>\n",
              "      <td>MASCULINO</td>\n",
              "      <td>70.0</td>\n",
              "      <td>70 a 74 anos</td>\n",
              "      <td>1950-02-24</td>\n",
              "      <td>NaN</td>\n",
              "      <td>NaT</td>\n",
              "      <td>NaN</td>\n",
              "      <td>2020-05-07 00:00:00</td>\n",
              "      <td>2020-05-07 00:00:00</td>\n",
              "      <td>Positivo</td>\n",
              "      <td>HIPOLITO</td>\n",
              "      <td>NaN</td>\n",
              "      <td>NaN</td>\n",
              "      <td>NaN</td>\n",
              "      <td>NaN</td>\n",
              "      <td>NaN</td>\n",
              "      <td>NaN</td>\n",
              "      <td>NaN</td>\n",
              "      <td>NaN</td>\n",
              "      <td>NaN</td>\n",
              "      <td>NaN</td>\n",
              "      <td>NaN</td>\n",
              "      <td>NaN</td>\n",
              "      <td>NaN</td>\n",
              "      <td>NaN</td>\n",
              "      <td>NaN</td>\n",
              "      <td>NaN</td>\n",
              "      <td>NaN</td>\n",
              "      <td>NaN</td>\n",
              "      <td>NaN</td>\n",
              "      <td>NaN</td>\n",
              "      <td>Teste Rápido</td>\n",
              "      <td>NaN</td>\n",
              "      <td>NaN</td>\n",
              "      <td>NaN</td>\n",
              "      <td>NaN</td>\n",
              "      <td>NaN</td>\n",
              "      <td>NaN</td>\n",
              "      <td>NaN</td>\n",
              "      <td>NaN</td>\n",
              "      <td>NaN</td>\n",
              "      <td>NaN</td>\n",
              "      <td>NaN</td>\n",
              "      <td>NaN</td>\n",
              "      <td>NaN</td>\n",
              "      <td>NaN</td>\n",
              "    </tr>\n",
              "  </tbody>\n",
              "</table>\n",
              "</div>"
            ],
            "text/plain": [
              "                  identificadorCaso  idRedcap  ... localObito  tipoLocalObito\n",
              "0  1c3dd697de88933a4be558af6378f22d       NaN  ...        NaN             NaN\n",
              "1  ff7313a0641ae3ee022b7d85c6554842       NaN  ...        NaN             NaN\n",
              "2  1e83e6c50c2e687901bc0a4e5ac94166       NaN  ...        NaN             NaN\n",
              "\n",
              "[3 rows x 62 columns]"
            ]
          },
          "metadata": {
            "tags": []
          },
          "execution_count": 6
        }
      ]
    },
    {
      "cell_type": "code",
      "metadata": {
        "colab": {
          "base_uri": "https://localhost:8080/"
        },
        "id": "6hVv8jpfwp5O",
        "outputId": "7245748f-89e6-4c61-c93e-6cbba8061ccf"
      },
      "source": [
        "df.dtypes"
      ],
      "execution_count": 7,
      "outputs": [
        {
          "output_type": "execute_result",
          "data": {
            "text/plain": [
              "identificadorCaso             object\n",
              "idRedcap                     float64\n",
              "idEsus                        object\n",
              "idSivep                      float64\n",
              "classificacaoEstadoRedcap    float64\n",
              "                              ...   \n",
              "obitoConfirmado               object\n",
              "dataObito                     object\n",
              "classificacaoObito            object\n",
              "localObito                    object\n",
              "tipoLocalObito                object\n",
              "Length: 62, dtype: object"
            ]
          },
          "metadata": {
            "tags": []
          },
          "execution_count": 7
        }
      ]
    },
    {
      "cell_type": "code",
      "metadata": {
        "id": "7u12aS2Cwrio"
      },
      "source": [
        "# Tranformar as col. de data no tipo certo\r\n",
        "df[[\"dataNotificacao\",\"dataSolicitacaoExame\",\"dataResultadoExame\",\"dataColetaExame\",\"dataInicioSintomas\", \"dataObito\", \"dataNotificacaoObito\"]] =  df[[\"dataNotificacao\",\"dataSolicitacaoExame\",\"dataResultadoExame\",\"dataColetaExame\",\"dataInicioSintomas\", \"dataObito\", \"dataNotificacaoObito\"]].apply(pd.to_datetime,  errors='coerce')"
      ],
      "execution_count": 8,
      "outputs": []
    },
    {
      "cell_type": "code",
      "metadata": {
        "colab": {
          "base_uri": "https://localhost:8080/"
        },
        "id": "zSchQRsodRQH",
        "outputId": "f29be148-e3a3-470f-e996-412ed4dc4f5d"
      },
      "source": [
        "df.dtypes"
      ],
      "execution_count": 9,
      "outputs": [
        {
          "output_type": "execute_result",
          "data": {
            "text/plain": [
              "identificadorCaso                    object\n",
              "idRedcap                            float64\n",
              "idEsus                               object\n",
              "idSivep                             float64\n",
              "classificacaoEstadoRedcap           float64\n",
              "                                  ...      \n",
              "obitoConfirmado                      object\n",
              "dataObito                    datetime64[ns]\n",
              "classificacaoObito                   object\n",
              "localObito                           object\n",
              "tipoLocalObito                       object\n",
              "Length: 62, dtype: object"
            ]
          },
          "metadata": {
            "tags": []
          },
          "execution_count": 9
        }
      ]
    },
    {
      "cell_type": "markdown",
      "metadata": {
        "id": "qgBgD83qwxFA"
      },
      "source": [
        "**1.1 Distribuição de atributos**"
      ]
    },
    {
      "cell_type": "code",
      "metadata": {
        "colab": {
          "base_uri": "https://localhost:8080/"
        },
        "id": "6nvSYtKJwuAB",
        "outputId": "51af343d-d0c8-465c-90e3-17fb9c5568e2"
      },
      "source": [
        "# Algumas colunas em brancos, contar para sexoPaciente\r\n",
        "count = df[\"sexoCaso\"].isnull().sum()\r\n",
        "print(count)"
      ],
      "execution_count": 10,
      "outputs": [
        {
          "output_type": "stream",
          "text": [
            "4129\n"
          ],
          "name": "stdout"
        }
      ]
    },
    {
      "cell_type": "code",
      "metadata": {
        "id": "_WiOVHD0wzTx",
        "colab": {
          "base_uri": "https://localhost:8080/"
        },
        "outputId": "e0457455-b3a9-4e0b-cb1d-4c57afee86d8"
      },
      "source": [
        " # Ver distribuição de atributos\r\n",
        "df['racaCor'].unique().tolist()"
      ],
      "execution_count": 11,
      "outputs": [
        {
          "output_type": "execute_result",
          "data": {
            "text/plain": [
              "[nan,\n",
              " 'Amarela',\n",
              " 'Parda',\n",
              " 'Branca',\n",
              " 'Sem Informacao',\n",
              " 'Ignorado',\n",
              " 'Preta',\n",
              " 'Indígena']"
            ]
          },
          "metadata": {
            "tags": []
          },
          "execution_count": 11
        }
      ]
    },
    {
      "cell_type": "code",
      "metadata": {
        "id": "pEsmHX5Qw1hd"
      },
      "source": [
        "# Alterar onde for nan para Não Informado\r\n",
        "df['racaCor'] = df['racaCor'].fillna('Não Informado')"
      ],
      "execution_count": 12,
      "outputs": []
    },
    {
      "cell_type": "code",
      "metadata": {
        "id": "h6Qt8qepw4uJ",
        "colab": {
          "base_uri": "https://localhost:8080/"
        },
        "outputId": "16863c83-bedc-48cf-cfdf-2e11347a57f1"
      },
      "source": [
        "df['tipoTesteExame'].unique().tolist()"
      ],
      "execution_count": 13,
      "outputs": [
        {
          "output_type": "execute_result",
          "data": {
            "text/plain": [
              "['Teste Rápido',\n",
              " 'RT-PCR',\n",
              " 'Quimioluminescência',\n",
              " 'ELISA',\n",
              " 'Eletroquimioluminescência',\n",
              " 'Imunocromatografia',\n",
              " nan,\n",
              " 'Não Informado',\n",
              " 'ECLIA',\n",
              " 'Confirmado Clínico-Epidemiológico',\n",
              " 'Confirmado por Critério Clínico',\n",
              " 'CLIA',\n",
              " 'Confirmado Clínico-Imagem']"
            ]
          },
          "metadata": {
            "tags": []
          },
          "execution_count": 13
        }
      ]
    },
    {
      "cell_type": "code",
      "metadata": {
        "colab": {
          "base_uri": "https://localhost:8080/"
        },
        "id": "0YYbUNYnw6kp",
        "outputId": "7a380cb0-82c8-45f7-9b1e-330b8d3e765e"
      },
      "source": [
        "df['evolucaoCasoSivep'].unique().tolist()"
      ],
      "execution_count": 14,
      "outputs": [
        {
          "output_type": "execute_result",
          "data": {
            "text/plain": [
              "[nan, 'Cura', '3', 'Ignorado', 'Óbito']"
            ]
          },
          "metadata": {
            "tags": []
          },
          "execution_count": 14
        }
      ]
    },
    {
      "cell_type": "code",
      "metadata": {
        "id": "urPBNt0bw98i",
        "colab": {
          "base_uri": "https://localhost:8080/"
        },
        "outputId": "d3d76ecd-0ea4-4a65-b8b9-0d6bba45ad6f"
      },
      "source": [
        "df['comorbidadePneumopatiaSivep'].unique().tolist()"
      ],
      "execution_count": 15,
      "outputs": [
        {
          "output_type": "execute_result",
          "data": {
            "text/plain": [
              "[nan, 'Não', 'Ignorado', 'Sim']"
            ]
          },
          "metadata": {
            "tags": []
          },
          "execution_count": 15
        }
      ]
    },
    {
      "cell_type": "code",
      "metadata": {
        "id": "7b8cSJtIxAIy",
        "colab": {
          "base_uri": "https://localhost:8080/"
        },
        "outputId": "ad31619e-3859-4d4d-f8d8-271ff1f9b72e"
      },
      "source": [
        "df['tipoTesteExame'].unique().tolist()"
      ],
      "execution_count": 16,
      "outputs": [
        {
          "output_type": "execute_result",
          "data": {
            "text/plain": [
              "['Teste Rápido',\n",
              " 'RT-PCR',\n",
              " 'Quimioluminescência',\n",
              " 'ELISA',\n",
              " 'Eletroquimioluminescência',\n",
              " 'Imunocromatografia',\n",
              " nan,\n",
              " 'Não Informado',\n",
              " 'ECLIA',\n",
              " 'Confirmado Clínico-Epidemiológico',\n",
              " 'Confirmado por Critério Clínico',\n",
              " 'CLIA',\n",
              " 'Confirmado Clínico-Imagem']"
            ]
          },
          "metadata": {
            "tags": []
          },
          "execution_count": 16
        }
      ]
    },
    {
      "cell_type": "code",
      "metadata": {
        "colab": {
          "base_uri": "https://localhost:8080/"
        },
        "id": "GZCv-lKvxCKC",
        "outputId": "4c6b3cea-f79e-4897-8ca5-020a91aae6fc"
      },
      "source": [
        "df['resultadoFinalExame'].unique().tolist()"
      ],
      "execution_count": 17,
      "outputs": [
        {
          "output_type": "execute_result",
          "data": {
            "text/plain": [
              "['Positivo', 'Negativo', 'Inconclusivo', 'Em Análise', nan, 'Provável']"
            ]
          },
          "metadata": {
            "tags": []
          },
          "execution_count": 17
        }
      ]
    },
    {
      "cell_type": "code",
      "metadata": {
        "id": "yIcPwe5dxEXJ",
        "colab": {
          "base_uri": "https://localhost:8080/"
        },
        "outputId": "d304298d-d56f-4f32-8882-72b95db8dab4"
      },
      "source": [
        "df['evolucaoCasoEsus'].unique().tolist()"
      ],
      "execution_count": 18,
      "outputs": [
        {
          "output_type": "execute_result",
          "data": {
            "text/plain": [
              "[nan,\n",
              " 'Em tratamento domiciliar',\n",
              " 'Cura',\n",
              " 'Óbito',\n",
              " 'Ignorado',\n",
              " 'Internado',\n",
              " 'Internado em UTI']"
            ]
          },
          "metadata": {
            "tags": []
          },
          "execution_count": 18
        }
      ]
    },
    {
      "cell_type": "markdown",
      "metadata": {
        "id": "s2viDC1sxKGg"
      },
      "source": [
        "**1.2 - CRIAÇÃO DE NOVAS COLUNAS PARA FACILITAÇÃO DE CÁLCULOS POSTERIORES**"
      ]
    },
    {
      "cell_type": "code",
      "metadata": {
        "id": "rMxMIWMlxGe4"
      },
      "source": [
        "# Criação da coluna faixa de idade para calculo em percentual\r\n",
        "# Não á mais necessidade, o dataset já vem com uma coluna de faixa etária\r\n",
        "\r\n",
        "#bins= [0,4,9,14,19,24,29,34,39,44,49,54,59,64,69,74,79,80]\r\n",
        "#labels = ['0-4', '5-9', '10-14','15-19', '20-24', '25-29', '30-34', '35-39', '40-44', '45-49', '50-54', '55-59', '60-64', '65-69 ','70-74', '75-79', '80+']\r\n",
        "\r\n",
        "#df['faixaIdade'] = pd.cut(df['idadeCaso'], bins=bins, labels=labels)\r\n",
        "#df.head(3)"
      ],
      "execution_count": 19,
      "outputs": []
    },
    {
      "cell_type": "markdown",
      "metadata": {
        "id": "kUuBneZbxOy_"
      },
      "source": [
        "**O que define o óbito?** "
      ]
    },
    {
      "cell_type": "code",
      "metadata": {
        "id": "3Gejkg7wxMU3"
      },
      "source": [
        "# numero oficial : 9.933\r\n",
        "\r\n",
        " \r\n",
        "#df[df['obitoConfirmado'] == True]                                                                                               11658   rows  01 -\r\n",
        "#df[df['dataObito'].notnull()]                                                                                                   14738   rows  02 - \r\n",
        "#df[df['evolucaoCasoSivep'] == 'Óbito']                                                                                          11332 \t rows  03 - o mais perto do oficial\r\n",
        "#df[ (df['obitoConfirmado'] == True) & (df['dataObito'].notnull())  ]                                                            11658 #df[ (df['dataObito'].notnull() ) & (df['resultadoFinalExame'] == 'Positivo' )]                          11659 rows\r\n",
        "#df[ (df['obitoConfirmado'] == True) & (df['dataObito'].notnull() ) & (df['resultadoFinalExame'] == 'Positivo')   ]              11658 combinar 04 e 05 da o mesmo result. \r\n",
        "\r\n"
      ],
      "execution_count": 20,
      "outputs": []
    },
    {
      "cell_type": "markdown",
      "metadata": {
        "id": "ZL7MR-52xTog"
      },
      "source": [
        "**Recuperados : casos ja´confirmados e que não evoluiram pra óbito**"
      ]
    },
    {
      "cell_type": "code",
      "metadata": {
        "id": "IKH3ld5OxRO4"
      },
      "source": [
        "# df[(df['resultadoFinalExame'] == 'Positivo') & (df['dataObito'].isnull()  )  ]      # 402.102\r\n",
        "# df[(df['evolucaoCasoEsus'] == 'Cura') ]                                            # 478.215 / 265.528 \r\n",
        "# df[(df['resultadoFinalExame'] == 'Positivo') & (df['evolucaoCasoEsus'] == 'Cura'  )  ] # 179.657 rows / 265.528       #USAR ESSE"
      ],
      "execution_count": 21,
      "outputs": []
    },
    {
      "cell_type": "markdown",
      "metadata": {
        "id": "E6kttogGxaIQ"
      },
      "source": [
        "**Casos confirmados - PODEM OU NÃO TER EVOLUIDO PRA ÓBITOS**"
      ]
    },
    {
      "cell_type": "code",
      "metadata": {
        "id": "UV_snagJxVu-"
      },
      "source": [
        "#df[(df['resultadoFinalExame'] == 'Positivo')] # 413.761 rows / 327.865 IntegraSUS"
      ],
      "execution_count": 22,
      "outputs": []
    },
    {
      "cell_type": "code",
      "metadata": {
        "id": "hy2FFgNhxcCy"
      },
      "source": [
        "#df.sort_values(by=\"dataObito\")"
      ],
      "execution_count": 23,
      "outputs": []
    },
    {
      "cell_type": "markdown",
      "metadata": {
        "id": "Lrrr71w3xino"
      },
      "source": [
        "**Nova coluna quantidade de óbito para cada dia, visto que em um mesmo dia há mais de um óbito**"
      ]
    },
    {
      "cell_type": "code",
      "metadata": {
        "id": "l7wC92_IxfT3"
      },
      "source": [
        "# Como cada dia representa um óbito, criar nova coluna para cada registro somente HUM por registro \r\n",
        "df['qtObito'] = np.where(df['obitoConfirmado'] == True, 1, 0)\r\n",
        "#df[df['qtObito'] == 1].head(3)"
      ],
      "execution_count": 24,
      "outputs": []
    },
    {
      "cell_type": "markdown",
      "metadata": {
        "id": "sZ6kw_tvxnr5"
      },
      "source": [
        "**Nova coluna quantidade de casos confirmados para cada dia, visto que em um mesmo dia há mais de um caso confirmado**"
      ]
    },
    {
      "cell_type": "code",
      "metadata": {
        "id": "RioJY1r0xkli"
      },
      "source": [
        "# Nova coluna para somar de casos confirmados SEM óbito\r\n",
        "df['qtCasoConfirmado'] = np.where(  ( df['resultadoFinalExame'] == 'Positivo')  , 1, 0) \r\n",
        "#df[df['qtCasoConfirmado'] == 1].head(3)"
      ],
      "execution_count": 25,
      "outputs": []
    },
    {
      "cell_type": "markdown",
      "metadata": {
        "id": "I6GnYohuxt8z"
      },
      "source": [
        "**Nova coluna quantidade de casos confirmados SEM ÓBITO**"
      ]
    },
    {
      "cell_type": "code",
      "metadata": {
        "id": "QJWmMZM1xqn-"
      },
      "source": [
        "# Nova coluna para somar de casos confirmados SEM óbito\r\n",
        "df['qtCasoConfirmadoSemObito'] = np.where(  ( df['resultadoFinalExame'] == 'Positivo')  & ( df['evolucaoCasoEsus'] == 'Cura' ) , 1, 0) \r\n",
        "#df[df['qtCasoConfirmadoSemObito'] == 1].head(3)"
      ],
      "execution_count": 26,
      "outputs": []
    },
    {
      "cell_type": "markdown",
      "metadata": {
        "id": "WXJa8AAKx1dD"
      },
      "source": [
        "**1.3 - CRIAÇÃO DE NOVO DATASET PARA CASOS CONFIRMADOS QUE PODEM OU NÃO TER EVOLUÍDOS PRA ÓBITOS**"
      ]
    },
    {
      "cell_type": "code",
      "metadata": {
        "id": "5PWQ5thxxwUK",
        "colab": {
          "base_uri": "https://localhost:8080/",
          "height": 230
        },
        "outputId": "8f73383a-7581-47bc-821a-4a4b6213088c"
      },
      "source": [
        "df_confirmados = df[ df['resultadoFinalExame'] == 'Positivo'  ]\r\n",
        "df_confirmados.sort_values(by=\"dataObito\").head(3)"
      ],
      "execution_count": 27,
      "outputs": [
        {
          "output_type": "execute_result",
          "data": {
            "text/html": [
              "<div>\n",
              "<style scoped>\n",
              "    .dataframe tbody tr th:only-of-type {\n",
              "        vertical-align: middle;\n",
              "    }\n",
              "\n",
              "    .dataframe tbody tr th {\n",
              "        vertical-align: top;\n",
              "    }\n",
              "\n",
              "    .dataframe thead th {\n",
              "        text-align: right;\n",
              "    }\n",
              "</style>\n",
              "<table border=\"1\" class=\"dataframe\">\n",
              "  <thead>\n",
              "    <tr style=\"text-align: right;\">\n",
              "      <th></th>\n",
              "      <th>identificadorCaso</th>\n",
              "      <th>idRedcap</th>\n",
              "      <th>idEsus</th>\n",
              "      <th>idSivep</th>\n",
              "      <th>classificacaoEstadoRedcap</th>\n",
              "      <th>classificacaoEstadoEsus</th>\n",
              "      <th>classificacaoFinalEsus</th>\n",
              "      <th>evolucaoCasoEsus</th>\n",
              "      <th>cboEsus</th>\n",
              "      <th>profissionalSaudeEsus</th>\n",
              "      <th>paisCaso</th>\n",
              "      <th>estadoCaso</th>\n",
              "      <th>codigoMunicipioCaso</th>\n",
              "      <th>municipioCaso</th>\n",
              "      <th>bairroCaso</th>\n",
              "      <th>bairroCasoGeocoder</th>\n",
              "      <th>sexoCaso</th>\n",
              "      <th>idadeCaso</th>\n",
              "      <th>faixaEtaria</th>\n",
              "      <th>dataNascimento</th>\n",
              "      <th>dataNotificacao</th>\n",
              "      <th>dataInicioSintomas</th>\n",
              "      <th>dataSolicitacaoExame</th>\n",
              "      <th>dataColetaExame</th>\n",
              "      <th>dataResultadoExame</th>\n",
              "      <th>resultadoFinalExame</th>\n",
              "      <th>laboratorioExame</th>\n",
              "      <th>classificacaoEstadoSivep</th>\n",
              "      <th>dataInternacaoSivep</th>\n",
              "      <th>dataEntradaUTISivep</th>\n",
              "      <th>dataSaidaUTISivep</th>\n",
              "      <th>evolucaoCasoSivep</th>\n",
              "      <th>dataEvolucaoCasoSivep</th>\n",
              "      <th>comorbidadePuerperaSivep</th>\n",
              "      <th>comorbidadeCardiovascularSivep</th>\n",
              "      <th>comorbidadeHematologiaSivep</th>\n",
              "      <th>comorbidadeSindromeDownSivep</th>\n",
              "      <th>comorbidadeHepaticaSivep</th>\n",
              "      <th>comorbidadeAsmaSivep</th>\n",
              "      <th>comorbidadeDiabetesSivep</th>\n",
              "      <th>comorbidadeNeurologiaSivep</th>\n",
              "      <th>comorbidadePneumopatiaSivep</th>\n",
              "      <th>comorbidadeImunodeficienciaSivep</th>\n",
              "      <th>comorbidadeRenalSivep</th>\n",
              "      <th>comorbidadeObesidadeSivep</th>\n",
              "      <th>comorbidadeHiv</th>\n",
              "      <th>comorbidadeNeoplasias</th>\n",
              "      <th>tipoTesteExame</th>\n",
              "      <th>requisicaoGal</th>\n",
              "      <th>racaCor</th>\n",
              "      <th>dataNotificacaoObito</th>\n",
              "      <th>cnesNotificacaoEsus</th>\n",
              "      <th>municipioNotificacaoEsus</th>\n",
              "      <th>tipoObitoMaterno</th>\n",
              "      <th>classificacaoFinalCasoSivep</th>\n",
              "      <th>gestante</th>\n",
              "      <th>tipoTesteEsus</th>\n",
              "      <th>obitoConfirmado</th>\n",
              "      <th>dataObito</th>\n",
              "      <th>classificacaoObito</th>\n",
              "      <th>localObito</th>\n",
              "      <th>tipoLocalObito</th>\n",
              "      <th>qtObito</th>\n",
              "      <th>qtCasoConfirmado</th>\n",
              "      <th>qtCasoConfirmadoSemObito</th>\n",
              "    </tr>\n",
              "  </thead>\n",
              "  <tbody>\n",
              "    <tr>\n",
              "      <th>483504</th>\n",
              "      <td>e00481f300496b7c996f781c5b9edc0f</td>\n",
              "      <td>NaN</td>\n",
              "      <td>202017481</td>\n",
              "      <td>3.158525e+11</td>\n",
              "      <td>NaN</td>\n",
              "      <td>Positivo</td>\n",
              "      <td>Confirmação Laboratorial</td>\n",
              "      <td>Óbito</td>\n",
              "      <td>NaN</td>\n",
              "      <td>False</td>\n",
              "      <td>BRASIL</td>\n",
              "      <td>CE</td>\n",
              "      <td>230440.0</td>\n",
              "      <td>FORTALEZA</td>\n",
              "      <td>COCO</td>\n",
              "      <td>NaN</td>\n",
              "      <td>FEMININO</td>\n",
              "      <td>84.0</td>\n",
              "      <td>80 ou mais</td>\n",
              "      <td>1936-02-26</td>\n",
              "      <td>2020-03-24</td>\n",
              "      <td>2020-03-21</td>\n",
              "      <td>NaT</td>\n",
              "      <td>2020-03-24</td>\n",
              "      <td>2020-03-24</td>\n",
              "      <td>Positivo</td>\n",
              "      <td>GAL</td>\n",
              "      <td>Positivo</td>\n",
              "      <td>NaN</td>\n",
              "      <td>NaN</td>\n",
              "      <td>NaN</td>\n",
              "      <td>Óbito</td>\n",
              "      <td>2020-03-24 00:00:00.000</td>\n",
              "      <td>Não</td>\n",
              "      <td>Sim</td>\n",
              "      <td>Não</td>\n",
              "      <td>Não</td>\n",
              "      <td>Não</td>\n",
              "      <td>Não</td>\n",
              "      <td>Sim</td>\n",
              "      <td>Não</td>\n",
              "      <td>Não</td>\n",
              "      <td>Não</td>\n",
              "      <td>Não</td>\n",
              "      <td>Não</td>\n",
              "      <td>NaN</td>\n",
              "      <td>NaN</td>\n",
              "      <td>RT-PCR</td>\n",
              "      <td>2.022130e+11</td>\n",
              "      <td>Não Informado</td>\n",
              "      <td>2020-05-20 17:24:35.783</td>\n",
              "      <td>NaN</td>\n",
              "      <td>FORTALEZA</td>\n",
              "      <td>NaN</td>\n",
              "      <td>SRAG por COVID-19</td>\n",
              "      <td>NaN</td>\n",
              "      <td>RT-PCR</td>\n",
              "      <td>True</td>\n",
              "      <td>2020-03-24</td>\n",
              "      <td>Confirmado</td>\n",
              "      <td>HOSPITAL SAO MATEUS</td>\n",
              "      <td>NaN</td>\n",
              "      <td>1</td>\n",
              "      <td>1</td>\n",
              "      <td>0</td>\n",
              "    </tr>\n",
              "    <tr>\n",
              "      <th>483497</th>\n",
              "      <td>82563a758fad9d2126eabf2d356277d6</td>\n",
              "      <td>NaN</td>\n",
              "      <td>202017950</td>\n",
              "      <td>3.158514e+11</td>\n",
              "      <td>NaN</td>\n",
              "      <td>Positivo</td>\n",
              "      <td>Confirmação Laboratorial</td>\n",
              "      <td>NaN</td>\n",
              "      <td>NaN</td>\n",
              "      <td>False</td>\n",
              "      <td>BRASIL</td>\n",
              "      <td>CE</td>\n",
              "      <td>230440.0</td>\n",
              "      <td>FORTALEZA</td>\n",
              "      <td>JOVITA FEITOSA</td>\n",
              "      <td>NaN</td>\n",
              "      <td>FEMININO</td>\n",
              "      <td>97.0</td>\n",
              "      <td>80 ou mais</td>\n",
              "      <td>1923-02-03</td>\n",
              "      <td>2020-03-24</td>\n",
              "      <td>2020-03-21</td>\n",
              "      <td>NaT</td>\n",
              "      <td>2020-03-24</td>\n",
              "      <td>2020-04-28</td>\n",
              "      <td>Positivo</td>\n",
              "      <td>GAL</td>\n",
              "      <td>Positivo</td>\n",
              "      <td>2020-03-23 00:00:00.000</td>\n",
              "      <td>2020-03-23 00:00:00.000</td>\n",
              "      <td>NaN</td>\n",
              "      <td>Óbito</td>\n",
              "      <td>2020-03-24 00:00:00.000</td>\n",
              "      <td>NaN</td>\n",
              "      <td>Sim</td>\n",
              "      <td>NaN</td>\n",
              "      <td>NaN</td>\n",
              "      <td>NaN</td>\n",
              "      <td>NaN</td>\n",
              "      <td>Sim</td>\n",
              "      <td>NaN</td>\n",
              "      <td>NaN</td>\n",
              "      <td>NaN</td>\n",
              "      <td>NaN</td>\n",
              "      <td>NaN</td>\n",
              "      <td>NaN</td>\n",
              "      <td>NaN</td>\n",
              "      <td>RT-PCR</td>\n",
              "      <td>2.022200e+11</td>\n",
              "      <td>Não Informado</td>\n",
              "      <td>2020-05-20 17:30:03.817</td>\n",
              "      <td>NaN</td>\n",
              "      <td>FORTALEZA</td>\n",
              "      <td>NaN</td>\n",
              "      <td>SRAG por COVID-19</td>\n",
              "      <td>NaN</td>\n",
              "      <td>RT-PCR</td>\n",
              "      <td>True</td>\n",
              "      <td>2020-03-24</td>\n",
              "      <td>Confirmado</td>\n",
              "      <td>HOSPITAL GENESIS</td>\n",
              "      <td>NaN</td>\n",
              "      <td>1</td>\n",
              "      <td>1</td>\n",
              "      <td>0</td>\n",
              "    </tr>\n",
              "    <tr>\n",
              "      <th>387717</th>\n",
              "      <td>82563a758fad9d2126eabf2d356277d6</td>\n",
              "      <td>NaN</td>\n",
              "      <td>202017974</td>\n",
              "      <td>3.158514e+11</td>\n",
              "      <td>NaN</td>\n",
              "      <td>NaN</td>\n",
              "      <td>NaN</td>\n",
              "      <td>NaN</td>\n",
              "      <td>NaN</td>\n",
              "      <td>False</td>\n",
              "      <td>BRASIL</td>\n",
              "      <td>CE</td>\n",
              "      <td>230440.0</td>\n",
              "      <td>FORTALEZA</td>\n",
              "      <td>JOVITA FEITOSA</td>\n",
              "      <td>NaN</td>\n",
              "      <td>FEMININO</td>\n",
              "      <td>97.0</td>\n",
              "      <td>80 ou mais</td>\n",
              "      <td>1923-02-03</td>\n",
              "      <td>2020-03-24</td>\n",
              "      <td>2020-03-21</td>\n",
              "      <td>NaT</td>\n",
              "      <td>2020-03-24</td>\n",
              "      <td>2020-04-28</td>\n",
              "      <td>Positivo</td>\n",
              "      <td>GAL</td>\n",
              "      <td>Positivo</td>\n",
              "      <td>2020-03-23 00:00:00.000</td>\n",
              "      <td>2020-03-23 00:00:00.000</td>\n",
              "      <td>NaN</td>\n",
              "      <td>Óbito</td>\n",
              "      <td>2020-03-24 00:00:00.000</td>\n",
              "      <td>NaN</td>\n",
              "      <td>Sim</td>\n",
              "      <td>NaN</td>\n",
              "      <td>NaN</td>\n",
              "      <td>NaN</td>\n",
              "      <td>NaN</td>\n",
              "      <td>Sim</td>\n",
              "      <td>NaN</td>\n",
              "      <td>NaN</td>\n",
              "      <td>NaN</td>\n",
              "      <td>NaN</td>\n",
              "      <td>NaN</td>\n",
              "      <td>NaN</td>\n",
              "      <td>NaN</td>\n",
              "      <td>RT-PCR</td>\n",
              "      <td>2.022200e+11</td>\n",
              "      <td>Não Informado</td>\n",
              "      <td>2020-05-20 17:30:03.817</td>\n",
              "      <td>NaN</td>\n",
              "      <td>FORTALEZA</td>\n",
              "      <td>NaN</td>\n",
              "      <td>SRAG por COVID-19</td>\n",
              "      <td>NaN</td>\n",
              "      <td>NaN</td>\n",
              "      <td>True</td>\n",
              "      <td>2020-03-24</td>\n",
              "      <td>Confirmado</td>\n",
              "      <td>HOSPITAL GENESIS</td>\n",
              "      <td>NaN</td>\n",
              "      <td>1</td>\n",
              "      <td>1</td>\n",
              "      <td>0</td>\n",
              "    </tr>\n",
              "  </tbody>\n",
              "</table>\n",
              "</div>"
            ],
            "text/plain": [
              "                       identificadorCaso  ...  qtCasoConfirmadoSemObito\n",
              "483504  e00481f300496b7c996f781c5b9edc0f  ...                         0\n",
              "483497  82563a758fad9d2126eabf2d356277d6  ...                         0\n",
              "387717  82563a758fad9d2126eabf2d356277d6  ...                         0\n",
              "\n",
              "[3 rows x 65 columns]"
            ]
          },
          "metadata": {
            "tags": []
          },
          "execution_count": 27
        }
      ]
    },
    {
      "cell_type": "code",
      "metadata": {
        "colab": {
          "base_uri": "https://localhost:8080/"
        },
        "id": "thx4YuIOx6Tl",
        "outputId": "73701878-23ff-46f6-ab2c-f303797cefee"
      },
      "source": [
        "df_confirmados.shape       # 440.395  / 327.865 INTEGRASUS   15/jan"
      ],
      "execution_count": 28,
      "outputs": [
        {
          "output_type": "execute_result",
          "data": {
            "text/plain": [
              "(440395, 65)"
            ]
          },
          "metadata": {
            "tags": []
          },
          "execution_count": 28
        }
      ]
    },
    {
      "cell_type": "markdown",
      "metadata": {
        "id": "Vf5TqGW-yFkY"
      },
      "source": [
        "**1.4 - CRIAÇÃO DE NOVO DATASET PARA CASOS CONFIRMADOS COM ÓBITO**"
      ]
    },
    {
      "cell_type": "code",
      "metadata": {
        "id": "bvThaZmYx9wk",
        "colab": {
          "base_uri": "https://localhost:8080/",
          "height": 230
        },
        "outputId": "a6e94c8d-7930-422e-840d-2d8e8bf9597b"
      },
      "source": [
        "df_obitos = df[ df['obitoConfirmado'] == True]\r\n",
        "df_obitos.sort_values(by=\"dataObito\").head(3)"
      ],
      "execution_count": 29,
      "outputs": [
        {
          "output_type": "execute_result",
          "data": {
            "text/html": [
              "<div>\n",
              "<style scoped>\n",
              "    .dataframe tbody tr th:only-of-type {\n",
              "        vertical-align: middle;\n",
              "    }\n",
              "\n",
              "    .dataframe tbody tr th {\n",
              "        vertical-align: top;\n",
              "    }\n",
              "\n",
              "    .dataframe thead th {\n",
              "        text-align: right;\n",
              "    }\n",
              "</style>\n",
              "<table border=\"1\" class=\"dataframe\">\n",
              "  <thead>\n",
              "    <tr style=\"text-align: right;\">\n",
              "      <th></th>\n",
              "      <th>identificadorCaso</th>\n",
              "      <th>idRedcap</th>\n",
              "      <th>idEsus</th>\n",
              "      <th>idSivep</th>\n",
              "      <th>classificacaoEstadoRedcap</th>\n",
              "      <th>classificacaoEstadoEsus</th>\n",
              "      <th>classificacaoFinalEsus</th>\n",
              "      <th>evolucaoCasoEsus</th>\n",
              "      <th>cboEsus</th>\n",
              "      <th>profissionalSaudeEsus</th>\n",
              "      <th>paisCaso</th>\n",
              "      <th>estadoCaso</th>\n",
              "      <th>codigoMunicipioCaso</th>\n",
              "      <th>municipioCaso</th>\n",
              "      <th>bairroCaso</th>\n",
              "      <th>bairroCasoGeocoder</th>\n",
              "      <th>sexoCaso</th>\n",
              "      <th>idadeCaso</th>\n",
              "      <th>faixaEtaria</th>\n",
              "      <th>dataNascimento</th>\n",
              "      <th>dataNotificacao</th>\n",
              "      <th>dataInicioSintomas</th>\n",
              "      <th>dataSolicitacaoExame</th>\n",
              "      <th>dataColetaExame</th>\n",
              "      <th>dataResultadoExame</th>\n",
              "      <th>resultadoFinalExame</th>\n",
              "      <th>laboratorioExame</th>\n",
              "      <th>classificacaoEstadoSivep</th>\n",
              "      <th>dataInternacaoSivep</th>\n",
              "      <th>dataEntradaUTISivep</th>\n",
              "      <th>dataSaidaUTISivep</th>\n",
              "      <th>evolucaoCasoSivep</th>\n",
              "      <th>dataEvolucaoCasoSivep</th>\n",
              "      <th>comorbidadePuerperaSivep</th>\n",
              "      <th>comorbidadeCardiovascularSivep</th>\n",
              "      <th>comorbidadeHematologiaSivep</th>\n",
              "      <th>comorbidadeSindromeDownSivep</th>\n",
              "      <th>comorbidadeHepaticaSivep</th>\n",
              "      <th>comorbidadeAsmaSivep</th>\n",
              "      <th>comorbidadeDiabetesSivep</th>\n",
              "      <th>comorbidadeNeurologiaSivep</th>\n",
              "      <th>comorbidadePneumopatiaSivep</th>\n",
              "      <th>comorbidadeImunodeficienciaSivep</th>\n",
              "      <th>comorbidadeRenalSivep</th>\n",
              "      <th>comorbidadeObesidadeSivep</th>\n",
              "      <th>comorbidadeHiv</th>\n",
              "      <th>comorbidadeNeoplasias</th>\n",
              "      <th>tipoTesteExame</th>\n",
              "      <th>requisicaoGal</th>\n",
              "      <th>racaCor</th>\n",
              "      <th>dataNotificacaoObito</th>\n",
              "      <th>cnesNotificacaoEsus</th>\n",
              "      <th>municipioNotificacaoEsus</th>\n",
              "      <th>tipoObitoMaterno</th>\n",
              "      <th>classificacaoFinalCasoSivep</th>\n",
              "      <th>gestante</th>\n",
              "      <th>tipoTesteEsus</th>\n",
              "      <th>obitoConfirmado</th>\n",
              "      <th>dataObito</th>\n",
              "      <th>classificacaoObito</th>\n",
              "      <th>localObito</th>\n",
              "      <th>tipoLocalObito</th>\n",
              "      <th>qtObito</th>\n",
              "      <th>qtCasoConfirmado</th>\n",
              "      <th>qtCasoConfirmadoSemObito</th>\n",
              "    </tr>\n",
              "  </thead>\n",
              "  <tbody>\n",
              "    <tr>\n",
              "      <th>29757</th>\n",
              "      <td>ed2d67f326d60173a53ee585606b5910</td>\n",
              "      <td>NaN</td>\n",
              "      <td>202016773</td>\n",
              "      <td>3.158931e+11</td>\n",
              "      <td>NaN</td>\n",
              "      <td>Positivo</td>\n",
              "      <td>Confirmação Laboratorial</td>\n",
              "      <td>Óbito</td>\n",
              "      <td>NaN</td>\n",
              "      <td>False</td>\n",
              "      <td>BRASIL</td>\n",
              "      <td>CE</td>\n",
              "      <td>230440.0</td>\n",
              "      <td>FORTALEZA</td>\n",
              "      <td>FATIMA</td>\n",
              "      <td>NaN</td>\n",
              "      <td>FEMININO</td>\n",
              "      <td>41.0</td>\n",
              "      <td>40 a 44 anos</td>\n",
              "      <td>1979-02-04</td>\n",
              "      <td>2020-03-23</td>\n",
              "      <td>2020-03-18</td>\n",
              "      <td>NaT</td>\n",
              "      <td>2020-03-23</td>\n",
              "      <td>2020-03-23</td>\n",
              "      <td>Positivo</td>\n",
              "      <td>GAL</td>\n",
              "      <td>Positivo</td>\n",
              "      <td>2020-03-23 00:00:00.000</td>\n",
              "      <td>NaN</td>\n",
              "      <td>NaN</td>\n",
              "      <td>Óbito</td>\n",
              "      <td>2020-03-24 00:00:00.000</td>\n",
              "      <td>Não</td>\n",
              "      <td>Não</td>\n",
              "      <td>Não</td>\n",
              "      <td>Não</td>\n",
              "      <td>Não</td>\n",
              "      <td>Não</td>\n",
              "      <td>Não</td>\n",
              "      <td>Não</td>\n",
              "      <td>Não</td>\n",
              "      <td>Não</td>\n",
              "      <td>Não</td>\n",
              "      <td>Não</td>\n",
              "      <td>NaN</td>\n",
              "      <td>NaN</td>\n",
              "      <td>RT-PCR</td>\n",
              "      <td>2.001430e+11</td>\n",
              "      <td>Não Informado</td>\n",
              "      <td>2020-05-20 17:24:52.363</td>\n",
              "      <td>NaN</td>\n",
              "      <td>FORTALEZA</td>\n",
              "      <td>NaN</td>\n",
              "      <td>SRAG por COVID-19</td>\n",
              "      <td>NaN</td>\n",
              "      <td>RT-PCR</td>\n",
              "      <td>True</td>\n",
              "      <td>2020-03-24</td>\n",
              "      <td>Confirmado</td>\n",
              "      <td>HOSPITAL REGIONAL UNIMED</td>\n",
              "      <td>PRIVADA</td>\n",
              "      <td>1</td>\n",
              "      <td>1</td>\n",
              "      <td>0</td>\n",
              "    </tr>\n",
              "    <tr>\n",
              "      <th>483497</th>\n",
              "      <td>82563a758fad9d2126eabf2d356277d6</td>\n",
              "      <td>NaN</td>\n",
              "      <td>202017950</td>\n",
              "      <td>3.158514e+11</td>\n",
              "      <td>NaN</td>\n",
              "      <td>Positivo</td>\n",
              "      <td>Confirmação Laboratorial</td>\n",
              "      <td>NaN</td>\n",
              "      <td>NaN</td>\n",
              "      <td>False</td>\n",
              "      <td>BRASIL</td>\n",
              "      <td>CE</td>\n",
              "      <td>230440.0</td>\n",
              "      <td>FORTALEZA</td>\n",
              "      <td>JOVITA FEITOSA</td>\n",
              "      <td>NaN</td>\n",
              "      <td>FEMININO</td>\n",
              "      <td>97.0</td>\n",
              "      <td>80 ou mais</td>\n",
              "      <td>1923-02-03</td>\n",
              "      <td>2020-03-24</td>\n",
              "      <td>2020-03-21</td>\n",
              "      <td>NaT</td>\n",
              "      <td>2020-03-24</td>\n",
              "      <td>2020-04-28</td>\n",
              "      <td>Positivo</td>\n",
              "      <td>GAL</td>\n",
              "      <td>Positivo</td>\n",
              "      <td>2020-03-23 00:00:00.000</td>\n",
              "      <td>2020-03-23 00:00:00.000</td>\n",
              "      <td>NaN</td>\n",
              "      <td>Óbito</td>\n",
              "      <td>2020-03-24 00:00:00.000</td>\n",
              "      <td>NaN</td>\n",
              "      <td>Sim</td>\n",
              "      <td>NaN</td>\n",
              "      <td>NaN</td>\n",
              "      <td>NaN</td>\n",
              "      <td>NaN</td>\n",
              "      <td>Sim</td>\n",
              "      <td>NaN</td>\n",
              "      <td>NaN</td>\n",
              "      <td>NaN</td>\n",
              "      <td>NaN</td>\n",
              "      <td>NaN</td>\n",
              "      <td>NaN</td>\n",
              "      <td>NaN</td>\n",
              "      <td>RT-PCR</td>\n",
              "      <td>2.022200e+11</td>\n",
              "      <td>Não Informado</td>\n",
              "      <td>2020-05-20 17:30:03.817</td>\n",
              "      <td>NaN</td>\n",
              "      <td>FORTALEZA</td>\n",
              "      <td>NaN</td>\n",
              "      <td>SRAG por COVID-19</td>\n",
              "      <td>NaN</td>\n",
              "      <td>RT-PCR</td>\n",
              "      <td>True</td>\n",
              "      <td>2020-03-24</td>\n",
              "      <td>Confirmado</td>\n",
              "      <td>HOSPITAL GENESIS</td>\n",
              "      <td>NaN</td>\n",
              "      <td>1</td>\n",
              "      <td>1</td>\n",
              "      <td>0</td>\n",
              "    </tr>\n",
              "    <tr>\n",
              "      <th>387717</th>\n",
              "      <td>82563a758fad9d2126eabf2d356277d6</td>\n",
              "      <td>NaN</td>\n",
              "      <td>202017974</td>\n",
              "      <td>3.158514e+11</td>\n",
              "      <td>NaN</td>\n",
              "      <td>NaN</td>\n",
              "      <td>NaN</td>\n",
              "      <td>NaN</td>\n",
              "      <td>NaN</td>\n",
              "      <td>False</td>\n",
              "      <td>BRASIL</td>\n",
              "      <td>CE</td>\n",
              "      <td>230440.0</td>\n",
              "      <td>FORTALEZA</td>\n",
              "      <td>JOVITA FEITOSA</td>\n",
              "      <td>NaN</td>\n",
              "      <td>FEMININO</td>\n",
              "      <td>97.0</td>\n",
              "      <td>80 ou mais</td>\n",
              "      <td>1923-02-03</td>\n",
              "      <td>2020-03-24</td>\n",
              "      <td>2020-03-21</td>\n",
              "      <td>NaT</td>\n",
              "      <td>2020-03-24</td>\n",
              "      <td>2020-04-28</td>\n",
              "      <td>Positivo</td>\n",
              "      <td>GAL</td>\n",
              "      <td>Positivo</td>\n",
              "      <td>2020-03-23 00:00:00.000</td>\n",
              "      <td>2020-03-23 00:00:00.000</td>\n",
              "      <td>NaN</td>\n",
              "      <td>Óbito</td>\n",
              "      <td>2020-03-24 00:00:00.000</td>\n",
              "      <td>NaN</td>\n",
              "      <td>Sim</td>\n",
              "      <td>NaN</td>\n",
              "      <td>NaN</td>\n",
              "      <td>NaN</td>\n",
              "      <td>NaN</td>\n",
              "      <td>Sim</td>\n",
              "      <td>NaN</td>\n",
              "      <td>NaN</td>\n",
              "      <td>NaN</td>\n",
              "      <td>NaN</td>\n",
              "      <td>NaN</td>\n",
              "      <td>NaN</td>\n",
              "      <td>NaN</td>\n",
              "      <td>RT-PCR</td>\n",
              "      <td>2.022200e+11</td>\n",
              "      <td>Não Informado</td>\n",
              "      <td>2020-05-20 17:30:03.817</td>\n",
              "      <td>NaN</td>\n",
              "      <td>FORTALEZA</td>\n",
              "      <td>NaN</td>\n",
              "      <td>SRAG por COVID-19</td>\n",
              "      <td>NaN</td>\n",
              "      <td>NaN</td>\n",
              "      <td>True</td>\n",
              "      <td>2020-03-24</td>\n",
              "      <td>Confirmado</td>\n",
              "      <td>HOSPITAL GENESIS</td>\n",
              "      <td>NaN</td>\n",
              "      <td>1</td>\n",
              "      <td>1</td>\n",
              "      <td>0</td>\n",
              "    </tr>\n",
              "  </tbody>\n",
              "</table>\n",
              "</div>"
            ],
            "text/plain": [
              "                       identificadorCaso  ...  qtCasoConfirmadoSemObito\n",
              "29757   ed2d67f326d60173a53ee585606b5910  ...                         0\n",
              "483497  82563a758fad9d2126eabf2d356277d6  ...                         0\n",
              "387717  82563a758fad9d2126eabf2d356277d6  ...                         0\n",
              "\n",
              "[3 rows x 65 columns]"
            ]
          },
          "metadata": {
            "tags": []
          },
          "execution_count": 29
        }
      ]
    },
    {
      "cell_type": "code",
      "metadata": {
        "colab": {
          "base_uri": "https://localhost:8080/"
        },
        "id": "AFMkHQCFHPjM",
        "outputId": "ef181e1a-dd3a-4dc6-f71e-c7c603f083cc"
      },
      "source": [
        "df_obitos.shape   # 11.852 óbitos"
      ],
      "execution_count": 30,
      "outputs": [
        {
          "output_type": "execute_result",
          "data": {
            "text/plain": [
              "(11852, 65)"
            ]
          },
          "metadata": {
            "tags": []
          },
          "execution_count": 30
        }
      ]
    },
    {
      "cell_type": "markdown",
      "metadata": {
        "id": "4igcWA2Zz9DG"
      },
      "source": [
        ""
      ]
    },
    {
      "cell_type": "code",
      "metadata": {
        "id": "O83X5TNTyHXz",
        "colab": {
          "base_uri": "https://localhost:8080/",
          "height": 416
        },
        "outputId": "642b7ad1-bbc6-4160-c43e-f4beee356c83"
      },
      "source": [
        "df_grafico_obito = df_obitos.groupby('dataObito', sort=False)[\"qtObito\"].sum().reset_index(name ='total_obito_dia')\r\n",
        "df_grafico_obito.sort_values('dataObito')"
      ],
      "execution_count": 31,
      "outputs": [
        {
          "output_type": "execute_result",
          "data": {
            "text/html": [
              "<div>\n",
              "<style scoped>\n",
              "    .dataframe tbody tr th:only-of-type {\n",
              "        vertical-align: middle;\n",
              "    }\n",
              "\n",
              "    .dataframe tbody tr th {\n",
              "        vertical-align: top;\n",
              "    }\n",
              "\n",
              "    .dataframe thead th {\n",
              "        text-align: right;\n",
              "    }\n",
              "</style>\n",
              "<table border=\"1\" class=\"dataframe\">\n",
              "  <thead>\n",
              "    <tr style=\"text-align: right;\">\n",
              "      <th></th>\n",
              "      <th>dataObito</th>\n",
              "      <th>total_obito_dia</th>\n",
              "    </tr>\n",
              "  </thead>\n",
              "  <tbody>\n",
              "    <tr>\n",
              "      <th>39</th>\n",
              "      <td>2020-03-24</td>\n",
              "      <td>4</td>\n",
              "    </tr>\n",
              "    <tr>\n",
              "      <th>287</th>\n",
              "      <td>2020-03-25</td>\n",
              "      <td>2</td>\n",
              "    </tr>\n",
              "    <tr>\n",
              "      <th>37</th>\n",
              "      <td>2020-03-26</td>\n",
              "      <td>4</td>\n",
              "    </tr>\n",
              "    <tr>\n",
              "      <th>277</th>\n",
              "      <td>2020-03-27</td>\n",
              "      <td>3</td>\n",
              "    </tr>\n",
              "    <tr>\n",
              "      <th>289</th>\n",
              "      <td>2020-03-28</td>\n",
              "      <td>2</td>\n",
              "    </tr>\n",
              "    <tr>\n",
              "      <th>...</th>\n",
              "      <td>...</td>\n",
              "      <td>...</td>\n",
              "    </tr>\n",
              "    <tr>\n",
              "      <th>266</th>\n",
              "      <td>2021-01-04</td>\n",
              "      <td>7</td>\n",
              "    </tr>\n",
              "    <tr>\n",
              "      <th>264</th>\n",
              "      <td>2021-01-05</td>\n",
              "      <td>16</td>\n",
              "    </tr>\n",
              "    <tr>\n",
              "      <th>267</th>\n",
              "      <td>2021-01-06</td>\n",
              "      <td>6</td>\n",
              "    </tr>\n",
              "    <tr>\n",
              "      <th>290</th>\n",
              "      <td>2021-01-07</td>\n",
              "      <td>2</td>\n",
              "    </tr>\n",
              "    <tr>\n",
              "      <th>281</th>\n",
              "      <td>2021-01-08</td>\n",
              "      <td>2</td>\n",
              "    </tr>\n",
              "  </tbody>\n",
              "</table>\n",
              "<p>291 rows × 2 columns</p>\n",
              "</div>"
            ],
            "text/plain": [
              "     dataObito  total_obito_dia\n",
              "39  2020-03-24                4\n",
              "287 2020-03-25                2\n",
              "37  2020-03-26                4\n",
              "277 2020-03-27                3\n",
              "289 2020-03-28                2\n",
              "..         ...              ...\n",
              "266 2021-01-04                7\n",
              "264 2021-01-05               16\n",
              "267 2021-01-06                6\n",
              "290 2021-01-07                2\n",
              "281 2021-01-08                2\n",
              "\n",
              "[291 rows x 2 columns]"
            ]
          },
          "metadata": {
            "tags": []
          },
          "execution_count": 31
        }
      ]
    },
    {
      "cell_type": "code",
      "metadata": {
        "colab": {
          "base_uri": "https://localhost:8080/",
          "height": 416
        },
        "id": "3CKAn0oYCSW-",
        "outputId": "25c3051a-f836-442b-cba9-a2caa1c60913"
      },
      "source": [
        "df_gr_obito = (pd.to_datetime(df_obitos['dataObito'])\r\n",
        "       .dt.floor('d')\r\n",
        "       .value_counts()\r\n",
        "       .rename_axis('data_obito')\r\n",
        "       .reset_index(name='total_obito_dia'))\r\n",
        "\r\n",
        "df_gr_obito.sort_values('data_obito')"
      ],
      "execution_count": 32,
      "outputs": [
        {
          "output_type": "execute_result",
          "data": {
            "text/html": [
              "<div>\n",
              "<style scoped>\n",
              "    .dataframe tbody tr th:only-of-type {\n",
              "        vertical-align: middle;\n",
              "    }\n",
              "\n",
              "    .dataframe tbody tr th {\n",
              "        vertical-align: top;\n",
              "    }\n",
              "\n",
              "    .dataframe thead th {\n",
              "        text-align: right;\n",
              "    }\n",
              "</style>\n",
              "<table border=\"1\" class=\"dataframe\">\n",
              "  <thead>\n",
              "    <tr style=\"text-align: right;\">\n",
              "      <th></th>\n",
              "      <th>data_obito</th>\n",
              "      <th>total_obito_dia</th>\n",
              "    </tr>\n",
              "  </thead>\n",
              "  <tbody>\n",
              "    <tr>\n",
              "      <th>282</th>\n",
              "      <td>2020-03-24</td>\n",
              "      <td>4</td>\n",
              "    </tr>\n",
              "    <tr>\n",
              "      <th>287</th>\n",
              "      <td>2020-03-25</td>\n",
              "      <td>2</td>\n",
              "    </tr>\n",
              "    <tr>\n",
              "      <th>283</th>\n",
              "      <td>2020-03-26</td>\n",
              "      <td>4</td>\n",
              "    </tr>\n",
              "    <tr>\n",
              "      <th>286</th>\n",
              "      <td>2020-03-27</td>\n",
              "      <td>3</td>\n",
              "    </tr>\n",
              "    <tr>\n",
              "      <th>289</th>\n",
              "      <td>2020-03-28</td>\n",
              "      <td>2</td>\n",
              "    </tr>\n",
              "    <tr>\n",
              "      <th>...</th>\n",
              "      <td>...</td>\n",
              "      <td>...</td>\n",
              "    </tr>\n",
              "    <tr>\n",
              "      <th>266</th>\n",
              "      <td>2021-01-04</td>\n",
              "      <td>7</td>\n",
              "    </tr>\n",
              "    <tr>\n",
              "      <th>173</th>\n",
              "      <td>2021-01-05</td>\n",
              "      <td>16</td>\n",
              "    </tr>\n",
              "    <tr>\n",
              "      <th>275</th>\n",
              "      <td>2021-01-06</td>\n",
              "      <td>6</td>\n",
              "    </tr>\n",
              "    <tr>\n",
              "      <th>290</th>\n",
              "      <td>2021-01-07</td>\n",
              "      <td>2</td>\n",
              "    </tr>\n",
              "    <tr>\n",
              "      <th>288</th>\n",
              "      <td>2021-01-08</td>\n",
              "      <td>2</td>\n",
              "    </tr>\n",
              "  </tbody>\n",
              "</table>\n",
              "<p>291 rows × 2 columns</p>\n",
              "</div>"
            ],
            "text/plain": [
              "    data_obito  total_obito_dia\n",
              "282 2020-03-24                4\n",
              "287 2020-03-25                2\n",
              "283 2020-03-26                4\n",
              "286 2020-03-27                3\n",
              "289 2020-03-28                2\n",
              "..         ...              ...\n",
              "266 2021-01-04                7\n",
              "173 2021-01-05               16\n",
              "275 2021-01-06                6\n",
              "290 2021-01-07                2\n",
              "288 2021-01-08                2\n",
              "\n",
              "[291 rows x 2 columns]"
            ]
          },
          "metadata": {
            "tags": []
          },
          "execution_count": 32
        }
      ]
    },
    {
      "cell_type": "code",
      "metadata": {
        "id": "Gng360Q8Cxhl"
      },
      "source": [
        "df_gr_obito['MA'] = df_gr_obito.rolling(window=7).mean()\r\n"
      ],
      "execution_count": 33,
      "outputs": []
    },
    {
      "cell_type": "code",
      "metadata": {
        "id": "qizE_3p7LWvx"
      },
      "source": [
        "df_gr_obito.sort_values('data_obito', inplace= True)"
      ],
      "execution_count": 34,
      "outputs": []
    },
    {
      "cell_type": "code",
      "metadata": {
        "id": "_bZ6Pje6258e",
        "colab": {
          "base_uri": "https://localhost:8080/",
          "height": 542
        },
        "outputId": "efc89eb6-5743-4f2f-ee14-47713c560b03"
      },
      "source": [
        "from plotly.subplots import make_subplots\r\n",
        "# Plot \r\n",
        "fig = make_subplots(specs=[[{\"secondary_y\": True}]])\r\n",
        "\r\n",
        "fig = px.bar(df_gr_obito, x='data_obito', y='total_obito_dia',)\r\n",
        "\r\n",
        "# Only thing I figured is - I could do this \r\n",
        "#fig.add_scatter(x=df_gr_conf['data_result_exame'], y= df_gr_conf['MA'])\r\n",
        "\r\n",
        "# Show plot \r\n",
        "\r\n",
        "fig.add_trace(go.Scatter(x=df_gr_obito['data_obito'], y= df_gr_obito['MA'], name='Média Móvel de óbitos de uma semana',\r\n",
        "                        line=dict(color='red',width=2)))\r\n",
        "\r\n",
        "fig.update_layout(title='Quantidade de óbitos confirmados no período',\r\n",
        "                   xaxis_title='Mês',\r\n",
        "                   yaxis_title='Quantidade de óbitos / dia')\r\n",
        "fig.show()"
      ],
      "execution_count": 36,
      "outputs": [
        {
          "output_type": "display_data",
          "data": {
            "text/html": [
              "<html>\n",
              "<head><meta charset=\"utf-8\" /></head>\n",
              "<body>\n",
              "    <div>\n",
              "            <script src=\"https://cdnjs.cloudflare.com/ajax/libs/mathjax/2.7.5/MathJax.js?config=TeX-AMS-MML_SVG\"></script><script type=\"text/javascript\">if (window.MathJax) {MathJax.Hub.Config({SVG: {font: \"STIX-Web\"}});}</script>\n",
              "                <script type=\"text/javascript\">window.PlotlyConfig = {MathJaxConfig: 'local'};</script>\n",
              "        <script src=\"https://cdn.plot.ly/plotly-latest.min.js\"></script>    \n",
              "            <div id=\"1ca04015-3892-4ebd-a081-9f57c3291b1c\" class=\"plotly-graph-div\" style=\"height:525px; width:100%;\"></div>\n",
              "            <script type=\"text/javascript\">\n",
              "                \n",
              "                    window.PLOTLYENV=window.PLOTLYENV || {};\n",
              "                    \n",
              "                if (document.getElementById(\"1ca04015-3892-4ebd-a081-9f57c3291b1c\")) {\n",
              "                    Plotly.newPlot(\n",
              "                        '1ca04015-3892-4ebd-a081-9f57c3291b1c',\n",
              "                        [{\"alignmentgroup\": \"True\", \"hoverlabel\": {\"namelength\": 0}, \"hovertemplate\": \"data_obito=%{x}<br>total_obito_dia=%{y}\", \"legendgroup\": \"\", \"marker\": {\"color\": \"#636efa\"}, \"name\": \"\", \"offsetgroup\": \"\", \"orientation\": \"v\", \"showlegend\": false, \"textposition\": \"auto\", \"type\": \"bar\", \"x\": [\"2020-03-24T00:00:00\", \"2020-03-25T00:00:00\", \"2020-03-26T00:00:00\", \"2020-03-27T00:00:00\", \"2020-03-28T00:00:00\", \"2020-03-29T00:00:00\", \"2020-03-30T00:00:00\", \"2020-03-31T00:00:00\", \"2020-04-01T00:00:00\", \"2020-04-02T00:00:00\", \"2020-04-03T00:00:00\", \"2020-04-04T00:00:00\", \"2020-04-05T00:00:00\", \"2020-04-06T00:00:00\", \"2020-04-07T00:00:00\", \"2020-04-08T00:00:00\", \"2020-04-09T00:00:00\", \"2020-04-10T00:00:00\", \"2020-04-11T00:00:00\", \"2020-04-12T00:00:00\", \"2020-04-13T00:00:00\", \"2020-04-14T00:00:00\", \"2020-04-15T00:00:00\", \"2020-04-16T00:00:00\", \"2020-04-17T00:00:00\", \"2020-04-18T00:00:00\", \"2020-04-19T00:00:00\", \"2020-04-20T00:00:00\", \"2020-04-21T00:00:00\", \"2020-04-22T00:00:00\", \"2020-04-23T00:00:00\", \"2020-04-24T00:00:00\", \"2020-04-25T00:00:00\", \"2020-04-26T00:00:00\", \"2020-04-27T00:00:00\", \"2020-04-28T00:00:00\", \"2020-04-29T00:00:00\", \"2020-04-30T00:00:00\", \"2020-05-01T00:00:00\", \"2020-05-02T00:00:00\", \"2020-05-03T00:00:00\", \"2020-05-04T00:00:00\", \"2020-05-05T00:00:00\", \"2020-05-06T00:00:00\", \"2020-05-07T00:00:00\", \"2020-05-08T00:00:00\", \"2020-05-09T00:00:00\", \"2020-05-10T00:00:00\", \"2020-05-11T00:00:00\", \"2020-05-12T00:00:00\", \"2020-05-13T00:00:00\", \"2020-05-14T00:00:00\", \"2020-05-15T00:00:00\", \"2020-05-16T00:00:00\", \"2020-05-17T00:00:00\", \"2020-05-18T00:00:00\", \"2020-05-19T00:00:00\", \"2020-05-20T00:00:00\", \"2020-05-21T00:00:00\", \"2020-05-22T00:00:00\", \"2020-05-23T00:00:00\", \"2020-05-24T00:00:00\", \"2020-05-25T00:00:00\", \"2020-05-26T00:00:00\", \"2020-05-27T00:00:00\", \"2020-05-28T00:00:00\", \"2020-05-29T00:00:00\", \"2020-05-30T00:00:00\", \"2020-05-31T00:00:00\", \"2020-06-01T00:00:00\", \"2020-06-02T00:00:00\", \"2020-06-03T00:00:00\", \"2020-06-04T00:00:00\", \"2020-06-05T00:00:00\", \"2020-06-06T00:00:00\", \"2020-06-07T00:00:00\", \"2020-06-08T00:00:00\", \"2020-06-09T00:00:00\", \"2020-06-10T00:00:00\", \"2020-06-11T00:00:00\", \"2020-06-12T00:00:00\", \"2020-06-13T00:00:00\", \"2020-06-14T00:00:00\", \"2020-06-15T00:00:00\", \"2020-06-16T00:00:00\", \"2020-06-17T00:00:00\", \"2020-06-18T00:00:00\", \"2020-06-19T00:00:00\", \"2020-06-20T00:00:00\", \"2020-06-21T00:00:00\", \"2020-06-22T00:00:00\", \"2020-06-23T00:00:00\", \"2020-06-24T00:00:00\", \"2020-06-25T00:00:00\", \"2020-06-26T00:00:00\", \"2020-06-27T00:00:00\", \"2020-06-28T00:00:00\", \"2020-06-29T00:00:00\", \"2020-06-30T00:00:00\", \"2020-07-01T00:00:00\", \"2020-07-02T00:00:00\", \"2020-07-03T00:00:00\", \"2020-07-04T00:00:00\", \"2020-07-05T00:00:00\", \"2020-07-06T00:00:00\", \"2020-07-07T00:00:00\", \"2020-07-08T00:00:00\", \"2020-07-09T00:00:00\", \"2020-07-10T00:00:00\", \"2020-07-11T00:00:00\", \"2020-07-12T00:00:00\", \"2020-07-13T00:00:00\", \"2020-07-14T00:00:00\", \"2020-07-15T00:00:00\", \"2020-07-16T00:00:00\", \"2020-07-17T00:00:00\", \"2020-07-18T00:00:00\", \"2020-07-19T00:00:00\", \"2020-07-20T00:00:00\", \"2020-07-21T00:00:00\", \"2020-07-22T00:00:00\", \"2020-07-23T00:00:00\", \"2020-07-24T00:00:00\", \"2020-07-25T00:00:00\", \"2020-07-26T00:00:00\", \"2020-07-27T00:00:00\", \"2020-07-28T00:00:00\", \"2020-07-29T00:00:00\", \"2020-07-30T00:00:00\", \"2020-07-31T00:00:00\", \"2020-08-01T00:00:00\", \"2020-08-02T00:00:00\", \"2020-08-03T00:00:00\", \"2020-08-04T00:00:00\", \"2020-08-05T00:00:00\", \"2020-08-06T00:00:00\", \"2020-08-07T00:00:00\", \"2020-08-08T00:00:00\", \"2020-08-09T00:00:00\", \"2020-08-10T00:00:00\", \"2020-08-11T00:00:00\", \"2020-08-12T00:00:00\", \"2020-08-13T00:00:00\", \"2020-08-14T00:00:00\", \"2020-08-15T00:00:00\", \"2020-08-16T00:00:00\", \"2020-08-17T00:00:00\", \"2020-08-18T00:00:00\", \"2020-08-19T00:00:00\", \"2020-08-20T00:00:00\", \"2020-08-21T00:00:00\", \"2020-08-22T00:00:00\", \"2020-08-23T00:00:00\", \"2020-08-24T00:00:00\", \"2020-08-25T00:00:00\", \"2020-08-26T00:00:00\", \"2020-08-27T00:00:00\", \"2020-08-28T00:00:00\", \"2020-08-29T00:00:00\", \"2020-08-30T00:00:00\", \"2020-08-31T00:00:00\", \"2020-09-01T00:00:00\", \"2020-09-02T00:00:00\", \"2020-09-03T00:00:00\", \"2020-09-04T00:00:00\", \"2020-09-05T00:00:00\", \"2020-09-06T00:00:00\", \"2020-09-07T00:00:00\", \"2020-09-08T00:00:00\", \"2020-09-09T00:00:00\", \"2020-09-10T00:00:00\", \"2020-09-11T00:00:00\", \"2020-09-12T00:00:00\", \"2020-09-13T00:00:00\", \"2020-09-14T00:00:00\", \"2020-09-15T00:00:00\", \"2020-09-16T00:00:00\", \"2020-09-17T00:00:00\", \"2020-09-18T00:00:00\", \"2020-09-19T00:00:00\", \"2020-09-20T00:00:00\", \"2020-09-21T00:00:00\", \"2020-09-22T00:00:00\", \"2020-09-23T00:00:00\", \"2020-09-24T00:00:00\", \"2020-09-25T00:00:00\", \"2020-09-26T00:00:00\", \"2020-09-27T00:00:00\", \"2020-09-28T00:00:00\", \"2020-09-29T00:00:00\", \"2020-09-30T00:00:00\", \"2020-10-01T00:00:00\", \"2020-10-02T00:00:00\", \"2020-10-03T00:00:00\", \"2020-10-04T00:00:00\", \"2020-10-05T00:00:00\", \"2020-10-06T00:00:00\", \"2020-10-07T00:00:00\", \"2020-10-08T00:00:00\", \"2020-10-09T00:00:00\", \"2020-10-10T00:00:00\", \"2020-10-11T00:00:00\", \"2020-10-12T00:00:00\", \"2020-10-13T00:00:00\", \"2020-10-14T00:00:00\", \"2020-10-15T00:00:00\", \"2020-10-16T00:00:00\", \"2020-10-17T00:00:00\", \"2020-10-18T00:00:00\", \"2020-10-19T00:00:00\", \"2020-10-20T00:00:00\", \"2020-10-21T00:00:00\", \"2020-10-22T00:00:00\", \"2020-10-23T00:00:00\", \"2020-10-24T00:00:00\", \"2020-10-25T00:00:00\", \"2020-10-26T00:00:00\", \"2020-10-27T00:00:00\", \"2020-10-28T00:00:00\", \"2020-10-29T00:00:00\", \"2020-10-30T00:00:00\", \"2020-10-31T00:00:00\", \"2020-11-01T00:00:00\", \"2020-11-02T00:00:00\", \"2020-11-03T00:00:00\", \"2020-11-04T00:00:00\", \"2020-11-05T00:00:00\", \"2020-11-06T00:00:00\", \"2020-11-07T00:00:00\", \"2020-11-08T00:00:00\", \"2020-11-09T00:00:00\", \"2020-11-10T00:00:00\", \"2020-11-11T00:00:00\", \"2020-11-12T00:00:00\", \"2020-11-13T00:00:00\", \"2020-11-14T00:00:00\", \"2020-11-15T00:00:00\", \"2020-11-16T00:00:00\", \"2020-11-17T00:00:00\", \"2020-11-18T00:00:00\", \"2020-11-19T00:00:00\", \"2020-11-20T00:00:00\", \"2020-11-21T00:00:00\", \"2020-11-22T00:00:00\", \"2020-11-23T00:00:00\", \"2020-11-24T00:00:00\", \"2020-11-25T00:00:00\", \"2020-11-26T00:00:00\", \"2020-11-27T00:00:00\", \"2020-11-28T00:00:00\", \"2020-11-29T00:00:00\", \"2020-11-30T00:00:00\", \"2020-12-01T00:00:00\", \"2020-12-02T00:00:00\", \"2020-12-03T00:00:00\", \"2020-12-04T00:00:00\", \"2020-12-05T00:00:00\", \"2020-12-06T00:00:00\", \"2020-12-07T00:00:00\", \"2020-12-08T00:00:00\", \"2020-12-09T00:00:00\", \"2020-12-10T00:00:00\", \"2020-12-11T00:00:00\", \"2020-12-12T00:00:00\", \"2020-12-13T00:00:00\", \"2020-12-14T00:00:00\", \"2020-12-15T00:00:00\", \"2020-12-16T00:00:00\", \"2020-12-17T00:00:00\", \"2020-12-18T00:00:00\", \"2020-12-19T00:00:00\", \"2020-12-20T00:00:00\", \"2020-12-21T00:00:00\", \"2020-12-22T00:00:00\", \"2020-12-23T00:00:00\", \"2020-12-24T00:00:00\", \"2020-12-25T00:00:00\", \"2020-12-26T00:00:00\", \"2020-12-27T00:00:00\", \"2020-12-28T00:00:00\", \"2020-12-29T00:00:00\", \"2020-12-30T00:00:00\", \"2020-12-31T00:00:00\", \"2021-01-01T00:00:00\", \"2021-01-02T00:00:00\", \"2021-01-03T00:00:00\", \"2021-01-04T00:00:00\", \"2021-01-05T00:00:00\", \"2021-01-06T00:00:00\", \"2021-01-07T00:00:00\", \"2021-01-08T00:00:00\"], \"xaxis\": \"x\", \"y\": [4, 2, 4, 3, 2, 6, 7, 3, 4, 16, 13, 7, 8, 14, 6, 12, 15, 16, 16, 18, 12, 24, 29, 21, 28, 24, 30, 37, 38, 31, 38, 59, 68, 65, 68, 68, 81, 108, 107, 123, 131, 118, 133, 123, 128, 149, 175, 145, 181, 167, 184, 153, 158, 145, 170, 169, 182, 174, 173, 154, 129, 114, 159, 111, 125, 135, 147, 91, 94, 112, 115, 70, 120, 91, 89, 83, 91, 115, 89, 79, 70, 81, 78, 83, 71, 81, 79, 64, 47, 52, 86, 60, 59, 72, 58, 65, 56, 67, 59, 57, 68, 45, 67, 57, 47, 60, 67, 58, 39, 53, 47, 45, 47, 43, 47, 50, 25, 49, 48, 51, 45, 36, 47, 56, 31, 34, 34, 39, 41, 37, 29, 38, 39, 28, 42, 30, 23, 40, 44, 34, 28, 34, 29, 23, 22, 24, 36, 32, 25, 23, 25, 23, 21, 17, 14, 17, 18, 23, 26, 28, 21, 16, 19, 18, 38, 15, 27, 32, 20, 16, 23, 26, 27, 20, 19, 19, 27, 18, 22, 18, 18, 19, 25, 25, 17, 19, 10, 29, 16, 23, 17, 13, 16, 10, 13, 23, 16, 10, 15, 9, 17, 8, 13, 13, 14, 11, 10, 8, 17, 13, 12, 7, 16, 13, 12, 19, 15, 11, 8, 12, 12, 7, 5, 11, 10, 4, 5, 6, 14, 9, 8, 12, 6, 16, 9, 6, 7, 10, 10, 4, 13, 11, 16, 15, 18, 10, 11, 14, 14, 7, 11, 10, 11, 16, 7, 9, 11, 17, 8, 8, 12, 11, 16, 18, 16, 12, 13, 10, 9, 12, 15, 11, 9, 8, 11, 6, 11, 10, 4, 9, 12, 5, 9, 10, 11, 9, 7, 16, 6, 2, 2], \"yaxis\": \"y\"}, {\"line\": {\"color\": \"red\", \"width\": 2}, \"name\": \"M\\u00e9dia M\\u00f3vel de \\u00f3bitos de uma semana\", \"type\": \"scatter\", \"x\": [\"2020-03-24T00:00:00\", \"2020-03-25T00:00:00\", \"2020-03-26T00:00:00\", \"2020-03-27T00:00:00\", \"2020-03-28T00:00:00\", \"2020-03-29T00:00:00\", \"2020-03-30T00:00:00\", \"2020-03-31T00:00:00\", \"2020-04-01T00:00:00\", \"2020-04-02T00:00:00\", \"2020-04-03T00:00:00\", \"2020-04-04T00:00:00\", \"2020-04-05T00:00:00\", \"2020-04-06T00:00:00\", \"2020-04-07T00:00:00\", \"2020-04-08T00:00:00\", \"2020-04-09T00:00:00\", \"2020-04-10T00:00:00\", \"2020-04-11T00:00:00\", \"2020-04-12T00:00:00\", \"2020-04-13T00:00:00\", \"2020-04-14T00:00:00\", \"2020-04-15T00:00:00\", \"2020-04-16T00:00:00\", \"2020-04-17T00:00:00\", \"2020-04-18T00:00:00\", \"2020-04-19T00:00:00\", \"2020-04-20T00:00:00\", \"2020-04-21T00:00:00\", \"2020-04-22T00:00:00\", \"2020-04-23T00:00:00\", \"2020-04-24T00:00:00\", \"2020-04-25T00:00:00\", \"2020-04-26T00:00:00\", \"2020-04-27T00:00:00\", \"2020-04-28T00:00:00\", \"2020-04-29T00:00:00\", \"2020-04-30T00:00:00\", \"2020-05-01T00:00:00\", \"2020-05-02T00:00:00\", \"2020-05-03T00:00:00\", \"2020-05-04T00:00:00\", \"2020-05-05T00:00:00\", \"2020-05-06T00:00:00\", \"2020-05-07T00:00:00\", \"2020-05-08T00:00:00\", \"2020-05-09T00:00:00\", \"2020-05-10T00:00:00\", \"2020-05-11T00:00:00\", \"2020-05-12T00:00:00\", \"2020-05-13T00:00:00\", \"2020-05-14T00:00:00\", \"2020-05-15T00:00:00\", \"2020-05-16T00:00:00\", \"2020-05-17T00:00:00\", \"2020-05-18T00:00:00\", \"2020-05-19T00:00:00\", \"2020-05-20T00:00:00\", \"2020-05-21T00:00:00\", \"2020-05-22T00:00:00\", \"2020-05-23T00:00:00\", \"2020-05-24T00:00:00\", \"2020-05-25T00:00:00\", \"2020-05-26T00:00:00\", \"2020-05-27T00:00:00\", \"2020-05-28T00:00:00\", \"2020-05-29T00:00:00\", \"2020-05-30T00:00:00\", \"2020-05-31T00:00:00\", \"2020-06-01T00:00:00\", \"2020-06-02T00:00:00\", \"2020-06-03T00:00:00\", \"2020-06-04T00:00:00\", \"2020-06-05T00:00:00\", \"2020-06-06T00:00:00\", \"2020-06-07T00:00:00\", \"2020-06-08T00:00:00\", \"2020-06-09T00:00:00\", \"2020-06-10T00:00:00\", \"2020-06-11T00:00:00\", \"2020-06-12T00:00:00\", \"2020-06-13T00:00:00\", \"2020-06-14T00:00:00\", \"2020-06-15T00:00:00\", \"2020-06-16T00:00:00\", \"2020-06-17T00:00:00\", \"2020-06-18T00:00:00\", \"2020-06-19T00:00:00\", \"2020-06-20T00:00:00\", \"2020-06-21T00:00:00\", \"2020-06-22T00:00:00\", \"2020-06-23T00:00:00\", \"2020-06-24T00:00:00\", \"2020-06-25T00:00:00\", \"2020-06-26T00:00:00\", \"2020-06-27T00:00:00\", \"2020-06-28T00:00:00\", \"2020-06-29T00:00:00\", \"2020-06-30T00:00:00\", \"2020-07-01T00:00:00\", \"2020-07-02T00:00:00\", \"2020-07-03T00:00:00\", \"2020-07-04T00:00:00\", \"2020-07-05T00:00:00\", \"2020-07-06T00:00:00\", \"2020-07-07T00:00:00\", \"2020-07-08T00:00:00\", \"2020-07-09T00:00:00\", \"2020-07-10T00:00:00\", \"2020-07-11T00:00:00\", \"2020-07-12T00:00:00\", \"2020-07-13T00:00:00\", \"2020-07-14T00:00:00\", \"2020-07-15T00:00:00\", \"2020-07-16T00:00:00\", \"2020-07-17T00:00:00\", \"2020-07-18T00:00:00\", \"2020-07-19T00:00:00\", \"2020-07-20T00:00:00\", \"2020-07-21T00:00:00\", \"2020-07-22T00:00:00\", \"2020-07-23T00:00:00\", \"2020-07-24T00:00:00\", \"2020-07-25T00:00:00\", \"2020-07-26T00:00:00\", \"2020-07-27T00:00:00\", \"2020-07-28T00:00:00\", \"2020-07-29T00:00:00\", \"2020-07-30T00:00:00\", \"2020-07-31T00:00:00\", \"2020-08-01T00:00:00\", \"2020-08-02T00:00:00\", \"2020-08-03T00:00:00\", \"2020-08-04T00:00:00\", \"2020-08-05T00:00:00\", \"2020-08-06T00:00:00\", \"2020-08-07T00:00:00\", \"2020-08-08T00:00:00\", \"2020-08-09T00:00:00\", \"2020-08-10T00:00:00\", \"2020-08-11T00:00:00\", \"2020-08-12T00:00:00\", \"2020-08-13T00:00:00\", \"2020-08-14T00:00:00\", \"2020-08-15T00:00:00\", \"2020-08-16T00:00:00\", \"2020-08-17T00:00:00\", \"2020-08-18T00:00:00\", \"2020-08-19T00:00:00\", \"2020-08-20T00:00:00\", \"2020-08-21T00:00:00\", \"2020-08-22T00:00:00\", \"2020-08-23T00:00:00\", \"2020-08-24T00:00:00\", \"2020-08-25T00:00:00\", \"2020-08-26T00:00:00\", \"2020-08-27T00:00:00\", \"2020-08-28T00:00:00\", \"2020-08-29T00:00:00\", \"2020-08-30T00:00:00\", \"2020-08-31T00:00:00\", \"2020-09-01T00:00:00\", \"2020-09-02T00:00:00\", \"2020-09-03T00:00:00\", \"2020-09-04T00:00:00\", \"2020-09-05T00:00:00\", \"2020-09-06T00:00:00\", \"2020-09-07T00:00:00\", \"2020-09-08T00:00:00\", \"2020-09-09T00:00:00\", \"2020-09-10T00:00:00\", \"2020-09-11T00:00:00\", \"2020-09-12T00:00:00\", \"2020-09-13T00:00:00\", \"2020-09-14T00:00:00\", \"2020-09-15T00:00:00\", \"2020-09-16T00:00:00\", \"2020-09-17T00:00:00\", \"2020-09-18T00:00:00\", \"2020-09-19T00:00:00\", \"2020-09-20T00:00:00\", \"2020-09-21T00:00:00\", \"2020-09-22T00:00:00\", \"2020-09-23T00:00:00\", \"2020-09-24T00:00:00\", \"2020-09-25T00:00:00\", \"2020-09-26T00:00:00\", \"2020-09-27T00:00:00\", \"2020-09-28T00:00:00\", \"2020-09-29T00:00:00\", \"2020-09-30T00:00:00\", \"2020-10-01T00:00:00\", \"2020-10-02T00:00:00\", \"2020-10-03T00:00:00\", \"2020-10-04T00:00:00\", \"2020-10-05T00:00:00\", \"2020-10-06T00:00:00\", \"2020-10-07T00:00:00\", \"2020-10-08T00:00:00\", \"2020-10-09T00:00:00\", \"2020-10-10T00:00:00\", \"2020-10-11T00:00:00\", \"2020-10-12T00:00:00\", \"2020-10-13T00:00:00\", \"2020-10-14T00:00:00\", \"2020-10-15T00:00:00\", \"2020-10-16T00:00:00\", \"2020-10-17T00:00:00\", \"2020-10-18T00:00:00\", \"2020-10-19T00:00:00\", \"2020-10-20T00:00:00\", \"2020-10-21T00:00:00\", \"2020-10-22T00:00:00\", \"2020-10-23T00:00:00\", \"2020-10-24T00:00:00\", \"2020-10-25T00:00:00\", \"2020-10-26T00:00:00\", \"2020-10-27T00:00:00\", \"2020-10-28T00:00:00\", \"2020-10-29T00:00:00\", \"2020-10-30T00:00:00\", \"2020-10-31T00:00:00\", \"2020-11-01T00:00:00\", \"2020-11-02T00:00:00\", \"2020-11-03T00:00:00\", \"2020-11-04T00:00:00\", \"2020-11-05T00:00:00\", \"2020-11-06T00:00:00\", \"2020-11-07T00:00:00\", \"2020-11-08T00:00:00\", \"2020-11-09T00:00:00\", \"2020-11-10T00:00:00\", \"2020-11-11T00:00:00\", \"2020-11-12T00:00:00\", \"2020-11-13T00:00:00\", \"2020-11-14T00:00:00\", \"2020-11-15T00:00:00\", \"2020-11-16T00:00:00\", \"2020-11-17T00:00:00\", \"2020-11-18T00:00:00\", \"2020-11-19T00:00:00\", \"2020-11-20T00:00:00\", \"2020-11-21T00:00:00\", \"2020-11-22T00:00:00\", \"2020-11-23T00:00:00\", \"2020-11-24T00:00:00\", \"2020-11-25T00:00:00\", \"2020-11-26T00:00:00\", \"2020-11-27T00:00:00\", \"2020-11-28T00:00:00\", \"2020-11-29T00:00:00\", \"2020-11-30T00:00:00\", \"2020-12-01T00:00:00\", \"2020-12-02T00:00:00\", \"2020-12-03T00:00:00\", \"2020-12-04T00:00:00\", \"2020-12-05T00:00:00\", \"2020-12-06T00:00:00\", \"2020-12-07T00:00:00\", \"2020-12-08T00:00:00\", \"2020-12-09T00:00:00\", \"2020-12-10T00:00:00\", \"2020-12-11T00:00:00\", \"2020-12-12T00:00:00\", \"2020-12-13T00:00:00\", \"2020-12-14T00:00:00\", \"2020-12-15T00:00:00\", \"2020-12-16T00:00:00\", \"2020-12-17T00:00:00\", \"2020-12-18T00:00:00\", \"2020-12-19T00:00:00\", \"2020-12-20T00:00:00\", \"2020-12-21T00:00:00\", \"2020-12-22T00:00:00\", \"2020-12-23T00:00:00\", \"2020-12-24T00:00:00\", \"2020-12-25T00:00:00\", \"2020-12-26T00:00:00\", \"2020-12-27T00:00:00\", \"2020-12-28T00:00:00\", \"2020-12-29T00:00:00\", \"2020-12-30T00:00:00\", \"2020-12-31T00:00:00\", \"2021-01-01T00:00:00\", \"2021-01-02T00:00:00\", \"2021-01-03T00:00:00\", \"2021-01-04T00:00:00\", \"2021-01-05T00:00:00\", \"2021-01-06T00:00:00\", \"2021-01-07T00:00:00\", \"2021-01-08T00:00:00\"], \"y\": [4.428571428571429, 3.4285714285714284, 4.285714285714286, 3.7142857142857144, 2.857142857142857, 6.428571428571429, 7.571428571428571, 3.857142857142857, 5.0, 16.0, 13.0, 7.857142857142857, 8.0, 14.714285714285714, 6.857142857142857, 12.0, 15.857142857142858, 16.0, 16.0, 18.857142857142858, 12.571428571428571, 24.714285714285715, 29.857142857142858, 21.857142857142858, 28.428571428571427, 24.571428571428573, 31.428571428571427, 38.142857142857146, 39.714285714285715, 32.57142857142857, 39.142857142857146, 62.857142857142854, 71.0, 67.14285714285714, 69.57142857142857, 72.57142857142857, 86.0, 113.28571428571429, 111.71428571428571, 127.42857142857143, 140.71428571428572, 123.71428571428571, 143.85714285714286, 129.14285714285714, 135.14285714285714, 158.42857142857142, null, 150.14285714285714, null, 172.71428571428572, null, 161.42857142857142, 167.14285714285714, 152.14285714285714, 177.0, 174.85714285714286, null, null, null, 164.28571428571428, 137.85714285714286, 118.28571428571429, 169.57142857142858, 115.0, 132.28571428571428, 146.85714285714286, 155.28571428571428, 105.28571428571429, 108.71428571428571, 116.71428571428571, 119.85714285714286, 75.71428571428571, 125.57142857142857, 99.0, 93.14285714285714, 88.57142857142857, 102.0, 121.71428571428571, 95.85714285714286, 82.0, 74.14285714285714, 84.57142857142857, 80.28571428571429, 87.42857142857143, 77.28571428571429, 83.42857142857143, 81.0, 66.14285714285714, 50.0, 55.57142857142857, 90.14285714285714, 65.0, 60.857142857142854, 78.71428571428571, 59.857142857142854, 66.71428571428571, 57.285714285714285, 67.57142857142857, 61.714285714285715, 58.57142857142857, 69.0, 46.42857142857143, 68.42857142857143, 58.142857142857146, 47.857142857142854, 64.0, 68.0, 59.0, 40.42857142857143, 56.42857142857143, 49.142857142857146, 46.142857142857146, 47.142857142857146, 45.142857142857146, 47.42857142857143, 53.57142857142857, 25.857142857142858, 52.42857142857143, 51.285714285714285, 54.57142857142857, 46.714285714285715, 37.42857142857143, 48.42857142857143, 57.714285714285715, 33.0, 35.42857142857143, 36.0, 41.142857142857146, 43.57142857142857, 37.857142857142854, 30.285714285714285, 38.714285714285715, 42.0, 28.571428571428573, 44.42857142857143, 32.0, 24.0, 42.857142857142854, 45.714285714285715, 36.57142857142857, 28.857142857142858, 35.0, 30.714285714285715, 23.285714285714285, 22.714285714285715, 25.0, 37.142857142857146, 33.714285714285715, 26.142857142857142, 23.428571428571427, 25.285714285714285, 23.0, 22.428571428571427, 17.714285714285715, 14.142857142857142, 17.285714285714285, 18.285714285714285, 24.285714285714285, 27.0, 29.142857142857142, 22.142857142857142, 16.0, 20.571428571428573, 18.0, 38.42857142857143, 15.142857142857142, 28.142857142857142, 34.285714285714285, 21.0, 16.0, 23.714285714285715, 27.285714285714285, 27.857142857142858, 21.428571428571427, 19.142857142857142, 20.142857142857142, 27.571428571428573, 18.428571428571427, 22.857142857142858, 18.571428571428573, 18.142857142857142, 19.857142857142858, 26.571428571428573, 25.571428571428573, 17.857142857142858, 19.571428571428573, 10.0, 29.571428571428573, 16.0, 23.0, 17.571428571428573, 13.714285714285714, 16.142857142857142, 10.0, 13.571428571428571, 23.142857142857142, 16.0, 10.857142857142858, 15.285714285714286, 9.571428571428571, 17.428571428571427, 8.428571428571429, 13.142857142857142, 13.857142857142858, 14.857142857142858, 11.0, 10.142857142857142, 8.857142857142858, 17.0, 13.0, 12.0, 7.0, 16.428571428571427, 13.0, 12.285714285714286, 19.285714285714285, 15.714285714285714, 11.428571428571429, 8.0, 12.857142857142858, 12.0, 7.428571428571429, 5.571428571428571, 11.0, 10.714285714285714, 4.142857142857143, 5.857142857142857, 6.285714285714286, 14.571428571428571, 9.857142857142858, 8.714285714285714, 12.0, 6.571428571428571, 16.571428571428573, 9.428571428571429, 6.142857142857143, 7.714285714285714, 10.0, 10.0, 5.285714285714286, 13.285714285714286, 11.285714285714286, 16.0, 15.571428571428571, 18.714285714285715, 10.0, 11.571428571428571, 14.428571428571429, 14.285714285714286, 7.0, 11.714285714285714, 10.285714285714286, 11.0, 16.0, 7.285714285714286, 9.0, 11.0, 17.142857142857142, 8.285714285714286, 8.142857142857142, 12.428571428571429, 11.0, 16.285714285714285, 18.0, 16.857142857142858, 12.142857142857142, 13.428571428571429, 10.571428571428571, 9.0, 12.0, 15.428571428571429, 11.142857142857142, 9.0, 8.571428571428571, 11.0, 6.714285714285714, 11.857142857142858, 10.428571428571429, 4.714285714285714, 9.714285714285714, 12.714285714285714, 5.714285714285714, 9.285714285714286, 10.0, 11.0, 9.142857142857142, 7.142857142857143, 16.714285714285715, 6.0, 2.5714285714285716, 3.142857142857143]}],\n",
              "                        {\"barmode\": \"relative\", \"legend\": {\"tracegroupgap\": 0}, \"margin\": {\"t\": 60}, \"template\": {\"data\": {\"bar\": [{\"error_x\": {\"color\": \"#2a3f5f\"}, \"error_y\": {\"color\": \"#2a3f5f\"}, \"marker\": {\"line\": {\"color\": \"#E5ECF6\", \"width\": 0.5}}, \"type\": \"bar\"}], \"barpolar\": [{\"marker\": {\"line\": {\"color\": \"#E5ECF6\", \"width\": 0.5}}, \"type\": \"barpolar\"}], \"carpet\": [{\"aaxis\": {\"endlinecolor\": \"#2a3f5f\", \"gridcolor\": \"white\", \"linecolor\": \"white\", \"minorgridcolor\": \"white\", \"startlinecolor\": \"#2a3f5f\"}, \"baxis\": {\"endlinecolor\": \"#2a3f5f\", \"gridcolor\": \"white\", \"linecolor\": \"white\", \"minorgridcolor\": \"white\", \"startlinecolor\": \"#2a3f5f\"}, \"type\": \"carpet\"}], \"choropleth\": [{\"colorbar\": {\"outlinewidth\": 0, \"ticks\": \"\"}, \"type\": \"choropleth\"}], \"contour\": [{\"colorbar\": {\"outlinewidth\": 0, \"ticks\": \"\"}, \"colorscale\": [[0.0, \"#0d0887\"], [0.1111111111111111, \"#46039f\"], [0.2222222222222222, \"#7201a8\"], [0.3333333333333333, \"#9c179e\"], [0.4444444444444444, \"#bd3786\"], [0.5555555555555556, \"#d8576b\"], [0.6666666666666666, \"#ed7953\"], [0.7777777777777778, \"#fb9f3a\"], [0.8888888888888888, \"#fdca26\"], [1.0, \"#f0f921\"]], \"type\": \"contour\"}], \"contourcarpet\": [{\"colorbar\": {\"outlinewidth\": 0, \"ticks\": \"\"}, \"type\": \"contourcarpet\"}], \"heatmap\": [{\"colorbar\": {\"outlinewidth\": 0, \"ticks\": \"\"}, \"colorscale\": [[0.0, \"#0d0887\"], [0.1111111111111111, \"#46039f\"], [0.2222222222222222, \"#7201a8\"], [0.3333333333333333, \"#9c179e\"], [0.4444444444444444, \"#bd3786\"], [0.5555555555555556, \"#d8576b\"], [0.6666666666666666, \"#ed7953\"], [0.7777777777777778, \"#fb9f3a\"], [0.8888888888888888, \"#fdca26\"], [1.0, \"#f0f921\"]], \"type\": \"heatmap\"}], \"heatmapgl\": [{\"colorbar\": {\"outlinewidth\": 0, \"ticks\": \"\"}, \"colorscale\": [[0.0, \"#0d0887\"], [0.1111111111111111, \"#46039f\"], [0.2222222222222222, \"#7201a8\"], [0.3333333333333333, \"#9c179e\"], [0.4444444444444444, \"#bd3786\"], [0.5555555555555556, \"#d8576b\"], [0.6666666666666666, \"#ed7953\"], [0.7777777777777778, \"#fb9f3a\"], [0.8888888888888888, \"#fdca26\"], [1.0, \"#f0f921\"]], \"type\": \"heatmapgl\"}], \"histogram\": [{\"marker\": {\"colorbar\": {\"outlinewidth\": 0, \"ticks\": \"\"}}, \"type\": \"histogram\"}], \"histogram2d\": [{\"colorbar\": {\"outlinewidth\": 0, \"ticks\": \"\"}, \"colorscale\": [[0.0, \"#0d0887\"], [0.1111111111111111, \"#46039f\"], [0.2222222222222222, \"#7201a8\"], [0.3333333333333333, \"#9c179e\"], [0.4444444444444444, \"#bd3786\"], [0.5555555555555556, \"#d8576b\"], [0.6666666666666666, \"#ed7953\"], [0.7777777777777778, \"#fb9f3a\"], [0.8888888888888888, \"#fdca26\"], [1.0, \"#f0f921\"]], \"type\": \"histogram2d\"}], \"histogram2dcontour\": [{\"colorbar\": {\"outlinewidth\": 0, \"ticks\": \"\"}, \"colorscale\": [[0.0, \"#0d0887\"], [0.1111111111111111, \"#46039f\"], [0.2222222222222222, \"#7201a8\"], [0.3333333333333333, \"#9c179e\"], [0.4444444444444444, \"#bd3786\"], [0.5555555555555556, \"#d8576b\"], [0.6666666666666666, \"#ed7953\"], [0.7777777777777778, \"#fb9f3a\"], [0.8888888888888888, \"#fdca26\"], [1.0, \"#f0f921\"]], \"type\": \"histogram2dcontour\"}], \"mesh3d\": [{\"colorbar\": {\"outlinewidth\": 0, \"ticks\": \"\"}, \"type\": \"mesh3d\"}], \"parcoords\": [{\"line\": {\"colorbar\": {\"outlinewidth\": 0, \"ticks\": \"\"}}, \"type\": \"parcoords\"}], \"pie\": [{\"automargin\": true, \"type\": \"pie\"}], \"scatter\": [{\"marker\": {\"colorbar\": {\"outlinewidth\": 0, \"ticks\": \"\"}}, \"type\": \"scatter\"}], \"scatter3d\": [{\"line\": {\"colorbar\": {\"outlinewidth\": 0, \"ticks\": \"\"}}, \"marker\": {\"colorbar\": {\"outlinewidth\": 0, \"ticks\": \"\"}}, \"type\": \"scatter3d\"}], \"scattercarpet\": [{\"marker\": {\"colorbar\": {\"outlinewidth\": 0, \"ticks\": \"\"}}, \"type\": \"scattercarpet\"}], \"scattergeo\": [{\"marker\": {\"colorbar\": {\"outlinewidth\": 0, \"ticks\": \"\"}}, \"type\": \"scattergeo\"}], \"scattergl\": [{\"marker\": {\"colorbar\": {\"outlinewidth\": 0, \"ticks\": \"\"}}, \"type\": \"scattergl\"}], \"scattermapbox\": [{\"marker\": {\"colorbar\": {\"outlinewidth\": 0, \"ticks\": \"\"}}, \"type\": \"scattermapbox\"}], \"scatterpolar\": [{\"marker\": {\"colorbar\": {\"outlinewidth\": 0, \"ticks\": \"\"}}, \"type\": \"scatterpolar\"}], \"scatterpolargl\": [{\"marker\": {\"colorbar\": {\"outlinewidth\": 0, \"ticks\": \"\"}}, \"type\": \"scatterpolargl\"}], \"scatterternary\": [{\"marker\": {\"colorbar\": {\"outlinewidth\": 0, \"ticks\": \"\"}}, \"type\": \"scatterternary\"}], \"surface\": [{\"colorbar\": {\"outlinewidth\": 0, \"ticks\": \"\"}, \"colorscale\": [[0.0, \"#0d0887\"], [0.1111111111111111, \"#46039f\"], [0.2222222222222222, \"#7201a8\"], [0.3333333333333333, \"#9c179e\"], [0.4444444444444444, \"#bd3786\"], [0.5555555555555556, \"#d8576b\"], [0.6666666666666666, \"#ed7953\"], [0.7777777777777778, \"#fb9f3a\"], [0.8888888888888888, \"#fdca26\"], [1.0, \"#f0f921\"]], \"type\": \"surface\"}], \"table\": [{\"cells\": {\"fill\": {\"color\": \"#EBF0F8\"}, \"line\": {\"color\": \"white\"}}, \"header\": {\"fill\": {\"color\": \"#C8D4E3\"}, \"line\": {\"color\": \"white\"}}, \"type\": \"table\"}]}, \"layout\": {\"annotationdefaults\": {\"arrowcolor\": \"#2a3f5f\", \"arrowhead\": 0, \"arrowwidth\": 1}, \"coloraxis\": {\"colorbar\": {\"outlinewidth\": 0, \"ticks\": \"\"}}, \"colorscale\": {\"diverging\": [[0, \"#8e0152\"], [0.1, \"#c51b7d\"], [0.2, \"#de77ae\"], [0.3, \"#f1b6da\"], [0.4, \"#fde0ef\"], [0.5, \"#f7f7f7\"], [0.6, \"#e6f5d0\"], [0.7, \"#b8e186\"], [0.8, \"#7fbc41\"], [0.9, \"#4d9221\"], [1, \"#276419\"]], \"sequential\": [[0.0, \"#0d0887\"], [0.1111111111111111, \"#46039f\"], [0.2222222222222222, \"#7201a8\"], [0.3333333333333333, \"#9c179e\"], [0.4444444444444444, \"#bd3786\"], [0.5555555555555556, \"#d8576b\"], [0.6666666666666666, \"#ed7953\"], [0.7777777777777778, \"#fb9f3a\"], [0.8888888888888888, \"#fdca26\"], [1.0, \"#f0f921\"]], \"sequentialminus\": [[0.0, \"#0d0887\"], [0.1111111111111111, \"#46039f\"], [0.2222222222222222, \"#7201a8\"], [0.3333333333333333, \"#9c179e\"], [0.4444444444444444, \"#bd3786\"], [0.5555555555555556, \"#d8576b\"], [0.6666666666666666, \"#ed7953\"], [0.7777777777777778, \"#fb9f3a\"], [0.8888888888888888, \"#fdca26\"], [1.0, \"#f0f921\"]]}, \"colorway\": [\"#636efa\", \"#EF553B\", \"#00cc96\", \"#ab63fa\", \"#FFA15A\", \"#19d3f3\", \"#FF6692\", \"#B6E880\", \"#FF97FF\", \"#FECB52\"], \"font\": {\"color\": \"#2a3f5f\"}, \"geo\": {\"bgcolor\": \"white\", \"lakecolor\": \"white\", \"landcolor\": \"#E5ECF6\", \"showlakes\": true, \"showland\": true, \"subunitcolor\": \"white\"}, \"hoverlabel\": {\"align\": \"left\"}, \"hovermode\": \"closest\", \"mapbox\": {\"style\": \"light\"}, \"paper_bgcolor\": \"white\", \"plot_bgcolor\": \"#E5ECF6\", \"polar\": {\"angularaxis\": {\"gridcolor\": \"white\", \"linecolor\": \"white\", \"ticks\": \"\"}, \"bgcolor\": \"#E5ECF6\", \"radialaxis\": {\"gridcolor\": \"white\", \"linecolor\": \"white\", \"ticks\": \"\"}}, \"scene\": {\"xaxis\": {\"backgroundcolor\": \"#E5ECF6\", \"gridcolor\": \"white\", \"gridwidth\": 2, \"linecolor\": \"white\", \"showbackground\": true, \"ticks\": \"\", \"zerolinecolor\": \"white\"}, \"yaxis\": {\"backgroundcolor\": \"#E5ECF6\", \"gridcolor\": \"white\", \"gridwidth\": 2, \"linecolor\": \"white\", \"showbackground\": true, \"ticks\": \"\", \"zerolinecolor\": \"white\"}, \"zaxis\": {\"backgroundcolor\": \"#E5ECF6\", \"gridcolor\": \"white\", \"gridwidth\": 2, \"linecolor\": \"white\", \"showbackground\": true, \"ticks\": \"\", \"zerolinecolor\": \"white\"}}, \"shapedefaults\": {\"line\": {\"color\": \"#2a3f5f\"}}, \"ternary\": {\"aaxis\": {\"gridcolor\": \"white\", \"linecolor\": \"white\", \"ticks\": \"\"}, \"baxis\": {\"gridcolor\": \"white\", \"linecolor\": \"white\", \"ticks\": \"\"}, \"bgcolor\": \"#E5ECF6\", \"caxis\": {\"gridcolor\": \"white\", \"linecolor\": \"white\", \"ticks\": \"\"}}, \"title\": {\"x\": 0.05}, \"xaxis\": {\"automargin\": true, \"gridcolor\": \"white\", \"linecolor\": \"white\", \"ticks\": \"\", \"title\": {\"standoff\": 15}, \"zerolinecolor\": \"white\", \"zerolinewidth\": 2}, \"yaxis\": {\"automargin\": true, \"gridcolor\": \"white\", \"linecolor\": \"white\", \"ticks\": \"\", \"title\": {\"standoff\": 15}, \"zerolinecolor\": \"white\", \"zerolinewidth\": 2}}}, \"title\": {\"text\": \"Quantidade de \\u00f3bitos confirmados no per\\u00edodo\"}, \"xaxis\": {\"anchor\": \"y\", \"domain\": [0.0, 1.0], \"title\": {\"text\": \"M\\u00eas\"}}, \"yaxis\": {\"anchor\": \"x\", \"domain\": [0.0, 1.0], \"title\": {\"text\": \"Quantidade de \\u00f3bitos / dia\"}}},\n",
              "                        {\"responsive\": true}\n",
              "                    ).then(function(){\n",
              "                            \n",
              "var gd = document.getElementById('1ca04015-3892-4ebd-a081-9f57c3291b1c');\n",
              "var x = new MutationObserver(function (mutations, observer) {{\n",
              "        var display = window.getComputedStyle(gd).display;\n",
              "        if (!display || display === 'none') {{\n",
              "            console.log([gd, 'removed!']);\n",
              "            Plotly.purge(gd);\n",
              "            observer.disconnect();\n",
              "        }}\n",
              "}});\n",
              "\n",
              "// Listen for the removal of the full notebook cells\n",
              "var notebookContainer = gd.closest('#notebook-container');\n",
              "if (notebookContainer) {{\n",
              "    x.observe(notebookContainer, {childList: true});\n",
              "}}\n",
              "\n",
              "// Listen for the clearing of the current output cell\n",
              "var outputEl = gd.closest('.output');\n",
              "if (outputEl) {{\n",
              "    x.observe(outputEl, {childList: true});\n",
              "}}\n",
              "\n",
              "                        })\n",
              "                };\n",
              "                \n",
              "            </script>\n",
              "        </div>\n",
              "</body>\n",
              "</html>"
            ]
          },
          "metadata": {
            "tags": []
          }
        }
      ]
    },
    {
      "cell_type": "markdown",
      "metadata": {
        "id": "o9herWK7yUQE"
      },
      "source": [
        "**1.5 Gráfico de óbitos por dia**"
      ]
    },
    {
      "cell_type": "code",
      "metadata": {
        "id": "Wqz3_L2OyN3t",
        "colab": {
          "base_uri": "https://localhost:8080/",
          "height": 542
        },
        "outputId": "c49c83af-6262-4da8-e0e7-3c95ea3723a6"
      },
      "source": [
        "fig = go.Figure(data=[\r\n",
        "    go.Bar(x= df_grafico_obito['dataObito'], y= df_grafico_obito['total_obito_dia'], marker=dict(color='orangered')),\r\n",
        "])\r\n",
        "\r\n",
        "# gráfico\r\n",
        "fig.update_layout(\r\n",
        "    title='Total de óbitos de Covid-19 por dia no estado do Ceará',\r\n",
        "    xaxis_tickfont_size=24,\r\n",
        "    xaxis = dict(\r\n",
        "        title='Período',\r\n",
        "        titlefont_size=16,\r\n",
        "        tickfont_size=14,\r\n",
        "    ),\r\n",
        "    yaxis = dict(\r\n",
        "        title='Número de óbitos',\r\n",
        "        titlefont_size=16,\r\n",
        "        tickfont_size=14,\r\n",
        "    ), xaxis_tickangle=90)\r\n",
        "\r\n",
        "fig.show()"
      ],
      "execution_count": 37,
      "outputs": [
        {
          "output_type": "display_data",
          "data": {
            "text/html": [
              "<html>\n",
              "<head><meta charset=\"utf-8\" /></head>\n",
              "<body>\n",
              "    <div>\n",
              "            <script src=\"https://cdnjs.cloudflare.com/ajax/libs/mathjax/2.7.5/MathJax.js?config=TeX-AMS-MML_SVG\"></script><script type=\"text/javascript\">if (window.MathJax) {MathJax.Hub.Config({SVG: {font: \"STIX-Web\"}});}</script>\n",
              "                <script type=\"text/javascript\">window.PlotlyConfig = {MathJaxConfig: 'local'};</script>\n",
              "        <script src=\"https://cdn.plot.ly/plotly-latest.min.js\"></script>    \n",
              "            <div id=\"fabe7267-f28b-44a0-adfb-1a71014bdee7\" class=\"plotly-graph-div\" style=\"height:525px; width:100%;\"></div>\n",
              "            <script type=\"text/javascript\">\n",
              "                \n",
              "                    window.PLOTLYENV=window.PLOTLYENV || {};\n",
              "                    \n",
              "                if (document.getElementById(\"fabe7267-f28b-44a0-adfb-1a71014bdee7\")) {\n",
              "                    Plotly.newPlot(\n",
              "                        'fabe7267-f28b-44a0-adfb-1a71014bdee7',\n",
              "                        [{\"marker\": {\"color\": \"orangered\"}, \"type\": \"bar\", \"x\": [\"2020-10-08T00:00:00\", \"2020-12-01T00:00:00\", \"2020-08-16T00:00:00\", \"2020-07-15T00:00:00\", \"2020-06-17T00:00:00\", \"2020-08-06T00:00:00\", \"2020-10-20T00:00:00\", \"2020-12-14T00:00:00\", \"2020-05-05T00:00:00\", \"2020-04-20T00:00:00\", \"2020-05-14T00:00:00\", \"2020-05-28T00:00:00\", \"2020-05-15T00:00:00\", \"2020-05-24T00:00:00\", \"2020-06-26T00:00:00\", \"2020-05-12T00:00:00\", \"2020-05-01T00:00:00\", \"2020-05-11T00:00:00\", \"2020-05-13T00:00:00\", \"2020-05-10T00:00:00\", \"2020-05-09T00:00:00\", \"2020-05-08T00:00:00\", \"2020-05-07T00:00:00\", \"2020-05-06T00:00:00\", \"2020-05-17T00:00:00\", \"2020-05-16T00:00:00\", \"2020-05-18T00:00:00\", \"2020-04-30T00:00:00\", \"2020-04-26T00:00:00\", \"2020-04-22T00:00:00\", \"2020-05-03T00:00:00\", \"2020-04-10T00:00:00\", \"2020-05-19T00:00:00\", \"2020-05-20T00:00:00\", \"2020-04-29T00:00:00\", \"2020-04-18T00:00:00\", \"2020-03-30T00:00:00\", \"2020-03-26T00:00:00\", \"2020-03-29T00:00:00\", \"2020-03-24T00:00:00\", \"2020-04-02T00:00:00\", \"2020-04-06T00:00:00\", \"2020-04-12T00:00:00\", \"2020-04-04T00:00:00\", \"2020-03-31T00:00:00\", \"2020-04-08T00:00:00\", \"2020-04-03T00:00:00\", \"2020-04-11T00:00:00\", \"2020-04-09T00:00:00\", \"2020-04-13T00:00:00\", \"2020-04-14T00:00:00\", \"2020-04-15T00:00:00\", \"2020-04-16T00:00:00\", \"2020-04-24T00:00:00\", \"2020-04-19T00:00:00\", \"2020-04-07T00:00:00\", \"2020-04-21T00:00:00\", \"2020-04-23T00:00:00\", \"2020-05-02T00:00:00\", \"2020-04-17T00:00:00\", \"2020-04-25T00:00:00\", \"2020-04-27T00:00:00\", \"2020-04-28T00:00:00\", \"2020-05-21T00:00:00\", \"2020-05-22T00:00:00\", \"2020-05-23T00:00:00\", \"2020-05-04T00:00:00\", \"2020-05-25T00:00:00\", \"2020-05-27T00:00:00\", \"2020-05-26T00:00:00\", \"2020-05-29T00:00:00\", \"2020-05-30T00:00:00\", \"2020-06-01T00:00:00\", \"2020-05-31T00:00:00\", \"2020-06-19T00:00:00\", \"2020-06-02T00:00:00\", \"2020-06-04T00:00:00\", \"2020-06-06T00:00:00\", \"2020-06-05T00:00:00\", \"2020-06-07T00:00:00\", \"2020-06-09T00:00:00\", \"2020-06-08T00:00:00\", \"2020-06-11T00:00:00\", \"2020-06-13T00:00:00\", \"2020-06-12T00:00:00\", \"2020-06-03T00:00:00\", \"2020-06-10T00:00:00\", \"2020-06-14T00:00:00\", \"2020-06-15T00:00:00\", \"2020-06-16T00:00:00\", \"2020-06-18T00:00:00\", \"2020-06-21T00:00:00\", \"2020-06-20T00:00:00\", \"2020-06-22T00:00:00\", \"2020-06-23T00:00:00\", \"2020-06-24T00:00:00\", \"2020-06-27T00:00:00\", \"2020-06-25T00:00:00\", \"2020-07-02T00:00:00\", \"2020-06-28T00:00:00\", \"2020-06-29T00:00:00\", \"2020-06-30T00:00:00\", \"2020-07-01T00:00:00\", \"2020-07-03T00:00:00\", \"2020-07-04T00:00:00\", \"2020-07-05T00:00:00\", \"2020-07-06T00:00:00\", \"2020-07-07T00:00:00\", \"2020-07-08T00:00:00\", \"2020-07-10T00:00:00\", \"2020-07-09T00:00:00\", \"2020-07-11T00:00:00\", \"2020-07-13T00:00:00\", \"2020-07-12T00:00:00\", \"2020-07-21T00:00:00\", \"2020-07-16T00:00:00\", \"2020-07-17T00:00:00\", \"2020-07-19T00:00:00\", \"2020-07-20T00:00:00\", \"2020-07-22T00:00:00\", \"2020-07-23T00:00:00\", \"2020-07-24T00:00:00\", \"2020-07-25T00:00:00\", \"2020-07-27T00:00:00\", \"2020-07-28T00:00:00\", \"2020-07-29T00:00:00\", \"2020-07-31T00:00:00\", \"2020-08-01T00:00:00\", \"2020-08-03T00:00:00\", \"2020-08-02T00:00:00\", \"2020-08-05T00:00:00\", \"2020-08-04T00:00:00\", \"2020-08-07T00:00:00\", \"2020-08-09T00:00:00\", \"2020-08-10T00:00:00\", \"2020-08-12T00:00:00\", \"2020-08-17T00:00:00\", \"2020-08-29T00:00:00\", \"2020-08-18T00:00:00\", \"2020-08-22T00:00:00\", \"2020-08-26T00:00:00\", \"2020-08-28T00:00:00\", \"2020-08-30T00:00:00\", \"2020-09-05T00:00:00\", \"2020-08-20T00:00:00\", \"2020-09-04T00:00:00\", \"2020-09-08T00:00:00\", \"2020-09-09T00:00:00\", \"2020-09-06T00:00:00\", \"2020-09-10T00:00:00\", \"2020-09-07T00:00:00\", \"2020-09-14T00:00:00\", \"2020-09-11T00:00:00\", \"2020-09-16T00:00:00\", \"2020-09-18T00:00:00\", \"2020-09-22T00:00:00\", \"2020-09-24T00:00:00\", \"2020-09-28T00:00:00\", \"2020-10-05T00:00:00\", \"2020-10-04T00:00:00\", \"2020-10-14T00:00:00\", \"2020-10-18T00:00:00\", \"2020-10-13T00:00:00\", \"2020-10-19T00:00:00\", \"2020-10-24T00:00:00\", \"2020-10-10T00:00:00\", \"2020-10-26T00:00:00\", \"2020-11-02T00:00:00\", \"2020-11-08T00:00:00\", \"2020-11-03T00:00:00\", \"2020-11-07T00:00:00\", \"2020-11-19T00:00:00\", \"2020-11-29T00:00:00\", \"2020-11-26T00:00:00\", \"2020-07-14T00:00:00\", \"2020-07-18T00:00:00\", \"2020-07-26T00:00:00\", \"2020-07-30T00:00:00\", \"2020-08-15T00:00:00\", \"2020-08-08T00:00:00\", \"2020-08-11T00:00:00\", \"2020-08-13T00:00:00\", \"2020-08-14T00:00:00\", \"2020-08-19T00:00:00\", \"2020-08-23T00:00:00\", \"2020-08-24T00:00:00\", \"2020-08-25T00:00:00\", \"2020-08-27T00:00:00\", \"2020-08-21T00:00:00\", \"2020-08-31T00:00:00\", \"2020-11-28T00:00:00\", \"2020-09-01T00:00:00\", \"2020-09-03T00:00:00\", \"2020-09-12T00:00:00\", \"2020-09-21T00:00:00\", \"2020-09-02T00:00:00\", \"2020-09-19T00:00:00\", \"2020-09-23T00:00:00\", \"2020-09-17T00:00:00\", \"2020-09-26T00:00:00\", \"2020-09-20T00:00:00\", \"2020-09-13T00:00:00\", \"2020-09-25T00:00:00\", \"2020-09-30T00:00:00\", \"2020-09-29T00:00:00\", \"2020-09-27T00:00:00\", \"2020-10-03T00:00:00\", \"2020-10-02T00:00:00\", \"2020-10-01T00:00:00\", \"2020-10-06T00:00:00\", \"2020-10-11T00:00:00\", \"2020-10-09T00:00:00\", \"2020-10-12T00:00:00\", \"2020-10-17T00:00:00\", \"2020-10-23T00:00:00\", \"2020-10-25T00:00:00\", \"2020-10-15T00:00:00\", \"2020-10-21T00:00:00\", \"2020-10-28T00:00:00\", \"2020-11-04T00:00:00\", \"2020-11-10T00:00:00\", \"2020-10-30T00:00:00\", \"2020-11-11T00:00:00\", \"2020-11-12T00:00:00\", \"2020-10-29T00:00:00\", \"2020-10-22T00:00:00\", \"2020-11-06T00:00:00\", \"2020-10-27T00:00:00\", \"2020-11-14T00:00:00\", \"2020-11-15T00:00:00\", \"2020-11-17T00:00:00\", \"2020-11-23T00:00:00\", \"2020-11-22T00:00:00\", \"2020-11-24T00:00:00\", \"2020-12-03T00:00:00\", \"2020-12-04T00:00:00\", \"2020-12-05T00:00:00\", \"2020-12-06T00:00:00\", \"2020-12-10T00:00:00\", \"2020-12-09T00:00:00\", \"2020-12-07T00:00:00\", \"2020-12-11T00:00:00\", \"2020-12-12T00:00:00\", \"2020-12-15T00:00:00\", \"2020-12-13T00:00:00\", \"2020-12-16T00:00:00\", \"2020-12-18T00:00:00\", \"2020-12-20T00:00:00\", \"2020-12-17T00:00:00\", \"2020-12-19T00:00:00\", \"2020-12-27T00:00:00\", \"2020-12-28T00:00:00\", \"2020-12-22T00:00:00\", \"2020-12-21T00:00:00\", \"2020-12-26T00:00:00\", \"2020-12-29T00:00:00\", \"2020-12-25T00:00:00\", \"2020-11-27T00:00:00\", \"2020-11-21T00:00:00\", \"2021-01-01T00:00:00\", \"2020-12-02T00:00:00\", \"2020-12-30T00:00:00\", \"2021-01-02T00:00:00\", \"2020-11-25T00:00:00\", \"2021-01-05T00:00:00\", \"2020-12-23T00:00:00\", \"2021-01-04T00:00:00\", \"2021-01-06T00:00:00\", \"2020-09-15T00:00:00\", \"2020-11-13T00:00:00\", \"2020-11-16T00:00:00\", \"2020-11-09T00:00:00\", \"2021-01-03T00:00:00\", \"2020-10-07T00:00:00\", \"2020-04-01T00:00:00\", \"2020-11-20T00:00:00\", \"2020-11-30T00:00:00\", \"2020-03-27T00:00:00\", \"2020-10-16T00:00:00\", \"2020-10-31T00:00:00\", \"2020-04-05T00:00:00\", \"2021-01-08T00:00:00\", \"2020-12-08T00:00:00\", \"2020-12-24T00:00:00\", \"2020-12-31T00:00:00\", \"2020-11-18T00:00:00\", \"2020-11-01T00:00:00\", \"2020-03-25T00:00:00\", \"2020-11-05T00:00:00\", \"2020-03-28T00:00:00\", \"2021-01-07T00:00:00\"], \"y\": [15, 11, 24, 43, 81, 30, 12, 12, 133, 37, 153, 135, 158, 114, 58, 167, 107, 181, 184, 145, 175, 149, 128, 123, 170, 145, 169, 108, 65, 31, 131, 16, 182, 174, 81, 24, 7, 4, 6, 4, 16, 14, 18, 7, 3, 12, 13, 16, 15, 12, 24, 29, 21, 59, 30, 6, 38, 38, 123, 28, 68, 68, 68, 173, 154, 129, 118, 159, 125, 111, 147, 91, 112, 94, 64, 115, 120, 89, 91, 83, 115, 91, 79, 81, 70, 70, 89, 78, 83, 71, 79, 52, 47, 86, 60, 59, 65, 72, 68, 56, 67, 59, 57, 45, 67, 57, 47, 60, 67, 39, 58, 53, 45, 47, 51, 47, 50, 49, 48, 45, 36, 47, 56, 34, 34, 39, 37, 29, 39, 38, 42, 28, 23, 44, 34, 34, 36, 26, 32, 23, 17, 23, 28, 15, 23, 38, 20, 16, 27, 23, 32, 19, 26, 27, 22, 25, 17, 16, 23, 13, 14, 17, 13, 13, 12, 17, 15, 11, 9, 10, 14, 13, 11, 14, 47, 25, 31, 41, 22, 40, 28, 29, 23, 25, 21, 17, 14, 18, 25, 21, 7, 16, 18, 27, 19, 19, 18, 25, 18, 10, 18, 20, 19, 17, 23, 29, 10, 16, 13, 16, 8, 9, 13, 8, 13, 19, 11, 7, 8, 4, 12, 12, 6, 16, 12, 16, 6, 11, 6, 7, 10, 18, 15, 10, 7, 9, 11, 17, 11, 12, 8, 16, 18, 13, 16, 10, 12, 11, 9, 15, 4, 9, 8, 9, 10, 12, 11, 14, 16, 10, 16, 5, 11, 11, 16, 11, 7, 6, 19, 9, 10, 8, 9, 10, 4, 11, 10, 3, 10, 7, 8, 2, 8, 6, 9, 4, 5, 2, 5, 2, 2]}],\n",
              "                        {\"template\": {\"data\": {\"bar\": [{\"error_x\": {\"color\": \"#2a3f5f\"}, \"error_y\": {\"color\": \"#2a3f5f\"}, \"marker\": {\"line\": {\"color\": \"#E5ECF6\", \"width\": 0.5}}, \"type\": \"bar\"}], \"barpolar\": [{\"marker\": {\"line\": {\"color\": \"#E5ECF6\", \"width\": 0.5}}, \"type\": \"barpolar\"}], \"carpet\": [{\"aaxis\": {\"endlinecolor\": \"#2a3f5f\", \"gridcolor\": \"white\", \"linecolor\": \"white\", \"minorgridcolor\": \"white\", \"startlinecolor\": \"#2a3f5f\"}, \"baxis\": {\"endlinecolor\": \"#2a3f5f\", \"gridcolor\": \"white\", \"linecolor\": \"white\", \"minorgridcolor\": \"white\", \"startlinecolor\": \"#2a3f5f\"}, \"type\": \"carpet\"}], \"choropleth\": [{\"colorbar\": {\"outlinewidth\": 0, \"ticks\": \"\"}, \"type\": \"choropleth\"}], \"contour\": [{\"colorbar\": {\"outlinewidth\": 0, \"ticks\": \"\"}, \"colorscale\": [[0.0, \"#0d0887\"], [0.1111111111111111, \"#46039f\"], [0.2222222222222222, \"#7201a8\"], [0.3333333333333333, \"#9c179e\"], [0.4444444444444444, \"#bd3786\"], [0.5555555555555556, \"#d8576b\"], [0.6666666666666666, \"#ed7953\"], [0.7777777777777778, \"#fb9f3a\"], [0.8888888888888888, \"#fdca26\"], [1.0, \"#f0f921\"]], \"type\": \"contour\"}], \"contourcarpet\": [{\"colorbar\": {\"outlinewidth\": 0, \"ticks\": \"\"}, \"type\": \"contourcarpet\"}], \"heatmap\": [{\"colorbar\": {\"outlinewidth\": 0, \"ticks\": \"\"}, \"colorscale\": [[0.0, \"#0d0887\"], [0.1111111111111111, \"#46039f\"], [0.2222222222222222, \"#7201a8\"], [0.3333333333333333, \"#9c179e\"], [0.4444444444444444, \"#bd3786\"], [0.5555555555555556, \"#d8576b\"], [0.6666666666666666, \"#ed7953\"], [0.7777777777777778, \"#fb9f3a\"], [0.8888888888888888, \"#fdca26\"], [1.0, \"#f0f921\"]], \"type\": \"heatmap\"}], \"heatmapgl\": [{\"colorbar\": {\"outlinewidth\": 0, \"ticks\": \"\"}, \"colorscale\": [[0.0, \"#0d0887\"], [0.1111111111111111, \"#46039f\"], [0.2222222222222222, \"#7201a8\"], [0.3333333333333333, \"#9c179e\"], [0.4444444444444444, \"#bd3786\"], [0.5555555555555556, \"#d8576b\"], [0.6666666666666666, \"#ed7953\"], [0.7777777777777778, \"#fb9f3a\"], [0.8888888888888888, \"#fdca26\"], [1.0, \"#f0f921\"]], \"type\": \"heatmapgl\"}], \"histogram\": [{\"marker\": {\"colorbar\": {\"outlinewidth\": 0, \"ticks\": \"\"}}, \"type\": \"histogram\"}], \"histogram2d\": [{\"colorbar\": {\"outlinewidth\": 0, \"ticks\": \"\"}, \"colorscale\": [[0.0, \"#0d0887\"], [0.1111111111111111, \"#46039f\"], [0.2222222222222222, \"#7201a8\"], [0.3333333333333333, \"#9c179e\"], [0.4444444444444444, \"#bd3786\"], [0.5555555555555556, \"#d8576b\"], [0.6666666666666666, \"#ed7953\"], [0.7777777777777778, \"#fb9f3a\"], [0.8888888888888888, \"#fdca26\"], [1.0, \"#f0f921\"]], \"type\": \"histogram2d\"}], \"histogram2dcontour\": [{\"colorbar\": {\"outlinewidth\": 0, \"ticks\": \"\"}, \"colorscale\": [[0.0, \"#0d0887\"], [0.1111111111111111, \"#46039f\"], [0.2222222222222222, \"#7201a8\"], [0.3333333333333333, \"#9c179e\"], [0.4444444444444444, \"#bd3786\"], [0.5555555555555556, \"#d8576b\"], [0.6666666666666666, \"#ed7953\"], [0.7777777777777778, \"#fb9f3a\"], [0.8888888888888888, \"#fdca26\"], [1.0, \"#f0f921\"]], \"type\": \"histogram2dcontour\"}], \"mesh3d\": [{\"colorbar\": {\"outlinewidth\": 0, \"ticks\": \"\"}, \"type\": \"mesh3d\"}], \"parcoords\": [{\"line\": {\"colorbar\": {\"outlinewidth\": 0, \"ticks\": \"\"}}, \"type\": \"parcoords\"}], \"pie\": [{\"automargin\": true, \"type\": \"pie\"}], \"scatter\": [{\"marker\": {\"colorbar\": {\"outlinewidth\": 0, \"ticks\": \"\"}}, \"type\": \"scatter\"}], \"scatter3d\": [{\"line\": {\"colorbar\": {\"outlinewidth\": 0, \"ticks\": \"\"}}, \"marker\": {\"colorbar\": {\"outlinewidth\": 0, \"ticks\": \"\"}}, \"type\": \"scatter3d\"}], \"scattercarpet\": [{\"marker\": {\"colorbar\": {\"outlinewidth\": 0, \"ticks\": \"\"}}, \"type\": \"scattercarpet\"}], \"scattergeo\": [{\"marker\": {\"colorbar\": {\"outlinewidth\": 0, \"ticks\": \"\"}}, \"type\": \"scattergeo\"}], \"scattergl\": [{\"marker\": {\"colorbar\": {\"outlinewidth\": 0, \"ticks\": \"\"}}, \"type\": \"scattergl\"}], \"scattermapbox\": [{\"marker\": {\"colorbar\": {\"outlinewidth\": 0, \"ticks\": \"\"}}, \"type\": \"scattermapbox\"}], \"scatterpolar\": [{\"marker\": {\"colorbar\": {\"outlinewidth\": 0, \"ticks\": \"\"}}, \"type\": \"scatterpolar\"}], \"scatterpolargl\": [{\"marker\": {\"colorbar\": {\"outlinewidth\": 0, \"ticks\": \"\"}}, \"type\": \"scatterpolargl\"}], \"scatterternary\": [{\"marker\": {\"colorbar\": {\"outlinewidth\": 0, \"ticks\": \"\"}}, \"type\": \"scatterternary\"}], \"surface\": [{\"colorbar\": {\"outlinewidth\": 0, \"ticks\": \"\"}, \"colorscale\": [[0.0, \"#0d0887\"], [0.1111111111111111, \"#46039f\"], [0.2222222222222222, \"#7201a8\"], [0.3333333333333333, \"#9c179e\"], [0.4444444444444444, \"#bd3786\"], [0.5555555555555556, \"#d8576b\"], [0.6666666666666666, \"#ed7953\"], [0.7777777777777778, \"#fb9f3a\"], [0.8888888888888888, \"#fdca26\"], [1.0, \"#f0f921\"]], \"type\": \"surface\"}], \"table\": [{\"cells\": {\"fill\": {\"color\": \"#EBF0F8\"}, \"line\": {\"color\": \"white\"}}, \"header\": {\"fill\": {\"color\": \"#C8D4E3\"}, \"line\": {\"color\": \"white\"}}, \"type\": \"table\"}]}, \"layout\": {\"annotationdefaults\": {\"arrowcolor\": \"#2a3f5f\", \"arrowhead\": 0, \"arrowwidth\": 1}, \"coloraxis\": {\"colorbar\": {\"outlinewidth\": 0, \"ticks\": \"\"}}, \"colorscale\": {\"diverging\": [[0, \"#8e0152\"], [0.1, \"#c51b7d\"], [0.2, \"#de77ae\"], [0.3, \"#f1b6da\"], [0.4, \"#fde0ef\"], [0.5, \"#f7f7f7\"], [0.6, \"#e6f5d0\"], [0.7, \"#b8e186\"], [0.8, \"#7fbc41\"], [0.9, \"#4d9221\"], [1, \"#276419\"]], \"sequential\": [[0.0, \"#0d0887\"], [0.1111111111111111, \"#46039f\"], [0.2222222222222222, \"#7201a8\"], [0.3333333333333333, \"#9c179e\"], [0.4444444444444444, \"#bd3786\"], [0.5555555555555556, \"#d8576b\"], [0.6666666666666666, \"#ed7953\"], [0.7777777777777778, \"#fb9f3a\"], [0.8888888888888888, \"#fdca26\"], [1.0, \"#f0f921\"]], \"sequentialminus\": [[0.0, \"#0d0887\"], [0.1111111111111111, \"#46039f\"], [0.2222222222222222, \"#7201a8\"], [0.3333333333333333, \"#9c179e\"], [0.4444444444444444, \"#bd3786\"], [0.5555555555555556, \"#d8576b\"], [0.6666666666666666, \"#ed7953\"], [0.7777777777777778, \"#fb9f3a\"], [0.8888888888888888, \"#fdca26\"], [1.0, \"#f0f921\"]]}, \"colorway\": [\"#636efa\", \"#EF553B\", \"#00cc96\", \"#ab63fa\", \"#FFA15A\", \"#19d3f3\", \"#FF6692\", \"#B6E880\", \"#FF97FF\", \"#FECB52\"], \"font\": {\"color\": \"#2a3f5f\"}, \"geo\": {\"bgcolor\": \"white\", \"lakecolor\": \"white\", \"landcolor\": \"#E5ECF6\", \"showlakes\": true, \"showland\": true, \"subunitcolor\": \"white\"}, \"hoverlabel\": {\"align\": \"left\"}, \"hovermode\": \"closest\", \"mapbox\": {\"style\": \"light\"}, \"paper_bgcolor\": \"white\", \"plot_bgcolor\": \"#E5ECF6\", \"polar\": {\"angularaxis\": {\"gridcolor\": \"white\", \"linecolor\": \"white\", \"ticks\": \"\"}, \"bgcolor\": \"#E5ECF6\", \"radialaxis\": {\"gridcolor\": \"white\", \"linecolor\": \"white\", \"ticks\": \"\"}}, \"scene\": {\"xaxis\": {\"backgroundcolor\": \"#E5ECF6\", \"gridcolor\": \"white\", \"gridwidth\": 2, \"linecolor\": \"white\", \"showbackground\": true, \"ticks\": \"\", \"zerolinecolor\": \"white\"}, \"yaxis\": {\"backgroundcolor\": \"#E5ECF6\", \"gridcolor\": \"white\", \"gridwidth\": 2, \"linecolor\": \"white\", \"showbackground\": true, \"ticks\": \"\", \"zerolinecolor\": \"white\"}, \"zaxis\": {\"backgroundcolor\": \"#E5ECF6\", \"gridcolor\": \"white\", \"gridwidth\": 2, \"linecolor\": \"white\", \"showbackground\": true, \"ticks\": \"\", \"zerolinecolor\": \"white\"}}, \"shapedefaults\": {\"line\": {\"color\": \"#2a3f5f\"}}, \"ternary\": {\"aaxis\": {\"gridcolor\": \"white\", \"linecolor\": \"white\", \"ticks\": \"\"}, \"baxis\": {\"gridcolor\": \"white\", \"linecolor\": \"white\", \"ticks\": \"\"}, \"bgcolor\": \"#E5ECF6\", \"caxis\": {\"gridcolor\": \"white\", \"linecolor\": \"white\", \"ticks\": \"\"}}, \"title\": {\"x\": 0.05}, \"xaxis\": {\"automargin\": true, \"gridcolor\": \"white\", \"linecolor\": \"white\", \"ticks\": \"\", \"title\": {\"standoff\": 15}, \"zerolinecolor\": \"white\", \"zerolinewidth\": 2}, \"yaxis\": {\"automargin\": true, \"gridcolor\": \"white\", \"linecolor\": \"white\", \"ticks\": \"\", \"title\": {\"standoff\": 15}, \"zerolinecolor\": \"white\", \"zerolinewidth\": 2}}}, \"title\": {\"text\": \"Total de \\u00f3bitos de Covid-19 por dia no estado do Cear\\u00e1\"}, \"xaxis\": {\"tickangle\": 90, \"tickfont\": {\"size\": 14}, \"title\": {\"font\": {\"size\": 16}, \"text\": \"Per\\u00edodo\"}}, \"yaxis\": {\"tickfont\": {\"size\": 14}, \"title\": {\"font\": {\"size\": 16}, \"text\": \"N\\u00famero de \\u00f3bitos\"}}},\n",
              "                        {\"responsive\": true}\n",
              "                    ).then(function(){\n",
              "                            \n",
              "var gd = document.getElementById('fabe7267-f28b-44a0-adfb-1a71014bdee7');\n",
              "var x = new MutationObserver(function (mutations, observer) {{\n",
              "        var display = window.getComputedStyle(gd).display;\n",
              "        if (!display || display === 'none') {{\n",
              "            console.log([gd, 'removed!']);\n",
              "            Plotly.purge(gd);\n",
              "            observer.disconnect();\n",
              "        }}\n",
              "}});\n",
              "\n",
              "// Listen for the removal of the full notebook cells\n",
              "var notebookContainer = gd.closest('#notebook-container');\n",
              "if (notebookContainer) {{\n",
              "    x.observe(notebookContainer, {childList: true});\n",
              "}}\n",
              "\n",
              "// Listen for the clearing of the current output cell\n",
              "var outputEl = gd.closest('.output');\n",
              "if (outputEl) {{\n",
              "    x.observe(outputEl, {childList: true});\n",
              "}}\n",
              "\n",
              "                        })\n",
              "                };\n",
              "                \n",
              "            </script>\n",
              "        </div>\n",
              "</body>\n",
              "</html>"
            ]
          },
          "metadata": {
            "tags": []
          }
        }
      ]
    },
    {
      "cell_type": "markdown",
      "metadata": {
        "id": "Ue51iophIPTJ"
      },
      "source": [
        "**Metodo para agrupar casos confirmados por dia**"
      ]
    },
    {
      "cell_type": "code",
      "metadata": {
        "colab": {
          "base_uri": "https://localhost:8080/",
          "height": 416
        },
        "id": "CTN_wDjzbfe8",
        "outputId": "f4a3fd06-8bb5-4710-8751-2ea09ea9aca4"
      },
      "source": [
        "# https://stackoverflow.com/questions/48961892/python-pandas-group-by-day-and-count-for-each-day\r\n",
        "\r\n",
        "df_gr_conf = (pd.to_datetime(df_confirmados['dataResultadoExame'])\r\n",
        "       .dt.floor('d')\r\n",
        "       .value_counts()\r\n",
        "       .rename_axis('data_result_exame')\r\n",
        "       .reset_index(name='count'))\r\n",
        "#print (df_gr_conf)\r\n",
        "df_gr_conf.sort_values('data_result_exame')"
      ],
      "execution_count": 38,
      "outputs": [
        {
          "output_type": "execute_result",
          "data": {
            "text/html": [
              "<div>\n",
              "<style scoped>\n",
              "    .dataframe tbody tr th:only-of-type {\n",
              "        vertical-align: middle;\n",
              "    }\n",
              "\n",
              "    .dataframe tbody tr th {\n",
              "        vertical-align: top;\n",
              "    }\n",
              "\n",
              "    .dataframe thead th {\n",
              "        text-align: right;\n",
              "    }\n",
              "</style>\n",
              "<table border=\"1\" class=\"dataframe\">\n",
              "  <thead>\n",
              "    <tr style=\"text-align: right;\">\n",
              "      <th></th>\n",
              "      <th>data_result_exame</th>\n",
              "      <th>count</th>\n",
              "    </tr>\n",
              "  </thead>\n",
              "  <tbody>\n",
              "    <tr>\n",
              "      <th>319</th>\n",
              "      <td>2020-01-01</td>\n",
              "      <td>5</td>\n",
              "    </tr>\n",
              "    <tr>\n",
              "      <th>308</th>\n",
              "      <td>2020-01-02</td>\n",
              "      <td>7</td>\n",
              "    </tr>\n",
              "    <tr>\n",
              "      <th>314</th>\n",
              "      <td>2020-01-03</td>\n",
              "      <td>5</td>\n",
              "    </tr>\n",
              "    <tr>\n",
              "      <th>301</th>\n",
              "      <td>2020-01-04</td>\n",
              "      <td>18</td>\n",
              "    </tr>\n",
              "    <tr>\n",
              "      <th>304</th>\n",
              "      <td>2020-01-05</td>\n",
              "      <td>15</td>\n",
              "    </tr>\n",
              "    <tr>\n",
              "      <th>...</th>\n",
              "      <td>...</td>\n",
              "      <td>...</td>\n",
              "    </tr>\n",
              "    <tr>\n",
              "      <th>194</th>\n",
              "      <td>2021-01-06</td>\n",
              "      <td>944</td>\n",
              "    </tr>\n",
              "    <tr>\n",
              "      <th>163</th>\n",
              "      <td>2021-01-07</td>\n",
              "      <td>1165</td>\n",
              "    </tr>\n",
              "    <tr>\n",
              "      <th>187</th>\n",
              "      <td>2021-01-08</td>\n",
              "      <td>1027</td>\n",
              "    </tr>\n",
              "    <tr>\n",
              "      <th>278</th>\n",
              "      <td>2021-01-09</td>\n",
              "      <td>213</td>\n",
              "    </tr>\n",
              "    <tr>\n",
              "      <th>290</th>\n",
              "      <td>2021-01-10</td>\n",
              "      <td>99</td>\n",
              "    </tr>\n",
              "  </tbody>\n",
              "</table>\n",
              "<p>357 rows × 2 columns</p>\n",
              "</div>"
            ],
            "text/plain": [
              "    data_result_exame  count\n",
              "319        2020-01-01      5\n",
              "308        2020-01-02      7\n",
              "314        2020-01-03      5\n",
              "301        2020-01-04     18\n",
              "304        2020-01-05     15\n",
              "..                ...    ...\n",
              "194        2021-01-06    944\n",
              "163        2021-01-07   1165\n",
              "187        2021-01-08   1027\n",
              "278        2021-01-09    213\n",
              "290        2021-01-10     99\n",
              "\n",
              "[357 rows x 2 columns]"
            ]
          },
          "metadata": {
            "tags": []
          },
          "execution_count": 38
        }
      ]
    },
    {
      "cell_type": "code",
      "metadata": {
        "id": "f0_foLPxfBwd"
      },
      "source": [
        "df_gr_conf['MA'] = df_gr_conf.rolling(window=7).mean()\r\n",
        "df_gr_conf.sort_values('data_result_exame', inplace= True)"
      ],
      "execution_count": 39,
      "outputs": []
    },
    {
      "cell_type": "code",
      "metadata": {
        "colab": {
          "base_uri": "https://localhost:8080/",
          "height": 416
        },
        "id": "wKHvafjyNRu1",
        "outputId": "18bcda87-64af-478d-dde6-3201daa86f6c"
      },
      "source": [
        "df_gr_conf"
      ],
      "execution_count": 40,
      "outputs": [
        {
          "output_type": "execute_result",
          "data": {
            "text/html": [
              "<div>\n",
              "<style scoped>\n",
              "    .dataframe tbody tr th:only-of-type {\n",
              "        vertical-align: middle;\n",
              "    }\n",
              "\n",
              "    .dataframe tbody tr th {\n",
              "        vertical-align: top;\n",
              "    }\n",
              "\n",
              "    .dataframe thead th {\n",
              "        text-align: right;\n",
              "    }\n",
              "</style>\n",
              "<table border=\"1\" class=\"dataframe\">\n",
              "  <thead>\n",
              "    <tr style=\"text-align: right;\">\n",
              "      <th></th>\n",
              "      <th>data_result_exame</th>\n",
              "      <th>count</th>\n",
              "      <th>MA</th>\n",
              "    </tr>\n",
              "  </thead>\n",
              "  <tbody>\n",
              "    <tr>\n",
              "      <th>319</th>\n",
              "      <td>2020-01-01</td>\n",
              "      <td>5</td>\n",
              "      <td>5.000000</td>\n",
              "    </tr>\n",
              "    <tr>\n",
              "      <th>308</th>\n",
              "      <td>2020-01-02</td>\n",
              "      <td>7</td>\n",
              "      <td>12.142857</td>\n",
              "    </tr>\n",
              "    <tr>\n",
              "      <th>314</th>\n",
              "      <td>2020-01-03</td>\n",
              "      <td>5</td>\n",
              "      <td>5.857143</td>\n",
              "    </tr>\n",
              "    <tr>\n",
              "      <th>301</th>\n",
              "      <td>2020-01-04</td>\n",
              "      <td>18</td>\n",
              "      <td>39.428571</td>\n",
              "    </tr>\n",
              "    <tr>\n",
              "      <th>304</th>\n",
              "      <td>2020-01-05</td>\n",
              "      <td>15</td>\n",
              "      <td>22.285714</td>\n",
              "    </tr>\n",
              "    <tr>\n",
              "      <th>...</th>\n",
              "      <td>...</td>\n",
              "      <td>...</td>\n",
              "      <td>...</td>\n",
              "    </tr>\n",
              "    <tr>\n",
              "      <th>194</th>\n",
              "      <td>2021-01-06</td>\n",
              "      <td>944</td>\n",
              "      <td>976.428571</td>\n",
              "    </tr>\n",
              "    <tr>\n",
              "      <th>163</th>\n",
              "      <td>2021-01-07</td>\n",
              "      <td>1165</td>\n",
              "      <td>1183.571429</td>\n",
              "    </tr>\n",
              "    <tr>\n",
              "      <th>187</th>\n",
              "      <td>2021-01-08</td>\n",
              "      <td>1027</td>\n",
              "      <td>1046.000000</td>\n",
              "    </tr>\n",
              "    <tr>\n",
              "      <th>278</th>\n",
              "      <td>2021-01-09</td>\n",
              "      <td>213</td>\n",
              "      <td>237.285714</td>\n",
              "    </tr>\n",
              "    <tr>\n",
              "      <th>290</th>\n",
              "      <td>2021-01-10</td>\n",
              "      <td>99</td>\n",
              "      <td>113.571429</td>\n",
              "    </tr>\n",
              "  </tbody>\n",
              "</table>\n",
              "<p>357 rows × 3 columns</p>\n",
              "</div>"
            ],
            "text/plain": [
              "    data_result_exame  count           MA\n",
              "319        2020-01-01      5     5.000000\n",
              "308        2020-01-02      7    12.142857\n",
              "314        2020-01-03      5     5.857143\n",
              "301        2020-01-04     18    39.428571\n",
              "304        2020-01-05     15    22.285714\n",
              "..                ...    ...          ...\n",
              "194        2021-01-06    944   976.428571\n",
              "163        2021-01-07   1165  1183.571429\n",
              "187        2021-01-08   1027  1046.000000\n",
              "278        2021-01-09    213   237.285714\n",
              "290        2021-01-10     99   113.571429\n",
              "\n",
              "[357 rows x 3 columns]"
            ]
          },
          "metadata": {
            "tags": []
          },
          "execution_count": 40
        }
      ]
    },
    {
      "cell_type": "code",
      "metadata": {
        "colab": {
          "base_uri": "https://localhost:8080/",
          "height": 542
        },
        "id": "yjacLQn8mIZ_",
        "outputId": "1591f143-e804-44bd-fec1-d2f63f81e058"
      },
      "source": [
        "from plotly.subplots import make_subplots\r\n",
        "# Plot \r\n",
        "fig = make_subplots(specs=[[{\"secondary_y\": True}]])\r\n",
        "\r\n",
        "fig = px.bar(df_gr_conf, x='data_result_exame', y='count',)\r\n",
        "\r\n",
        "# Only thing I figured is - I could do this \r\n",
        "#fig.add_scatter(x=df_gr_conf['data_result_exame'], y= df_gr_conf['MA'])\r\n",
        "\r\n",
        "# Show plot \r\n",
        "\r\n",
        "fig.add_trace(go.Scatter(x=df_gr_conf['data_result_exame'], y= df_gr_conf['MA'], name='Média Móvel de uma semana',\r\n",
        "                        line=dict(color='red',width=2)))\r\n",
        "\r\n",
        "fig.update_layout(title='Quantidade de casos confirmados no período',\r\n",
        "                   xaxis_title='Mês',\r\n",
        "                   yaxis_title='Quantidade de casos / dia')\r\n",
        "fig.show()"
      ],
      "execution_count": 41,
      "outputs": [
        {
          "output_type": "display_data",
          "data": {
            "text/html": [
              "<html>\n",
              "<head><meta charset=\"utf-8\" /></head>\n",
              "<body>\n",
              "    <div>\n",
              "            <script src=\"https://cdnjs.cloudflare.com/ajax/libs/mathjax/2.7.5/MathJax.js?config=TeX-AMS-MML_SVG\"></script><script type=\"text/javascript\">if (window.MathJax) {MathJax.Hub.Config({SVG: {font: \"STIX-Web\"}});}</script>\n",
              "                <script type=\"text/javascript\">window.PlotlyConfig = {MathJaxConfig: 'local'};</script>\n",
              "        <script src=\"https://cdn.plot.ly/plotly-latest.min.js\"></script>    \n",
              "            <div id=\"1f7973c3-c1fc-42fb-9d15-9ef956fee60d\" class=\"plotly-graph-div\" style=\"height:525px; width:100%;\"></div>\n",
              "            <script type=\"text/javascript\">\n",
              "                \n",
              "                    window.PLOTLYENV=window.PLOTLYENV || {};\n",
              "                    \n",
              "                if (document.getElementById(\"1f7973c3-c1fc-42fb-9d15-9ef956fee60d\")) {\n",
              "                    Plotly.newPlot(\n",
              "                        '1f7973c3-c1fc-42fb-9d15-9ef956fee60d',\n",
              "                        [{\"alignmentgroup\": \"True\", \"hoverlabel\": {\"namelength\": 0}, \"hovertemplate\": \"data_result_exame=%{x}<br>count=%{y}\", \"legendgroup\": \"\", \"marker\": {\"color\": \"#636efa\"}, \"name\": \"\", \"offsetgroup\": \"\", \"orientation\": \"v\", \"showlegend\": false, \"textposition\": \"auto\", \"type\": \"bar\", \"x\": [\"2020-01-01T00:00:00\", \"2020-01-02T00:00:00\", \"2020-01-03T00:00:00\", \"2020-01-04T00:00:00\", \"2020-01-05T00:00:00\", \"2020-01-06T00:00:00\", \"2020-01-07T00:00:00\", \"2020-01-08T00:00:00\", \"2020-01-11T00:00:00\", \"2020-01-16T00:00:00\", \"2020-01-18T00:00:00\", \"2020-01-20T00:00:00\", \"2020-01-24T00:00:00\", \"2020-01-26T00:00:00\", \"2020-01-29T00:00:00\", \"2020-01-30T00:00:00\", \"2020-02-02T00:00:00\", \"2020-02-03T00:00:00\", \"2020-02-04T00:00:00\", \"2020-02-05T00:00:00\", \"2020-02-06T00:00:00\", \"2020-02-07T00:00:00\", \"2020-02-08T00:00:00\", \"2020-02-09T00:00:00\", \"2020-02-10T00:00:00\", \"2020-02-12T00:00:00\", \"2020-02-13T00:00:00\", \"2020-02-14T00:00:00\", \"2020-02-15T00:00:00\", \"2020-02-16T00:00:00\", \"2020-02-17T00:00:00\", \"2020-02-18T00:00:00\", \"2020-02-20T00:00:00\", \"2020-02-21T00:00:00\", \"2020-02-22T00:00:00\", \"2020-02-24T00:00:00\", \"2020-02-25T00:00:00\", \"2020-02-26T00:00:00\", \"2020-02-27T00:00:00\", \"2020-02-28T00:00:00\", \"2020-02-29T00:00:00\", \"2020-03-01T00:00:00\", \"2020-03-02T00:00:00\", \"2020-03-03T00:00:00\", \"2020-03-04T00:00:00\", \"2020-03-05T00:00:00\", \"2020-03-06T00:00:00\", \"2020-03-07T00:00:00\", \"2020-03-08T00:00:00\", \"2020-03-09T00:00:00\", \"2020-03-10T00:00:00\", \"2020-03-11T00:00:00\", \"2020-03-12T00:00:00\", \"2020-03-13T00:00:00\", \"2020-03-14T00:00:00\", \"2020-03-15T00:00:00\", \"2020-03-16T00:00:00\", \"2020-03-17T00:00:00\", \"2020-03-18T00:00:00\", \"2020-03-19T00:00:00\", \"2020-03-20T00:00:00\", \"2020-03-21T00:00:00\", \"2020-03-22T00:00:00\", \"2020-03-23T00:00:00\", \"2020-03-24T00:00:00\", \"2020-03-25T00:00:00\", \"2020-03-26T00:00:00\", \"2020-03-27T00:00:00\", \"2020-03-28T00:00:00\", \"2020-03-29T00:00:00\", \"2020-03-30T00:00:00\", \"2020-03-31T00:00:00\", \"2020-04-01T00:00:00\", \"2020-04-02T00:00:00\", \"2020-04-03T00:00:00\", \"2020-04-04T00:00:00\", \"2020-04-05T00:00:00\", \"2020-04-06T00:00:00\", \"2020-04-07T00:00:00\", \"2020-04-08T00:00:00\", \"2020-04-09T00:00:00\", \"2020-04-10T00:00:00\", \"2020-04-11T00:00:00\", \"2020-04-12T00:00:00\", \"2020-04-13T00:00:00\", \"2020-04-14T00:00:00\", \"2020-04-15T00:00:00\", \"2020-04-16T00:00:00\", \"2020-04-17T00:00:00\", \"2020-04-18T00:00:00\", \"2020-04-19T00:00:00\", \"2020-04-20T00:00:00\", \"2020-04-21T00:00:00\", \"2020-04-22T00:00:00\", \"2020-04-23T00:00:00\", \"2020-04-24T00:00:00\", \"2020-04-25T00:00:00\", \"2020-04-26T00:00:00\", \"2020-04-27T00:00:00\", \"2020-04-28T00:00:00\", \"2020-04-29T00:00:00\", \"2020-04-30T00:00:00\", \"2020-05-01T00:00:00\", \"2020-05-02T00:00:00\", \"2020-05-03T00:00:00\", \"2020-05-04T00:00:00\", \"2020-05-05T00:00:00\", \"2020-05-06T00:00:00\", \"2020-05-07T00:00:00\", \"2020-05-08T00:00:00\", \"2020-05-09T00:00:00\", \"2020-05-10T00:00:00\", \"2020-05-11T00:00:00\", \"2020-05-12T00:00:00\", \"2020-05-13T00:00:00\", \"2020-05-14T00:00:00\", \"2020-05-15T00:00:00\", \"2020-05-16T00:00:00\", \"2020-05-17T00:00:00\", \"2020-05-18T00:00:00\", \"2020-05-19T00:00:00\", \"2020-05-20T00:00:00\", \"2020-05-21T00:00:00\", \"2020-05-22T00:00:00\", \"2020-05-23T00:00:00\", \"2020-05-24T00:00:00\", \"2020-05-25T00:00:00\", \"2020-05-26T00:00:00\", \"2020-05-27T00:00:00\", \"2020-05-28T00:00:00\", \"2020-05-29T00:00:00\", \"2020-05-30T00:00:00\", \"2020-05-31T00:00:00\", \"2020-06-01T00:00:00\", \"2020-06-02T00:00:00\", \"2020-06-03T00:00:00\", \"2020-06-04T00:00:00\", \"2020-06-05T00:00:00\", \"2020-06-06T00:00:00\", \"2020-06-07T00:00:00\", \"2020-06-08T00:00:00\", \"2020-06-09T00:00:00\", \"2020-06-10T00:00:00\", \"2020-06-11T00:00:00\", \"2020-06-12T00:00:00\", \"2020-06-13T00:00:00\", \"2020-06-14T00:00:00\", \"2020-06-15T00:00:00\", \"2020-06-16T00:00:00\", \"2020-06-17T00:00:00\", \"2020-06-18T00:00:00\", \"2020-06-19T00:00:00\", \"2020-06-20T00:00:00\", \"2020-06-21T00:00:00\", \"2020-06-22T00:00:00\", \"2020-06-23T00:00:00\", \"2020-06-24T00:00:00\", \"2020-06-25T00:00:00\", \"2020-06-26T00:00:00\", \"2020-06-27T00:00:00\", \"2020-06-28T00:00:00\", \"2020-06-29T00:00:00\", \"2020-06-30T00:00:00\", \"2020-07-01T00:00:00\", \"2020-07-02T00:00:00\", \"2020-07-03T00:00:00\", \"2020-07-04T00:00:00\", \"2020-07-05T00:00:00\", \"2020-07-06T00:00:00\", \"2020-07-07T00:00:00\", \"2020-07-08T00:00:00\", \"2020-07-09T00:00:00\", \"2020-07-10T00:00:00\", \"2020-07-11T00:00:00\", \"2020-07-12T00:00:00\", \"2020-07-13T00:00:00\", \"2020-07-14T00:00:00\", \"2020-07-15T00:00:00\", \"2020-07-16T00:00:00\", \"2020-07-17T00:00:00\", \"2020-07-18T00:00:00\", \"2020-07-19T00:00:00\", \"2020-07-20T00:00:00\", \"2020-07-21T00:00:00\", \"2020-07-22T00:00:00\", \"2020-07-23T00:00:00\", \"2020-07-24T00:00:00\", \"2020-07-25T00:00:00\", \"2020-07-26T00:00:00\", \"2020-07-27T00:00:00\", \"2020-07-28T00:00:00\", \"2020-07-29T00:00:00\", \"2020-07-30T00:00:00\", \"2020-07-31T00:00:00\", \"2020-08-01T00:00:00\", \"2020-08-02T00:00:00\", \"2020-08-03T00:00:00\", \"2020-08-04T00:00:00\", \"2020-08-05T00:00:00\", \"2020-08-06T00:00:00\", \"2020-08-07T00:00:00\", \"2020-08-08T00:00:00\", \"2020-08-09T00:00:00\", \"2020-08-10T00:00:00\", \"2020-08-11T00:00:00\", \"2020-08-12T00:00:00\", \"2020-08-13T00:00:00\", \"2020-08-14T00:00:00\", \"2020-08-15T00:00:00\", \"2020-08-16T00:00:00\", \"2020-08-17T00:00:00\", \"2020-08-18T00:00:00\", \"2020-08-19T00:00:00\", \"2020-08-20T00:00:00\", \"2020-08-21T00:00:00\", \"2020-08-22T00:00:00\", \"2020-08-23T00:00:00\", \"2020-08-24T00:00:00\", \"2020-08-25T00:00:00\", \"2020-08-26T00:00:00\", \"2020-08-27T00:00:00\", \"2020-08-28T00:00:00\", \"2020-08-29T00:00:00\", \"2020-08-30T00:00:00\", \"2020-08-31T00:00:00\", \"2020-09-01T00:00:00\", \"2020-09-02T00:00:00\", \"2020-09-03T00:00:00\", \"2020-09-04T00:00:00\", \"2020-09-05T00:00:00\", \"2020-09-06T00:00:00\", \"2020-09-07T00:00:00\", \"2020-09-08T00:00:00\", \"2020-09-09T00:00:00\", \"2020-09-10T00:00:00\", \"2020-09-11T00:00:00\", \"2020-09-12T00:00:00\", \"2020-09-13T00:00:00\", \"2020-09-14T00:00:00\", \"2020-09-15T00:00:00\", \"2020-09-16T00:00:00\", \"2020-09-17T00:00:00\", \"2020-09-18T00:00:00\", \"2020-09-19T00:00:00\", \"2020-09-20T00:00:00\", \"2020-09-21T00:00:00\", \"2020-09-22T00:00:00\", \"2020-09-23T00:00:00\", \"2020-09-24T00:00:00\", \"2020-09-25T00:00:00\", \"2020-09-26T00:00:00\", \"2020-09-27T00:00:00\", \"2020-09-28T00:00:00\", \"2020-09-29T00:00:00\", \"2020-09-30T00:00:00\", \"2020-10-01T00:00:00\", \"2020-10-02T00:00:00\", \"2020-10-03T00:00:00\", \"2020-10-04T00:00:00\", \"2020-10-05T00:00:00\", \"2020-10-06T00:00:00\", \"2020-10-07T00:00:00\", \"2020-10-08T00:00:00\", \"2020-10-09T00:00:00\", \"2020-10-10T00:00:00\", \"2020-10-11T00:00:00\", \"2020-10-12T00:00:00\", \"2020-10-13T00:00:00\", \"2020-10-14T00:00:00\", \"2020-10-15T00:00:00\", \"2020-10-16T00:00:00\", \"2020-10-17T00:00:00\", \"2020-10-18T00:00:00\", \"2020-10-19T00:00:00\", \"2020-10-20T00:00:00\", \"2020-10-21T00:00:00\", \"2020-10-22T00:00:00\", \"2020-10-23T00:00:00\", \"2020-10-24T00:00:00\", \"2020-10-25T00:00:00\", \"2020-10-26T00:00:00\", \"2020-10-27T00:00:00\", \"2020-10-28T00:00:00\", \"2020-10-29T00:00:00\", \"2020-10-30T00:00:00\", \"2020-10-31T00:00:00\", \"2020-11-01T00:00:00\", \"2020-11-02T00:00:00\", \"2020-11-03T00:00:00\", \"2020-11-04T00:00:00\", \"2020-11-05T00:00:00\", \"2020-11-06T00:00:00\", \"2020-11-07T00:00:00\", \"2020-11-08T00:00:00\", \"2020-11-09T00:00:00\", \"2020-11-10T00:00:00\", \"2020-11-11T00:00:00\", \"2020-11-12T00:00:00\", \"2020-11-13T00:00:00\", \"2020-11-14T00:00:00\", \"2020-11-15T00:00:00\", \"2020-11-16T00:00:00\", \"2020-11-17T00:00:00\", \"2020-11-18T00:00:00\", \"2020-11-19T00:00:00\", \"2020-11-20T00:00:00\", \"2020-11-21T00:00:00\", \"2020-11-22T00:00:00\", \"2020-11-23T00:00:00\", \"2020-11-24T00:00:00\", \"2020-11-25T00:00:00\", \"2020-11-26T00:00:00\", \"2020-11-27T00:00:00\", \"2020-11-28T00:00:00\", \"2020-11-29T00:00:00\", \"2020-11-30T00:00:00\", \"2020-12-01T00:00:00\", \"2020-12-02T00:00:00\", \"2020-12-03T00:00:00\", \"2020-12-04T00:00:00\", \"2020-12-05T00:00:00\", \"2020-12-06T00:00:00\", \"2020-12-07T00:00:00\", \"2020-12-08T00:00:00\", \"2020-12-09T00:00:00\", \"2020-12-10T00:00:00\", \"2020-12-11T00:00:00\", \"2020-12-12T00:00:00\", \"2020-12-13T00:00:00\", \"2020-12-14T00:00:00\", \"2020-12-15T00:00:00\", \"2020-12-16T00:00:00\", \"2020-12-17T00:00:00\", \"2020-12-18T00:00:00\", \"2020-12-19T00:00:00\", \"2020-12-20T00:00:00\", \"2020-12-21T00:00:00\", \"2020-12-22T00:00:00\", \"2020-12-23T00:00:00\", \"2020-12-24T00:00:00\", \"2020-12-25T00:00:00\", \"2020-12-26T00:00:00\", \"2020-12-27T00:00:00\", \"2020-12-28T00:00:00\", \"2020-12-29T00:00:00\", \"2020-12-30T00:00:00\", \"2020-12-31T00:00:00\", \"2021-01-01T00:00:00\", \"2021-01-02T00:00:00\", \"2021-01-03T00:00:00\", \"2021-01-04T00:00:00\", \"2021-01-05T00:00:00\", \"2021-01-06T00:00:00\", \"2021-01-07T00:00:00\", \"2021-01-08T00:00:00\", \"2021-01-09T00:00:00\", \"2021-01-10T00:00:00\"], \"xaxis\": \"x\", \"y\": [5, 7, 5, 18, 15, 7, 12, 6, 2, 1, 1, 2, 1, 1, 3, 1, 5, 5, 3, 3, 5, 4, 2, 1, 2, 5, 1, 1, 4, 5, 2, 1, 3, 1, 7, 2, 1, 2, 2, 2, 1, 3, 9, 2, 2, 3, 5, 1, 2, 2, 18, 2, 4, 2, 17, 6, 20, 44, 26, 42, 65, 81, 65, 61, 113, 76, 125, 125, 105, 83, 175, 122, 182, 269, 240, 196, 332, 323, 322, 322, 351, 272, 317, 226, 524, 449, 700, 772, 789, 557, 476, 665, 595, 977, 1046, 907, 886, 748, 956, 1813, 925, 1563, 1340, 1126, 1004, 1840, 1999, 1752, 1834, 1925, 1527, 879, 2259, 2169, 2432, 2662, 2926, 1555, 1152, 3209, 2689, 2695, 2781, 2651, 979, 819, 2914, 2575, 2623, 2664, 2843, 1590, 1501, 3649, 3816, 3462, 3242, 3442, 1548, 942, 4067, 3363, 3646, 2027, 2780, 1271, 861, 3547, 2878, 3039, 3179, 3192, 1361, 606, 3596, 3075, 2805, 3126, 3257, 1154, 689, 3189, 3471, 3147, 3164, 3197, 1352, 495, 3364, 3178, 3207, 3477, 3531, 1091, 500, 3842, 2815, 2942, 2831, 3013, 1063, 512, 3348, 2695, 2592, 2692, 2616, 859, 299, 2960, 2577, 2724, 2542, 2575, 753, 622, 2183, 2328, 2251, 2101, 2187, 828, 240, 2108, 1723, 1872, 2224, 1743, 586, 511, 2004, 1828, 1863, 1748, 1834, 756, 321, 1711, 1598, 1594, 1891, 1464, 466, 431, 1883, 1585, 1758, 1514, 1191, 404, 351, 343, 1319, 1334, 1320, 1578, 540, 560, 1627, 1295, 1543, 1415, 1362, 748, 406, 1250, 1364, 1542, 1168, 1307, 631, 520, 1437, 1358, 1136, 1278, 1203, 577, 514, 1153, 1164, 944, 1314, 1095, 598, 325, 430, 1254, 1072, 1379, 1107, 626, 427, 886, 1399, 1300, 1210, 1262, 571, 479, 1146, 1032, 897, 1062, 1071, 395, 476, 336, 1516, 1191, 1291, 1010, 582, 495, 1279, 923, 927, 1046, 1056, 645, 137, 900, 1063, 1142, 1338, 1653, 1472, 1629, 2338, 1851, 2405, 2122, 1792, 1217, 1200, 1696, 1872, 1552, 1312, 965, 1603, 707, 1456, 2037, 1623, 1585, 1548, 566, 639, 1772, 1436, 1621, 1636, 1274, 1053, 587, 1503, 1380, 1653, 1135, 146, 219, 254, 1167, 1523, 2623, 1962, 106, 304, 469, 828, 1117, 944, 1165, 1027, 213, 99], \"yaxis\": \"y\"}, {\"line\": {\"color\": \"red\", \"width\": 2}, \"name\": \"M\\u00e9dia M\\u00f3vel de uma semana\", \"type\": \"scatter\", \"x\": [\"2020-01-01T00:00:00\", \"2020-01-02T00:00:00\", \"2020-01-03T00:00:00\", \"2020-01-04T00:00:00\", \"2020-01-05T00:00:00\", \"2020-01-06T00:00:00\", \"2020-01-07T00:00:00\", \"2020-01-08T00:00:00\", \"2020-01-11T00:00:00\", \"2020-01-16T00:00:00\", \"2020-01-18T00:00:00\", \"2020-01-20T00:00:00\", \"2020-01-24T00:00:00\", \"2020-01-26T00:00:00\", \"2020-01-29T00:00:00\", \"2020-01-30T00:00:00\", \"2020-02-02T00:00:00\", \"2020-02-03T00:00:00\", \"2020-02-04T00:00:00\", \"2020-02-05T00:00:00\", \"2020-02-06T00:00:00\", \"2020-02-07T00:00:00\", \"2020-02-08T00:00:00\", \"2020-02-09T00:00:00\", \"2020-02-10T00:00:00\", \"2020-02-12T00:00:00\", \"2020-02-13T00:00:00\", \"2020-02-14T00:00:00\", \"2020-02-15T00:00:00\", \"2020-02-16T00:00:00\", \"2020-02-17T00:00:00\", \"2020-02-18T00:00:00\", \"2020-02-20T00:00:00\", \"2020-02-21T00:00:00\", \"2020-02-22T00:00:00\", \"2020-02-24T00:00:00\", \"2020-02-25T00:00:00\", \"2020-02-26T00:00:00\", \"2020-02-27T00:00:00\", \"2020-02-28T00:00:00\", \"2020-02-29T00:00:00\", \"2020-03-01T00:00:00\", \"2020-03-02T00:00:00\", \"2020-03-03T00:00:00\", \"2020-03-04T00:00:00\", \"2020-03-05T00:00:00\", \"2020-03-06T00:00:00\", \"2020-03-07T00:00:00\", \"2020-03-08T00:00:00\", \"2020-03-09T00:00:00\", \"2020-03-10T00:00:00\", \"2020-03-11T00:00:00\", \"2020-03-12T00:00:00\", \"2020-03-13T00:00:00\", \"2020-03-14T00:00:00\", \"2020-03-15T00:00:00\", \"2020-03-16T00:00:00\", \"2020-03-17T00:00:00\", \"2020-03-18T00:00:00\", \"2020-03-19T00:00:00\", \"2020-03-20T00:00:00\", \"2020-03-21T00:00:00\", \"2020-03-22T00:00:00\", \"2020-03-23T00:00:00\", \"2020-03-24T00:00:00\", \"2020-03-25T00:00:00\", \"2020-03-26T00:00:00\", \"2020-03-27T00:00:00\", \"2020-03-28T00:00:00\", \"2020-03-29T00:00:00\", \"2020-03-30T00:00:00\", \"2020-03-31T00:00:00\", \"2020-04-01T00:00:00\", \"2020-04-02T00:00:00\", \"2020-04-03T00:00:00\", \"2020-04-04T00:00:00\", \"2020-04-05T00:00:00\", \"2020-04-06T00:00:00\", \"2020-04-07T00:00:00\", \"2020-04-08T00:00:00\", \"2020-04-09T00:00:00\", \"2020-04-10T00:00:00\", \"2020-04-11T00:00:00\", \"2020-04-12T00:00:00\", \"2020-04-13T00:00:00\", \"2020-04-14T00:00:00\", \"2020-04-15T00:00:00\", \"2020-04-16T00:00:00\", \"2020-04-17T00:00:00\", \"2020-04-18T00:00:00\", \"2020-04-19T00:00:00\", \"2020-04-20T00:00:00\", \"2020-04-21T00:00:00\", \"2020-04-22T00:00:00\", \"2020-04-23T00:00:00\", \"2020-04-24T00:00:00\", \"2020-04-25T00:00:00\", \"2020-04-26T00:00:00\", \"2020-04-27T00:00:00\", \"2020-04-28T00:00:00\", \"2020-04-29T00:00:00\", \"2020-04-30T00:00:00\", \"2020-05-01T00:00:00\", \"2020-05-02T00:00:00\", \"2020-05-03T00:00:00\", \"2020-05-04T00:00:00\", \"2020-05-05T00:00:00\", \"2020-05-06T00:00:00\", \"2020-05-07T00:00:00\", \"2020-05-08T00:00:00\", \"2020-05-09T00:00:00\", \"2020-05-10T00:00:00\", \"2020-05-11T00:00:00\", \"2020-05-12T00:00:00\", \"2020-05-13T00:00:00\", \"2020-05-14T00:00:00\", \"2020-05-15T00:00:00\", \"2020-05-16T00:00:00\", \"2020-05-17T00:00:00\", \"2020-05-18T00:00:00\", \"2020-05-19T00:00:00\", \"2020-05-20T00:00:00\", \"2020-05-21T00:00:00\", \"2020-05-22T00:00:00\", \"2020-05-23T00:00:00\", \"2020-05-24T00:00:00\", \"2020-05-25T00:00:00\", \"2020-05-26T00:00:00\", \"2020-05-27T00:00:00\", \"2020-05-28T00:00:00\", \"2020-05-29T00:00:00\", \"2020-05-30T00:00:00\", \"2020-05-31T00:00:00\", \"2020-06-01T00:00:00\", \"2020-06-02T00:00:00\", \"2020-06-03T00:00:00\", \"2020-06-04T00:00:00\", \"2020-06-05T00:00:00\", \"2020-06-06T00:00:00\", \"2020-06-07T00:00:00\", \"2020-06-08T00:00:00\", \"2020-06-09T00:00:00\", \"2020-06-10T00:00:00\", \"2020-06-11T00:00:00\", \"2020-06-12T00:00:00\", \"2020-06-13T00:00:00\", \"2020-06-14T00:00:00\", \"2020-06-15T00:00:00\", \"2020-06-16T00:00:00\", \"2020-06-17T00:00:00\", \"2020-06-18T00:00:00\", \"2020-06-19T00:00:00\", \"2020-06-20T00:00:00\", \"2020-06-21T00:00:00\", \"2020-06-22T00:00:00\", \"2020-06-23T00:00:00\", \"2020-06-24T00:00:00\", \"2020-06-25T00:00:00\", \"2020-06-26T00:00:00\", \"2020-06-27T00:00:00\", \"2020-06-28T00:00:00\", \"2020-06-29T00:00:00\", \"2020-06-30T00:00:00\", \"2020-07-01T00:00:00\", \"2020-07-02T00:00:00\", \"2020-07-03T00:00:00\", \"2020-07-04T00:00:00\", \"2020-07-05T00:00:00\", \"2020-07-06T00:00:00\", \"2020-07-07T00:00:00\", \"2020-07-08T00:00:00\", \"2020-07-09T00:00:00\", \"2020-07-10T00:00:00\", \"2020-07-11T00:00:00\", \"2020-07-12T00:00:00\", \"2020-07-13T00:00:00\", \"2020-07-14T00:00:00\", \"2020-07-15T00:00:00\", \"2020-07-16T00:00:00\", \"2020-07-17T00:00:00\", \"2020-07-18T00:00:00\", \"2020-07-19T00:00:00\", \"2020-07-20T00:00:00\", \"2020-07-21T00:00:00\", \"2020-07-22T00:00:00\", \"2020-07-23T00:00:00\", \"2020-07-24T00:00:00\", \"2020-07-25T00:00:00\", \"2020-07-26T00:00:00\", \"2020-07-27T00:00:00\", \"2020-07-28T00:00:00\", \"2020-07-29T00:00:00\", \"2020-07-30T00:00:00\", \"2020-07-31T00:00:00\", \"2020-08-01T00:00:00\", \"2020-08-02T00:00:00\", \"2020-08-03T00:00:00\", \"2020-08-04T00:00:00\", \"2020-08-05T00:00:00\", \"2020-08-06T00:00:00\", \"2020-08-07T00:00:00\", \"2020-08-08T00:00:00\", \"2020-08-09T00:00:00\", \"2020-08-10T00:00:00\", \"2020-08-11T00:00:00\", \"2020-08-12T00:00:00\", \"2020-08-13T00:00:00\", \"2020-08-14T00:00:00\", \"2020-08-15T00:00:00\", \"2020-08-16T00:00:00\", \"2020-08-17T00:00:00\", \"2020-08-18T00:00:00\", \"2020-08-19T00:00:00\", \"2020-08-20T00:00:00\", \"2020-08-21T00:00:00\", \"2020-08-22T00:00:00\", \"2020-08-23T00:00:00\", \"2020-08-24T00:00:00\", \"2020-08-25T00:00:00\", \"2020-08-26T00:00:00\", \"2020-08-27T00:00:00\", \"2020-08-28T00:00:00\", \"2020-08-29T00:00:00\", \"2020-08-30T00:00:00\", \"2020-08-31T00:00:00\", \"2020-09-01T00:00:00\", \"2020-09-02T00:00:00\", \"2020-09-03T00:00:00\", \"2020-09-04T00:00:00\", \"2020-09-05T00:00:00\", \"2020-09-06T00:00:00\", \"2020-09-07T00:00:00\", \"2020-09-08T00:00:00\", \"2020-09-09T00:00:00\", \"2020-09-10T00:00:00\", \"2020-09-11T00:00:00\", \"2020-09-12T00:00:00\", \"2020-09-13T00:00:00\", \"2020-09-14T00:00:00\", \"2020-09-15T00:00:00\", \"2020-09-16T00:00:00\", \"2020-09-17T00:00:00\", \"2020-09-18T00:00:00\", \"2020-09-19T00:00:00\", \"2020-09-20T00:00:00\", \"2020-09-21T00:00:00\", \"2020-09-22T00:00:00\", \"2020-09-23T00:00:00\", \"2020-09-24T00:00:00\", \"2020-09-25T00:00:00\", \"2020-09-26T00:00:00\", \"2020-09-27T00:00:00\", \"2020-09-28T00:00:00\", \"2020-09-29T00:00:00\", \"2020-09-30T00:00:00\", \"2020-10-01T00:00:00\", \"2020-10-02T00:00:00\", \"2020-10-03T00:00:00\", \"2020-10-04T00:00:00\", \"2020-10-05T00:00:00\", \"2020-10-06T00:00:00\", \"2020-10-07T00:00:00\", \"2020-10-08T00:00:00\", \"2020-10-09T00:00:00\", \"2020-10-10T00:00:00\", \"2020-10-11T00:00:00\", \"2020-10-12T00:00:00\", \"2020-10-13T00:00:00\", \"2020-10-14T00:00:00\", \"2020-10-15T00:00:00\", \"2020-10-16T00:00:00\", \"2020-10-17T00:00:00\", \"2020-10-18T00:00:00\", \"2020-10-19T00:00:00\", \"2020-10-20T00:00:00\", \"2020-10-21T00:00:00\", \"2020-10-22T00:00:00\", \"2020-10-23T00:00:00\", \"2020-10-24T00:00:00\", \"2020-10-25T00:00:00\", \"2020-10-26T00:00:00\", \"2020-10-27T00:00:00\", \"2020-10-28T00:00:00\", \"2020-10-29T00:00:00\", \"2020-10-30T00:00:00\", \"2020-10-31T00:00:00\", \"2020-11-01T00:00:00\", \"2020-11-02T00:00:00\", \"2020-11-03T00:00:00\", \"2020-11-04T00:00:00\", \"2020-11-05T00:00:00\", \"2020-11-06T00:00:00\", \"2020-11-07T00:00:00\", \"2020-11-08T00:00:00\", \"2020-11-09T00:00:00\", \"2020-11-10T00:00:00\", \"2020-11-11T00:00:00\", \"2020-11-12T00:00:00\", \"2020-11-13T00:00:00\", \"2020-11-14T00:00:00\", \"2020-11-15T00:00:00\", \"2020-11-16T00:00:00\", \"2020-11-17T00:00:00\", \"2020-11-18T00:00:00\", \"2020-11-19T00:00:00\", \"2020-11-20T00:00:00\", \"2020-11-21T00:00:00\", \"2020-11-22T00:00:00\", \"2020-11-23T00:00:00\", \"2020-11-24T00:00:00\", \"2020-11-25T00:00:00\", \"2020-11-26T00:00:00\", \"2020-11-27T00:00:00\", \"2020-11-28T00:00:00\", \"2020-11-29T00:00:00\", \"2020-11-30T00:00:00\", \"2020-12-01T00:00:00\", \"2020-12-02T00:00:00\", \"2020-12-03T00:00:00\", \"2020-12-04T00:00:00\", \"2020-12-05T00:00:00\", \"2020-12-06T00:00:00\", \"2020-12-07T00:00:00\", \"2020-12-08T00:00:00\", \"2020-12-09T00:00:00\", \"2020-12-10T00:00:00\", \"2020-12-11T00:00:00\", \"2020-12-12T00:00:00\", \"2020-12-13T00:00:00\", \"2020-12-14T00:00:00\", \"2020-12-15T00:00:00\", \"2020-12-16T00:00:00\", \"2020-12-17T00:00:00\", \"2020-12-18T00:00:00\", \"2020-12-19T00:00:00\", \"2020-12-20T00:00:00\", \"2020-12-21T00:00:00\", \"2020-12-22T00:00:00\", \"2020-12-23T00:00:00\", \"2020-12-24T00:00:00\", \"2020-12-25T00:00:00\", \"2020-12-26T00:00:00\", \"2020-12-27T00:00:00\", \"2020-12-28T00:00:00\", \"2020-12-29T00:00:00\", \"2020-12-30T00:00:00\", \"2020-12-31T00:00:00\", \"2021-01-01T00:00:00\", \"2021-01-02T00:00:00\", \"2021-01-03T00:00:00\", \"2021-01-04T00:00:00\", \"2021-01-05T00:00:00\", \"2021-01-06T00:00:00\", \"2021-01-07T00:00:00\", \"2021-01-08T00:00:00\", \"2021-01-09T00:00:00\", \"2021-01-10T00:00:00\"], \"y\": [5.0, 12.142857142857142, 5.857142857142857, 39.42857142857143, 22.285714285714285, 10.571428571428571, 18.0, 7.714285714285714, 2.0, 1.0, 1.0, 2.142857142857143, 1.4285714285714286, 1.1428571428571428, 3.4285714285714284, 1.0, 5.285714285714286, 6.714285714285714, 4.285714285714286, 3.7142857142857144, 6.142857142857143, 4.857142857142857, 2.7142857142857144, 1.2857142857142858, 2.2857142857142856, 5.571428571428571, 1.0, 1.0, 4.571428571428571, 5.0, 2.0, 1.0, 3.142857142857143, 1.8571428571428572, 13.714285714285714, 2.0, 1.0, 2.0, 2.0, 2.0, 1.7142857142857142, 3.2857142857142856, 15.571428571428571, 2.857142857142857, 2.0, 4.0, 5.142857142857143, 1.5714285714285714, 2.0, 2.5714285714285716, 32.714285714285715, 2.0, 4.714285714285714, 2.4285714285714284, 26.428571428571427, 9.0, 46.142857142857146, 67.85714285714286, 54.142857142857146, 62.0, 82.0, 101.28571428571429, 87.85714285714286, 75.71428571428571, 134.71428571428572, 94.71428571428571, 155.14285714285714, 167.71428571428572, 119.0, 107.57142857142857, 207.28571428571428, 144.57142857142858, 216.57142857142858, 300.57142857142856, 279.2857142857143, 226.85714285714286, 358.85714285714283, 337.2857142857143, 329.0, 333.14285714285717, 406.2857142857143, 308.14285714285717, 323.14285714285717, 257.14285714285717, 556.4285714285714, 472.85714285714283, 740.5714285714286, 822.2857142857143, 837.5714285714286, 571.2857142857143, 495.42857142857144, 715.7142857142857, 616.7142857142857, 1010.7142857142857, 1059.142857142857, 930.2857142857143, 909.2857142857143, 769.2857142857143, 988.2857142857143, 1837.5714285714287, 943.2857142857143, 1584.7142857142858, 1359.4285714285713, 1141.4285714285713, 1031.142857142857, 1867.4285714285713, 2056.8571428571427, 1792.7142857142858, 1852.2857142857142, 2007.857142857143, 1545.0, 896.8571428571429, 2411.285714285714, 2228.714285714286, 2558.4285714285716, 2688.714285714286, 3011.5714285714284, 1578.5714285714287, 1160.4285714285713, 3317.8571428571427, 2722.285714285714, 2775.8571428571427, 2838.1428571428573, 2678.285714285714, 1020.5714285714286, 851.4285714285714, 2981.285714285714, 2597.285714285714, 2668.0, 2705.5714285714284, 2925.1428571428573, 1608.0, 1518.0, null, null, 3532.8571428571427, 3354.0, 3503.714285714286, 1561.2857142857142, 958.1428571428571, null, 3444.285714285714, null, 2106.714285714286, 2819.0, 1284.0, 888.0, 3737.5714285714284, 2953.1428571428573, 3129.714285714286, 3202.1428571428573, 3236.0, 1380.0, 633.4285714285714, null, 3151.1428571428573, 2858.8571428571427, 3167.8571428571427, 3386.714285714286, 1171.4285714285713, 728.7142857142857, 3213.285714285714, 3559.5714285714284, 3178.0, 3186.5714285714284, 3260.4285714285716, 1365.142857142857, 510.85714285714283, 3470.5714285714284, 3193.0, 3284.285714285714, 3608.8571428571427, 3661.0, 1115.2857142857142, 517.2857142857143, null, 2878.4285714285716, 3043.1428571428573, 2899.1428571428573, 3106.0, 1088.0, 532.4285714285714, 3418.1428571428573, 2756.4285714285716, 2633.0, 2738.8571428571427, 2646.8571428571427, 881.1428571428571, 315.42857142857144, 3074.8571428571427, 2620.5714285714284, 2797.0, 2585.714285714286, 2608.1428571428573, 792.1428571428571, 645.2857142857143, 2252.8571428571427, 2456.4285714285716, 2365.0, 2156.285714285714, 2284.5714285714284, 870.8571428571429, 268.2857142857143, 2177.714285714286, 1755.4285714285713, 1933.7142857142858, 2319.5714285714284, 1768.2857142857142, 602.8571428571429, 525.4285714285714, 2081.1428571428573, 1846.0, 1895.4285714285713, 1780.4285714285713, 1859.2857142857142, 807.2857142857143, 325.85714285714283, 1743.857142857143, 1619.5714285714287, 1613.5714285714287, 1977.857142857143, 1499.0, 479.42857142857144, 463.7142857142857, 1955.857142857143, 1602.0, 1804.4285714285713, 1530.4285714285713, 1217.857142857143, 430.42857142857144, 394.85714285714283, 382.42857142857144, 1337.2857142857142, 1349.2857142857142, 1343.2857142857142, 1590.4285714285713, 564.7142857142857, 575.5714285714286, 1657.857142857143, 1309.5714285714287, 1555.2857142857142, 1454.4285714285713, 1390.7142857142858, 780.7142857142857, 439.7142857142857, 1266.857142857143, 1401.4285714285713, 1550.142857142857, 1197.142857142857, 1320.5714285714287, 668.0, 548.2857142857143, 1478.142857142857, 1371.857142857143, 1149.5714285714287, 1294.5714285714287, 1238.142857142857, 590.1428571428571, 540.1428571428571, 1166.0, 1178.0, 967.0, 1331.0, 1122.5714285714287, 623.8571428571429, 347.57142857142856, 456.7142857142857, 1272.7142857142858, 1106.142857142857, 1414.5714285714287, 1129.857142857143, 656.4285714285714, 449.7142857142857, 903.4285714285714, 1439.857142857143, 1315.142857142857, 1248.2857142857142, 1278.5714285714287, 585.1428571428571, 500.85714285714283, 1157.2857142857142, 1051.142857142857, 917.2857142857143, 1073.857142857143, 1097.0, 420.2857142857143, 490.2857142857143, 369.42857142857144, 1535.2857142857142, 1208.857142857143, 1305.4285714285713, 1038.5714285714287, 596.5714285714286, 506.7142857142857, 1299.7142857142858, 937.2857142857143, 950.7142857142857, 1055.5714285714287, 1068.2857142857142, 700.2857142857143, 181.14285714285714, 924.0, 1080.2857142857142, 1153.7142857142858, 1353.5714285714287, 1718.0, 1508.0, 1671.5714285714287, 2492.0, 1879.5714285714287, 2528.285714285714, 2199.285714285714, 1827.4285714285713, 1258.0, 1228.0, 1733.0, 1914.857142857143, 1572.5714285714287, 1325.2857142857142, 999.1428571428571, 1627.4285714285713, 753.2857142857143, 1489.4285714285713, 2129.5714285714284, 1645.2857142857142, 1596.5714285714287, 1566.5714285714287, 580.5714285714286, 684.7142857142857, 1816.142857142857, 1467.0, 1634.5714285714287, 1687.857142857143, 1289.142857142857, 1062.857142857143, 609.2857142857143, 1524.0, 1426.7142857142858, 1703.857142857143, 1145.4285714285713, 193.85714285714286, 245.71428571428572, 290.85714285714283, 1190.0, 1540.4285714285713, 2657.714285714286, 2034.0, 124.85714285714286, 319.14285714285717, 484.2857142857143, 861.0, 1136.2857142857142, 976.4285714285714, 1183.5714285714287, 1046.0, 237.28571428571428, 113.57142857142857]}],\n",
              "                        {\"barmode\": \"relative\", \"legend\": {\"tracegroupgap\": 0}, \"margin\": {\"t\": 60}, \"template\": {\"data\": {\"bar\": [{\"error_x\": {\"color\": \"#2a3f5f\"}, \"error_y\": {\"color\": \"#2a3f5f\"}, \"marker\": {\"line\": {\"color\": \"#E5ECF6\", \"width\": 0.5}}, \"type\": \"bar\"}], \"barpolar\": [{\"marker\": {\"line\": {\"color\": \"#E5ECF6\", \"width\": 0.5}}, \"type\": \"barpolar\"}], \"carpet\": [{\"aaxis\": {\"endlinecolor\": \"#2a3f5f\", \"gridcolor\": \"white\", \"linecolor\": \"white\", \"minorgridcolor\": \"white\", \"startlinecolor\": \"#2a3f5f\"}, \"baxis\": {\"endlinecolor\": \"#2a3f5f\", \"gridcolor\": \"white\", \"linecolor\": \"white\", \"minorgridcolor\": \"white\", \"startlinecolor\": \"#2a3f5f\"}, \"type\": \"carpet\"}], \"choropleth\": [{\"colorbar\": {\"outlinewidth\": 0, \"ticks\": \"\"}, \"type\": \"choropleth\"}], \"contour\": [{\"colorbar\": {\"outlinewidth\": 0, \"ticks\": \"\"}, \"colorscale\": [[0.0, \"#0d0887\"], [0.1111111111111111, \"#46039f\"], [0.2222222222222222, \"#7201a8\"], [0.3333333333333333, \"#9c179e\"], [0.4444444444444444, \"#bd3786\"], [0.5555555555555556, \"#d8576b\"], [0.6666666666666666, \"#ed7953\"], [0.7777777777777778, \"#fb9f3a\"], [0.8888888888888888, \"#fdca26\"], [1.0, \"#f0f921\"]], \"type\": \"contour\"}], \"contourcarpet\": [{\"colorbar\": {\"outlinewidth\": 0, \"ticks\": \"\"}, \"type\": \"contourcarpet\"}], \"heatmap\": [{\"colorbar\": {\"outlinewidth\": 0, \"ticks\": \"\"}, \"colorscale\": [[0.0, \"#0d0887\"], [0.1111111111111111, \"#46039f\"], [0.2222222222222222, \"#7201a8\"], [0.3333333333333333, \"#9c179e\"], [0.4444444444444444, \"#bd3786\"], [0.5555555555555556, \"#d8576b\"], [0.6666666666666666, \"#ed7953\"], [0.7777777777777778, \"#fb9f3a\"], [0.8888888888888888, \"#fdca26\"], [1.0, \"#f0f921\"]], \"type\": \"heatmap\"}], \"heatmapgl\": [{\"colorbar\": {\"outlinewidth\": 0, \"ticks\": \"\"}, \"colorscale\": [[0.0, \"#0d0887\"], [0.1111111111111111, \"#46039f\"], [0.2222222222222222, \"#7201a8\"], [0.3333333333333333, \"#9c179e\"], [0.4444444444444444, \"#bd3786\"], [0.5555555555555556, \"#d8576b\"], [0.6666666666666666, \"#ed7953\"], [0.7777777777777778, \"#fb9f3a\"], [0.8888888888888888, \"#fdca26\"], [1.0, \"#f0f921\"]], \"type\": \"heatmapgl\"}], \"histogram\": [{\"marker\": {\"colorbar\": {\"outlinewidth\": 0, \"ticks\": \"\"}}, \"type\": \"histogram\"}], \"histogram2d\": [{\"colorbar\": {\"outlinewidth\": 0, \"ticks\": \"\"}, \"colorscale\": [[0.0, \"#0d0887\"], [0.1111111111111111, \"#46039f\"], [0.2222222222222222, \"#7201a8\"], [0.3333333333333333, \"#9c179e\"], [0.4444444444444444, \"#bd3786\"], [0.5555555555555556, \"#d8576b\"], [0.6666666666666666, \"#ed7953\"], [0.7777777777777778, \"#fb9f3a\"], [0.8888888888888888, \"#fdca26\"], [1.0, \"#f0f921\"]], \"type\": \"histogram2d\"}], \"histogram2dcontour\": [{\"colorbar\": {\"outlinewidth\": 0, \"ticks\": \"\"}, \"colorscale\": [[0.0, \"#0d0887\"], [0.1111111111111111, \"#46039f\"], [0.2222222222222222, \"#7201a8\"], [0.3333333333333333, \"#9c179e\"], [0.4444444444444444, \"#bd3786\"], [0.5555555555555556, \"#d8576b\"], [0.6666666666666666, \"#ed7953\"], [0.7777777777777778, \"#fb9f3a\"], [0.8888888888888888, \"#fdca26\"], [1.0, \"#f0f921\"]], \"type\": \"histogram2dcontour\"}], \"mesh3d\": [{\"colorbar\": {\"outlinewidth\": 0, \"ticks\": \"\"}, \"type\": \"mesh3d\"}], \"parcoords\": [{\"line\": {\"colorbar\": {\"outlinewidth\": 0, \"ticks\": \"\"}}, \"type\": \"parcoords\"}], \"pie\": [{\"automargin\": true, \"type\": \"pie\"}], \"scatter\": [{\"marker\": {\"colorbar\": {\"outlinewidth\": 0, \"ticks\": \"\"}}, \"type\": \"scatter\"}], \"scatter3d\": [{\"line\": {\"colorbar\": {\"outlinewidth\": 0, \"ticks\": \"\"}}, \"marker\": {\"colorbar\": {\"outlinewidth\": 0, \"ticks\": \"\"}}, \"type\": \"scatter3d\"}], \"scattercarpet\": [{\"marker\": {\"colorbar\": {\"outlinewidth\": 0, \"ticks\": \"\"}}, \"type\": \"scattercarpet\"}], \"scattergeo\": [{\"marker\": {\"colorbar\": {\"outlinewidth\": 0, \"ticks\": \"\"}}, \"type\": \"scattergeo\"}], \"scattergl\": [{\"marker\": {\"colorbar\": {\"outlinewidth\": 0, \"ticks\": \"\"}}, \"type\": \"scattergl\"}], \"scattermapbox\": [{\"marker\": {\"colorbar\": {\"outlinewidth\": 0, \"ticks\": \"\"}}, \"type\": \"scattermapbox\"}], \"scatterpolar\": [{\"marker\": {\"colorbar\": {\"outlinewidth\": 0, \"ticks\": \"\"}}, \"type\": \"scatterpolar\"}], \"scatterpolargl\": [{\"marker\": {\"colorbar\": {\"outlinewidth\": 0, \"ticks\": \"\"}}, \"type\": \"scatterpolargl\"}], \"scatterternary\": [{\"marker\": {\"colorbar\": {\"outlinewidth\": 0, \"ticks\": \"\"}}, \"type\": \"scatterternary\"}], \"surface\": [{\"colorbar\": {\"outlinewidth\": 0, \"ticks\": \"\"}, \"colorscale\": [[0.0, \"#0d0887\"], [0.1111111111111111, \"#46039f\"], [0.2222222222222222, \"#7201a8\"], [0.3333333333333333, \"#9c179e\"], [0.4444444444444444, \"#bd3786\"], [0.5555555555555556, \"#d8576b\"], [0.6666666666666666, \"#ed7953\"], [0.7777777777777778, \"#fb9f3a\"], [0.8888888888888888, \"#fdca26\"], [1.0, \"#f0f921\"]], \"type\": \"surface\"}], \"table\": [{\"cells\": {\"fill\": {\"color\": \"#EBF0F8\"}, \"line\": {\"color\": \"white\"}}, \"header\": {\"fill\": {\"color\": \"#C8D4E3\"}, \"line\": {\"color\": \"white\"}}, \"type\": \"table\"}]}, \"layout\": {\"annotationdefaults\": {\"arrowcolor\": \"#2a3f5f\", \"arrowhead\": 0, \"arrowwidth\": 1}, \"coloraxis\": {\"colorbar\": {\"outlinewidth\": 0, \"ticks\": \"\"}}, \"colorscale\": {\"diverging\": [[0, \"#8e0152\"], [0.1, \"#c51b7d\"], [0.2, \"#de77ae\"], [0.3, \"#f1b6da\"], [0.4, \"#fde0ef\"], [0.5, \"#f7f7f7\"], [0.6, \"#e6f5d0\"], [0.7, \"#b8e186\"], [0.8, \"#7fbc41\"], [0.9, \"#4d9221\"], [1, \"#276419\"]], \"sequential\": [[0.0, \"#0d0887\"], [0.1111111111111111, \"#46039f\"], [0.2222222222222222, \"#7201a8\"], [0.3333333333333333, \"#9c179e\"], [0.4444444444444444, \"#bd3786\"], [0.5555555555555556, \"#d8576b\"], [0.6666666666666666, \"#ed7953\"], [0.7777777777777778, \"#fb9f3a\"], [0.8888888888888888, \"#fdca26\"], [1.0, \"#f0f921\"]], \"sequentialminus\": [[0.0, \"#0d0887\"], [0.1111111111111111, \"#46039f\"], [0.2222222222222222, \"#7201a8\"], [0.3333333333333333, \"#9c179e\"], [0.4444444444444444, \"#bd3786\"], [0.5555555555555556, \"#d8576b\"], [0.6666666666666666, \"#ed7953\"], [0.7777777777777778, \"#fb9f3a\"], [0.8888888888888888, \"#fdca26\"], [1.0, \"#f0f921\"]]}, \"colorway\": [\"#636efa\", \"#EF553B\", \"#00cc96\", \"#ab63fa\", \"#FFA15A\", \"#19d3f3\", \"#FF6692\", \"#B6E880\", \"#FF97FF\", \"#FECB52\"], \"font\": {\"color\": \"#2a3f5f\"}, \"geo\": {\"bgcolor\": \"white\", \"lakecolor\": \"white\", \"landcolor\": \"#E5ECF6\", \"showlakes\": true, \"showland\": true, \"subunitcolor\": \"white\"}, \"hoverlabel\": {\"align\": \"left\"}, \"hovermode\": \"closest\", \"mapbox\": {\"style\": \"light\"}, \"paper_bgcolor\": \"white\", \"plot_bgcolor\": \"#E5ECF6\", \"polar\": {\"angularaxis\": {\"gridcolor\": \"white\", \"linecolor\": \"white\", \"ticks\": \"\"}, \"bgcolor\": \"#E5ECF6\", \"radialaxis\": {\"gridcolor\": \"white\", \"linecolor\": \"white\", \"ticks\": \"\"}}, \"scene\": {\"xaxis\": {\"backgroundcolor\": \"#E5ECF6\", \"gridcolor\": \"white\", \"gridwidth\": 2, \"linecolor\": \"white\", \"showbackground\": true, \"ticks\": \"\", \"zerolinecolor\": \"white\"}, \"yaxis\": {\"backgroundcolor\": \"#E5ECF6\", \"gridcolor\": \"white\", \"gridwidth\": 2, \"linecolor\": \"white\", \"showbackground\": true, \"ticks\": \"\", \"zerolinecolor\": \"white\"}, \"zaxis\": {\"backgroundcolor\": \"#E5ECF6\", \"gridcolor\": \"white\", \"gridwidth\": 2, \"linecolor\": \"white\", \"showbackground\": true, \"ticks\": \"\", \"zerolinecolor\": \"white\"}}, \"shapedefaults\": {\"line\": {\"color\": \"#2a3f5f\"}}, \"ternary\": {\"aaxis\": {\"gridcolor\": \"white\", \"linecolor\": \"white\", \"ticks\": \"\"}, \"baxis\": {\"gridcolor\": \"white\", \"linecolor\": \"white\", \"ticks\": \"\"}, \"bgcolor\": \"#E5ECF6\", \"caxis\": {\"gridcolor\": \"white\", \"linecolor\": \"white\", \"ticks\": \"\"}}, \"title\": {\"x\": 0.05}, \"xaxis\": {\"automargin\": true, \"gridcolor\": \"white\", \"linecolor\": \"white\", \"ticks\": \"\", \"title\": {\"standoff\": 15}, \"zerolinecolor\": \"white\", \"zerolinewidth\": 2}, \"yaxis\": {\"automargin\": true, \"gridcolor\": \"white\", \"linecolor\": \"white\", \"ticks\": \"\", \"title\": {\"standoff\": 15}, \"zerolinecolor\": \"white\", \"zerolinewidth\": 2}}}, \"title\": {\"text\": \"Quantidade de casos confirmados no per\\u00edodo\"}, \"xaxis\": {\"anchor\": \"y\", \"domain\": [0.0, 1.0], \"title\": {\"text\": \"M\\u00eas\"}}, \"yaxis\": {\"anchor\": \"x\", \"domain\": [0.0, 1.0], \"title\": {\"text\": \"Quantidade de casos / dia\"}}},\n",
              "                        {\"responsive\": true}\n",
              "                    ).then(function(){\n",
              "                            \n",
              "var gd = document.getElementById('1f7973c3-c1fc-42fb-9d15-9ef956fee60d');\n",
              "var x = new MutationObserver(function (mutations, observer) {{\n",
              "        var display = window.getComputedStyle(gd).display;\n",
              "        if (!display || display === 'none') {{\n",
              "            console.log([gd, 'removed!']);\n",
              "            Plotly.purge(gd);\n",
              "            observer.disconnect();\n",
              "        }}\n",
              "}});\n",
              "\n",
              "// Listen for the removal of the full notebook cells\n",
              "var notebookContainer = gd.closest('#notebook-container');\n",
              "if (notebookContainer) {{\n",
              "    x.observe(notebookContainer, {childList: true});\n",
              "}}\n",
              "\n",
              "// Listen for the clearing of the current output cell\n",
              "var outputEl = gd.closest('.output');\n",
              "if (outputEl) {{\n",
              "    x.observe(outputEl, {childList: true});\n",
              "}}\n",
              "\n",
              "                        })\n",
              "                };\n",
              "                \n",
              "            </script>\n",
              "        </div>\n",
              "</body>\n",
              "</html>"
            ]
          },
          "metadata": {
            "tags": []
          }
        }
      ]
    },
    {
      "cell_type": "markdown",
      "metadata": {
        "id": "iq4crABJODUl"
      },
      "source": [
        "**1.4 Gráfico casos confirmados por dia**"
      ]
    },
    {
      "cell_type": "markdown",
      "metadata": {
        "id": "d52d1V8w_vUn"
      },
      "source": [
        "**Metodo para agrupar por dia a quantidade de casos confirmados**"
      ]
    },
    {
      "cell_type": "code",
      "metadata": {
        "colab": {
          "base_uri": "https://localhost:8080/",
          "height": 110
        },
        "id": "nOQQO58gOkj7",
        "outputId": "5513f11d-3793-49f9-a238-3d8679ca6f4d"
      },
      "source": [
        "df_gr_obito.head(2)"
      ],
      "execution_count": 43,
      "outputs": [
        {
          "output_type": "execute_result",
          "data": {
            "text/html": [
              "<div>\n",
              "<style scoped>\n",
              "    .dataframe tbody tr th:only-of-type {\n",
              "        vertical-align: middle;\n",
              "    }\n",
              "\n",
              "    .dataframe tbody tr th {\n",
              "        vertical-align: top;\n",
              "    }\n",
              "\n",
              "    .dataframe thead th {\n",
              "        text-align: right;\n",
              "    }\n",
              "</style>\n",
              "<table border=\"1\" class=\"dataframe\">\n",
              "  <thead>\n",
              "    <tr style=\"text-align: right;\">\n",
              "      <th></th>\n",
              "      <th>data_obito</th>\n",
              "      <th>total_obito_dia</th>\n",
              "      <th>MA</th>\n",
              "    </tr>\n",
              "  </thead>\n",
              "  <tbody>\n",
              "    <tr>\n",
              "      <th>282</th>\n",
              "      <td>2020-03-24</td>\n",
              "      <td>4</td>\n",
              "      <td>4.428571</td>\n",
              "    </tr>\n",
              "    <tr>\n",
              "      <th>287</th>\n",
              "      <td>2020-03-25</td>\n",
              "      <td>2</td>\n",
              "      <td>3.428571</td>\n",
              "    </tr>\n",
              "  </tbody>\n",
              "</table>\n",
              "</div>"
            ],
            "text/plain": [
              "    data_obito  total_obito_dia        MA\n",
              "282 2020-03-24                4  4.428571\n",
              "287 2020-03-25                2  3.428571"
            ]
          },
          "metadata": {
            "tags": []
          },
          "execution_count": 43
        }
      ]
    },
    {
      "cell_type": "code",
      "metadata": {
        "colab": {
          "base_uri": "https://localhost:8080/",
          "height": 416
        },
        "id": "iVeoEM7CDtn9",
        "outputId": "4ff9281a-6b3f-41c5-f139-07bb400c98d8"
      },
      "source": [
        "df_gr_obito['total_obito_acumulado'] = df_gr_obito['total_obito_dia'].cumsum()\r\n",
        "df_gr_obito"
      ],
      "execution_count": 44,
      "outputs": [
        {
          "output_type": "execute_result",
          "data": {
            "text/html": [
              "<div>\n",
              "<style scoped>\n",
              "    .dataframe tbody tr th:only-of-type {\n",
              "        vertical-align: middle;\n",
              "    }\n",
              "\n",
              "    .dataframe tbody tr th {\n",
              "        vertical-align: top;\n",
              "    }\n",
              "\n",
              "    .dataframe thead th {\n",
              "        text-align: right;\n",
              "    }\n",
              "</style>\n",
              "<table border=\"1\" class=\"dataframe\">\n",
              "  <thead>\n",
              "    <tr style=\"text-align: right;\">\n",
              "      <th></th>\n",
              "      <th>data_obito</th>\n",
              "      <th>total_obito_dia</th>\n",
              "      <th>MA</th>\n",
              "      <th>total_obito_acumulado</th>\n",
              "    </tr>\n",
              "  </thead>\n",
              "  <tbody>\n",
              "    <tr>\n",
              "      <th>282</th>\n",
              "      <td>2020-03-24</td>\n",
              "      <td>4</td>\n",
              "      <td>4.428571</td>\n",
              "      <td>4</td>\n",
              "    </tr>\n",
              "    <tr>\n",
              "      <th>287</th>\n",
              "      <td>2020-03-25</td>\n",
              "      <td>2</td>\n",
              "      <td>3.428571</td>\n",
              "      <td>6</td>\n",
              "    </tr>\n",
              "    <tr>\n",
              "      <th>283</th>\n",
              "      <td>2020-03-26</td>\n",
              "      <td>4</td>\n",
              "      <td>4.285714</td>\n",
              "      <td>10</td>\n",
              "    </tr>\n",
              "    <tr>\n",
              "      <th>286</th>\n",
              "      <td>2020-03-27</td>\n",
              "      <td>3</td>\n",
              "      <td>3.714286</td>\n",
              "      <td>13</td>\n",
              "    </tr>\n",
              "    <tr>\n",
              "      <th>289</th>\n",
              "      <td>2020-03-28</td>\n",
              "      <td>2</td>\n",
              "      <td>2.857143</td>\n",
              "      <td>15</td>\n",
              "    </tr>\n",
              "    <tr>\n",
              "      <th>...</th>\n",
              "      <td>...</td>\n",
              "      <td>...</td>\n",
              "      <td>...</td>\n",
              "      <td>...</td>\n",
              "    </tr>\n",
              "    <tr>\n",
              "      <th>266</th>\n",
              "      <td>2021-01-04</td>\n",
              "      <td>7</td>\n",
              "      <td>7.142857</td>\n",
              "      <td>11826</td>\n",
              "    </tr>\n",
              "    <tr>\n",
              "      <th>173</th>\n",
              "      <td>2021-01-05</td>\n",
              "      <td>16</td>\n",
              "      <td>16.714286</td>\n",
              "      <td>11842</td>\n",
              "    </tr>\n",
              "    <tr>\n",
              "      <th>275</th>\n",
              "      <td>2021-01-06</td>\n",
              "      <td>6</td>\n",
              "      <td>6.000000</td>\n",
              "      <td>11848</td>\n",
              "    </tr>\n",
              "    <tr>\n",
              "      <th>290</th>\n",
              "      <td>2021-01-07</td>\n",
              "      <td>2</td>\n",
              "      <td>2.571429</td>\n",
              "      <td>11850</td>\n",
              "    </tr>\n",
              "    <tr>\n",
              "      <th>288</th>\n",
              "      <td>2021-01-08</td>\n",
              "      <td>2</td>\n",
              "      <td>3.142857</td>\n",
              "      <td>11852</td>\n",
              "    </tr>\n",
              "  </tbody>\n",
              "</table>\n",
              "<p>291 rows × 4 columns</p>\n",
              "</div>"
            ],
            "text/plain": [
              "    data_obito  total_obito_dia         MA  total_obito_acumulado\n",
              "282 2020-03-24                4   4.428571                      4\n",
              "287 2020-03-25                2   3.428571                      6\n",
              "283 2020-03-26                4   4.285714                     10\n",
              "286 2020-03-27                3   3.714286                     13\n",
              "289 2020-03-28                2   2.857143                     15\n",
              "..         ...              ...        ...                    ...\n",
              "266 2021-01-04                7   7.142857                  11826\n",
              "173 2021-01-05               16  16.714286                  11842\n",
              "275 2021-01-06                6   6.000000                  11848\n",
              "290 2021-01-07                2   2.571429                  11850\n",
              "288 2021-01-08                2   3.142857                  11852\n",
              "\n",
              "[291 rows x 4 columns]"
            ]
          },
          "metadata": {
            "tags": []
          },
          "execution_count": 44
        }
      ]
    },
    {
      "cell_type": "markdown",
      "metadata": {
        "id": "dEhDmcItOwM5"
      },
      "source": [
        "**GERAR GRÁFICO DE ÓBITOS E CASOS CONFIRMADOS POR DIA**"
      ]
    },
    {
      "cell_type": "markdown",
      "metadata": {
        "id": "3MpT09sTFP2a"
      },
      "source": [
        "**Gerar grupo de faixa de idade por óbito**"
      ]
    },
    {
      "cell_type": "code",
      "metadata": {
        "colab": {
          "base_uri": "https://localhost:8080/",
          "height": 200
        },
        "id": "Q0rnwo2bO8Vs",
        "outputId": "31e07c89-6c29-47ee-c0ac-d89486ae0b80"
      },
      "source": [
        "df_obitos.head(2)"
      ],
      "execution_count": 45,
      "outputs": [
        {
          "output_type": "execute_result",
          "data": {
            "text/html": [
              "<div>\n",
              "<style scoped>\n",
              "    .dataframe tbody tr th:only-of-type {\n",
              "        vertical-align: middle;\n",
              "    }\n",
              "\n",
              "    .dataframe tbody tr th {\n",
              "        vertical-align: top;\n",
              "    }\n",
              "\n",
              "    .dataframe thead th {\n",
              "        text-align: right;\n",
              "    }\n",
              "</style>\n",
              "<table border=\"1\" class=\"dataframe\">\n",
              "  <thead>\n",
              "    <tr style=\"text-align: right;\">\n",
              "      <th></th>\n",
              "      <th>identificadorCaso</th>\n",
              "      <th>idRedcap</th>\n",
              "      <th>idEsus</th>\n",
              "      <th>idSivep</th>\n",
              "      <th>classificacaoEstadoRedcap</th>\n",
              "      <th>classificacaoEstadoEsus</th>\n",
              "      <th>classificacaoFinalEsus</th>\n",
              "      <th>evolucaoCasoEsus</th>\n",
              "      <th>cboEsus</th>\n",
              "      <th>profissionalSaudeEsus</th>\n",
              "      <th>paisCaso</th>\n",
              "      <th>estadoCaso</th>\n",
              "      <th>codigoMunicipioCaso</th>\n",
              "      <th>municipioCaso</th>\n",
              "      <th>bairroCaso</th>\n",
              "      <th>bairroCasoGeocoder</th>\n",
              "      <th>sexoCaso</th>\n",
              "      <th>idadeCaso</th>\n",
              "      <th>faixaEtaria</th>\n",
              "      <th>dataNascimento</th>\n",
              "      <th>dataNotificacao</th>\n",
              "      <th>dataInicioSintomas</th>\n",
              "      <th>dataSolicitacaoExame</th>\n",
              "      <th>dataColetaExame</th>\n",
              "      <th>dataResultadoExame</th>\n",
              "      <th>resultadoFinalExame</th>\n",
              "      <th>laboratorioExame</th>\n",
              "      <th>classificacaoEstadoSivep</th>\n",
              "      <th>dataInternacaoSivep</th>\n",
              "      <th>dataEntradaUTISivep</th>\n",
              "      <th>dataSaidaUTISivep</th>\n",
              "      <th>evolucaoCasoSivep</th>\n",
              "      <th>dataEvolucaoCasoSivep</th>\n",
              "      <th>comorbidadePuerperaSivep</th>\n",
              "      <th>comorbidadeCardiovascularSivep</th>\n",
              "      <th>comorbidadeHematologiaSivep</th>\n",
              "      <th>comorbidadeSindromeDownSivep</th>\n",
              "      <th>comorbidadeHepaticaSivep</th>\n",
              "      <th>comorbidadeAsmaSivep</th>\n",
              "      <th>comorbidadeDiabetesSivep</th>\n",
              "      <th>comorbidadeNeurologiaSivep</th>\n",
              "      <th>comorbidadePneumopatiaSivep</th>\n",
              "      <th>comorbidadeImunodeficienciaSivep</th>\n",
              "      <th>comorbidadeRenalSivep</th>\n",
              "      <th>comorbidadeObesidadeSivep</th>\n",
              "      <th>comorbidadeHiv</th>\n",
              "      <th>comorbidadeNeoplasias</th>\n",
              "      <th>tipoTesteExame</th>\n",
              "      <th>requisicaoGal</th>\n",
              "      <th>racaCor</th>\n",
              "      <th>dataNotificacaoObito</th>\n",
              "      <th>cnesNotificacaoEsus</th>\n",
              "      <th>municipioNotificacaoEsus</th>\n",
              "      <th>tipoObitoMaterno</th>\n",
              "      <th>classificacaoFinalCasoSivep</th>\n",
              "      <th>gestante</th>\n",
              "      <th>tipoTesteEsus</th>\n",
              "      <th>obitoConfirmado</th>\n",
              "      <th>dataObito</th>\n",
              "      <th>classificacaoObito</th>\n",
              "      <th>localObito</th>\n",
              "      <th>tipoLocalObito</th>\n",
              "      <th>qtObito</th>\n",
              "      <th>qtCasoConfirmado</th>\n",
              "      <th>qtCasoConfirmadoSemObito</th>\n",
              "    </tr>\n",
              "  </thead>\n",
              "  <tbody>\n",
              "    <tr>\n",
              "      <th>4626</th>\n",
              "      <td>d569b935b5fa58b42fbd5da16ea888bb</td>\n",
              "      <td>NaN</td>\n",
              "      <td>NaN</td>\n",
              "      <td>3.160216e+11</td>\n",
              "      <td>NaN</td>\n",
              "      <td>NaN</td>\n",
              "      <td>NaN</td>\n",
              "      <td>NaN</td>\n",
              "      <td>NaN</td>\n",
              "      <td>NaN</td>\n",
              "      <td>BRASIL</td>\n",
              "      <td>CE</td>\n",
              "      <td>230030.0</td>\n",
              "      <td>ACOPIARA</td>\n",
              "      <td>NaN</td>\n",
              "      <td>NaN</td>\n",
              "      <td>FEMININO</td>\n",
              "      <td>75.0</td>\n",
              "      <td>75 a 79 anos</td>\n",
              "      <td>1945-11-03</td>\n",
              "      <td>2020-10-08</td>\n",
              "      <td>2020-10-08</td>\n",
              "      <td>2020-10-08</td>\n",
              "      <td>2020-10-08 03:00:00</td>\n",
              "      <td>2020-10-11 14:28:23</td>\n",
              "      <td>Positivo</td>\n",
              "      <td>LACEN</td>\n",
              "      <td>Negativo</td>\n",
              "      <td>NaN</td>\n",
              "      <td>NaN</td>\n",
              "      <td>NaN</td>\n",
              "      <td>3</td>\n",
              "      <td>2020-10-08 00:00:00.000</td>\n",
              "      <td>Não</td>\n",
              "      <td>Sim</td>\n",
              "      <td>Não</td>\n",
              "      <td>Não</td>\n",
              "      <td>Sim</td>\n",
              "      <td>Não</td>\n",
              "      <td>Sim</td>\n",
              "      <td>Não</td>\n",
              "      <td>Não</td>\n",
              "      <td>Não</td>\n",
              "      <td>Não</td>\n",
              "      <td>Não</td>\n",
              "      <td>NaN</td>\n",
              "      <td>NaN</td>\n",
              "      <td>Teste Rápido</td>\n",
              "      <td>NaN</td>\n",
              "      <td>Branca</td>\n",
              "      <td>2020-10-12 10:27:50.673</td>\n",
              "      <td>NaN</td>\n",
              "      <td>NaN</td>\n",
              "      <td>NaN</td>\n",
              "      <td>NaN</td>\n",
              "      <td>NaN</td>\n",
              "      <td>NaN</td>\n",
              "      <td>True</td>\n",
              "      <td>2020-10-08</td>\n",
              "      <td>SRAG Teste Rápido +</td>\n",
              "      <td>NaN</td>\n",
              "      <td>DOMICILIAR</td>\n",
              "      <td>1</td>\n",
              "      <td>1</td>\n",
              "      <td>0</td>\n",
              "    </tr>\n",
              "    <tr>\n",
              "      <th>12172</th>\n",
              "      <td>8824689678bbe6573bc5788aa4c01956</td>\n",
              "      <td>NaN</td>\n",
              "      <td>NaN</td>\n",
              "      <td>3.160683e+11</td>\n",
              "      <td>NaN</td>\n",
              "      <td>NaN</td>\n",
              "      <td>NaN</td>\n",
              "      <td>NaN</td>\n",
              "      <td>NaN</td>\n",
              "      <td>NaN</td>\n",
              "      <td>BRASIL</td>\n",
              "      <td>CE</td>\n",
              "      <td>230640.0</td>\n",
              "      <td>ITAPIPOCA</td>\n",
              "      <td>ESTACAO</td>\n",
              "      <td>NaN</td>\n",
              "      <td>MASCULINO</td>\n",
              "      <td>62.0</td>\n",
              "      <td>60 a 64 anos</td>\n",
              "      <td>1958-12-05</td>\n",
              "      <td>2020-11-30</td>\n",
              "      <td>2020-11-27</td>\n",
              "      <td>2020-12-01</td>\n",
              "      <td>2020-11-30 06:00:00</td>\n",
              "      <td>2020-12-03 19:08:17</td>\n",
              "      <td>Positivo</td>\n",
              "      <td>LACEN</td>\n",
              "      <td>Em Análise</td>\n",
              "      <td>2020-11-30 00:00:00.000</td>\n",
              "      <td>NaN</td>\n",
              "      <td>NaN</td>\n",
              "      <td>Ignorado</td>\n",
              "      <td>NaN</td>\n",
              "      <td>NaN</td>\n",
              "      <td>NaN</td>\n",
              "      <td>NaN</td>\n",
              "      <td>NaN</td>\n",
              "      <td>NaN</td>\n",
              "      <td>NaN</td>\n",
              "      <td>NaN</td>\n",
              "      <td>NaN</td>\n",
              "      <td>NaN</td>\n",
              "      <td>NaN</td>\n",
              "      <td>NaN</td>\n",
              "      <td>NaN</td>\n",
              "      <td>NaN</td>\n",
              "      <td>NaN</td>\n",
              "      <td>Teste Rápido</td>\n",
              "      <td>NaN</td>\n",
              "      <td>Parda</td>\n",
              "      <td>2020-12-02 11:07:50.430</td>\n",
              "      <td>NaN</td>\n",
              "      <td>NaN</td>\n",
              "      <td>NaN</td>\n",
              "      <td>SRAG por COVID-19</td>\n",
              "      <td>NaN</td>\n",
              "      <td>NaN</td>\n",
              "      <td>True</td>\n",
              "      <td>2020-12-01</td>\n",
              "      <td>SRAG Teste Rápido +</td>\n",
              "      <td>CENTRO DE ONCOLOGIA LEONARDO DA VINCI</td>\n",
              "      <td>PRIVADA</td>\n",
              "      <td>1</td>\n",
              "      <td>1</td>\n",
              "      <td>0</td>\n",
              "    </tr>\n",
              "  </tbody>\n",
              "</table>\n",
              "</div>"
            ],
            "text/plain": [
              "                      identificadorCaso  ...  qtCasoConfirmadoSemObito\n",
              "4626   d569b935b5fa58b42fbd5da16ea888bb  ...                         0\n",
              "12172  8824689678bbe6573bc5788aa4c01956  ...                         0\n",
              "\n",
              "[2 rows x 65 columns]"
            ]
          },
          "metadata": {
            "tags": []
          },
          "execution_count": 45
        }
      ]
    },
    {
      "cell_type": "code",
      "metadata": {
        "colab": {
          "base_uri": "https://localhost:8080/",
          "height": 601
        },
        "id": "vklITaspDs3u",
        "outputId": "552a6114-643f-4d15-dd0a-f3961968a1cc"
      },
      "source": [
        "counts_obitos_faixa_idade = df_obitos.groupby(['faixaEtaria', 'sexoCaso']).faixaEtaria.count().unstack()\r\n",
        "counts_obitos_faixa_idade"
      ],
      "execution_count": 47,
      "outputs": [
        {
          "output_type": "execute_result",
          "data": {
            "text/html": [
              "<div>\n",
              "<style scoped>\n",
              "    .dataframe tbody tr th:only-of-type {\n",
              "        vertical-align: middle;\n",
              "    }\n",
              "\n",
              "    .dataframe tbody tr th {\n",
              "        vertical-align: top;\n",
              "    }\n",
              "\n",
              "    .dataframe thead th {\n",
              "        text-align: right;\n",
              "    }\n",
              "</style>\n",
              "<table border=\"1\" class=\"dataframe\">\n",
              "  <thead>\n",
              "    <tr style=\"text-align: right;\">\n",
              "      <th>sexoCaso</th>\n",
              "      <th>FEMININO</th>\n",
              "      <th>MASCULINO</th>\n",
              "    </tr>\n",
              "    <tr>\n",
              "      <th>faixaEtaria</th>\n",
              "      <th></th>\n",
              "      <th></th>\n",
              "    </tr>\n",
              "  </thead>\n",
              "  <tbody>\n",
              "    <tr>\n",
              "      <th>00 a 04 anos</th>\n",
              "      <td>23</td>\n",
              "      <td>13</td>\n",
              "    </tr>\n",
              "    <tr>\n",
              "      <th>05 a 09 anos</th>\n",
              "      <td>2</td>\n",
              "      <td>5</td>\n",
              "    </tr>\n",
              "    <tr>\n",
              "      <th>10 a 14 anos</th>\n",
              "      <td>3</td>\n",
              "      <td>6</td>\n",
              "    </tr>\n",
              "    <tr>\n",
              "      <th>15 a 19 anos</th>\n",
              "      <td>14</td>\n",
              "      <td>20</td>\n",
              "    </tr>\n",
              "    <tr>\n",
              "      <th>20 a 24 anos</th>\n",
              "      <td>30</td>\n",
              "      <td>22</td>\n",
              "    </tr>\n",
              "    <tr>\n",
              "      <th>25 a 29 anos</th>\n",
              "      <td>29</td>\n",
              "      <td>53</td>\n",
              "    </tr>\n",
              "    <tr>\n",
              "      <th>30 a 34 anos</th>\n",
              "      <td>53</td>\n",
              "      <td>73</td>\n",
              "    </tr>\n",
              "    <tr>\n",
              "      <th>35 a 39 anos</th>\n",
              "      <td>83</td>\n",
              "      <td>142</td>\n",
              "    </tr>\n",
              "    <tr>\n",
              "      <th>40 a 44 anos</th>\n",
              "      <td>95</td>\n",
              "      <td>208</td>\n",
              "    </tr>\n",
              "    <tr>\n",
              "      <th>45 a 49 anos</th>\n",
              "      <td>139</td>\n",
              "      <td>245</td>\n",
              "    </tr>\n",
              "    <tr>\n",
              "      <th>50 a 54 anos</th>\n",
              "      <td>204</td>\n",
              "      <td>346</td>\n",
              "    </tr>\n",
              "    <tr>\n",
              "      <th>55 a 59 anos</th>\n",
              "      <td>269</td>\n",
              "      <td>483</td>\n",
              "    </tr>\n",
              "    <tr>\n",
              "      <th>60 a 64 anos</th>\n",
              "      <td>382</td>\n",
              "      <td>610</td>\n",
              "    </tr>\n",
              "    <tr>\n",
              "      <th>65 a 69 anos</th>\n",
              "      <td>478</td>\n",
              "      <td>731</td>\n",
              "    </tr>\n",
              "    <tr>\n",
              "      <th>70 a 74 anos</th>\n",
              "      <td>651</td>\n",
              "      <td>886</td>\n",
              "    </tr>\n",
              "    <tr>\n",
              "      <th>75 a 79 anos</th>\n",
              "      <td>702</td>\n",
              "      <td>898</td>\n",
              "    </tr>\n",
              "    <tr>\n",
              "      <th>80 ou mais</th>\n",
              "      <td>1804</td>\n",
              "      <td>2109</td>\n",
              "    </tr>\n",
              "  </tbody>\n",
              "</table>\n",
              "</div>"
            ],
            "text/plain": [
              "sexoCaso      FEMININO  MASCULINO\n",
              "faixaEtaria                      \n",
              "00 a 04 anos        23         13\n",
              "05 a 09 anos         2          5\n",
              "10 a 14 anos         3          6\n",
              "15 a 19 anos        14         20\n",
              "20 a 24 anos        30         22\n",
              "25 a 29 anos        29         53\n",
              "30 a 34 anos        53         73\n",
              "35 a 39 anos        83        142\n",
              "40 a 44 anos        95        208\n",
              "45 a 49 anos       139        245\n",
              "50 a 54 anos       204        346\n",
              "55 a 59 anos       269        483\n",
              "60 a 64 anos       382        610\n",
              "65 a 69 anos       478        731\n",
              "70 a 74 anos       651        886\n",
              "75 a 79 anos       702        898\n",
              "80 ou mais        1804       2109"
            ]
          },
          "metadata": {
            "tags": []
          },
          "execution_count": 47
        }
      ]
    },
    {
      "cell_type": "code",
      "metadata": {
        "id": "UHMZtgaJJpOO"
      },
      "source": [
        "#type(counts_obitos_faixa_idade)"
      ],
      "execution_count": null,
      "outputs": []
    },
    {
      "cell_type": "code",
      "metadata": {
        "colab": {
          "base_uri": "https://localhost:8080/",
          "height": 570
        },
        "id": "33AYIrg0JxcN",
        "outputId": "5a8f9106-e4c3-4e5f-faf4-67ada47468d0"
      },
      "source": [
        "df1 = counts_obitos_faixa_idade.reset_index()\r\n",
        "df1\r\n"
      ],
      "execution_count": 60,
      "outputs": [
        {
          "output_type": "execute_result",
          "data": {
            "text/html": [
              "<div>\n",
              "<style scoped>\n",
              "    .dataframe tbody tr th:only-of-type {\n",
              "        vertical-align: middle;\n",
              "    }\n",
              "\n",
              "    .dataframe tbody tr th {\n",
              "        vertical-align: top;\n",
              "    }\n",
              "\n",
              "    .dataframe thead th {\n",
              "        text-align: right;\n",
              "    }\n",
              "</style>\n",
              "<table border=\"1\" class=\"dataframe\">\n",
              "  <thead>\n",
              "    <tr style=\"text-align: right;\">\n",
              "      <th>sexoCaso</th>\n",
              "      <th>faixaEtaria</th>\n",
              "      <th>FEMININO</th>\n",
              "      <th>MASCULINO</th>\n",
              "    </tr>\n",
              "  </thead>\n",
              "  <tbody>\n",
              "    <tr>\n",
              "      <th>0</th>\n",
              "      <td>00 a 04 anos</td>\n",
              "      <td>23</td>\n",
              "      <td>13</td>\n",
              "    </tr>\n",
              "    <tr>\n",
              "      <th>1</th>\n",
              "      <td>05 a 09 anos</td>\n",
              "      <td>2</td>\n",
              "      <td>5</td>\n",
              "    </tr>\n",
              "    <tr>\n",
              "      <th>2</th>\n",
              "      <td>10 a 14 anos</td>\n",
              "      <td>3</td>\n",
              "      <td>6</td>\n",
              "    </tr>\n",
              "    <tr>\n",
              "      <th>3</th>\n",
              "      <td>15 a 19 anos</td>\n",
              "      <td>14</td>\n",
              "      <td>20</td>\n",
              "    </tr>\n",
              "    <tr>\n",
              "      <th>4</th>\n",
              "      <td>20 a 24 anos</td>\n",
              "      <td>30</td>\n",
              "      <td>22</td>\n",
              "    </tr>\n",
              "    <tr>\n",
              "      <th>5</th>\n",
              "      <td>25 a 29 anos</td>\n",
              "      <td>29</td>\n",
              "      <td>53</td>\n",
              "    </tr>\n",
              "    <tr>\n",
              "      <th>6</th>\n",
              "      <td>30 a 34 anos</td>\n",
              "      <td>53</td>\n",
              "      <td>73</td>\n",
              "    </tr>\n",
              "    <tr>\n",
              "      <th>7</th>\n",
              "      <td>35 a 39 anos</td>\n",
              "      <td>83</td>\n",
              "      <td>142</td>\n",
              "    </tr>\n",
              "    <tr>\n",
              "      <th>8</th>\n",
              "      <td>40 a 44 anos</td>\n",
              "      <td>95</td>\n",
              "      <td>208</td>\n",
              "    </tr>\n",
              "    <tr>\n",
              "      <th>9</th>\n",
              "      <td>45 a 49 anos</td>\n",
              "      <td>139</td>\n",
              "      <td>245</td>\n",
              "    </tr>\n",
              "    <tr>\n",
              "      <th>10</th>\n",
              "      <td>50 a 54 anos</td>\n",
              "      <td>204</td>\n",
              "      <td>346</td>\n",
              "    </tr>\n",
              "    <tr>\n",
              "      <th>11</th>\n",
              "      <td>55 a 59 anos</td>\n",
              "      <td>269</td>\n",
              "      <td>483</td>\n",
              "    </tr>\n",
              "    <tr>\n",
              "      <th>12</th>\n",
              "      <td>60 a 64 anos</td>\n",
              "      <td>382</td>\n",
              "      <td>610</td>\n",
              "    </tr>\n",
              "    <tr>\n",
              "      <th>13</th>\n",
              "      <td>65 a 69 anos</td>\n",
              "      <td>478</td>\n",
              "      <td>731</td>\n",
              "    </tr>\n",
              "    <tr>\n",
              "      <th>14</th>\n",
              "      <td>70 a 74 anos</td>\n",
              "      <td>651</td>\n",
              "      <td>886</td>\n",
              "    </tr>\n",
              "    <tr>\n",
              "      <th>15</th>\n",
              "      <td>75 a 79 anos</td>\n",
              "      <td>702</td>\n",
              "      <td>898</td>\n",
              "    </tr>\n",
              "    <tr>\n",
              "      <th>16</th>\n",
              "      <td>80 ou mais</td>\n",
              "      <td>1804</td>\n",
              "      <td>2109</td>\n",
              "    </tr>\n",
              "  </tbody>\n",
              "</table>\n",
              "</div>"
            ],
            "text/plain": [
              "sexoCaso   faixaEtaria  FEMININO  MASCULINO\n",
              "0         00 a 04 anos        23         13\n",
              "1         05 a 09 anos         2          5\n",
              "2         10 a 14 anos         3          6\n",
              "3         15 a 19 anos        14         20\n",
              "4         20 a 24 anos        30         22\n",
              "5         25 a 29 anos        29         53\n",
              "6         30 a 34 anos        53         73\n",
              "7         35 a 39 anos        83        142\n",
              "8         40 a 44 anos        95        208\n",
              "9         45 a 49 anos       139        245\n",
              "10        50 a 54 anos       204        346\n",
              "11        55 a 59 anos       269        483\n",
              "12        60 a 64 anos       382        610\n",
              "13        65 a 69 anos       478        731\n",
              "14        70 a 74 anos       651        886\n",
              "15        75 a 79 anos       702        898\n",
              "16          80 ou mais      1804       2109"
            ]
          },
          "metadata": {
            "tags": []
          },
          "execution_count": 60
        }
      ]
    },
    {
      "cell_type": "code",
      "metadata": {
        "colab": {
          "base_uri": "https://localhost:8080/",
          "height": 542
        },
        "id": "ZtQ2MZnWFWrV",
        "outputId": "84ba3073-891c-4e59-b244-daa1e97dbcd8"
      },
      "source": [
        "import plotly.express as px\r\n",
        "\r\n",
        "sexos = ['MASCULINO', 'FEMININO']\r\n",
        "faixas  = ['0-4', '5-9', '10-14', '15-19', '20-24', '25-29', '30-34', '35-39', '40-44', '45-49',\r\n",
        "           '50-54', '55-59', '60-64', '65-69 ', '70-74', '75-79', '80+']\r\n",
        "\r\n",
        "\r\n",
        "\r\n",
        "fig = go.Figure(data=[\r\n",
        "    go.Bar(name='MASCULINO', x= faixas, y= df1['MASCULINO']),\r\n",
        "    go.Bar(name='FEMININO', x= faixas, y= df1['FEMININO'])\r\n",
        "])\r\n",
        "# Change the bar mode\r\n",
        "fig.update_layout(barmode='group')\r\n",
        "fig.update_layout(title_text='Total de óbitos por faixa de idade')\r\n",
        "fig.show()\r\n",
        "\r\n",
        "\r\n",
        "\r\n"
      ],
      "execution_count": 49,
      "outputs": [
        {
          "output_type": "display_data",
          "data": {
            "text/html": [
              "<html>\n",
              "<head><meta charset=\"utf-8\" /></head>\n",
              "<body>\n",
              "    <div>\n",
              "            <script src=\"https://cdnjs.cloudflare.com/ajax/libs/mathjax/2.7.5/MathJax.js?config=TeX-AMS-MML_SVG\"></script><script type=\"text/javascript\">if (window.MathJax) {MathJax.Hub.Config({SVG: {font: \"STIX-Web\"}});}</script>\n",
              "                <script type=\"text/javascript\">window.PlotlyConfig = {MathJaxConfig: 'local'};</script>\n",
              "        <script src=\"https://cdn.plot.ly/plotly-latest.min.js\"></script>    \n",
              "            <div id=\"1372aa0c-c7d2-489f-a561-57190b14b906\" class=\"plotly-graph-div\" style=\"height:525px; width:100%;\"></div>\n",
              "            <script type=\"text/javascript\">\n",
              "                \n",
              "                    window.PLOTLYENV=window.PLOTLYENV || {};\n",
              "                    \n",
              "                if (document.getElementById(\"1372aa0c-c7d2-489f-a561-57190b14b906\")) {\n",
              "                    Plotly.newPlot(\n",
              "                        '1372aa0c-c7d2-489f-a561-57190b14b906',\n",
              "                        [{\"name\": \"MASCULINO\", \"type\": \"bar\", \"x\": [\"0-4\", \"5-9\", \"10-14\", \"15-19\", \"20-24\", \"25-29\", \"30-34\", \"35-39\", \"40-44\", \"45-49\", \"50-54\", \"55-59\", \"60-64\", \"65-69 \", \"70-74\", \"75-79\", \"80+\"], \"y\": [13, 5, 6, 20, 22, 53, 73, 142, 208, 245, 346, 483, 610, 731, 886, 898, 2109]}, {\"name\": \"FEMININO\", \"type\": \"bar\", \"x\": [\"0-4\", \"5-9\", \"10-14\", \"15-19\", \"20-24\", \"25-29\", \"30-34\", \"35-39\", \"40-44\", \"45-49\", \"50-54\", \"55-59\", \"60-64\", \"65-69 \", \"70-74\", \"75-79\", \"80+\"], \"y\": [23, 2, 3, 14, 30, 29, 53, 83, 95, 139, 204, 269, 382, 478, 651, 702, 1804]}],\n",
              "                        {\"barmode\": \"group\", \"template\": {\"data\": {\"bar\": [{\"error_x\": {\"color\": \"#2a3f5f\"}, \"error_y\": {\"color\": \"#2a3f5f\"}, \"marker\": {\"line\": {\"color\": \"#E5ECF6\", \"width\": 0.5}}, \"type\": \"bar\"}], \"barpolar\": [{\"marker\": {\"line\": {\"color\": \"#E5ECF6\", \"width\": 0.5}}, \"type\": \"barpolar\"}], \"carpet\": [{\"aaxis\": {\"endlinecolor\": \"#2a3f5f\", \"gridcolor\": \"white\", \"linecolor\": \"white\", \"minorgridcolor\": \"white\", \"startlinecolor\": \"#2a3f5f\"}, \"baxis\": {\"endlinecolor\": \"#2a3f5f\", \"gridcolor\": \"white\", \"linecolor\": \"white\", \"minorgridcolor\": \"white\", \"startlinecolor\": \"#2a3f5f\"}, \"type\": \"carpet\"}], \"choropleth\": [{\"colorbar\": {\"outlinewidth\": 0, \"ticks\": \"\"}, \"type\": \"choropleth\"}], \"contour\": [{\"colorbar\": {\"outlinewidth\": 0, \"ticks\": \"\"}, \"colorscale\": [[0.0, \"#0d0887\"], [0.1111111111111111, \"#46039f\"], [0.2222222222222222, \"#7201a8\"], [0.3333333333333333, \"#9c179e\"], [0.4444444444444444, \"#bd3786\"], [0.5555555555555556, \"#d8576b\"], [0.6666666666666666, \"#ed7953\"], [0.7777777777777778, \"#fb9f3a\"], [0.8888888888888888, \"#fdca26\"], [1.0, \"#f0f921\"]], \"type\": \"contour\"}], \"contourcarpet\": [{\"colorbar\": {\"outlinewidth\": 0, \"ticks\": \"\"}, \"type\": \"contourcarpet\"}], \"heatmap\": [{\"colorbar\": {\"outlinewidth\": 0, \"ticks\": \"\"}, \"colorscale\": [[0.0, \"#0d0887\"], [0.1111111111111111, \"#46039f\"], [0.2222222222222222, \"#7201a8\"], [0.3333333333333333, \"#9c179e\"], [0.4444444444444444, \"#bd3786\"], [0.5555555555555556, \"#d8576b\"], [0.6666666666666666, \"#ed7953\"], [0.7777777777777778, \"#fb9f3a\"], [0.8888888888888888, \"#fdca26\"], [1.0, \"#f0f921\"]], \"type\": \"heatmap\"}], \"heatmapgl\": [{\"colorbar\": {\"outlinewidth\": 0, \"ticks\": \"\"}, \"colorscale\": [[0.0, \"#0d0887\"], [0.1111111111111111, \"#46039f\"], [0.2222222222222222, \"#7201a8\"], [0.3333333333333333, \"#9c179e\"], [0.4444444444444444, \"#bd3786\"], [0.5555555555555556, \"#d8576b\"], [0.6666666666666666, \"#ed7953\"], [0.7777777777777778, \"#fb9f3a\"], [0.8888888888888888, \"#fdca26\"], [1.0, \"#f0f921\"]], \"type\": \"heatmapgl\"}], \"histogram\": [{\"marker\": {\"colorbar\": {\"outlinewidth\": 0, \"ticks\": \"\"}}, \"type\": \"histogram\"}], \"histogram2d\": [{\"colorbar\": {\"outlinewidth\": 0, \"ticks\": \"\"}, \"colorscale\": [[0.0, \"#0d0887\"], [0.1111111111111111, \"#46039f\"], [0.2222222222222222, \"#7201a8\"], [0.3333333333333333, \"#9c179e\"], [0.4444444444444444, \"#bd3786\"], [0.5555555555555556, \"#d8576b\"], [0.6666666666666666, \"#ed7953\"], [0.7777777777777778, \"#fb9f3a\"], [0.8888888888888888, \"#fdca26\"], [1.0, \"#f0f921\"]], \"type\": \"histogram2d\"}], \"histogram2dcontour\": [{\"colorbar\": {\"outlinewidth\": 0, \"ticks\": \"\"}, \"colorscale\": [[0.0, \"#0d0887\"], [0.1111111111111111, \"#46039f\"], [0.2222222222222222, \"#7201a8\"], [0.3333333333333333, \"#9c179e\"], [0.4444444444444444, \"#bd3786\"], [0.5555555555555556, \"#d8576b\"], [0.6666666666666666, \"#ed7953\"], [0.7777777777777778, \"#fb9f3a\"], [0.8888888888888888, \"#fdca26\"], [1.0, \"#f0f921\"]], \"type\": \"histogram2dcontour\"}], \"mesh3d\": [{\"colorbar\": {\"outlinewidth\": 0, \"ticks\": \"\"}, \"type\": \"mesh3d\"}], \"parcoords\": [{\"line\": {\"colorbar\": {\"outlinewidth\": 0, \"ticks\": \"\"}}, \"type\": \"parcoords\"}], \"pie\": [{\"automargin\": true, \"type\": \"pie\"}], \"scatter\": [{\"marker\": {\"colorbar\": {\"outlinewidth\": 0, \"ticks\": \"\"}}, \"type\": \"scatter\"}], \"scatter3d\": [{\"line\": {\"colorbar\": {\"outlinewidth\": 0, \"ticks\": \"\"}}, \"marker\": {\"colorbar\": {\"outlinewidth\": 0, \"ticks\": \"\"}}, \"type\": \"scatter3d\"}], \"scattercarpet\": [{\"marker\": {\"colorbar\": {\"outlinewidth\": 0, \"ticks\": \"\"}}, \"type\": \"scattercarpet\"}], \"scattergeo\": [{\"marker\": {\"colorbar\": {\"outlinewidth\": 0, \"ticks\": \"\"}}, \"type\": \"scattergeo\"}], \"scattergl\": [{\"marker\": {\"colorbar\": {\"outlinewidth\": 0, \"ticks\": \"\"}}, \"type\": \"scattergl\"}], \"scattermapbox\": [{\"marker\": {\"colorbar\": {\"outlinewidth\": 0, \"ticks\": \"\"}}, \"type\": \"scattermapbox\"}], \"scatterpolar\": [{\"marker\": {\"colorbar\": {\"outlinewidth\": 0, \"ticks\": \"\"}}, \"type\": \"scatterpolar\"}], \"scatterpolargl\": [{\"marker\": {\"colorbar\": {\"outlinewidth\": 0, \"ticks\": \"\"}}, \"type\": \"scatterpolargl\"}], \"scatterternary\": [{\"marker\": {\"colorbar\": {\"outlinewidth\": 0, \"ticks\": \"\"}}, \"type\": \"scatterternary\"}], \"surface\": [{\"colorbar\": {\"outlinewidth\": 0, \"ticks\": \"\"}, \"colorscale\": [[0.0, \"#0d0887\"], [0.1111111111111111, \"#46039f\"], [0.2222222222222222, \"#7201a8\"], [0.3333333333333333, \"#9c179e\"], [0.4444444444444444, \"#bd3786\"], [0.5555555555555556, \"#d8576b\"], [0.6666666666666666, \"#ed7953\"], [0.7777777777777778, \"#fb9f3a\"], [0.8888888888888888, \"#fdca26\"], [1.0, \"#f0f921\"]], \"type\": \"surface\"}], \"table\": [{\"cells\": {\"fill\": {\"color\": \"#EBF0F8\"}, \"line\": {\"color\": \"white\"}}, \"header\": {\"fill\": {\"color\": \"#C8D4E3\"}, \"line\": {\"color\": \"white\"}}, \"type\": \"table\"}]}, \"layout\": {\"annotationdefaults\": {\"arrowcolor\": \"#2a3f5f\", \"arrowhead\": 0, \"arrowwidth\": 1}, \"coloraxis\": {\"colorbar\": {\"outlinewidth\": 0, \"ticks\": \"\"}}, \"colorscale\": {\"diverging\": [[0, \"#8e0152\"], [0.1, \"#c51b7d\"], [0.2, \"#de77ae\"], [0.3, \"#f1b6da\"], [0.4, \"#fde0ef\"], [0.5, \"#f7f7f7\"], [0.6, \"#e6f5d0\"], [0.7, \"#b8e186\"], [0.8, \"#7fbc41\"], [0.9, \"#4d9221\"], [1, \"#276419\"]], \"sequential\": [[0.0, \"#0d0887\"], [0.1111111111111111, \"#46039f\"], [0.2222222222222222, \"#7201a8\"], [0.3333333333333333, \"#9c179e\"], [0.4444444444444444, \"#bd3786\"], [0.5555555555555556, \"#d8576b\"], [0.6666666666666666, \"#ed7953\"], [0.7777777777777778, \"#fb9f3a\"], [0.8888888888888888, \"#fdca26\"], [1.0, \"#f0f921\"]], \"sequentialminus\": [[0.0, \"#0d0887\"], [0.1111111111111111, \"#46039f\"], [0.2222222222222222, \"#7201a8\"], [0.3333333333333333, \"#9c179e\"], [0.4444444444444444, \"#bd3786\"], [0.5555555555555556, \"#d8576b\"], [0.6666666666666666, \"#ed7953\"], [0.7777777777777778, \"#fb9f3a\"], [0.8888888888888888, \"#fdca26\"], [1.0, \"#f0f921\"]]}, \"colorway\": [\"#636efa\", \"#EF553B\", \"#00cc96\", \"#ab63fa\", \"#FFA15A\", \"#19d3f3\", \"#FF6692\", \"#B6E880\", \"#FF97FF\", \"#FECB52\"], \"font\": {\"color\": \"#2a3f5f\"}, \"geo\": {\"bgcolor\": \"white\", \"lakecolor\": \"white\", \"landcolor\": \"#E5ECF6\", \"showlakes\": true, \"showland\": true, \"subunitcolor\": \"white\"}, \"hoverlabel\": {\"align\": \"left\"}, \"hovermode\": \"closest\", \"mapbox\": {\"style\": \"light\"}, \"paper_bgcolor\": \"white\", \"plot_bgcolor\": \"#E5ECF6\", \"polar\": {\"angularaxis\": {\"gridcolor\": \"white\", \"linecolor\": \"white\", \"ticks\": \"\"}, \"bgcolor\": \"#E5ECF6\", \"radialaxis\": {\"gridcolor\": \"white\", \"linecolor\": \"white\", \"ticks\": \"\"}}, \"scene\": {\"xaxis\": {\"backgroundcolor\": \"#E5ECF6\", \"gridcolor\": \"white\", \"gridwidth\": 2, \"linecolor\": \"white\", \"showbackground\": true, \"ticks\": \"\", \"zerolinecolor\": \"white\"}, \"yaxis\": {\"backgroundcolor\": \"#E5ECF6\", \"gridcolor\": \"white\", \"gridwidth\": 2, \"linecolor\": \"white\", \"showbackground\": true, \"ticks\": \"\", \"zerolinecolor\": \"white\"}, \"zaxis\": {\"backgroundcolor\": \"#E5ECF6\", \"gridcolor\": \"white\", \"gridwidth\": 2, \"linecolor\": \"white\", \"showbackground\": true, \"ticks\": \"\", \"zerolinecolor\": \"white\"}}, \"shapedefaults\": {\"line\": {\"color\": \"#2a3f5f\"}}, \"ternary\": {\"aaxis\": {\"gridcolor\": \"white\", \"linecolor\": \"white\", \"ticks\": \"\"}, \"baxis\": {\"gridcolor\": \"white\", \"linecolor\": \"white\", \"ticks\": \"\"}, \"bgcolor\": \"#E5ECF6\", \"caxis\": {\"gridcolor\": \"white\", \"linecolor\": \"white\", \"ticks\": \"\"}}, \"title\": {\"x\": 0.05}, \"xaxis\": {\"automargin\": true, \"gridcolor\": \"white\", \"linecolor\": \"white\", \"ticks\": \"\", \"title\": {\"standoff\": 15}, \"zerolinecolor\": \"white\", \"zerolinewidth\": 2}, \"yaxis\": {\"automargin\": true, \"gridcolor\": \"white\", \"linecolor\": \"white\", \"ticks\": \"\", \"title\": {\"standoff\": 15}, \"zerolinecolor\": \"white\", \"zerolinewidth\": 2}}}, \"title\": {\"text\": \"Total de \\u00f3bitos por faixa de idade\"}},\n",
              "                        {\"responsive\": true}\n",
              "                    ).then(function(){\n",
              "                            \n",
              "var gd = document.getElementById('1372aa0c-c7d2-489f-a561-57190b14b906');\n",
              "var x = new MutationObserver(function (mutations, observer) {{\n",
              "        var display = window.getComputedStyle(gd).display;\n",
              "        if (!display || display === 'none') {{\n",
              "            console.log([gd, 'removed!']);\n",
              "            Plotly.purge(gd);\n",
              "            observer.disconnect();\n",
              "        }}\n",
              "}});\n",
              "\n",
              "// Listen for the removal of the full notebook cells\n",
              "var notebookContainer = gd.closest('#notebook-container');\n",
              "if (notebookContainer) {{\n",
              "    x.observe(notebookContainer, {childList: true});\n",
              "}}\n",
              "\n",
              "// Listen for the clearing of the current output cell\n",
              "var outputEl = gd.closest('.output');\n",
              "if (outputEl) {{\n",
              "    x.observe(outputEl, {childList: true});\n",
              "}}\n",
              "\n",
              "                        })\n",
              "                };\n",
              "                \n",
              "            </script>\n",
              "        </div>\n",
              "</body>\n",
              "</html>"
            ]
          },
          "metadata": {
            "tags": []
          }
        }
      ]
    },
    {
      "cell_type": "code",
      "metadata": {
        "id": "8WreyNY9F4rV"
      },
      "source": [
        ""
      ],
      "execution_count": null,
      "outputs": []
    },
    {
      "cell_type": "markdown",
      "metadata": {
        "id": "eco_zPwx1d7A"
      },
      "source": [
        "Distribuição de óbitos por sexo do paciente"
      ]
    },
    {
      "cell_type": "code",
      "metadata": {
        "id": "BmIaV_oO1igV"
      },
      "source": [
        "obito_by_sexo = df_obitos.groupby([ 'sexoCaso', 'racaCor']).size().unstack('racaCor')\r\n",
        "obito_by_sexo.columns =  ['Parda','Branca','Amarela', 'Não Informado','Preta','Ignorado','Indígena', 'Indigena']"
      ],
      "execution_count": 50,
      "outputs": []
    },
    {
      "cell_type": "code",
      "metadata": {
        "colab": {
          "base_uri": "https://localhost:8080/",
          "height": 141
        },
        "id": "WXy3s4j81kkL",
        "outputId": "bfa892c5-c4dd-4a80-bd8b-8cedf25ea065"
      },
      "source": [
        "obito_by_sexo"
      ],
      "execution_count": 51,
      "outputs": [
        {
          "output_type": "execute_result",
          "data": {
            "text/html": [
              "<div>\n",
              "<style scoped>\n",
              "    .dataframe tbody tr th:only-of-type {\n",
              "        vertical-align: middle;\n",
              "    }\n",
              "\n",
              "    .dataframe tbody tr th {\n",
              "        vertical-align: top;\n",
              "    }\n",
              "\n",
              "    .dataframe thead th {\n",
              "        text-align: right;\n",
              "    }\n",
              "</style>\n",
              "<table border=\"1\" class=\"dataframe\">\n",
              "  <thead>\n",
              "    <tr style=\"text-align: right;\">\n",
              "      <th></th>\n",
              "      <th>Parda</th>\n",
              "      <th>Branca</th>\n",
              "      <th>Amarela</th>\n",
              "      <th>Não Informado</th>\n",
              "      <th>Preta</th>\n",
              "      <th>Ignorado</th>\n",
              "      <th>Indígena</th>\n",
              "      <th>Indigena</th>\n",
              "    </tr>\n",
              "    <tr>\n",
              "      <th>sexoCaso</th>\n",
              "      <th></th>\n",
              "      <th></th>\n",
              "      <th></th>\n",
              "      <th></th>\n",
              "      <th></th>\n",
              "      <th></th>\n",
              "      <th></th>\n",
              "      <th></th>\n",
              "    </tr>\n",
              "  </thead>\n",
              "  <tbody>\n",
              "    <tr>\n",
              "      <th>FEMININO</th>\n",
              "      <td>48</td>\n",
              "      <td>391</td>\n",
              "      <td>10</td>\n",
              "      <td>2</td>\n",
              "      <td>2073</td>\n",
              "      <td>2377</td>\n",
              "      <td>54</td>\n",
              "      <td>22</td>\n",
              "    </tr>\n",
              "    <tr>\n",
              "      <th>MASCULINO</th>\n",
              "      <td>71</td>\n",
              "      <td>448</td>\n",
              "      <td>8</td>\n",
              "      <td>12</td>\n",
              "      <td>2767</td>\n",
              "      <td>3444</td>\n",
              "      <td>101</td>\n",
              "      <td>24</td>\n",
              "    </tr>\n",
              "  </tbody>\n",
              "</table>\n",
              "</div>"
            ],
            "text/plain": [
              "           Parda  Branca  Amarela  ...  Ignorado  Indígena  Indigena\n",
              "sexoCaso                           ...                              \n",
              "FEMININO      48     391       10  ...      2377        54        22\n",
              "MASCULINO     71     448        8  ...      3444       101        24\n",
              "\n",
              "[2 rows x 8 columns]"
            ]
          },
          "metadata": {
            "tags": []
          },
          "execution_count": 51
        }
      ]
    },
    {
      "cell_type": "code",
      "metadata": {
        "colab": {
          "base_uri": "https://localhost:8080/",
          "height": 141
        },
        "id": "OYTPx39bABAn",
        "outputId": "7c301fcf-c2ea-4229-ffdc-4cc7c454c2e3"
      },
      "source": [
        "obito_by_sexo['ind'] = obito_by_sexo['Indígena']+obito_by_sexo['Indigena']\r\n",
        "obito_by_sexo"
      ],
      "execution_count": 52,
      "outputs": [
        {
          "output_type": "execute_result",
          "data": {
            "text/html": [
              "<div>\n",
              "<style scoped>\n",
              "    .dataframe tbody tr th:only-of-type {\n",
              "        vertical-align: middle;\n",
              "    }\n",
              "\n",
              "    .dataframe tbody tr th {\n",
              "        vertical-align: top;\n",
              "    }\n",
              "\n",
              "    .dataframe thead th {\n",
              "        text-align: right;\n",
              "    }\n",
              "</style>\n",
              "<table border=\"1\" class=\"dataframe\">\n",
              "  <thead>\n",
              "    <tr style=\"text-align: right;\">\n",
              "      <th></th>\n",
              "      <th>Parda</th>\n",
              "      <th>Branca</th>\n",
              "      <th>Amarela</th>\n",
              "      <th>Não Informado</th>\n",
              "      <th>Preta</th>\n",
              "      <th>Ignorado</th>\n",
              "      <th>Indígena</th>\n",
              "      <th>Indigena</th>\n",
              "      <th>ind</th>\n",
              "    </tr>\n",
              "    <tr>\n",
              "      <th>sexoCaso</th>\n",
              "      <th></th>\n",
              "      <th></th>\n",
              "      <th></th>\n",
              "      <th></th>\n",
              "      <th></th>\n",
              "      <th></th>\n",
              "      <th></th>\n",
              "      <th></th>\n",
              "      <th></th>\n",
              "    </tr>\n",
              "  </thead>\n",
              "  <tbody>\n",
              "    <tr>\n",
              "      <th>FEMININO</th>\n",
              "      <td>48</td>\n",
              "      <td>391</td>\n",
              "      <td>10</td>\n",
              "      <td>2</td>\n",
              "      <td>2073</td>\n",
              "      <td>2377</td>\n",
              "      <td>54</td>\n",
              "      <td>22</td>\n",
              "      <td>76</td>\n",
              "    </tr>\n",
              "    <tr>\n",
              "      <th>MASCULINO</th>\n",
              "      <td>71</td>\n",
              "      <td>448</td>\n",
              "      <td>8</td>\n",
              "      <td>12</td>\n",
              "      <td>2767</td>\n",
              "      <td>3444</td>\n",
              "      <td>101</td>\n",
              "      <td>24</td>\n",
              "      <td>125</td>\n",
              "    </tr>\n",
              "  </tbody>\n",
              "</table>\n",
              "</div>"
            ],
            "text/plain": [
              "           Parda  Branca  Amarela  ...  Indígena  Indigena  ind\n",
              "sexoCaso                           ...                         \n",
              "FEMININO      48     391       10  ...        54        22   76\n",
              "MASCULINO     71     448        8  ...       101        24  125\n",
              "\n",
              "[2 rows x 9 columns]"
            ]
          },
          "metadata": {
            "tags": []
          },
          "execution_count": 52
        }
      ]
    },
    {
      "cell_type": "code",
      "metadata": {
        "colab": {
          "base_uri": "https://localhost:8080/",
          "height": 141
        },
        "id": "U9JckgNnAYXt",
        "outputId": "4d50f414-b260-4703-b32a-01f547a37c0d"
      },
      "source": [
        "obito_by_sexo.drop(['Indígena', 'Indigena'], axis=1, inplace= True)\r\n",
        "obito_by_sexo"
      ],
      "execution_count": 53,
      "outputs": [
        {
          "output_type": "execute_result",
          "data": {
            "text/html": [
              "<div>\n",
              "<style scoped>\n",
              "    .dataframe tbody tr th:only-of-type {\n",
              "        vertical-align: middle;\n",
              "    }\n",
              "\n",
              "    .dataframe tbody tr th {\n",
              "        vertical-align: top;\n",
              "    }\n",
              "\n",
              "    .dataframe thead th {\n",
              "        text-align: right;\n",
              "    }\n",
              "</style>\n",
              "<table border=\"1\" class=\"dataframe\">\n",
              "  <thead>\n",
              "    <tr style=\"text-align: right;\">\n",
              "      <th></th>\n",
              "      <th>Parda</th>\n",
              "      <th>Branca</th>\n",
              "      <th>Amarela</th>\n",
              "      <th>Não Informado</th>\n",
              "      <th>Preta</th>\n",
              "      <th>Ignorado</th>\n",
              "      <th>ind</th>\n",
              "    </tr>\n",
              "    <tr>\n",
              "      <th>sexoCaso</th>\n",
              "      <th></th>\n",
              "      <th></th>\n",
              "      <th></th>\n",
              "      <th></th>\n",
              "      <th></th>\n",
              "      <th></th>\n",
              "      <th></th>\n",
              "    </tr>\n",
              "  </thead>\n",
              "  <tbody>\n",
              "    <tr>\n",
              "      <th>FEMININO</th>\n",
              "      <td>48</td>\n",
              "      <td>391</td>\n",
              "      <td>10</td>\n",
              "      <td>2</td>\n",
              "      <td>2073</td>\n",
              "      <td>2377</td>\n",
              "      <td>76</td>\n",
              "    </tr>\n",
              "    <tr>\n",
              "      <th>MASCULINO</th>\n",
              "      <td>71</td>\n",
              "      <td>448</td>\n",
              "      <td>8</td>\n",
              "      <td>12</td>\n",
              "      <td>2767</td>\n",
              "      <td>3444</td>\n",
              "      <td>125</td>\n",
              "    </tr>\n",
              "  </tbody>\n",
              "</table>\n",
              "</div>"
            ],
            "text/plain": [
              "           Parda  Branca  Amarela  Não Informado  Preta  Ignorado  ind\n",
              "sexoCaso                                                              \n",
              "FEMININO      48     391       10              2   2073      2377   76\n",
              "MASCULINO     71     448        8             12   2767      3444  125"
            ]
          },
          "metadata": {
            "tags": []
          },
          "execution_count": 53
        }
      ]
    },
    {
      "cell_type": "code",
      "metadata": {
        "colab": {
          "base_uri": "https://localhost:8080/",
          "height": 141
        },
        "id": "y3oLpj_tAvvW",
        "outputId": "5d832b43-9ac7-49f5-e35a-ab297e8ffbcf"
      },
      "source": [
        "obito_by_sexo.rename(columns={\"ind\": \"Indigena\"}, inplace= True)\r\n",
        "obito_by_sexo"
      ],
      "execution_count": 54,
      "outputs": [
        {
          "output_type": "execute_result",
          "data": {
            "text/html": [
              "<div>\n",
              "<style scoped>\n",
              "    .dataframe tbody tr th:only-of-type {\n",
              "        vertical-align: middle;\n",
              "    }\n",
              "\n",
              "    .dataframe tbody tr th {\n",
              "        vertical-align: top;\n",
              "    }\n",
              "\n",
              "    .dataframe thead th {\n",
              "        text-align: right;\n",
              "    }\n",
              "</style>\n",
              "<table border=\"1\" class=\"dataframe\">\n",
              "  <thead>\n",
              "    <tr style=\"text-align: right;\">\n",
              "      <th></th>\n",
              "      <th>Parda</th>\n",
              "      <th>Branca</th>\n",
              "      <th>Amarela</th>\n",
              "      <th>Não Informado</th>\n",
              "      <th>Preta</th>\n",
              "      <th>Ignorado</th>\n",
              "      <th>Indigena</th>\n",
              "    </tr>\n",
              "    <tr>\n",
              "      <th>sexoCaso</th>\n",
              "      <th></th>\n",
              "      <th></th>\n",
              "      <th></th>\n",
              "      <th></th>\n",
              "      <th></th>\n",
              "      <th></th>\n",
              "      <th></th>\n",
              "    </tr>\n",
              "  </thead>\n",
              "  <tbody>\n",
              "    <tr>\n",
              "      <th>FEMININO</th>\n",
              "      <td>48</td>\n",
              "      <td>391</td>\n",
              "      <td>10</td>\n",
              "      <td>2</td>\n",
              "      <td>2073</td>\n",
              "      <td>2377</td>\n",
              "      <td>76</td>\n",
              "    </tr>\n",
              "    <tr>\n",
              "      <th>MASCULINO</th>\n",
              "      <td>71</td>\n",
              "      <td>448</td>\n",
              "      <td>8</td>\n",
              "      <td>12</td>\n",
              "      <td>2767</td>\n",
              "      <td>3444</td>\n",
              "      <td>125</td>\n",
              "    </tr>\n",
              "  </tbody>\n",
              "</table>\n",
              "</div>"
            ],
            "text/plain": [
              "           Parda  Branca  Amarela  Não Informado  Preta  Ignorado  Indigena\n",
              "sexoCaso                                                                   \n",
              "FEMININO      48     391       10              2   2073      2377        76\n",
              "MASCULINO     71     448        8             12   2767      3444       125"
            ]
          },
          "metadata": {
            "tags": []
          },
          "execution_count": 54
        }
      ]
    },
    {
      "cell_type": "code",
      "metadata": {
        "colab": {
          "base_uri": "https://localhost:8080/",
          "height": 542
        },
        "id": "eMsp0V_l4GJt",
        "outputId": "cbd6103a-7282-4749-c10d-e7045072c8d1"
      },
      "source": [
        "import plotly.graph_objects as go\r\n",
        "from plotly.subplots import make_subplots\r\n",
        "\r\n",
        "labels = ['FEMININO', 'MASCULINO']\r\n",
        "\r\n",
        "# Create subplots: use 'domain' type for Pie subplot\r\n",
        "fig = make_subplots(rows=2, cols=3, specs=[ [ {'type':'domain'}, {'type':'domain'}, {'type':'domain'}], \r\n",
        "                                          [{'type':'domain'}, {'type':'domain'}, {'type':'domain'}]\r\n",
        "                                          ]\r\n",
        "                    )\r\n",
        "\r\n",
        "#parda\r\n",
        "fig.add_trace(go.Pie(labels=labels, values=[45,68], name=\"Parda\"), 1, 1)\r\n",
        "fig.add_trace(go.Pie(labels=labels, values=[381,441], name=\"Branca\"), 1, 2)\r\n",
        "fig.add_trace(go.Pie(labels=labels, values=[9,6], name=\"Amarela\"), 1, 3)\r\n",
        "\r\n",
        "fig.add_trace(go.Pie(labels=labels, values=[2,12], name=\"Não Informado\"), 2, 1)\r\n",
        "fig.add_trace(go.Pie(labels=labels, values=[9,6], name=\"Preta\"), 2, 2)\r\n",
        "fig.add_trace(go.Pie(labels=labels, values=[381,441], name=\"Ignorado\"),2, 3)\r\n",
        "\r\n",
        "#fig.add_trace(go.Pie(labels=labels, values=[381,441], name=\"Ignorado\"),3, 1)\r\n",
        "#branca\r\n",
        "\r\n",
        "#fig.add_trace(go.Pie(labels=labels, values=[68, 381], name=\"Parda\"), 2, 1)\r\n",
        "#fig.add_trace(go.Pie(labels=labels, values=[68, 441], name=\"Branca\"),2, 2)\r\n",
        "\r\n",
        "# Use `hole` to create a donut-like pie chart\r\n",
        "fig.update_traces(hole=.4) #hoverinfo=\"label+percent+name\")\r\n",
        "\r\n",
        "fig.update_layout(\r\n",
        "    title_text=\"Relação de Número de óbitos confirmados segundo raça/cor\",\r\n",
        "    # Add annotations in the center of the donut pies.\r\n",
        "    annotations=[dict(text='Parda', x=0.12, y=0.5, font_size=20, showarrow=False),\r\n",
        "                 dict(text='Branca', x=0.50, y=0.5, font_size=20, showarrow=False),\r\n",
        "                 dict(text='Amarela', x=0.90, y=0.5, font_size=20, showarrow=False),\r\n",
        "                  dict(text='Nao Informado', x=0.12, y=3.4, font_size=20, showarrow=False)]\r\n",
        "                  )\r\n",
        "fig.show()\r\n",
        "\r\n"
      ],
      "execution_count": 55,
      "outputs": [
        {
          "output_type": "display_data",
          "data": {
            "text/html": [
              "<html>\n",
              "<head><meta charset=\"utf-8\" /></head>\n",
              "<body>\n",
              "    <div>\n",
              "            <script src=\"https://cdnjs.cloudflare.com/ajax/libs/mathjax/2.7.5/MathJax.js?config=TeX-AMS-MML_SVG\"></script><script type=\"text/javascript\">if (window.MathJax) {MathJax.Hub.Config({SVG: {font: \"STIX-Web\"}});}</script>\n",
              "                <script type=\"text/javascript\">window.PlotlyConfig = {MathJaxConfig: 'local'};</script>\n",
              "        <script src=\"https://cdn.plot.ly/plotly-latest.min.js\"></script>    \n",
              "            <div id=\"bf9c5127-9cc0-4eb6-9047-6c2019060158\" class=\"plotly-graph-div\" style=\"height:525px; width:100%;\"></div>\n",
              "            <script type=\"text/javascript\">\n",
              "                \n",
              "                    window.PLOTLYENV=window.PLOTLYENV || {};\n",
              "                    \n",
              "                if (document.getElementById(\"bf9c5127-9cc0-4eb6-9047-6c2019060158\")) {\n",
              "                    Plotly.newPlot(\n",
              "                        'bf9c5127-9cc0-4eb6-9047-6c2019060158',\n",
              "                        [{\"domain\": {\"x\": [0.0, 0.2888888888888889], \"y\": [0.575, 1.0]}, \"hole\": 0.4, \"labels\": [\"FEMININO\", \"MASCULINO\"], \"name\": \"Parda\", \"type\": \"pie\", \"values\": [45, 68]}, {\"domain\": {\"x\": [0.35555555555555557, 0.6444444444444445], \"y\": [0.575, 1.0]}, \"hole\": 0.4, \"labels\": [\"FEMININO\", \"MASCULINO\"], \"name\": \"Branca\", \"type\": \"pie\", \"values\": [381, 441]}, {\"domain\": {\"x\": [0.7111111111111111, 1.0], \"y\": [0.575, 1.0]}, \"hole\": 0.4, \"labels\": [\"FEMININO\", \"MASCULINO\"], \"name\": \"Amarela\", \"type\": \"pie\", \"values\": [9, 6]}, {\"domain\": {\"x\": [0.0, 0.2888888888888889], \"y\": [0.0, 0.425]}, \"hole\": 0.4, \"labels\": [\"FEMININO\", \"MASCULINO\"], \"name\": \"N\\u00e3o Informado\", \"type\": \"pie\", \"values\": [2, 12]}, {\"domain\": {\"x\": [0.35555555555555557, 0.6444444444444445], \"y\": [0.0, 0.425]}, \"hole\": 0.4, \"labels\": [\"FEMININO\", \"MASCULINO\"], \"name\": \"Preta\", \"type\": \"pie\", \"values\": [9, 6]}, {\"domain\": {\"x\": [0.7111111111111111, 1.0], \"y\": [0.0, 0.425]}, \"hole\": 0.4, \"labels\": [\"FEMININO\", \"MASCULINO\"], \"name\": \"Ignorado\", \"type\": \"pie\", \"values\": [381, 441]}],\n",
              "                        {\"annotations\": [{\"font\": {\"size\": 20}, \"showarrow\": false, \"text\": \"Parda\", \"x\": 0.12, \"y\": 0.5}, {\"font\": {\"size\": 20}, \"showarrow\": false, \"text\": \"Branca\", \"x\": 0.5, \"y\": 0.5}, {\"font\": {\"size\": 20}, \"showarrow\": false, \"text\": \"Amarela\", \"x\": 0.9, \"y\": 0.5}, {\"font\": {\"size\": 20}, \"showarrow\": false, \"text\": \"Nao Informado\", \"x\": 0.12, \"y\": 3.4}], \"template\": {\"data\": {\"bar\": [{\"error_x\": {\"color\": \"#2a3f5f\"}, \"error_y\": {\"color\": \"#2a3f5f\"}, \"marker\": {\"line\": {\"color\": \"#E5ECF6\", \"width\": 0.5}}, \"type\": \"bar\"}], \"barpolar\": [{\"marker\": {\"line\": {\"color\": \"#E5ECF6\", \"width\": 0.5}}, \"type\": \"barpolar\"}], \"carpet\": [{\"aaxis\": {\"endlinecolor\": \"#2a3f5f\", \"gridcolor\": \"white\", \"linecolor\": \"white\", \"minorgridcolor\": \"white\", \"startlinecolor\": \"#2a3f5f\"}, \"baxis\": {\"endlinecolor\": \"#2a3f5f\", \"gridcolor\": \"white\", \"linecolor\": \"white\", \"minorgridcolor\": \"white\", \"startlinecolor\": \"#2a3f5f\"}, \"type\": \"carpet\"}], \"choropleth\": [{\"colorbar\": {\"outlinewidth\": 0, \"ticks\": \"\"}, \"type\": \"choropleth\"}], \"contour\": [{\"colorbar\": {\"outlinewidth\": 0, \"ticks\": \"\"}, \"colorscale\": [[0.0, \"#0d0887\"], [0.1111111111111111, \"#46039f\"], [0.2222222222222222, \"#7201a8\"], [0.3333333333333333, \"#9c179e\"], [0.4444444444444444, \"#bd3786\"], [0.5555555555555556, \"#d8576b\"], [0.6666666666666666, \"#ed7953\"], [0.7777777777777778, \"#fb9f3a\"], [0.8888888888888888, \"#fdca26\"], [1.0, \"#f0f921\"]], \"type\": \"contour\"}], \"contourcarpet\": [{\"colorbar\": {\"outlinewidth\": 0, \"ticks\": \"\"}, \"type\": \"contourcarpet\"}], \"heatmap\": [{\"colorbar\": {\"outlinewidth\": 0, \"ticks\": \"\"}, \"colorscale\": [[0.0, \"#0d0887\"], [0.1111111111111111, \"#46039f\"], [0.2222222222222222, \"#7201a8\"], [0.3333333333333333, \"#9c179e\"], [0.4444444444444444, \"#bd3786\"], [0.5555555555555556, \"#d8576b\"], [0.6666666666666666, \"#ed7953\"], [0.7777777777777778, \"#fb9f3a\"], [0.8888888888888888, \"#fdca26\"], [1.0, \"#f0f921\"]], \"type\": \"heatmap\"}], \"heatmapgl\": [{\"colorbar\": {\"outlinewidth\": 0, \"ticks\": \"\"}, \"colorscale\": [[0.0, \"#0d0887\"], [0.1111111111111111, \"#46039f\"], [0.2222222222222222, \"#7201a8\"], [0.3333333333333333, \"#9c179e\"], [0.4444444444444444, \"#bd3786\"], [0.5555555555555556, \"#d8576b\"], [0.6666666666666666, \"#ed7953\"], [0.7777777777777778, \"#fb9f3a\"], [0.8888888888888888, \"#fdca26\"], [1.0, \"#f0f921\"]], \"type\": \"heatmapgl\"}], \"histogram\": [{\"marker\": {\"colorbar\": {\"outlinewidth\": 0, \"ticks\": \"\"}}, \"type\": \"histogram\"}], \"histogram2d\": [{\"colorbar\": {\"outlinewidth\": 0, \"ticks\": \"\"}, \"colorscale\": [[0.0, \"#0d0887\"], [0.1111111111111111, \"#46039f\"], [0.2222222222222222, \"#7201a8\"], [0.3333333333333333, \"#9c179e\"], [0.4444444444444444, \"#bd3786\"], [0.5555555555555556, \"#d8576b\"], [0.6666666666666666, \"#ed7953\"], [0.7777777777777778, \"#fb9f3a\"], [0.8888888888888888, \"#fdca26\"], [1.0, \"#f0f921\"]], \"type\": \"histogram2d\"}], \"histogram2dcontour\": [{\"colorbar\": {\"outlinewidth\": 0, \"ticks\": \"\"}, \"colorscale\": [[0.0, \"#0d0887\"], [0.1111111111111111, \"#46039f\"], [0.2222222222222222, \"#7201a8\"], [0.3333333333333333, \"#9c179e\"], [0.4444444444444444, \"#bd3786\"], [0.5555555555555556, \"#d8576b\"], [0.6666666666666666, \"#ed7953\"], [0.7777777777777778, \"#fb9f3a\"], [0.8888888888888888, \"#fdca26\"], [1.0, \"#f0f921\"]], \"type\": \"histogram2dcontour\"}], \"mesh3d\": [{\"colorbar\": {\"outlinewidth\": 0, \"ticks\": \"\"}, \"type\": \"mesh3d\"}], \"parcoords\": [{\"line\": {\"colorbar\": {\"outlinewidth\": 0, \"ticks\": \"\"}}, \"type\": \"parcoords\"}], \"pie\": [{\"automargin\": true, \"type\": \"pie\"}], \"scatter\": [{\"marker\": {\"colorbar\": {\"outlinewidth\": 0, \"ticks\": \"\"}}, \"type\": \"scatter\"}], \"scatter3d\": [{\"line\": {\"colorbar\": {\"outlinewidth\": 0, \"ticks\": \"\"}}, \"marker\": {\"colorbar\": {\"outlinewidth\": 0, \"ticks\": \"\"}}, \"type\": \"scatter3d\"}], \"scattercarpet\": [{\"marker\": {\"colorbar\": {\"outlinewidth\": 0, \"ticks\": \"\"}}, \"type\": \"scattercarpet\"}], \"scattergeo\": [{\"marker\": {\"colorbar\": {\"outlinewidth\": 0, \"ticks\": \"\"}}, \"type\": \"scattergeo\"}], \"scattergl\": [{\"marker\": {\"colorbar\": {\"outlinewidth\": 0, \"ticks\": \"\"}}, \"type\": \"scattergl\"}], \"scattermapbox\": [{\"marker\": {\"colorbar\": {\"outlinewidth\": 0, \"ticks\": \"\"}}, \"type\": \"scattermapbox\"}], \"scatterpolar\": [{\"marker\": {\"colorbar\": {\"outlinewidth\": 0, \"ticks\": \"\"}}, \"type\": \"scatterpolar\"}], \"scatterpolargl\": [{\"marker\": {\"colorbar\": {\"outlinewidth\": 0, \"ticks\": \"\"}}, \"type\": \"scatterpolargl\"}], \"scatterternary\": [{\"marker\": {\"colorbar\": {\"outlinewidth\": 0, \"ticks\": \"\"}}, \"type\": \"scatterternary\"}], \"surface\": [{\"colorbar\": {\"outlinewidth\": 0, \"ticks\": \"\"}, \"colorscale\": [[0.0, \"#0d0887\"], [0.1111111111111111, \"#46039f\"], [0.2222222222222222, \"#7201a8\"], [0.3333333333333333, \"#9c179e\"], [0.4444444444444444, \"#bd3786\"], [0.5555555555555556, \"#d8576b\"], [0.6666666666666666, \"#ed7953\"], [0.7777777777777778, \"#fb9f3a\"], [0.8888888888888888, \"#fdca26\"], [1.0, \"#f0f921\"]], \"type\": \"surface\"}], \"table\": [{\"cells\": {\"fill\": {\"color\": \"#EBF0F8\"}, \"line\": {\"color\": \"white\"}}, \"header\": {\"fill\": {\"color\": \"#C8D4E3\"}, \"line\": {\"color\": \"white\"}}, \"type\": \"table\"}]}, \"layout\": {\"annotationdefaults\": {\"arrowcolor\": \"#2a3f5f\", \"arrowhead\": 0, \"arrowwidth\": 1}, \"coloraxis\": {\"colorbar\": {\"outlinewidth\": 0, \"ticks\": \"\"}}, \"colorscale\": {\"diverging\": [[0, \"#8e0152\"], [0.1, \"#c51b7d\"], [0.2, \"#de77ae\"], [0.3, \"#f1b6da\"], [0.4, \"#fde0ef\"], [0.5, \"#f7f7f7\"], [0.6, \"#e6f5d0\"], [0.7, \"#b8e186\"], [0.8, \"#7fbc41\"], [0.9, \"#4d9221\"], [1, \"#276419\"]], \"sequential\": [[0.0, \"#0d0887\"], [0.1111111111111111, \"#46039f\"], [0.2222222222222222, \"#7201a8\"], [0.3333333333333333, \"#9c179e\"], [0.4444444444444444, \"#bd3786\"], [0.5555555555555556, \"#d8576b\"], [0.6666666666666666, \"#ed7953\"], [0.7777777777777778, \"#fb9f3a\"], [0.8888888888888888, \"#fdca26\"], [1.0, \"#f0f921\"]], \"sequentialminus\": [[0.0, \"#0d0887\"], [0.1111111111111111, \"#46039f\"], [0.2222222222222222, \"#7201a8\"], [0.3333333333333333, \"#9c179e\"], [0.4444444444444444, \"#bd3786\"], [0.5555555555555556, \"#d8576b\"], [0.6666666666666666, \"#ed7953\"], [0.7777777777777778, \"#fb9f3a\"], [0.8888888888888888, \"#fdca26\"], [1.0, \"#f0f921\"]]}, \"colorway\": [\"#636efa\", \"#EF553B\", \"#00cc96\", \"#ab63fa\", \"#FFA15A\", \"#19d3f3\", \"#FF6692\", \"#B6E880\", \"#FF97FF\", \"#FECB52\"], \"font\": {\"color\": \"#2a3f5f\"}, \"geo\": {\"bgcolor\": \"white\", \"lakecolor\": \"white\", \"landcolor\": \"#E5ECF6\", \"showlakes\": true, \"showland\": true, \"subunitcolor\": \"white\"}, \"hoverlabel\": {\"align\": \"left\"}, \"hovermode\": \"closest\", \"mapbox\": {\"style\": \"light\"}, \"paper_bgcolor\": \"white\", \"plot_bgcolor\": \"#E5ECF6\", \"polar\": {\"angularaxis\": {\"gridcolor\": \"white\", \"linecolor\": \"white\", \"ticks\": \"\"}, \"bgcolor\": \"#E5ECF6\", \"radialaxis\": {\"gridcolor\": \"white\", \"linecolor\": \"white\", \"ticks\": \"\"}}, \"scene\": {\"xaxis\": {\"backgroundcolor\": \"#E5ECF6\", \"gridcolor\": \"white\", \"gridwidth\": 2, \"linecolor\": \"white\", \"showbackground\": true, \"ticks\": \"\", \"zerolinecolor\": \"white\"}, \"yaxis\": {\"backgroundcolor\": \"#E5ECF6\", \"gridcolor\": \"white\", \"gridwidth\": 2, \"linecolor\": \"white\", \"showbackground\": true, \"ticks\": \"\", \"zerolinecolor\": \"white\"}, \"zaxis\": {\"backgroundcolor\": \"#E5ECF6\", \"gridcolor\": \"white\", \"gridwidth\": 2, \"linecolor\": \"white\", \"showbackground\": true, \"ticks\": \"\", \"zerolinecolor\": \"white\"}}, \"shapedefaults\": {\"line\": {\"color\": \"#2a3f5f\"}}, \"ternary\": {\"aaxis\": {\"gridcolor\": \"white\", \"linecolor\": \"white\", \"ticks\": \"\"}, \"baxis\": {\"gridcolor\": \"white\", \"linecolor\": \"white\", \"ticks\": \"\"}, \"bgcolor\": \"#E5ECF6\", \"caxis\": {\"gridcolor\": \"white\", \"linecolor\": \"white\", \"ticks\": \"\"}}, \"title\": {\"x\": 0.05}, \"xaxis\": {\"automargin\": true, \"gridcolor\": \"white\", \"linecolor\": \"white\", \"ticks\": \"\", \"title\": {\"standoff\": 15}, \"zerolinecolor\": \"white\", \"zerolinewidth\": 2}, \"yaxis\": {\"automargin\": true, \"gridcolor\": \"white\", \"linecolor\": \"white\", \"ticks\": \"\", \"title\": {\"standoff\": 15}, \"zerolinecolor\": \"white\", \"zerolinewidth\": 2}}}, \"title\": {\"text\": \"Rela\\u00e7\\u00e3o de N\\u00famero de \\u00f3bitos confirmados segundo ra\\u00e7a/cor\"}},\n",
              "                        {\"responsive\": true}\n",
              "                    ).then(function(){\n",
              "                            \n",
              "var gd = document.getElementById('bf9c5127-9cc0-4eb6-9047-6c2019060158');\n",
              "var x = new MutationObserver(function (mutations, observer) {{\n",
              "        var display = window.getComputedStyle(gd).display;\n",
              "        if (!display || display === 'none') {{\n",
              "            console.log([gd, 'removed!']);\n",
              "            Plotly.purge(gd);\n",
              "            observer.disconnect();\n",
              "        }}\n",
              "}});\n",
              "\n",
              "// Listen for the removal of the full notebook cells\n",
              "var notebookContainer = gd.closest('#notebook-container');\n",
              "if (notebookContainer) {{\n",
              "    x.observe(notebookContainer, {childList: true});\n",
              "}}\n",
              "\n",
              "// Listen for the clearing of the current output cell\n",
              "var outputEl = gd.closest('.output');\n",
              "if (outputEl) {{\n",
              "    x.observe(outputEl, {childList: true});\n",
              "}}\n",
              "\n",
              "                        })\n",
              "                };\n",
              "                \n",
              "            </script>\n",
              "        </div>\n",
              "</body>\n",
              "</html>"
            ]
          },
          "metadata": {
            "tags": []
          }
        }
      ]
    },
    {
      "cell_type": "code",
      "metadata": {
        "colab": {
          "base_uri": "https://localhost:8080/",
          "height": 325
        },
        "id": "-dY54OJePl0b",
        "outputId": "597a929e-b802-46cc-e35a-77c1f5be0309"
      },
      "source": [
        "counts_casos_raca_cor = df_obitos.groupby(['racaCor', 'sexoCaso']).racaCor.count().unstack()\r\n",
        "counts_casos_raca_cor"
      ],
      "execution_count": 57,
      "outputs": [
        {
          "output_type": "execute_result",
          "data": {
            "text/html": [
              "<div>\n",
              "<style scoped>\n",
              "    .dataframe tbody tr th:only-of-type {\n",
              "        vertical-align: middle;\n",
              "    }\n",
              "\n",
              "    .dataframe tbody tr th {\n",
              "        vertical-align: top;\n",
              "    }\n",
              "\n",
              "    .dataframe thead th {\n",
              "        text-align: right;\n",
              "    }\n",
              "</style>\n",
              "<table border=\"1\" class=\"dataframe\">\n",
              "  <thead>\n",
              "    <tr style=\"text-align: right;\">\n",
              "      <th>sexoCaso</th>\n",
              "      <th>FEMININO</th>\n",
              "      <th>MASCULINO</th>\n",
              "    </tr>\n",
              "    <tr>\n",
              "      <th>racaCor</th>\n",
              "      <th></th>\n",
              "      <th></th>\n",
              "    </tr>\n",
              "  </thead>\n",
              "  <tbody>\n",
              "    <tr>\n",
              "      <th>Amarela</th>\n",
              "      <td>48</td>\n",
              "      <td>71</td>\n",
              "    </tr>\n",
              "    <tr>\n",
              "      <th>Branca</th>\n",
              "      <td>391</td>\n",
              "      <td>448</td>\n",
              "    </tr>\n",
              "    <tr>\n",
              "      <th>Ignorado</th>\n",
              "      <td>10</td>\n",
              "      <td>8</td>\n",
              "    </tr>\n",
              "    <tr>\n",
              "      <th>Indígena</th>\n",
              "      <td>2</td>\n",
              "      <td>12</td>\n",
              "    </tr>\n",
              "    <tr>\n",
              "      <th>Não Informado</th>\n",
              "      <td>2073</td>\n",
              "      <td>2767</td>\n",
              "    </tr>\n",
              "    <tr>\n",
              "      <th>Parda</th>\n",
              "      <td>2377</td>\n",
              "      <td>3444</td>\n",
              "    </tr>\n",
              "    <tr>\n",
              "      <th>Preta</th>\n",
              "      <td>54</td>\n",
              "      <td>101</td>\n",
              "    </tr>\n",
              "    <tr>\n",
              "      <th>Sem Informacao</th>\n",
              "      <td>22</td>\n",
              "      <td>24</td>\n",
              "    </tr>\n",
              "  </tbody>\n",
              "</table>\n",
              "</div>"
            ],
            "text/plain": [
              "sexoCaso        FEMININO  MASCULINO\n",
              "racaCor                            \n",
              "Amarela               48         71\n",
              "Branca               391        448\n",
              "Ignorado              10          8\n",
              "Indígena               2         12\n",
              "Não Informado       2073       2767\n",
              "Parda               2377       3444\n",
              "Preta                 54        101\n",
              "Sem Informacao        22         24"
            ]
          },
          "metadata": {
            "tags": []
          },
          "execution_count": 57
        }
      ]
    },
    {
      "cell_type": "code",
      "metadata": {
        "colab": {
          "base_uri": "https://localhost:8080/",
          "height": 294
        },
        "id": "oMSqCDGVN_82",
        "outputId": "98d06576-e485-40c8-fcec-b31dfd7ef484"
      },
      "source": [
        "df_counts_casos_raca_cor = counts_casos_raca_cor.reset_index()\r\n",
        "df_counts_casos_raca_cor"
      ],
      "execution_count": 61,
      "outputs": [
        {
          "output_type": "execute_result",
          "data": {
            "text/html": [
              "<div>\n",
              "<style scoped>\n",
              "    .dataframe tbody tr th:only-of-type {\n",
              "        vertical-align: middle;\n",
              "    }\n",
              "\n",
              "    .dataframe tbody tr th {\n",
              "        vertical-align: top;\n",
              "    }\n",
              "\n",
              "    .dataframe thead th {\n",
              "        text-align: right;\n",
              "    }\n",
              "</style>\n",
              "<table border=\"1\" class=\"dataframe\">\n",
              "  <thead>\n",
              "    <tr style=\"text-align: right;\">\n",
              "      <th>sexoCaso</th>\n",
              "      <th>racaCor</th>\n",
              "      <th>FEMININO</th>\n",
              "      <th>MASCULINO</th>\n",
              "    </tr>\n",
              "  </thead>\n",
              "  <tbody>\n",
              "    <tr>\n",
              "      <th>0</th>\n",
              "      <td>Amarela</td>\n",
              "      <td>48</td>\n",
              "      <td>71</td>\n",
              "    </tr>\n",
              "    <tr>\n",
              "      <th>1</th>\n",
              "      <td>Branca</td>\n",
              "      <td>391</td>\n",
              "      <td>448</td>\n",
              "    </tr>\n",
              "    <tr>\n",
              "      <th>2</th>\n",
              "      <td>Ignorado</td>\n",
              "      <td>10</td>\n",
              "      <td>8</td>\n",
              "    </tr>\n",
              "    <tr>\n",
              "      <th>3</th>\n",
              "      <td>Indígena</td>\n",
              "      <td>2</td>\n",
              "      <td>12</td>\n",
              "    </tr>\n",
              "    <tr>\n",
              "      <th>4</th>\n",
              "      <td>Não Informado</td>\n",
              "      <td>2073</td>\n",
              "      <td>2767</td>\n",
              "    </tr>\n",
              "    <tr>\n",
              "      <th>5</th>\n",
              "      <td>Parda</td>\n",
              "      <td>2377</td>\n",
              "      <td>3444</td>\n",
              "    </tr>\n",
              "    <tr>\n",
              "      <th>6</th>\n",
              "      <td>Preta</td>\n",
              "      <td>54</td>\n",
              "      <td>101</td>\n",
              "    </tr>\n",
              "    <tr>\n",
              "      <th>7</th>\n",
              "      <td>Sem Informacao</td>\n",
              "      <td>22</td>\n",
              "      <td>24</td>\n",
              "    </tr>\n",
              "  </tbody>\n",
              "</table>\n",
              "</div>"
            ],
            "text/plain": [
              "sexoCaso         racaCor  FEMININO  MASCULINO\n",
              "0                Amarela        48         71\n",
              "1                 Branca       391        448\n",
              "2               Ignorado        10          8\n",
              "3               Indígena         2         12\n",
              "4          Não Informado      2073       2767\n",
              "5                  Parda      2377       3444\n",
              "6                  Preta        54        101\n",
              "7         Sem Informacao        22         24"
            ]
          },
          "metadata": {
            "tags": []
          },
          "execution_count": 61
        }
      ]
    },
    {
      "cell_type": "code",
      "metadata": {
        "colab": {
          "base_uri": "https://localhost:8080/",
          "height": 542
        },
        "id": "uJr_inT7VMs_",
        "outputId": "372fb1e7-5aa4-442a-bc87-dab46b103c5a"
      },
      "source": [
        "import plotly.express as px\r\n",
        "\r\n",
        "sexos = ['MASCULINO', 'FEMININO']\r\n",
        "faixas  = ['Amarela\t', 'Branca', 'Ignorado', 'Indígena', 'Não Informado', 'Parda', 'Preta', 'Sem Informação']\r\n",
        "\r\n",
        "\r\n",
        "\r\n",
        "fig = go.Figure(data=[\r\n",
        "    go.Bar(name='MASCULINO', x= df_counts_casos_raca_cor.racaCor\t, y= df_counts_casos_raca_cor['MASCULINO']),\r\n",
        "    go.Bar(name='FEMININO', x= df_counts_casos_raca_cor.racaCor, y= df_counts_casos_raca_cor['FEMININO'])\r\n",
        "])\r\n",
        "# Change the bar mode\r\n",
        "fig.update_layout(barmode='group')\r\n",
        "fig.update_layout(title_text='Total de óbitos por faixa de idade')\r\n",
        "fig.show()"
      ],
      "execution_count": 64,
      "outputs": [
        {
          "output_type": "display_data",
          "data": {
            "text/html": [
              "<html>\n",
              "<head><meta charset=\"utf-8\" /></head>\n",
              "<body>\n",
              "    <div>\n",
              "            <script src=\"https://cdnjs.cloudflare.com/ajax/libs/mathjax/2.7.5/MathJax.js?config=TeX-AMS-MML_SVG\"></script><script type=\"text/javascript\">if (window.MathJax) {MathJax.Hub.Config({SVG: {font: \"STIX-Web\"}});}</script>\n",
              "                <script type=\"text/javascript\">window.PlotlyConfig = {MathJaxConfig: 'local'};</script>\n",
              "        <script src=\"https://cdn.plot.ly/plotly-latest.min.js\"></script>    \n",
              "            <div id=\"4762801e-2dde-448d-a846-5d8acb80e643\" class=\"plotly-graph-div\" style=\"height:525px; width:100%;\"></div>\n",
              "            <script type=\"text/javascript\">\n",
              "                \n",
              "                    window.PLOTLYENV=window.PLOTLYENV || {};\n",
              "                    \n",
              "                if (document.getElementById(\"4762801e-2dde-448d-a846-5d8acb80e643\")) {\n",
              "                    Plotly.newPlot(\n",
              "                        '4762801e-2dde-448d-a846-5d8acb80e643',\n",
              "                        [{\"name\": \"MASCULINO\", \"type\": \"bar\", \"x\": [\"Amarela\", \"Branca\", \"Ignorado\", \"Ind\\u00edgena\", \"N\\u00e3o Informado\", \"Parda\", \"Preta\", \"Sem Informacao\"], \"y\": [71, 448, 8, 12, 2767, 3444, 101, 24]}, {\"name\": \"FEMININO\", \"type\": \"bar\", \"x\": [\"Amarela\", \"Branca\", \"Ignorado\", \"Ind\\u00edgena\", \"N\\u00e3o Informado\", \"Parda\", \"Preta\", \"Sem Informacao\"], \"y\": [48, 391, 10, 2, 2073, 2377, 54, 22]}],\n",
              "                        {\"barmode\": \"group\", \"template\": {\"data\": {\"bar\": [{\"error_x\": {\"color\": \"#2a3f5f\"}, \"error_y\": {\"color\": \"#2a3f5f\"}, \"marker\": {\"line\": {\"color\": \"#E5ECF6\", \"width\": 0.5}}, \"type\": \"bar\"}], \"barpolar\": [{\"marker\": {\"line\": {\"color\": \"#E5ECF6\", \"width\": 0.5}}, \"type\": \"barpolar\"}], \"carpet\": [{\"aaxis\": {\"endlinecolor\": \"#2a3f5f\", \"gridcolor\": \"white\", \"linecolor\": \"white\", \"minorgridcolor\": \"white\", \"startlinecolor\": \"#2a3f5f\"}, \"baxis\": {\"endlinecolor\": \"#2a3f5f\", \"gridcolor\": \"white\", \"linecolor\": \"white\", \"minorgridcolor\": \"white\", \"startlinecolor\": \"#2a3f5f\"}, \"type\": \"carpet\"}], \"choropleth\": [{\"colorbar\": {\"outlinewidth\": 0, \"ticks\": \"\"}, \"type\": \"choropleth\"}], \"contour\": [{\"colorbar\": {\"outlinewidth\": 0, \"ticks\": \"\"}, \"colorscale\": [[0.0, \"#0d0887\"], [0.1111111111111111, \"#46039f\"], [0.2222222222222222, \"#7201a8\"], [0.3333333333333333, \"#9c179e\"], [0.4444444444444444, \"#bd3786\"], [0.5555555555555556, \"#d8576b\"], [0.6666666666666666, \"#ed7953\"], [0.7777777777777778, \"#fb9f3a\"], [0.8888888888888888, \"#fdca26\"], [1.0, \"#f0f921\"]], \"type\": \"contour\"}], \"contourcarpet\": [{\"colorbar\": {\"outlinewidth\": 0, \"ticks\": \"\"}, \"type\": \"contourcarpet\"}], \"heatmap\": [{\"colorbar\": {\"outlinewidth\": 0, \"ticks\": \"\"}, \"colorscale\": [[0.0, \"#0d0887\"], [0.1111111111111111, \"#46039f\"], [0.2222222222222222, \"#7201a8\"], [0.3333333333333333, \"#9c179e\"], [0.4444444444444444, \"#bd3786\"], [0.5555555555555556, \"#d8576b\"], [0.6666666666666666, \"#ed7953\"], [0.7777777777777778, \"#fb9f3a\"], [0.8888888888888888, \"#fdca26\"], [1.0, \"#f0f921\"]], \"type\": \"heatmap\"}], \"heatmapgl\": [{\"colorbar\": {\"outlinewidth\": 0, \"ticks\": \"\"}, \"colorscale\": [[0.0, \"#0d0887\"], [0.1111111111111111, \"#46039f\"], [0.2222222222222222, \"#7201a8\"], [0.3333333333333333, \"#9c179e\"], [0.4444444444444444, \"#bd3786\"], [0.5555555555555556, \"#d8576b\"], [0.6666666666666666, \"#ed7953\"], [0.7777777777777778, \"#fb9f3a\"], [0.8888888888888888, \"#fdca26\"], [1.0, \"#f0f921\"]], \"type\": \"heatmapgl\"}], \"histogram\": [{\"marker\": {\"colorbar\": {\"outlinewidth\": 0, \"ticks\": \"\"}}, \"type\": \"histogram\"}], \"histogram2d\": [{\"colorbar\": {\"outlinewidth\": 0, \"ticks\": \"\"}, \"colorscale\": [[0.0, \"#0d0887\"], [0.1111111111111111, \"#46039f\"], [0.2222222222222222, \"#7201a8\"], [0.3333333333333333, \"#9c179e\"], [0.4444444444444444, \"#bd3786\"], [0.5555555555555556, \"#d8576b\"], [0.6666666666666666, \"#ed7953\"], [0.7777777777777778, \"#fb9f3a\"], [0.8888888888888888, \"#fdca26\"], [1.0, \"#f0f921\"]], \"type\": \"histogram2d\"}], \"histogram2dcontour\": [{\"colorbar\": {\"outlinewidth\": 0, \"ticks\": \"\"}, \"colorscale\": [[0.0, \"#0d0887\"], [0.1111111111111111, \"#46039f\"], [0.2222222222222222, \"#7201a8\"], [0.3333333333333333, \"#9c179e\"], [0.4444444444444444, \"#bd3786\"], [0.5555555555555556, \"#d8576b\"], [0.6666666666666666, \"#ed7953\"], [0.7777777777777778, \"#fb9f3a\"], [0.8888888888888888, \"#fdca26\"], [1.0, \"#f0f921\"]], \"type\": \"histogram2dcontour\"}], \"mesh3d\": [{\"colorbar\": {\"outlinewidth\": 0, \"ticks\": \"\"}, \"type\": \"mesh3d\"}], \"parcoords\": [{\"line\": {\"colorbar\": {\"outlinewidth\": 0, \"ticks\": \"\"}}, \"type\": \"parcoords\"}], \"pie\": [{\"automargin\": true, \"type\": \"pie\"}], \"scatter\": [{\"marker\": {\"colorbar\": {\"outlinewidth\": 0, \"ticks\": \"\"}}, \"type\": \"scatter\"}], \"scatter3d\": [{\"line\": {\"colorbar\": {\"outlinewidth\": 0, \"ticks\": \"\"}}, \"marker\": {\"colorbar\": {\"outlinewidth\": 0, \"ticks\": \"\"}}, \"type\": \"scatter3d\"}], \"scattercarpet\": [{\"marker\": {\"colorbar\": {\"outlinewidth\": 0, \"ticks\": \"\"}}, \"type\": \"scattercarpet\"}], \"scattergeo\": [{\"marker\": {\"colorbar\": {\"outlinewidth\": 0, \"ticks\": \"\"}}, \"type\": \"scattergeo\"}], \"scattergl\": [{\"marker\": {\"colorbar\": {\"outlinewidth\": 0, \"ticks\": \"\"}}, \"type\": \"scattergl\"}], \"scattermapbox\": [{\"marker\": {\"colorbar\": {\"outlinewidth\": 0, \"ticks\": \"\"}}, \"type\": \"scattermapbox\"}], \"scatterpolar\": [{\"marker\": {\"colorbar\": {\"outlinewidth\": 0, \"ticks\": \"\"}}, \"type\": \"scatterpolar\"}], \"scatterpolargl\": [{\"marker\": {\"colorbar\": {\"outlinewidth\": 0, \"ticks\": \"\"}}, \"type\": \"scatterpolargl\"}], \"scatterternary\": [{\"marker\": {\"colorbar\": {\"outlinewidth\": 0, \"ticks\": \"\"}}, \"type\": \"scatterternary\"}], \"surface\": [{\"colorbar\": {\"outlinewidth\": 0, \"ticks\": \"\"}, \"colorscale\": [[0.0, \"#0d0887\"], [0.1111111111111111, \"#46039f\"], [0.2222222222222222, \"#7201a8\"], [0.3333333333333333, \"#9c179e\"], [0.4444444444444444, \"#bd3786\"], [0.5555555555555556, \"#d8576b\"], [0.6666666666666666, \"#ed7953\"], [0.7777777777777778, \"#fb9f3a\"], [0.8888888888888888, \"#fdca26\"], [1.0, \"#f0f921\"]], \"type\": \"surface\"}], \"table\": [{\"cells\": {\"fill\": {\"color\": \"#EBF0F8\"}, \"line\": {\"color\": \"white\"}}, \"header\": {\"fill\": {\"color\": \"#C8D4E3\"}, \"line\": {\"color\": \"white\"}}, \"type\": \"table\"}]}, \"layout\": {\"annotationdefaults\": {\"arrowcolor\": \"#2a3f5f\", \"arrowhead\": 0, \"arrowwidth\": 1}, \"coloraxis\": {\"colorbar\": {\"outlinewidth\": 0, \"ticks\": \"\"}}, \"colorscale\": {\"diverging\": [[0, \"#8e0152\"], [0.1, \"#c51b7d\"], [0.2, \"#de77ae\"], [0.3, \"#f1b6da\"], [0.4, \"#fde0ef\"], [0.5, \"#f7f7f7\"], [0.6, \"#e6f5d0\"], [0.7, \"#b8e186\"], [0.8, \"#7fbc41\"], [0.9, \"#4d9221\"], [1, \"#276419\"]], \"sequential\": [[0.0, \"#0d0887\"], [0.1111111111111111, \"#46039f\"], [0.2222222222222222, \"#7201a8\"], [0.3333333333333333, \"#9c179e\"], [0.4444444444444444, \"#bd3786\"], [0.5555555555555556, \"#d8576b\"], [0.6666666666666666, \"#ed7953\"], [0.7777777777777778, \"#fb9f3a\"], [0.8888888888888888, \"#fdca26\"], [1.0, \"#f0f921\"]], \"sequentialminus\": [[0.0, \"#0d0887\"], [0.1111111111111111, \"#46039f\"], [0.2222222222222222, \"#7201a8\"], [0.3333333333333333, \"#9c179e\"], [0.4444444444444444, \"#bd3786\"], [0.5555555555555556, \"#d8576b\"], [0.6666666666666666, \"#ed7953\"], [0.7777777777777778, \"#fb9f3a\"], [0.8888888888888888, \"#fdca26\"], [1.0, \"#f0f921\"]]}, \"colorway\": [\"#636efa\", \"#EF553B\", \"#00cc96\", \"#ab63fa\", \"#FFA15A\", \"#19d3f3\", \"#FF6692\", \"#B6E880\", \"#FF97FF\", \"#FECB52\"], \"font\": {\"color\": \"#2a3f5f\"}, \"geo\": {\"bgcolor\": \"white\", \"lakecolor\": \"white\", \"landcolor\": \"#E5ECF6\", \"showlakes\": true, \"showland\": true, \"subunitcolor\": \"white\"}, \"hoverlabel\": {\"align\": \"left\"}, \"hovermode\": \"closest\", \"mapbox\": {\"style\": \"light\"}, \"paper_bgcolor\": \"white\", \"plot_bgcolor\": \"#E5ECF6\", \"polar\": {\"angularaxis\": {\"gridcolor\": \"white\", \"linecolor\": \"white\", \"ticks\": \"\"}, \"bgcolor\": \"#E5ECF6\", \"radialaxis\": {\"gridcolor\": \"white\", \"linecolor\": \"white\", \"ticks\": \"\"}}, \"scene\": {\"xaxis\": {\"backgroundcolor\": \"#E5ECF6\", \"gridcolor\": \"white\", \"gridwidth\": 2, \"linecolor\": \"white\", \"showbackground\": true, \"ticks\": \"\", \"zerolinecolor\": \"white\"}, \"yaxis\": {\"backgroundcolor\": \"#E5ECF6\", \"gridcolor\": \"white\", \"gridwidth\": 2, \"linecolor\": \"white\", \"showbackground\": true, \"ticks\": \"\", \"zerolinecolor\": \"white\"}, \"zaxis\": {\"backgroundcolor\": \"#E5ECF6\", \"gridcolor\": \"white\", \"gridwidth\": 2, \"linecolor\": \"white\", \"showbackground\": true, \"ticks\": \"\", \"zerolinecolor\": \"white\"}}, \"shapedefaults\": {\"line\": {\"color\": \"#2a3f5f\"}}, \"ternary\": {\"aaxis\": {\"gridcolor\": \"white\", \"linecolor\": \"white\", \"ticks\": \"\"}, \"baxis\": {\"gridcolor\": \"white\", \"linecolor\": \"white\", \"ticks\": \"\"}, \"bgcolor\": \"#E5ECF6\", \"caxis\": {\"gridcolor\": \"white\", \"linecolor\": \"white\", \"ticks\": \"\"}}, \"title\": {\"x\": 0.05}, \"xaxis\": {\"automargin\": true, \"gridcolor\": \"white\", \"linecolor\": \"white\", \"ticks\": \"\", \"title\": {\"standoff\": 15}, \"zerolinecolor\": \"white\", \"zerolinewidth\": 2}, \"yaxis\": {\"automargin\": true, \"gridcolor\": \"white\", \"linecolor\": \"white\", \"ticks\": \"\", \"title\": {\"standoff\": 15}, \"zerolinecolor\": \"white\", \"zerolinewidth\": 2}}}, \"title\": {\"text\": \"Total de \\u00f3bitos por faixa de idade\"}},\n",
              "                        {\"responsive\": true}\n",
              "                    ).then(function(){\n",
              "                            \n",
              "var gd = document.getElementById('4762801e-2dde-448d-a846-5d8acb80e643');\n",
              "var x = new MutationObserver(function (mutations, observer) {{\n",
              "        var display = window.getComputedStyle(gd).display;\n",
              "        if (!display || display === 'none') {{\n",
              "            console.log([gd, 'removed!']);\n",
              "            Plotly.purge(gd);\n",
              "            observer.disconnect();\n",
              "        }}\n",
              "}});\n",
              "\n",
              "// Listen for the removal of the full notebook cells\n",
              "var notebookContainer = gd.closest('#notebook-container');\n",
              "if (notebookContainer) {{\n",
              "    x.observe(notebookContainer, {childList: true});\n",
              "}}\n",
              "\n",
              "// Listen for the clearing of the current output cell\n",
              "var outputEl = gd.closest('.output');\n",
              "if (outputEl) {{\n",
              "    x.observe(outputEl, {childList: true});\n",
              "}}\n",
              "\n",
              "                        })\n",
              "                };\n",
              "                \n",
              "            </script>\n",
              "        </div>\n",
              "</body>\n",
              "</html>"
            ]
          },
          "metadata": {
            "tags": []
          }
        }
      ]
    },
    {
      "cell_type": "code",
      "metadata": {
        "id": "oglFNM8Ww39_"
      },
      "source": [
        "df_confirmados_por_municipio = pd.read_csv(\"/content/drive/My Drive/IntegraSUS/casos_coronavirus_localidade_2021_01_10.csv\", low_memory=False, sep=';')"
      ],
      "execution_count": 65,
      "outputs": []
    },
    {
      "cell_type": "code",
      "metadata": {
        "id": "bdbJ-HPcP4TI",
        "colab": {
          "base_uri": "https://localhost:8080/",
          "height": 110
        },
        "outputId": "a8ccd8c3-0870-44eb-e60c-32ce7b4cce01"
      },
      "source": [
        "df_confirmados_por_municipio.head(2)"
      ],
      "execution_count": 66,
      "outputs": [
        {
          "output_type": "execute_result",
          "data": {
            "text/html": [
              "<div>\n",
              "<style scoped>\n",
              "    .dataframe tbody tr th:only-of-type {\n",
              "        vertical-align: middle;\n",
              "    }\n",
              "\n",
              "    .dataframe tbody tr th {\n",
              "        vertical-align: top;\n",
              "    }\n",
              "\n",
              "    .dataframe thead th {\n",
              "        text-align: right;\n",
              "    }\n",
              "</style>\n",
              "<table border=\"1\" class=\"dataframe\">\n",
              "  <thead>\n",
              "    <tr style=\"text-align: right;\">\n",
              "      <th></th>\n",
              "      <th>paisCaso</th>\n",
              "      <th>estadoCaso</th>\n",
              "      <th>municipioCaso</th>\n",
              "      <th>codigoMunicipioCaso</th>\n",
              "      <th>bairroCaso</th>\n",
              "      <th>cepCaso</th>\n",
              "    </tr>\n",
              "  </thead>\n",
              "  <tbody>\n",
              "    <tr>\n",
              "      <th>0</th>\n",
              "      <td>NaN</td>\n",
              "      <td>CE</td>\n",
              "      <td>FORTALEZA</td>\n",
              "      <td>230440.0</td>\n",
              "      <td>BARRA DO CEARA</td>\n",
              "      <td>60332690.0</td>\n",
              "    </tr>\n",
              "    <tr>\n",
              "      <th>1</th>\n",
              "      <td>NaN</td>\n",
              "      <td>CE</td>\n",
              "      <td>FORTALEZA</td>\n",
              "      <td>230440.0</td>\n",
              "      <td>NaN</td>\n",
              "      <td>NaN</td>\n",
              "    </tr>\n",
              "  </tbody>\n",
              "</table>\n",
              "</div>"
            ],
            "text/plain": [
              "  paisCaso estadoCaso  ...      bairroCaso     cepCaso\n",
              "0      NaN         CE  ...  BARRA DO CEARA  60332690.0\n",
              "1      NaN         CE  ...             NaN         NaN\n",
              "\n",
              "[2 rows x 6 columns]"
            ]
          },
          "metadata": {
            "tags": []
          },
          "execution_count": 66
        }
      ]
    },
    {
      "cell_type": "code",
      "metadata": {
        "id": "WP78xR6eP59s"
      },
      "source": [
        "# Como cada linha representa um caso, criar nova coluna com quantidade um para posterior agrupamento \r\n",
        "df_confirmados_por_municipio['qt_caso'] = np.where(df['municipioCaso'].notnull, 1, 0)\r\n"
      ],
      "execution_count": null,
      "outputs": []
    },
    {
      "cell_type": "code",
      "metadata": {
        "id": "5oOjDDbQkR__"
      },
      "source": [
        "df_confirmados_por_municipio.head(3)"
      ],
      "execution_count": null,
      "outputs": []
    },
    {
      "cell_type": "code",
      "metadata": {
        "id": "d0egOyyLQ0HN"
      },
      "source": [
        "df_grafico_confirmados_municipio = df_confirmados_por_municipio.groupby('municipioCaso', sort=False)[\"qt_caso\"].sum().reset_index(name ='total_caso_municipio')"
      ],
      "execution_count": null,
      "outputs": []
    },
    {
      "cell_type": "code",
      "metadata": {
        "id": "v5os7cc2mBMb"
      },
      "source": [
        "df_grafico_confirmados_municipio.sort_values('total_caso_municipio')\r\n",
        "df_grafico_confirmados_municipio"
      ],
      "execution_count": null,
      "outputs": []
    },
    {
      "cell_type": "code",
      "metadata": {
        "id": "y_FBvJo1ungV"
      },
      "source": [
        "type(df_grafico_confirmados_municipio)"
      ],
      "execution_count": null,
      "outputs": []
    },
    {
      "cell_type": "code",
      "metadata": {
        "id": "cRgQwJtymJd5"
      },
      "source": [
        "df_grafico_confirmados_municipio[df_grafico_confirmados_municipio['municipioCaso'] == 'FORTALEZA']"
      ],
      "execution_count": null,
      "outputs": []
    },
    {
      "cell_type": "code",
      "metadata": {
        "id": "1kL7JXB2mt1L"
      },
      "source": [
        "\r\n",
        "\r\n",
        "fig = go.Figure(data=[\r\n",
        "    go.Bar(x= df_grafico_confirmados_municipio['municipioCaso'], y=  df_grafico_confirmados_municipio['total_caso_municipio'], marker=dict(color='orangered')),\r\n",
        "])\r\n",
        "\r\n",
        "# gráfico\r\n",
        "fig.update_layout(\r\n",
        "    title='Total de casos confiramdos distribuiídos por raça do paciente no estado do Ceará',\r\n",
        "    xaxis_tickfont_size=24,\r\n",
        "    xaxis = dict(\r\n",
        "        title='Município',\r\n",
        "        titlefont_size=16,\r\n",
        "        tickfont_size=14,\r\n",
        "    ),\r\n",
        "    yaxis = dict(\r\n",
        "        title='Número de casos confirmados',\r\n",
        "        titlefont_size=16,\r\n",
        "        tickfont_size=14,\r\n",
        "    ), xaxis_tickangle=90)\r\n",
        "\r\n",
        "fig.show()"
      ],
      "execution_count": null,
      "outputs": []
    },
    {
      "cell_type": "code",
      "metadata": {
        "id": "gGA_WPktr--U"
      },
      "source": [
        "import plotly.express as px\r\n",
        "\r\n",
        "\r\n",
        "fig = px.bar(df_grafico_confirmados_municipio, x= df_grafico_confirmados_municipio['municipioCaso'], y= df_grafico_confirmados_municipio['total_caso_municipio'])\r\n",
        "fig.show()"
      ],
      "execution_count": null,
      "outputs": []
    },
    {
      "cell_type": "code",
      "metadata": {
        "id": "YZbomz6swodf"
      },
      "source": [
        ""
      ],
      "execution_count": null,
      "outputs": []
    }
  ]
}