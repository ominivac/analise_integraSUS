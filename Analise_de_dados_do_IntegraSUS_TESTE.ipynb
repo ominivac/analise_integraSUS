{
  "nbformat": 4,
  "nbformat_minor": 0,
  "metadata": {
    "colab": {
      "name": "Analise de dados do IntegraSUS_TESTE.ipynb",
      "provenance": [],
      "collapsed_sections": [],
      "authorship_tag": "ABX9TyP4ovZSkr1mNIF2z5u3n4hM",
      "include_colab_link": true
    },
    "kernelspec": {
      "name": "python3",
      "display_name": "Python 3"
    }
  },
  "cells": [
    {
      "cell_type": "markdown",
      "metadata": {
        "id": "view-in-github",
        "colab_type": "text"
      },
      "source": [
        "<a href=\"https://colab.research.google.com/github/ominivac/analise_integraSUS/blob/master/Analise_de_dados_do_IntegraSUS_TESTE.ipynb\" target=\"_parent\"><img src=\"https://colab.research.google.com/assets/colab-badge.svg\" alt=\"Open In Colab\"/></a>"
      ]
    },
    {
      "cell_type": "code",
      "metadata": {
        "id": "z8Mx3Fy-gRsW",
        "colab_type": "code",
        "colab": {
          "base_uri": "https://localhost:8080/",
          "height": 122
        },
        "outputId": "c757b196-180e-4125-bc91-df7b5b1befd1"
      },
      "source": [
        "from google.colab import drive\n",
        "drive.mount('/content/drive')"
      ],
      "execution_count": null,
      "outputs": [
        {
          "output_type": "stream",
          "text": [
            "Go to this URL in a browser: https://accounts.google.com/o/oauth2/auth?client_id=947318989803-6bn6qk8qdgf4n4g3pfee6491hc0brc4i.apps.googleusercontent.com&redirect_uri=urn%3aietf%3awg%3aoauth%3a2.0%3aoob&scope=email%20https%3a%2f%2fwww.googleapis.com%2fauth%2fdocs.test%20https%3a%2f%2fwww.googleapis.com%2fauth%2fdrive%20https%3a%2f%2fwww.googleapis.com%2fauth%2fdrive.photos.readonly%20https%3a%2f%2fwww.googleapis.com%2fauth%2fpeopleapi.readonly&response_type=code\n",
            "\n",
            "Enter your authorization code:\n",
            "··········\n",
            "Mounted at /content/drive\n"
          ],
          "name": "stdout"
        }
      ]
    },
    {
      "cell_type": "code",
      "metadata": {
        "id": "O0KSwfClg3Od",
        "colab_type": "code",
        "colab": {
          "base_uri": "https://localhost:8080/",
          "height": 17
        },
        "outputId": "d694ee20-5413-4a9b-ec1e-561ab965aede"
      },
      "source": [
        "# Importações necessárias\n",
        "import plotly\n",
        "import pandas as pd\n",
        "import numpy as np\n",
        "import plotly.offline as py\n",
        "from plotly.offline import plot, iplot\n",
        "plotly.offline.init_notebook_mode(connected=True)\n",
        "%matplotlib inline\n",
        "import matplotlib.pyplot as plt"
      ],
      "execution_count": null,
      "outputs": [
        {
          "output_type": "display_data",
          "data": {
            "text/html": [
              "        <script type=\"text/javascript\">\n",
              "        window.PlotlyConfig = {MathJaxConfig: 'local'};\n",
              "        if (window.MathJax) {MathJax.Hub.Config({SVG: {font: \"STIX-Web\"}});}\n",
              "        if (typeof require !== 'undefined') {\n",
              "        require.undef(\"plotly\");\n",
              "        requirejs.config({\n",
              "            paths: {\n",
              "                'plotly': ['https://cdn.plot.ly/plotly-latest.min']\n",
              "            }\n",
              "        });\n",
              "        require(['plotly'], function(Plotly) {\n",
              "            window._Plotly = Plotly;\n",
              "        });\n",
              "        }\n",
              "        </script>\n",
              "        "
            ]
          },
          "metadata": {
            "tags": []
          }
        }
      ]
    },
    {
      "cell_type": "code",
      "metadata": {
        "id": "Fwq4o94jg5-0",
        "colab_type": "code",
        "colab": {}
      },
      "source": [
        "# Lendo o arquivo\n",
        "df = pd.read_csv(\"/content/drive/My Drive/IntegraSUS/covid_teste.csv\", low_memory=False, sep=';')"
      ],
      "execution_count": null,
      "outputs": []
    },
    {
      "cell_type": "code",
      "metadata": {
        "id": "JUQPRlj3hCWU",
        "colab_type": "code",
        "colab": {
          "base_uri": "https://localhost:8080/",
          "height": 204
        },
        "outputId": "64da349b-d380-415b-e0ce-ad35e494e579"
      },
      "source": [
        "# Ver os tipos das colunas\n",
        "df.dtypes"
      ],
      "execution_count": null,
      "outputs": [
        {
          "output_type": "execute_result",
          "data": {
            "text/plain": [
              "codigoPaciente             object\n",
              "estadoPaciente             object\n",
              "codigoMunicipioPaciente     int64\n",
              "municipioPaciente          object\n",
              "sexoPaciente               object\n",
              "idadePaciente               int64\n",
              "obitoConfirmado              bool\n",
              "resultadoFinalExame        object\n",
              "dataResultadoExame         object\n",
              "dataObito                  object\n",
              "dtype: object"
            ]
          },
          "metadata": {
            "tags": []
          },
          "execution_count": 4
        }
      ]
    },
    {
      "cell_type": "code",
      "metadata": {
        "id": "-IZNWli60eJv",
        "colab_type": "code",
        "colab": {}
      },
      "source": [
        "  # Gerar nova coluna para cálculos em faixas de idade.\n",
        "bins= [0,10,20,30,40,50,60,70,80,120]\n",
        "labels = ['0-10','11-20','21-30','31-40','41-50','51-60','61-70','71-80','81E+']\n",
        "df['faixaIdade'] = pd.cut(df['idadePaciente'], bins=bins, labels=labels)"
      ],
      "execution_count": null,
      "outputs": []
    },
    {
      "cell_type": "code",
      "metadata": {
        "id": "9bjJqxg9YjQp",
        "colab_type": "code",
        "colab": {
          "base_uri": "https://localhost:8080/",
          "height": 196
        },
        "outputId": "88db4b7a-db9e-4770-dd69-f4a9e7389d3a"
      },
      "source": [
        "df.head(3)"
      ],
      "execution_count": null,
      "outputs": [
        {
          "output_type": "execute_result",
          "data": {
            "text/html": [
              "<div>\n",
              "<style scoped>\n",
              "    .dataframe tbody tr th:only-of-type {\n",
              "        vertical-align: middle;\n",
              "    }\n",
              "\n",
              "    .dataframe tbody tr th {\n",
              "        vertical-align: top;\n",
              "    }\n",
              "\n",
              "    .dataframe thead th {\n",
              "        text-align: right;\n",
              "    }\n",
              "</style>\n",
              "<table border=\"1\" class=\"dataframe\">\n",
              "  <thead>\n",
              "    <tr style=\"text-align: right;\">\n",
              "      <th></th>\n",
              "      <th>codigoPaciente</th>\n",
              "      <th>estadoPaciente</th>\n",
              "      <th>codigoMunicipioPaciente</th>\n",
              "      <th>municipioPaciente</th>\n",
              "      <th>sexoPaciente</th>\n",
              "      <th>idadePaciente</th>\n",
              "      <th>obitoConfirmado</th>\n",
              "      <th>resultadoFinalExame</th>\n",
              "      <th>dataResultadoExame</th>\n",
              "      <th>dataObito</th>\n",
              "      <th>faixaIdade</th>\n",
              "    </tr>\n",
              "  </thead>\n",
              "  <tbody>\n",
              "    <tr>\n",
              "      <th>0</th>\n",
              "      <td>b1ea443bbf37d9e49d60852b457916e3</td>\n",
              "      <td>CE</td>\n",
              "      <td>230440</td>\n",
              "      <td>FORTALEZA</td>\n",
              "      <td>MASCULINO</td>\n",
              "      <td>2</td>\n",
              "      <td>True</td>\n",
              "      <td>Positivo</td>\n",
              "      <td>2020-06-19</td>\n",
              "      <td>2020-06-15</td>\n",
              "      <td>0-10</td>\n",
              "    </tr>\n",
              "    <tr>\n",
              "      <th>1</th>\n",
              "      <td>b1ea443bbf37d9e49d60852b84579143</td>\n",
              "      <td>CE</td>\n",
              "      <td>230440</td>\n",
              "      <td>FORTALEZA</td>\n",
              "      <td>FEMININO</td>\n",
              "      <td>3</td>\n",
              "      <td>True</td>\n",
              "      <td>Positivo</td>\n",
              "      <td>2020-04-11</td>\n",
              "      <td>2020-06-12</td>\n",
              "      <td>0-10</td>\n",
              "    </tr>\n",
              "    <tr>\n",
              "      <th>2</th>\n",
              "      <td>b1ea443bbf37d9e49d6083252b457323</td>\n",
              "      <td>CE</td>\n",
              "      <td>230440</td>\n",
              "      <td>FORTALEZA</td>\n",
              "      <td>FEMININO</td>\n",
              "      <td>1</td>\n",
              "      <td>False</td>\n",
              "      <td>Negativo</td>\n",
              "      <td>2020-06-1</td>\n",
              "      <td>NaN</td>\n",
              "      <td>0-10</td>\n",
              "    </tr>\n",
              "  </tbody>\n",
              "</table>\n",
              "</div>"
            ],
            "text/plain": [
              "                     codigoPaciente estadoPaciente  ...   dataObito faixaIdade\n",
              "0  b1ea443bbf37d9e49d60852b457916e3             CE  ...  2020-06-15       0-10\n",
              "1  b1ea443bbf37d9e49d60852b84579143             CE  ...  2020-06-12       0-10\n",
              "2  b1ea443bbf37d9e49d6083252b457323             CE  ...         NaN       0-10\n",
              "\n",
              "[3 rows x 11 columns]"
            ]
          },
          "metadata": {
            "tags": []
          },
          "execution_count": 8
        }
      ]
    },
    {
      "cell_type": "code",
      "metadata": {
        "id": "qxZXfGvAYuhQ",
        "colab_type": "code",
        "colab": {
          "base_uri": "https://localhost:8080/",
          "height": 221
        },
        "outputId": "0dc0e82b-c276-48f7-f866-2a10f07e8b5e"
      },
      "source": [
        "  #Transformar as coluna de datas para datetime\n",
        "df[[\"dataResultadoExame\", \"dataObito\"]] =  df[[\"dataResultadoExame\", \"dataObito\"]].apply(pd.to_datetime,  errors='coerce')\n",
        "df.dtypes"
      ],
      "execution_count": null,
      "outputs": [
        {
          "output_type": "execute_result",
          "data": {
            "text/plain": [
              "codigoPaciente                     object\n",
              "estadoPaciente                     object\n",
              "codigoMunicipioPaciente             int64\n",
              "municipioPaciente                  object\n",
              "sexoPaciente                       object\n",
              "idadePaciente                       int64\n",
              "obitoConfirmado                      bool\n",
              "resultadoFinalExame                object\n",
              "dataResultadoExame         datetime64[ns]\n",
              "dataObito                  datetime64[ns]\n",
              "faixaIdade                       category\n",
              "dtype: object"
            ]
          },
          "metadata": {
            "tags": []
          },
          "execution_count": 9
        }
      ]
    },
    {
      "cell_type": "code",
      "metadata": {
        "id": "ij_eMPe2Os15",
        "colab_type": "code",
        "colab": {
          "base_uri": "https://localhost:8080/",
          "height": 275
        },
        "outputId": "9da02b39-ec2f-40ce-c5d7-a934b74fdec7"
      },
      "source": [
        "# Nova coluna para somar o total de obitos \n",
        "df['qtObito'] = np.where(df['obitoConfirmado'] == True, 1, 0)\n",
        "df.head()"
      ],
      "execution_count": null,
      "outputs": [
        {
          "output_type": "execute_result",
          "data": {
            "text/html": [
              "<div>\n",
              "<style scoped>\n",
              "    .dataframe tbody tr th:only-of-type {\n",
              "        vertical-align: middle;\n",
              "    }\n",
              "\n",
              "    .dataframe tbody tr th {\n",
              "        vertical-align: top;\n",
              "    }\n",
              "\n",
              "    .dataframe thead th {\n",
              "        text-align: right;\n",
              "    }\n",
              "</style>\n",
              "<table border=\"1\" class=\"dataframe\">\n",
              "  <thead>\n",
              "    <tr style=\"text-align: right;\">\n",
              "      <th></th>\n",
              "      <th>codigoPaciente</th>\n",
              "      <th>estadoPaciente</th>\n",
              "      <th>codigoMunicipioPaciente</th>\n",
              "      <th>municipioPaciente</th>\n",
              "      <th>sexoPaciente</th>\n",
              "      <th>idadePaciente</th>\n",
              "      <th>obitoConfirmado</th>\n",
              "      <th>resultadoFinalExame</th>\n",
              "      <th>dataResultadoExame</th>\n",
              "      <th>dataObito</th>\n",
              "      <th>faixaIdade</th>\n",
              "      <th>qtObito</th>\n",
              "    </tr>\n",
              "  </thead>\n",
              "  <tbody>\n",
              "    <tr>\n",
              "      <th>0</th>\n",
              "      <td>b1ea443bbf37d9e49d60852b457916e3</td>\n",
              "      <td>CE</td>\n",
              "      <td>230440</td>\n",
              "      <td>FORTALEZA</td>\n",
              "      <td>MASCULINO</td>\n",
              "      <td>2</td>\n",
              "      <td>True</td>\n",
              "      <td>Positivo</td>\n",
              "      <td>2020-06-19</td>\n",
              "      <td>2020-06-15</td>\n",
              "      <td>0-10</td>\n",
              "      <td>1</td>\n",
              "    </tr>\n",
              "    <tr>\n",
              "      <th>1</th>\n",
              "      <td>b1ea443bbf37d9e49d60852b84579143</td>\n",
              "      <td>CE</td>\n",
              "      <td>230440</td>\n",
              "      <td>FORTALEZA</td>\n",
              "      <td>FEMININO</td>\n",
              "      <td>3</td>\n",
              "      <td>True</td>\n",
              "      <td>Positivo</td>\n",
              "      <td>2020-04-11</td>\n",
              "      <td>2020-06-12</td>\n",
              "      <td>0-10</td>\n",
              "      <td>1</td>\n",
              "    </tr>\n",
              "    <tr>\n",
              "      <th>2</th>\n",
              "      <td>b1ea443bbf37d9e49d6083252b457323</td>\n",
              "      <td>CE</td>\n",
              "      <td>230440</td>\n",
              "      <td>FORTALEZA</td>\n",
              "      <td>FEMININO</td>\n",
              "      <td>1</td>\n",
              "      <td>False</td>\n",
              "      <td>Negativo</td>\n",
              "      <td>2020-06-01</td>\n",
              "      <td>NaT</td>\n",
              "      <td>0-10</td>\n",
              "      <td>0</td>\n",
              "    </tr>\n",
              "    <tr>\n",
              "      <th>3</th>\n",
              "      <td>ckidd99dsdsjsjdsjddjsidisj92dsds</td>\n",
              "      <td>CE</td>\n",
              "      <td>230440</td>\n",
              "      <td>FORTALEZA</td>\n",
              "      <td>MASCULINO</td>\n",
              "      <td>55</td>\n",
              "      <td>False</td>\n",
              "      <td>Negativo</td>\n",
              "      <td>2020-07-03</td>\n",
              "      <td>NaT</td>\n",
              "      <td>51-60</td>\n",
              "      <td>0</td>\n",
              "    </tr>\n",
              "    <tr>\n",
              "      <th>4</th>\n",
              "      <td>b1ea443bbf37d9eIRIE52b45227916e2</td>\n",
              "      <td>CE</td>\n",
              "      <td>230440</td>\n",
              "      <td>FORTALEZA</td>\n",
              "      <td>FEMININO</td>\n",
              "      <td>56</td>\n",
              "      <td>True</td>\n",
              "      <td>Positivo</td>\n",
              "      <td>2020-02-05</td>\n",
              "      <td>2020-02-09</td>\n",
              "      <td>51-60</td>\n",
              "      <td>1</td>\n",
              "    </tr>\n",
              "  </tbody>\n",
              "</table>\n",
              "</div>"
            ],
            "text/plain": [
              "                     codigoPaciente estadoPaciente  ...  faixaIdade qtObito\n",
              "0  b1ea443bbf37d9e49d60852b457916e3             CE  ...        0-10       1\n",
              "1  b1ea443bbf37d9e49d60852b84579143             CE  ...        0-10       1\n",
              "2  b1ea443bbf37d9e49d6083252b457323             CE  ...        0-10       0\n",
              "3  ckidd99dsdsjsjdsjddjsidisj92dsds             CE  ...       51-60       0\n",
              "4  b1ea443bbf37d9eIRIE52b45227916e2             CE  ...       51-60       1\n",
              "\n",
              "[5 rows x 12 columns]"
            ]
          },
          "metadata": {
            "tags": []
          },
          "execution_count": 10
        }
      ]
    },
    {
      "cell_type": "code",
      "metadata": {
        "id": "ppEZTjfqX8K1",
        "colab_type": "code",
        "colab": {
          "base_uri": "https://localhost:8080/",
          "height": 797
        },
        "outputId": "7a2b06b7-6433-4e45-88b7-0497696bbb11"
      },
      "source": [
        "# Nova coluna para somar de casos confirmados SEM óbito\n",
        "df['qtCasoConfirmado'] = np.where(( df['resultadoFinalExame'] == 'Positivo') & (df['obitoConfirmado'] == False) , 1, 0)\n",
        "df"
      ],
      "execution_count": null,
      "outputs": [
        {
          "output_type": "execute_result",
          "data": {
            "text/html": [
              "<div>\n",
              "<style scoped>\n",
              "    .dataframe tbody tr th:only-of-type {\n",
              "        vertical-align: middle;\n",
              "    }\n",
              "\n",
              "    .dataframe tbody tr th {\n",
              "        vertical-align: top;\n",
              "    }\n",
              "\n",
              "    .dataframe thead th {\n",
              "        text-align: right;\n",
              "    }\n",
              "</style>\n",
              "<table border=\"1\" class=\"dataframe\">\n",
              "  <thead>\n",
              "    <tr style=\"text-align: right;\">\n",
              "      <th></th>\n",
              "      <th>codigoPaciente</th>\n",
              "      <th>estadoPaciente</th>\n",
              "      <th>codigoMunicipioPaciente</th>\n",
              "      <th>municipioPaciente</th>\n",
              "      <th>sexoPaciente</th>\n",
              "      <th>idadePaciente</th>\n",
              "      <th>obitoConfirmado</th>\n",
              "      <th>resultadoFinalExame</th>\n",
              "      <th>dataResultadoExame</th>\n",
              "      <th>dataObito</th>\n",
              "      <th>faixaIdade</th>\n",
              "      <th>qtObito</th>\n",
              "      <th>qtCasoConfirmado</th>\n",
              "    </tr>\n",
              "  </thead>\n",
              "  <tbody>\n",
              "    <tr>\n",
              "      <th>0</th>\n",
              "      <td>b1ea443bbf37d9e49d60852b457916e3</td>\n",
              "      <td>CE</td>\n",
              "      <td>230440</td>\n",
              "      <td>FORTALEZA</td>\n",
              "      <td>MASCULINO</td>\n",
              "      <td>2</td>\n",
              "      <td>True</td>\n",
              "      <td>Positivo</td>\n",
              "      <td>2020-06-19</td>\n",
              "      <td>2020-06-15</td>\n",
              "      <td>0-10</td>\n",
              "      <td>1</td>\n",
              "      <td>0</td>\n",
              "    </tr>\n",
              "    <tr>\n",
              "      <th>1</th>\n",
              "      <td>b1ea443bbf37d9e49d60852b84579143</td>\n",
              "      <td>CE</td>\n",
              "      <td>230440</td>\n",
              "      <td>FORTALEZA</td>\n",
              "      <td>FEMININO</td>\n",
              "      <td>3</td>\n",
              "      <td>True</td>\n",
              "      <td>Positivo</td>\n",
              "      <td>2020-04-11</td>\n",
              "      <td>2020-06-12</td>\n",
              "      <td>0-10</td>\n",
              "      <td>1</td>\n",
              "      <td>0</td>\n",
              "    </tr>\n",
              "    <tr>\n",
              "      <th>2</th>\n",
              "      <td>b1ea443bbf37d9e49d6083252b457323</td>\n",
              "      <td>CE</td>\n",
              "      <td>230440</td>\n",
              "      <td>FORTALEZA</td>\n",
              "      <td>FEMININO</td>\n",
              "      <td>1</td>\n",
              "      <td>False</td>\n",
              "      <td>Negativo</td>\n",
              "      <td>2020-06-01</td>\n",
              "      <td>NaT</td>\n",
              "      <td>0-10</td>\n",
              "      <td>0</td>\n",
              "      <td>0</td>\n",
              "    </tr>\n",
              "    <tr>\n",
              "      <th>3</th>\n",
              "      <td>ckidd99dsdsjsjdsjddjsidisj92dsds</td>\n",
              "      <td>CE</td>\n",
              "      <td>230440</td>\n",
              "      <td>FORTALEZA</td>\n",
              "      <td>MASCULINO</td>\n",
              "      <td>55</td>\n",
              "      <td>False</td>\n",
              "      <td>Negativo</td>\n",
              "      <td>2020-07-03</td>\n",
              "      <td>NaT</td>\n",
              "      <td>51-60</td>\n",
              "      <td>0</td>\n",
              "      <td>0</td>\n",
              "    </tr>\n",
              "    <tr>\n",
              "      <th>4</th>\n",
              "      <td>b1ea443bbf37d9eIRIE52b45227916e2</td>\n",
              "      <td>CE</td>\n",
              "      <td>230440</td>\n",
              "      <td>FORTALEZA</td>\n",
              "      <td>FEMININO</td>\n",
              "      <td>56</td>\n",
              "      <td>True</td>\n",
              "      <td>Positivo</td>\n",
              "      <td>2020-02-05</td>\n",
              "      <td>2020-02-09</td>\n",
              "      <td>51-60</td>\n",
              "      <td>1</td>\n",
              "      <td>0</td>\n",
              "    </tr>\n",
              "    <tr>\n",
              "      <th>5</th>\n",
              "      <td>b1ea443bbf37d9eIRIE52b45227916e2</td>\n",
              "      <td>CE</td>\n",
              "      <td>230440</td>\n",
              "      <td>FORTALEZA</td>\n",
              "      <td>FEMININO</td>\n",
              "      <td>57</td>\n",
              "      <td>False</td>\n",
              "      <td>Positivo</td>\n",
              "      <td>2020-06-19</td>\n",
              "      <td>2020-06-15</td>\n",
              "      <td>51-60</td>\n",
              "      <td>0</td>\n",
              "      <td>1</td>\n",
              "    </tr>\n",
              "    <tr>\n",
              "      <th>6</th>\n",
              "      <td>12233448fud8fu8f8du6052b457916e2</td>\n",
              "      <td>CE</td>\n",
              "      <td>230440</td>\n",
              "      <td>FORTALEZA</td>\n",
              "      <td>MASCULINO</td>\n",
              "      <td>24</td>\n",
              "      <td>True</td>\n",
              "      <td>Positivo</td>\n",
              "      <td>2020-05-24</td>\n",
              "      <td>2020-05-25</td>\n",
              "      <td>21-30</td>\n",
              "      <td>1</td>\n",
              "      <td>0</td>\n",
              "    </tr>\n",
              "    <tr>\n",
              "      <th>7</th>\n",
              "      <td>8kk3dt3kkkmkdskdskdm099b457916e2</td>\n",
              "      <td>CE</td>\n",
              "      <td>230440</td>\n",
              "      <td>FORTALEZA</td>\n",
              "      <td>MASCULINO</td>\n",
              "      <td>32</td>\n",
              "      <td>False</td>\n",
              "      <td>Negativo</td>\n",
              "      <td>2020-06-09</td>\n",
              "      <td>NaT</td>\n",
              "      <td>31-40</td>\n",
              "      <td>0</td>\n",
              "      <td>0</td>\n",
              "    </tr>\n",
              "    <tr>\n",
              "      <th>8</th>\n",
              "      <td>0o0dosdsbf37d9e49d60852b457916e2</td>\n",
              "      <td>CE</td>\n",
              "      <td>230440</td>\n",
              "      <td>FORTALEZA</td>\n",
              "      <td>FEMININO</td>\n",
              "      <td>15</td>\n",
              "      <td>True</td>\n",
              "      <td>Positivo</td>\n",
              "      <td>2020-05-27</td>\n",
              "      <td>2020-05-30</td>\n",
              "      <td>11-20</td>\n",
              "      <td>1</td>\n",
              "      <td>0</td>\n",
              "    </tr>\n",
              "    <tr>\n",
              "      <th>9</th>\n",
              "      <td>9ifd9if9di9fmfdlkdldksdb457916e2</td>\n",
              "      <td>CE</td>\n",
              "      <td>230440</td>\n",
              "      <td>FORTALEZA</td>\n",
              "      <td>MASCULINO</td>\n",
              "      <td>32</td>\n",
              "      <td>True</td>\n",
              "      <td>Positivo</td>\n",
              "      <td>2020-08-03</td>\n",
              "      <td>2020-08-02</td>\n",
              "      <td>31-40</td>\n",
              "      <td>1</td>\n",
              "      <td>0</td>\n",
              "    </tr>\n",
              "    <tr>\n",
              "      <th>10</th>\n",
              "      <td>99djsdijndsmdsmdsmdsmd1332ddsds2</td>\n",
              "      <td>CE</td>\n",
              "      <td>230440</td>\n",
              "      <td>FORTALEZA</td>\n",
              "      <td>MASCULINO</td>\n",
              "      <td>95</td>\n",
              "      <td>True</td>\n",
              "      <td>Positivo</td>\n",
              "      <td>2020-04-01</td>\n",
              "      <td>2020-04-02</td>\n",
              "      <td>81E+</td>\n",
              "      <td>1</td>\n",
              "      <td>0</td>\n",
              "    </tr>\n",
              "    <tr>\n",
              "      <th>11</th>\n",
              "      <td>9iikfjdkfkjdjfkdfjkfjdkdsds9kdkd</td>\n",
              "      <td>CE</td>\n",
              "      <td>230440</td>\n",
              "      <td>FORTALEZA</td>\n",
              "      <td>MASCULINO</td>\n",
              "      <td>9</td>\n",
              "      <td>False</td>\n",
              "      <td>Negativo</td>\n",
              "      <td>2020-04-21</td>\n",
              "      <td>NaT</td>\n",
              "      <td>0-10</td>\n",
              "      <td>0</td>\n",
              "      <td>0</td>\n",
              "    </tr>\n",
              "    <tr>\n",
              "      <th>12</th>\n",
              "      <td>382djsidjisjdsdsd9ewiiewewdwddkd</td>\n",
              "      <td>CE</td>\n",
              "      <td>230440</td>\n",
              "      <td>FORTALEZA</td>\n",
              "      <td>FEMININO</td>\n",
              "      <td>89</td>\n",
              "      <td>False</td>\n",
              "      <td>Negativo</td>\n",
              "      <td>2020-08-13</td>\n",
              "      <td>NaT</td>\n",
              "      <td>81E+</td>\n",
              "      <td>0</td>\n",
              "      <td>0</td>\n",
              "    </tr>\n",
              "    <tr>\n",
              "      <th>13</th>\n",
              "      <td>8dsud9suddçdsdsdd8uuwdsds1wdwdnc</td>\n",
              "      <td>CE</td>\n",
              "      <td>230440</td>\n",
              "      <td>FORTALEZA</td>\n",
              "      <td>MASCULINO</td>\n",
              "      <td>60</td>\n",
              "      <td>False</td>\n",
              "      <td>Positivo</td>\n",
              "      <td>2020-08-08</td>\n",
              "      <td>NaT</td>\n",
              "      <td>51-60</td>\n",
              "      <td>0</td>\n",
              "      <td>1</td>\n",
              "    </tr>\n",
              "    <tr>\n",
              "      <th>14</th>\n",
              "      <td>8dsudys7yd7syd7sydnsajjsahjas983</td>\n",
              "      <td>CE</td>\n",
              "      <td>230440</td>\n",
              "      <td>FORTALEZA</td>\n",
              "      <td>MASCULINO</td>\n",
              "      <td>79</td>\n",
              "      <td>False</td>\n",
              "      <td>Positivo</td>\n",
              "      <td>2020-06-01</td>\n",
              "      <td>2020-06-05</td>\n",
              "      <td>71-80</td>\n",
              "      <td>0</td>\n",
              "      <td>1</td>\n",
              "    </tr>\n",
              "    <tr>\n",
              "      <th>15</th>\n",
              "      <td>9is9ijdsjdijsjnjdvn83dwddw8u2jdw</td>\n",
              "      <td>CE</td>\n",
              "      <td>230440</td>\n",
              "      <td>FORTALEZA</td>\n",
              "      <td>FEMININO</td>\n",
              "      <td>19</td>\n",
              "      <td>False</td>\n",
              "      <td>Negativo</td>\n",
              "      <td>2020-04-25</td>\n",
              "      <td>NaT</td>\n",
              "      <td>11-20</td>\n",
              "      <td>0</td>\n",
              "      <td>0</td>\n",
              "    </tr>\n",
              "    <tr>\n",
              "      <th>16</th>\n",
              "      <td>9ewdjsnmcmm9299dmkdsjdk2e2eweddd</td>\n",
              "      <td>CE</td>\n",
              "      <td>230440</td>\n",
              "      <td>FORTALEZA</td>\n",
              "      <td>MASCULINO</td>\n",
              "      <td>80</td>\n",
              "      <td>True</td>\n",
              "      <td>Positivo</td>\n",
              "      <td>2020-07-12</td>\n",
              "      <td>2020-07-19</td>\n",
              "      <td>71-80</td>\n",
              "      <td>1</td>\n",
              "      <td>0</td>\n",
              "    </tr>\n",
              "    <tr>\n",
              "      <th>17</th>\n",
              "      <td>ud8s8dhdjshjdjsdjsdhjqhsas8ewea2</td>\n",
              "      <td>CE</td>\n",
              "      <td>230440</td>\n",
              "      <td>FORTALEZA</td>\n",
              "      <td>FEMININO</td>\n",
              "      <td>21</td>\n",
              "      <td>False</td>\n",
              "      <td>Positivo</td>\n",
              "      <td>2020-02-08</td>\n",
              "      <td>NaT</td>\n",
              "      <td>21-30</td>\n",
              "      <td>0</td>\n",
              "      <td>1</td>\n",
              "    </tr>\n",
              "  </tbody>\n",
              "</table>\n",
              "</div>"
            ],
            "text/plain": [
              "                      codigoPaciente estadoPaciente  ...  qtObito qtCasoConfirmado\n",
              "0   b1ea443bbf37d9e49d60852b457916e3             CE  ...        1                0\n",
              "1   b1ea443bbf37d9e49d60852b84579143             CE  ...        1                0\n",
              "2   b1ea443bbf37d9e49d6083252b457323             CE  ...        0                0\n",
              "3   ckidd99dsdsjsjdsjddjsidisj92dsds             CE  ...        0                0\n",
              "4   b1ea443bbf37d9eIRIE52b45227916e2             CE  ...        1                0\n",
              "5   b1ea443bbf37d9eIRIE52b45227916e2             CE  ...        0                1\n",
              "6   12233448fud8fu8f8du6052b457916e2             CE  ...        1                0\n",
              "7   8kk3dt3kkkmkdskdskdm099b457916e2             CE  ...        0                0\n",
              "8   0o0dosdsbf37d9e49d60852b457916e2             CE  ...        1                0\n",
              "9   9ifd9if9di9fmfdlkdldksdb457916e2             CE  ...        1                0\n",
              "10  99djsdijndsmdsmdsmdsmd1332ddsds2             CE  ...        1                0\n",
              "11  9iikfjdkfkjdjfkdfjkfjdkdsds9kdkd             CE  ...        0                0\n",
              "12  382djsidjisjdsdsd9ewiiewewdwddkd             CE  ...        0                0\n",
              "13  8dsud9suddçdsdsdd8uuwdsds1wdwdnc             CE  ...        0                1\n",
              "14  8dsudys7yd7syd7sydnsajjsahjas983             CE  ...        0                1\n",
              "15  9is9ijdsjdijsjnjdvn83dwddw8u2jdw             CE  ...        0                0\n",
              "16  9ewdjsnmcmm9299dmkdsjdk2e2eweddd             CE  ...        1                0\n",
              "17  ud8s8dhdjshjdjsdjsdhjqhsas8ewea2             CE  ...        0                1\n",
              "\n",
              "[18 rows x 13 columns]"
            ]
          },
          "metadata": {
            "tags": []
          },
          "execution_count": 11
        }
      ]
    },
    {
      "cell_type": "code",
      "metadata": {
        "id": "cq8QBgmFLMnH",
        "colab_type": "code",
        "colab": {
          "base_uri": "https://localhost:8080/",
          "height": 337
        },
        "outputId": "0a69f644-6eb3-49d2-c018-5f91d4a2f316"
      },
      "source": [
        "  # agrupar por mes a qtde de obitos e plotar\n",
        "df.groupby(pd.Grouper(key='dataObito',freq='M')).agg({'qtObito':'sum'}).plot()"
      ],
      "execution_count": null,
      "outputs": [
        {
          "output_type": "execute_result",
          "data": {
            "text/plain": [
              "<matplotlib.axes._subplots.AxesSubplot at 0x7f47f2f0f0b8>"
            ]
          },
          "metadata": {
            "tags": []
          },
          "execution_count": 49
        },
        {
          "output_type": "display_data",
          "data": {
            "image/png": "[encoded data removed]",
            "text/plain": [
              "<Figure size 432x288 with 1 Axes>"
            ]
          },
          "metadata": {
            "tags": []
          }
        }
      ]
    },
    {
      "cell_type": "code",
      "metadata": {
        "id": "e1scr0VNcvFV",
        "colab_type": "code",
        "colab": {
          "base_uri": "https://localhost:8080/",
          "height": 306
        },
        "outputId": "985c7832-ba66-406b-e17f-5d134682e165"
      },
      "source": [
        "  # agrupar por mes a qtde de casos confirmados SEM óbito e plotar\n",
        "df.groupby(pd.Grouper(key='dataResultadoExame',freq='M')).agg({'qtCasoConfirmado':'sum'}).plot()"
      ],
      "execution_count": null,
      "outputs": [
        {
          "output_type": "execute_result",
          "data": {
            "text/plain": [
              "<matplotlib.axes._subplots.AxesSubplot at 0x7f47f4eda908>"
            ]
          },
          "metadata": {
            "tags": []
          },
          "execution_count": 13
        },
        {
          "output_type": "display_data",
          "data": {
            "image/png": "[encoded data removed]",
            "text/plain": [
              "<Figure size 432x288 with 1 Axes>"
            ]
          },
          "metadata": {
            "tags": [],
            "needs_background": "light"
          }
        }
      ]
    },
    {
      "cell_type": "markdown",
      "metadata": {
        "id": "_ro4qW8DlOh7",
        "colab_type": "text"
      },
      "source": [
        "**Gerar novo dataset somente com casos confirmados**"
      ]
    },
    {
      "cell_type": "code",
      "metadata": {
        "id": "7wtJEdrElVYb",
        "colab_type": "code",
        "colab": {
          "base_uri": "https://localhost:8080/",
          "height": 611
        },
        "outputId": "31c27796-db43-4870-bd82-708d9aaed460"
      },
      "source": [
        "df_confirmados = df.loc[df['resultadoFinalExame'] == 'Positivo' ] \n",
        "df_confirmados"
      ],
      "execution_count": null,
      "outputs": [
        {
          "output_type": "execute_result",
          "data": {
            "text/html": [
              "<div>\n",
              "<style scoped>\n",
              "    .dataframe tbody tr th:only-of-type {\n",
              "        vertical-align: middle;\n",
              "    }\n",
              "\n",
              "    .dataframe tbody tr th {\n",
              "        vertical-align: top;\n",
              "    }\n",
              "\n",
              "    .dataframe thead th {\n",
              "        text-align: right;\n",
              "    }\n",
              "</style>\n",
              "<table border=\"1\" class=\"dataframe\">\n",
              "  <thead>\n",
              "    <tr style=\"text-align: right;\">\n",
              "      <th></th>\n",
              "      <th>codigoPaciente</th>\n",
              "      <th>estadoPaciente</th>\n",
              "      <th>codigoMunicipioPaciente</th>\n",
              "      <th>municipioPaciente</th>\n",
              "      <th>sexoPaciente</th>\n",
              "      <th>idadePaciente</th>\n",
              "      <th>obitoConfirmado</th>\n",
              "      <th>resultadoFinalExame</th>\n",
              "      <th>dataResultadoExame</th>\n",
              "      <th>dataObito</th>\n",
              "      <th>faixaIdade</th>\n",
              "      <th>qtObito</th>\n",
              "      <th>qtCasoConfirmado</th>\n",
              "    </tr>\n",
              "  </thead>\n",
              "  <tbody>\n",
              "    <tr>\n",
              "      <th>0</th>\n",
              "      <td>b1ea443bbf37d9e49d60852b457916e3</td>\n",
              "      <td>CE</td>\n",
              "      <td>230440</td>\n",
              "      <td>FORTALEZA</td>\n",
              "      <td>MASCULINO</td>\n",
              "      <td>2</td>\n",
              "      <td>True</td>\n",
              "      <td>Positivo</td>\n",
              "      <td>2020-06-19</td>\n",
              "      <td>2020-06-15</td>\n",
              "      <td>0-10</td>\n",
              "      <td>1</td>\n",
              "      <td>0</td>\n",
              "    </tr>\n",
              "    <tr>\n",
              "      <th>1</th>\n",
              "      <td>b1ea443bbf37d9e49d60852b84579143</td>\n",
              "      <td>CE</td>\n",
              "      <td>230440</td>\n",
              "      <td>FORTALEZA</td>\n",
              "      <td>FEMININO</td>\n",
              "      <td>3</td>\n",
              "      <td>True</td>\n",
              "      <td>Positivo</td>\n",
              "      <td>2020-04-11</td>\n",
              "      <td>2020-06-12</td>\n",
              "      <td>0-10</td>\n",
              "      <td>1</td>\n",
              "      <td>0</td>\n",
              "    </tr>\n",
              "    <tr>\n",
              "      <th>4</th>\n",
              "      <td>b1ea443bbf37d9eIRIE52b45227916e2</td>\n",
              "      <td>CE</td>\n",
              "      <td>230440</td>\n",
              "      <td>FORTALEZA</td>\n",
              "      <td>FEMININO</td>\n",
              "      <td>56</td>\n",
              "      <td>True</td>\n",
              "      <td>Positivo</td>\n",
              "      <td>2020-02-05</td>\n",
              "      <td>2020-02-09</td>\n",
              "      <td>51-60</td>\n",
              "      <td>1</td>\n",
              "      <td>0</td>\n",
              "    </tr>\n",
              "    <tr>\n",
              "      <th>5</th>\n",
              "      <td>b1ea443bbf37d9eIRIE52b45227916e2</td>\n",
              "      <td>CE</td>\n",
              "      <td>230440</td>\n",
              "      <td>FORTALEZA</td>\n",
              "      <td>FEMININO</td>\n",
              "      <td>57</td>\n",
              "      <td>False</td>\n",
              "      <td>Positivo</td>\n",
              "      <td>2020-06-19</td>\n",
              "      <td>2020-06-15</td>\n",
              "      <td>51-60</td>\n",
              "      <td>0</td>\n",
              "      <td>1</td>\n",
              "    </tr>\n",
              "    <tr>\n",
              "      <th>6</th>\n",
              "      <td>12233448fud8fu8f8du6052b457916e2</td>\n",
              "      <td>CE</td>\n",
              "      <td>230440</td>\n",
              "      <td>FORTALEZA</td>\n",
              "      <td>MASCULINO</td>\n",
              "      <td>24</td>\n",
              "      <td>True</td>\n",
              "      <td>Positivo</td>\n",
              "      <td>2020-05-24</td>\n",
              "      <td>2020-05-25</td>\n",
              "      <td>21-30</td>\n",
              "      <td>1</td>\n",
              "      <td>0</td>\n",
              "    </tr>\n",
              "    <tr>\n",
              "      <th>8</th>\n",
              "      <td>0o0dosdsbf37d9e49d60852b457916e2</td>\n",
              "      <td>CE</td>\n",
              "      <td>230440</td>\n",
              "      <td>FORTALEZA</td>\n",
              "      <td>FEMININO</td>\n",
              "      <td>15</td>\n",
              "      <td>True</td>\n",
              "      <td>Positivo</td>\n",
              "      <td>2020-05-27</td>\n",
              "      <td>2020-05-30</td>\n",
              "      <td>11-20</td>\n",
              "      <td>1</td>\n",
              "      <td>0</td>\n",
              "    </tr>\n",
              "    <tr>\n",
              "      <th>9</th>\n",
              "      <td>9ifd9if9di9fmfdlkdldksdb457916e2</td>\n",
              "      <td>CE</td>\n",
              "      <td>230440</td>\n",
              "      <td>FORTALEZA</td>\n",
              "      <td>MASCULINO</td>\n",
              "      <td>32</td>\n",
              "      <td>True</td>\n",
              "      <td>Positivo</td>\n",
              "      <td>2020-08-03</td>\n",
              "      <td>2020-08-02</td>\n",
              "      <td>31-40</td>\n",
              "      <td>1</td>\n",
              "      <td>0</td>\n",
              "    </tr>\n",
              "    <tr>\n",
              "      <th>10</th>\n",
              "      <td>99djsdijndsmdsmdsmdsmd1332ddsds2</td>\n",
              "      <td>CE</td>\n",
              "      <td>230440</td>\n",
              "      <td>FORTALEZA</td>\n",
              "      <td>MASCULINO</td>\n",
              "      <td>95</td>\n",
              "      <td>True</td>\n",
              "      <td>Positivo</td>\n",
              "      <td>2020-04-01</td>\n",
              "      <td>2020-04-02</td>\n",
              "      <td>81E+</td>\n",
              "      <td>1</td>\n",
              "      <td>0</td>\n",
              "    </tr>\n",
              "    <tr>\n",
              "      <th>13</th>\n",
              "      <td>8dsud9suddçdsdsdd8uuwdsds1wdwdnc</td>\n",
              "      <td>CE</td>\n",
              "      <td>230440</td>\n",
              "      <td>FORTALEZA</td>\n",
              "      <td>MASCULINO</td>\n",
              "      <td>60</td>\n",
              "      <td>False</td>\n",
              "      <td>Positivo</td>\n",
              "      <td>2020-08-08</td>\n",
              "      <td>NaT</td>\n",
              "      <td>51-60</td>\n",
              "      <td>0</td>\n",
              "      <td>1</td>\n",
              "    </tr>\n",
              "    <tr>\n",
              "      <th>14</th>\n",
              "      <td>8dsudys7yd7syd7sydnsajjsahjas983</td>\n",
              "      <td>CE</td>\n",
              "      <td>230440</td>\n",
              "      <td>FORTALEZA</td>\n",
              "      <td>MASCULINO</td>\n",
              "      <td>79</td>\n",
              "      <td>False</td>\n",
              "      <td>Positivo</td>\n",
              "      <td>2020-06-01</td>\n",
              "      <td>2020-06-05</td>\n",
              "      <td>71-80</td>\n",
              "      <td>0</td>\n",
              "      <td>1</td>\n",
              "    </tr>\n",
              "    <tr>\n",
              "      <th>16</th>\n",
              "      <td>9ewdjsnmcmm9299dmkdsjdk2e2eweddd</td>\n",
              "      <td>CE</td>\n",
              "      <td>230440</td>\n",
              "      <td>FORTALEZA</td>\n",
              "      <td>MASCULINO</td>\n",
              "      <td>80</td>\n",
              "      <td>True</td>\n",
              "      <td>Positivo</td>\n",
              "      <td>2020-07-12</td>\n",
              "      <td>2020-07-19</td>\n",
              "      <td>71-80</td>\n",
              "      <td>1</td>\n",
              "      <td>0</td>\n",
              "    </tr>\n",
              "    <tr>\n",
              "      <th>17</th>\n",
              "      <td>ud8s8dhdjshjdjsdjsdhjqhsas8ewea2</td>\n",
              "      <td>CE</td>\n",
              "      <td>230440</td>\n",
              "      <td>FORTALEZA</td>\n",
              "      <td>FEMININO</td>\n",
              "      <td>21</td>\n",
              "      <td>False</td>\n",
              "      <td>Positivo</td>\n",
              "      <td>2020-02-08</td>\n",
              "      <td>NaT</td>\n",
              "      <td>21-30</td>\n",
              "      <td>0</td>\n",
              "      <td>1</td>\n",
              "    </tr>\n",
              "  </tbody>\n",
              "</table>\n",
              "</div>"
            ],
            "text/plain": [
              "                      codigoPaciente estadoPaciente  ...  qtObito qtCasoConfirmado\n",
              "0   b1ea443bbf37d9e49d60852b457916e3             CE  ...        1                0\n",
              "1   b1ea443bbf37d9e49d60852b84579143             CE  ...        1                0\n",
              "4   b1ea443bbf37d9eIRIE52b45227916e2             CE  ...        1                0\n",
              "5   b1ea443bbf37d9eIRIE52b45227916e2             CE  ...        0                1\n",
              "6   12233448fud8fu8f8du6052b457916e2             CE  ...        1                0\n",
              "8   0o0dosdsbf37d9e49d60852b457916e2             CE  ...        1                0\n",
              "9   9ifd9if9di9fmfdlkdldksdb457916e2             CE  ...        1                0\n",
              "10  99djsdijndsmdsmdsmdsmd1332ddsds2             CE  ...        1                0\n",
              "13  8dsud9suddçdsdsdd8uuwdsds1wdwdnc             CE  ...        0                1\n",
              "14  8dsudys7yd7syd7sydnsajjsahjas983             CE  ...        0                1\n",
              "16  9ewdjsnmcmm9299dmkdsjdk2e2eweddd             CE  ...        1                0\n",
              "17  ud8s8dhdjshjdjsdjsdhjqhsas8ewea2             CE  ...        0                1\n",
              "\n",
              "[12 rows x 13 columns]"
            ]
          },
          "metadata": {
            "tags": []
          },
          "execution_count": 14
        }
      ]
    },
    {
      "cell_type": "markdown",
      "metadata": {
        "id": "gs9SA7fBlahR",
        "colab_type": "text"
      },
      "source": [
        "**Gerar novo dataset somente com óbitos confirmados**"
      ]
    },
    {
      "cell_type": "code",
      "metadata": {
        "id": "HQjs4SK_lgwB",
        "colab_type": "code",
        "colab": {
          "base_uri": "https://localhost:8080/",
          "height": 549
        },
        "outputId": "8679ed9d-fcc0-40a7-ba1c-9dda0e09b873"
      },
      "source": [
        "df_obito = df.loc[df['dataObito'].notnull()  ] \n",
        "df_obito"
      ],
      "execution_count": null,
      "outputs": [
        {
          "output_type": "execute_result",
          "data": {
            "text/html": [
              "<div>\n",
              "<style scoped>\n",
              "    .dataframe tbody tr th:only-of-type {\n",
              "        vertical-align: middle;\n",
              "    }\n",
              "\n",
              "    .dataframe tbody tr th {\n",
              "        vertical-align: top;\n",
              "    }\n",
              "\n",
              "    .dataframe thead th {\n",
              "        text-align: right;\n",
              "    }\n",
              "</style>\n",
              "<table border=\"1\" class=\"dataframe\">\n",
              "  <thead>\n",
              "    <tr style=\"text-align: right;\">\n",
              "      <th></th>\n",
              "      <th>codigoPaciente</th>\n",
              "      <th>estadoPaciente</th>\n",
              "      <th>codigoMunicipioPaciente</th>\n",
              "      <th>municipioPaciente</th>\n",
              "      <th>sexoPaciente</th>\n",
              "      <th>idadePaciente</th>\n",
              "      <th>obitoConfirmado</th>\n",
              "      <th>resultadoFinalExame</th>\n",
              "      <th>dataResultadoExame</th>\n",
              "      <th>dataObito</th>\n",
              "      <th>faixaIdade</th>\n",
              "      <th>qtObito</th>\n",
              "      <th>qtCasoConfirmado</th>\n",
              "    </tr>\n",
              "  </thead>\n",
              "  <tbody>\n",
              "    <tr>\n",
              "      <th>0</th>\n",
              "      <td>b1ea443bbf37d9e49d60852b457916e3</td>\n",
              "      <td>CE</td>\n",
              "      <td>230440</td>\n",
              "      <td>FORTALEZA</td>\n",
              "      <td>MASCULINO</td>\n",
              "      <td>2</td>\n",
              "      <td>True</td>\n",
              "      <td>Positivo</td>\n",
              "      <td>2020-06-19</td>\n",
              "      <td>2020-06-15</td>\n",
              "      <td>0-10</td>\n",
              "      <td>1</td>\n",
              "      <td>0</td>\n",
              "    </tr>\n",
              "    <tr>\n",
              "      <th>1</th>\n",
              "      <td>b1ea443bbf37d9e49d60852b84579143</td>\n",
              "      <td>CE</td>\n",
              "      <td>230440</td>\n",
              "      <td>FORTALEZA</td>\n",
              "      <td>FEMININO</td>\n",
              "      <td>3</td>\n",
              "      <td>True</td>\n",
              "      <td>Positivo</td>\n",
              "      <td>2020-04-11</td>\n",
              "      <td>2020-06-12</td>\n",
              "      <td>0-10</td>\n",
              "      <td>1</td>\n",
              "      <td>0</td>\n",
              "    </tr>\n",
              "    <tr>\n",
              "      <th>4</th>\n",
              "      <td>b1ea443bbf37d9eIRIE52b45227916e2</td>\n",
              "      <td>CE</td>\n",
              "      <td>230440</td>\n",
              "      <td>FORTALEZA</td>\n",
              "      <td>FEMININO</td>\n",
              "      <td>56</td>\n",
              "      <td>True</td>\n",
              "      <td>Positivo</td>\n",
              "      <td>2020-02-05</td>\n",
              "      <td>2020-02-09</td>\n",
              "      <td>51-60</td>\n",
              "      <td>1</td>\n",
              "      <td>0</td>\n",
              "    </tr>\n",
              "    <tr>\n",
              "      <th>5</th>\n",
              "      <td>b1ea443bbf37d9eIRIE52b45227916e2</td>\n",
              "      <td>CE</td>\n",
              "      <td>230440</td>\n",
              "      <td>FORTALEZA</td>\n",
              "      <td>FEMININO</td>\n",
              "      <td>57</td>\n",
              "      <td>False</td>\n",
              "      <td>Positivo</td>\n",
              "      <td>2020-06-19</td>\n",
              "      <td>2020-06-15</td>\n",
              "      <td>51-60</td>\n",
              "      <td>0</td>\n",
              "      <td>1</td>\n",
              "    </tr>\n",
              "    <tr>\n",
              "      <th>6</th>\n",
              "      <td>12233448fud8fu8f8du6052b457916e2</td>\n",
              "      <td>CE</td>\n",
              "      <td>230440</td>\n",
              "      <td>FORTALEZA</td>\n",
              "      <td>MASCULINO</td>\n",
              "      <td>24</td>\n",
              "      <td>True</td>\n",
              "      <td>Positivo</td>\n",
              "      <td>2020-05-24</td>\n",
              "      <td>2020-05-25</td>\n",
              "      <td>21-30</td>\n",
              "      <td>1</td>\n",
              "      <td>0</td>\n",
              "    </tr>\n",
              "    <tr>\n",
              "      <th>8</th>\n",
              "      <td>0o0dosdsbf37d9e49d60852b457916e2</td>\n",
              "      <td>CE</td>\n",
              "      <td>230440</td>\n",
              "      <td>FORTALEZA</td>\n",
              "      <td>FEMININO</td>\n",
              "      <td>15</td>\n",
              "      <td>True</td>\n",
              "      <td>Positivo</td>\n",
              "      <td>2020-05-27</td>\n",
              "      <td>2020-05-30</td>\n",
              "      <td>11-20</td>\n",
              "      <td>1</td>\n",
              "      <td>0</td>\n",
              "    </tr>\n",
              "    <tr>\n",
              "      <th>9</th>\n",
              "      <td>9ifd9if9di9fmfdlkdldksdb457916e2</td>\n",
              "      <td>CE</td>\n",
              "      <td>230440</td>\n",
              "      <td>FORTALEZA</td>\n",
              "      <td>MASCULINO</td>\n",
              "      <td>32</td>\n",
              "      <td>True</td>\n",
              "      <td>Positivo</td>\n",
              "      <td>2020-08-03</td>\n",
              "      <td>2020-08-02</td>\n",
              "      <td>31-40</td>\n",
              "      <td>1</td>\n",
              "      <td>0</td>\n",
              "    </tr>\n",
              "    <tr>\n",
              "      <th>10</th>\n",
              "      <td>99djsdijndsmdsmdsmdsmd1332ddsds2</td>\n",
              "      <td>CE</td>\n",
              "      <td>230440</td>\n",
              "      <td>FORTALEZA</td>\n",
              "      <td>MASCULINO</td>\n",
              "      <td>95</td>\n",
              "      <td>True</td>\n",
              "      <td>Positivo</td>\n",
              "      <td>2020-04-01</td>\n",
              "      <td>2020-04-02</td>\n",
              "      <td>81E+</td>\n",
              "      <td>1</td>\n",
              "      <td>0</td>\n",
              "    </tr>\n",
              "    <tr>\n",
              "      <th>14</th>\n",
              "      <td>8dsudys7yd7syd7sydnsajjsahjas983</td>\n",
              "      <td>CE</td>\n",
              "      <td>230440</td>\n",
              "      <td>FORTALEZA</td>\n",
              "      <td>MASCULINO</td>\n",
              "      <td>79</td>\n",
              "      <td>False</td>\n",
              "      <td>Positivo</td>\n",
              "      <td>2020-06-01</td>\n",
              "      <td>2020-06-05</td>\n",
              "      <td>71-80</td>\n",
              "      <td>0</td>\n",
              "      <td>1</td>\n",
              "    </tr>\n",
              "    <tr>\n",
              "      <th>16</th>\n",
              "      <td>9ewdjsnmcmm9299dmkdsjdk2e2eweddd</td>\n",
              "      <td>CE</td>\n",
              "      <td>230440</td>\n",
              "      <td>FORTALEZA</td>\n",
              "      <td>MASCULINO</td>\n",
              "      <td>80</td>\n",
              "      <td>True</td>\n",
              "      <td>Positivo</td>\n",
              "      <td>2020-07-12</td>\n",
              "      <td>2020-07-19</td>\n",
              "      <td>71-80</td>\n",
              "      <td>1</td>\n",
              "      <td>0</td>\n",
              "    </tr>\n",
              "  </tbody>\n",
              "</table>\n",
              "</div>"
            ],
            "text/plain": [
              "                      codigoPaciente estadoPaciente  ...  qtObito qtCasoConfirmado\n",
              "0   b1ea443bbf37d9e49d60852b457916e3             CE  ...        1                0\n",
              "1   b1ea443bbf37d9e49d60852b84579143             CE  ...        1                0\n",
              "4   b1ea443bbf37d9eIRIE52b45227916e2             CE  ...        1                0\n",
              "5   b1ea443bbf37d9eIRIE52b45227916e2             CE  ...        0                1\n",
              "6   12233448fud8fu8f8du6052b457916e2             CE  ...        1                0\n",
              "8   0o0dosdsbf37d9e49d60852b457916e2             CE  ...        1                0\n",
              "9   9ifd9if9di9fmfdlkdldksdb457916e2             CE  ...        1                0\n",
              "10  99djsdijndsmdsmdsmdsmd1332ddsds2             CE  ...        1                0\n",
              "14  8dsudys7yd7syd7sydnsajjsahjas983             CE  ...        0                1\n",
              "16  9ewdjsnmcmm9299dmkdsjdk2e2eweddd             CE  ...        1                0\n",
              "\n",
              "[10 rows x 13 columns]"
            ]
          },
          "metadata": {
            "tags": []
          },
          "execution_count": 15
        }
      ]
    },
    {
      "cell_type": "code",
      "metadata": {
        "id": "yjuDdaK4Ezhq",
        "colab_type": "code",
        "colab": {
          "base_uri": "https://localhost:8080/",
          "height": 80
        },
        "outputId": "0bc2b1a9-98fd-40d2-9382-9951295bd785"
      },
      "source": [
        "# Verificando o total de óbitos e sua respectiva média - ok conferido\n",
        "\n",
        "totalObitos = df_obito['qtObito'].sum()\n",
        "mediaObitos = df_obito.qtObito.mean()\n",
        "\n",
        "totalCasos = df_obito.qtObito.sum()\n",
        "\n",
        "\n",
        "dict = {\"Óbitos\": totalObitos,\n",
        "       \"Media\": [mediaObitos]}\n",
        "\n",
        "totalMedia = pd.DataFrame(dict)\n",
        "\n",
        "totalMedia[\"Media\"] = totalMedia[\"Media\"].map(\"{:2.2f}\".format)\n",
        "\n",
        "totalMedia"
      ],
      "execution_count": null,
      "outputs": [
        {
          "output_type": "execute_result",
          "data": {
            "text/html": [
              "<div>\n",
              "<style scoped>\n",
              "    .dataframe tbody tr th:only-of-type {\n",
              "        vertical-align: middle;\n",
              "    }\n",
              "\n",
              "    .dataframe tbody tr th {\n",
              "        vertical-align: top;\n",
              "    }\n",
              "\n",
              "    .dataframe thead th {\n",
              "        text-align: right;\n",
              "    }\n",
              "</style>\n",
              "<table border=\"1\" class=\"dataframe\">\n",
              "  <thead>\n",
              "    <tr style=\"text-align: right;\">\n",
              "      <th></th>\n",
              "      <th>Óbitos</th>\n",
              "      <th>Media</th>\n",
              "    </tr>\n",
              "  </thead>\n",
              "  <tbody>\n",
              "    <tr>\n",
              "      <th>0</th>\n",
              "      <td>8</td>\n",
              "      <td>0.80</td>\n",
              "    </tr>\n",
              "  </tbody>\n",
              "</table>\n",
              "</div>"
            ],
            "text/plain": [
              "   Óbitos Media\n",
              "0       8  0.80"
            ]
          },
          "metadata": {
            "tags": []
          },
          "execution_count": 16
        }
      ]
    },
    {
      "cell_type": "code",
      "metadata": {
        "id": "bqTtMsGlFY4T",
        "colab_type": "code",
        "colab": {}
      },
      "source": [
        ""
      ],
      "execution_count": null,
      "outputs": []
    },
    {
      "cell_type": "markdown",
      "metadata": {
        "id": "ByRBZKOzBW5S",
        "colab_type": "text"
      },
      "source": [
        "**Contando e confirmando os dados - por óbito**"
      ]
    },
    {
      "cell_type": "code",
      "metadata": {
        "id": "nDEGUz88QODK",
        "colab_type": "code",
        "colab": {
          "base_uri": "https://localhost:8080/",
          "height": 204
        },
        "outputId": "83f24479-3c66-46de-c84f-f8110f82952a"
      },
      "source": [
        "group_faixa_idade_obito = df_obito.groupby('faixaIdade')\n",
        "group_faixa_idade_obito['faixaIdade'].count()"
      ],
      "execution_count": null,
      "outputs": [
        {
          "output_type": "execute_result",
          "data": {
            "text/plain": [
              "faixaIdade\n",
              "0-10     2\n",
              "11-20    1\n",
              "21-30    1\n",
              "31-40    1\n",
              "41-50    0\n",
              "51-60    2\n",
              "61-70    0\n",
              "71-80    2\n",
              "81E+     1\n",
              "Name: faixaIdade, dtype: int64"
            ]
          },
          "metadata": {
            "tags": []
          },
          "execution_count": 17
        }
      ]
    },
    {
      "cell_type": "markdown",
      "metadata": {
        "id": "LdFkE4kLQQuP",
        "colab_type": "text"
      },
      "source": [
        "**Gerando uma série para o gráfico óbitos por faixa de idade**"
      ]
    },
    {
      "cell_type": "code",
      "metadata": {
        "id": "KXH_TOfSNy6x",
        "colab_type": "code",
        "colab": {
          "base_uri": "https://localhost:8080/",
          "height": 386
        },
        "outputId": "eda19d21-e297-4fa8-a0b9-436ae0cdb090"
      },
      "source": [
        "gr_grafico = group_faixa_idade_obito['faixaIdade'].count()\n",
        "gr_grafico.plot(kind=\"bar\", figsize=(10,5), title = 'Distribuição de óbitos por Faixa de idade - Fonte> IntegraSUS')"
      ],
      "execution_count": null,
      "outputs": [
        {
          "output_type": "execute_result",
          "data": {
            "text/plain": [
              "<matplotlib.axes._subplots.AxesSubplot at 0x7f47f4f1f208>"
            ]
          },
          "metadata": {
            "tags": []
          },
          "execution_count": 18
        },
        {
          "output_type": "display_data",
          "data": {
            "image/png": "[encoded data removed]",
            "text/plain": [
              "<Figure size 720x360 with 1 Axes>"
            ]
          },
          "metadata": {
            "tags": [],
            "needs_background": "light"
          }
        }
      ]
    },
    {
      "cell_type": "markdown",
      "metadata": {
        "id": "yU8Tq5f3VmDo",
        "colab_type": "text"
      },
      "source": [
        "**Contando e confirmando os dados - por casos confirmados**"
      ]
    },
    {
      "cell_type": "code",
      "metadata": {
        "id": "N8DCErxfPBPO",
        "colab_type": "code",
        "colab": {
          "base_uri": "https://localhost:8080/",
          "height": 204
        },
        "outputId": "de47db68-4e74-49c9-ad74-3a0d2ab2a160"
      },
      "source": [
        "group_faixa_idade_confirmados = df_confirmados.groupby('faixaIdade')\n",
        "group_faixa_idade_confirmados['faixaIdade'].count()"
      ],
      "execution_count": null,
      "outputs": [
        {
          "output_type": "execute_result",
          "data": {
            "text/plain": [
              "faixaIdade\n",
              "0-10     2\n",
              "11-20    1\n",
              "21-30    2\n",
              "31-40    1\n",
              "41-50    0\n",
              "51-60    3\n",
              "61-70    0\n",
              "71-80    2\n",
              "81E+     1\n",
              "Name: faixaIdade, dtype: int64"
            ]
          },
          "metadata": {
            "tags": []
          },
          "execution_count": 19
        }
      ]
    },
    {
      "cell_type": "markdown",
      "metadata": {
        "id": "roc975tgc83Z",
        "colab_type": "text"
      },
      "source": [
        "**Gerando uma série para o gráfico óbitos por casos confirmados - sem óbito**"
      ]
    },
    {
      "cell_type": "code",
      "metadata": {
        "id": "pkhgegkJdCg1",
        "colab_type": "code",
        "colab": {
          "base_uri": "https://localhost:8080/",
          "height": 386
        },
        "outputId": "368fb36c-c921-4714-9105-097ba0bb12ac"
      },
      "source": [
        "gr_grafico_conf = group_faixa_idade_confirmados['faixaIdade'].count()\n",
        "gr_grafico_conf.plot(kind=\"bar\", figsize=(10,5), title = 'Distribuição de casos confirmados sem óbito por Faixa de idade - Fonte: IntegraSUS')\n"
      ],
      "execution_count": null,
      "outputs": [
        {
          "output_type": "execute_result",
          "data": {
            "text/plain": [
              "<matplotlib.axes._subplots.AxesSubplot at 0x7f47f493f828>"
            ]
          },
          "metadata": {
            "tags": []
          },
          "execution_count": 20
        },
        {
          "output_type": "display_data",
          "data": {
            "image/png": "[encoded data removed]",
            "text/plain": [
              "<Figure size 720x360 with 1 Axes>"
            ]
          },
          "metadata": {
            "tags": [],
            "needs_background": "light"
          }
        }
      ]
    },
    {
      "cell_type": "markdown",
      "metadata": {
        "id": "KyxuoKaGZR75",
        "colab_type": "text"
      },
      "source": [
        "**borrao**"
      ]
    },
    {
      "cell_type": "code",
      "metadata": {
        "id": "rsSV46o9GLEP",
        "colab_type": "code",
        "colab": {
          "base_uri": "https://localhost:8080/",
          "height": 204
        },
        "outputId": "8b02da7c-9e11-4d0c-e3ed-f9ff1d183941"
      },
      "source": [
        "cont_idade_sexo = df_obito.groupby(['faixaIdade','sexoPaciente']).faixaIdade.count().unstack()\n",
        "print(cont_idade_sexo)"
      ],
      "execution_count": null,
      "outputs": [
        {
          "output_type": "stream",
          "text": [
            "sexoPaciente  FEMININO  MASCULINO\n",
            "faixaIdade                       \n",
            "0-10                 1          1\n",
            "11-20                1          0\n",
            "21-30                0          1\n",
            "31-40                0          1\n",
            "41-50                0          0\n",
            "51-60                2          0\n",
            "61-70                0          0\n",
            "71-80                0          2\n",
            "81E+                 0          1\n"
          ],
          "name": "stdout"
        }
      ]
    },
    {
      "cell_type": "code",
      "metadata": {
        "id": "fZelrp3Gvese",
        "colab_type": "code",
        "colab": {
          "base_uri": "https://localhost:8080/",
          "height": 386
        },
        "outputId": "1c54ff3f-6fe9-4270-97ca-bbca16de1cba"
      },
      "source": [
        "cont_idade_sexo.plot(kind='bar', stacked=False, figsize=(10,5), title= \"Distribuição de óbitos por faixa de idade\",  )"
      ],
      "execution_count": null,
      "outputs": [
        {
          "output_type": "execute_result",
          "data": {
            "text/plain": [
              "<matplotlib.axes._subplots.AxesSubplot at 0x7f47f48bf1d0>"
            ]
          },
          "metadata": {
            "tags": []
          },
          "execution_count": 22
        },
        {
          "output_type": "display_data",
          "data": {
            "image/png": "[encoded data removed]",
            "text/plain": [
              "<Figure size 720x360 with 1 Axes>"
            ]
          },
          "metadata": {
            "tags": [],
            "needs_background": "light"
          }
        }
      ]
    },
    {
      "cell_type": "code",
      "metadata": {
        "id": "fBao69lDCtWi",
        "colab_type": "code",
        "colab": {
          "base_uri": "https://localhost:8080/",
          "height": 410
        },
        "outputId": "1ee1d873-cfa0-4964-dfa1-2bc35b0b166c"
      },
      "source": [
        " # Outra forma do mesmo gráfico\n",
        "plt.style.use('fivethirtyeight')\n",
        "ax = cont_idade_sexo.plot(kind='bar',stacked = False, colormap = 'Paired', figsize=(10,5))\n",
        "\n",
        "for p in ax.patches:\n",
        "        ax.annotate(np.round(p.get_height(),decimals=0).astype(np.int64), (p.get_x()+p.get_width()/2., p.get_height()), ha='center', va='center', xytext=(2, 10), textcoords='offset points')\n",
        "\n",
        "plt.xlabel ('Faixa de idade')\n",
        "plt.ylabel ('Nº de óbitos ')\n",
        "plt.title('Distribuição de óbitos por faixa de idade',fontsize=20)\n",
        "plt.show()"
      ],
      "execution_count": null,
      "outputs": [
        {
          "output_type": "display_data",
          "data": {
            "image/png": "[encoded data removed]",
            "text/plain": [
              "<Figure size 720x360 with 1 Axes>"
            ]
          },
          "metadata": {
            "tags": []
          }
        }
      ]
    },
    {
      "cell_type": "code",
      "metadata": {
        "id": "2dUHxyKhfK_b",
        "colab_type": "code",
        "colab": {
          "base_uri": "https://localhost:8080/",
          "height": 142
        },
        "outputId": "e4a25f12-9a96-4ec1-edc8-cb6d45b6bb4b"
      },
      "source": [
        "# Analise somente para Fortaleza, criando um novo dataset\n",
        "sexoObitos = df_obito.groupby(['sexoPaciente']).sum()['qtObito'].rename(\"Mortes por sexo\")\n",
        "sexoCasos = df_confirmados.groupby(['sexoPaciente']).sum()['qtCasoConfirmado'].rename(\"Casos por sexo\")\n",
        "obitosPorcentagem = (sexoObitos / totalObitos)*100\n",
        "casosPorcentagem = (sexoCasos / totalCasos)* 100\n",
        "\n",
        "dict2 = {\"Óbitos por sexo\": sexoObitos, \n",
        "         \"Percentual de Óbitos\": obitosPorcentagem, \n",
        "         \"Casos por sexo\": sexoCasos,\n",
        "        \"Percentual de Casos\": casosPorcentagem}\n",
        "\n",
        "dict2['Percentual de Óbitos'] = dict2[\"Percentual de Óbitos\"].map(\"{:2.2f}%\".format)\n",
        "dict2['Percentual de Casos'] = dict2[\"Percentual de Casos\"].map(\"{:2.2f}%\".format)\n",
        "\n",
        "dadosRegiao = pd.DataFrame(dict2)\n",
        "dadosRegiao"
      ],
      "execution_count": null,
      "outputs": [
        {
          "output_type": "execute_result",
          "data": {
            "text/html": [
              "<div>\n",
              "<style scoped>\n",
              "    .dataframe tbody tr th:only-of-type {\n",
              "        vertical-align: middle;\n",
              "    }\n",
              "\n",
              "    .dataframe tbody tr th {\n",
              "        vertical-align: top;\n",
              "    }\n",
              "\n",
              "    .dataframe thead th {\n",
              "        text-align: right;\n",
              "    }\n",
              "</style>\n",
              "<table border=\"1\" class=\"dataframe\">\n",
              "  <thead>\n",
              "    <tr style=\"text-align: right;\">\n",
              "      <th></th>\n",
              "      <th>Óbitos por sexo</th>\n",
              "      <th>Percentual de Óbitos</th>\n",
              "      <th>Casos por sexo</th>\n",
              "      <th>Percentual de Casos</th>\n",
              "    </tr>\n",
              "    <tr>\n",
              "      <th>sexoPaciente</th>\n",
              "      <th></th>\n",
              "      <th></th>\n",
              "      <th></th>\n",
              "      <th></th>\n",
              "    </tr>\n",
              "  </thead>\n",
              "  <tbody>\n",
              "    <tr>\n",
              "      <th>FEMININO</th>\n",
              "      <td>3</td>\n",
              "      <td>37.50%</td>\n",
              "      <td>2</td>\n",
              "      <td>25.00%</td>\n",
              "    </tr>\n",
              "    <tr>\n",
              "      <th>MASCULINO</th>\n",
              "      <td>5</td>\n",
              "      <td>62.50%</td>\n",
              "      <td>2</td>\n",
              "      <td>25.00%</td>\n",
              "    </tr>\n",
              "  </tbody>\n",
              "</table>\n",
              "</div>"
            ],
            "text/plain": [
              "              Óbitos por sexo  ... Percentual de Casos\n",
              "sexoPaciente                   ...                    \n",
              "FEMININO                    3  ...              25.00%\n",
              "MASCULINO                   5  ...              25.00%\n",
              "\n",
              "[2 rows x 4 columns]"
            ]
          },
          "metadata": {
            "tags": []
          },
          "execution_count": 24
        }
      ]
    },
    {
      "cell_type": "code",
      "metadata": {
        "id": "-sSN9-DkLMA1",
        "colab_type": "code",
        "colab": {
          "base_uri": "https://localhost:8080/",
          "height": 335
        },
        "outputId": "266b3a96-634b-4ad0-a636-1f0b7be3eb6b"
      },
      "source": [
        "\n",
        "# Visualizando gráficamente os dados comparativos entre óbitos e casos por região\n",
        "fig, ax = plt.subplots(1,2, figsize = (10,5))\n",
        "ax[0].pie(sexoCasos)\n",
        "ax[0].set_title(\"Casos por Sexo\", fontsize = 14)\n",
        "\n",
        "ax[1].pie(sexoObitos)\n",
        "ax[1].set_title(\"Óbitos por Sexo\", fontsize = 14)\n",
        "ax[1].legend(sexoCasos.index, bbox_to_anchor = [1, 1])\n",
        "plt.show()"
      ],
      "execution_count": null,
      "outputs": [
        {
          "output_type": "display_data",
          "data": {
            "image/png": "[encoded data removed]",
            "text/plain": [
              "<Figure size 720x360 with 2 Axes>"
            ]
          },
          "metadata": {
            "tags": []
          }
        }
      ]
    },
    {
      "cell_type": "code",
      "metadata": {
        "id": "x1_f7kKyCf9-",
        "colab_type": "code",
        "colab": {}
      },
      "source": [
        ""
      ],
      "execution_count": null,
      "outputs": []
    }
  ]
}