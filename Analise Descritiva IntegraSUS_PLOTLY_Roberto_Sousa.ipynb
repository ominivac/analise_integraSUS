{
  "nbformat": 4,
  "nbformat_minor": 0,
  "metadata": {
    "colab": {
      "name": "Cópia de Analise de dados do IntegraSUS PLOTLY- Roberto Sousa.ipynb",
      "provenance": [],
      "collapsed_sections": [],
      "authorship_tag": "ABX9TyMbVJfTIfGRDGqLVxewoXJ8",
      "include_colab_link": true
    },
    "kernelspec": {
      "name": "python3",
      "display_name": "Python 3"
    }
  },
  "cells": [
    {
      "cell_type": "markdown",
      "metadata": {
        "id": "view-in-github",
        "colab_type": "text"
      },
      "source": [
        "<a href=\"https://colab.research.google.com/github/ominivac/analise_integraSUS/blob/master/Analise%20Descritiva%20IntegraSUS_PLOTLY_Roberto_Sousa.ipynb\" target=\"_parent\"><img src=\"https://colab.research.google.com/assets/colab-badge.svg\" alt=\"Open In Colab\"/></a>"
      ]
    },
    {
      "cell_type": "markdown",
      "metadata": {
        "id": "6ANJgTMri_Ab"
      },
      "source": [
        "**Notebook Pandas para Análise Descritiva - concurso INTEGRASUS 2020**\r\n",
        "Fonte dos dados analisados :  http://download-integrasus.saude.ce.gov.br/download\r\n",
        "\r\n",
        "Paticipante : Roberto Sousa - robertokbs@gmail.com"
      ]
    },
    {
      "cell_type": "code",
      "metadata": {
        "id": "iniKbZnmtjNJ",
        "colab": {
          "base_uri": "https://localhost:8080/"
        },
        "outputId": "20d4957c-93a4-4cfe-98d2-1bde99369518"
      },
      "source": [
        "import folium\r\n",
        "\r\n",
        "import psycopg2\r\n",
        "import numpy as np\r\n",
        "import pandas as pd\r\n",
        "import altair as alt\r\n",
        "from datetime import *\r\n",
        "import plotly.express as px\r\n",
        "import plotly.graph_objects as go\r\n",
        "\r\n"
      ],
      "execution_count": 1,
      "outputs": [
        {
          "output_type": "stream",
          "text": [
            "/usr/local/lib/python3.6/dist-packages/psycopg2/__init__.py:144: UserWarning: The psycopg2 wheel package will be renamed from release 2.8; in order to keep installing from binary please use \"pip install psycopg2-binary\" instead. For details see: <http://initd.org/psycopg/docs/install.html#binary-install-from-pypi>.\n",
            "  \"\"\")\n"
          ],
          "name": "stderr"
        }
      ]
    },
    {
      "cell_type": "code",
      "metadata": {
        "id": "nxDvn5-8i_zS",
        "colab": {
          "base_uri": "https://localhost:8080/"
        },
        "outputId": "7df39915-72f4-4b7f-a969-7d4be4bc0368"
      },
      "source": [
        "from google.colab import drive\r\n",
        "drive.mount('/content/drive')"
      ],
      "execution_count": 2,
      "outputs": [
        {
          "output_type": "stream",
          "text": [
            "Drive already mounted at /content/drive; to attempt to forcibly remount, call drive.mount(\"/content/drive\", force_remount=True).\n"
          ],
          "name": "stdout"
        }
      ]
    },
    {
      "cell_type": "code",
      "metadata": {
        "id": "ANt9Vw-FvQOh"
      },
      "source": [
        "import pandas as pd\r\n",
        "df = pd.read_csv(\"/content/drive/My Drive/IntegraSUS/casos_coronavirus_2021_01_16.csv\", low_memory=False, sep=';', date_parser= '%Y-%m-%d')"
      ],
      "execution_count": 3,
      "outputs": []
    },
    {
      "cell_type": "code",
      "metadata": {
        "id": "bg_wOOVKcoXS"
      },
      "source": [
        "#df.info()"
      ],
      "execution_count": 4,
      "outputs": []
    },
    {
      "cell_type": "code",
      "metadata": {
        "colab": {
          "base_uri": "https://localhost:8080/"
        },
        "id": "fr1Txy5mva1c",
        "outputId": "e074a065-3a1a-4f27-a92d-716d264aeb6e"
      },
      "source": [
        "#quantidade de registros\r\n",
        "print('Nº de registros : ' , df.shape )"
      ],
      "execution_count": 5,
      "outputs": [
        {
          "output_type": "stream",
          "text": [
            "Nº de registros :  (1629146, 62)\n"
          ],
          "name": "stdout"
        }
      ]
    },
    {
      "cell_type": "code",
      "metadata": {
        "colab": {
          "base_uri": "https://localhost:8080/",
          "height": 248
        },
        "id": "h7rC8TWMvj7U",
        "outputId": "1a61328b-96a3-4b67-839c-329f7c485f7f"
      },
      "source": [
        "# Preview dos dados , indentificação de colunas, fortmato dos dados etc\r\n",
        "df.head(3)"
      ],
      "execution_count": 6,
      "outputs": [
        {
          "output_type": "execute_result",
          "data": {
            "text/html": [
              "<div>\n",
              "<style scoped>\n",
              "    .dataframe tbody tr th:only-of-type {\n",
              "        vertical-align: middle;\n",
              "    }\n",
              "\n",
              "    .dataframe tbody tr th {\n",
              "        vertical-align: top;\n",
              "    }\n",
              "\n",
              "    .dataframe thead th {\n",
              "        text-align: right;\n",
              "    }\n",
              "</style>\n",
              "<table border=\"1\" class=\"dataframe\">\n",
              "  <thead>\n",
              "    <tr style=\"text-align: right;\">\n",
              "      <th></th>\n",
              "      <th>identificadorCaso</th>\n",
              "      <th>idRedcap</th>\n",
              "      <th>idEsus</th>\n",
              "      <th>idSivep</th>\n",
              "      <th>classificacaoEstadoRedcap</th>\n",
              "      <th>classificacaoEstadoEsus</th>\n",
              "      <th>classificacaoFinalEsus</th>\n",
              "      <th>evolucaoCasoEsus</th>\n",
              "      <th>cboEsus</th>\n",
              "      <th>profissionalSaudeEsus</th>\n",
              "      <th>paisCaso</th>\n",
              "      <th>estadoCaso</th>\n",
              "      <th>codigoMunicipioCaso</th>\n",
              "      <th>municipioCaso</th>\n",
              "      <th>bairroCaso</th>\n",
              "      <th>bairroCasoGeocoder</th>\n",
              "      <th>sexoCaso</th>\n",
              "      <th>idadeCaso</th>\n",
              "      <th>faixaEtaria</th>\n",
              "      <th>dataNascimento</th>\n",
              "      <th>dataNotificacao</th>\n",
              "      <th>dataInicioSintomas</th>\n",
              "      <th>dataSolicitacaoExame</th>\n",
              "      <th>dataColetaExame</th>\n",
              "      <th>dataResultadoExame</th>\n",
              "      <th>resultadoFinalExame</th>\n",
              "      <th>laboratorioExame</th>\n",
              "      <th>classificacaoEstadoSivep</th>\n",
              "      <th>dataInternacaoSivep</th>\n",
              "      <th>dataEntradaUTISivep</th>\n",
              "      <th>dataSaidaUTISivep</th>\n",
              "      <th>evolucaoCasoSivep</th>\n",
              "      <th>dataEvolucaoCasoSivep</th>\n",
              "      <th>comorbidadePuerperaSivep</th>\n",
              "      <th>comorbidadeCardiovascularSivep</th>\n",
              "      <th>comorbidadeHematologiaSivep</th>\n",
              "      <th>comorbidadeSindromeDownSivep</th>\n",
              "      <th>comorbidadeHepaticaSivep</th>\n",
              "      <th>comorbidadeAsmaSivep</th>\n",
              "      <th>comorbidadeDiabetesSivep</th>\n",
              "      <th>comorbidadeNeurologiaSivep</th>\n",
              "      <th>comorbidadePneumopatiaSivep</th>\n",
              "      <th>comorbidadeImunodeficienciaSivep</th>\n",
              "      <th>comorbidadeRenalSivep</th>\n",
              "      <th>comorbidadeObesidadeSivep</th>\n",
              "      <th>comorbidadeHiv</th>\n",
              "      <th>comorbidadeNeoplasias</th>\n",
              "      <th>tipoTesteExame</th>\n",
              "      <th>requisicaoGal</th>\n",
              "      <th>racaCor</th>\n",
              "      <th>dataNotificacaoObito</th>\n",
              "      <th>cnesNotificacaoEsus</th>\n",
              "      <th>municipioNotificacaoEsus</th>\n",
              "      <th>tipoObitoMaterno</th>\n",
              "      <th>classificacaoFinalCasoSivep</th>\n",
              "      <th>gestante</th>\n",
              "      <th>tipoTesteEsus</th>\n",
              "      <th>obitoConfirmado</th>\n",
              "      <th>dataObito</th>\n",
              "      <th>classificacaoObito</th>\n",
              "      <th>localObito</th>\n",
              "      <th>tipoLocalObito</th>\n",
              "    </tr>\n",
              "  </thead>\n",
              "  <tbody>\n",
              "    <tr>\n",
              "      <th>0</th>\n",
              "      <td>83db2a7b8011265ab0acd6522fb7862b</td>\n",
              "      <td>NaN</td>\n",
              "      <td>232004046659</td>\n",
              "      <td>NaN</td>\n",
              "      <td>NaN</td>\n",
              "      <td>Positivo</td>\n",
              "      <td>Confirmado Laboratorial</td>\n",
              "      <td>Cura</td>\n",
              "      <td>NaN</td>\n",
              "      <td>False</td>\n",
              "      <td>NaN</td>\n",
              "      <td>CE</td>\n",
              "      <td>230970.0</td>\n",
              "      <td>PACATUBA</td>\n",
              "      <td>MONGUBA</td>\n",
              "      <td>NaN</td>\n",
              "      <td>MASCULINO</td>\n",
              "      <td>20.0</td>\n",
              "      <td>20 a 24 anos</td>\n",
              "      <td>1999-11-12</td>\n",
              "      <td>2020-06-15 00:00:00</td>\n",
              "      <td>2020-05-31</td>\n",
              "      <td>NaN</td>\n",
              "      <td>2020-06-15 00:00:00</td>\n",
              "      <td>2020-06-15 00:00:00</td>\n",
              "      <td>Positivo</td>\n",
              "      <td>ESUS (TESTE RÁPIDO)</td>\n",
              "      <td>NaN</td>\n",
              "      <td>NaN</td>\n",
              "      <td>NaN</td>\n",
              "      <td>NaN</td>\n",
              "      <td>NaN</td>\n",
              "      <td>NaN</td>\n",
              "      <td>NaN</td>\n",
              "      <td>NaN</td>\n",
              "      <td>NaN</td>\n",
              "      <td>NaN</td>\n",
              "      <td>NaN</td>\n",
              "      <td>NaN</td>\n",
              "      <td>NaN</td>\n",
              "      <td>NaN</td>\n",
              "      <td>NaN</td>\n",
              "      <td>NaN</td>\n",
              "      <td>NaN</td>\n",
              "      <td>NaN</td>\n",
              "      <td>NaN</td>\n",
              "      <td>NaN</td>\n",
              "      <td>Teste Rápido</td>\n",
              "      <td>NaN</td>\n",
              "      <td>Indígena</td>\n",
              "      <td>NaN</td>\n",
              "      <td>7216262</td>\n",
              "      <td>PACATUBA</td>\n",
              "      <td>NaN</td>\n",
              "      <td>NaN</td>\n",
              "      <td>NaN</td>\n",
              "      <td>TESTE RÁPIDO - ANTICORPO</td>\n",
              "      <td>NaN</td>\n",
              "      <td>NaN</td>\n",
              "      <td>NaN</td>\n",
              "      <td>NaN</td>\n",
              "      <td>NaN</td>\n",
              "    </tr>\n",
              "    <tr>\n",
              "      <th>1</th>\n",
              "      <td>5365ef99c663cf1115712adc3722d72a</td>\n",
              "      <td>NaN</td>\n",
              "      <td>232023236962</td>\n",
              "      <td>NaN</td>\n",
              "      <td>NaN</td>\n",
              "      <td>NaN</td>\n",
              "      <td>NaN</td>\n",
              "      <td>NaN</td>\n",
              "      <td>NaN</td>\n",
              "      <td>False</td>\n",
              "      <td>NaN</td>\n",
              "      <td>CE</td>\n",
              "      <td>230440.0</td>\n",
              "      <td>FORTALEZA</td>\n",
              "      <td>CONJUNTO PALMEIRAS</td>\n",
              "      <td>NaN</td>\n",
              "      <td>MASCULINO</td>\n",
              "      <td>13.0</td>\n",
              "      <td>10 a 14 anos</td>\n",
              "      <td>2007-02-14</td>\n",
              "      <td>2020-08-30 00:00:00</td>\n",
              "      <td>2020-08-22</td>\n",
              "      <td>NaN</td>\n",
              "      <td>NaN</td>\n",
              "      <td>NaN</td>\n",
              "      <td>Provável</td>\n",
              "      <td>ESUS</td>\n",
              "      <td>NaN</td>\n",
              "      <td>NaN</td>\n",
              "      <td>NaN</td>\n",
              "      <td>NaN</td>\n",
              "      <td>NaN</td>\n",
              "      <td>NaN</td>\n",
              "      <td>NaN</td>\n",
              "      <td>NaN</td>\n",
              "      <td>NaN</td>\n",
              "      <td>NaN</td>\n",
              "      <td>NaN</td>\n",
              "      <td>NaN</td>\n",
              "      <td>NaN</td>\n",
              "      <td>NaN</td>\n",
              "      <td>NaN</td>\n",
              "      <td>NaN</td>\n",
              "      <td>NaN</td>\n",
              "      <td>NaN</td>\n",
              "      <td>NaN</td>\n",
              "      <td>NaN</td>\n",
              "      <td>Não Informado</td>\n",
              "      <td>NaN</td>\n",
              "      <td>Parda</td>\n",
              "      <td>NaN</td>\n",
              "      <td>7429398</td>\n",
              "      <td>FORTALEZA</td>\n",
              "      <td>NaN</td>\n",
              "      <td>NaN</td>\n",
              "      <td>NaN</td>\n",
              "      <td>NaN</td>\n",
              "      <td>NaN</td>\n",
              "      <td>NaN</td>\n",
              "      <td>NaN</td>\n",
              "      <td>NaN</td>\n",
              "      <td>NaN</td>\n",
              "    </tr>\n",
              "    <tr>\n",
              "      <th>2</th>\n",
              "      <td>38b518977d1f37702dd1366b3eeff508</td>\n",
              "      <td>NaN</td>\n",
              "      <td>4120014881584</td>\n",
              "      <td>NaN</td>\n",
              "      <td>NaN</td>\n",
              "      <td>Negativo</td>\n",
              "      <td>NaN</td>\n",
              "      <td>NaN</td>\n",
              "      <td>NaN</td>\n",
              "      <td>False</td>\n",
              "      <td>NaN</td>\n",
              "      <td>CE</td>\n",
              "      <td>230440.0</td>\n",
              "      <td>FORTALEZA</td>\n",
              "      <td>CANIDEZINHO</td>\n",
              "      <td>NaN</td>\n",
              "      <td>NaN</td>\n",
              "      <td>22.0</td>\n",
              "      <td>20 a 24 anos</td>\n",
              "      <td>1998-06-15</td>\n",
              "      <td>2020-07-30 00:00:00</td>\n",
              "      <td>2020-07-10</td>\n",
              "      <td>NaN</td>\n",
              "      <td>2020-07-21 00:00:00</td>\n",
              "      <td>2020-07-21 00:00:00</td>\n",
              "      <td>Negativo</td>\n",
              "      <td>ESUS (TESTE RÁPIDO)</td>\n",
              "      <td>NaN</td>\n",
              "      <td>NaN</td>\n",
              "      <td>NaN</td>\n",
              "      <td>NaN</td>\n",
              "      <td>NaN</td>\n",
              "      <td>NaN</td>\n",
              "      <td>NaN</td>\n",
              "      <td>NaN</td>\n",
              "      <td>NaN</td>\n",
              "      <td>NaN</td>\n",
              "      <td>NaN</td>\n",
              "      <td>NaN</td>\n",
              "      <td>NaN</td>\n",
              "      <td>NaN</td>\n",
              "      <td>NaN</td>\n",
              "      <td>NaN</td>\n",
              "      <td>NaN</td>\n",
              "      <td>NaN</td>\n",
              "      <td>NaN</td>\n",
              "      <td>NaN</td>\n",
              "      <td>Teste Rápido</td>\n",
              "      <td>NaN</td>\n",
              "      <td>NaN</td>\n",
              "      <td>NaN</td>\n",
              "      <td>9225323</td>\n",
              "      <td>CURITIBA</td>\n",
              "      <td>NaN</td>\n",
              "      <td>NaN</td>\n",
              "      <td>NaN</td>\n",
              "      <td>TESTE RÁPIDO - ANTICORPO</td>\n",
              "      <td>NaN</td>\n",
              "      <td>NaN</td>\n",
              "      <td>NaN</td>\n",
              "      <td>NaN</td>\n",
              "      <td>NaN</td>\n",
              "    </tr>\n",
              "  </tbody>\n",
              "</table>\n",
              "</div>"
            ],
            "text/plain": [
              "                  identificadorCaso  idRedcap  ... localObito  tipoLocalObito\n",
              "0  83db2a7b8011265ab0acd6522fb7862b       NaN  ...        NaN             NaN\n",
              "1  5365ef99c663cf1115712adc3722d72a       NaN  ...        NaN             NaN\n",
              "2  38b518977d1f37702dd1366b3eeff508       NaN  ...        NaN             NaN\n",
              "\n",
              "[3 rows x 62 columns]"
            ]
          },
          "metadata": {
            "tags": []
          },
          "execution_count": 6
        }
      ]
    },
    {
      "cell_type": "code",
      "metadata": {
        "colab": {
          "base_uri": "https://localhost:8080/"
        },
        "id": "6hVv8jpfwp5O",
        "outputId": "47f266cf-4b8f-4387-eaef-5764f3597101"
      },
      "source": [
        "df.dtypes"
      ],
      "execution_count": 7,
      "outputs": [
        {
          "output_type": "execute_result",
          "data": {
            "text/plain": [
              "identificadorCaso             object\n",
              "idRedcap                     float64\n",
              "idEsus                        object\n",
              "idSivep                      float64\n",
              "classificacaoEstadoRedcap    float64\n",
              "                              ...   \n",
              "obitoConfirmado               object\n",
              "dataObito                     object\n",
              "classificacaoObito            object\n",
              "localObito                    object\n",
              "tipoLocalObito                object\n",
              "Length: 62, dtype: object"
            ]
          },
          "metadata": {
            "tags": []
          },
          "execution_count": 7
        }
      ]
    },
    {
      "cell_type": "code",
      "metadata": {
        "id": "7u12aS2Cwrio"
      },
      "source": [
        "# Tranformar as col. de data no tipo certo\r\n",
        "df[[\"dataNotificacao\",\"dataSolicitacaoExame\",\"dataResultadoExame\",\"dataColetaExame\",\"dataInicioSintomas\", \"dataObito\", \"dataNotificacaoObito\"]] =  df[[\"dataNotificacao\",\"dataSolicitacaoExame\",\"dataResultadoExame\",\"dataColetaExame\",\"dataInicioSintomas\", \"dataObito\", \"dataNotificacaoObito\"]].apply(pd.to_datetime,  errors='coerce')"
      ],
      "execution_count": 8,
      "outputs": []
    },
    {
      "cell_type": "code",
      "metadata": {
        "colab": {
          "base_uri": "https://localhost:8080/"
        },
        "id": "zSchQRsodRQH",
        "outputId": "865d24e7-d9d2-49df-9728-a9060995cdba"
      },
      "source": [
        "df.dtypes"
      ],
      "execution_count": 9,
      "outputs": [
        {
          "output_type": "execute_result",
          "data": {
            "text/plain": [
              "identificadorCaso                    object\n",
              "idRedcap                            float64\n",
              "idEsus                               object\n",
              "idSivep                             float64\n",
              "classificacaoEstadoRedcap           float64\n",
              "                                  ...      \n",
              "obitoConfirmado                      object\n",
              "dataObito                    datetime64[ns]\n",
              "classificacaoObito                   object\n",
              "localObito                           object\n",
              "tipoLocalObito                       object\n",
              "Length: 62, dtype: object"
            ]
          },
          "metadata": {
            "tags": []
          },
          "execution_count": 9
        }
      ]
    },
    {
      "cell_type": "markdown",
      "metadata": {
        "id": "qgBgD83qwxFA"
      },
      "source": [
        "**1.1 Distribuição de atributos**"
      ]
    },
    {
      "cell_type": "code",
      "metadata": {
        "colab": {
          "base_uri": "https://localhost:8080/"
        },
        "id": "6nvSYtKJwuAB",
        "outputId": "87f96a6e-f536-4868-a014-5ac3922f5a42"
      },
      "source": [
        "# Algumas colunas em brancos, contar para sexoPaciente\r\n",
        "count = df[\"sexoCaso\"].isnull().sum()\r\n",
        "print(count)"
      ],
      "execution_count": 10,
      "outputs": [
        {
          "output_type": "stream",
          "text": [
            "4137\n"
          ],
          "name": "stdout"
        }
      ]
    },
    {
      "cell_type": "code",
      "metadata": {
        "id": "_WiOVHD0wzTx",
        "colab": {
          "base_uri": "https://localhost:8080/"
        },
        "outputId": "5ae778b8-3ec8-4b9f-afa0-5dd86bb2e625"
      },
      "source": [
        " # Ver distribuição de atributos\r\n",
        "df['racaCor'].unique().tolist()"
      ],
      "execution_count": 11,
      "outputs": [
        {
          "output_type": "execute_result",
          "data": {
            "text/plain": [
              "['Indígena',\n",
              " 'Parda',\n",
              " nan,\n",
              " 'Branca',\n",
              " 'Preta',\n",
              " 'Amarela',\n",
              " 'Ignorado',\n",
              " 'Sem Informacao']"
            ]
          },
          "metadata": {
            "tags": []
          },
          "execution_count": 11
        }
      ]
    },
    {
      "cell_type": "code",
      "metadata": {
        "id": "pEsmHX5Qw1hd"
      },
      "source": [
        "# Alterar onde for nan para Não Informado\r\n",
        "df['racaCor'] = df['racaCor'].fillna('Não Informado')"
      ],
      "execution_count": 12,
      "outputs": []
    },
    {
      "cell_type": "code",
      "metadata": {
        "id": "h6Qt8qepw4uJ",
        "colab": {
          "base_uri": "https://localhost:8080/"
        },
        "outputId": "c26c2253-8b94-48ce-c1b5-3199ec856ebc"
      },
      "source": [
        "df['tipoTesteExame'].unique().tolist()"
      ],
      "execution_count": 13,
      "outputs": [
        {
          "output_type": "execute_result",
          "data": {
            "text/plain": [
              "['Teste Rápido',\n",
              " 'Não Informado',\n",
              " 'RT-PCR',\n",
              " nan,\n",
              " 'Quimioluminescência',\n",
              " 'Confirmado Clínico-Epidemiológico',\n",
              " 'CLIA',\n",
              " 'ECLIA',\n",
              " 'Confirmado por Critério Clínico',\n",
              " 'ELISA',\n",
              " 'Eletroquimioluminescência',\n",
              " 'Confirmado Clínico-Imagem',\n",
              " 'Imunocromatografia']"
            ]
          },
          "metadata": {
            "tags": []
          },
          "execution_count": 13
        }
      ]
    },
    {
      "cell_type": "code",
      "metadata": {
        "colab": {
          "base_uri": "https://localhost:8080/"
        },
        "id": "0YYbUNYnw6kp",
        "outputId": "725f9b9e-03d8-44c1-a22b-59e3d8a02cef"
      },
      "source": [
        "df['evolucaoCasoSivep'].unique().tolist()"
      ],
      "execution_count": 14,
      "outputs": [
        {
          "output_type": "execute_result",
          "data": {
            "text/plain": [
              "[nan, 'Cura', 'Óbito', 'Ignorado', '3']"
            ]
          },
          "metadata": {
            "tags": []
          },
          "execution_count": 14
        }
      ]
    },
    {
      "cell_type": "code",
      "metadata": {
        "id": "urPBNt0bw98i",
        "colab": {
          "base_uri": "https://localhost:8080/"
        },
        "outputId": "f3ca8b5f-5e3a-4816-be51-48844b0ba0d5"
      },
      "source": [
        "df['comorbidadePneumopatiaSivep'].unique().tolist()"
      ],
      "execution_count": 15,
      "outputs": [
        {
          "output_type": "execute_result",
          "data": {
            "text/plain": [
              "[nan, 'Sim', 'Ignorado', 'Não']"
            ]
          },
          "metadata": {
            "tags": []
          },
          "execution_count": 15
        }
      ]
    },
    {
      "cell_type": "code",
      "metadata": {
        "id": "7b8cSJtIxAIy",
        "colab": {
          "base_uri": "https://localhost:8080/"
        },
        "outputId": "41a87d87-9e34-4c21-f9af-b6678594d30d"
      },
      "source": [
        "df['tipoTesteExame'].unique().tolist()"
      ],
      "execution_count": 16,
      "outputs": [
        {
          "output_type": "execute_result",
          "data": {
            "text/plain": [
              "['Teste Rápido',\n",
              " 'Não Informado',\n",
              " 'RT-PCR',\n",
              " nan,\n",
              " 'Quimioluminescência',\n",
              " 'Confirmado Clínico-Epidemiológico',\n",
              " 'CLIA',\n",
              " 'ECLIA',\n",
              " 'Confirmado por Critério Clínico',\n",
              " 'ELISA',\n",
              " 'Eletroquimioluminescência',\n",
              " 'Confirmado Clínico-Imagem',\n",
              " 'Imunocromatografia']"
            ]
          },
          "metadata": {
            "tags": []
          },
          "execution_count": 16
        }
      ]
    },
    {
      "cell_type": "code",
      "metadata": {
        "colab": {
          "base_uri": "https://localhost:8080/"
        },
        "id": "GZCv-lKvxCKC",
        "outputId": "07f462c1-5d44-4acd-951a-fe209d76fbb8"
      },
      "source": [
        "df['resultadoFinalExame'].unique().tolist()"
      ],
      "execution_count": 17,
      "outputs": [
        {
          "output_type": "execute_result",
          "data": {
            "text/plain": [
              "['Positivo', 'Provável', 'Negativo', nan, 'Em Análise', 'Inconclusivo']"
            ]
          },
          "metadata": {
            "tags": []
          },
          "execution_count": 17
        }
      ]
    },
    {
      "cell_type": "code",
      "metadata": {
        "id": "yIcPwe5dxEXJ",
        "colab": {
          "base_uri": "https://localhost:8080/"
        },
        "outputId": "df106186-071e-4a4e-a3d7-436acb6112e0"
      },
      "source": [
        "df['evolucaoCasoEsus'].unique().tolist()"
      ],
      "execution_count": 18,
      "outputs": [
        {
          "output_type": "execute_result",
          "data": {
            "text/plain": [
              "['Cura',\n",
              " nan,\n",
              " 'Em tratamento domiciliar',\n",
              " 'Ignorado',\n",
              " 'Óbito',\n",
              " 'Internado',\n",
              " 'Internado em UTI']"
            ]
          },
          "metadata": {
            "tags": []
          },
          "execution_count": 18
        }
      ]
    },
    {
      "cell_type": "markdown",
      "metadata": {
        "id": "s2viDC1sxKGg"
      },
      "source": [
        "**1.2 - CRIAÇÃO DE NOVAS COLUNAS PARA FACILITAÇÃO DE CÁLCULOS POSTERIORES**"
      ]
    },
    {
      "cell_type": "code",
      "metadata": {
        "id": "rMxMIWMlxGe4"
      },
      "source": [
        "# Criação da coluna faixa de idade para calculo em percentual\r\n",
        "# Não á mais necessidade, o dataset já vem com uma coluna de faixa etária\r\n",
        "\r\n",
        "#bins= [0,4,9,14,19,24,29,34,39,44,49,54,59,64,69,74,79,80]\r\n",
        "#labels = ['0-4', '5-9', '10-14','15-19', '20-24', '25-29', '30-34', '35-39', '40-44', '45-49', '50-54', '55-59', '60-64', '65-69 ','70-74', '75-79', '80+']\r\n",
        "\r\n",
        "#df['faixaIdade'] = pd.cut(df['idadeCaso'], bins=bins, labels=labels)\r\n",
        "#df.head(3)"
      ],
      "execution_count": 19,
      "outputs": []
    },
    {
      "cell_type": "markdown",
      "metadata": {
        "id": "kUuBneZbxOy_"
      },
      "source": [
        "**O que define o óbito?** "
      ]
    },
    {
      "cell_type": "code",
      "metadata": {
        "id": "3Gejkg7wxMU3"
      },
      "source": [
        "# numero oficial : 9.933\r\n",
        "\r\n",
        " \r\n",
        "#df[df['obitoConfirmado'] == True]                                                                                               11658   rows  01 -\r\n",
        "#df[df['dataObito'].notnull()]                                                                                                   14738   rows  02 - \r\n",
        "#df[df['evolucaoCasoSivep'] == 'Óbito']                                                                                          11332 \t rows  03 - o mais perto do oficial\r\n",
        "#df[ (df['obitoConfirmado'] == True) & (df['dataObito'].notnull())  ]                                                            11658 #df[ (df['dataObito'].notnull() ) & (df['resultadoFinalExame'] == 'Positivo' )]                          11659 rows\r\n",
        "#df[ (df['obitoConfirmado'] == True) & (df['dataObito'].notnull() ) & (df['resultadoFinalExame'] == 'Positivo')   ]              11658 combinar 04 e 05 da o mesmo result. \r\n",
        "\r\n"
      ],
      "execution_count": 20,
      "outputs": []
    },
    {
      "cell_type": "markdown",
      "metadata": {
        "id": "ZL7MR-52xTog"
      },
      "source": [
        "**Recuperados : casos ja´confirmados e que não evoluiram pra óbito**"
      ]
    },
    {
      "cell_type": "code",
      "metadata": {
        "id": "IKH3ld5OxRO4"
      },
      "source": [
        "# df[(df['resultadoFinalExame'] == 'Positivo') & (df['dataObito'].isnull()  )  ]      # 402.102\r\n",
        "# df[(df['evolucaoCasoEsus'] == 'Cura') ]                                            # 478.215 / 265.528 \r\n",
        "# df[(df['resultadoFinalExame'] == 'Positivo') & (df['evolucaoCasoEsus'] == 'Cura'  )  ] # 179.657 rows / 265.528       #USAR ESSE"
      ],
      "execution_count": 21,
      "outputs": []
    },
    {
      "cell_type": "markdown",
      "metadata": {
        "id": "E6kttogGxaIQ"
      },
      "source": [
        "**Casos confirmados - PODEM OU NÃO TER EVOLUIDO PRA ÓBITOS**"
      ]
    },
    {
      "cell_type": "code",
      "metadata": {
        "id": "UV_snagJxVu-"
      },
      "source": [
        "#df[(df['resultadoFinalExame'] == 'Positivo')] # 413.761 rows / 327.865 IntegraSUS"
      ],
      "execution_count": 22,
      "outputs": []
    },
    {
      "cell_type": "code",
      "metadata": {
        "id": "hy2FFgNhxcCy"
      },
      "source": [
        "#df.sort_values(by=\"dataObito\")"
      ],
      "execution_count": 23,
      "outputs": []
    },
    {
      "cell_type": "markdown",
      "metadata": {
        "id": "Lrrr71w3xino"
      },
      "source": [
        "**Nova coluna quantidade de óbito para cada dia, visto que em um mesmo dia há mais de um óbito**"
      ]
    },
    {
      "cell_type": "code",
      "metadata": {
        "id": "l7wC92_IxfT3"
      },
      "source": [
        "# Como cada dia representa um óbito, criar nova coluna para cada registro somente HUM por registro \r\n",
        "df['qtObito'] = np.where(df['obitoConfirmado'] == True, 1, 0)\r\n",
        "#df[df['qtObito'] == 1].head(3)"
      ],
      "execution_count": 24,
      "outputs": []
    },
    {
      "cell_type": "markdown",
      "metadata": {
        "id": "sZ6kw_tvxnr5"
      },
      "source": [
        "**Nova coluna quantidade de casos confirmados para cada dia, visto que em um mesmo dia há mais de um caso confirmado**"
      ]
    },
    {
      "cell_type": "code",
      "metadata": {
        "id": "RioJY1r0xkli"
      },
      "source": [
        "# Nova coluna para somar de casos confirmados SEM óbito\r\n",
        "df['qtCasoConfirmado'] = np.where(  ( df['resultadoFinalExame'] == 'Positivo')  , 1, 0) \r\n",
        "#df[df['qtCasoConfirmado'] == 1].head(3)"
      ],
      "execution_count": 25,
      "outputs": []
    },
    {
      "cell_type": "markdown",
      "metadata": {
        "id": "I6GnYohuxt8z"
      },
      "source": [
        "**Nova coluna quantidade de casos confirmados SEM ÓBITO**"
      ]
    },
    {
      "cell_type": "code",
      "metadata": {
        "id": "QJWmMZM1xqn-"
      },
      "source": [
        "# Nova coluna para somar de casos confirmados SEM óbito\r\n",
        "df['qtCasoConfirmadoSemObito'] = np.where(  ( df['resultadoFinalExame'] == 'Positivo')  & ( df['evolucaoCasoEsus'] == 'Cura' ) , 1, 0) \r\n",
        "#df[df['qtCasoConfirmadoSemObito'] == 1].head(3)"
      ],
      "execution_count": 26,
      "outputs": []
    },
    {
      "cell_type": "markdown",
      "metadata": {
        "id": "WXJa8AAKx1dD"
      },
      "source": [
        "**1.3 - CRIAÇÃO DE NOVO DATASET PARA CASOS CONFIRMADOS QUE PODEM OU NÃO TER EVOLUÍDOS PRA ÓBITOS**"
      ]
    },
    {
      "cell_type": "code",
      "metadata": {
        "id": "5PWQ5thxxwUK",
        "colab": {
          "base_uri": "https://localhost:8080/",
          "height": 230
        },
        "outputId": "b1a69f8b-7950-40b3-da7d-5b36fb79907d"
      },
      "source": [
        "df_confirmados = df[ df['resultadoFinalExame'] == 'Positivo'  ]\r\n",
        "df_confirmados.sort_values(by=\"dataObito\").head(3)"
      ],
      "execution_count": 27,
      "outputs": [
        {
          "output_type": "execute_result",
          "data": {
            "text/html": [
              "<div>\n",
              "<style scoped>\n",
              "    .dataframe tbody tr th:only-of-type {\n",
              "        vertical-align: middle;\n",
              "    }\n",
              "\n",
              "    .dataframe tbody tr th {\n",
              "        vertical-align: top;\n",
              "    }\n",
              "\n",
              "    .dataframe thead th {\n",
              "        text-align: right;\n",
              "    }\n",
              "</style>\n",
              "<table border=\"1\" class=\"dataframe\">\n",
              "  <thead>\n",
              "    <tr style=\"text-align: right;\">\n",
              "      <th></th>\n",
              "      <th>identificadorCaso</th>\n",
              "      <th>idRedcap</th>\n",
              "      <th>idEsus</th>\n",
              "      <th>idSivep</th>\n",
              "      <th>classificacaoEstadoRedcap</th>\n",
              "      <th>classificacaoEstadoEsus</th>\n",
              "      <th>classificacaoFinalEsus</th>\n",
              "      <th>evolucaoCasoEsus</th>\n",
              "      <th>cboEsus</th>\n",
              "      <th>profissionalSaudeEsus</th>\n",
              "      <th>paisCaso</th>\n",
              "      <th>estadoCaso</th>\n",
              "      <th>codigoMunicipioCaso</th>\n",
              "      <th>municipioCaso</th>\n",
              "      <th>bairroCaso</th>\n",
              "      <th>bairroCasoGeocoder</th>\n",
              "      <th>sexoCaso</th>\n",
              "      <th>idadeCaso</th>\n",
              "      <th>faixaEtaria</th>\n",
              "      <th>dataNascimento</th>\n",
              "      <th>dataNotificacao</th>\n",
              "      <th>dataInicioSintomas</th>\n",
              "      <th>dataSolicitacaoExame</th>\n",
              "      <th>dataColetaExame</th>\n",
              "      <th>dataResultadoExame</th>\n",
              "      <th>resultadoFinalExame</th>\n",
              "      <th>laboratorioExame</th>\n",
              "      <th>classificacaoEstadoSivep</th>\n",
              "      <th>dataInternacaoSivep</th>\n",
              "      <th>dataEntradaUTISivep</th>\n",
              "      <th>dataSaidaUTISivep</th>\n",
              "      <th>evolucaoCasoSivep</th>\n",
              "      <th>dataEvolucaoCasoSivep</th>\n",
              "      <th>comorbidadePuerperaSivep</th>\n",
              "      <th>comorbidadeCardiovascularSivep</th>\n",
              "      <th>comorbidadeHematologiaSivep</th>\n",
              "      <th>comorbidadeSindromeDownSivep</th>\n",
              "      <th>comorbidadeHepaticaSivep</th>\n",
              "      <th>comorbidadeAsmaSivep</th>\n",
              "      <th>comorbidadeDiabetesSivep</th>\n",
              "      <th>comorbidadeNeurologiaSivep</th>\n",
              "      <th>comorbidadePneumopatiaSivep</th>\n",
              "      <th>comorbidadeImunodeficienciaSivep</th>\n",
              "      <th>comorbidadeRenalSivep</th>\n",
              "      <th>comorbidadeObesidadeSivep</th>\n",
              "      <th>comorbidadeHiv</th>\n",
              "      <th>comorbidadeNeoplasias</th>\n",
              "      <th>tipoTesteExame</th>\n",
              "      <th>requisicaoGal</th>\n",
              "      <th>racaCor</th>\n",
              "      <th>dataNotificacaoObito</th>\n",
              "      <th>cnesNotificacaoEsus</th>\n",
              "      <th>municipioNotificacaoEsus</th>\n",
              "      <th>tipoObitoMaterno</th>\n",
              "      <th>classificacaoFinalCasoSivep</th>\n",
              "      <th>gestante</th>\n",
              "      <th>tipoTesteEsus</th>\n",
              "      <th>obitoConfirmado</th>\n",
              "      <th>dataObito</th>\n",
              "      <th>classificacaoObito</th>\n",
              "      <th>localObito</th>\n",
              "      <th>tipoLocalObito</th>\n",
              "      <th>qtObito</th>\n",
              "      <th>qtCasoConfirmado</th>\n",
              "      <th>qtCasoConfirmadoSemObito</th>\n",
              "    </tr>\n",
              "  </thead>\n",
              "  <tbody>\n",
              "    <tr>\n",
              "      <th>22486</th>\n",
              "      <td>e00481f300496b7c996f781c5b9edc0f</td>\n",
              "      <td>NaN</td>\n",
              "      <td>202017481</td>\n",
              "      <td>3.158525e+11</td>\n",
              "      <td>NaN</td>\n",
              "      <td>Positivo</td>\n",
              "      <td>Confirmação Laboratorial</td>\n",
              "      <td>Óbito</td>\n",
              "      <td>NaN</td>\n",
              "      <td>False</td>\n",
              "      <td>BRASIL</td>\n",
              "      <td>CE</td>\n",
              "      <td>230440.0</td>\n",
              "      <td>FORTALEZA</td>\n",
              "      <td>COCO</td>\n",
              "      <td>NaN</td>\n",
              "      <td>FEMININO</td>\n",
              "      <td>84.0</td>\n",
              "      <td>80 ou mais</td>\n",
              "      <td>1936-02-26</td>\n",
              "      <td>2020-03-24</td>\n",
              "      <td>2020-03-21</td>\n",
              "      <td>NaT</td>\n",
              "      <td>2020-03-24</td>\n",
              "      <td>2020-03-24</td>\n",
              "      <td>Positivo</td>\n",
              "      <td>GAL</td>\n",
              "      <td>Positivo</td>\n",
              "      <td>NaN</td>\n",
              "      <td>NaN</td>\n",
              "      <td>NaN</td>\n",
              "      <td>Óbito</td>\n",
              "      <td>2020-03-24 00:00:00.000</td>\n",
              "      <td>Não</td>\n",
              "      <td>Sim</td>\n",
              "      <td>Não</td>\n",
              "      <td>Não</td>\n",
              "      <td>Não</td>\n",
              "      <td>Não</td>\n",
              "      <td>Sim</td>\n",
              "      <td>Não</td>\n",
              "      <td>Não</td>\n",
              "      <td>Não</td>\n",
              "      <td>Não</td>\n",
              "      <td>Não</td>\n",
              "      <td>NaN</td>\n",
              "      <td>NaN</td>\n",
              "      <td>RT-PCR</td>\n",
              "      <td>2.022130e+11</td>\n",
              "      <td>Não Informado</td>\n",
              "      <td>2020-05-20 17:24:35.783</td>\n",
              "      <td>NaN</td>\n",
              "      <td>FORTALEZA</td>\n",
              "      <td>NaN</td>\n",
              "      <td>SRAG por COVID-19</td>\n",
              "      <td>NaN</td>\n",
              "      <td>RT-PCR</td>\n",
              "      <td>True</td>\n",
              "      <td>2020-03-24</td>\n",
              "      <td>Confirmado</td>\n",
              "      <td>HOSPITAL SAO MATEUS</td>\n",
              "      <td>NaN</td>\n",
              "      <td>1</td>\n",
              "      <td>1</td>\n",
              "      <td>0</td>\n",
              "    </tr>\n",
              "    <tr>\n",
              "      <th>517611</th>\n",
              "      <td>82563a758fad9d2126eabf2d356277d6</td>\n",
              "      <td>NaN</td>\n",
              "      <td>202017950</td>\n",
              "      <td>3.158514e+11</td>\n",
              "      <td>NaN</td>\n",
              "      <td>Positivo</td>\n",
              "      <td>Confirmação Laboratorial</td>\n",
              "      <td>NaN</td>\n",
              "      <td>NaN</td>\n",
              "      <td>False</td>\n",
              "      <td>BRASIL</td>\n",
              "      <td>CE</td>\n",
              "      <td>230440.0</td>\n",
              "      <td>FORTALEZA</td>\n",
              "      <td>JOVITA FEITOSA</td>\n",
              "      <td>NaN</td>\n",
              "      <td>FEMININO</td>\n",
              "      <td>97.0</td>\n",
              "      <td>80 ou mais</td>\n",
              "      <td>1923-02-03</td>\n",
              "      <td>2020-03-24</td>\n",
              "      <td>2020-03-21</td>\n",
              "      <td>NaT</td>\n",
              "      <td>2020-03-24</td>\n",
              "      <td>2020-04-28</td>\n",
              "      <td>Positivo</td>\n",
              "      <td>GAL</td>\n",
              "      <td>Positivo</td>\n",
              "      <td>2020-03-23 00:00:00.000</td>\n",
              "      <td>2020-03-23 00:00:00.000</td>\n",
              "      <td>NaN</td>\n",
              "      <td>Óbito</td>\n",
              "      <td>2020-03-24 00:00:00.000</td>\n",
              "      <td>NaN</td>\n",
              "      <td>Sim</td>\n",
              "      <td>NaN</td>\n",
              "      <td>NaN</td>\n",
              "      <td>NaN</td>\n",
              "      <td>NaN</td>\n",
              "      <td>Sim</td>\n",
              "      <td>NaN</td>\n",
              "      <td>NaN</td>\n",
              "      <td>NaN</td>\n",
              "      <td>NaN</td>\n",
              "      <td>NaN</td>\n",
              "      <td>NaN</td>\n",
              "      <td>NaN</td>\n",
              "      <td>RT-PCR</td>\n",
              "      <td>2.022200e+11</td>\n",
              "      <td>Não Informado</td>\n",
              "      <td>2020-05-20 17:30:03.817</td>\n",
              "      <td>NaN</td>\n",
              "      <td>FORTALEZA</td>\n",
              "      <td>NaN</td>\n",
              "      <td>SRAG por COVID-19</td>\n",
              "      <td>NaN</td>\n",
              "      <td>RT-PCR</td>\n",
              "      <td>True</td>\n",
              "      <td>2020-03-24</td>\n",
              "      <td>Confirmado</td>\n",
              "      <td>HOSPITAL GENESIS</td>\n",
              "      <td>NaN</td>\n",
              "      <td>1</td>\n",
              "      <td>1</td>\n",
              "      <td>0</td>\n",
              "    </tr>\n",
              "    <tr>\n",
              "      <th>453622</th>\n",
              "      <td>82563a758fad9d2126eabf2d356277d6</td>\n",
              "      <td>NaN</td>\n",
              "      <td>202017974</td>\n",
              "      <td>3.158514e+11</td>\n",
              "      <td>NaN</td>\n",
              "      <td>NaN</td>\n",
              "      <td>NaN</td>\n",
              "      <td>NaN</td>\n",
              "      <td>NaN</td>\n",
              "      <td>False</td>\n",
              "      <td>BRASIL</td>\n",
              "      <td>CE</td>\n",
              "      <td>230440.0</td>\n",
              "      <td>FORTALEZA</td>\n",
              "      <td>JOVITA FEITOSA</td>\n",
              "      <td>NaN</td>\n",
              "      <td>FEMININO</td>\n",
              "      <td>97.0</td>\n",
              "      <td>80 ou mais</td>\n",
              "      <td>1923-02-03</td>\n",
              "      <td>2020-03-24</td>\n",
              "      <td>2020-03-21</td>\n",
              "      <td>NaT</td>\n",
              "      <td>2020-03-24</td>\n",
              "      <td>2020-04-28</td>\n",
              "      <td>Positivo</td>\n",
              "      <td>GAL</td>\n",
              "      <td>Positivo</td>\n",
              "      <td>2020-03-23 00:00:00.000</td>\n",
              "      <td>2020-03-23 00:00:00.000</td>\n",
              "      <td>NaN</td>\n",
              "      <td>Óbito</td>\n",
              "      <td>2020-03-24 00:00:00.000</td>\n",
              "      <td>NaN</td>\n",
              "      <td>Sim</td>\n",
              "      <td>NaN</td>\n",
              "      <td>NaN</td>\n",
              "      <td>NaN</td>\n",
              "      <td>NaN</td>\n",
              "      <td>Sim</td>\n",
              "      <td>NaN</td>\n",
              "      <td>NaN</td>\n",
              "      <td>NaN</td>\n",
              "      <td>NaN</td>\n",
              "      <td>NaN</td>\n",
              "      <td>NaN</td>\n",
              "      <td>NaN</td>\n",
              "      <td>RT-PCR</td>\n",
              "      <td>2.022200e+11</td>\n",
              "      <td>Não Informado</td>\n",
              "      <td>2020-05-20 17:30:03.817</td>\n",
              "      <td>NaN</td>\n",
              "      <td>FORTALEZA</td>\n",
              "      <td>NaN</td>\n",
              "      <td>SRAG por COVID-19</td>\n",
              "      <td>NaN</td>\n",
              "      <td>NaN</td>\n",
              "      <td>True</td>\n",
              "      <td>2020-03-24</td>\n",
              "      <td>Confirmado</td>\n",
              "      <td>HOSPITAL GENESIS</td>\n",
              "      <td>NaN</td>\n",
              "      <td>1</td>\n",
              "      <td>1</td>\n",
              "      <td>0</td>\n",
              "    </tr>\n",
              "  </tbody>\n",
              "</table>\n",
              "</div>"
            ],
            "text/plain": [
              "                       identificadorCaso  ...  qtCasoConfirmadoSemObito\n",
              "22486   e00481f300496b7c996f781c5b9edc0f  ...                         0\n",
              "517611  82563a758fad9d2126eabf2d356277d6  ...                         0\n",
              "453622  82563a758fad9d2126eabf2d356277d6  ...                         0\n",
              "\n",
              "[3 rows x 65 columns]"
            ]
          },
          "metadata": {
            "tags": []
          },
          "execution_count": 27
        }
      ]
    },
    {
      "cell_type": "code",
      "metadata": {
        "colab": {
          "base_uri": "https://localhost:8080/"
        },
        "id": "thx4YuIOx6Tl",
        "outputId": "b955f490-8768-4cad-d027-6d8c4d83c69c"
      },
      "source": [
        "df_confirmados.shape       # 450.151  / ? INTEGRASUS   16/jan"
      ],
      "execution_count": 29,
      "outputs": [
        {
          "output_type": "execute_result",
          "data": {
            "text/plain": [
              "(450151, 65)"
            ]
          },
          "metadata": {
            "tags": []
          },
          "execution_count": 29
        }
      ]
    },
    {
      "cell_type": "markdown",
      "metadata": {
        "id": "Vf5TqGW-yFkY"
      },
      "source": [
        "**1.4 - CRIAÇÃO DE NOVO DATASET PARA CASOS CONFIRMADOS COM ÓBITO**"
      ]
    },
    {
      "cell_type": "code",
      "metadata": {
        "id": "bvThaZmYx9wk",
        "colab": {
          "base_uri": "https://localhost:8080/",
          "height": 248
        },
        "outputId": "452e4b40-6c5c-4b03-8a43-58cd857c0e85"
      },
      "source": [
        "df_obitos = df[ df['obitoConfirmado'] == True]\r\n",
        "df_obitos.sort_values(by=\"dataObito\").head(3)"
      ],
      "execution_count": 30,
      "outputs": [
        {
          "output_type": "execute_result",
          "data": {
            "text/html": [
              "<div>\n",
              "<style scoped>\n",
              "    .dataframe tbody tr th:only-of-type {\n",
              "        vertical-align: middle;\n",
              "    }\n",
              "\n",
              "    .dataframe tbody tr th {\n",
              "        vertical-align: top;\n",
              "    }\n",
              "\n",
              "    .dataframe thead th {\n",
              "        text-align: right;\n",
              "    }\n",
              "</style>\n",
              "<table border=\"1\" class=\"dataframe\">\n",
              "  <thead>\n",
              "    <tr style=\"text-align: right;\">\n",
              "      <th></th>\n",
              "      <th>identificadorCaso</th>\n",
              "      <th>idRedcap</th>\n",
              "      <th>idEsus</th>\n",
              "      <th>idSivep</th>\n",
              "      <th>classificacaoEstadoRedcap</th>\n",
              "      <th>classificacaoEstadoEsus</th>\n",
              "      <th>classificacaoFinalEsus</th>\n",
              "      <th>evolucaoCasoEsus</th>\n",
              "      <th>cboEsus</th>\n",
              "      <th>profissionalSaudeEsus</th>\n",
              "      <th>paisCaso</th>\n",
              "      <th>estadoCaso</th>\n",
              "      <th>codigoMunicipioCaso</th>\n",
              "      <th>municipioCaso</th>\n",
              "      <th>bairroCaso</th>\n",
              "      <th>bairroCasoGeocoder</th>\n",
              "      <th>sexoCaso</th>\n",
              "      <th>idadeCaso</th>\n",
              "      <th>faixaEtaria</th>\n",
              "      <th>dataNascimento</th>\n",
              "      <th>dataNotificacao</th>\n",
              "      <th>dataInicioSintomas</th>\n",
              "      <th>dataSolicitacaoExame</th>\n",
              "      <th>dataColetaExame</th>\n",
              "      <th>dataResultadoExame</th>\n",
              "      <th>resultadoFinalExame</th>\n",
              "      <th>laboratorioExame</th>\n",
              "      <th>classificacaoEstadoSivep</th>\n",
              "      <th>dataInternacaoSivep</th>\n",
              "      <th>dataEntradaUTISivep</th>\n",
              "      <th>dataSaidaUTISivep</th>\n",
              "      <th>evolucaoCasoSivep</th>\n",
              "      <th>dataEvolucaoCasoSivep</th>\n",
              "      <th>comorbidadePuerperaSivep</th>\n",
              "      <th>comorbidadeCardiovascularSivep</th>\n",
              "      <th>comorbidadeHematologiaSivep</th>\n",
              "      <th>comorbidadeSindromeDownSivep</th>\n",
              "      <th>comorbidadeHepaticaSivep</th>\n",
              "      <th>comorbidadeAsmaSivep</th>\n",
              "      <th>comorbidadeDiabetesSivep</th>\n",
              "      <th>comorbidadeNeurologiaSivep</th>\n",
              "      <th>comorbidadePneumopatiaSivep</th>\n",
              "      <th>comorbidadeImunodeficienciaSivep</th>\n",
              "      <th>comorbidadeRenalSivep</th>\n",
              "      <th>comorbidadeObesidadeSivep</th>\n",
              "      <th>comorbidadeHiv</th>\n",
              "      <th>comorbidadeNeoplasias</th>\n",
              "      <th>tipoTesteExame</th>\n",
              "      <th>requisicaoGal</th>\n",
              "      <th>racaCor</th>\n",
              "      <th>dataNotificacaoObito</th>\n",
              "      <th>cnesNotificacaoEsus</th>\n",
              "      <th>municipioNotificacaoEsus</th>\n",
              "      <th>tipoObitoMaterno</th>\n",
              "      <th>classificacaoFinalCasoSivep</th>\n",
              "      <th>gestante</th>\n",
              "      <th>tipoTesteEsus</th>\n",
              "      <th>obitoConfirmado</th>\n",
              "      <th>dataObito</th>\n",
              "      <th>classificacaoObito</th>\n",
              "      <th>localObito</th>\n",
              "      <th>tipoLocalObito</th>\n",
              "      <th>qtObito</th>\n",
              "      <th>qtCasoConfirmado</th>\n",
              "      <th>qtCasoConfirmadoSemObito</th>\n",
              "    </tr>\n",
              "  </thead>\n",
              "  <tbody>\n",
              "    <tr>\n",
              "      <th>453622</th>\n",
              "      <td>82563a758fad9d2126eabf2d356277d6</td>\n",
              "      <td>NaN</td>\n",
              "      <td>202017974</td>\n",
              "      <td>3.158514e+11</td>\n",
              "      <td>NaN</td>\n",
              "      <td>NaN</td>\n",
              "      <td>NaN</td>\n",
              "      <td>NaN</td>\n",
              "      <td>NaN</td>\n",
              "      <td>False</td>\n",
              "      <td>BRASIL</td>\n",
              "      <td>CE</td>\n",
              "      <td>230440.0</td>\n",
              "      <td>FORTALEZA</td>\n",
              "      <td>JOVITA FEITOSA</td>\n",
              "      <td>NaN</td>\n",
              "      <td>FEMININO</td>\n",
              "      <td>97.0</td>\n",
              "      <td>80 ou mais</td>\n",
              "      <td>1923-02-03</td>\n",
              "      <td>2020-03-24</td>\n",
              "      <td>2020-03-21</td>\n",
              "      <td>NaT</td>\n",
              "      <td>2020-03-24</td>\n",
              "      <td>2020-04-28</td>\n",
              "      <td>Positivo</td>\n",
              "      <td>GAL</td>\n",
              "      <td>Positivo</td>\n",
              "      <td>2020-03-23 00:00:00.000</td>\n",
              "      <td>2020-03-23 00:00:00.000</td>\n",
              "      <td>NaN</td>\n",
              "      <td>Óbito</td>\n",
              "      <td>2020-03-24 00:00:00.000</td>\n",
              "      <td>NaN</td>\n",
              "      <td>Sim</td>\n",
              "      <td>NaN</td>\n",
              "      <td>NaN</td>\n",
              "      <td>NaN</td>\n",
              "      <td>NaN</td>\n",
              "      <td>Sim</td>\n",
              "      <td>NaN</td>\n",
              "      <td>NaN</td>\n",
              "      <td>NaN</td>\n",
              "      <td>NaN</td>\n",
              "      <td>NaN</td>\n",
              "      <td>NaN</td>\n",
              "      <td>NaN</td>\n",
              "      <td>RT-PCR</td>\n",
              "      <td>2.022200e+11</td>\n",
              "      <td>Não Informado</td>\n",
              "      <td>2020-05-20 17:30:03.817</td>\n",
              "      <td>NaN</td>\n",
              "      <td>FORTALEZA</td>\n",
              "      <td>NaN</td>\n",
              "      <td>SRAG por COVID-19</td>\n",
              "      <td>NaN</td>\n",
              "      <td>NaN</td>\n",
              "      <td>True</td>\n",
              "      <td>2020-03-24</td>\n",
              "      <td>Confirmado</td>\n",
              "      <td>HOSPITAL GENESIS</td>\n",
              "      <td>NaN</td>\n",
              "      <td>1</td>\n",
              "      <td>1</td>\n",
              "      <td>0</td>\n",
              "    </tr>\n",
              "    <tr>\n",
              "      <th>22486</th>\n",
              "      <td>e00481f300496b7c996f781c5b9edc0f</td>\n",
              "      <td>NaN</td>\n",
              "      <td>202017481</td>\n",
              "      <td>3.158525e+11</td>\n",
              "      <td>NaN</td>\n",
              "      <td>Positivo</td>\n",
              "      <td>Confirmação Laboratorial</td>\n",
              "      <td>Óbito</td>\n",
              "      <td>NaN</td>\n",
              "      <td>False</td>\n",
              "      <td>BRASIL</td>\n",
              "      <td>CE</td>\n",
              "      <td>230440.0</td>\n",
              "      <td>FORTALEZA</td>\n",
              "      <td>COCO</td>\n",
              "      <td>NaN</td>\n",
              "      <td>FEMININO</td>\n",
              "      <td>84.0</td>\n",
              "      <td>80 ou mais</td>\n",
              "      <td>1936-02-26</td>\n",
              "      <td>2020-03-24</td>\n",
              "      <td>2020-03-21</td>\n",
              "      <td>NaT</td>\n",
              "      <td>2020-03-24</td>\n",
              "      <td>2020-03-24</td>\n",
              "      <td>Positivo</td>\n",
              "      <td>GAL</td>\n",
              "      <td>Positivo</td>\n",
              "      <td>NaN</td>\n",
              "      <td>NaN</td>\n",
              "      <td>NaN</td>\n",
              "      <td>Óbito</td>\n",
              "      <td>2020-03-24 00:00:00.000</td>\n",
              "      <td>Não</td>\n",
              "      <td>Sim</td>\n",
              "      <td>Não</td>\n",
              "      <td>Não</td>\n",
              "      <td>Não</td>\n",
              "      <td>Não</td>\n",
              "      <td>Sim</td>\n",
              "      <td>Não</td>\n",
              "      <td>Não</td>\n",
              "      <td>Não</td>\n",
              "      <td>Não</td>\n",
              "      <td>Não</td>\n",
              "      <td>NaN</td>\n",
              "      <td>NaN</td>\n",
              "      <td>RT-PCR</td>\n",
              "      <td>2.022130e+11</td>\n",
              "      <td>Não Informado</td>\n",
              "      <td>2020-05-20 17:24:35.783</td>\n",
              "      <td>NaN</td>\n",
              "      <td>FORTALEZA</td>\n",
              "      <td>NaN</td>\n",
              "      <td>SRAG por COVID-19</td>\n",
              "      <td>NaN</td>\n",
              "      <td>RT-PCR</td>\n",
              "      <td>True</td>\n",
              "      <td>2020-03-24</td>\n",
              "      <td>Confirmado</td>\n",
              "      <td>HOSPITAL SAO MATEUS</td>\n",
              "      <td>NaN</td>\n",
              "      <td>1</td>\n",
              "      <td>1</td>\n",
              "      <td>0</td>\n",
              "    </tr>\n",
              "    <tr>\n",
              "      <th>92020</th>\n",
              "      <td>ed2d67f326d60173a53ee585606b5910</td>\n",
              "      <td>NaN</td>\n",
              "      <td>202016773</td>\n",
              "      <td>3.158931e+11</td>\n",
              "      <td>NaN</td>\n",
              "      <td>Positivo</td>\n",
              "      <td>Confirmação Laboratorial</td>\n",
              "      <td>Óbito</td>\n",
              "      <td>NaN</td>\n",
              "      <td>False</td>\n",
              "      <td>BRASIL</td>\n",
              "      <td>CE</td>\n",
              "      <td>230440.0</td>\n",
              "      <td>FORTALEZA</td>\n",
              "      <td>FATIMA</td>\n",
              "      <td>NaN</td>\n",
              "      <td>FEMININO</td>\n",
              "      <td>41.0</td>\n",
              "      <td>40 a 44 anos</td>\n",
              "      <td>1979-02-04</td>\n",
              "      <td>2020-03-23</td>\n",
              "      <td>2020-03-18</td>\n",
              "      <td>NaT</td>\n",
              "      <td>2020-03-23</td>\n",
              "      <td>2020-03-23</td>\n",
              "      <td>Positivo</td>\n",
              "      <td>GAL</td>\n",
              "      <td>Positivo</td>\n",
              "      <td>2020-03-23 00:00:00.000</td>\n",
              "      <td>NaN</td>\n",
              "      <td>NaN</td>\n",
              "      <td>Óbito</td>\n",
              "      <td>2020-03-24 00:00:00.000</td>\n",
              "      <td>Não</td>\n",
              "      <td>Não</td>\n",
              "      <td>Não</td>\n",
              "      <td>Não</td>\n",
              "      <td>Não</td>\n",
              "      <td>Não</td>\n",
              "      <td>Não</td>\n",
              "      <td>Não</td>\n",
              "      <td>Não</td>\n",
              "      <td>Não</td>\n",
              "      <td>Não</td>\n",
              "      <td>Não</td>\n",
              "      <td>NaN</td>\n",
              "      <td>NaN</td>\n",
              "      <td>RT-PCR</td>\n",
              "      <td>2.001430e+11</td>\n",
              "      <td>Não Informado</td>\n",
              "      <td>2020-05-20 17:24:52.363</td>\n",
              "      <td>NaN</td>\n",
              "      <td>FORTALEZA</td>\n",
              "      <td>NaN</td>\n",
              "      <td>SRAG por COVID-19</td>\n",
              "      <td>NaN</td>\n",
              "      <td>RT-PCR</td>\n",
              "      <td>True</td>\n",
              "      <td>2020-03-24</td>\n",
              "      <td>Confirmado</td>\n",
              "      <td>HOSPITAL REGIONAL UNIMED</td>\n",
              "      <td>PRIVADA</td>\n",
              "      <td>1</td>\n",
              "      <td>1</td>\n",
              "      <td>0</td>\n",
              "    </tr>\n",
              "  </tbody>\n",
              "</table>\n",
              "</div>"
            ],
            "text/plain": [
              "                       identificadorCaso  ...  qtCasoConfirmadoSemObito\n",
              "453622  82563a758fad9d2126eabf2d356277d6  ...                         0\n",
              "22486   e00481f300496b7c996f781c5b9edc0f  ...                         0\n",
              "92020   ed2d67f326d60173a53ee585606b5910  ...                         0\n",
              "\n",
              "[3 rows x 65 columns]"
            ]
          },
          "metadata": {
            "tags": []
          },
          "execution_count": 30
        }
      ]
    },
    {
      "cell_type": "code",
      "metadata": {
        "colab": {
          "base_uri": "https://localhost:8080/"
        },
        "id": "AFMkHQCFHPjM",
        "outputId": "f5f5cec8-b325-4bc1-fe8e-c3e2b845349e"
      },
      "source": [
        "df_obitos.shape   # 11.907 óbitos"
      ],
      "execution_count": 31,
      "outputs": [
        {
          "output_type": "execute_result",
          "data": {
            "text/plain": [
              "(11907, 65)"
            ]
          },
          "metadata": {
            "tags": []
          },
          "execution_count": 31
        }
      ]
    },
    {
      "cell_type": "code",
      "metadata": {
        "id": "O83X5TNTyHXz",
        "colab": {
          "base_uri": "https://localhost:8080/",
          "height": 416
        },
        "outputId": "39ae4d6f-fe89-432a-f71a-91ea6eacaeb6"
      },
      "source": [
        "df_grafico_obito = df_obitos.groupby('dataObito', sort=False)[\"qtObito\"].sum().reset_index(name ='total_obito_dia')\r\n",
        "df_grafico_obito.sort_values('dataObito')"
      ],
      "execution_count": 32,
      "outputs": [
        {
          "output_type": "execute_result",
          "data": {
            "text/html": [
              "<div>\n",
              "<style scoped>\n",
              "    .dataframe tbody tr th:only-of-type {\n",
              "        vertical-align: middle;\n",
              "    }\n",
              "\n",
              "    .dataframe tbody tr th {\n",
              "        vertical-align: top;\n",
              "    }\n",
              "\n",
              "    .dataframe thead th {\n",
              "        text-align: right;\n",
              "    }\n",
              "</style>\n",
              "<table border=\"1\" class=\"dataframe\">\n",
              "  <thead>\n",
              "    <tr style=\"text-align: right;\">\n",
              "      <th></th>\n",
              "      <th>dataObito</th>\n",
              "      <th>total_obito_dia</th>\n",
              "    </tr>\n",
              "  </thead>\n",
              "  <tbody>\n",
              "    <tr>\n",
              "      <th>3</th>\n",
              "      <td>2020-03-24</td>\n",
              "      <td>4</td>\n",
              "    </tr>\n",
              "    <tr>\n",
              "      <th>294</th>\n",
              "      <td>2020-03-25</td>\n",
              "      <td>2</td>\n",
              "    </tr>\n",
              "    <tr>\n",
              "      <th>205</th>\n",
              "      <td>2020-03-26</td>\n",
              "      <td>4</td>\n",
              "    </tr>\n",
              "    <tr>\n",
              "      <th>285</th>\n",
              "      <td>2020-03-27</td>\n",
              "      <td>3</td>\n",
              "    </tr>\n",
              "    <tr>\n",
              "      <th>296</th>\n",
              "      <td>2020-03-28</td>\n",
              "      <td>2</td>\n",
              "    </tr>\n",
              "    <tr>\n",
              "      <th>...</th>\n",
              "      <td>...</td>\n",
              "      <td>...</td>\n",
              "    </tr>\n",
              "    <tr>\n",
              "      <th>273</th>\n",
              "      <td>2021-01-10</td>\n",
              "      <td>6</td>\n",
              "    </tr>\n",
              "    <tr>\n",
              "      <th>272</th>\n",
              "      <td>2021-01-11</td>\n",
              "      <td>7</td>\n",
              "    </tr>\n",
              "    <tr>\n",
              "      <th>282</th>\n",
              "      <td>2021-01-12</td>\n",
              "      <td>3</td>\n",
              "    </tr>\n",
              "    <tr>\n",
              "      <th>281</th>\n",
              "      <td>2021-01-13</td>\n",
              "      <td>7</td>\n",
              "    </tr>\n",
              "    <tr>\n",
              "      <th>277</th>\n",
              "      <td>2021-01-15</td>\n",
              "      <td>2</td>\n",
              "    </tr>\n",
              "  </tbody>\n",
              "</table>\n",
              "<p>297 rows × 2 columns</p>\n",
              "</div>"
            ],
            "text/plain": [
              "     dataObito  total_obito_dia\n",
              "3   2020-03-24                4\n",
              "294 2020-03-25                2\n",
              "205 2020-03-26                4\n",
              "285 2020-03-27                3\n",
              "296 2020-03-28                2\n",
              "..         ...              ...\n",
              "273 2021-01-10                6\n",
              "272 2021-01-11                7\n",
              "282 2021-01-12                3\n",
              "281 2021-01-13                7\n",
              "277 2021-01-15                2\n",
              "\n",
              "[297 rows x 2 columns]"
            ]
          },
          "metadata": {
            "tags": []
          },
          "execution_count": 32
        }
      ]
    },
    {
      "cell_type": "code",
      "metadata": {
        "colab": {
          "base_uri": "https://localhost:8080/",
          "height": 416
        },
        "id": "3CKAn0oYCSW-",
        "outputId": "2ebf1841-16fc-4c09-ac2d-6f9b80e355c8"
      },
      "source": [
        "df_gr_obito = (pd.to_datetime(df_obitos['dataObito'])\r\n",
        "       .dt.floor('d')\r\n",
        "       .value_counts()\r\n",
        "       .rename_axis('data_obito')\r\n",
        "       .reset_index(name='total_obito_dia'))\r\n",
        "\r\n",
        "df_gr_obito.sort_values('data_obito')"
      ],
      "execution_count": 33,
      "outputs": [
        {
          "output_type": "execute_result",
          "data": {
            "text/html": [
              "<div>\n",
              "<style scoped>\n",
              "    .dataframe tbody tr th:only-of-type {\n",
              "        vertical-align: middle;\n",
              "    }\n",
              "\n",
              "    .dataframe tbody tr th {\n",
              "        vertical-align: top;\n",
              "    }\n",
              "\n",
              "    .dataframe thead th {\n",
              "        text-align: right;\n",
              "    }\n",
              "</style>\n",
              "<table border=\"1\" class=\"dataframe\">\n",
              "  <thead>\n",
              "    <tr style=\"text-align: right;\">\n",
              "      <th></th>\n",
              "      <th>data_obito</th>\n",
              "      <th>total_obito_dia</th>\n",
              "    </tr>\n",
              "  </thead>\n",
              "  <tbody>\n",
              "    <tr>\n",
              "      <th>288</th>\n",
              "      <td>2020-03-24</td>\n",
              "      <td>4</td>\n",
              "    </tr>\n",
              "    <tr>\n",
              "      <th>295</th>\n",
              "      <td>2020-03-25</td>\n",
              "      <td>2</td>\n",
              "    </tr>\n",
              "    <tr>\n",
              "      <th>285</th>\n",
              "      <td>2020-03-26</td>\n",
              "      <td>4</td>\n",
              "    </tr>\n",
              "    <tr>\n",
              "      <th>292</th>\n",
              "      <td>2020-03-27</td>\n",
              "      <td>3</td>\n",
              "    </tr>\n",
              "    <tr>\n",
              "      <th>293</th>\n",
              "      <td>2020-03-28</td>\n",
              "      <td>2</td>\n",
              "    </tr>\n",
              "    <tr>\n",
              "      <th>...</th>\n",
              "      <td>...</td>\n",
              "      <td>...</td>\n",
              "    </tr>\n",
              "    <tr>\n",
              "      <th>276</th>\n",
              "      <td>2021-01-10</td>\n",
              "      <td>6</td>\n",
              "    </tr>\n",
              "    <tr>\n",
              "      <th>271</th>\n",
              "      <td>2021-01-11</td>\n",
              "      <td>7</td>\n",
              "    </tr>\n",
              "    <tr>\n",
              "      <th>291</th>\n",
              "      <td>2021-01-12</td>\n",
              "      <td>3</td>\n",
              "    </tr>\n",
              "    <tr>\n",
              "      <th>266</th>\n",
              "      <td>2021-01-13</td>\n",
              "      <td>7</td>\n",
              "    </tr>\n",
              "    <tr>\n",
              "      <th>296</th>\n",
              "      <td>2021-01-15</td>\n",
              "      <td>2</td>\n",
              "    </tr>\n",
              "  </tbody>\n",
              "</table>\n",
              "<p>297 rows × 2 columns</p>\n",
              "</div>"
            ],
            "text/plain": [
              "    data_obito  total_obito_dia\n",
              "288 2020-03-24                4\n",
              "295 2020-03-25                2\n",
              "285 2020-03-26                4\n",
              "292 2020-03-27                3\n",
              "293 2020-03-28                2\n",
              "..         ...              ...\n",
              "276 2021-01-10                6\n",
              "271 2021-01-11                7\n",
              "291 2021-01-12                3\n",
              "266 2021-01-13                7\n",
              "296 2021-01-15                2\n",
              "\n",
              "[297 rows x 2 columns]"
            ]
          },
          "metadata": {
            "tags": []
          },
          "execution_count": 33
        }
      ]
    },
    {
      "cell_type": "code",
      "metadata": {
        "id": "Gng360Q8Cxhl"
      },
      "source": [
        "#df_gr_obito['MA7'] = df_gr_obito.rolling(window=7)['total_obito_dia'].mean()\r\n"
      ],
      "execution_count": 34,
      "outputs": []
    },
    {
      "cell_type": "code",
      "metadata": {
        "id": "67K5e32hMxUI"
      },
      "source": [
        "df_gr_obito['MA7'] = df_gr_obito.iloc[:,1].rolling(window=3).mean()"
      ],
      "execution_count": 95,
      "outputs": []
    },
    {
      "cell_type": "code",
      "metadata": {
        "colab": {
          "base_uri": "https://localhost:8080/",
          "height": 416
        },
        "id": "ph1BddYhOVFo",
        "outputId": "073ca258-4133-407b-961e-974114c0b77e"
      },
      "source": [
        "df_gr_obito"
      ],
      "execution_count": 96,
      "outputs": [
        {
          "output_type": "execute_result",
          "data": {
            "text/html": [
              "<div>\n",
              "<style scoped>\n",
              "    .dataframe tbody tr th:only-of-type {\n",
              "        vertical-align: middle;\n",
              "    }\n",
              "\n",
              "    .dataframe tbody tr th {\n",
              "        vertical-align: top;\n",
              "    }\n",
              "\n",
              "    .dataframe thead th {\n",
              "        text-align: right;\n",
              "    }\n",
              "</style>\n",
              "<table border=\"1\" class=\"dataframe\">\n",
              "  <thead>\n",
              "    <tr style=\"text-align: right;\">\n",
              "      <th></th>\n",
              "      <th>data_obito</th>\n",
              "      <th>total_obito_dia</th>\n",
              "      <th>MA7</th>\n",
              "      <th>MA30</th>\n",
              "      <th>total_obito_acumulado</th>\n",
              "    </tr>\n",
              "  </thead>\n",
              "  <tbody>\n",
              "    <tr>\n",
              "      <th>288</th>\n",
              "      <td>2020-03-24</td>\n",
              "      <td>4</td>\n",
              "      <td>NaN</td>\n",
              "      <td>6.300000</td>\n",
              "      <td>4</td>\n",
              "    </tr>\n",
              "    <tr>\n",
              "      <th>295</th>\n",
              "      <td>2020-03-25</td>\n",
              "      <td>2</td>\n",
              "      <td>NaN</td>\n",
              "      <td>5.166667</td>\n",
              "      <td>6</td>\n",
              "    </tr>\n",
              "    <tr>\n",
              "      <th>285</th>\n",
              "      <td>2020-03-26</td>\n",
              "      <td>4</td>\n",
              "      <td>3.333333</td>\n",
              "      <td>6.700000</td>\n",
              "      <td>10</td>\n",
              "    </tr>\n",
              "    <tr>\n",
              "      <th>292</th>\n",
              "      <td>2020-03-27</td>\n",
              "      <td>3</td>\n",
              "      <td>3.000000</td>\n",
              "      <td>5.700000</td>\n",
              "      <td>13</td>\n",
              "    </tr>\n",
              "    <tr>\n",
              "      <th>293</th>\n",
              "      <td>2020-03-28</td>\n",
              "      <td>2</td>\n",
              "      <td>3.000000</td>\n",
              "      <td>5.500000</td>\n",
              "      <td>15</td>\n",
              "    </tr>\n",
              "    <tr>\n",
              "      <th>...</th>\n",
              "      <td>...</td>\n",
              "      <td>...</td>\n",
              "      <td>...</td>\n",
              "      <td>...</td>\n",
              "      <td>...</td>\n",
              "    </tr>\n",
              "    <tr>\n",
              "      <th>276</th>\n",
              "      <td>2021-01-10</td>\n",
              "      <td>6</td>\n",
              "      <td>9.333333</td>\n",
              "      <td>7.800000</td>\n",
              "      <td>11888</td>\n",
              "    </tr>\n",
              "    <tr>\n",
              "      <th>271</th>\n",
              "      <td>2021-01-11</td>\n",
              "      <td>7</td>\n",
              "      <td>7.333333</td>\n",
              "      <td>8.400000</td>\n",
              "      <td>11895</td>\n",
              "    </tr>\n",
              "    <tr>\n",
              "      <th>291</th>\n",
              "      <td>2021-01-12</td>\n",
              "      <td>3</td>\n",
              "      <td>5.333333</td>\n",
              "      <td>5.866667</td>\n",
              "      <td>11898</td>\n",
              "    </tr>\n",
              "    <tr>\n",
              "      <th>266</th>\n",
              "      <td>2021-01-13</td>\n",
              "      <td>7</td>\n",
              "      <td>5.666667</td>\n",
              "      <td>8.900000</td>\n",
              "      <td>11905</td>\n",
              "    </tr>\n",
              "    <tr>\n",
              "      <th>296</th>\n",
              "      <td>2021-01-15</td>\n",
              "      <td>2</td>\n",
              "      <td>4.000000</td>\n",
              "      <td>5.000000</td>\n",
              "      <td>11907</td>\n",
              "    </tr>\n",
              "  </tbody>\n",
              "</table>\n",
              "<p>297 rows × 5 columns</p>\n",
              "</div>"
            ],
            "text/plain": [
              "    data_obito  total_obito_dia       MA7      MA30  total_obito_acumulado\n",
              "288 2020-03-24                4       NaN  6.300000                      4\n",
              "295 2020-03-25                2       NaN  5.166667                      6\n",
              "285 2020-03-26                4  3.333333  6.700000                     10\n",
              "292 2020-03-27                3  3.000000  5.700000                     13\n",
              "293 2020-03-28                2  3.000000  5.500000                     15\n",
              "..         ...              ...       ...       ...                    ...\n",
              "276 2021-01-10                6  9.333333  7.800000                  11888\n",
              "271 2021-01-11                7  7.333333  8.400000                  11895\n",
              "291 2021-01-12                3  5.333333  5.866667                  11898\n",
              "266 2021-01-13                7  5.666667  8.900000                  11905\n",
              "296 2021-01-15                2  4.000000  5.000000                  11907\n",
              "\n",
              "[297 rows x 5 columns]"
            ]
          },
          "metadata": {
            "tags": []
          },
          "execution_count": 96
        }
      ]
    },
    {
      "cell_type": "code",
      "metadata": {
        "colab": {
          "base_uri": "https://localhost:8080/",
          "height": 416
        },
        "id": "AGHgjHlNO8Uh",
        "outputId": "c3cd0e08-f30e-4ce6-b540-55f9e159df0d"
      },
      "source": [
        "df_gr_obito.sort_values('data_obito', inplace= True)\r\n",
        "df_gr_obito"
      ],
      "execution_count": 104,
      "outputs": [
        {
          "output_type": "execute_result",
          "data": {
            "text/html": [
              "<div>\n",
              "<style scoped>\n",
              "    .dataframe tbody tr th:only-of-type {\n",
              "        vertical-align: middle;\n",
              "    }\n",
              "\n",
              "    .dataframe tbody tr th {\n",
              "        vertical-align: top;\n",
              "    }\n",
              "\n",
              "    .dataframe thead th {\n",
              "        text-align: right;\n",
              "    }\n",
              "</style>\n",
              "<table border=\"1\" class=\"dataframe\">\n",
              "  <thead>\n",
              "    <tr style=\"text-align: right;\">\n",
              "      <th></th>\n",
              "      <th>data_obito</th>\n",
              "      <th>total_obito_dia</th>\n",
              "      <th>MA7</th>\n",
              "      <th>MA30</th>\n",
              "      <th>total_obito_acumulado</th>\n",
              "    </tr>\n",
              "  </thead>\n",
              "  <tbody>\n",
              "    <tr>\n",
              "      <th>288</th>\n",
              "      <td>2020-03-24</td>\n",
              "      <td>4</td>\n",
              "      <td>NaN</td>\n",
              "      <td>NaN</td>\n",
              "      <td>4</td>\n",
              "    </tr>\n",
              "    <tr>\n",
              "      <th>295</th>\n",
              "      <td>2020-03-25</td>\n",
              "      <td>2</td>\n",
              "      <td>NaN</td>\n",
              "      <td>NaN</td>\n",
              "      <td>6</td>\n",
              "    </tr>\n",
              "    <tr>\n",
              "      <th>285</th>\n",
              "      <td>2020-03-26</td>\n",
              "      <td>4</td>\n",
              "      <td>3.333333</td>\n",
              "      <td>NaN</td>\n",
              "      <td>10</td>\n",
              "    </tr>\n",
              "    <tr>\n",
              "      <th>292</th>\n",
              "      <td>2020-03-27</td>\n",
              "      <td>3</td>\n",
              "      <td>3.000000</td>\n",
              "      <td>NaN</td>\n",
              "      <td>13</td>\n",
              "    </tr>\n",
              "    <tr>\n",
              "      <th>293</th>\n",
              "      <td>2020-03-28</td>\n",
              "      <td>2</td>\n",
              "      <td>3.000000</td>\n",
              "      <td>3.111111</td>\n",
              "      <td>15</td>\n",
              "    </tr>\n",
              "    <tr>\n",
              "      <th>...</th>\n",
              "      <td>...</td>\n",
              "      <td>...</td>\n",
              "      <td>...</td>\n",
              "      <td>...</td>\n",
              "      <td>...</td>\n",
              "    </tr>\n",
              "    <tr>\n",
              "      <th>276</th>\n",
              "      <td>2021-01-10</td>\n",
              "      <td>6</td>\n",
              "      <td>9.333333</td>\n",
              "      <td>8.777778</td>\n",
              "      <td>11888</td>\n",
              "    </tr>\n",
              "    <tr>\n",
              "      <th>271</th>\n",
              "      <td>2021-01-11</td>\n",
              "      <td>7</td>\n",
              "      <td>7.333333</td>\n",
              "      <td>8.555556</td>\n",
              "      <td>11895</td>\n",
              "    </tr>\n",
              "    <tr>\n",
              "      <th>291</th>\n",
              "      <td>2021-01-12</td>\n",
              "      <td>3</td>\n",
              "      <td>5.333333</td>\n",
              "      <td>7.333333</td>\n",
              "      <td>11898</td>\n",
              "    </tr>\n",
              "    <tr>\n",
              "      <th>266</th>\n",
              "      <td>2021-01-13</td>\n",
              "      <td>7</td>\n",
              "      <td>5.666667</td>\n",
              "      <td>6.111111</td>\n",
              "      <td>11905</td>\n",
              "    </tr>\n",
              "    <tr>\n",
              "      <th>296</th>\n",
              "      <td>2021-01-15</td>\n",
              "      <td>2</td>\n",
              "      <td>4.000000</td>\n",
              "      <td>5.000000</td>\n",
              "      <td>11907</td>\n",
              "    </tr>\n",
              "  </tbody>\n",
              "</table>\n",
              "<p>297 rows × 5 columns</p>\n",
              "</div>"
            ],
            "text/plain": [
              "    data_obito  total_obito_dia       MA7      MA30  total_obito_acumulado\n",
              "288 2020-03-24                4       NaN       NaN                      4\n",
              "295 2020-03-25                2       NaN       NaN                      6\n",
              "285 2020-03-26                4  3.333333       NaN                     10\n",
              "292 2020-03-27                3  3.000000       NaN                     13\n",
              "293 2020-03-28                2  3.000000  3.111111                     15\n",
              "..         ...              ...       ...       ...                    ...\n",
              "276 2021-01-10                6  9.333333  8.777778                  11888\n",
              "271 2021-01-11                7  7.333333  8.555556                  11895\n",
              "291 2021-01-12                3  5.333333  7.333333                  11898\n",
              "266 2021-01-13                7  5.666667  6.111111                  11905\n",
              "296 2021-01-15                2  4.000000  5.000000                  11907\n",
              "\n",
              "[297 rows x 5 columns]"
            ]
          },
          "metadata": {
            "tags": []
          },
          "execution_count": 104
        }
      ]
    },
    {
      "cell_type": "code",
      "metadata": {
        "id": "BEyEbAmEc_vx"
      },
      "source": [
        "df_gr_obito['MA30'] = df_gr_obito.iloc[:,2].rolling(window=30).mean()"
      ],
      "execution_count": 105,
      "outputs": []
    },
    {
      "cell_type": "code",
      "metadata": {
        "colab": {
          "base_uri": "https://localhost:8080/",
          "height": 416
        },
        "id": "AQtfOfnNOiTF",
        "outputId": "5a97d604-8f7f-4be3-e142-a621f20d89d0"
      },
      "source": [
        "df_gr_obito.sort_values('data_obito', inplace= True)\r\n",
        "df_gr_obito"
      ],
      "execution_count": 106,
      "outputs": [
        {
          "output_type": "execute_result",
          "data": {
            "text/html": [
              "<div>\n",
              "<style scoped>\n",
              "    .dataframe tbody tr th:only-of-type {\n",
              "        vertical-align: middle;\n",
              "    }\n",
              "\n",
              "    .dataframe tbody tr th {\n",
              "        vertical-align: top;\n",
              "    }\n",
              "\n",
              "    .dataframe thead th {\n",
              "        text-align: right;\n",
              "    }\n",
              "</style>\n",
              "<table border=\"1\" class=\"dataframe\">\n",
              "  <thead>\n",
              "    <tr style=\"text-align: right;\">\n",
              "      <th></th>\n",
              "      <th>data_obito</th>\n",
              "      <th>total_obito_dia</th>\n",
              "      <th>MA7</th>\n",
              "      <th>MA30</th>\n",
              "      <th>total_obito_acumulado</th>\n",
              "    </tr>\n",
              "  </thead>\n",
              "  <tbody>\n",
              "    <tr>\n",
              "      <th>288</th>\n",
              "      <td>2020-03-24</td>\n",
              "      <td>4</td>\n",
              "      <td>NaN</td>\n",
              "      <td>NaN</td>\n",
              "      <td>4</td>\n",
              "    </tr>\n",
              "    <tr>\n",
              "      <th>295</th>\n",
              "      <td>2020-03-25</td>\n",
              "      <td>2</td>\n",
              "      <td>NaN</td>\n",
              "      <td>NaN</td>\n",
              "      <td>6</td>\n",
              "    </tr>\n",
              "    <tr>\n",
              "      <th>285</th>\n",
              "      <td>2020-03-26</td>\n",
              "      <td>4</td>\n",
              "      <td>3.333333</td>\n",
              "      <td>NaN</td>\n",
              "      <td>10</td>\n",
              "    </tr>\n",
              "    <tr>\n",
              "      <th>292</th>\n",
              "      <td>2020-03-27</td>\n",
              "      <td>3</td>\n",
              "      <td>3.000000</td>\n",
              "      <td>NaN</td>\n",
              "      <td>13</td>\n",
              "    </tr>\n",
              "    <tr>\n",
              "      <th>293</th>\n",
              "      <td>2020-03-28</td>\n",
              "      <td>2</td>\n",
              "      <td>3.000000</td>\n",
              "      <td>NaN</td>\n",
              "      <td>15</td>\n",
              "    </tr>\n",
              "    <tr>\n",
              "      <th>...</th>\n",
              "      <td>...</td>\n",
              "      <td>...</td>\n",
              "      <td>...</td>\n",
              "      <td>...</td>\n",
              "      <td>...</td>\n",
              "    </tr>\n",
              "    <tr>\n",
              "      <th>276</th>\n",
              "      <td>2021-01-10</td>\n",
              "      <td>6</td>\n",
              "      <td>9.333333</td>\n",
              "      <td>10.977778</td>\n",
              "      <td>11888</td>\n",
              "    </tr>\n",
              "    <tr>\n",
              "      <th>271</th>\n",
              "      <td>2021-01-11</td>\n",
              "      <td>7</td>\n",
              "      <td>7.333333</td>\n",
              "      <td>10.722222</td>\n",
              "      <td>11895</td>\n",
              "    </tr>\n",
              "    <tr>\n",
              "      <th>291</th>\n",
              "      <td>2021-01-12</td>\n",
              "      <td>3</td>\n",
              "      <td>5.333333</td>\n",
              "      <td>10.344444</td>\n",
              "      <td>11898</td>\n",
              "    </tr>\n",
              "    <tr>\n",
              "      <th>266</th>\n",
              "      <td>2021-01-13</td>\n",
              "      <td>7</td>\n",
              "      <td>5.666667</td>\n",
              "      <td>10.011111</td>\n",
              "      <td>11905</td>\n",
              "    </tr>\n",
              "    <tr>\n",
              "      <th>296</th>\n",
              "      <td>2021-01-15</td>\n",
              "      <td>2</td>\n",
              "      <td>4.000000</td>\n",
              "      <td>9.677778</td>\n",
              "      <td>11907</td>\n",
              "    </tr>\n",
              "  </tbody>\n",
              "</table>\n",
              "<p>297 rows × 5 columns</p>\n",
              "</div>"
            ],
            "text/plain": [
              "    data_obito  total_obito_dia       MA7       MA30  total_obito_acumulado\n",
              "288 2020-03-24                4       NaN        NaN                      4\n",
              "295 2020-03-25                2       NaN        NaN                      6\n",
              "285 2020-03-26                4  3.333333        NaN                     10\n",
              "292 2020-03-27                3  3.000000        NaN                     13\n",
              "293 2020-03-28                2  3.000000        NaN                     15\n",
              "..         ...              ...       ...        ...                    ...\n",
              "276 2021-01-10                6  9.333333  10.977778                  11888\n",
              "271 2021-01-11                7  7.333333  10.722222                  11895\n",
              "291 2021-01-12                3  5.333333  10.344444                  11898\n",
              "266 2021-01-13                7  5.666667  10.011111                  11905\n",
              "296 2021-01-15                2  4.000000   9.677778                  11907\n",
              "\n",
              "[297 rows x 5 columns]"
            ]
          },
          "metadata": {
            "tags": []
          },
          "execution_count": 106
        }
      ]
    },
    {
      "cell_type": "code",
      "metadata": {
        "id": "_bZ6Pje6258e",
        "colab": {
          "base_uri": "https://localhost:8080/",
          "height": 542
        },
        "outputId": "a48e4deb-c16f-403f-d6ca-a86ab3aba1c9"
      },
      "source": [
        "from plotly.subplots import make_subplots\r\n",
        "# Plot \r\n",
        "fig = make_subplots(specs=[[{\"secondary_y\": True}]])\r\n",
        "\r\n",
        "fig = px.bar(df_gr_obito, x='data_obito', y='total_obito_dia',)\r\n",
        "\r\n",
        "# Only thing I figured is - I could do this \r\n",
        "#fig.add_scatter(x=df_gr_conf['data_result_exame'], y= df_gr_conf['MA'])\r\n",
        "\r\n",
        "# Show plot \r\n",
        "\r\n",
        "fig.add_trace(go.Scatter(x= df_gr_obito['data_obito'], y= df_gr_obito['MA7'], name='Média Móvel de óbitos de uma semana',\r\n",
        "                        line=dict(color='red',width=2)))\r\n",
        "\r\n",
        "fig.add_trace(go.Scatter(x= df_gr_obito['data_obito'], y= df_gr_obito['MA30'], name='Média Móvel de um mês',\r\n",
        "                        line=dict(color='orange',width=2)))\r\n",
        "\r\n",
        "fig.update_layout(title='Quantidade de óbitos confirmados no período',\r\n",
        "                   xaxis_title='Mês',\r\n",
        "                   yaxis_title='Quantidade de óbitos / dia')\r\n",
        "fig.show()"
      ],
      "execution_count": 107,
      "outputs": [
        {
          "output_type": "display_data",
          "data": {
            "text/html": [
              "<html>\n",
              "<head><meta charset=\"utf-8\" /></head>\n",
              "<body>\n",
              "    <div>\n",
              "            <script src=\"https://cdnjs.cloudflare.com/ajax/libs/mathjax/2.7.5/MathJax.js?config=TeX-AMS-MML_SVG\"></script><script type=\"text/javascript\">if (window.MathJax) {MathJax.Hub.Config({SVG: {font: \"STIX-Web\"}});}</script>\n",
              "                <script type=\"text/javascript\">window.PlotlyConfig = {MathJaxConfig: 'local'};</script>\n",
              "        <script src=\"https://cdn.plot.ly/plotly-latest.min.js\"></script>    \n",
              "            <div id=\"74a08b83-8a6f-4de0-a975-402a8e47d36f\" class=\"plotly-graph-div\" style=\"height:525px; width:100%;\"></div>\n",
              "            <script type=\"text/javascript\">\n",
              "                \n",
              "                    window.PLOTLYENV=window.PLOTLYENV || {};\n",
              "                    \n",
              "                if (document.getElementById(\"74a08b83-8a6f-4de0-a975-402a8e47d36f\")) {\n",
              "                    Plotly.newPlot(\n",
              "                        '74a08b83-8a6f-4de0-a975-402a8e47d36f',\n",
              "                        [{\"alignmentgroup\": \"True\", \"hoverlabel\": {\"namelength\": 0}, \"hovertemplate\": \"data_obito=%{x}<br>total_obito_dia=%{y}\", \"legendgroup\": \"\", \"marker\": {\"color\": \"#636efa\"}, \"name\": \"\", \"offsetgroup\": \"\", \"orientation\": \"v\", \"showlegend\": false, \"textposition\": \"auto\", \"type\": \"bar\", \"x\": [\"2020-03-24T00:00:00\", \"2020-03-25T00:00:00\", \"2020-03-26T00:00:00\", \"2020-03-27T00:00:00\", \"2020-03-28T00:00:00\", \"2020-03-29T00:00:00\", \"2020-03-30T00:00:00\", \"2020-03-31T00:00:00\", \"2020-04-01T00:00:00\", \"2020-04-02T00:00:00\", \"2020-04-03T00:00:00\", \"2020-04-04T00:00:00\", \"2020-04-05T00:00:00\", \"2020-04-06T00:00:00\", \"2020-04-07T00:00:00\", \"2020-04-08T00:00:00\", \"2020-04-09T00:00:00\", \"2020-04-10T00:00:00\", \"2020-04-11T00:00:00\", \"2020-04-12T00:00:00\", \"2020-04-13T00:00:00\", \"2020-04-14T00:00:00\", \"2020-04-15T00:00:00\", \"2020-04-16T00:00:00\", \"2020-04-17T00:00:00\", \"2020-04-18T00:00:00\", \"2020-04-19T00:00:00\", \"2020-04-20T00:00:00\", \"2020-04-21T00:00:00\", \"2020-04-22T00:00:00\", \"2020-04-23T00:00:00\", \"2020-04-24T00:00:00\", \"2020-04-25T00:00:00\", \"2020-04-26T00:00:00\", \"2020-04-27T00:00:00\", \"2020-04-28T00:00:00\", \"2020-04-29T00:00:00\", \"2020-04-30T00:00:00\", \"2020-05-01T00:00:00\", \"2020-05-02T00:00:00\", \"2020-05-03T00:00:00\", \"2020-05-04T00:00:00\", \"2020-05-05T00:00:00\", \"2020-05-06T00:00:00\", \"2020-05-07T00:00:00\", \"2020-05-08T00:00:00\", \"2020-05-09T00:00:00\", \"2020-05-10T00:00:00\", \"2020-05-11T00:00:00\", \"2020-05-12T00:00:00\", \"2020-05-13T00:00:00\", \"2020-05-14T00:00:00\", \"2020-05-15T00:00:00\", \"2020-05-16T00:00:00\", \"2020-05-17T00:00:00\", \"2020-05-18T00:00:00\", \"2020-05-19T00:00:00\", \"2020-05-20T00:00:00\", \"2020-05-21T00:00:00\", \"2020-05-22T00:00:00\", \"2020-05-23T00:00:00\", \"2020-05-24T00:00:00\", \"2020-05-25T00:00:00\", \"2020-05-26T00:00:00\", \"2020-05-27T00:00:00\", \"2020-05-28T00:00:00\", \"2020-05-29T00:00:00\", \"2020-05-30T00:00:00\", \"2020-05-31T00:00:00\", \"2020-06-01T00:00:00\", \"2020-06-02T00:00:00\", \"2020-06-03T00:00:00\", \"2020-06-04T00:00:00\", \"2020-06-05T00:00:00\", \"2020-06-06T00:00:00\", \"2020-06-07T00:00:00\", \"2020-06-08T00:00:00\", \"2020-06-09T00:00:00\", \"2020-06-10T00:00:00\", \"2020-06-11T00:00:00\", \"2020-06-12T00:00:00\", \"2020-06-13T00:00:00\", \"2020-06-14T00:00:00\", \"2020-06-15T00:00:00\", \"2020-06-16T00:00:00\", \"2020-06-17T00:00:00\", \"2020-06-18T00:00:00\", \"2020-06-19T00:00:00\", \"2020-06-20T00:00:00\", \"2020-06-21T00:00:00\", \"2020-06-22T00:00:00\", \"2020-06-23T00:00:00\", \"2020-06-24T00:00:00\", \"2020-06-25T00:00:00\", \"2020-06-26T00:00:00\", \"2020-06-27T00:00:00\", \"2020-06-28T00:00:00\", \"2020-06-29T00:00:00\", \"2020-06-30T00:00:00\", \"2020-07-01T00:00:00\", \"2020-07-02T00:00:00\", \"2020-07-03T00:00:00\", \"2020-07-04T00:00:00\", \"2020-07-05T00:00:00\", \"2020-07-06T00:00:00\", \"2020-07-07T00:00:00\", \"2020-07-08T00:00:00\", \"2020-07-09T00:00:00\", \"2020-07-10T00:00:00\", \"2020-07-11T00:00:00\", \"2020-07-12T00:00:00\", \"2020-07-13T00:00:00\", \"2020-07-14T00:00:00\", \"2020-07-15T00:00:00\", \"2020-07-16T00:00:00\", \"2020-07-17T00:00:00\", \"2020-07-18T00:00:00\", \"2020-07-19T00:00:00\", \"2020-07-20T00:00:00\", \"2020-07-21T00:00:00\", \"2020-07-22T00:00:00\", \"2020-07-23T00:00:00\", \"2020-07-24T00:00:00\", \"2020-07-25T00:00:00\", \"2020-07-26T00:00:00\", \"2020-07-27T00:00:00\", \"2020-07-28T00:00:00\", \"2020-07-29T00:00:00\", \"2020-07-30T00:00:00\", \"2020-07-31T00:00:00\", \"2020-08-01T00:00:00\", \"2020-08-02T00:00:00\", \"2020-08-03T00:00:00\", \"2020-08-04T00:00:00\", \"2020-08-05T00:00:00\", \"2020-08-06T00:00:00\", \"2020-08-07T00:00:00\", \"2020-08-08T00:00:00\", \"2020-08-09T00:00:00\", \"2020-08-10T00:00:00\", \"2020-08-11T00:00:00\", \"2020-08-12T00:00:00\", \"2020-08-13T00:00:00\", \"2020-08-14T00:00:00\", \"2020-08-15T00:00:00\", \"2020-08-16T00:00:00\", \"2020-08-17T00:00:00\", \"2020-08-18T00:00:00\", \"2020-08-19T00:00:00\", \"2020-08-20T00:00:00\", \"2020-08-21T00:00:00\", \"2020-08-22T00:00:00\", \"2020-08-23T00:00:00\", \"2020-08-24T00:00:00\", \"2020-08-25T00:00:00\", \"2020-08-26T00:00:00\", \"2020-08-27T00:00:00\", \"2020-08-28T00:00:00\", \"2020-08-29T00:00:00\", \"2020-08-30T00:00:00\", \"2020-08-31T00:00:00\", \"2020-09-01T00:00:00\", \"2020-09-02T00:00:00\", \"2020-09-03T00:00:00\", \"2020-09-04T00:00:00\", \"2020-09-05T00:00:00\", \"2020-09-06T00:00:00\", \"2020-09-07T00:00:00\", \"2020-09-08T00:00:00\", \"2020-09-09T00:00:00\", \"2020-09-10T00:00:00\", \"2020-09-11T00:00:00\", \"2020-09-12T00:00:00\", \"2020-09-13T00:00:00\", \"2020-09-14T00:00:00\", \"2020-09-15T00:00:00\", \"2020-09-16T00:00:00\", \"2020-09-17T00:00:00\", \"2020-09-18T00:00:00\", \"2020-09-19T00:00:00\", \"2020-09-20T00:00:00\", \"2020-09-21T00:00:00\", \"2020-09-22T00:00:00\", \"2020-09-23T00:00:00\", \"2020-09-24T00:00:00\", \"2020-09-25T00:00:00\", \"2020-09-26T00:00:00\", \"2020-09-27T00:00:00\", \"2020-09-28T00:00:00\", \"2020-09-29T00:00:00\", \"2020-09-30T00:00:00\", \"2020-10-01T00:00:00\", \"2020-10-02T00:00:00\", \"2020-10-03T00:00:00\", \"2020-10-04T00:00:00\", \"2020-10-05T00:00:00\", \"2020-10-06T00:00:00\", \"2020-10-07T00:00:00\", \"2020-10-08T00:00:00\", \"2020-10-09T00:00:00\", \"2020-10-10T00:00:00\", \"2020-10-11T00:00:00\", \"2020-10-12T00:00:00\", \"2020-10-13T00:00:00\", \"2020-10-14T00:00:00\", \"2020-10-15T00:00:00\", \"2020-10-16T00:00:00\", \"2020-10-17T00:00:00\", \"2020-10-18T00:00:00\", \"2020-10-19T00:00:00\", \"2020-10-20T00:00:00\", \"2020-10-21T00:00:00\", \"2020-10-22T00:00:00\", \"2020-10-23T00:00:00\", \"2020-10-24T00:00:00\", \"2020-10-25T00:00:00\", \"2020-10-26T00:00:00\", \"2020-10-27T00:00:00\", \"2020-10-28T00:00:00\", \"2020-10-29T00:00:00\", \"2020-10-30T00:00:00\", \"2020-10-31T00:00:00\", \"2020-11-01T00:00:00\", \"2020-11-02T00:00:00\", \"2020-11-03T00:00:00\", \"2020-11-04T00:00:00\", \"2020-11-05T00:00:00\", \"2020-11-06T00:00:00\", \"2020-11-07T00:00:00\", \"2020-11-08T00:00:00\", \"2020-11-09T00:00:00\", \"2020-11-10T00:00:00\", \"2020-11-11T00:00:00\", \"2020-11-12T00:00:00\", \"2020-11-13T00:00:00\", \"2020-11-14T00:00:00\", \"2020-11-15T00:00:00\", \"2020-11-16T00:00:00\", \"2020-11-17T00:00:00\", \"2020-11-18T00:00:00\", \"2020-11-19T00:00:00\", \"2020-11-20T00:00:00\", \"2020-11-21T00:00:00\", \"2020-11-22T00:00:00\", \"2020-11-23T00:00:00\", \"2020-11-24T00:00:00\", \"2020-11-25T00:00:00\", \"2020-11-26T00:00:00\", \"2020-11-27T00:00:00\", \"2020-11-28T00:00:00\", \"2020-11-29T00:00:00\", \"2020-11-30T00:00:00\", \"2020-12-01T00:00:00\", \"2020-12-02T00:00:00\", \"2020-12-03T00:00:00\", \"2020-12-04T00:00:00\", \"2020-12-05T00:00:00\", \"2020-12-06T00:00:00\", \"2020-12-07T00:00:00\", \"2020-12-08T00:00:00\", \"2020-12-09T00:00:00\", \"2020-12-10T00:00:00\", \"2020-12-11T00:00:00\", \"2020-12-12T00:00:00\", \"2020-12-13T00:00:00\", \"2020-12-14T00:00:00\", \"2020-12-15T00:00:00\", \"2020-12-16T00:00:00\", \"2020-12-17T00:00:00\", \"2020-12-18T00:00:00\", \"2020-12-19T00:00:00\", \"2020-12-20T00:00:00\", \"2020-12-21T00:00:00\", \"2020-12-22T00:00:00\", \"2020-12-23T00:00:00\", \"2020-12-24T00:00:00\", \"2020-12-25T00:00:00\", \"2020-12-26T00:00:00\", \"2020-12-27T00:00:00\", \"2020-12-28T00:00:00\", \"2020-12-29T00:00:00\", \"2020-12-30T00:00:00\", \"2020-12-31T00:00:00\", \"2021-01-01T00:00:00\", \"2021-01-02T00:00:00\", \"2021-01-03T00:00:00\", \"2021-01-04T00:00:00\", \"2021-01-05T00:00:00\", \"2021-01-06T00:00:00\", \"2021-01-07T00:00:00\", \"2021-01-08T00:00:00\", \"2021-01-09T00:00:00\", \"2021-01-10T00:00:00\", \"2021-01-11T00:00:00\", \"2021-01-12T00:00:00\", \"2021-01-13T00:00:00\", \"2021-01-15T00:00:00\"], \"xaxis\": \"x\", \"y\": [4, 2, 4, 3, 2, 6, 7, 2, 4, 16, 12, 7, 8, 14, 7, 12, 15, 16, 15, 19, 12, 24, 29, 21, 28, 24, 30, 37, 37, 31, 38, 58, 67, 63, 68, 67, 81, 108, 106, 123, 131, 117, 130, 123, 126, 148, 172, 144, 180, 168, 183, 153, 159, 145, 171, 171, 177, 172, 174, 153, 129, 113, 159, 111, 124, 134, 149, 92, 93, 112, 114, 70, 119, 91, 89, 83, 90, 114, 89, 80, 69, 81, 79, 83, 70, 81, 78, 63, 48, 53, 88, 61, 58, 71, 58, 65, 56, 66, 59, 57, 68, 46, 68, 57, 48, 60, 71, 58, 40, 53, 48, 47, 49, 43, 47, 51, 25, 49, 48, 49, 45, 36, 47, 56, 31, 35, 34, 40, 41, 38, 30, 38, 37, 28, 42, 30, 23, 39, 44, 34, 28, 33, 29, 24, 23, 23, 36, 32, 25, 23, 25, 23, 21, 17, 13, 17, 18, 21, 26, 29, 22, 16, 19, 18, 37, 16, 26, 32, 21, 16, 23, 26, 27, 20, 19, 20, 27, 18, 21, 18, 18, 19, 25, 25, 17, 19, 10, 29, 16, 22, 18, 12, 16, 10, 13, 23, 16, 10, 15, 9, 17, 8, 13, 13, 14, 11, 10, 8, 17, 13, 12, 7, 16, 13, 12, 19, 16, 11, 8, 12, 11, 7, 5, 11, 11, 4, 5, 6, 14, 10, 8, 12, 6, 16, 9, 6, 7, 10, 10, 4, 13, 11, 16, 15, 18, 10, 11, 14, 14, 7, 11, 10, 11, 17, 7, 9, 12, 17, 8, 8, 12, 11, 16, 18, 16, 13, 13, 10, 11, 14, 15, 13, 9, 9, 11, 6, 12, 10, 4, 9, 13, 6, 11, 13, 11, 9, 8, 19, 6, 5, 13, 9, 6, 7, 3, 7, 2], \"yaxis\": \"y\"}, {\"line\": {\"color\": \"red\", \"width\": 2}, \"name\": \"M\\u00e9dia M\\u00f3vel de \\u00f3bitos de uma semana\", \"type\": \"scatter\", \"x\": [\"2020-03-24T00:00:00\", \"2020-03-25T00:00:00\", \"2020-03-26T00:00:00\", \"2020-03-27T00:00:00\", \"2020-03-28T00:00:00\", \"2020-03-29T00:00:00\", \"2020-03-30T00:00:00\", \"2020-03-31T00:00:00\", \"2020-04-01T00:00:00\", \"2020-04-02T00:00:00\", \"2020-04-03T00:00:00\", \"2020-04-04T00:00:00\", \"2020-04-05T00:00:00\", \"2020-04-06T00:00:00\", \"2020-04-07T00:00:00\", \"2020-04-08T00:00:00\", \"2020-04-09T00:00:00\", \"2020-04-10T00:00:00\", \"2020-04-11T00:00:00\", \"2020-04-12T00:00:00\", \"2020-04-13T00:00:00\", \"2020-04-14T00:00:00\", \"2020-04-15T00:00:00\", \"2020-04-16T00:00:00\", \"2020-04-17T00:00:00\", \"2020-04-18T00:00:00\", \"2020-04-19T00:00:00\", \"2020-04-20T00:00:00\", \"2020-04-21T00:00:00\", \"2020-04-22T00:00:00\", \"2020-04-23T00:00:00\", \"2020-04-24T00:00:00\", \"2020-04-25T00:00:00\", \"2020-04-26T00:00:00\", \"2020-04-27T00:00:00\", \"2020-04-28T00:00:00\", \"2020-04-29T00:00:00\", \"2020-04-30T00:00:00\", \"2020-05-01T00:00:00\", \"2020-05-02T00:00:00\", \"2020-05-03T00:00:00\", \"2020-05-04T00:00:00\", \"2020-05-05T00:00:00\", \"2020-05-06T00:00:00\", \"2020-05-07T00:00:00\", \"2020-05-08T00:00:00\", \"2020-05-09T00:00:00\", \"2020-05-10T00:00:00\", \"2020-05-11T00:00:00\", \"2020-05-12T00:00:00\", \"2020-05-13T00:00:00\", \"2020-05-14T00:00:00\", \"2020-05-15T00:00:00\", \"2020-05-16T00:00:00\", \"2020-05-17T00:00:00\", \"2020-05-18T00:00:00\", \"2020-05-19T00:00:00\", \"2020-05-20T00:00:00\", \"2020-05-21T00:00:00\", \"2020-05-22T00:00:00\", \"2020-05-23T00:00:00\", \"2020-05-24T00:00:00\", \"2020-05-25T00:00:00\", \"2020-05-26T00:00:00\", \"2020-05-27T00:00:00\", \"2020-05-28T00:00:00\", \"2020-05-29T00:00:00\", \"2020-05-30T00:00:00\", \"2020-05-31T00:00:00\", \"2020-06-01T00:00:00\", \"2020-06-02T00:00:00\", \"2020-06-03T00:00:00\", \"2020-06-04T00:00:00\", \"2020-06-05T00:00:00\", \"2020-06-06T00:00:00\", \"2020-06-07T00:00:00\", \"2020-06-08T00:00:00\", \"2020-06-09T00:00:00\", \"2020-06-10T00:00:00\", \"2020-06-11T00:00:00\", \"2020-06-12T00:00:00\", \"2020-06-13T00:00:00\", \"2020-06-14T00:00:00\", \"2020-06-15T00:00:00\", \"2020-06-16T00:00:00\", \"2020-06-17T00:00:00\", \"2020-06-18T00:00:00\", \"2020-06-19T00:00:00\", \"2020-06-20T00:00:00\", \"2020-06-21T00:00:00\", \"2020-06-22T00:00:00\", \"2020-06-23T00:00:00\", \"2020-06-24T00:00:00\", \"2020-06-25T00:00:00\", \"2020-06-26T00:00:00\", \"2020-06-27T00:00:00\", \"2020-06-28T00:00:00\", \"2020-06-29T00:00:00\", \"2020-06-30T00:00:00\", \"2020-07-01T00:00:00\", \"2020-07-02T00:00:00\", \"2020-07-03T00:00:00\", \"2020-07-04T00:00:00\", \"2020-07-05T00:00:00\", \"2020-07-06T00:00:00\", \"2020-07-07T00:00:00\", \"2020-07-08T00:00:00\", \"2020-07-09T00:00:00\", \"2020-07-10T00:00:00\", \"2020-07-11T00:00:00\", \"2020-07-12T00:00:00\", \"2020-07-13T00:00:00\", \"2020-07-14T00:00:00\", \"2020-07-15T00:00:00\", \"2020-07-16T00:00:00\", \"2020-07-17T00:00:00\", \"2020-07-18T00:00:00\", \"2020-07-19T00:00:00\", \"2020-07-20T00:00:00\", \"2020-07-21T00:00:00\", \"2020-07-22T00:00:00\", \"2020-07-23T00:00:00\", \"2020-07-24T00:00:00\", \"2020-07-25T00:00:00\", \"2020-07-26T00:00:00\", \"2020-07-27T00:00:00\", \"2020-07-28T00:00:00\", \"2020-07-29T00:00:00\", \"2020-07-30T00:00:00\", \"2020-07-31T00:00:00\", \"2020-08-01T00:00:00\", \"2020-08-02T00:00:00\", \"2020-08-03T00:00:00\", \"2020-08-04T00:00:00\", \"2020-08-05T00:00:00\", \"2020-08-06T00:00:00\", \"2020-08-07T00:00:00\", \"2020-08-08T00:00:00\", \"2020-08-09T00:00:00\", \"2020-08-10T00:00:00\", \"2020-08-11T00:00:00\", \"2020-08-12T00:00:00\", \"2020-08-13T00:00:00\", \"2020-08-14T00:00:00\", \"2020-08-15T00:00:00\", \"2020-08-16T00:00:00\", \"2020-08-17T00:00:00\", \"2020-08-18T00:00:00\", \"2020-08-19T00:00:00\", \"2020-08-20T00:00:00\", \"2020-08-21T00:00:00\", \"2020-08-22T00:00:00\", \"2020-08-23T00:00:00\", \"2020-08-24T00:00:00\", \"2020-08-25T00:00:00\", \"2020-08-26T00:00:00\", \"2020-08-27T00:00:00\", \"2020-08-28T00:00:00\", \"2020-08-29T00:00:00\", \"2020-08-30T00:00:00\", \"2020-08-31T00:00:00\", \"2020-09-01T00:00:00\", \"2020-09-02T00:00:00\", \"2020-09-03T00:00:00\", \"2020-09-04T00:00:00\", \"2020-09-05T00:00:00\", \"2020-09-06T00:00:00\", \"2020-09-07T00:00:00\", \"2020-09-08T00:00:00\", \"2020-09-09T00:00:00\", \"2020-09-10T00:00:00\", \"2020-09-11T00:00:00\", \"2020-09-12T00:00:00\", \"2020-09-13T00:00:00\", \"2020-09-14T00:00:00\", \"2020-09-15T00:00:00\", \"2020-09-16T00:00:00\", \"2020-09-17T00:00:00\", \"2020-09-18T00:00:00\", \"2020-09-19T00:00:00\", \"2020-09-20T00:00:00\", \"2020-09-21T00:00:00\", \"2020-09-22T00:00:00\", \"2020-09-23T00:00:00\", \"2020-09-24T00:00:00\", \"2020-09-25T00:00:00\", \"2020-09-26T00:00:00\", \"2020-09-27T00:00:00\", \"2020-09-28T00:00:00\", \"2020-09-29T00:00:00\", \"2020-09-30T00:00:00\", \"2020-10-01T00:00:00\", \"2020-10-02T00:00:00\", \"2020-10-03T00:00:00\", \"2020-10-04T00:00:00\", \"2020-10-05T00:00:00\", \"2020-10-06T00:00:00\", \"2020-10-07T00:00:00\", \"2020-10-08T00:00:00\", \"2020-10-09T00:00:00\", \"2020-10-10T00:00:00\", \"2020-10-11T00:00:00\", \"2020-10-12T00:00:00\", \"2020-10-13T00:00:00\", \"2020-10-14T00:00:00\", \"2020-10-15T00:00:00\", \"2020-10-16T00:00:00\", \"2020-10-17T00:00:00\", \"2020-10-18T00:00:00\", \"2020-10-19T00:00:00\", \"2020-10-20T00:00:00\", \"2020-10-21T00:00:00\", \"2020-10-22T00:00:00\", \"2020-10-23T00:00:00\", \"2020-10-24T00:00:00\", \"2020-10-25T00:00:00\", \"2020-10-26T00:00:00\", \"2020-10-27T00:00:00\", \"2020-10-28T00:00:00\", \"2020-10-29T00:00:00\", \"2020-10-30T00:00:00\", \"2020-10-31T00:00:00\", \"2020-11-01T00:00:00\", \"2020-11-02T00:00:00\", \"2020-11-03T00:00:00\", \"2020-11-04T00:00:00\", \"2020-11-05T00:00:00\", \"2020-11-06T00:00:00\", \"2020-11-07T00:00:00\", \"2020-11-08T00:00:00\", \"2020-11-09T00:00:00\", \"2020-11-10T00:00:00\", \"2020-11-11T00:00:00\", \"2020-11-12T00:00:00\", \"2020-11-13T00:00:00\", \"2020-11-14T00:00:00\", \"2020-11-15T00:00:00\", \"2020-11-16T00:00:00\", \"2020-11-17T00:00:00\", \"2020-11-18T00:00:00\", \"2020-11-19T00:00:00\", \"2020-11-20T00:00:00\", \"2020-11-21T00:00:00\", \"2020-11-22T00:00:00\", \"2020-11-23T00:00:00\", \"2020-11-24T00:00:00\", \"2020-11-25T00:00:00\", \"2020-11-26T00:00:00\", \"2020-11-27T00:00:00\", \"2020-11-28T00:00:00\", \"2020-11-29T00:00:00\", \"2020-11-30T00:00:00\", \"2020-12-01T00:00:00\", \"2020-12-02T00:00:00\", \"2020-12-03T00:00:00\", \"2020-12-04T00:00:00\", \"2020-12-05T00:00:00\", \"2020-12-06T00:00:00\", \"2020-12-07T00:00:00\", \"2020-12-08T00:00:00\", \"2020-12-09T00:00:00\", \"2020-12-10T00:00:00\", \"2020-12-11T00:00:00\", \"2020-12-12T00:00:00\", \"2020-12-13T00:00:00\", \"2020-12-14T00:00:00\", \"2020-12-15T00:00:00\", \"2020-12-16T00:00:00\", \"2020-12-17T00:00:00\", \"2020-12-18T00:00:00\", \"2020-12-19T00:00:00\", \"2020-12-20T00:00:00\", \"2020-12-21T00:00:00\", \"2020-12-22T00:00:00\", \"2020-12-23T00:00:00\", \"2020-12-24T00:00:00\", \"2020-12-25T00:00:00\", \"2020-12-26T00:00:00\", \"2020-12-27T00:00:00\", \"2020-12-28T00:00:00\", \"2020-12-29T00:00:00\", \"2020-12-30T00:00:00\", \"2020-12-31T00:00:00\", \"2021-01-01T00:00:00\", \"2021-01-02T00:00:00\", \"2021-01-03T00:00:00\", \"2021-01-04T00:00:00\", \"2021-01-05T00:00:00\", \"2021-01-06T00:00:00\", \"2021-01-07T00:00:00\", \"2021-01-08T00:00:00\", \"2021-01-09T00:00:00\", \"2021-01-10T00:00:00\", \"2021-01-11T00:00:00\", \"2021-01-12T00:00:00\", \"2021-01-13T00:00:00\", \"2021-01-15T00:00:00\"], \"y\": [null, null, 3.3333333333333335, 3.0, 3.0, 3.6666666666666665, 5.0, 5.0, 4.333333333333333, 7.333333333333333, 10.666666666666666, 11.666666666666666, 9.0, 9.666666666666666, 9.666666666666666, 11.0, 11.333333333333334, 14.333333333333334, 15.333333333333334, 16.666666666666668, 15.333333333333334, 18.333333333333332, 21.666666666666668, 24.666666666666668, 26.0, 24.333333333333332, 27.333333333333332, 30.333333333333332, 34.666666666666664, 35.0, 35.333333333333336, 42.333333333333336, 54.333333333333336, 62.666666666666664, 66.0, 66.0, 72.0, 85.33333333333333, 98.33333333333333, 112.33333333333333, 120.0, 123.66666666666667, 126.0, 123.33333333333333, 126.33333333333333, 132.33333333333334, 148.66666666666666, 154.66666666666666, 165.33333333333334, 164.0, 177.0, 168.0, 165.0, 152.33333333333334, 158.33333333333334, 162.33333333333334, 173.0, 173.33333333333334, 174.33333333333334, 166.33333333333334, 152.0, 131.66666666666666, 133.66666666666666, 127.66666666666667, 131.33333333333334, 123.0, 135.66666666666666, 125.0, 111.33333333333333, 99.0, 106.33333333333333, 98.66666666666667, 101.0, 93.33333333333333, 99.66666666666667, 87.66666666666667, 87.33333333333333, 95.66666666666667, 97.66666666666667, 94.33333333333333, 79.33333333333333, 76.66666666666667, 76.33333333333333, 81.0, 77.33333333333333, 78.0, 76.33333333333333, 74.0, 63.0, 54.666666666666664, 63.0, 67.33333333333333, 69.0, 63.333333333333336, 62.333333333333336, 64.66666666666667, 59.666666666666664, 62.333333333333336, 60.333333333333336, 60.666666666666664, 61.333333333333336, 57.0, 60.666666666666664, 57.0, 57.666666666666664, 55.0, 59.666666666666664, 63.0, 56.333333333333336, 50.333333333333336, 47.0, 49.333333333333336, 48.0, 46.333333333333336, 46.333333333333336, 47.0, 41.0, 41.666666666666664, 40.666666666666664, 48.666666666666664, 47.333333333333336, 43.333333333333336, 42.666666666666664, 46.333333333333336, 44.666666666666664, 40.666666666666664, 33.333333333333336, 36.333333333333336, 38.333333333333336, 39.666666666666664, 36.333333333333336, 35.333333333333336, 35.0, 34.333333333333336, 35.666666666666664, 33.333333333333336, 31.666666666666668, 30.666666666666668, 35.333333333333336, 39.0, 35.333333333333336, 31.666666666666668, 30.0, 28.666666666666668, 25.333333333333332, 23.333333333333332, 27.333333333333332, 30.333333333333332, 31.0, 26.666666666666668, 24.333333333333332, 23.666666666666668, 23.0, 20.333333333333332, 17.0, 15.666666666666666, 16.0, 18.666666666666668, 21.666666666666668, 25.333333333333332, 25.666666666666668, 22.333333333333332, 19.0, 17.666666666666668, 24.666666666666668, 23.666666666666668, 26.333333333333332, 24.666666666666668, 26.333333333333332, 23.0, 20.0, 21.666666666666668, 25.333333333333332, 24.333333333333332, 22.0, 19.666666666666668, 22.0, 21.666666666666668, 22.0, 19.0, 19.0, 18.333333333333332, 20.666666666666668, 23.0, 22.333333333333332, 20.333333333333332, 15.333333333333334, 19.333333333333332, 18.333333333333332, 22.333333333333332, 18.666666666666668, 17.333333333333332, 15.333333333333334, 12.666666666666666, 13.0, 15.333333333333334, 17.333333333333332, 16.333333333333332, 13.666666666666666, 11.333333333333334, 13.666666666666666, 11.333333333333334, 12.666666666666666, 11.333333333333334, 13.333333333333334, 12.666666666666666, 11.666666666666666, 9.666666666666666, 11.666666666666666, 12.666666666666666, 14.0, 10.666666666666666, 11.666666666666666, 12.0, 13.666666666666666, 14.666666666666666, 15.666666666666666, 15.333333333333334, 11.666666666666666, 10.333333333333334, 10.333333333333334, 10.0, 7.666666666666667, 7.666666666666667, 9.0, 8.666666666666666, 6.666666666666667, 5.0, 8.333333333333334, 10.0, 10.666666666666666, 10.0, 8.666666666666666, 11.333333333333334, 10.333333333333334, 10.333333333333334, 7.333333333333333, 7.666666666666667, 9.0, 8.0, 9.0, 9.333333333333334, 13.333333333333334, 14.0, 16.333333333333332, 14.333333333333334, 13.0, 11.666666666666666, 13.0, 11.666666666666666, 10.666666666666666, 9.333333333333334, 10.666666666666666, 12.666666666666666, 11.666666666666666, 11.0, 9.333333333333334, 12.666666666666666, 12.333333333333334, 11.0, 9.333333333333334, 10.333333333333334, 13.0, 15.0, 16.666666666666668, 15.666666666666666, 14.0, 12.0, 11.333333333333334, 11.666666666666666, 13.333333333333334, 14.0, 12.333333333333334, 10.333333333333334, 9.666666666666666, 8.666666666666666, 9.666666666666666, 9.333333333333334, 8.666666666666666, 7.666666666666667, 8.666666666666666, 9.333333333333334, 10.0, 10.0, 11.666666666666666, 11.0, 9.333333333333334, 12.0, 11.0, 10.0, 8.0, 9.0, 9.333333333333334, 7.333333333333333, 5.333333333333333, 5.666666666666667, 4.0]}, {\"line\": {\"color\": \"orange\", \"width\": 2}, \"name\": \"M\\u00e9dia M\\u00f3vel de um m\\u00eas\", \"type\": \"scatter\", \"x\": [\"2020-03-24T00:00:00\", \"2020-03-25T00:00:00\", \"2020-03-26T00:00:00\", \"2020-03-27T00:00:00\", \"2020-03-28T00:00:00\", \"2020-03-29T00:00:00\", \"2020-03-30T00:00:00\", \"2020-03-31T00:00:00\", \"2020-04-01T00:00:00\", \"2020-04-02T00:00:00\", \"2020-04-03T00:00:00\", \"2020-04-04T00:00:00\", \"2020-04-05T00:00:00\", \"2020-04-06T00:00:00\", \"2020-04-07T00:00:00\", \"2020-04-08T00:00:00\", \"2020-04-09T00:00:00\", \"2020-04-10T00:00:00\", \"2020-04-11T00:00:00\", \"2020-04-12T00:00:00\", \"2020-04-13T00:00:00\", \"2020-04-14T00:00:00\", \"2020-04-15T00:00:00\", \"2020-04-16T00:00:00\", \"2020-04-17T00:00:00\", \"2020-04-18T00:00:00\", \"2020-04-19T00:00:00\", \"2020-04-20T00:00:00\", \"2020-04-21T00:00:00\", \"2020-04-22T00:00:00\", \"2020-04-23T00:00:00\", \"2020-04-24T00:00:00\", \"2020-04-25T00:00:00\", \"2020-04-26T00:00:00\", \"2020-04-27T00:00:00\", \"2020-04-28T00:00:00\", \"2020-04-29T00:00:00\", \"2020-04-30T00:00:00\", \"2020-05-01T00:00:00\", \"2020-05-02T00:00:00\", \"2020-05-03T00:00:00\", \"2020-05-04T00:00:00\", \"2020-05-05T00:00:00\", \"2020-05-06T00:00:00\", \"2020-05-07T00:00:00\", \"2020-05-08T00:00:00\", \"2020-05-09T00:00:00\", \"2020-05-10T00:00:00\", \"2020-05-11T00:00:00\", \"2020-05-12T00:00:00\", \"2020-05-13T00:00:00\", \"2020-05-14T00:00:00\", \"2020-05-15T00:00:00\", \"2020-05-16T00:00:00\", \"2020-05-17T00:00:00\", \"2020-05-18T00:00:00\", \"2020-05-19T00:00:00\", \"2020-05-20T00:00:00\", \"2020-05-21T00:00:00\", \"2020-05-22T00:00:00\", \"2020-05-23T00:00:00\", \"2020-05-24T00:00:00\", \"2020-05-25T00:00:00\", \"2020-05-26T00:00:00\", \"2020-05-27T00:00:00\", \"2020-05-28T00:00:00\", \"2020-05-29T00:00:00\", \"2020-05-30T00:00:00\", \"2020-05-31T00:00:00\", \"2020-06-01T00:00:00\", \"2020-06-02T00:00:00\", \"2020-06-03T00:00:00\", \"2020-06-04T00:00:00\", \"2020-06-05T00:00:00\", \"2020-06-06T00:00:00\", \"2020-06-07T00:00:00\", \"2020-06-08T00:00:00\", \"2020-06-09T00:00:00\", \"2020-06-10T00:00:00\", \"2020-06-11T00:00:00\", \"2020-06-12T00:00:00\", \"2020-06-13T00:00:00\", \"2020-06-14T00:00:00\", \"2020-06-15T00:00:00\", \"2020-06-16T00:00:00\", \"2020-06-17T00:00:00\", \"2020-06-18T00:00:00\", \"2020-06-19T00:00:00\", \"2020-06-20T00:00:00\", \"2020-06-21T00:00:00\", \"2020-06-22T00:00:00\", \"2020-06-23T00:00:00\", \"2020-06-24T00:00:00\", \"2020-06-25T00:00:00\", \"2020-06-26T00:00:00\", \"2020-06-27T00:00:00\", \"2020-06-28T00:00:00\", \"2020-06-29T00:00:00\", \"2020-06-30T00:00:00\", \"2020-07-01T00:00:00\", \"2020-07-02T00:00:00\", \"2020-07-03T00:00:00\", \"2020-07-04T00:00:00\", \"2020-07-05T00:00:00\", \"2020-07-06T00:00:00\", \"2020-07-07T00:00:00\", \"2020-07-08T00:00:00\", \"2020-07-09T00:00:00\", \"2020-07-10T00:00:00\", \"2020-07-11T00:00:00\", \"2020-07-12T00:00:00\", \"2020-07-13T00:00:00\", \"2020-07-14T00:00:00\", \"2020-07-15T00:00:00\", \"2020-07-16T00:00:00\", \"2020-07-17T00:00:00\", \"2020-07-18T00:00:00\", \"2020-07-19T00:00:00\", \"2020-07-20T00:00:00\", \"2020-07-21T00:00:00\", \"2020-07-22T00:00:00\", \"2020-07-23T00:00:00\", \"2020-07-24T00:00:00\", \"2020-07-25T00:00:00\", \"2020-07-26T00:00:00\", \"2020-07-27T00:00:00\", \"2020-07-28T00:00:00\", \"2020-07-29T00:00:00\", \"2020-07-30T00:00:00\", \"2020-07-31T00:00:00\", \"2020-08-01T00:00:00\", \"2020-08-02T00:00:00\", \"2020-08-03T00:00:00\", \"2020-08-04T00:00:00\", \"2020-08-05T00:00:00\", \"2020-08-06T00:00:00\", \"2020-08-07T00:00:00\", \"2020-08-08T00:00:00\", \"2020-08-09T00:00:00\", \"2020-08-10T00:00:00\", \"2020-08-11T00:00:00\", \"2020-08-12T00:00:00\", \"2020-08-13T00:00:00\", \"2020-08-14T00:00:00\", \"2020-08-15T00:00:00\", \"2020-08-16T00:00:00\", \"2020-08-17T00:00:00\", \"2020-08-18T00:00:00\", \"2020-08-19T00:00:00\", \"2020-08-20T00:00:00\", \"2020-08-21T00:00:00\", \"2020-08-22T00:00:00\", \"2020-08-23T00:00:00\", \"2020-08-24T00:00:00\", \"2020-08-25T00:00:00\", \"2020-08-26T00:00:00\", \"2020-08-27T00:00:00\", \"2020-08-28T00:00:00\", \"2020-08-29T00:00:00\", \"2020-08-30T00:00:00\", \"2020-08-31T00:00:00\", \"2020-09-01T00:00:00\", \"2020-09-02T00:00:00\", \"2020-09-03T00:00:00\", \"2020-09-04T00:00:00\", \"2020-09-05T00:00:00\", \"2020-09-06T00:00:00\", \"2020-09-07T00:00:00\", \"2020-09-08T00:00:00\", \"2020-09-09T00:00:00\", \"2020-09-10T00:00:00\", \"2020-09-11T00:00:00\", \"2020-09-12T00:00:00\", \"2020-09-13T00:00:00\", \"2020-09-14T00:00:00\", \"2020-09-15T00:00:00\", \"2020-09-16T00:00:00\", \"2020-09-17T00:00:00\", \"2020-09-18T00:00:00\", \"2020-09-19T00:00:00\", \"2020-09-20T00:00:00\", \"2020-09-21T00:00:00\", \"2020-09-22T00:00:00\", \"2020-09-23T00:00:00\", \"2020-09-24T00:00:00\", \"2020-09-25T00:00:00\", \"2020-09-26T00:00:00\", \"2020-09-27T00:00:00\", \"2020-09-28T00:00:00\", \"2020-09-29T00:00:00\", \"2020-09-30T00:00:00\", \"2020-10-01T00:00:00\", \"2020-10-02T00:00:00\", \"2020-10-03T00:00:00\", \"2020-10-04T00:00:00\", \"2020-10-05T00:00:00\", \"2020-10-06T00:00:00\", \"2020-10-07T00:00:00\", \"2020-10-08T00:00:00\", \"2020-10-09T00:00:00\", \"2020-10-10T00:00:00\", \"2020-10-11T00:00:00\", \"2020-10-12T00:00:00\", \"2020-10-13T00:00:00\", \"2020-10-14T00:00:00\", \"2020-10-15T00:00:00\", \"2020-10-16T00:00:00\", \"2020-10-17T00:00:00\", \"2020-10-18T00:00:00\", \"2020-10-19T00:00:00\", \"2020-10-20T00:00:00\", \"2020-10-21T00:00:00\", \"2020-10-22T00:00:00\", \"2020-10-23T00:00:00\", \"2020-10-24T00:00:00\", \"2020-10-25T00:00:00\", \"2020-10-26T00:00:00\", \"2020-10-27T00:00:00\", \"2020-10-28T00:00:00\", \"2020-10-29T00:00:00\", \"2020-10-30T00:00:00\", \"2020-10-31T00:00:00\", \"2020-11-01T00:00:00\", \"2020-11-02T00:00:00\", \"2020-11-03T00:00:00\", \"2020-11-04T00:00:00\", \"2020-11-05T00:00:00\", \"2020-11-06T00:00:00\", \"2020-11-07T00:00:00\", \"2020-11-08T00:00:00\", \"2020-11-09T00:00:00\", \"2020-11-10T00:00:00\", \"2020-11-11T00:00:00\", \"2020-11-12T00:00:00\", \"2020-11-13T00:00:00\", \"2020-11-14T00:00:00\", \"2020-11-15T00:00:00\", \"2020-11-16T00:00:00\", \"2020-11-17T00:00:00\", \"2020-11-18T00:00:00\", \"2020-11-19T00:00:00\", \"2020-11-20T00:00:00\", \"2020-11-21T00:00:00\", \"2020-11-22T00:00:00\", \"2020-11-23T00:00:00\", \"2020-11-24T00:00:00\", \"2020-11-25T00:00:00\", \"2020-11-26T00:00:00\", \"2020-11-27T00:00:00\", \"2020-11-28T00:00:00\", \"2020-11-29T00:00:00\", \"2020-11-30T00:00:00\", \"2020-12-01T00:00:00\", \"2020-12-02T00:00:00\", \"2020-12-03T00:00:00\", \"2020-12-04T00:00:00\", \"2020-12-05T00:00:00\", \"2020-12-06T00:00:00\", \"2020-12-07T00:00:00\", \"2020-12-08T00:00:00\", \"2020-12-09T00:00:00\", \"2020-12-10T00:00:00\", \"2020-12-11T00:00:00\", \"2020-12-12T00:00:00\", \"2020-12-13T00:00:00\", \"2020-12-14T00:00:00\", \"2020-12-15T00:00:00\", \"2020-12-16T00:00:00\", \"2020-12-17T00:00:00\", \"2020-12-18T00:00:00\", \"2020-12-19T00:00:00\", \"2020-12-20T00:00:00\", \"2020-12-21T00:00:00\", \"2020-12-22T00:00:00\", \"2020-12-23T00:00:00\", \"2020-12-24T00:00:00\", \"2020-12-25T00:00:00\", \"2020-12-26T00:00:00\", \"2020-12-27T00:00:00\", \"2020-12-28T00:00:00\", \"2020-12-29T00:00:00\", \"2020-12-30T00:00:00\", \"2020-12-31T00:00:00\", \"2021-01-01T00:00:00\", \"2021-01-02T00:00:00\", \"2021-01-03T00:00:00\", \"2021-01-04T00:00:00\", \"2021-01-05T00:00:00\", \"2021-01-06T00:00:00\", \"2021-01-07T00:00:00\", \"2021-01-08T00:00:00\", \"2021-01-09T00:00:00\", \"2021-01-10T00:00:00\", \"2021-01-11T00:00:00\", \"2021-01-12T00:00:00\", \"2021-01-13T00:00:00\", \"2021-01-15T00:00:00\"], \"y\": [null, null, null, null, null, null, null, null, null, null, null, null, null, null, null, null, null, null, null, null, null, null, null, null, null, null, null, null, null, null, null, 16.31111111111111, 18.01111111111111, 19.999999999999996, 22.099999999999998, 24.177777777777774, 26.411111111111108, 29.08888888888889, 32.22222222222222, 35.72222222222222, 39.36666666666667, 43.1, 47.0, 50.788888888888884, 54.67777777777777, 58.72222222222221, 63.29999999999999, 67.97777777777777, 72.97777777777777, 77.88888888888889, 83.27777777777777, 88.26666666666665, 93.04444444444444, 97.3, 101.71111111111112, 106.31111111111112, 111.16666666666667, 115.93333333333334, 120.5888888888889, 124.96666666666668, 128.85555555555555, 131.83333333333334, 134.47777777777776, 136.64444444444445, 138.8222222222222, 140.7222222222222, 142.84444444444443, 144.16666666666666, 144.6, 144.15555555555557, 143.7, 142.86666666666667, 142.03333333333333, 141.03333333333333, 140.14444444444447, 138.6555555555556, 136.61111111111114, 134.64444444444447, 132.3888888888889, 130.0666666666667, 126.81111111111115, 123.7666666666667, 120.81111111111115, 118.43333333333337, 115.73333333333336, 112.92222222222225, 109.70000000000003, 106.38888888888891, 102.67777777777779, 98.95555555555556, 95.9888888888889, 93.84444444444446, 91.68888888888891, 89.54444444444448, 87.24444444444448, 85.30000000000003, 82.7666666666667, 80.67777777777782, 78.97777777777782, 77.70000000000003, 76.20000000000003, 74.81111111111115, 73.4666666666667, 72.25555555555557, 70.85555555555558, 69.7666666666667, 68.84444444444446, 67.75555555555557, 66.3777777777778, 64.91111111111113, 63.83333333333335, 62.92222222222223, 61.97777777777779, 60.82222222222223, 59.7888888888889, 58.75555555555557, 57.57777777777779, 56.500000000000014, 55.755555555555574, 55.55555555555557, 55.033333333333346, 54.23333333333335, 53.355555555555576, 52.788888888888906, 52.200000000000024, 51.40000000000002, 50.52222222222224, 49.65555555555557, 48.92222222222224, 48.22222222222224, 47.38888888888891, 46.66666666666668, 45.811111111111124, 45.055555555555564, 44.32222222222223, 43.60000000000001, 42.66666666666667, 41.588888888888896, 40.8888888888889, 40.51111111111113, 40.122222222222234, 39.533333333333346, 38.93333333333335, 38.34444444444446, 37.64444444444447, 36.855555555555576, 36.40000000000001, 36.02222222222223, 35.70000000000001, 34.966666666666676, 34.20000000000001, 33.54444444444445, 32.88888888888889, 32.022222222222226, 31.10000000000001, 30.266666666666673, 29.688888888888894, 29.100000000000005, 28.544444444444444, 28.06666666666667, 27.711111111111112, 27.27777777777778, 26.744444444444447, 26.188888888888886, 25.82222222222222, 25.499999999999996, 25.32222222222222, 25.12222222222222, 24.82222222222222, 24.288888888888888, 23.777777777777775, 23.444444444444443, 23.288888888888888, 23.144444444444446, 23.033333333333335, 22.911111111111108, 22.73333333333333, 22.44444444444444, 22.14444444444444, 21.888888888888882, 21.711111111111105, 21.533333333333328, 21.455555555555552, 21.544444444444437, 21.722222222222218, 21.877777777777776, 21.855555555555554, 21.87777777777778, 21.76666666666667, 21.66666666666667, 21.433333333333337, 21.26666666666667, 21.14444444444445, 20.97777777777778, 20.588888888888896, 20.31111111111112, 20.01111111111112, 19.733333333333345, 19.31111111111112, 18.92222222222223, 18.71111111111112, 18.366666666666678, 17.944444444444454, 17.51111111111112, 17.222222222222232, 16.988888888888898, 16.644444444444453, 16.244444444444454, 15.90000000000001, 15.688888888888899, 15.522222222222233, 15.266666666666678, 14.966666666666677, 14.600000000000012, 14.311111111111124, 14.122222222222236, 14.133333333333349, 14.000000000000016, 13.777777777777795, 13.377777777777794, 13.100000000000016, 12.855555555555572, 12.600000000000017, 12.43333333333335, 12.300000000000017, 12.077777777777795, 11.722222222222241, 11.344444444444465, 11.166666666666686, 11.122222222222241, 11.022222222222242, 10.977777777777797, 10.844444444444465, 10.844444444444465, 10.744444444444465, 10.666666666666686, 10.52222222222224, 10.455555555555573, 10.366666666666683, 10.211111111111128, 10.04444444444446, 10.000000000000016, 10.05555555555557, 10.122222222222236, 10.211111111111125, 10.200000000000012, 10.111111111111121, 9.988888888888901, 10.033333333333344, 10.07777777777779, 10.088888888888903, 10.06666666666668, 10.16666666666668, 10.333333333333346, 10.422222222222237, 10.500000000000012, 10.588888888888901, 10.844444444444457, 10.97777777777779, 11.011111111111124, 10.966666666666677, 10.977777777777789, 11.122222222222232, 11.244444444444456, 11.455555555555568, 11.633333333333347, 11.85555555555557, 12.000000000000012, 12.07777777777779, 12.200000000000014, 12.344444444444457, 12.500000000000012, 12.46666666666668, 12.344444444444457, 12.122222222222236, 11.933333333333348, 11.822222222222239, 11.74444444444446, 11.600000000000016, 11.466666666666681, 11.400000000000015, 11.400000000000015, 11.377777777777792, 11.288888888888902, 11.288888888888902, 11.288888888888902, 11.288888888888902, 11.26666666666668, 11.222222222222236, 11.188888888888902, 11.144444444444458, 11.100000000000016, 10.977777777777792, 10.722222222222236, 10.344444444444457, 10.011111111111124, 9.67777777777779]}],\n",
              "                        {\"barmode\": \"relative\", \"legend\": {\"tracegroupgap\": 0}, \"margin\": {\"t\": 60}, \"template\": {\"data\": {\"bar\": [{\"error_x\": {\"color\": \"#2a3f5f\"}, \"error_y\": {\"color\": \"#2a3f5f\"}, \"marker\": {\"line\": {\"color\": \"#E5ECF6\", \"width\": 0.5}}, \"type\": \"bar\"}], \"barpolar\": [{\"marker\": {\"line\": {\"color\": \"#E5ECF6\", \"width\": 0.5}}, \"type\": \"barpolar\"}], \"carpet\": [{\"aaxis\": {\"endlinecolor\": \"#2a3f5f\", \"gridcolor\": \"white\", \"linecolor\": \"white\", \"minorgridcolor\": \"white\", \"startlinecolor\": \"#2a3f5f\"}, \"baxis\": {\"endlinecolor\": \"#2a3f5f\", \"gridcolor\": \"white\", \"linecolor\": \"white\", \"minorgridcolor\": \"white\", \"startlinecolor\": \"#2a3f5f\"}, \"type\": \"carpet\"}], \"choropleth\": [{\"colorbar\": {\"outlinewidth\": 0, \"ticks\": \"\"}, \"type\": \"choropleth\"}], \"contour\": [{\"colorbar\": {\"outlinewidth\": 0, \"ticks\": \"\"}, \"colorscale\": [[0.0, \"#0d0887\"], [0.1111111111111111, \"#46039f\"], [0.2222222222222222, \"#7201a8\"], [0.3333333333333333, \"#9c179e\"], [0.4444444444444444, \"#bd3786\"], [0.5555555555555556, \"#d8576b\"], [0.6666666666666666, \"#ed7953\"], [0.7777777777777778, \"#fb9f3a\"], [0.8888888888888888, \"#fdca26\"], [1.0, \"#f0f921\"]], \"type\": \"contour\"}], \"contourcarpet\": [{\"colorbar\": {\"outlinewidth\": 0, \"ticks\": \"\"}, \"type\": \"contourcarpet\"}], \"heatmap\": [{\"colorbar\": {\"outlinewidth\": 0, \"ticks\": \"\"}, \"colorscale\": [[0.0, \"#0d0887\"], [0.1111111111111111, \"#46039f\"], [0.2222222222222222, \"#7201a8\"], [0.3333333333333333, \"#9c179e\"], [0.4444444444444444, \"#bd3786\"], [0.5555555555555556, \"#d8576b\"], [0.6666666666666666, \"#ed7953\"], [0.7777777777777778, \"#fb9f3a\"], [0.8888888888888888, \"#fdca26\"], [1.0, \"#f0f921\"]], \"type\": \"heatmap\"}], \"heatmapgl\": [{\"colorbar\": {\"outlinewidth\": 0, \"ticks\": \"\"}, \"colorscale\": [[0.0, \"#0d0887\"], [0.1111111111111111, \"#46039f\"], [0.2222222222222222, \"#7201a8\"], [0.3333333333333333, \"#9c179e\"], [0.4444444444444444, \"#bd3786\"], [0.5555555555555556, \"#d8576b\"], [0.6666666666666666, \"#ed7953\"], [0.7777777777777778, \"#fb9f3a\"], [0.8888888888888888, \"#fdca26\"], [1.0, \"#f0f921\"]], \"type\": \"heatmapgl\"}], \"histogram\": [{\"marker\": {\"colorbar\": {\"outlinewidth\": 0, \"ticks\": \"\"}}, \"type\": \"histogram\"}], \"histogram2d\": [{\"colorbar\": {\"outlinewidth\": 0, \"ticks\": \"\"}, \"colorscale\": [[0.0, \"#0d0887\"], [0.1111111111111111, \"#46039f\"], [0.2222222222222222, \"#7201a8\"], [0.3333333333333333, \"#9c179e\"], [0.4444444444444444, \"#bd3786\"], [0.5555555555555556, \"#d8576b\"], [0.6666666666666666, \"#ed7953\"], [0.7777777777777778, \"#fb9f3a\"], [0.8888888888888888, \"#fdca26\"], [1.0, \"#f0f921\"]], \"type\": \"histogram2d\"}], \"histogram2dcontour\": [{\"colorbar\": {\"outlinewidth\": 0, \"ticks\": \"\"}, \"colorscale\": [[0.0, \"#0d0887\"], [0.1111111111111111, \"#46039f\"], [0.2222222222222222, \"#7201a8\"], [0.3333333333333333, \"#9c179e\"], [0.4444444444444444, \"#bd3786\"], [0.5555555555555556, \"#d8576b\"], [0.6666666666666666, \"#ed7953\"], [0.7777777777777778, \"#fb9f3a\"], [0.8888888888888888, \"#fdca26\"], [1.0, \"#f0f921\"]], \"type\": \"histogram2dcontour\"}], \"mesh3d\": [{\"colorbar\": {\"outlinewidth\": 0, \"ticks\": \"\"}, \"type\": \"mesh3d\"}], \"parcoords\": [{\"line\": {\"colorbar\": {\"outlinewidth\": 0, \"ticks\": \"\"}}, \"type\": \"parcoords\"}], \"pie\": [{\"automargin\": true, \"type\": \"pie\"}], \"scatter\": [{\"marker\": {\"colorbar\": {\"outlinewidth\": 0, \"ticks\": \"\"}}, \"type\": \"scatter\"}], \"scatter3d\": [{\"line\": {\"colorbar\": {\"outlinewidth\": 0, \"ticks\": \"\"}}, \"marker\": {\"colorbar\": {\"outlinewidth\": 0, \"ticks\": \"\"}}, \"type\": \"scatter3d\"}], \"scattercarpet\": [{\"marker\": {\"colorbar\": {\"outlinewidth\": 0, \"ticks\": \"\"}}, \"type\": \"scattercarpet\"}], \"scattergeo\": [{\"marker\": {\"colorbar\": {\"outlinewidth\": 0, \"ticks\": \"\"}}, \"type\": \"scattergeo\"}], \"scattergl\": [{\"marker\": {\"colorbar\": {\"outlinewidth\": 0, \"ticks\": \"\"}}, \"type\": \"scattergl\"}], \"scattermapbox\": [{\"marker\": {\"colorbar\": {\"outlinewidth\": 0, \"ticks\": \"\"}}, \"type\": \"scattermapbox\"}], \"scatterpolar\": [{\"marker\": {\"colorbar\": {\"outlinewidth\": 0, \"ticks\": \"\"}}, \"type\": \"scatterpolar\"}], \"scatterpolargl\": [{\"marker\": {\"colorbar\": {\"outlinewidth\": 0, \"ticks\": \"\"}}, \"type\": \"scatterpolargl\"}], \"scatterternary\": [{\"marker\": {\"colorbar\": {\"outlinewidth\": 0, \"ticks\": \"\"}}, \"type\": \"scatterternary\"}], \"surface\": [{\"colorbar\": {\"outlinewidth\": 0, \"ticks\": \"\"}, \"colorscale\": [[0.0, \"#0d0887\"], [0.1111111111111111, \"#46039f\"], [0.2222222222222222, \"#7201a8\"], [0.3333333333333333, \"#9c179e\"], [0.4444444444444444, \"#bd3786\"], [0.5555555555555556, \"#d8576b\"], [0.6666666666666666, \"#ed7953\"], [0.7777777777777778, \"#fb9f3a\"], [0.8888888888888888, \"#fdca26\"], [1.0, \"#f0f921\"]], \"type\": \"surface\"}], \"table\": [{\"cells\": {\"fill\": {\"color\": \"#EBF0F8\"}, \"line\": {\"color\": \"white\"}}, \"header\": {\"fill\": {\"color\": \"#C8D4E3\"}, \"line\": {\"color\": \"white\"}}, \"type\": \"table\"}]}, \"layout\": {\"annotationdefaults\": {\"arrowcolor\": \"#2a3f5f\", \"arrowhead\": 0, \"arrowwidth\": 1}, \"coloraxis\": {\"colorbar\": {\"outlinewidth\": 0, \"ticks\": \"\"}}, \"colorscale\": {\"diverging\": [[0, \"#8e0152\"], [0.1, \"#c51b7d\"], [0.2, \"#de77ae\"], [0.3, \"#f1b6da\"], [0.4, \"#fde0ef\"], [0.5, \"#f7f7f7\"], [0.6, \"#e6f5d0\"], [0.7, \"#b8e186\"], [0.8, \"#7fbc41\"], [0.9, \"#4d9221\"], [1, \"#276419\"]], \"sequential\": [[0.0, \"#0d0887\"], [0.1111111111111111, \"#46039f\"], [0.2222222222222222, \"#7201a8\"], [0.3333333333333333, \"#9c179e\"], [0.4444444444444444, \"#bd3786\"], [0.5555555555555556, \"#d8576b\"], [0.6666666666666666, \"#ed7953\"], [0.7777777777777778, \"#fb9f3a\"], [0.8888888888888888, \"#fdca26\"], [1.0, \"#f0f921\"]], \"sequentialminus\": [[0.0, \"#0d0887\"], [0.1111111111111111, \"#46039f\"], [0.2222222222222222, \"#7201a8\"], [0.3333333333333333, \"#9c179e\"], [0.4444444444444444, \"#bd3786\"], [0.5555555555555556, \"#d8576b\"], [0.6666666666666666, \"#ed7953\"], [0.7777777777777778, \"#fb9f3a\"], [0.8888888888888888, \"#fdca26\"], [1.0, \"#f0f921\"]]}, \"colorway\": [\"#636efa\", \"#EF553B\", \"#00cc96\", \"#ab63fa\", \"#FFA15A\", \"#19d3f3\", \"#FF6692\", \"#B6E880\", \"#FF97FF\", \"#FECB52\"], \"font\": {\"color\": \"#2a3f5f\"}, \"geo\": {\"bgcolor\": \"white\", \"lakecolor\": \"white\", \"landcolor\": \"#E5ECF6\", \"showlakes\": true, \"showland\": true, \"subunitcolor\": \"white\"}, \"hoverlabel\": {\"align\": \"left\"}, \"hovermode\": \"closest\", \"mapbox\": {\"style\": \"light\"}, \"paper_bgcolor\": \"white\", \"plot_bgcolor\": \"#E5ECF6\", \"polar\": {\"angularaxis\": {\"gridcolor\": \"white\", \"linecolor\": \"white\", \"ticks\": \"\"}, \"bgcolor\": \"#E5ECF6\", \"radialaxis\": {\"gridcolor\": \"white\", \"linecolor\": \"white\", \"ticks\": \"\"}}, \"scene\": {\"xaxis\": {\"backgroundcolor\": \"#E5ECF6\", \"gridcolor\": \"white\", \"gridwidth\": 2, \"linecolor\": \"white\", \"showbackground\": true, \"ticks\": \"\", \"zerolinecolor\": \"white\"}, \"yaxis\": {\"backgroundcolor\": \"#E5ECF6\", \"gridcolor\": \"white\", \"gridwidth\": 2, \"linecolor\": \"white\", \"showbackground\": true, \"ticks\": \"\", \"zerolinecolor\": \"white\"}, \"zaxis\": {\"backgroundcolor\": \"#E5ECF6\", \"gridcolor\": \"white\", \"gridwidth\": 2, \"linecolor\": \"white\", \"showbackground\": true, \"ticks\": \"\", \"zerolinecolor\": \"white\"}}, \"shapedefaults\": {\"line\": {\"color\": \"#2a3f5f\"}}, \"ternary\": {\"aaxis\": {\"gridcolor\": \"white\", \"linecolor\": \"white\", \"ticks\": \"\"}, \"baxis\": {\"gridcolor\": \"white\", \"linecolor\": \"white\", \"ticks\": \"\"}, \"bgcolor\": \"#E5ECF6\", \"caxis\": {\"gridcolor\": \"white\", \"linecolor\": \"white\", \"ticks\": \"\"}}, \"title\": {\"x\": 0.05}, \"xaxis\": {\"automargin\": true, \"gridcolor\": \"white\", \"linecolor\": \"white\", \"ticks\": \"\", \"title\": {\"standoff\": 15}, \"zerolinecolor\": \"white\", \"zerolinewidth\": 2}, \"yaxis\": {\"automargin\": true, \"gridcolor\": \"white\", \"linecolor\": \"white\", \"ticks\": \"\", \"title\": {\"standoff\": 15}, \"zerolinecolor\": \"white\", \"zerolinewidth\": 2}}}, \"title\": {\"text\": \"Quantidade de \\u00f3bitos confirmados no per\\u00edodo\"}, \"xaxis\": {\"anchor\": \"y\", \"domain\": [0.0, 1.0], \"title\": {\"text\": \"M\\u00eas\"}}, \"yaxis\": {\"anchor\": \"x\", \"domain\": [0.0, 1.0], \"title\": {\"text\": \"Quantidade de \\u00f3bitos / dia\"}}},\n",
              "                        {\"responsive\": true}\n",
              "                    ).then(function(){\n",
              "                            \n",
              "var gd = document.getElementById('74a08b83-8a6f-4de0-a975-402a8e47d36f');\n",
              "var x = new MutationObserver(function (mutations, observer) {{\n",
              "        var display = window.getComputedStyle(gd).display;\n",
              "        if (!display || display === 'none') {{\n",
              "            console.log([gd, 'removed!']);\n",
              "            Plotly.purge(gd);\n",
              "            observer.disconnect();\n",
              "        }}\n",
              "}});\n",
              "\n",
              "// Listen for the removal of the full notebook cells\n",
              "var notebookContainer = gd.closest('#notebook-container');\n",
              "if (notebookContainer) {{\n",
              "    x.observe(notebookContainer, {childList: true});\n",
              "}}\n",
              "\n",
              "// Listen for the clearing of the current output cell\n",
              "var outputEl = gd.closest('.output');\n",
              "if (outputEl) {{\n",
              "    x.observe(outputEl, {childList: true});\n",
              "}}\n",
              "\n",
              "                        })\n",
              "                };\n",
              "                \n",
              "            </script>\n",
              "        </div>\n",
              "</body>\n",
              "</html>"
            ]
          },
          "metadata": {
            "tags": []
          }
        }
      ]
    },
    {
      "cell_type": "markdown",
      "metadata": {
        "id": "o9herWK7yUQE"
      },
      "source": [
        "**1.5 Gráfico de óbitos por dia**"
      ]
    },
    {
      "cell_type": "code",
      "metadata": {
        "id": "Wqz3_L2OyN3t",
        "colab": {
          "base_uri": "https://localhost:8080/",
          "height": 542
        },
        "outputId": "0fc6df62-83e6-4883-8eab-5fabe9a5f31f"
      },
      "source": [
        "fig = go.Figure(data=[\r\n",
        "    go.Bar(x= df_grafico_obito['dataObito'], y= df_grafico_obito['total_obito_dia'], marker=dict(color='orangered')),\r\n",
        "])\r\n",
        "\r\n",
        "# gráfico\r\n",
        "fig.update_layout(\r\n",
        "    title='Total de óbitos de Covid-19 por dia no estado do Ceará',\r\n",
        "    xaxis_tickfont_size=24,\r\n",
        "    xaxis = dict(\r\n",
        "        title='Período',\r\n",
        "        titlefont_size=16,\r\n",
        "        tickfont_size=14,\r\n",
        "    ),\r\n",
        "    yaxis = dict(\r\n",
        "        title='Número de óbitos',\r\n",
        "        titlefont_size=16,\r\n",
        "        tickfont_size=14,\r\n",
        "    ), xaxis_tickangle=90)\r\n",
        "\r\n",
        "fig.show()"
      ],
      "execution_count": 101,
      "outputs": [
        {
          "output_type": "display_data",
          "data": {
            "text/html": [
              "<html>\n",
              "<head><meta charset=\"utf-8\" /></head>\n",
              "<body>\n",
              "    <div>\n",
              "            <script src=\"https://cdnjs.cloudflare.com/ajax/libs/mathjax/2.7.5/MathJax.js?config=TeX-AMS-MML_SVG\"></script><script type=\"text/javascript\">if (window.MathJax) {MathJax.Hub.Config({SVG: {font: \"STIX-Web\"}});}</script>\n",
              "                <script type=\"text/javascript\">window.PlotlyConfig = {MathJaxConfig: 'local'};</script>\n",
              "        <script src=\"https://cdn.plot.ly/plotly-latest.min.js\"></script>    \n",
              "            <div id=\"e6e3ea89-97e4-4511-932c-6ffa77428d62\" class=\"plotly-graph-div\" style=\"height:525px; width:100%;\"></div>\n",
              "            <script type=\"text/javascript\">\n",
              "                \n",
              "                    window.PLOTLYENV=window.PLOTLYENV || {};\n",
              "                    \n",
              "                if (document.getElementById(\"e6e3ea89-97e4-4511-932c-6ffa77428d62\")) {\n",
              "                    Plotly.newPlot(\n",
              "                        'e6e3ea89-97e4-4511-932c-6ffa77428d62',\n",
              "                        [{\"marker\": {\"color\": \"orangered\"}, \"type\": \"bar\", \"x\": [\"2020-05-20T00:00:00\", \"2020-04-26T00:00:00\", \"2020-05-23T00:00:00\", \"2020-03-24T00:00:00\", \"2020-03-29T00:00:00\", \"2020-04-16T00:00:00\", \"2020-04-07T00:00:00\", \"2020-04-29T00:00:00\", \"2020-07-06T00:00:00\", \"2020-04-23T00:00:00\", \"2020-05-03T00:00:00\", \"2020-05-09T00:00:00\", \"2020-05-01T00:00:00\", \"2020-04-30T00:00:00\", \"2020-04-08T00:00:00\", \"2020-04-15T00:00:00\", \"2020-04-17T00:00:00\", \"2020-04-18T00:00:00\", \"2020-06-08T00:00:00\", \"2020-04-22T00:00:00\", \"2020-04-27T00:00:00\", \"2020-06-09T00:00:00\", \"2020-05-08T00:00:00\", \"2020-05-16T00:00:00\", \"2020-04-20T00:00:00\", \"2020-06-03T00:00:00\", \"2020-05-06T00:00:00\", \"2020-05-18T00:00:00\", \"2020-05-17T00:00:00\", \"2020-05-05T00:00:00\", \"2020-10-24T00:00:00\", \"2020-06-15T00:00:00\", \"2020-05-13T00:00:00\", \"2020-06-11T00:00:00\", \"2020-05-02T00:00:00\", \"2020-05-15T00:00:00\", \"2020-04-06T00:00:00\", \"2020-05-04T00:00:00\", \"2020-05-27T00:00:00\", \"2020-05-25T00:00:00\", \"2020-05-07T00:00:00\", \"2020-05-24T00:00:00\", \"2020-06-02T00:00:00\", \"2020-05-10T00:00:00\", \"2020-05-21T00:00:00\", \"2020-07-08T00:00:00\", \"2020-05-22T00:00:00\", \"2020-05-12T00:00:00\", \"2020-08-06T00:00:00\", \"2020-06-24T00:00:00\", \"2020-05-11T00:00:00\", \"2020-06-17T00:00:00\", \"2020-05-19T00:00:00\", \"2020-06-21T00:00:00\", \"2020-05-14T00:00:00\", \"2020-05-31T00:00:00\", \"2020-05-30T00:00:00\", \"2020-05-28T00:00:00\", \"2020-06-01T00:00:00\", \"2020-05-29T00:00:00\", \"2020-05-26T00:00:00\", \"2020-06-18T00:00:00\", \"2020-06-10T00:00:00\", \"2020-07-15T00:00:00\", \"2020-06-05T00:00:00\", \"2020-06-28T00:00:00\", \"2020-06-04T00:00:00\", \"2020-07-29T00:00:00\", \"2020-06-07T00:00:00\", \"2020-06-06T00:00:00\", \"2020-04-25T00:00:00\", \"2020-07-02T00:00:00\", \"2020-06-30T00:00:00\", \"2020-06-29T00:00:00\", \"2020-07-26T00:00:00\", \"2020-06-12T00:00:00\", \"2020-07-12T00:00:00\", \"2020-06-19T00:00:00\", \"2020-07-11T00:00:00\", \"2020-07-07T00:00:00\", \"2020-06-14T00:00:00\", \"2020-06-27T00:00:00\", \"2020-09-11T00:00:00\", \"2020-07-09T00:00:00\", \"2020-07-04T00:00:00\", \"2020-07-01T00:00:00\", \"2020-07-23T00:00:00\", \"2020-07-18T00:00:00\", \"2020-06-23T00:00:00\", \"2020-07-20T00:00:00\", \"2020-07-24T00:00:00\", \"2020-07-13T00:00:00\", \"2020-07-14T00:00:00\", \"2020-07-05T00:00:00\", \"2020-06-16T00:00:00\", \"2020-06-13T00:00:00\", \"2020-06-20T00:00:00\", \"2020-06-22T00:00:00\", \"2020-08-02T00:00:00\", \"2020-06-26T00:00:00\", \"2020-07-27T00:00:00\", \"2020-07-16T00:00:00\", \"2020-04-19T00:00:00\", \"2020-06-25T00:00:00\", \"2020-07-03T00:00:00\", \"2020-08-27T00:00:00\", \"2020-07-10T00:00:00\", \"2020-07-25T00:00:00\", \"2020-11-23T00:00:00\", \"2020-08-08T00:00:00\", \"2020-07-19T00:00:00\", \"2020-07-30T00:00:00\", \"2020-07-31T00:00:00\", \"2020-07-21T00:00:00\", \"2020-09-29T00:00:00\", \"2020-08-10T00:00:00\", \"2020-07-28T00:00:00\", \"2020-07-22T00:00:00\", \"2020-04-12T00:00:00\", \"2020-08-01T00:00:00\", \"2020-08-03T00:00:00\", \"2020-08-04T00:00:00\", \"2020-09-10T00:00:00\", \"2020-08-17T00:00:00\", \"2020-08-05T00:00:00\", \"2020-08-07T00:00:00\", \"2020-08-13T00:00:00\", \"2020-08-16T00:00:00\", \"2020-08-18T00:00:00\", \"2020-08-30T00:00:00\", \"2020-08-20T00:00:00\", \"2020-09-27T00:00:00\", \"2020-09-18T00:00:00\", \"2020-10-04T00:00:00\", \"2020-09-04T00:00:00\", \"2020-08-24T00:00:00\", \"2020-09-01T00:00:00\", \"2020-08-21T00:00:00\", \"2020-08-28T00:00:00\", \"2020-08-29T00:00:00\", \"2020-09-06T00:00:00\", \"2020-09-19T00:00:00\", \"2020-09-03T00:00:00\", \"2020-09-02T00:00:00\", \"2020-09-05T00:00:00\", \"2020-09-07T00:00:00\", \"2020-09-08T00:00:00\", \"2020-09-12T00:00:00\", \"2020-10-05T00:00:00\", \"2020-09-14T00:00:00\", \"2020-09-16T00:00:00\", \"2020-09-22T00:00:00\", \"2020-09-17T00:00:00\", \"2020-10-30T00:00:00\", \"2020-09-24T00:00:00\", \"2020-09-25T00:00:00\", \"2020-10-01T00:00:00\", \"2020-09-09T00:00:00\", \"2020-10-02T00:00:00\", \"2020-10-06T00:00:00\", \"2020-09-15T00:00:00\", \"2020-09-28T00:00:00\", \"2020-08-26T00:00:00\", \"2020-09-20T00:00:00\", \"2020-11-02T00:00:00\", \"2020-10-07T00:00:00\", \"2020-10-08T00:00:00\", \"2020-10-03T00:00:00\", \"2020-10-16T00:00:00\", \"2020-10-14T00:00:00\", \"2020-10-26T00:00:00\", \"2020-10-13T00:00:00\", \"2020-11-14T00:00:00\", \"2020-10-25T00:00:00\", \"2020-10-11T00:00:00\", \"2020-10-22T00:00:00\", \"2020-11-15T00:00:00\", \"2020-11-07T00:00:00\", \"2020-11-19T00:00:00\", \"2020-11-18T00:00:00\", \"2020-11-10T00:00:00\", \"2020-11-27T00:00:00\", \"2020-11-16T00:00:00\", \"2020-12-01T00:00:00\", \"2020-10-29T00:00:00\", \"2020-11-20T00:00:00\", \"2020-08-12T00:00:00\", \"2020-11-25T00:00:00\", \"2020-12-08T00:00:00\", \"2020-12-06T00:00:00\", \"2020-12-12T00:00:00\", \"2020-12-11T00:00:00\", \"2020-12-31T00:00:00\", \"2021-01-05T00:00:00\", \"2020-04-24T00:00:00\", \"2020-04-14T00:00:00\", \"2020-12-27T00:00:00\", \"2021-01-01T00:00:00\", \"2021-01-09T00:00:00\", \"2020-08-25T00:00:00\", \"2020-10-20T00:00:00\", \"2020-08-11T00:00:00\", \"2020-12-14T00:00:00\", \"2020-12-02T00:00:00\", \"2020-04-04T00:00:00\", \"2020-03-26T00:00:00\", \"2020-04-02T00:00:00\", \"2020-03-30T00:00:00\", \"2020-04-21T00:00:00\", \"2020-04-28T00:00:00\", \"2020-04-03T00:00:00\", \"2020-04-09T00:00:00\", \"2020-04-11T00:00:00\", \"2020-04-13T00:00:00\", \"2020-08-15T00:00:00\", \"2020-12-03T00:00:00\", \"2020-11-21T00:00:00\", \"2020-07-17T00:00:00\", \"2020-04-01T00:00:00\", \"2020-08-09T00:00:00\", \"2020-08-14T00:00:00\", \"2020-08-19T00:00:00\", \"2020-08-23T00:00:00\", \"2020-08-31T00:00:00\", \"2020-08-22T00:00:00\", \"2020-09-13T00:00:00\", \"2020-09-26T00:00:00\", \"2020-09-30T00:00:00\", \"2020-09-21T00:00:00\", \"2020-10-19T00:00:00\", \"2020-10-12T00:00:00\", \"2020-10-27T00:00:00\", \"2020-11-03T00:00:00\", \"2020-11-29T00:00:00\", \"2020-11-26T00:00:00\", \"2020-11-30T00:00:00\", \"2020-09-23T00:00:00\", \"2020-10-09T00:00:00\", \"2020-10-10T00:00:00\", \"2020-10-17T00:00:00\", \"2020-10-23T00:00:00\", \"2020-10-31T00:00:00\", \"2020-10-28T00:00:00\", \"2020-11-04T00:00:00\", \"2020-11-08T00:00:00\", \"2020-10-21T00:00:00\", \"2020-11-12T00:00:00\", \"2020-11-11T00:00:00\", \"2020-11-09T00:00:00\", \"2020-11-06T00:00:00\", \"2020-11-17T00:00:00\", \"2020-11-13T00:00:00\", \"2020-11-22T00:00:00\", \"2020-11-24T00:00:00\", \"2020-12-05T00:00:00\", \"2020-12-10T00:00:00\", \"2020-12-07T00:00:00\", \"2020-12-09T00:00:00\", \"2020-12-15T00:00:00\", \"2020-12-16T00:00:00\", \"2020-12-17T00:00:00\", \"2020-12-18T00:00:00\", \"2020-12-20T00:00:00\", \"2020-12-21T00:00:00\", \"2020-12-19T00:00:00\", \"2020-12-23T00:00:00\", \"2020-12-28T00:00:00\", \"2020-11-28T00:00:00\", \"2021-01-02T00:00:00\", \"2020-12-30T00:00:00\", \"2020-12-25T00:00:00\", \"2020-12-22T00:00:00\", \"2021-01-11T00:00:00\", \"2021-01-10T00:00:00\", \"2021-01-08T00:00:00\", \"2021-01-07T00:00:00\", \"2020-12-13T00:00:00\", \"2021-01-15T00:00:00\", \"2020-10-15T00:00:00\", \"2020-12-29T00:00:00\", \"2020-12-24T00:00:00\", \"2021-01-13T00:00:00\", \"2021-01-12T00:00:00\", \"2020-10-18T00:00:00\", \"2020-04-10T00:00:00\", \"2020-03-27T00:00:00\", \"2020-12-26T00:00:00\", \"2020-12-04T00:00:00\", \"2020-11-01T00:00:00\", \"2021-01-03T00:00:00\", \"2020-04-05T00:00:00\", \"2020-03-31T00:00:00\", \"2020-11-05T00:00:00\", \"2021-01-06T00:00:00\", \"2020-03-25T00:00:00\", \"2021-01-04T00:00:00\", \"2020-03-28T00:00:00\"], \"y\": [172, 63, 129, 4, 6, 21, 7, 81, 48, 38, 131, 172, 106, 108, 12, 29, 28, 24, 90, 31, 68, 114, 148, 145, 37, 70, 123, 171, 171, 130, 12, 83, 183, 80, 123, 159, 14, 117, 124, 159, 126, 113, 114, 144, 174, 71, 153, 168, 30, 58, 180, 81, 177, 53, 153, 93, 92, 134, 112, 149, 111, 78, 89, 43, 91, 56, 119, 40, 83, 89, 67, 68, 59, 66, 31, 69, 48, 63, 53, 60, 79, 65, 26, 58, 68, 57, 36, 25, 61, 48, 47, 47, 49, 57, 70, 81, 48, 88, 38, 58, 35, 47, 30, 71, 46, 18, 40, 56, 18, 39, 49, 41, 38, 49, 22, 34, 34, 45, 19, 30, 37, 28, 23, 36, 42, 23, 29, 23, 32, 29, 23, 29, 21, 13, 37, 17, 16, 25, 21, 26, 26, 18, 18, 19, 16, 32, 21, 27, 23, 19, 27, 25, 18, 11, 17, 19, 12, 16, 16, 16, 20, 16, 17, 18, 11, 10, 15, 10, 10, 14, 16, 13, 6, 19, 8, 16, 7, 14, 13, 4, 12, 14, 10, 11, 12, 11, 33, 11, 8, 17, 18, 16, 11, 19, 58, 24, 4, 13, 9, 13, 12, 28, 13, 17, 7, 4, 16, 7, 37, 67, 12, 15, 15, 12, 23, 7, 16, 51, 4, 44, 24, 25, 21, 22, 23, 20, 10, 18, 19, 13, 13, 11, 11, 11, 14, 10, 25, 9, 17, 8, 13, 7, 8, 4, 10, 7, 16, 6, 8, 6, 10, 9, 15, 10, 12, 11, 8, 12, 13, 10, 11, 14, 13, 9, 15, 11, 9, 7, 11, 6, 12, 9, 7, 6, 13, 5, 16, 2, 11, 13, 6, 7, 3, 17, 16, 3, 10, 9, 5, 9, 8, 2, 5, 6, 2, 8, 2]}],\n",
              "                        {\"template\": {\"data\": {\"bar\": [{\"error_x\": {\"color\": \"#2a3f5f\"}, \"error_y\": {\"color\": \"#2a3f5f\"}, \"marker\": {\"line\": {\"color\": \"#E5ECF6\", \"width\": 0.5}}, \"type\": \"bar\"}], \"barpolar\": [{\"marker\": {\"line\": {\"color\": \"#E5ECF6\", \"width\": 0.5}}, \"type\": \"barpolar\"}], \"carpet\": [{\"aaxis\": {\"endlinecolor\": \"#2a3f5f\", \"gridcolor\": \"white\", \"linecolor\": \"white\", \"minorgridcolor\": \"white\", \"startlinecolor\": \"#2a3f5f\"}, \"baxis\": {\"endlinecolor\": \"#2a3f5f\", \"gridcolor\": \"white\", \"linecolor\": \"white\", \"minorgridcolor\": \"white\", \"startlinecolor\": \"#2a3f5f\"}, \"type\": \"carpet\"}], \"choropleth\": [{\"colorbar\": {\"outlinewidth\": 0, \"ticks\": \"\"}, \"type\": \"choropleth\"}], \"contour\": [{\"colorbar\": {\"outlinewidth\": 0, \"ticks\": \"\"}, \"colorscale\": [[0.0, \"#0d0887\"], [0.1111111111111111, \"#46039f\"], [0.2222222222222222, \"#7201a8\"], [0.3333333333333333, \"#9c179e\"], [0.4444444444444444, \"#bd3786\"], [0.5555555555555556, \"#d8576b\"], [0.6666666666666666, \"#ed7953\"], [0.7777777777777778, \"#fb9f3a\"], [0.8888888888888888, \"#fdca26\"], [1.0, \"#f0f921\"]], \"type\": \"contour\"}], \"contourcarpet\": [{\"colorbar\": {\"outlinewidth\": 0, \"ticks\": \"\"}, \"type\": \"contourcarpet\"}], \"heatmap\": [{\"colorbar\": {\"outlinewidth\": 0, \"ticks\": \"\"}, \"colorscale\": [[0.0, \"#0d0887\"], [0.1111111111111111, \"#46039f\"], [0.2222222222222222, \"#7201a8\"], [0.3333333333333333, \"#9c179e\"], [0.4444444444444444, \"#bd3786\"], [0.5555555555555556, \"#d8576b\"], [0.6666666666666666, \"#ed7953\"], [0.7777777777777778, \"#fb9f3a\"], [0.8888888888888888, \"#fdca26\"], [1.0, \"#f0f921\"]], \"type\": \"heatmap\"}], \"heatmapgl\": [{\"colorbar\": {\"outlinewidth\": 0, \"ticks\": \"\"}, \"colorscale\": [[0.0, \"#0d0887\"], [0.1111111111111111, \"#46039f\"], [0.2222222222222222, \"#7201a8\"], [0.3333333333333333, \"#9c179e\"], [0.4444444444444444, \"#bd3786\"], [0.5555555555555556, \"#d8576b\"], [0.6666666666666666, \"#ed7953\"], [0.7777777777777778, \"#fb9f3a\"], [0.8888888888888888, \"#fdca26\"], [1.0, \"#f0f921\"]], \"type\": \"heatmapgl\"}], \"histogram\": [{\"marker\": {\"colorbar\": {\"outlinewidth\": 0, \"ticks\": \"\"}}, \"type\": \"histogram\"}], \"histogram2d\": [{\"colorbar\": {\"outlinewidth\": 0, \"ticks\": \"\"}, \"colorscale\": [[0.0, \"#0d0887\"], [0.1111111111111111, \"#46039f\"], [0.2222222222222222, \"#7201a8\"], [0.3333333333333333, \"#9c179e\"], [0.4444444444444444, \"#bd3786\"], [0.5555555555555556, \"#d8576b\"], [0.6666666666666666, \"#ed7953\"], [0.7777777777777778, \"#fb9f3a\"], [0.8888888888888888, \"#fdca26\"], [1.0, \"#f0f921\"]], \"type\": \"histogram2d\"}], \"histogram2dcontour\": [{\"colorbar\": {\"outlinewidth\": 0, \"ticks\": \"\"}, \"colorscale\": [[0.0, \"#0d0887\"], [0.1111111111111111, \"#46039f\"], [0.2222222222222222, \"#7201a8\"], [0.3333333333333333, \"#9c179e\"], [0.4444444444444444, \"#bd3786\"], [0.5555555555555556, \"#d8576b\"], [0.6666666666666666, \"#ed7953\"], [0.7777777777777778, \"#fb9f3a\"], [0.8888888888888888, \"#fdca26\"], [1.0, \"#f0f921\"]], \"type\": \"histogram2dcontour\"}], \"mesh3d\": [{\"colorbar\": {\"outlinewidth\": 0, \"ticks\": \"\"}, \"type\": \"mesh3d\"}], \"parcoords\": [{\"line\": {\"colorbar\": {\"outlinewidth\": 0, \"ticks\": \"\"}}, \"type\": \"parcoords\"}], \"pie\": [{\"automargin\": true, \"type\": \"pie\"}], \"scatter\": [{\"marker\": {\"colorbar\": {\"outlinewidth\": 0, \"ticks\": \"\"}}, \"type\": \"scatter\"}], \"scatter3d\": [{\"line\": {\"colorbar\": {\"outlinewidth\": 0, \"ticks\": \"\"}}, \"marker\": {\"colorbar\": {\"outlinewidth\": 0, \"ticks\": \"\"}}, \"type\": \"scatter3d\"}], \"scattercarpet\": [{\"marker\": {\"colorbar\": {\"outlinewidth\": 0, \"ticks\": \"\"}}, \"type\": \"scattercarpet\"}], \"scattergeo\": [{\"marker\": {\"colorbar\": {\"outlinewidth\": 0, \"ticks\": \"\"}}, \"type\": \"scattergeo\"}], \"scattergl\": [{\"marker\": {\"colorbar\": {\"outlinewidth\": 0, \"ticks\": \"\"}}, \"type\": \"scattergl\"}], \"scattermapbox\": [{\"marker\": {\"colorbar\": {\"outlinewidth\": 0, \"ticks\": \"\"}}, \"type\": \"scattermapbox\"}], \"scatterpolar\": [{\"marker\": {\"colorbar\": {\"outlinewidth\": 0, \"ticks\": \"\"}}, \"type\": \"scatterpolar\"}], \"scatterpolargl\": [{\"marker\": {\"colorbar\": {\"outlinewidth\": 0, \"ticks\": \"\"}}, \"type\": \"scatterpolargl\"}], \"scatterternary\": [{\"marker\": {\"colorbar\": {\"outlinewidth\": 0, \"ticks\": \"\"}}, \"type\": \"scatterternary\"}], \"surface\": [{\"colorbar\": {\"outlinewidth\": 0, \"ticks\": \"\"}, \"colorscale\": [[0.0, \"#0d0887\"], [0.1111111111111111, \"#46039f\"], [0.2222222222222222, \"#7201a8\"], [0.3333333333333333, \"#9c179e\"], [0.4444444444444444, \"#bd3786\"], [0.5555555555555556, \"#d8576b\"], [0.6666666666666666, \"#ed7953\"], [0.7777777777777778, \"#fb9f3a\"], [0.8888888888888888, \"#fdca26\"], [1.0, \"#f0f921\"]], \"type\": \"surface\"}], \"table\": [{\"cells\": {\"fill\": {\"color\": \"#EBF0F8\"}, \"line\": {\"color\": \"white\"}}, \"header\": {\"fill\": {\"color\": \"#C8D4E3\"}, \"line\": {\"color\": \"white\"}}, \"type\": \"table\"}]}, \"layout\": {\"annotationdefaults\": {\"arrowcolor\": \"#2a3f5f\", \"arrowhead\": 0, \"arrowwidth\": 1}, \"coloraxis\": {\"colorbar\": {\"outlinewidth\": 0, \"ticks\": \"\"}}, \"colorscale\": {\"diverging\": [[0, \"#8e0152\"], [0.1, \"#c51b7d\"], [0.2, \"#de77ae\"], [0.3, \"#f1b6da\"], [0.4, \"#fde0ef\"], [0.5, \"#f7f7f7\"], [0.6, \"#e6f5d0\"], [0.7, \"#b8e186\"], [0.8, \"#7fbc41\"], [0.9, \"#4d9221\"], [1, \"#276419\"]], \"sequential\": [[0.0, \"#0d0887\"], [0.1111111111111111, \"#46039f\"], [0.2222222222222222, \"#7201a8\"], [0.3333333333333333, \"#9c179e\"], [0.4444444444444444, \"#bd3786\"], [0.5555555555555556, \"#d8576b\"], [0.6666666666666666, \"#ed7953\"], [0.7777777777777778, \"#fb9f3a\"], [0.8888888888888888, \"#fdca26\"], [1.0, \"#f0f921\"]], \"sequentialminus\": [[0.0, \"#0d0887\"], [0.1111111111111111, \"#46039f\"], [0.2222222222222222, \"#7201a8\"], [0.3333333333333333, \"#9c179e\"], [0.4444444444444444, \"#bd3786\"], [0.5555555555555556, \"#d8576b\"], [0.6666666666666666, \"#ed7953\"], [0.7777777777777778, \"#fb9f3a\"], [0.8888888888888888, \"#fdca26\"], [1.0, \"#f0f921\"]]}, \"colorway\": [\"#636efa\", \"#EF553B\", \"#00cc96\", \"#ab63fa\", \"#FFA15A\", \"#19d3f3\", \"#FF6692\", \"#B6E880\", \"#FF97FF\", \"#FECB52\"], \"font\": {\"color\": \"#2a3f5f\"}, \"geo\": {\"bgcolor\": \"white\", \"lakecolor\": \"white\", \"landcolor\": \"#E5ECF6\", \"showlakes\": true, \"showland\": true, \"subunitcolor\": \"white\"}, \"hoverlabel\": {\"align\": \"left\"}, \"hovermode\": \"closest\", \"mapbox\": {\"style\": \"light\"}, \"paper_bgcolor\": \"white\", \"plot_bgcolor\": \"#E5ECF6\", \"polar\": {\"angularaxis\": {\"gridcolor\": \"white\", \"linecolor\": \"white\", \"ticks\": \"\"}, \"bgcolor\": \"#E5ECF6\", \"radialaxis\": {\"gridcolor\": \"white\", \"linecolor\": \"white\", \"ticks\": \"\"}}, \"scene\": {\"xaxis\": {\"backgroundcolor\": \"#E5ECF6\", \"gridcolor\": \"white\", \"gridwidth\": 2, \"linecolor\": \"white\", \"showbackground\": true, \"ticks\": \"\", \"zerolinecolor\": \"white\"}, \"yaxis\": {\"backgroundcolor\": \"#E5ECF6\", \"gridcolor\": \"white\", \"gridwidth\": 2, \"linecolor\": \"white\", \"showbackground\": true, \"ticks\": \"\", \"zerolinecolor\": \"white\"}, \"zaxis\": {\"backgroundcolor\": \"#E5ECF6\", \"gridcolor\": \"white\", \"gridwidth\": 2, \"linecolor\": \"white\", \"showbackground\": true, \"ticks\": \"\", \"zerolinecolor\": \"white\"}}, \"shapedefaults\": {\"line\": {\"color\": \"#2a3f5f\"}}, \"ternary\": {\"aaxis\": {\"gridcolor\": \"white\", \"linecolor\": \"white\", \"ticks\": \"\"}, \"baxis\": {\"gridcolor\": \"white\", \"linecolor\": \"white\", \"ticks\": \"\"}, \"bgcolor\": \"#E5ECF6\", \"caxis\": {\"gridcolor\": \"white\", \"linecolor\": \"white\", \"ticks\": \"\"}}, \"title\": {\"x\": 0.05}, \"xaxis\": {\"automargin\": true, \"gridcolor\": \"white\", \"linecolor\": \"white\", \"ticks\": \"\", \"title\": {\"standoff\": 15}, \"zerolinecolor\": \"white\", \"zerolinewidth\": 2}, \"yaxis\": {\"automargin\": true, \"gridcolor\": \"white\", \"linecolor\": \"white\", \"ticks\": \"\", \"title\": {\"standoff\": 15}, \"zerolinecolor\": \"white\", \"zerolinewidth\": 2}}}, \"title\": {\"text\": \"Total de \\u00f3bitos de Covid-19 por dia no estado do Cear\\u00e1\"}, \"xaxis\": {\"tickangle\": 90, \"tickfont\": {\"size\": 14}, \"title\": {\"font\": {\"size\": 16}, \"text\": \"Per\\u00edodo\"}}, \"yaxis\": {\"tickfont\": {\"size\": 14}, \"title\": {\"font\": {\"size\": 16}, \"text\": \"N\\u00famero de \\u00f3bitos\"}}},\n",
              "                        {\"responsive\": true}\n",
              "                    ).then(function(){\n",
              "                            \n",
              "var gd = document.getElementById('e6e3ea89-97e4-4511-932c-6ffa77428d62');\n",
              "var x = new MutationObserver(function (mutations, observer) {{\n",
              "        var display = window.getComputedStyle(gd).display;\n",
              "        if (!display || display === 'none') {{\n",
              "            console.log([gd, 'removed!']);\n",
              "            Plotly.purge(gd);\n",
              "            observer.disconnect();\n",
              "        }}\n",
              "}});\n",
              "\n",
              "// Listen for the removal of the full notebook cells\n",
              "var notebookContainer = gd.closest('#notebook-container');\n",
              "if (notebookContainer) {{\n",
              "    x.observe(notebookContainer, {childList: true});\n",
              "}}\n",
              "\n",
              "// Listen for the clearing of the current output cell\n",
              "var outputEl = gd.closest('.output');\n",
              "if (outputEl) {{\n",
              "    x.observe(outputEl, {childList: true});\n",
              "}}\n",
              "\n",
              "                        })\n",
              "                };\n",
              "                \n",
              "            </script>\n",
              "        </div>\n",
              "</body>\n",
              "</html>"
            ]
          },
          "metadata": {
            "tags": []
          }
        }
      ]
    },
    {
      "cell_type": "markdown",
      "metadata": {
        "id": "Ue51iophIPTJ"
      },
      "source": [
        "**Metodo para agrupar casos confirmados por dia**"
      ]
    },
    {
      "cell_type": "code",
      "metadata": {
        "colab": {
          "base_uri": "https://localhost:8080/",
          "height": 416
        },
        "id": "CTN_wDjzbfe8",
        "outputId": "6a300368-6d6e-442a-ed6f-99e692eb44c0"
      },
      "source": [
        "# https://stackoverflow.com/questions/48961892/python-pandas-group-by-day-and-count-for-each-day\r\n",
        "\r\n",
        "df_gr_conf = (pd.to_datetime(df_confirmados['dataResultadoExame'])\r\n",
        "       .dt.floor('d')\r\n",
        "       .value_counts()\r\n",
        "       .rename_axis('data_result_exame')\r\n",
        "       .reset_index(name='total_caso_conf_dia'))\r\n",
        "#print (df_gr_conf)\r\n",
        "df_gr_conf.sort_values('data_result_exame')"
      ],
      "execution_count": 108,
      "outputs": [
        {
          "output_type": "execute_result",
          "data": {
            "text/html": [
              "<div>\n",
              "<style scoped>\n",
              "    .dataframe tbody tr th:only-of-type {\n",
              "        vertical-align: middle;\n",
              "    }\n",
              "\n",
              "    .dataframe tbody tr th {\n",
              "        vertical-align: top;\n",
              "    }\n",
              "\n",
              "    .dataframe thead th {\n",
              "        text-align: right;\n",
              "    }\n",
              "</style>\n",
              "<table border=\"1\" class=\"dataframe\">\n",
              "  <thead>\n",
              "    <tr style=\"text-align: right;\">\n",
              "      <th></th>\n",
              "      <th>data_result_exame</th>\n",
              "      <th>total_caso_conf_dia</th>\n",
              "    </tr>\n",
              "  </thead>\n",
              "  <tbody>\n",
              "    <tr>\n",
              "      <th>325</th>\n",
              "      <td>2020-01-01</td>\n",
              "      <td>5</td>\n",
              "    </tr>\n",
              "    <tr>\n",
              "      <th>315</th>\n",
              "      <td>2020-01-02</td>\n",
              "      <td>8</td>\n",
              "    </tr>\n",
              "    <tr>\n",
              "      <th>323</th>\n",
              "      <td>2020-01-03</td>\n",
              "      <td>5</td>\n",
              "    </tr>\n",
              "    <tr>\n",
              "      <th>308</th>\n",
              "      <td>2020-01-04</td>\n",
              "      <td>19</td>\n",
              "    </tr>\n",
              "    <tr>\n",
              "      <th>306</th>\n",
              "      <td>2020-01-05</td>\n",
              "      <td>20</td>\n",
              "    </tr>\n",
              "    <tr>\n",
              "      <th>...</th>\n",
              "      <td>...</td>\n",
              "      <td>...</td>\n",
              "    </tr>\n",
              "    <tr>\n",
              "      <th>97</th>\n",
              "      <td>2021-01-11</td>\n",
              "      <td>1704</td>\n",
              "    </tr>\n",
              "    <tr>\n",
              "      <th>160</th>\n",
              "      <td>2021-01-12</td>\n",
              "      <td>1249</td>\n",
              "    </tr>\n",
              "    <tr>\n",
              "      <th>162</th>\n",
              "      <td>2021-01-13</td>\n",
              "      <td>1219</td>\n",
              "    </tr>\n",
              "    <tr>\n",
              "      <th>161</th>\n",
              "      <td>2021-01-14</td>\n",
              "      <td>1240</td>\n",
              "    </tr>\n",
              "    <tr>\n",
              "      <th>213</th>\n",
              "      <td>2021-01-15</td>\n",
              "      <td>852</td>\n",
              "    </tr>\n",
              "  </tbody>\n",
              "</table>\n",
              "<p>366 rows × 2 columns</p>\n",
              "</div>"
            ],
            "text/plain": [
              "    data_result_exame  total_caso_conf_dia\n",
              "325        2020-01-01                    5\n",
              "315        2020-01-02                    8\n",
              "323        2020-01-03                    5\n",
              "308        2020-01-04                   19\n",
              "306        2020-01-05                   20\n",
              "..                ...                  ...\n",
              "97         2021-01-11                 1704\n",
              "160        2021-01-12                 1249\n",
              "162        2021-01-13                 1219\n",
              "161        2021-01-14                 1240\n",
              "213        2021-01-15                  852\n",
              "\n",
              "[366 rows x 2 columns]"
            ]
          },
          "metadata": {
            "tags": []
          },
          "execution_count": 108
        }
      ]
    },
    {
      "cell_type": "code",
      "metadata": {
        "id": "f0_foLPxfBwd"
      },
      "source": [
        "df_gr_conf['MA7'] = df_gr_conf.iloc[:,1].rolling(window=7).mean()\r\n"
      ],
      "execution_count": 112,
      "outputs": []
    },
    {
      "cell_type": "code",
      "metadata": {
        "colab": {
          "base_uri": "https://localhost:8080/",
          "height": 416
        },
        "id": "pZh5S8yNV-mq",
        "outputId": "c373ec71-86da-4191-8467-50133d855977"
      },
      "source": [
        "df_gr_conf.sort_values('data_result_exame', inplace= True)\r\n",
        "df_gr_conf"
      ],
      "execution_count": 113,
      "outputs": [
        {
          "output_type": "execute_result",
          "data": {
            "text/html": [
              "<div>\n",
              "<style scoped>\n",
              "    .dataframe tbody tr th:only-of-type {\n",
              "        vertical-align: middle;\n",
              "    }\n",
              "\n",
              "    .dataframe tbody tr th {\n",
              "        vertical-align: top;\n",
              "    }\n",
              "\n",
              "    .dataframe thead th {\n",
              "        text-align: right;\n",
              "    }\n",
              "</style>\n",
              "<table border=\"1\" class=\"dataframe\">\n",
              "  <thead>\n",
              "    <tr style=\"text-align: right;\">\n",
              "      <th></th>\n",
              "      <th>data_result_exame</th>\n",
              "      <th>total_caso_conf_dia</th>\n",
              "      <th>MA7</th>\n",
              "    </tr>\n",
              "  </thead>\n",
              "  <tbody>\n",
              "    <tr>\n",
              "      <th>325</th>\n",
              "      <td>2020-01-01</td>\n",
              "      <td>5</td>\n",
              "      <td>NaN</td>\n",
              "    </tr>\n",
              "    <tr>\n",
              "      <th>315</th>\n",
              "      <td>2020-01-02</td>\n",
              "      <td>8</td>\n",
              "      <td>NaN</td>\n",
              "    </tr>\n",
              "    <tr>\n",
              "      <th>323</th>\n",
              "      <td>2020-01-03</td>\n",
              "      <td>5</td>\n",
              "      <td>NaN</td>\n",
              "    </tr>\n",
              "    <tr>\n",
              "      <th>308</th>\n",
              "      <td>2020-01-04</td>\n",
              "      <td>19</td>\n",
              "      <td>NaN</td>\n",
              "    </tr>\n",
              "    <tr>\n",
              "      <th>306</th>\n",
              "      <td>2020-01-05</td>\n",
              "      <td>20</td>\n",
              "      <td>NaN</td>\n",
              "    </tr>\n",
              "    <tr>\n",
              "      <th>...</th>\n",
              "      <td>...</td>\n",
              "      <td>...</td>\n",
              "      <td>...</td>\n",
              "    </tr>\n",
              "    <tr>\n",
              "      <th>97</th>\n",
              "      <td>2021-01-11</td>\n",
              "      <td>1704</td>\n",
              "      <td>1192.428571</td>\n",
              "    </tr>\n",
              "    <tr>\n",
              "      <th>160</th>\n",
              "      <td>2021-01-12</td>\n",
              "      <td>1249</td>\n",
              "      <td>1176.714286</td>\n",
              "    </tr>\n",
              "    <tr>\n",
              "      <th>162</th>\n",
              "      <td>2021-01-13</td>\n",
              "      <td>1219</td>\n",
              "      <td>1172.000000</td>\n",
              "    </tr>\n",
              "    <tr>\n",
              "      <th>161</th>\n",
              "      <td>2021-01-14</td>\n",
              "      <td>1240</td>\n",
              "      <td>1101.857143</td>\n",
              "    </tr>\n",
              "    <tr>\n",
              "      <th>213</th>\n",
              "      <td>2021-01-15</td>\n",
              "      <td>852</td>\n",
              "      <td>1012.428571</td>\n",
              "    </tr>\n",
              "  </tbody>\n",
              "</table>\n",
              "<p>366 rows × 3 columns</p>\n",
              "</div>"
            ],
            "text/plain": [
              "    data_result_exame  total_caso_conf_dia          MA7\n",
              "325        2020-01-01                    5          NaN\n",
              "315        2020-01-02                    8          NaN\n",
              "323        2020-01-03                    5          NaN\n",
              "308        2020-01-04                   19          NaN\n",
              "306        2020-01-05                   20          NaN\n",
              "..                ...                  ...          ...\n",
              "97         2021-01-11                 1704  1192.428571\n",
              "160        2021-01-12                 1249  1176.714286\n",
              "162        2021-01-13                 1219  1172.000000\n",
              "161        2021-01-14                 1240  1101.857143\n",
              "213        2021-01-15                  852  1012.428571\n",
              "\n",
              "[366 rows x 3 columns]"
            ]
          },
          "metadata": {
            "tags": []
          },
          "execution_count": 113
        }
      ]
    },
    {
      "cell_type": "code",
      "metadata": {
        "id": "JCoatzbbfY4s"
      },
      "source": [
        "df_gr_conf['MA30'] = df_gr_conf.iloc[:,2].rolling(window=30).mean()"
      ],
      "execution_count": 114,
      "outputs": []
    },
    {
      "cell_type": "code",
      "metadata": {
        "colab": {
          "base_uri": "https://localhost:8080/",
          "height": 416
        },
        "id": "ChkTAMy_WHyO",
        "outputId": "b04c4bf7-b7a5-4f29-f291-fc09ed2b2b95"
      },
      "source": [
        "df_gr_conf.sort_values('data_result_exame', inplace= True)\r\n",
        "df_gr_conf"
      ],
      "execution_count": 115,
      "outputs": [
        {
          "output_type": "execute_result",
          "data": {
            "text/html": [
              "<div>\n",
              "<style scoped>\n",
              "    .dataframe tbody tr th:only-of-type {\n",
              "        vertical-align: middle;\n",
              "    }\n",
              "\n",
              "    .dataframe tbody tr th {\n",
              "        vertical-align: top;\n",
              "    }\n",
              "\n",
              "    .dataframe thead th {\n",
              "        text-align: right;\n",
              "    }\n",
              "</style>\n",
              "<table border=\"1\" class=\"dataframe\">\n",
              "  <thead>\n",
              "    <tr style=\"text-align: right;\">\n",
              "      <th></th>\n",
              "      <th>data_result_exame</th>\n",
              "      <th>total_caso_conf_dia</th>\n",
              "      <th>MA7</th>\n",
              "      <th>MA30</th>\n",
              "    </tr>\n",
              "  </thead>\n",
              "  <tbody>\n",
              "    <tr>\n",
              "      <th>325</th>\n",
              "      <td>2020-01-01</td>\n",
              "      <td>5</td>\n",
              "      <td>NaN</td>\n",
              "      <td>NaN</td>\n",
              "    </tr>\n",
              "    <tr>\n",
              "      <th>315</th>\n",
              "      <td>2020-01-02</td>\n",
              "      <td>8</td>\n",
              "      <td>NaN</td>\n",
              "      <td>NaN</td>\n",
              "    </tr>\n",
              "    <tr>\n",
              "      <th>323</th>\n",
              "      <td>2020-01-03</td>\n",
              "      <td>5</td>\n",
              "      <td>NaN</td>\n",
              "      <td>NaN</td>\n",
              "    </tr>\n",
              "    <tr>\n",
              "      <th>308</th>\n",
              "      <td>2020-01-04</td>\n",
              "      <td>19</td>\n",
              "      <td>NaN</td>\n",
              "      <td>NaN</td>\n",
              "    </tr>\n",
              "    <tr>\n",
              "      <th>306</th>\n",
              "      <td>2020-01-05</td>\n",
              "      <td>20</td>\n",
              "      <td>NaN</td>\n",
              "      <td>NaN</td>\n",
              "    </tr>\n",
              "    <tr>\n",
              "      <th>...</th>\n",
              "      <td>...</td>\n",
              "      <td>...</td>\n",
              "      <td>...</td>\n",
              "      <td>...</td>\n",
              "    </tr>\n",
              "    <tr>\n",
              "      <th>97</th>\n",
              "      <td>2021-01-11</td>\n",
              "      <td>1704</td>\n",
              "      <td>1192.428571</td>\n",
              "      <td>1174.342857</td>\n",
              "    </tr>\n",
              "    <tr>\n",
              "      <th>160</th>\n",
              "      <td>2021-01-12</td>\n",
              "      <td>1249</td>\n",
              "      <td>1176.714286</td>\n",
              "      <td>1168.352381</td>\n",
              "    </tr>\n",
              "    <tr>\n",
              "      <th>162</th>\n",
              "      <td>2021-01-13</td>\n",
              "      <td>1219</td>\n",
              "      <td>1172.000000</td>\n",
              "      <td>1160.576190</td>\n",
              "    </tr>\n",
              "    <tr>\n",
              "      <th>161</th>\n",
              "      <td>2021-01-14</td>\n",
              "      <td>1240</td>\n",
              "      <td>1101.857143</td>\n",
              "      <td>1153.314286</td>\n",
              "    </tr>\n",
              "    <tr>\n",
              "      <th>213</th>\n",
              "      <td>2021-01-15</td>\n",
              "      <td>852</td>\n",
              "      <td>1012.428571</td>\n",
              "      <td>1143.057143</td>\n",
              "    </tr>\n",
              "  </tbody>\n",
              "</table>\n",
              "<p>366 rows × 4 columns</p>\n",
              "</div>"
            ],
            "text/plain": [
              "    data_result_exame  total_caso_conf_dia          MA7         MA30\n",
              "325        2020-01-01                    5          NaN          NaN\n",
              "315        2020-01-02                    8          NaN          NaN\n",
              "323        2020-01-03                    5          NaN          NaN\n",
              "308        2020-01-04                   19          NaN          NaN\n",
              "306        2020-01-05                   20          NaN          NaN\n",
              "..                ...                  ...          ...          ...\n",
              "97         2021-01-11                 1704  1192.428571  1174.342857\n",
              "160        2021-01-12                 1249  1176.714286  1168.352381\n",
              "162        2021-01-13                 1219  1172.000000  1160.576190\n",
              "161        2021-01-14                 1240  1101.857143  1153.314286\n",
              "213        2021-01-15                  852  1012.428571  1143.057143\n",
              "\n",
              "[366 rows x 4 columns]"
            ]
          },
          "metadata": {
            "tags": []
          },
          "execution_count": 115
        }
      ]
    },
    {
      "cell_type": "code",
      "metadata": {
        "colab": {
          "base_uri": "https://localhost:8080/",
          "height": 542
        },
        "id": "yjacLQn8mIZ_",
        "outputId": "12fe0465-34e4-43dc-d5ff-f98a2c82b6a2"
      },
      "source": [
        "from plotly.subplots import make_subplots\r\n",
        "# Plot \r\n",
        "fig = make_subplots(specs=[[{\"secondary_y\": True}]])\r\n",
        "\r\n",
        "fig = px.bar(df_gr_conf, x='data_result_exame', y='total_caso_conf_dia',)\r\n",
        "\r\n",
        "# Only thing I figured is - I could do this \r\n",
        "#fig.add_scatter(x=df_gr_conf['data_result_exame'], y= df_gr_conf['MA'])\r\n",
        "\r\n",
        "# Show plot \r\n",
        "\r\n",
        "fig.add_trace(go.Scatter(x=df_gr_conf['data_result_exame'], y= df_gr_conf['MA7'], name='Média Móvel de uma semana', mode='lines',\r\n",
        "                        line=dict(color='red',width=2)))\r\n",
        "\r\n",
        "fig.add_trace(go.Scatter(x=df_gr_conf['data_result_exame'], y= df_gr_conf['MA30'], name='Média Móvel de um mês', mode='lines',\r\n",
        "                        line=dict(color='orange',width=2)))\r\n",
        "\r\n",
        "fig.update_layout(title='Quantidade de casos confirmados no período',\r\n",
        "                   xaxis_title='Mês',\r\n",
        "                   yaxis_title='Quantidade de casos / dia')\r\n",
        "fig.show()"
      ],
      "execution_count": 116,
      "outputs": [
        {
          "output_type": "display_data",
          "data": {
            "text/html": [
              "<html>\n",
              "<head><meta charset=\"utf-8\" /></head>\n",
              "<body>\n",
              "    <div>\n",
              "            <script src=\"https://cdnjs.cloudflare.com/ajax/libs/mathjax/2.7.5/MathJax.js?config=TeX-AMS-MML_SVG\"></script><script type=\"text/javascript\">if (window.MathJax) {MathJax.Hub.Config({SVG: {font: \"STIX-Web\"}});}</script>\n",
              "                <script type=\"text/javascript\">window.PlotlyConfig = {MathJaxConfig: 'local'};</script>\n",
              "        <script src=\"https://cdn.plot.ly/plotly-latest.min.js\"></script>    \n",
              "            <div id=\"d83efa18-3238-4faf-b951-e5e35f56185f\" class=\"plotly-graph-div\" style=\"height:525px; width:100%;\"></div>\n",
              "            <script type=\"text/javascript\">\n",
              "                \n",
              "                    window.PLOTLYENV=window.PLOTLYENV || {};\n",
              "                    \n",
              "                if (document.getElementById(\"d83efa18-3238-4faf-b951-e5e35f56185f\")) {\n",
              "                    Plotly.newPlot(\n",
              "                        'd83efa18-3238-4faf-b951-e5e35f56185f',\n",
              "                        [{\"alignmentgroup\": \"True\", \"hoverlabel\": {\"namelength\": 0}, \"hovertemplate\": \"data_result_exame=%{x}<br>total_caso_conf_dia=%{y}\", \"legendgroup\": \"\", \"marker\": {\"color\": \"#636efa\"}, \"name\": \"\", \"offsetgroup\": \"\", \"orientation\": \"v\", \"showlegend\": false, \"textposition\": \"auto\", \"type\": \"bar\", \"x\": [\"2020-01-01T00:00:00\", \"2020-01-02T00:00:00\", \"2020-01-03T00:00:00\", \"2020-01-04T00:00:00\", \"2020-01-05T00:00:00\", \"2020-01-06T00:00:00\", \"2020-01-07T00:00:00\", \"2020-01-08T00:00:00\", \"2020-01-09T00:00:00\", \"2020-01-10T00:00:00\", \"2020-01-11T00:00:00\", \"2020-01-12T00:00:00\", \"2020-01-13T00:00:00\", \"2020-01-16T00:00:00\", \"2020-01-18T00:00:00\", \"2020-01-20T00:00:00\", \"2020-01-24T00:00:00\", \"2020-01-26T00:00:00\", \"2020-01-29T00:00:00\", \"2020-01-30T00:00:00\", \"2020-02-02T00:00:00\", \"2020-02-03T00:00:00\", \"2020-02-04T00:00:00\", \"2020-02-05T00:00:00\", \"2020-02-06T00:00:00\", \"2020-02-07T00:00:00\", \"2020-02-08T00:00:00\", \"2020-02-09T00:00:00\", \"2020-02-10T00:00:00\", \"2020-02-12T00:00:00\", \"2020-02-13T00:00:00\", \"2020-02-14T00:00:00\", \"2020-02-15T00:00:00\", \"2020-02-16T00:00:00\", \"2020-02-17T00:00:00\", \"2020-02-18T00:00:00\", \"2020-02-20T00:00:00\", \"2020-02-21T00:00:00\", \"2020-02-22T00:00:00\", \"2020-02-24T00:00:00\", \"2020-02-25T00:00:00\", \"2020-02-26T00:00:00\", \"2020-02-27T00:00:00\", \"2020-02-28T00:00:00\", \"2020-02-29T00:00:00\", \"2020-03-01T00:00:00\", \"2020-03-02T00:00:00\", \"2020-03-03T00:00:00\", \"2020-03-04T00:00:00\", \"2020-03-05T00:00:00\", \"2020-03-06T00:00:00\", \"2020-03-07T00:00:00\", \"2020-03-08T00:00:00\", \"2020-03-09T00:00:00\", \"2020-03-10T00:00:00\", \"2020-03-11T00:00:00\", \"2020-03-12T00:00:00\", \"2020-03-13T00:00:00\", \"2020-03-14T00:00:00\", \"2020-03-15T00:00:00\", \"2020-03-16T00:00:00\", \"2020-03-17T00:00:00\", \"2020-03-18T00:00:00\", \"2020-03-19T00:00:00\", \"2020-03-20T00:00:00\", \"2020-03-21T00:00:00\", \"2020-03-22T00:00:00\", \"2020-03-23T00:00:00\", \"2020-03-24T00:00:00\", \"2020-03-25T00:00:00\", \"2020-03-26T00:00:00\", \"2020-03-27T00:00:00\", \"2020-03-28T00:00:00\", \"2020-03-29T00:00:00\", \"2020-03-30T00:00:00\", \"2020-03-31T00:00:00\", \"2020-04-01T00:00:00\", \"2020-04-02T00:00:00\", \"2020-04-03T00:00:00\", \"2020-04-04T00:00:00\", \"2020-04-05T00:00:00\", \"2020-04-06T00:00:00\", \"2020-04-07T00:00:00\", \"2020-04-08T00:00:00\", \"2020-04-09T00:00:00\", \"2020-04-10T00:00:00\", \"2020-04-11T00:00:00\", \"2020-04-12T00:00:00\", \"2020-04-13T00:00:00\", \"2020-04-14T00:00:00\", \"2020-04-15T00:00:00\", \"2020-04-16T00:00:00\", \"2020-04-17T00:00:00\", \"2020-04-18T00:00:00\", \"2020-04-19T00:00:00\", \"2020-04-20T00:00:00\", \"2020-04-21T00:00:00\", \"2020-04-22T00:00:00\", \"2020-04-23T00:00:00\", \"2020-04-24T00:00:00\", \"2020-04-25T00:00:00\", \"2020-04-26T00:00:00\", \"2020-04-27T00:00:00\", \"2020-04-28T00:00:00\", \"2020-04-29T00:00:00\", \"2020-04-30T00:00:00\", \"2020-05-01T00:00:00\", \"2020-05-02T00:00:00\", \"2020-05-03T00:00:00\", \"2020-05-04T00:00:00\", \"2020-05-05T00:00:00\", \"2020-05-06T00:00:00\", \"2020-05-07T00:00:00\", \"2020-05-08T00:00:00\", \"2020-05-09T00:00:00\", \"2020-05-10T00:00:00\", \"2020-05-11T00:00:00\", \"2020-05-12T00:00:00\", \"2020-05-13T00:00:00\", \"2020-05-14T00:00:00\", \"2020-05-15T00:00:00\", \"2020-05-16T00:00:00\", \"2020-05-17T00:00:00\", \"2020-05-18T00:00:00\", \"2020-05-19T00:00:00\", \"2020-05-20T00:00:00\", \"2020-05-21T00:00:00\", \"2020-05-22T00:00:00\", \"2020-05-23T00:00:00\", \"2020-05-24T00:00:00\", \"2020-05-25T00:00:00\", \"2020-05-26T00:00:00\", \"2020-05-27T00:00:00\", \"2020-05-28T00:00:00\", \"2020-05-29T00:00:00\", \"2020-05-30T00:00:00\", \"2020-05-31T00:00:00\", \"2020-06-01T00:00:00\", \"2020-06-02T00:00:00\", \"2020-06-03T00:00:00\", \"2020-06-04T00:00:00\", \"2020-06-05T00:00:00\", \"2020-06-06T00:00:00\", \"2020-06-07T00:00:00\", \"2020-06-08T00:00:00\", \"2020-06-09T00:00:00\", \"2020-06-10T00:00:00\", \"2020-06-11T00:00:00\", \"2020-06-12T00:00:00\", \"2020-06-13T00:00:00\", \"2020-06-14T00:00:00\", \"2020-06-15T00:00:00\", \"2020-06-16T00:00:00\", \"2020-06-17T00:00:00\", \"2020-06-18T00:00:00\", \"2020-06-19T00:00:00\", \"2020-06-20T00:00:00\", \"2020-06-21T00:00:00\", \"2020-06-22T00:00:00\", \"2020-06-23T00:00:00\", \"2020-06-24T00:00:00\", \"2020-06-25T00:00:00\", \"2020-06-26T00:00:00\", \"2020-06-27T00:00:00\", \"2020-06-28T00:00:00\", \"2020-06-29T00:00:00\", \"2020-06-30T00:00:00\", \"2020-07-01T00:00:00\", \"2020-07-02T00:00:00\", \"2020-07-03T00:00:00\", \"2020-07-04T00:00:00\", \"2020-07-05T00:00:00\", \"2020-07-06T00:00:00\", \"2020-07-07T00:00:00\", \"2020-07-08T00:00:00\", \"2020-07-09T00:00:00\", \"2020-07-10T00:00:00\", \"2020-07-11T00:00:00\", \"2020-07-12T00:00:00\", \"2020-07-13T00:00:00\", \"2020-07-14T00:00:00\", \"2020-07-15T00:00:00\", \"2020-07-16T00:00:00\", \"2020-07-17T00:00:00\", \"2020-07-18T00:00:00\", \"2020-07-19T00:00:00\", \"2020-07-20T00:00:00\", \"2020-07-21T00:00:00\", \"2020-07-22T00:00:00\", \"2020-07-23T00:00:00\", \"2020-07-24T00:00:00\", \"2020-07-25T00:00:00\", \"2020-07-26T00:00:00\", \"2020-07-27T00:00:00\", \"2020-07-28T00:00:00\", \"2020-07-29T00:00:00\", \"2020-07-30T00:00:00\", \"2020-07-31T00:00:00\", \"2020-08-01T00:00:00\", \"2020-08-02T00:00:00\", \"2020-08-03T00:00:00\", \"2020-08-04T00:00:00\", \"2020-08-05T00:00:00\", \"2020-08-06T00:00:00\", \"2020-08-07T00:00:00\", \"2020-08-08T00:00:00\", \"2020-08-09T00:00:00\", \"2020-08-10T00:00:00\", \"2020-08-11T00:00:00\", \"2020-08-12T00:00:00\", \"2020-08-13T00:00:00\", \"2020-08-14T00:00:00\", \"2020-08-15T00:00:00\", \"2020-08-16T00:00:00\", \"2020-08-17T00:00:00\", \"2020-08-18T00:00:00\", \"2020-08-19T00:00:00\", \"2020-08-20T00:00:00\", \"2020-08-21T00:00:00\", \"2020-08-22T00:00:00\", \"2020-08-23T00:00:00\", \"2020-08-24T00:00:00\", \"2020-08-25T00:00:00\", \"2020-08-26T00:00:00\", \"2020-08-27T00:00:00\", \"2020-08-28T00:00:00\", \"2020-08-29T00:00:00\", \"2020-08-30T00:00:00\", \"2020-08-31T00:00:00\", \"2020-09-01T00:00:00\", \"2020-09-02T00:00:00\", \"2020-09-03T00:00:00\", \"2020-09-04T00:00:00\", \"2020-09-05T00:00:00\", \"2020-09-06T00:00:00\", \"2020-09-07T00:00:00\", \"2020-09-08T00:00:00\", \"2020-09-09T00:00:00\", \"2020-09-10T00:00:00\", \"2020-09-11T00:00:00\", \"2020-09-12T00:00:00\", \"2020-09-13T00:00:00\", \"2020-09-14T00:00:00\", \"2020-09-15T00:00:00\", \"2020-09-16T00:00:00\", \"2020-09-17T00:00:00\", \"2020-09-18T00:00:00\", \"2020-09-19T00:00:00\", \"2020-09-20T00:00:00\", \"2020-09-21T00:00:00\", \"2020-09-22T00:00:00\", \"2020-09-23T00:00:00\", \"2020-09-24T00:00:00\", \"2020-09-25T00:00:00\", \"2020-09-26T00:00:00\", \"2020-09-27T00:00:00\", \"2020-09-28T00:00:00\", \"2020-09-29T00:00:00\", \"2020-09-30T00:00:00\", \"2020-10-01T00:00:00\", \"2020-10-02T00:00:00\", \"2020-10-03T00:00:00\", \"2020-10-04T00:00:00\", \"2020-10-05T00:00:00\", \"2020-10-06T00:00:00\", \"2020-10-07T00:00:00\", \"2020-10-08T00:00:00\", \"2020-10-09T00:00:00\", \"2020-10-10T00:00:00\", \"2020-10-11T00:00:00\", \"2020-10-12T00:00:00\", \"2020-10-13T00:00:00\", \"2020-10-14T00:00:00\", \"2020-10-15T00:00:00\", \"2020-10-16T00:00:00\", \"2020-10-17T00:00:00\", \"2020-10-18T00:00:00\", \"2020-10-19T00:00:00\", \"2020-10-20T00:00:00\", \"2020-10-21T00:00:00\", \"2020-10-22T00:00:00\", \"2020-10-23T00:00:00\", \"2020-10-24T00:00:00\", \"2020-10-25T00:00:00\", \"2020-10-26T00:00:00\", \"2020-10-27T00:00:00\", \"2020-10-28T00:00:00\", \"2020-10-29T00:00:00\", \"2020-10-30T00:00:00\", \"2020-10-31T00:00:00\", \"2020-11-01T00:00:00\", \"2020-11-02T00:00:00\", \"2020-11-03T00:00:00\", \"2020-11-04T00:00:00\", \"2020-11-05T00:00:00\", \"2020-11-06T00:00:00\", \"2020-11-07T00:00:00\", \"2020-11-08T00:00:00\", \"2020-11-09T00:00:00\", \"2020-11-10T00:00:00\", \"2020-11-11T00:00:00\", \"2020-11-12T00:00:00\", \"2020-11-13T00:00:00\", \"2020-11-14T00:00:00\", \"2020-11-15T00:00:00\", \"2020-11-16T00:00:00\", \"2020-11-17T00:00:00\", \"2020-11-18T00:00:00\", \"2020-11-19T00:00:00\", \"2020-11-20T00:00:00\", \"2020-11-21T00:00:00\", \"2020-11-22T00:00:00\", \"2020-11-23T00:00:00\", \"2020-11-24T00:00:00\", \"2020-11-25T00:00:00\", \"2020-11-26T00:00:00\", \"2020-11-27T00:00:00\", \"2020-11-28T00:00:00\", \"2020-11-29T00:00:00\", \"2020-11-30T00:00:00\", \"2020-12-01T00:00:00\", \"2020-12-02T00:00:00\", \"2020-12-03T00:00:00\", \"2020-12-04T00:00:00\", \"2020-12-05T00:00:00\", \"2020-12-06T00:00:00\", \"2020-12-07T00:00:00\", \"2020-12-08T00:00:00\", \"2020-12-09T00:00:00\", \"2020-12-10T00:00:00\", \"2020-12-11T00:00:00\", \"2020-12-12T00:00:00\", \"2020-12-13T00:00:00\", \"2020-12-14T00:00:00\", \"2020-12-15T00:00:00\", \"2020-12-16T00:00:00\", \"2020-12-17T00:00:00\", \"2020-12-18T00:00:00\", \"2020-12-19T00:00:00\", \"2020-12-20T00:00:00\", \"2020-12-21T00:00:00\", \"2020-12-22T00:00:00\", \"2020-12-23T00:00:00\", \"2020-12-24T00:00:00\", \"2020-12-25T00:00:00\", \"2020-12-26T00:00:00\", \"2020-12-27T00:00:00\", \"2020-12-28T00:00:00\", \"2020-12-29T00:00:00\", \"2020-12-30T00:00:00\", \"2020-12-31T00:00:00\", \"2021-01-01T00:00:00\", \"2021-01-02T00:00:00\", \"2021-01-03T00:00:00\", \"2021-01-04T00:00:00\", \"2021-01-05T00:00:00\", \"2021-01-06T00:00:00\", \"2021-01-07T00:00:00\", \"2021-01-08T00:00:00\", \"2021-01-09T00:00:00\", \"2021-01-10T00:00:00\", \"2021-01-11T00:00:00\", \"2021-01-12T00:00:00\", \"2021-01-13T00:00:00\", \"2021-01-14T00:00:00\", \"2021-01-15T00:00:00\"], \"xaxis\": \"x\", \"y\": [5, 8, 5, 19, 20, 8, 19, 18, 1, 3, 19, 1, 3, 1, 1, 2, 1, 1, 3, 1, 5, 5, 3, 3, 5, 4, 2, 1, 2, 5, 1, 1, 4, 5, 2, 1, 3, 1, 7, 2, 1, 2, 2, 2, 1, 3, 9, 2, 2, 3, 5, 1, 2, 2, 18, 2, 4, 2, 17, 6, 20, 44, 26, 42, 65, 81, 65, 61, 113, 76, 125, 124, 105, 83, 175, 122, 182, 269, 239, 196, 331, 322, 322, 322, 351, 272, 317, 226, 524, 449, 700, 772, 789, 557, 475, 665, 595, 977, 1046, 908, 886, 748, 956, 1812, 925, 1562, 1339, 1126, 1004, 1839, 2000, 1752, 1834, 1924, 1528, 879, 2259, 2169, 2431, 2661, 2926, 1556, 1152, 3208, 2690, 2694, 2782, 2652, 979, 818, 2914, 2574, 2624, 2663, 2841, 1590, 1500, 3648, 3814, 3461, 3241, 3442, 1549, 942, 4069, 3360, 3641, 2025, 2777, 1272, 861, 3546, 2878, 3037, 3181, 3191, 1362, 606, 3597, 3075, 2804, 3127, 3258, 1154, 688, 3189, 3471, 3147, 3164, 3196, 1349, 495, 3365, 3177, 3206, 3480, 3531, 1092, 500, 3839, 2816, 2941, 2831, 3014, 1064, 512, 3346, 2695, 2594, 2691, 2611, 860, 299, 2961, 2577, 2725, 2542, 2575, 752, 622, 2181, 2331, 2252, 2101, 2187, 828, 240, 2108, 1724, 1872, 2223, 1743, 586, 512, 2004, 1829, 1862, 1746, 1834, 758, 321, 1710, 1598, 1595, 1893, 1463, 465, 434, 1883, 1583, 1758, 1514, 1191, 404, 352, 342, 1322, 1333, 1320, 1578, 539, 560, 1626, 1293, 1541, 1412, 1364, 749, 406, 1251, 1364, 1543, 1170, 1306, 632, 520, 1443, 1356, 1139, 1276, 1206, 573, 514, 1155, 1164, 946, 1314, 1097, 598, 325, 430, 1261, 1072, 1378, 1106, 626, 427, 884, 1410, 1304, 1215, 1260, 572, 478, 1154, 1042, 901, 1066, 1072, 395, 476, 336, 1519, 1192, 1293, 1012, 582, 495, 1283, 924, 929, 1057, 1059, 646, 142, 901, 1069, 1146, 1340, 1655, 1476, 1635, 2347, 1855, 2439, 2160, 1844, 1218, 1201, 1703, 1883, 1552, 1326, 975, 1603, 707, 1463, 2045, 1634, 1595, 1551, 564, 643, 1805, 1446, 1637, 1681, 1317, 1074, 591, 1588, 1460, 1706, 1166, 164, 244, 265, 1219, 1590, 2685, 1974, 117, 335, 482, 994, 1359, 1252, 1731, 1478, 415, 408, 1704, 1249, 1219, 1240, 852], \"yaxis\": \"y\"}, {\"line\": {\"color\": \"red\", \"width\": 2}, \"mode\": \"lines\", \"name\": \"M\\u00e9dia M\\u00f3vel de uma semana\", \"type\": \"scatter\", \"x\": [\"2020-01-01T00:00:00\", \"2020-01-02T00:00:00\", \"2020-01-03T00:00:00\", \"2020-01-04T00:00:00\", \"2020-01-05T00:00:00\", \"2020-01-06T00:00:00\", \"2020-01-07T00:00:00\", \"2020-01-08T00:00:00\", \"2020-01-09T00:00:00\", \"2020-01-10T00:00:00\", \"2020-01-11T00:00:00\", \"2020-01-12T00:00:00\", \"2020-01-13T00:00:00\", \"2020-01-16T00:00:00\", \"2020-01-18T00:00:00\", \"2020-01-20T00:00:00\", \"2020-01-24T00:00:00\", \"2020-01-26T00:00:00\", \"2020-01-29T00:00:00\", \"2020-01-30T00:00:00\", \"2020-02-02T00:00:00\", \"2020-02-03T00:00:00\", \"2020-02-04T00:00:00\", \"2020-02-05T00:00:00\", \"2020-02-06T00:00:00\", \"2020-02-07T00:00:00\", \"2020-02-08T00:00:00\", \"2020-02-09T00:00:00\", \"2020-02-10T00:00:00\", \"2020-02-12T00:00:00\", \"2020-02-13T00:00:00\", \"2020-02-14T00:00:00\", \"2020-02-15T00:00:00\", \"2020-02-16T00:00:00\", \"2020-02-17T00:00:00\", \"2020-02-18T00:00:00\", \"2020-02-20T00:00:00\", \"2020-02-21T00:00:00\", \"2020-02-22T00:00:00\", \"2020-02-24T00:00:00\", \"2020-02-25T00:00:00\", \"2020-02-26T00:00:00\", \"2020-02-27T00:00:00\", \"2020-02-28T00:00:00\", \"2020-02-29T00:00:00\", \"2020-03-01T00:00:00\", \"2020-03-02T00:00:00\", \"2020-03-03T00:00:00\", \"2020-03-04T00:00:00\", \"2020-03-05T00:00:00\", \"2020-03-06T00:00:00\", \"2020-03-07T00:00:00\", \"2020-03-08T00:00:00\", \"2020-03-09T00:00:00\", \"2020-03-10T00:00:00\", \"2020-03-11T00:00:00\", \"2020-03-12T00:00:00\", \"2020-03-13T00:00:00\", \"2020-03-14T00:00:00\", \"2020-03-15T00:00:00\", \"2020-03-16T00:00:00\", \"2020-03-17T00:00:00\", \"2020-03-18T00:00:00\", \"2020-03-19T00:00:00\", \"2020-03-20T00:00:00\", \"2020-03-21T00:00:00\", \"2020-03-22T00:00:00\", \"2020-03-23T00:00:00\", \"2020-03-24T00:00:00\", \"2020-03-25T00:00:00\", \"2020-03-26T00:00:00\", \"2020-03-27T00:00:00\", \"2020-03-28T00:00:00\", \"2020-03-29T00:00:00\", \"2020-03-30T00:00:00\", \"2020-03-31T00:00:00\", \"2020-04-01T00:00:00\", \"2020-04-02T00:00:00\", \"2020-04-03T00:00:00\", \"2020-04-04T00:00:00\", \"2020-04-05T00:00:00\", \"2020-04-06T00:00:00\", \"2020-04-07T00:00:00\", \"2020-04-08T00:00:00\", \"2020-04-09T00:00:00\", \"2020-04-10T00:00:00\", \"2020-04-11T00:00:00\", \"2020-04-12T00:00:00\", \"2020-04-13T00:00:00\", \"2020-04-14T00:00:00\", \"2020-04-15T00:00:00\", \"2020-04-16T00:00:00\", \"2020-04-17T00:00:00\", \"2020-04-18T00:00:00\", \"2020-04-19T00:00:00\", \"2020-04-20T00:00:00\", \"2020-04-21T00:00:00\", \"2020-04-22T00:00:00\", \"2020-04-23T00:00:00\", \"2020-04-24T00:00:00\", \"2020-04-25T00:00:00\", \"2020-04-26T00:00:00\", \"2020-04-27T00:00:00\", \"2020-04-28T00:00:00\", \"2020-04-29T00:00:00\", \"2020-04-30T00:00:00\", \"2020-05-01T00:00:00\", \"2020-05-02T00:00:00\", \"2020-05-03T00:00:00\", \"2020-05-04T00:00:00\", \"2020-05-05T00:00:00\", \"2020-05-06T00:00:00\", \"2020-05-07T00:00:00\", \"2020-05-08T00:00:00\", \"2020-05-09T00:00:00\", \"2020-05-10T00:00:00\", \"2020-05-11T00:00:00\", \"2020-05-12T00:00:00\", \"2020-05-13T00:00:00\", \"2020-05-14T00:00:00\", \"2020-05-15T00:00:00\", \"2020-05-16T00:00:00\", \"2020-05-17T00:00:00\", \"2020-05-18T00:00:00\", \"2020-05-19T00:00:00\", \"2020-05-20T00:00:00\", \"2020-05-21T00:00:00\", \"2020-05-22T00:00:00\", \"2020-05-23T00:00:00\", \"2020-05-24T00:00:00\", \"2020-05-25T00:00:00\", \"2020-05-26T00:00:00\", \"2020-05-27T00:00:00\", \"2020-05-28T00:00:00\", \"2020-05-29T00:00:00\", \"2020-05-30T00:00:00\", \"2020-05-31T00:00:00\", \"2020-06-01T00:00:00\", \"2020-06-02T00:00:00\", \"2020-06-03T00:00:00\", \"2020-06-04T00:00:00\", \"2020-06-05T00:00:00\", \"2020-06-06T00:00:00\", \"2020-06-07T00:00:00\", \"2020-06-08T00:00:00\", \"2020-06-09T00:00:00\", \"2020-06-10T00:00:00\", \"2020-06-11T00:00:00\", \"2020-06-12T00:00:00\", \"2020-06-13T00:00:00\", \"2020-06-14T00:00:00\", \"2020-06-15T00:00:00\", \"2020-06-16T00:00:00\", \"2020-06-17T00:00:00\", \"2020-06-18T00:00:00\", \"2020-06-19T00:00:00\", \"2020-06-20T00:00:00\", \"2020-06-21T00:00:00\", \"2020-06-22T00:00:00\", \"2020-06-23T00:00:00\", \"2020-06-24T00:00:00\", \"2020-06-25T00:00:00\", \"2020-06-26T00:00:00\", \"2020-06-27T00:00:00\", \"2020-06-28T00:00:00\", \"2020-06-29T00:00:00\", \"2020-06-30T00:00:00\", \"2020-07-01T00:00:00\", \"2020-07-02T00:00:00\", \"2020-07-03T00:00:00\", \"2020-07-04T00:00:00\", \"2020-07-05T00:00:00\", \"2020-07-06T00:00:00\", \"2020-07-07T00:00:00\", \"2020-07-08T00:00:00\", \"2020-07-09T00:00:00\", \"2020-07-10T00:00:00\", \"2020-07-11T00:00:00\", \"2020-07-12T00:00:00\", \"2020-07-13T00:00:00\", \"2020-07-14T00:00:00\", \"2020-07-15T00:00:00\", \"2020-07-16T00:00:00\", \"2020-07-17T00:00:00\", \"2020-07-18T00:00:00\", \"2020-07-19T00:00:00\", \"2020-07-20T00:00:00\", \"2020-07-21T00:00:00\", \"2020-07-22T00:00:00\", \"2020-07-23T00:00:00\", \"2020-07-24T00:00:00\", \"2020-07-25T00:00:00\", \"2020-07-26T00:00:00\", \"2020-07-27T00:00:00\", \"2020-07-28T00:00:00\", \"2020-07-29T00:00:00\", \"2020-07-30T00:00:00\", \"2020-07-31T00:00:00\", \"2020-08-01T00:00:00\", \"2020-08-02T00:00:00\", \"2020-08-03T00:00:00\", \"2020-08-04T00:00:00\", \"2020-08-05T00:00:00\", \"2020-08-06T00:00:00\", \"2020-08-07T00:00:00\", \"2020-08-08T00:00:00\", \"2020-08-09T00:00:00\", \"2020-08-10T00:00:00\", \"2020-08-11T00:00:00\", \"2020-08-12T00:00:00\", \"2020-08-13T00:00:00\", \"2020-08-14T00:00:00\", \"2020-08-15T00:00:00\", \"2020-08-16T00:00:00\", \"2020-08-17T00:00:00\", \"2020-08-18T00:00:00\", \"2020-08-19T00:00:00\", \"2020-08-20T00:00:00\", \"2020-08-21T00:00:00\", \"2020-08-22T00:00:00\", \"2020-08-23T00:00:00\", \"2020-08-24T00:00:00\", \"2020-08-25T00:00:00\", \"2020-08-26T00:00:00\", \"2020-08-27T00:00:00\", \"2020-08-28T00:00:00\", \"2020-08-29T00:00:00\", \"2020-08-30T00:00:00\", \"2020-08-31T00:00:00\", \"2020-09-01T00:00:00\", \"2020-09-02T00:00:00\", \"2020-09-03T00:00:00\", \"2020-09-04T00:00:00\", \"2020-09-05T00:00:00\", \"2020-09-06T00:00:00\", \"2020-09-07T00:00:00\", \"2020-09-08T00:00:00\", \"2020-09-09T00:00:00\", \"2020-09-10T00:00:00\", \"2020-09-11T00:00:00\", \"2020-09-12T00:00:00\", \"2020-09-13T00:00:00\", \"2020-09-14T00:00:00\", \"2020-09-15T00:00:00\", \"2020-09-16T00:00:00\", \"2020-09-17T00:00:00\", \"2020-09-18T00:00:00\", \"2020-09-19T00:00:00\", \"2020-09-20T00:00:00\", \"2020-09-21T00:00:00\", \"2020-09-22T00:00:00\", \"2020-09-23T00:00:00\", \"2020-09-24T00:00:00\", \"2020-09-25T00:00:00\", \"2020-09-26T00:00:00\", \"2020-09-27T00:00:00\", \"2020-09-28T00:00:00\", \"2020-09-29T00:00:00\", \"2020-09-30T00:00:00\", \"2020-10-01T00:00:00\", \"2020-10-02T00:00:00\", \"2020-10-03T00:00:00\", \"2020-10-04T00:00:00\", \"2020-10-05T00:00:00\", \"2020-10-06T00:00:00\", \"2020-10-07T00:00:00\", \"2020-10-08T00:00:00\", \"2020-10-09T00:00:00\", \"2020-10-10T00:00:00\", \"2020-10-11T00:00:00\", \"2020-10-12T00:00:00\", \"2020-10-13T00:00:00\", \"2020-10-14T00:00:00\", \"2020-10-15T00:00:00\", \"2020-10-16T00:00:00\", \"2020-10-17T00:00:00\", \"2020-10-18T00:00:00\", \"2020-10-19T00:00:00\", \"2020-10-20T00:00:00\", \"2020-10-21T00:00:00\", \"2020-10-22T00:00:00\", \"2020-10-23T00:00:00\", \"2020-10-24T00:00:00\", \"2020-10-25T00:00:00\", \"2020-10-26T00:00:00\", \"2020-10-27T00:00:00\", \"2020-10-28T00:00:00\", \"2020-10-29T00:00:00\", \"2020-10-30T00:00:00\", \"2020-10-31T00:00:00\", \"2020-11-01T00:00:00\", \"2020-11-02T00:00:00\", \"2020-11-03T00:00:00\", \"2020-11-04T00:00:00\", \"2020-11-05T00:00:00\", \"2020-11-06T00:00:00\", \"2020-11-07T00:00:00\", \"2020-11-08T00:00:00\", \"2020-11-09T00:00:00\", \"2020-11-10T00:00:00\", \"2020-11-11T00:00:00\", \"2020-11-12T00:00:00\", \"2020-11-13T00:00:00\", \"2020-11-14T00:00:00\", \"2020-11-15T00:00:00\", \"2020-11-16T00:00:00\", \"2020-11-17T00:00:00\", \"2020-11-18T00:00:00\", \"2020-11-19T00:00:00\", \"2020-11-20T00:00:00\", \"2020-11-21T00:00:00\", \"2020-11-22T00:00:00\", \"2020-11-23T00:00:00\", \"2020-11-24T00:00:00\", \"2020-11-25T00:00:00\", \"2020-11-26T00:00:00\", \"2020-11-27T00:00:00\", \"2020-11-28T00:00:00\", \"2020-11-29T00:00:00\", \"2020-11-30T00:00:00\", \"2020-12-01T00:00:00\", \"2020-12-02T00:00:00\", \"2020-12-03T00:00:00\", \"2020-12-04T00:00:00\", \"2020-12-05T00:00:00\", \"2020-12-06T00:00:00\", \"2020-12-07T00:00:00\", \"2020-12-08T00:00:00\", \"2020-12-09T00:00:00\", \"2020-12-10T00:00:00\", \"2020-12-11T00:00:00\", \"2020-12-12T00:00:00\", \"2020-12-13T00:00:00\", \"2020-12-14T00:00:00\", \"2020-12-15T00:00:00\", \"2020-12-16T00:00:00\", \"2020-12-17T00:00:00\", \"2020-12-18T00:00:00\", \"2020-12-19T00:00:00\", \"2020-12-20T00:00:00\", \"2020-12-21T00:00:00\", \"2020-12-22T00:00:00\", \"2020-12-23T00:00:00\", \"2020-12-24T00:00:00\", \"2020-12-25T00:00:00\", \"2020-12-26T00:00:00\", \"2020-12-27T00:00:00\", \"2020-12-28T00:00:00\", \"2020-12-29T00:00:00\", \"2020-12-30T00:00:00\", \"2020-12-31T00:00:00\", \"2021-01-01T00:00:00\", \"2021-01-02T00:00:00\", \"2021-01-03T00:00:00\", \"2021-01-04T00:00:00\", \"2021-01-05T00:00:00\", \"2021-01-06T00:00:00\", \"2021-01-07T00:00:00\", \"2021-01-08T00:00:00\", \"2021-01-09T00:00:00\", \"2021-01-10T00:00:00\", \"2021-01-11T00:00:00\", \"2021-01-12T00:00:00\", \"2021-01-13T00:00:00\", \"2021-01-14T00:00:00\", \"2021-01-15T00:00:00\"], \"y\": [null, null, null, null, null, null, 12.0, 13.857142857142858, 12.857142857142858, 12.571428571428571, 12.571428571428571, 9.857142857142858, 9.142857142857142, 6.571428571428571, 4.142857142857143, 4.285714285714286, 4.0, 1.4285714285714286, 1.7142857142857142, 1.4285714285714286, 2.0, 2.5714285714285716, 2.7142857142857144, 3.0, 3.5714285714285716, 3.7142857142857144, 3.857142857142857, 3.2857142857142856, 2.857142857142857, 3.142857142857143, 2.857142857142857, 2.2857142857142856, 2.2857142857142856, 2.7142857142857144, 2.857142857142857, 2.7142857142857144, 2.4285714285714284, 2.4285714285714284, 3.2857142857142856, 3.0, 2.4285714285714284, 2.4285714285714284, 2.5714285714285716, 2.4285714285714284, 2.4285714285714284, 1.8571428571428572, 2.857142857142857, 3.0, 3.0, 3.142857142857143, 3.5714285714285716, 3.5714285714285716, 3.4285714285714284, 2.4285714285714284, 4.714285714285714, 4.714285714285714, 4.857142857142857, 4.428571428571429, 6.714285714285714, 7.285714285714286, 9.857142857142858, 13.571428571428571, 17.0, 22.428571428571427, 31.428571428571427, 40.57142857142857, 49.0, 54.857142857142854, 64.71428571428571, 71.85714285714286, 83.71428571428571, 92.14285714285714, 95.57142857142857, 98.14285714285714, 114.42857142857143, 115.71428571428571, 130.85714285714286, 151.42857142857142, 167.85714285714286, 180.85714285714286, 216.28571428571428, 237.28571428571428, 265.85714285714283, 285.85714285714283, 297.57142857142856, 302.2857142857143, 319.57142857142856, 304.57142857142856, 333.42857142857144, 351.57142857142856, 405.57142857142856, 465.7142857142857, 539.5714285714286, 573.8571428571429, 609.4285714285714, 629.5714285714286, 650.4285714285714, 690.0, 729.1428571428571, 746.1428571428571, 793.1428571428571, 832.1428571428571, 873.7142857142857, 1047.5714285714287, 1040.142857142857, 1113.857142857143, 1175.4285714285713, 1209.7142857142858, 1246.2857142857142, 1372.4285714285713, 1399.2857142857142, 1517.4285714285713, 1556.2857142857142, 1639.857142857143, 1697.2857142857142, 1679.4285714285713, 1739.4285714285713, 1763.5714285714287, 1860.5714285714287, 1978.7142857142858, 2121.8571428571427, 2125.8571428571427, 2164.8571428571427, 2300.4285714285716, 2374.8571428571427, 2412.4285714285716, 2429.714285714286, 2390.5714285714284, 2308.1428571428573, 2260.4285714285716, 2218.4285714285716, 2201.8571428571427, 2191.8571428571427, 2174.8571428571427, 2201.8571428571427, 2289.1428571428573, 2386.5714285714284, 2491.4285714285716, 2668.5714285714284, 2788.1428571428573, 2870.714285714286, 2956.5714285714284, 2950.714285714286, 2871.0, 2931.1428571428573, 2866.285714285714, 2892.0, 2718.285714285714, 2623.285714285714, 2583.714285714286, 2572.1428571428573, 2497.4285714285716, 2428.5714285714284, 2342.285714285714, 2507.4285714285716, 2566.5714285714284, 2579.4285714285716, 2543.0, 2550.285714285714, 2578.4285714285716, 2545.1428571428573, 2537.4285714285716, 2547.0, 2517.285714285714, 2529.0, 2470.714285714286, 2527.285714285714, 2576.285714285714, 2581.5714285714284, 2572.714285714286, 2600.5714285714284, 2573.0, 2598.1428571428573, 2556.1428571428573, 2564.5714285714284, 2609.714285714286, 2657.5714285714284, 2620.8571428571427, 2621.5714285714284, 2689.285714285714, 2637.714285714286, 2599.8571428571427, 2507.1428571428573, 2433.285714285714, 2429.285714285714, 2431.0, 2360.5714285714284, 2343.285714285714, 2293.714285714286, 2273.714285714286, 2216.1428571428573, 2187.0, 2156.5714285714284, 2101.5714285714284, 2084.714285714286, 2103.4285714285716, 2082.1428571428573, 2077.0, 2061.5714285714284, 2107.714285714286, 1996.2857142857142, 1961.142857142857, 1893.5714285714287, 1830.5714285714287, 1775.142857142857, 1786.0, 1731.4285714285713, 1721.0, 1634.2857142857142, 1580.0, 1597.4285714285713, 1534.0, 1499.4285714285713, 1538.2857142857142, 1523.4285714285713, 1538.4285714285713, 1537.0, 1468.857142857143, 1481.857142857143, 1506.4285714285713, 1479.142857142857, 1437.142857142857, 1404.142857142857, 1366.0, 1387.0, 1334.0, 1292.142857142857, 1308.2857142857142, 1333.0, 1330.857142857143, 1354.142857142857, 1300.0, 1261.142857142857, 1252.4285714285713, 1240.7142857142858, 1020.5714285714286, 983.2857142857143, 922.5714285714286, 894.8571428571429, 950.1428571428571, 969.4285714285714, 999.1428571428571, 1182.5714285714287, 1178.4285714285713, 1208.142857142857, 1221.2857142857142, 1190.7142857142858, 1220.7142857142858, 1198.7142857142858, 1145.142857142857, 1155.2857142857142, 1155.5714285714287, 1121.0, 1112.7142857142858, 1096.0, 1112.2857142857142, 1139.7142857142858, 1138.5714285714287, 1080.857142857143, 1096.0, 1081.7142857142858, 1073.2857142857142, 1072.4285714285713, 1031.2857142857142, 1003.8571428571429, 976.2857142857143, 981.7142857142857, 966.1428571428571, 969.7142857142857, 942.7142857142857, 839.1428571428571, 853.0, 871.0, 880.1428571428571, 881.4285714285714, 885.4285714285714, 900.0, 964.8571428571429, 986.1428571428571, 1019.2857142857143, 996.0, 1018.0, 1010.2857142857143, 1017.5714285714286, 1056.142857142857, 1003.5714285714286, 946.0, 924.7142857142857, 897.8571428571429, 872.5714285714286, 872.2857142857143, 755.4285714285714, 823.5714285714286, 865.1428571428571, 897.5714285714286, 889.0, 915.7142857142857, 918.4285714285714, 1053.7142857142858, 968.7142857142857, 931.1428571428571, 897.4285714285714, 904.1428571428571, 913.2857142857143, 862.8571428571429, 808.2857142857143, 829.0, 860.0, 900.4285714285714, 985.5714285714286, 1104.142857142857, 1317.4285714285713, 1524.0, 1636.2857142857142, 1821.0, 1938.142857142857, 1965.142857142857, 1928.2857142857142, 1866.2857142857142, 1774.2857142857142, 1778.2857142857142, 1651.5714285714287, 1532.4285714285713, 1408.2857142857142, 1463.2857142857142, 1392.7142857142858, 1358.4285714285713, 1381.5714285714287, 1393.2857142857142, 1431.7142857142858, 1514.0, 1365.5714285714287, 1356.4285714285713, 1405.2857142857142, 1319.7142857142858, 1320.142857142857, 1332.4285714285713, 1299.0, 1371.857142857143, 1364.4285714285713, 1333.4285714285713, 1335.4285714285713, 1345.2857142857142, 1271.7142857142858, 1107.0, 988.4285714285714, 941.8571428571429, 889.1428571428571, 907.7142857142857, 1047.5714285714287, 1163.0, 1156.2857142857142, 1169.2857142857142, 1200.2857142857142, 1168.142857142857, 1135.142857142857, 930.4285714285714, 895.7142857142857, 1090.142857142857, 1101.5714285714287, 1091.0, 1192.4285714285713, 1176.7142857142858, 1172.0, 1101.857142857143, 1012.4285714285714]}, {\"line\": {\"color\": \"orange\", \"width\": 2}, \"mode\": \"lines\", \"name\": \"M\\u00e9dia M\\u00f3vel de um m\\u00eas\", \"type\": \"scatter\", \"x\": [\"2020-01-01T00:00:00\", \"2020-01-02T00:00:00\", \"2020-01-03T00:00:00\", \"2020-01-04T00:00:00\", \"2020-01-05T00:00:00\", \"2020-01-06T00:00:00\", \"2020-01-07T00:00:00\", \"2020-01-08T00:00:00\", \"2020-01-09T00:00:00\", \"2020-01-10T00:00:00\", \"2020-01-11T00:00:00\", \"2020-01-12T00:00:00\", \"2020-01-13T00:00:00\", \"2020-01-16T00:00:00\", \"2020-01-18T00:00:00\", \"2020-01-20T00:00:00\", \"2020-01-24T00:00:00\", \"2020-01-26T00:00:00\", \"2020-01-29T00:00:00\", \"2020-01-30T00:00:00\", \"2020-02-02T00:00:00\", \"2020-02-03T00:00:00\", \"2020-02-04T00:00:00\", \"2020-02-05T00:00:00\", \"2020-02-06T00:00:00\", \"2020-02-07T00:00:00\", \"2020-02-08T00:00:00\", \"2020-02-09T00:00:00\", \"2020-02-10T00:00:00\", \"2020-02-12T00:00:00\", \"2020-02-13T00:00:00\", \"2020-02-14T00:00:00\", \"2020-02-15T00:00:00\", \"2020-02-16T00:00:00\", \"2020-02-17T00:00:00\", \"2020-02-18T00:00:00\", \"2020-02-20T00:00:00\", \"2020-02-21T00:00:00\", \"2020-02-22T00:00:00\", \"2020-02-24T00:00:00\", \"2020-02-25T00:00:00\", \"2020-02-26T00:00:00\", \"2020-02-27T00:00:00\", \"2020-02-28T00:00:00\", \"2020-02-29T00:00:00\", \"2020-03-01T00:00:00\", \"2020-03-02T00:00:00\", \"2020-03-03T00:00:00\", \"2020-03-04T00:00:00\", \"2020-03-05T00:00:00\", \"2020-03-06T00:00:00\", \"2020-03-07T00:00:00\", \"2020-03-08T00:00:00\", \"2020-03-09T00:00:00\", \"2020-03-10T00:00:00\", \"2020-03-11T00:00:00\", \"2020-03-12T00:00:00\", \"2020-03-13T00:00:00\", \"2020-03-14T00:00:00\", \"2020-03-15T00:00:00\", \"2020-03-16T00:00:00\", \"2020-03-17T00:00:00\", \"2020-03-18T00:00:00\", \"2020-03-19T00:00:00\", \"2020-03-20T00:00:00\", \"2020-03-21T00:00:00\", \"2020-03-22T00:00:00\", \"2020-03-23T00:00:00\", \"2020-03-24T00:00:00\", \"2020-03-25T00:00:00\", \"2020-03-26T00:00:00\", \"2020-03-27T00:00:00\", \"2020-03-28T00:00:00\", \"2020-03-29T00:00:00\", \"2020-03-30T00:00:00\", \"2020-03-31T00:00:00\", \"2020-04-01T00:00:00\", \"2020-04-02T00:00:00\", \"2020-04-03T00:00:00\", \"2020-04-04T00:00:00\", \"2020-04-05T00:00:00\", \"2020-04-06T00:00:00\", \"2020-04-07T00:00:00\", \"2020-04-08T00:00:00\", \"2020-04-09T00:00:00\", \"2020-04-10T00:00:00\", \"2020-04-11T00:00:00\", \"2020-04-12T00:00:00\", \"2020-04-13T00:00:00\", \"2020-04-14T00:00:00\", \"2020-04-15T00:00:00\", \"2020-04-16T00:00:00\", \"2020-04-17T00:00:00\", \"2020-04-18T00:00:00\", \"2020-04-19T00:00:00\", \"2020-04-20T00:00:00\", \"2020-04-21T00:00:00\", \"2020-04-22T00:00:00\", \"2020-04-23T00:00:00\", \"2020-04-24T00:00:00\", \"2020-04-25T00:00:00\", \"2020-04-26T00:00:00\", \"2020-04-27T00:00:00\", \"2020-04-28T00:00:00\", \"2020-04-29T00:00:00\", \"2020-04-30T00:00:00\", \"2020-05-01T00:00:00\", \"2020-05-02T00:00:00\", \"2020-05-03T00:00:00\", \"2020-05-04T00:00:00\", \"2020-05-05T00:00:00\", \"2020-05-06T00:00:00\", \"2020-05-07T00:00:00\", \"2020-05-08T00:00:00\", \"2020-05-09T00:00:00\", \"2020-05-10T00:00:00\", \"2020-05-11T00:00:00\", \"2020-05-12T00:00:00\", \"2020-05-13T00:00:00\", \"2020-05-14T00:00:00\", \"2020-05-15T00:00:00\", \"2020-05-16T00:00:00\", \"2020-05-17T00:00:00\", \"2020-05-18T00:00:00\", \"2020-05-19T00:00:00\", \"2020-05-20T00:00:00\", \"2020-05-21T00:00:00\", \"2020-05-22T00:00:00\", \"2020-05-23T00:00:00\", \"2020-05-24T00:00:00\", \"2020-05-25T00:00:00\", \"2020-05-26T00:00:00\", \"2020-05-27T00:00:00\", \"2020-05-28T00:00:00\", \"2020-05-29T00:00:00\", \"2020-05-30T00:00:00\", \"2020-05-31T00:00:00\", \"2020-06-01T00:00:00\", \"2020-06-02T00:00:00\", \"2020-06-03T00:00:00\", \"2020-06-04T00:00:00\", \"2020-06-05T00:00:00\", \"2020-06-06T00:00:00\", \"2020-06-07T00:00:00\", \"2020-06-08T00:00:00\", \"2020-06-09T00:00:00\", \"2020-06-10T00:00:00\", \"2020-06-11T00:00:00\", \"2020-06-12T00:00:00\", \"2020-06-13T00:00:00\", \"2020-06-14T00:00:00\", \"2020-06-15T00:00:00\", \"2020-06-16T00:00:00\", \"2020-06-17T00:00:00\", \"2020-06-18T00:00:00\", \"2020-06-19T00:00:00\", \"2020-06-20T00:00:00\", \"2020-06-21T00:00:00\", \"2020-06-22T00:00:00\", \"2020-06-23T00:00:00\", \"2020-06-24T00:00:00\", \"2020-06-25T00:00:00\", \"2020-06-26T00:00:00\", \"2020-06-27T00:00:00\", \"2020-06-28T00:00:00\", \"2020-06-29T00:00:00\", \"2020-06-30T00:00:00\", \"2020-07-01T00:00:00\", \"2020-07-02T00:00:00\", \"2020-07-03T00:00:00\", \"2020-07-04T00:00:00\", \"2020-07-05T00:00:00\", \"2020-07-06T00:00:00\", \"2020-07-07T00:00:00\", \"2020-07-08T00:00:00\", \"2020-07-09T00:00:00\", \"2020-07-10T00:00:00\", \"2020-07-11T00:00:00\", \"2020-07-12T00:00:00\", \"2020-07-13T00:00:00\", \"2020-07-14T00:00:00\", \"2020-07-15T00:00:00\", \"2020-07-16T00:00:00\", \"2020-07-17T00:00:00\", \"2020-07-18T00:00:00\", \"2020-07-19T00:00:00\", \"2020-07-20T00:00:00\", \"2020-07-21T00:00:00\", \"2020-07-22T00:00:00\", \"2020-07-23T00:00:00\", \"2020-07-24T00:00:00\", \"2020-07-25T00:00:00\", \"2020-07-26T00:00:00\", \"2020-07-27T00:00:00\", \"2020-07-28T00:00:00\", \"2020-07-29T00:00:00\", \"2020-07-30T00:00:00\", \"2020-07-31T00:00:00\", \"2020-08-01T00:00:00\", \"2020-08-02T00:00:00\", \"2020-08-03T00:00:00\", \"2020-08-04T00:00:00\", \"2020-08-05T00:00:00\", \"2020-08-06T00:00:00\", \"2020-08-07T00:00:00\", \"2020-08-08T00:00:00\", \"2020-08-09T00:00:00\", \"2020-08-10T00:00:00\", \"2020-08-11T00:00:00\", \"2020-08-12T00:00:00\", \"2020-08-13T00:00:00\", \"2020-08-14T00:00:00\", \"2020-08-15T00:00:00\", \"2020-08-16T00:00:00\", \"2020-08-17T00:00:00\", \"2020-08-18T00:00:00\", \"2020-08-19T00:00:00\", \"2020-08-20T00:00:00\", \"2020-08-21T00:00:00\", \"2020-08-22T00:00:00\", \"2020-08-23T00:00:00\", \"2020-08-24T00:00:00\", \"2020-08-25T00:00:00\", \"2020-08-26T00:00:00\", \"2020-08-27T00:00:00\", \"2020-08-28T00:00:00\", \"2020-08-29T00:00:00\", \"2020-08-30T00:00:00\", \"2020-08-31T00:00:00\", \"2020-09-01T00:00:00\", \"2020-09-02T00:00:00\", \"2020-09-03T00:00:00\", \"2020-09-04T00:00:00\", \"2020-09-05T00:00:00\", \"2020-09-06T00:00:00\", \"2020-09-07T00:00:00\", \"2020-09-08T00:00:00\", \"2020-09-09T00:00:00\", \"2020-09-10T00:00:00\", \"2020-09-11T00:00:00\", \"2020-09-12T00:00:00\", \"2020-09-13T00:00:00\", \"2020-09-14T00:00:00\", \"2020-09-15T00:00:00\", \"2020-09-16T00:00:00\", \"2020-09-17T00:00:00\", \"2020-09-18T00:00:00\", \"2020-09-19T00:00:00\", \"2020-09-20T00:00:00\", \"2020-09-21T00:00:00\", \"2020-09-22T00:00:00\", \"2020-09-23T00:00:00\", \"2020-09-24T00:00:00\", \"2020-09-25T00:00:00\", \"2020-09-26T00:00:00\", \"2020-09-27T00:00:00\", \"2020-09-28T00:00:00\", \"2020-09-29T00:00:00\", \"2020-09-30T00:00:00\", \"2020-10-01T00:00:00\", \"2020-10-02T00:00:00\", \"2020-10-03T00:00:00\", \"2020-10-04T00:00:00\", \"2020-10-05T00:00:00\", \"2020-10-06T00:00:00\", \"2020-10-07T00:00:00\", \"2020-10-08T00:00:00\", \"2020-10-09T00:00:00\", \"2020-10-10T00:00:00\", \"2020-10-11T00:00:00\", \"2020-10-12T00:00:00\", \"2020-10-13T00:00:00\", \"2020-10-14T00:00:00\", \"2020-10-15T00:00:00\", \"2020-10-16T00:00:00\", \"2020-10-17T00:00:00\", \"2020-10-18T00:00:00\", \"2020-10-19T00:00:00\", \"2020-10-20T00:00:00\", \"2020-10-21T00:00:00\", \"2020-10-22T00:00:00\", \"2020-10-23T00:00:00\", \"2020-10-24T00:00:00\", \"2020-10-25T00:00:00\", \"2020-10-26T00:00:00\", \"2020-10-27T00:00:00\", \"2020-10-28T00:00:00\", \"2020-10-29T00:00:00\", \"2020-10-30T00:00:00\", \"2020-10-31T00:00:00\", \"2020-11-01T00:00:00\", \"2020-11-02T00:00:00\", \"2020-11-03T00:00:00\", \"2020-11-04T00:00:00\", \"2020-11-05T00:00:00\", \"2020-11-06T00:00:00\", \"2020-11-07T00:00:00\", \"2020-11-08T00:00:00\", \"2020-11-09T00:00:00\", \"2020-11-10T00:00:00\", \"2020-11-11T00:00:00\", \"2020-11-12T00:00:00\", \"2020-11-13T00:00:00\", \"2020-11-14T00:00:00\", \"2020-11-15T00:00:00\", \"2020-11-16T00:00:00\", \"2020-11-17T00:00:00\", \"2020-11-18T00:00:00\", \"2020-11-19T00:00:00\", \"2020-11-20T00:00:00\", \"2020-11-21T00:00:00\", \"2020-11-22T00:00:00\", \"2020-11-23T00:00:00\", \"2020-11-24T00:00:00\", \"2020-11-25T00:00:00\", \"2020-11-26T00:00:00\", \"2020-11-27T00:00:00\", \"2020-11-28T00:00:00\", \"2020-11-29T00:00:00\", \"2020-11-30T00:00:00\", \"2020-12-01T00:00:00\", \"2020-12-02T00:00:00\", \"2020-12-03T00:00:00\", \"2020-12-04T00:00:00\", \"2020-12-05T00:00:00\", \"2020-12-06T00:00:00\", \"2020-12-07T00:00:00\", \"2020-12-08T00:00:00\", \"2020-12-09T00:00:00\", \"2020-12-10T00:00:00\", \"2020-12-11T00:00:00\", \"2020-12-12T00:00:00\", \"2020-12-13T00:00:00\", \"2020-12-14T00:00:00\", \"2020-12-15T00:00:00\", \"2020-12-16T00:00:00\", \"2020-12-17T00:00:00\", \"2020-12-18T00:00:00\", \"2020-12-19T00:00:00\", \"2020-12-20T00:00:00\", \"2020-12-21T00:00:00\", \"2020-12-22T00:00:00\", \"2020-12-23T00:00:00\", \"2020-12-24T00:00:00\", \"2020-12-25T00:00:00\", \"2020-12-26T00:00:00\", \"2020-12-27T00:00:00\", \"2020-12-28T00:00:00\", \"2020-12-29T00:00:00\", \"2020-12-30T00:00:00\", \"2020-12-31T00:00:00\", \"2021-01-01T00:00:00\", \"2021-01-02T00:00:00\", \"2021-01-03T00:00:00\", \"2021-01-04T00:00:00\", \"2021-01-05T00:00:00\", \"2021-01-06T00:00:00\", \"2021-01-07T00:00:00\", \"2021-01-08T00:00:00\", \"2021-01-09T00:00:00\", \"2021-01-10T00:00:00\", \"2021-01-11T00:00:00\", \"2021-01-12T00:00:00\", \"2021-01-13T00:00:00\", \"2021-01-14T00:00:00\", \"2021-01-15T00:00:00\"], \"y\": [null, null, null, null, null, null, null, null, null, null, null, null, null, null, null, null, null, null, null, null, null, null, null, null, null, null, null, null, null, null, null, null, null, null, null, 5.095238095238094, 4.776190476190475, 4.395238095238094, 4.076190476190474, 3.757142857142855, 3.419047619047617, 3.1714285714285695, 2.9523809523809503, 2.8142857142857123, 2.7571428571428553, 2.6761904761904747, 2.6380952380952367, 2.690476190476189, 2.733333333333332, 2.790476190476189, 2.842857142857141, 2.8761904761904744, 2.8999999999999986, 2.8809523809523796, 2.9190476190476176, 2.9523809523809508, 2.9857142857142844, 3.0238095238095224, 3.1523809523809505, 3.290476190476189, 3.5238095238095224, 3.899999999999998, 4.390476190476189, 5.047619047619046, 5.999999999999997, 7.261904761904759, 8.814285714285711, 10.561904761904758, 12.609523809523806, 14.9047619047619, 17.614285714285707, 20.604761904761897, 23.704761904761895, 26.895238095238085, 30.62857142857142, 34.42380952380951, 38.690476190476176, 43.638095238095225, 49.13333333333332, 55.05714285714284, 62.14761904761903, 69.93809523809523, 78.68571428571427, 88.1333333333333, 97.89523809523806, 107.81428571428567, 118.30476190476186, 128.30952380952377, 139.19999999999996, 150.67619047619044, 163.86666666666662, 178.93809523809517, 196.35714285714278, 214.73809523809516, 234.00476190476184, 253.63809523809516, 273.6857142857142, 294.8571428571428, 317.0047619047618, 339.48095238095226, 363.12857142857126, 387.79523809523795, 413.7333333333332, 445.38095238095224, 476.2380952380951, 509.50952380952367, 544.3285714285713, 579.6047619047617, 615.5523809523808, 655.2714285714285, 694.7047619047619, 737.3761904761905, 780.3904761904762, 825.5238095238095, 872.1809523809524, 918.0857142857144, 965.4142857142858, 1014.0476190476192, 1064.952380952381, 1119.1904761904764, 1176.4000000000003, 1231.7380952380956, 1285.9142857142863, 1343.4666666666672, 1402.3142857142861, 1461.7428571428577, 1521.0523809523813, 1577.7380952380956, 1630.371428571429, 1680.8476190476197, 1728.3571428571436, 1774.0142857142864, 1817.9523809523819, 1855.5285714285724, 1894.252380952382, 1933.4285714285725, 1973.8000000000009, 2016.5238095238105, 2063.9333333333343, 2111.1238095238105, 2160.1714285714293, 2208.142857142858, 2254.6238095238105, 2295.6619047619056, 2336.7904761904774, 2376.352380952382, 2414.77142857143, 2446.595238095239, 2472.0190476190483, 2492.1857142857148, 2507.1952380952384, 2519.5809523809526, 2528.371428571429, 2529.7666666666673, 2534.1857142857143, 2539.3238095238103, 2544.314285714286, 2549.3952380952383, 2557.4666666666667, 2568.0666666666666, 2578.957142857143, 2590.142857142857, 2601.980952380952, 2613.395238095238, 2624.2999999999997, 2630.352380952381, 2635.0428571428565, 2637.871428571428, 2634.971428571428, 2627.790476190476, 2618.785714285714, 2605.9999999999995, 2594.247619047618, 2583.75238095238, 2571.533333333333, 2562.980952380952, 2555.1666666666665, 2551.919047619048, 2551.8619047619054, 2555.3809523809527, 2557.566666666667, 2560.980952380953, 2563.6000000000004, 2566.6333333333337, 2564.028571428572, 2559.509523809524, 2552.2142857142867, 2545.5571428571434, 2537.0047619047627, 2526.8476190476204, 2515.8809523809537, 2504.2000000000016, 2491.185714285716, 2477.3285714285735, 2462.5190476190496, 2450.2761904761924, 2435.438095238097, 2418.79523809524, 2401.4619047619067, 2385.9619047619067, 2365.8190476190493, 2345.423809523811, 2321.938095238097, 2297.752380952383, 2271.438095238097, 2243.980952380954, 2213.109523809525, 2183.114285714287, 2150.204761904763, 2113.2285714285726, 2078.5523809523825, 2043.0238095238108, 2009.4333333333348, 1979.6000000000015, 1949.4047619047633, 1919.6523809523824, 1892.2000000000014, 1863.0523809523825, 1835.9904761904777, 1810.4142857142874, 1785.8476190476208, 1760.8523809523826, 1735.7714285714303, 1711.2523809523825, 1687.9952380952398, 1662.3476190476208, 1636.0142857142876, 1610.390476190478, 1586.1047619047638, 1560.2095238095258, 1538.8047619047638, 1516.7666666666687, 1495.6857142857161, 1476.4142857142876, 1458.600000000002, 1433.0857142857162, 1408.147619047621, 1381.5333333333353, 1356.8857142857162, 1335.890476190478, 1314.9571428571446, 1297.1285714285732, 1286.5666666666684, 1274.5714285714303, 1264.0619047619064, 1253.4904761904777, 1241.9476190476205, 1233.6761904761918, 1224.2380952380963, 1212.1952380952391, 1201.4000000000012, 1192.0142857142869, 1182.5761904761919, 1174.1333333333346, 1164.4333333333345, 1157.0428571428586, 1151.961904761906, 1146.3047619047632, 1137.9000000000012, 1130.0714285714298, 1120.9904761904772, 1113.4333333333345, 1107.1428571428585, 1099.7714285714299, 1091.8761904761918, 1090.4000000000015, 1090.3476190476204, 1091.8000000000015, 1094.2952380952395, 1094.0476190476204, 1089.704761904763, 1084.8333333333344, 1074.44761904762, 1064.5047619047627, 1053.6142857142866, 1042.4190476190486, 1032.7285714285724, 1024.200000000001, 1017.1142857142866, 1012.9190476190485, 1007.6095238095246, 1003.0238095238104, 999.3333333333342, 996.1619047619056, 994.8333333333342, 991.2095238095246, 984.7523809523817, 977.6238095238103, 971.5238095238104, 964.0761904761913, 957.0952380952389, 946.5000000000008, 938.2047619047627, 932.6666666666675, 929.1238095238103, 926.2142857142866, 924.0142857142866, 922.4238095238104, 925.2238095238104, 926.090476190477, 929.1571428571438, 930.6380952380962, 931.742857142858, 932.8476190476199, 932.2285714285722, 929.6571428571436, 927.290476190477, 923.7952380952389, 920.938095238096, 919.8142857142865, 923.4190476190485, 933.4000000000009, 950.5238095238104, 971.14761904762, 996.642857142858, 1027.795238095239, 1061.7666666666676, 1095.2190476190488, 1127.5000000000011, 1157.5571428571443, 1187.7571428571441, 1217.6285714285727, 1241.2571428571441, 1259.3619047619063, 1278.2190476190492, 1295.0095238095253, 1309.7666666666685, 1325.2047619047635, 1336.5238095238115, 1351.9571428571446, 1371.3857142857162, 1386.990476190478, 1402.0666666666687, 1418.4666666666685, 1433.6952380952398, 1450.7571428571443, 1467.538095238097, 1482.1714285714302, 1497.885714285716, 1510.5142857142876, 1518.1571428571447, 1518.7571428571448, 1512.800000000002, 1500.6476190476208, 1476.8476190476208, 1445.190476190478, 1411.0809523809544, 1376.4428571428589, 1344.4904761904777, 1320.266666666668, 1299.7571428571441, 1283.2476190476204, 1271.1428571428587, 1264.2095238095253, 1254.37142857143, 1245.7857142857158, 1231.519047619049, 1215.323809523811, 1205.2190476190488, 1194.214285714287, 1180.114285714287, 1174.3428571428585, 1168.3523809523822, 1160.5761904761916, 1153.314285714287, 1143.0571428571443]}],\n",
              "                        {\"barmode\": \"relative\", \"legend\": {\"tracegroupgap\": 0}, \"margin\": {\"t\": 60}, \"template\": {\"data\": {\"bar\": [{\"error_x\": {\"color\": \"#2a3f5f\"}, \"error_y\": {\"color\": \"#2a3f5f\"}, \"marker\": {\"line\": {\"color\": \"#E5ECF6\", \"width\": 0.5}}, \"type\": \"bar\"}], \"barpolar\": [{\"marker\": {\"line\": {\"color\": \"#E5ECF6\", \"width\": 0.5}}, \"type\": \"barpolar\"}], \"carpet\": [{\"aaxis\": {\"endlinecolor\": \"#2a3f5f\", \"gridcolor\": \"white\", \"linecolor\": \"white\", \"minorgridcolor\": \"white\", \"startlinecolor\": \"#2a3f5f\"}, \"baxis\": {\"endlinecolor\": \"#2a3f5f\", \"gridcolor\": \"white\", \"linecolor\": \"white\", \"minorgridcolor\": \"white\", \"startlinecolor\": \"#2a3f5f\"}, \"type\": \"carpet\"}], \"choropleth\": [{\"colorbar\": {\"outlinewidth\": 0, \"ticks\": \"\"}, \"type\": \"choropleth\"}], \"contour\": [{\"colorbar\": {\"outlinewidth\": 0, \"ticks\": \"\"}, \"colorscale\": [[0.0, \"#0d0887\"], [0.1111111111111111, \"#46039f\"], [0.2222222222222222, \"#7201a8\"], [0.3333333333333333, \"#9c179e\"], [0.4444444444444444, \"#bd3786\"], [0.5555555555555556, \"#d8576b\"], [0.6666666666666666, \"#ed7953\"], [0.7777777777777778, \"#fb9f3a\"], [0.8888888888888888, \"#fdca26\"], [1.0, \"#f0f921\"]], \"type\": \"contour\"}], \"contourcarpet\": [{\"colorbar\": {\"outlinewidth\": 0, \"ticks\": \"\"}, \"type\": \"contourcarpet\"}], \"heatmap\": [{\"colorbar\": {\"outlinewidth\": 0, \"ticks\": \"\"}, \"colorscale\": [[0.0, \"#0d0887\"], [0.1111111111111111, \"#46039f\"], [0.2222222222222222, \"#7201a8\"], [0.3333333333333333, \"#9c179e\"], [0.4444444444444444, \"#bd3786\"], [0.5555555555555556, \"#d8576b\"], [0.6666666666666666, \"#ed7953\"], [0.7777777777777778, \"#fb9f3a\"], [0.8888888888888888, \"#fdca26\"], [1.0, \"#f0f921\"]], \"type\": \"heatmap\"}], \"heatmapgl\": [{\"colorbar\": {\"outlinewidth\": 0, \"ticks\": \"\"}, \"colorscale\": [[0.0, \"#0d0887\"], [0.1111111111111111, \"#46039f\"], [0.2222222222222222, \"#7201a8\"], [0.3333333333333333, \"#9c179e\"], [0.4444444444444444, \"#bd3786\"], [0.5555555555555556, \"#d8576b\"], [0.6666666666666666, \"#ed7953\"], [0.7777777777777778, \"#fb9f3a\"], [0.8888888888888888, \"#fdca26\"], [1.0, \"#f0f921\"]], \"type\": \"heatmapgl\"}], \"histogram\": [{\"marker\": {\"colorbar\": {\"outlinewidth\": 0, \"ticks\": \"\"}}, \"type\": \"histogram\"}], \"histogram2d\": [{\"colorbar\": {\"outlinewidth\": 0, \"ticks\": \"\"}, \"colorscale\": [[0.0, \"#0d0887\"], [0.1111111111111111, \"#46039f\"], [0.2222222222222222, \"#7201a8\"], [0.3333333333333333, \"#9c179e\"], [0.4444444444444444, \"#bd3786\"], [0.5555555555555556, \"#d8576b\"], [0.6666666666666666, \"#ed7953\"], [0.7777777777777778, \"#fb9f3a\"], [0.8888888888888888, \"#fdca26\"], [1.0, \"#f0f921\"]], \"type\": \"histogram2d\"}], \"histogram2dcontour\": [{\"colorbar\": {\"outlinewidth\": 0, \"ticks\": \"\"}, \"colorscale\": [[0.0, \"#0d0887\"], [0.1111111111111111, \"#46039f\"], [0.2222222222222222, \"#7201a8\"], [0.3333333333333333, \"#9c179e\"], [0.4444444444444444, \"#bd3786\"], [0.5555555555555556, \"#d8576b\"], [0.6666666666666666, \"#ed7953\"], [0.7777777777777778, \"#fb9f3a\"], [0.8888888888888888, \"#fdca26\"], [1.0, \"#f0f921\"]], \"type\": \"histogram2dcontour\"}], \"mesh3d\": [{\"colorbar\": {\"outlinewidth\": 0, \"ticks\": \"\"}, \"type\": \"mesh3d\"}], \"parcoords\": [{\"line\": {\"colorbar\": {\"outlinewidth\": 0, \"ticks\": \"\"}}, \"type\": \"parcoords\"}], \"pie\": [{\"automargin\": true, \"type\": \"pie\"}], \"scatter\": [{\"marker\": {\"colorbar\": {\"outlinewidth\": 0, \"ticks\": \"\"}}, \"type\": \"scatter\"}], \"scatter3d\": [{\"line\": {\"colorbar\": {\"outlinewidth\": 0, \"ticks\": \"\"}}, \"marker\": {\"colorbar\": {\"outlinewidth\": 0, \"ticks\": \"\"}}, \"type\": \"scatter3d\"}], \"scattercarpet\": [{\"marker\": {\"colorbar\": {\"outlinewidth\": 0, \"ticks\": \"\"}}, \"type\": \"scattercarpet\"}], \"scattergeo\": [{\"marker\": {\"colorbar\": {\"outlinewidth\": 0, \"ticks\": \"\"}}, \"type\": \"scattergeo\"}], \"scattergl\": [{\"marker\": {\"colorbar\": {\"outlinewidth\": 0, \"ticks\": \"\"}}, \"type\": \"scattergl\"}], \"scattermapbox\": [{\"marker\": {\"colorbar\": {\"outlinewidth\": 0, \"ticks\": \"\"}}, \"type\": \"scattermapbox\"}], \"scatterpolar\": [{\"marker\": {\"colorbar\": {\"outlinewidth\": 0, \"ticks\": \"\"}}, \"type\": \"scatterpolar\"}], \"scatterpolargl\": [{\"marker\": {\"colorbar\": {\"outlinewidth\": 0, \"ticks\": \"\"}}, \"type\": \"scatterpolargl\"}], \"scatterternary\": [{\"marker\": {\"colorbar\": {\"outlinewidth\": 0, \"ticks\": \"\"}}, \"type\": \"scatterternary\"}], \"surface\": [{\"colorbar\": {\"outlinewidth\": 0, \"ticks\": \"\"}, \"colorscale\": [[0.0, \"#0d0887\"], [0.1111111111111111, \"#46039f\"], [0.2222222222222222, \"#7201a8\"], [0.3333333333333333, \"#9c179e\"], [0.4444444444444444, \"#bd3786\"], [0.5555555555555556, \"#d8576b\"], [0.6666666666666666, \"#ed7953\"], [0.7777777777777778, \"#fb9f3a\"], [0.8888888888888888, \"#fdca26\"], [1.0, \"#f0f921\"]], \"type\": \"surface\"}], \"table\": [{\"cells\": {\"fill\": {\"color\": \"#EBF0F8\"}, \"line\": {\"color\": \"white\"}}, \"header\": {\"fill\": {\"color\": \"#C8D4E3\"}, \"line\": {\"color\": \"white\"}}, \"type\": \"table\"}]}, \"layout\": {\"annotationdefaults\": {\"arrowcolor\": \"#2a3f5f\", \"arrowhead\": 0, \"arrowwidth\": 1}, \"coloraxis\": {\"colorbar\": {\"outlinewidth\": 0, \"ticks\": \"\"}}, \"colorscale\": {\"diverging\": [[0, \"#8e0152\"], [0.1, \"#c51b7d\"], [0.2, \"#de77ae\"], [0.3, \"#f1b6da\"], [0.4, \"#fde0ef\"], [0.5, \"#f7f7f7\"], [0.6, \"#e6f5d0\"], [0.7, \"#b8e186\"], [0.8, \"#7fbc41\"], [0.9, \"#4d9221\"], [1, \"#276419\"]], \"sequential\": [[0.0, \"#0d0887\"], [0.1111111111111111, \"#46039f\"], [0.2222222222222222, \"#7201a8\"], [0.3333333333333333, \"#9c179e\"], [0.4444444444444444, \"#bd3786\"], [0.5555555555555556, \"#d8576b\"], [0.6666666666666666, \"#ed7953\"], [0.7777777777777778, \"#fb9f3a\"], [0.8888888888888888, \"#fdca26\"], [1.0, \"#f0f921\"]], \"sequentialminus\": [[0.0, \"#0d0887\"], [0.1111111111111111, \"#46039f\"], [0.2222222222222222, \"#7201a8\"], [0.3333333333333333, \"#9c179e\"], [0.4444444444444444, \"#bd3786\"], [0.5555555555555556, \"#d8576b\"], [0.6666666666666666, \"#ed7953\"], [0.7777777777777778, \"#fb9f3a\"], [0.8888888888888888, \"#fdca26\"], [1.0, \"#f0f921\"]]}, \"colorway\": [\"#636efa\", \"#EF553B\", \"#00cc96\", \"#ab63fa\", \"#FFA15A\", \"#19d3f3\", \"#FF6692\", \"#B6E880\", \"#FF97FF\", \"#FECB52\"], \"font\": {\"color\": \"#2a3f5f\"}, \"geo\": {\"bgcolor\": \"white\", \"lakecolor\": \"white\", \"landcolor\": \"#E5ECF6\", \"showlakes\": true, \"showland\": true, \"subunitcolor\": \"white\"}, \"hoverlabel\": {\"align\": \"left\"}, \"hovermode\": \"closest\", \"mapbox\": {\"style\": \"light\"}, \"paper_bgcolor\": \"white\", \"plot_bgcolor\": \"#E5ECF6\", \"polar\": {\"angularaxis\": {\"gridcolor\": \"white\", \"linecolor\": \"white\", \"ticks\": \"\"}, \"bgcolor\": \"#E5ECF6\", \"radialaxis\": {\"gridcolor\": \"white\", \"linecolor\": \"white\", \"ticks\": \"\"}}, \"scene\": {\"xaxis\": {\"backgroundcolor\": \"#E5ECF6\", \"gridcolor\": \"white\", \"gridwidth\": 2, \"linecolor\": \"white\", \"showbackground\": true, \"ticks\": \"\", \"zerolinecolor\": \"white\"}, \"yaxis\": {\"backgroundcolor\": \"#E5ECF6\", \"gridcolor\": \"white\", \"gridwidth\": 2, \"linecolor\": \"white\", \"showbackground\": true, \"ticks\": \"\", \"zerolinecolor\": \"white\"}, \"zaxis\": {\"backgroundcolor\": \"#E5ECF6\", \"gridcolor\": \"white\", \"gridwidth\": 2, \"linecolor\": \"white\", \"showbackground\": true, \"ticks\": \"\", \"zerolinecolor\": \"white\"}}, \"shapedefaults\": {\"line\": {\"color\": \"#2a3f5f\"}}, \"ternary\": {\"aaxis\": {\"gridcolor\": \"white\", \"linecolor\": \"white\", \"ticks\": \"\"}, \"baxis\": {\"gridcolor\": \"white\", \"linecolor\": \"white\", \"ticks\": \"\"}, \"bgcolor\": \"#E5ECF6\", \"caxis\": {\"gridcolor\": \"white\", \"linecolor\": \"white\", \"ticks\": \"\"}}, \"title\": {\"x\": 0.05}, \"xaxis\": {\"automargin\": true, \"gridcolor\": \"white\", \"linecolor\": \"white\", \"ticks\": \"\", \"title\": {\"standoff\": 15}, \"zerolinecolor\": \"white\", \"zerolinewidth\": 2}, \"yaxis\": {\"automargin\": true, \"gridcolor\": \"white\", \"linecolor\": \"white\", \"ticks\": \"\", \"title\": {\"standoff\": 15}, \"zerolinecolor\": \"white\", \"zerolinewidth\": 2}}}, \"title\": {\"text\": \"Quantidade de casos confirmados no per\\u00edodo\"}, \"xaxis\": {\"anchor\": \"y\", \"domain\": [0.0, 1.0], \"title\": {\"text\": \"M\\u00eas\"}}, \"yaxis\": {\"anchor\": \"x\", \"domain\": [0.0, 1.0], \"title\": {\"text\": \"Quantidade de casos / dia\"}}},\n",
              "                        {\"responsive\": true}\n",
              "                    ).then(function(){\n",
              "                            \n",
              "var gd = document.getElementById('d83efa18-3238-4faf-b951-e5e35f56185f');\n",
              "var x = new MutationObserver(function (mutations, observer) {{\n",
              "        var display = window.getComputedStyle(gd).display;\n",
              "        if (!display || display === 'none') {{\n",
              "            console.log([gd, 'removed!']);\n",
              "            Plotly.purge(gd);\n",
              "            observer.disconnect();\n",
              "        }}\n",
              "}});\n",
              "\n",
              "// Listen for the removal of the full notebook cells\n",
              "var notebookContainer = gd.closest('#notebook-container');\n",
              "if (notebookContainer) {{\n",
              "    x.observe(notebookContainer, {childList: true});\n",
              "}}\n",
              "\n",
              "// Listen for the clearing of the current output cell\n",
              "var outputEl = gd.closest('.output');\n",
              "if (outputEl) {{\n",
              "    x.observe(outputEl, {childList: true});\n",
              "}}\n",
              "\n",
              "                        })\n",
              "                };\n",
              "                \n",
              "            </script>\n",
              "        </div>\n",
              "</body>\n",
              "</html>"
            ]
          },
          "metadata": {
            "tags": []
          }
        }
      ]
    },
    {
      "cell_type": "markdown",
      "metadata": {
        "id": "iq4crABJODUl"
      },
      "source": [
        "**1.4 Gráfico casos confirmados por dia**"
      ]
    },
    {
      "cell_type": "code",
      "metadata": {
        "id": "nXphOY1Te2-f"
      },
      "source": [
        ""
      ],
      "execution_count": null,
      "outputs": []
    },
    {
      "cell_type": "markdown",
      "metadata": {
        "id": "d52d1V8w_vUn"
      },
      "source": [
        "**Metodo para agrupar por dia a quantidade de casos confirmados**"
      ]
    },
    {
      "cell_type": "code",
      "metadata": {
        "id": "nOQQO58gOkj7"
      },
      "source": [
        "df_gr_obito.head(2)"
      ],
      "execution_count": null,
      "outputs": []
    },
    {
      "cell_type": "code",
      "metadata": {
        "colab": {
          "base_uri": "https://localhost:8080/",
          "height": 416
        },
        "id": "iVeoEM7CDtn9",
        "outputId": "e55a0d66-9dc1-4ae9-901e-e816aa21c226"
      },
      "source": [
        "df_gr_obito['total_obito_acumulado'] = df_gr_obito['total_obito_dia'].cumsum()\r\n",
        "df_gr_obito"
      ],
      "execution_count": 51,
      "outputs": [
        {
          "output_type": "execute_result",
          "data": {
            "text/html": [
              "<div>\n",
              "<style scoped>\n",
              "    .dataframe tbody tr th:only-of-type {\n",
              "        vertical-align: middle;\n",
              "    }\n",
              "\n",
              "    .dataframe tbody tr th {\n",
              "        vertical-align: top;\n",
              "    }\n",
              "\n",
              "    .dataframe thead th {\n",
              "        text-align: right;\n",
              "    }\n",
              "</style>\n",
              "<table border=\"1\" class=\"dataframe\">\n",
              "  <thead>\n",
              "    <tr style=\"text-align: right;\">\n",
              "      <th></th>\n",
              "      <th>data_obito</th>\n",
              "      <th>total_obito_dia</th>\n",
              "      <th>MA7</th>\n",
              "      <th>MA30</th>\n",
              "      <th>total_obito_acumulado</th>\n",
              "    </tr>\n",
              "  </thead>\n",
              "  <tbody>\n",
              "    <tr>\n",
              "      <th>288</th>\n",
              "      <td>2020-03-24</td>\n",
              "      <td>4</td>\n",
              "      <td>4.428571</td>\n",
              "      <td>6.300000</td>\n",
              "      <td>4</td>\n",
              "    </tr>\n",
              "    <tr>\n",
              "      <th>295</th>\n",
              "      <td>2020-03-25</td>\n",
              "      <td>2</td>\n",
              "      <td>2.857143</td>\n",
              "      <td>5.166667</td>\n",
              "      <td>6</td>\n",
              "    </tr>\n",
              "    <tr>\n",
              "      <th>285</th>\n",
              "      <td>2020-03-26</td>\n",
              "      <td>4</td>\n",
              "      <td>5.285714</td>\n",
              "      <td>6.700000</td>\n",
              "      <td>10</td>\n",
              "    </tr>\n",
              "    <tr>\n",
              "      <th>292</th>\n",
              "      <td>2020-03-27</td>\n",
              "      <td>3</td>\n",
              "      <td>3.714286</td>\n",
              "      <td>5.700000</td>\n",
              "      <td>13</td>\n",
              "    </tr>\n",
              "    <tr>\n",
              "      <th>293</th>\n",
              "      <td>2020-03-28</td>\n",
              "      <td>2</td>\n",
              "      <td>3.428571</td>\n",
              "      <td>5.500000</td>\n",
              "      <td>15</td>\n",
              "    </tr>\n",
              "    <tr>\n",
              "      <th>...</th>\n",
              "      <td>...</td>\n",
              "      <td>...</td>\n",
              "      <td>...</td>\n",
              "      <td>...</td>\n",
              "      <td>...</td>\n",
              "    </tr>\n",
              "    <tr>\n",
              "      <th>276</th>\n",
              "      <td>2021-01-10</td>\n",
              "      <td>6</td>\n",
              "      <td>6.571429</td>\n",
              "      <td>7.800000</td>\n",
              "      <td>11888</td>\n",
              "    </tr>\n",
              "    <tr>\n",
              "      <th>271</th>\n",
              "      <td>2021-01-11</td>\n",
              "      <td>7</td>\n",
              "      <td>7.000000</td>\n",
              "      <td>8.400000</td>\n",
              "      <td>11895</td>\n",
              "    </tr>\n",
              "    <tr>\n",
              "      <th>291</th>\n",
              "      <td>2021-01-12</td>\n",
              "      <td>3</td>\n",
              "      <td>3.857143</td>\n",
              "      <td>5.866667</td>\n",
              "      <td>11898</td>\n",
              "    </tr>\n",
              "    <tr>\n",
              "      <th>266</th>\n",
              "      <td>2021-01-13</td>\n",
              "      <td>7</td>\n",
              "      <td>7.571429</td>\n",
              "      <td>8.900000</td>\n",
              "      <td>11905</td>\n",
              "    </tr>\n",
              "    <tr>\n",
              "      <th>296</th>\n",
              "      <td>2021-01-15</td>\n",
              "      <td>2</td>\n",
              "      <td>2.571429</td>\n",
              "      <td>5.000000</td>\n",
              "      <td>11907</td>\n",
              "    </tr>\n",
              "  </tbody>\n",
              "</table>\n",
              "<p>297 rows × 5 columns</p>\n",
              "</div>"
            ],
            "text/plain": [
              "    data_obito  total_obito_dia       MA7      MA30  total_obito_acumulado\n",
              "288 2020-03-24                4  4.428571  6.300000                      4\n",
              "295 2020-03-25                2  2.857143  5.166667                      6\n",
              "285 2020-03-26                4  5.285714  6.700000                     10\n",
              "292 2020-03-27                3  3.714286  5.700000                     13\n",
              "293 2020-03-28                2  3.428571  5.500000                     15\n",
              "..         ...              ...       ...       ...                    ...\n",
              "276 2021-01-10                6  6.571429  7.800000                  11888\n",
              "271 2021-01-11                7  7.000000  8.400000                  11895\n",
              "291 2021-01-12                3  3.857143  5.866667                  11898\n",
              "266 2021-01-13                7  7.571429  8.900000                  11905\n",
              "296 2021-01-15                2  2.571429  5.000000                  11907\n",
              "\n",
              "[297 rows x 5 columns]"
            ]
          },
          "metadata": {
            "tags": []
          },
          "execution_count": 51
        }
      ]
    },
    {
      "cell_type": "markdown",
      "metadata": {
        "id": "dEhDmcItOwM5"
      },
      "source": [
        "**GERAR GRÁFICO DE ÓBITOS E CASOS CONFIRMADOS POR DIA**"
      ]
    },
    {
      "cell_type": "markdown",
      "metadata": {
        "id": "3MpT09sTFP2a"
      },
      "source": [
        "**Gerar grupo de faixa de idade por óbito**"
      ]
    },
    {
      "cell_type": "code",
      "metadata": {
        "colab": {
          "base_uri": "https://localhost:8080/",
          "height": 234
        },
        "id": "Q0rnwo2bO8Vs",
        "outputId": "cd9e1f98-611a-4b24-9209-6772693c0c1d"
      },
      "source": [
        "df_obitos.head(2)"
      ],
      "execution_count": 52,
      "outputs": [
        {
          "output_type": "execute_result",
          "data": {
            "text/html": [
              "<div>\n",
              "<style scoped>\n",
              "    .dataframe tbody tr th:only-of-type {\n",
              "        vertical-align: middle;\n",
              "    }\n",
              "\n",
              "    .dataframe tbody tr th {\n",
              "        vertical-align: top;\n",
              "    }\n",
              "\n",
              "    .dataframe thead th {\n",
              "        text-align: right;\n",
              "    }\n",
              "</style>\n",
              "<table border=\"1\" class=\"dataframe\">\n",
              "  <thead>\n",
              "    <tr style=\"text-align: right;\">\n",
              "      <th></th>\n",
              "      <th>identificadorCaso</th>\n",
              "      <th>idRedcap</th>\n",
              "      <th>idEsus</th>\n",
              "      <th>idSivep</th>\n",
              "      <th>classificacaoEstadoRedcap</th>\n",
              "      <th>classificacaoEstadoEsus</th>\n",
              "      <th>classificacaoFinalEsus</th>\n",
              "      <th>evolucaoCasoEsus</th>\n",
              "      <th>cboEsus</th>\n",
              "      <th>profissionalSaudeEsus</th>\n",
              "      <th>paisCaso</th>\n",
              "      <th>estadoCaso</th>\n",
              "      <th>codigoMunicipioCaso</th>\n",
              "      <th>municipioCaso</th>\n",
              "      <th>bairroCaso</th>\n",
              "      <th>bairroCasoGeocoder</th>\n",
              "      <th>sexoCaso</th>\n",
              "      <th>idadeCaso</th>\n",
              "      <th>faixaEtaria</th>\n",
              "      <th>dataNascimento</th>\n",
              "      <th>dataNotificacao</th>\n",
              "      <th>dataInicioSintomas</th>\n",
              "      <th>dataSolicitacaoExame</th>\n",
              "      <th>dataColetaExame</th>\n",
              "      <th>dataResultadoExame</th>\n",
              "      <th>resultadoFinalExame</th>\n",
              "      <th>laboratorioExame</th>\n",
              "      <th>classificacaoEstadoSivep</th>\n",
              "      <th>dataInternacaoSivep</th>\n",
              "      <th>dataEntradaUTISivep</th>\n",
              "      <th>dataSaidaUTISivep</th>\n",
              "      <th>evolucaoCasoSivep</th>\n",
              "      <th>dataEvolucaoCasoSivep</th>\n",
              "      <th>comorbidadePuerperaSivep</th>\n",
              "      <th>comorbidadeCardiovascularSivep</th>\n",
              "      <th>comorbidadeHematologiaSivep</th>\n",
              "      <th>comorbidadeSindromeDownSivep</th>\n",
              "      <th>comorbidadeHepaticaSivep</th>\n",
              "      <th>comorbidadeAsmaSivep</th>\n",
              "      <th>comorbidadeDiabetesSivep</th>\n",
              "      <th>comorbidadeNeurologiaSivep</th>\n",
              "      <th>comorbidadePneumopatiaSivep</th>\n",
              "      <th>comorbidadeImunodeficienciaSivep</th>\n",
              "      <th>comorbidadeRenalSivep</th>\n",
              "      <th>comorbidadeObesidadeSivep</th>\n",
              "      <th>comorbidadeHiv</th>\n",
              "      <th>comorbidadeNeoplasias</th>\n",
              "      <th>tipoTesteExame</th>\n",
              "      <th>requisicaoGal</th>\n",
              "      <th>racaCor</th>\n",
              "      <th>dataNotificacaoObito</th>\n",
              "      <th>cnesNotificacaoEsus</th>\n",
              "      <th>municipioNotificacaoEsus</th>\n",
              "      <th>tipoObitoMaterno</th>\n",
              "      <th>classificacaoFinalCasoSivep</th>\n",
              "      <th>gestante</th>\n",
              "      <th>tipoTesteEsus</th>\n",
              "      <th>obitoConfirmado</th>\n",
              "      <th>dataObito</th>\n",
              "      <th>classificacaoObito</th>\n",
              "      <th>localObito</th>\n",
              "      <th>tipoLocalObito</th>\n",
              "      <th>qtObito</th>\n",
              "      <th>qtCasoConfirmado</th>\n",
              "      <th>qtCasoConfirmadoSemObito</th>\n",
              "    </tr>\n",
              "  </thead>\n",
              "  <tbody>\n",
              "    <tr>\n",
              "      <th>5478</th>\n",
              "      <td>93dcfbd872b61a07b6b50f072570195c</td>\n",
              "      <td>NaN</td>\n",
              "      <td>232000773339</td>\n",
              "      <td>3.158948e+11</td>\n",
              "      <td>NaN</td>\n",
              "      <td>NaN</td>\n",
              "      <td>NaN</td>\n",
              "      <td>NaN</td>\n",
              "      <td>NaN</td>\n",
              "      <td>False</td>\n",
              "      <td>BRASIL</td>\n",
              "      <td>CE</td>\n",
              "      <td>230440.0</td>\n",
              "      <td>FORTALEZA</td>\n",
              "      <td>GRANJA PORTUGAL</td>\n",
              "      <td>NaN</td>\n",
              "      <td>MASCULINO</td>\n",
              "      <td>68.0</td>\n",
              "      <td>65 a 69 anos</td>\n",
              "      <td>1952-09-04</td>\n",
              "      <td>2020-05-06</td>\n",
              "      <td>2020-05-03</td>\n",
              "      <td>NaT</td>\n",
              "      <td>2020-05-10 03:00:00</td>\n",
              "      <td>2020-05-06</td>\n",
              "      <td>Positivo</td>\n",
              "      <td>LACEN</td>\n",
              "      <td>Positivo</td>\n",
              "      <td>2020-05-10 00:00:00.000</td>\n",
              "      <td>NaN</td>\n",
              "      <td>NaN</td>\n",
              "      <td>Óbito</td>\n",
              "      <td>2020-05-20 00:00:00.000</td>\n",
              "      <td>NaN</td>\n",
              "      <td>NaN</td>\n",
              "      <td>NaN</td>\n",
              "      <td>NaN</td>\n",
              "      <td>NaN</td>\n",
              "      <td>NaN</td>\n",
              "      <td>NaN</td>\n",
              "      <td>NaN</td>\n",
              "      <td>NaN</td>\n",
              "      <td>NaN</td>\n",
              "      <td>NaN</td>\n",
              "      <td>NaN</td>\n",
              "      <td>NaN</td>\n",
              "      <td>NaN</td>\n",
              "      <td>RT-PCR</td>\n",
              "      <td>NaN</td>\n",
              "      <td>Parda</td>\n",
              "      <td>2020-05-22 15:36:36.170</td>\n",
              "      <td>NaN</td>\n",
              "      <td>FORTALEZA</td>\n",
              "      <td>NaN</td>\n",
              "      <td>SRAG por COVID-19</td>\n",
              "      <td>NaN</td>\n",
              "      <td>NaN</td>\n",
              "      <td>True</td>\n",
              "      <td>2020-05-20</td>\n",
              "      <td>Confirmado</td>\n",
              "      <td>HOSPITAL ANTONIO PRUDENTE</td>\n",
              "      <td>PRIVADA</td>\n",
              "      <td>1</td>\n",
              "      <td>1</td>\n",
              "      <td>0</td>\n",
              "    </tr>\n",
              "    <tr>\n",
              "      <th>8289</th>\n",
              "      <td>65390b27c1653d5697e017004cf72e2e</td>\n",
              "      <td>NaN</td>\n",
              "      <td>232000359812</td>\n",
              "      <td>3.158758e+11</td>\n",
              "      <td>NaN</td>\n",
              "      <td>Positivo</td>\n",
              "      <td>Confirmado Laboratorial</td>\n",
              "      <td>Óbito</td>\n",
              "      <td>NaN</td>\n",
              "      <td>False</td>\n",
              "      <td>BRASIL</td>\n",
              "      <td>CE</td>\n",
              "      <td>230440.0</td>\n",
              "      <td>FORTALEZA</td>\n",
              "      <td>JACARECANGA</td>\n",
              "      <td>NaN</td>\n",
              "      <td>FEMININO</td>\n",
              "      <td>80.0</td>\n",
              "      <td>80 ou mais</td>\n",
              "      <td>1940-03-17</td>\n",
              "      <td>2020-04-22</td>\n",
              "      <td>2020-04-20</td>\n",
              "      <td>NaT</td>\n",
              "      <td>2020-04-21 00:00:00</td>\n",
              "      <td>2020-04-21</td>\n",
              "      <td>Positivo</td>\n",
              "      <td>GAL</td>\n",
              "      <td>Positivo</td>\n",
              "      <td>2020-04-21 00:00:00.000</td>\n",
              "      <td>2020-04-23 00:00:00.000</td>\n",
              "      <td>NaN</td>\n",
              "      <td>Óbito</td>\n",
              "      <td>2020-04-26 00:00:00.000</td>\n",
              "      <td>NaN</td>\n",
              "      <td>NaN</td>\n",
              "      <td>NaN</td>\n",
              "      <td>NaN</td>\n",
              "      <td>NaN</td>\n",
              "      <td>NaN</td>\n",
              "      <td>NaN</td>\n",
              "      <td>NaN</td>\n",
              "      <td>NaN</td>\n",
              "      <td>NaN</td>\n",
              "      <td>NaN</td>\n",
              "      <td>NaN</td>\n",
              "      <td>NaN</td>\n",
              "      <td>NaN</td>\n",
              "      <td>RT-PCR</td>\n",
              "      <td>2.001610e+11</td>\n",
              "      <td>Não Informado</td>\n",
              "      <td>2020-05-20 17:28:55.050</td>\n",
              "      <td>NaN</td>\n",
              "      <td>FORTALEZA</td>\n",
              "      <td>NaN</td>\n",
              "      <td>SRAG por COVID-19</td>\n",
              "      <td>NaN</td>\n",
              "      <td>RT-PCR</td>\n",
              "      <td>True</td>\n",
              "      <td>2020-04-26</td>\n",
              "      <td>Confirmado</td>\n",
              "      <td>UNIDADE PRONTO ATENDIMENTO CRISTO REDENTOR</td>\n",
              "      <td>PÚBLICA</td>\n",
              "      <td>1</td>\n",
              "      <td>1</td>\n",
              "      <td>0</td>\n",
              "    </tr>\n",
              "  </tbody>\n",
              "</table>\n",
              "</div>"
            ],
            "text/plain": [
              "                     identificadorCaso  ...  qtCasoConfirmadoSemObito\n",
              "5478  93dcfbd872b61a07b6b50f072570195c  ...                         0\n",
              "8289  65390b27c1653d5697e017004cf72e2e  ...                         0\n",
              "\n",
              "[2 rows x 65 columns]"
            ]
          },
          "metadata": {
            "tags": []
          },
          "execution_count": 52
        }
      ]
    },
    {
      "cell_type": "code",
      "metadata": {
        "colab": {
          "base_uri": "https://localhost:8080/",
          "height": 601
        },
        "id": "vklITaspDs3u",
        "outputId": "4210ef26-17dd-427b-ea2e-190d5585a7e7"
      },
      "source": [
        "counts_obitos_faixa_idade = df_obitos.groupby(['faixaEtaria', 'sexoCaso']).faixaEtaria.count().unstack()\r\n",
        "counts_obitos_faixa_idade"
      ],
      "execution_count": 53,
      "outputs": [
        {
          "output_type": "execute_result",
          "data": {
            "text/html": [
              "<div>\n",
              "<style scoped>\n",
              "    .dataframe tbody tr th:only-of-type {\n",
              "        vertical-align: middle;\n",
              "    }\n",
              "\n",
              "    .dataframe tbody tr th {\n",
              "        vertical-align: top;\n",
              "    }\n",
              "\n",
              "    .dataframe thead th {\n",
              "        text-align: right;\n",
              "    }\n",
              "</style>\n",
              "<table border=\"1\" class=\"dataframe\">\n",
              "  <thead>\n",
              "    <tr style=\"text-align: right;\">\n",
              "      <th>sexoCaso</th>\n",
              "      <th>FEMININO</th>\n",
              "      <th>MASCULINO</th>\n",
              "    </tr>\n",
              "    <tr>\n",
              "      <th>faixaEtaria</th>\n",
              "      <th></th>\n",
              "      <th></th>\n",
              "    </tr>\n",
              "  </thead>\n",
              "  <tbody>\n",
              "    <tr>\n",
              "      <th>00 a 04 anos</th>\n",
              "      <td>23</td>\n",
              "      <td>14</td>\n",
              "    </tr>\n",
              "    <tr>\n",
              "      <th>05 a 09 anos</th>\n",
              "      <td>2</td>\n",
              "      <td>5</td>\n",
              "    </tr>\n",
              "    <tr>\n",
              "      <th>10 a 14 anos</th>\n",
              "      <td>3</td>\n",
              "      <td>6</td>\n",
              "    </tr>\n",
              "    <tr>\n",
              "      <th>15 a 19 anos</th>\n",
              "      <td>14</td>\n",
              "      <td>20</td>\n",
              "    </tr>\n",
              "    <tr>\n",
              "      <th>20 a 24 anos</th>\n",
              "      <td>32</td>\n",
              "      <td>21</td>\n",
              "    </tr>\n",
              "    <tr>\n",
              "      <th>25 a 29 anos</th>\n",
              "      <td>29</td>\n",
              "      <td>54</td>\n",
              "    </tr>\n",
              "    <tr>\n",
              "      <th>30 a 34 anos</th>\n",
              "      <td>53</td>\n",
              "      <td>74</td>\n",
              "    </tr>\n",
              "    <tr>\n",
              "      <th>35 a 39 anos</th>\n",
              "      <td>84</td>\n",
              "      <td>142</td>\n",
              "    </tr>\n",
              "    <tr>\n",
              "      <th>40 a 44 anos</th>\n",
              "      <td>96</td>\n",
              "      <td>209</td>\n",
              "    </tr>\n",
              "    <tr>\n",
              "      <th>45 a 49 anos</th>\n",
              "      <td>142</td>\n",
              "      <td>247</td>\n",
              "    </tr>\n",
              "    <tr>\n",
              "      <th>50 a 54 anos</th>\n",
              "      <td>205</td>\n",
              "      <td>345</td>\n",
              "    </tr>\n",
              "    <tr>\n",
              "      <th>55 a 59 anos</th>\n",
              "      <td>266</td>\n",
              "      <td>485</td>\n",
              "    </tr>\n",
              "    <tr>\n",
              "      <th>60 a 64 anos</th>\n",
              "      <td>383</td>\n",
              "      <td>612</td>\n",
              "    </tr>\n",
              "    <tr>\n",
              "      <th>65 a 69 anos</th>\n",
              "      <td>475</td>\n",
              "      <td>735</td>\n",
              "    </tr>\n",
              "    <tr>\n",
              "      <th>70 a 74 anos</th>\n",
              "      <td>655</td>\n",
              "      <td>887</td>\n",
              "    </tr>\n",
              "    <tr>\n",
              "      <th>75 a 79 anos</th>\n",
              "      <td>705</td>\n",
              "      <td>906</td>\n",
              "    </tr>\n",
              "    <tr>\n",
              "      <th>80 ou mais</th>\n",
              "      <td>1813</td>\n",
              "      <td>2121</td>\n",
              "    </tr>\n",
              "  </tbody>\n",
              "</table>\n",
              "</div>"
            ],
            "text/plain": [
              "sexoCaso      FEMININO  MASCULINO\n",
              "faixaEtaria                      \n",
              "00 a 04 anos        23         14\n",
              "05 a 09 anos         2          5\n",
              "10 a 14 anos         3          6\n",
              "15 a 19 anos        14         20\n",
              "20 a 24 anos        32         21\n",
              "25 a 29 anos        29         54\n",
              "30 a 34 anos        53         74\n",
              "35 a 39 anos        84        142\n",
              "40 a 44 anos        96        209\n",
              "45 a 49 anos       142        247\n",
              "50 a 54 anos       205        345\n",
              "55 a 59 anos       266        485\n",
              "60 a 64 anos       383        612\n",
              "65 a 69 anos       475        735\n",
              "70 a 74 anos       655        887\n",
              "75 a 79 anos       705        906\n",
              "80 ou mais        1813       2121"
            ]
          },
          "metadata": {
            "tags": []
          },
          "execution_count": 53
        }
      ]
    },
    {
      "cell_type": "code",
      "metadata": {
        "id": "UHMZtgaJJpOO"
      },
      "source": [
        "#type(counts_obitos_faixa_idade)"
      ],
      "execution_count": 54,
      "outputs": []
    },
    {
      "cell_type": "code",
      "metadata": {
        "colab": {
          "base_uri": "https://localhost:8080/",
          "height": 570
        },
        "id": "33AYIrg0JxcN",
        "outputId": "c41c5987-a33b-4c44-9d5c-0d0dbd918492"
      },
      "source": [
        "df1 = counts_obitos_faixa_idade.reset_index()\r\n",
        "df1\r\n"
      ],
      "execution_count": 55,
      "outputs": [
        {
          "output_type": "execute_result",
          "data": {
            "text/html": [
              "<div>\n",
              "<style scoped>\n",
              "    .dataframe tbody tr th:only-of-type {\n",
              "        vertical-align: middle;\n",
              "    }\n",
              "\n",
              "    .dataframe tbody tr th {\n",
              "        vertical-align: top;\n",
              "    }\n",
              "\n",
              "    .dataframe thead th {\n",
              "        text-align: right;\n",
              "    }\n",
              "</style>\n",
              "<table border=\"1\" class=\"dataframe\">\n",
              "  <thead>\n",
              "    <tr style=\"text-align: right;\">\n",
              "      <th>sexoCaso</th>\n",
              "      <th>faixaEtaria</th>\n",
              "      <th>FEMININO</th>\n",
              "      <th>MASCULINO</th>\n",
              "    </tr>\n",
              "  </thead>\n",
              "  <tbody>\n",
              "    <tr>\n",
              "      <th>0</th>\n",
              "      <td>00 a 04 anos</td>\n",
              "      <td>23</td>\n",
              "      <td>14</td>\n",
              "    </tr>\n",
              "    <tr>\n",
              "      <th>1</th>\n",
              "      <td>05 a 09 anos</td>\n",
              "      <td>2</td>\n",
              "      <td>5</td>\n",
              "    </tr>\n",
              "    <tr>\n",
              "      <th>2</th>\n",
              "      <td>10 a 14 anos</td>\n",
              "      <td>3</td>\n",
              "      <td>6</td>\n",
              "    </tr>\n",
              "    <tr>\n",
              "      <th>3</th>\n",
              "      <td>15 a 19 anos</td>\n",
              "      <td>14</td>\n",
              "      <td>20</td>\n",
              "    </tr>\n",
              "    <tr>\n",
              "      <th>4</th>\n",
              "      <td>20 a 24 anos</td>\n",
              "      <td>32</td>\n",
              "      <td>21</td>\n",
              "    </tr>\n",
              "    <tr>\n",
              "      <th>5</th>\n",
              "      <td>25 a 29 anos</td>\n",
              "      <td>29</td>\n",
              "      <td>54</td>\n",
              "    </tr>\n",
              "    <tr>\n",
              "      <th>6</th>\n",
              "      <td>30 a 34 anos</td>\n",
              "      <td>53</td>\n",
              "      <td>74</td>\n",
              "    </tr>\n",
              "    <tr>\n",
              "      <th>7</th>\n",
              "      <td>35 a 39 anos</td>\n",
              "      <td>84</td>\n",
              "      <td>142</td>\n",
              "    </tr>\n",
              "    <tr>\n",
              "      <th>8</th>\n",
              "      <td>40 a 44 anos</td>\n",
              "      <td>96</td>\n",
              "      <td>209</td>\n",
              "    </tr>\n",
              "    <tr>\n",
              "      <th>9</th>\n",
              "      <td>45 a 49 anos</td>\n",
              "      <td>142</td>\n",
              "      <td>247</td>\n",
              "    </tr>\n",
              "    <tr>\n",
              "      <th>10</th>\n",
              "      <td>50 a 54 anos</td>\n",
              "      <td>205</td>\n",
              "      <td>345</td>\n",
              "    </tr>\n",
              "    <tr>\n",
              "      <th>11</th>\n",
              "      <td>55 a 59 anos</td>\n",
              "      <td>266</td>\n",
              "      <td>485</td>\n",
              "    </tr>\n",
              "    <tr>\n",
              "      <th>12</th>\n",
              "      <td>60 a 64 anos</td>\n",
              "      <td>383</td>\n",
              "      <td>612</td>\n",
              "    </tr>\n",
              "    <tr>\n",
              "      <th>13</th>\n",
              "      <td>65 a 69 anos</td>\n",
              "      <td>475</td>\n",
              "      <td>735</td>\n",
              "    </tr>\n",
              "    <tr>\n",
              "      <th>14</th>\n",
              "      <td>70 a 74 anos</td>\n",
              "      <td>655</td>\n",
              "      <td>887</td>\n",
              "    </tr>\n",
              "    <tr>\n",
              "      <th>15</th>\n",
              "      <td>75 a 79 anos</td>\n",
              "      <td>705</td>\n",
              "      <td>906</td>\n",
              "    </tr>\n",
              "    <tr>\n",
              "      <th>16</th>\n",
              "      <td>80 ou mais</td>\n",
              "      <td>1813</td>\n",
              "      <td>2121</td>\n",
              "    </tr>\n",
              "  </tbody>\n",
              "</table>\n",
              "</div>"
            ],
            "text/plain": [
              "sexoCaso   faixaEtaria  FEMININO  MASCULINO\n",
              "0         00 a 04 anos        23         14\n",
              "1         05 a 09 anos         2          5\n",
              "2         10 a 14 anos         3          6\n",
              "3         15 a 19 anos        14         20\n",
              "4         20 a 24 anos        32         21\n",
              "5         25 a 29 anos        29         54\n",
              "6         30 a 34 anos        53         74\n",
              "7         35 a 39 anos        84        142\n",
              "8         40 a 44 anos        96        209\n",
              "9         45 a 49 anos       142        247\n",
              "10        50 a 54 anos       205        345\n",
              "11        55 a 59 anos       266        485\n",
              "12        60 a 64 anos       383        612\n",
              "13        65 a 69 anos       475        735\n",
              "14        70 a 74 anos       655        887\n",
              "15        75 a 79 anos       705        906\n",
              "16          80 ou mais      1813       2121"
            ]
          },
          "metadata": {
            "tags": []
          },
          "execution_count": 55
        }
      ]
    },
    {
      "cell_type": "code",
      "metadata": {
        "colab": {
          "base_uri": "https://localhost:8080/",
          "height": 542
        },
        "id": "ZtQ2MZnWFWrV",
        "outputId": "667c6cff-d8d2-4c08-a318-c339f8e25ac7"
      },
      "source": [
        "import plotly.express as px\r\n",
        "\r\n",
        "sexos = ['MASCULINO', 'FEMININO']\r\n",
        "faixas  = ['0-4', '5-9', '10-14', '15-19', '20-24', '25-29', '30-34', '35-39', '40-44', '45-49',\r\n",
        "           '50-54', '55-59', '60-64', '65-69 ', '70-74', '75-79', '80+']\r\n",
        "\r\n",
        "\r\n",
        "\r\n",
        "fig = go.Figure(data=[\r\n",
        "    go.Bar(name='MASCULINO', x= faixas, y= df1['MASCULINO']),\r\n",
        "    go.Bar(name='FEMININO', x= faixas, y= df1['FEMININO'])\r\n",
        "])\r\n",
        "# Change the bar mode\r\n",
        "fig.update_layout(barmode='group')\r\n",
        "fig.update_layout(title_text='Total de óbitos por faixa de idade')\r\n",
        "fig.show()\r\n",
        "\r\n",
        "\r\n",
        "\r\n"
      ],
      "execution_count": 56,
      "outputs": [
        {
          "output_type": "display_data",
          "data": {
            "text/html": [
              "<html>\n",
              "<head><meta charset=\"utf-8\" /></head>\n",
              "<body>\n",
              "    <div>\n",
              "            <script src=\"https://cdnjs.cloudflare.com/ajax/libs/mathjax/2.7.5/MathJax.js?config=TeX-AMS-MML_SVG\"></script><script type=\"text/javascript\">if (window.MathJax) {MathJax.Hub.Config({SVG: {font: \"STIX-Web\"}});}</script>\n",
              "                <script type=\"text/javascript\">window.PlotlyConfig = {MathJaxConfig: 'local'};</script>\n",
              "        <script src=\"https://cdn.plot.ly/plotly-latest.min.js\"></script>    \n",
              "            <div id=\"c9590355-71fa-44e9-b072-5dddbf2b9188\" class=\"plotly-graph-div\" style=\"height:525px; width:100%;\"></div>\n",
              "            <script type=\"text/javascript\">\n",
              "                \n",
              "                    window.PLOTLYENV=window.PLOTLYENV || {};\n",
              "                    \n",
              "                if (document.getElementById(\"c9590355-71fa-44e9-b072-5dddbf2b9188\")) {\n",
              "                    Plotly.newPlot(\n",
              "                        'c9590355-71fa-44e9-b072-5dddbf2b9188',\n",
              "                        [{\"name\": \"MASCULINO\", \"type\": \"bar\", \"x\": [\"0-4\", \"5-9\", \"10-14\", \"15-19\", \"20-24\", \"25-29\", \"30-34\", \"35-39\", \"40-44\", \"45-49\", \"50-54\", \"55-59\", \"60-64\", \"65-69 \", \"70-74\", \"75-79\", \"80+\"], \"y\": [14, 5, 6, 20, 21, 54, 74, 142, 209, 247, 345, 485, 612, 735, 887, 906, 2121]}, {\"name\": \"FEMININO\", \"type\": \"bar\", \"x\": [\"0-4\", \"5-9\", \"10-14\", \"15-19\", \"20-24\", \"25-29\", \"30-34\", \"35-39\", \"40-44\", \"45-49\", \"50-54\", \"55-59\", \"60-64\", \"65-69 \", \"70-74\", \"75-79\", \"80+\"], \"y\": [23, 2, 3, 14, 32, 29, 53, 84, 96, 142, 205, 266, 383, 475, 655, 705, 1813]}],\n",
              "                        {\"barmode\": \"group\", \"template\": {\"data\": {\"bar\": [{\"error_x\": {\"color\": \"#2a3f5f\"}, \"error_y\": {\"color\": \"#2a3f5f\"}, \"marker\": {\"line\": {\"color\": \"#E5ECF6\", \"width\": 0.5}}, \"type\": \"bar\"}], \"barpolar\": [{\"marker\": {\"line\": {\"color\": \"#E5ECF6\", \"width\": 0.5}}, \"type\": \"barpolar\"}], \"carpet\": [{\"aaxis\": {\"endlinecolor\": \"#2a3f5f\", \"gridcolor\": \"white\", \"linecolor\": \"white\", \"minorgridcolor\": \"white\", \"startlinecolor\": \"#2a3f5f\"}, \"baxis\": {\"endlinecolor\": \"#2a3f5f\", \"gridcolor\": \"white\", \"linecolor\": \"white\", \"minorgridcolor\": \"white\", \"startlinecolor\": \"#2a3f5f\"}, \"type\": \"carpet\"}], \"choropleth\": [{\"colorbar\": {\"outlinewidth\": 0, \"ticks\": \"\"}, \"type\": \"choropleth\"}], \"contour\": [{\"colorbar\": {\"outlinewidth\": 0, \"ticks\": \"\"}, \"colorscale\": [[0.0, \"#0d0887\"], [0.1111111111111111, \"#46039f\"], [0.2222222222222222, \"#7201a8\"], [0.3333333333333333, \"#9c179e\"], [0.4444444444444444, \"#bd3786\"], [0.5555555555555556, \"#d8576b\"], [0.6666666666666666, \"#ed7953\"], [0.7777777777777778, \"#fb9f3a\"], [0.8888888888888888, \"#fdca26\"], [1.0, \"#f0f921\"]], \"type\": \"contour\"}], \"contourcarpet\": [{\"colorbar\": {\"outlinewidth\": 0, \"ticks\": \"\"}, \"type\": \"contourcarpet\"}], \"heatmap\": [{\"colorbar\": {\"outlinewidth\": 0, \"ticks\": \"\"}, \"colorscale\": [[0.0, \"#0d0887\"], [0.1111111111111111, \"#46039f\"], [0.2222222222222222, \"#7201a8\"], [0.3333333333333333, \"#9c179e\"], [0.4444444444444444, \"#bd3786\"], [0.5555555555555556, \"#d8576b\"], [0.6666666666666666, \"#ed7953\"], [0.7777777777777778, \"#fb9f3a\"], [0.8888888888888888, \"#fdca26\"], [1.0, \"#f0f921\"]], \"type\": \"heatmap\"}], \"heatmapgl\": [{\"colorbar\": {\"outlinewidth\": 0, \"ticks\": \"\"}, \"colorscale\": [[0.0, \"#0d0887\"], [0.1111111111111111, \"#46039f\"], [0.2222222222222222, \"#7201a8\"], [0.3333333333333333, \"#9c179e\"], [0.4444444444444444, \"#bd3786\"], [0.5555555555555556, \"#d8576b\"], [0.6666666666666666, \"#ed7953\"], [0.7777777777777778, \"#fb9f3a\"], [0.8888888888888888, \"#fdca26\"], [1.0, \"#f0f921\"]], \"type\": \"heatmapgl\"}], \"histogram\": [{\"marker\": {\"colorbar\": {\"outlinewidth\": 0, \"ticks\": \"\"}}, \"type\": \"histogram\"}], \"histogram2d\": [{\"colorbar\": {\"outlinewidth\": 0, \"ticks\": \"\"}, \"colorscale\": [[0.0, \"#0d0887\"], [0.1111111111111111, \"#46039f\"], [0.2222222222222222, \"#7201a8\"], [0.3333333333333333, \"#9c179e\"], [0.4444444444444444, \"#bd3786\"], [0.5555555555555556, \"#d8576b\"], [0.6666666666666666, \"#ed7953\"], [0.7777777777777778, \"#fb9f3a\"], [0.8888888888888888, \"#fdca26\"], [1.0, \"#f0f921\"]], \"type\": \"histogram2d\"}], \"histogram2dcontour\": [{\"colorbar\": {\"outlinewidth\": 0, \"ticks\": \"\"}, \"colorscale\": [[0.0, \"#0d0887\"], [0.1111111111111111, \"#46039f\"], [0.2222222222222222, \"#7201a8\"], [0.3333333333333333, \"#9c179e\"], [0.4444444444444444, \"#bd3786\"], [0.5555555555555556, \"#d8576b\"], [0.6666666666666666, \"#ed7953\"], [0.7777777777777778, \"#fb9f3a\"], [0.8888888888888888, \"#fdca26\"], [1.0, \"#f0f921\"]], \"type\": \"histogram2dcontour\"}], \"mesh3d\": [{\"colorbar\": {\"outlinewidth\": 0, \"ticks\": \"\"}, \"type\": \"mesh3d\"}], \"parcoords\": [{\"line\": {\"colorbar\": {\"outlinewidth\": 0, \"ticks\": \"\"}}, \"type\": \"parcoords\"}], \"pie\": [{\"automargin\": true, \"type\": \"pie\"}], \"scatter\": [{\"marker\": {\"colorbar\": {\"outlinewidth\": 0, \"ticks\": \"\"}}, \"type\": \"scatter\"}], \"scatter3d\": [{\"line\": {\"colorbar\": {\"outlinewidth\": 0, \"ticks\": \"\"}}, \"marker\": {\"colorbar\": {\"outlinewidth\": 0, \"ticks\": \"\"}}, \"type\": \"scatter3d\"}], \"scattercarpet\": [{\"marker\": {\"colorbar\": {\"outlinewidth\": 0, \"ticks\": \"\"}}, \"type\": \"scattercarpet\"}], \"scattergeo\": [{\"marker\": {\"colorbar\": {\"outlinewidth\": 0, \"ticks\": \"\"}}, \"type\": \"scattergeo\"}], \"scattergl\": [{\"marker\": {\"colorbar\": {\"outlinewidth\": 0, \"ticks\": \"\"}}, \"type\": \"scattergl\"}], \"scattermapbox\": [{\"marker\": {\"colorbar\": {\"outlinewidth\": 0, \"ticks\": \"\"}}, \"type\": \"scattermapbox\"}], \"scatterpolar\": [{\"marker\": {\"colorbar\": {\"outlinewidth\": 0, \"ticks\": \"\"}}, \"type\": \"scatterpolar\"}], \"scatterpolargl\": [{\"marker\": {\"colorbar\": {\"outlinewidth\": 0, \"ticks\": \"\"}}, \"type\": \"scatterpolargl\"}], \"scatterternary\": [{\"marker\": {\"colorbar\": {\"outlinewidth\": 0, \"ticks\": \"\"}}, \"type\": \"scatterternary\"}], \"surface\": [{\"colorbar\": {\"outlinewidth\": 0, \"ticks\": \"\"}, \"colorscale\": [[0.0, \"#0d0887\"], [0.1111111111111111, \"#46039f\"], [0.2222222222222222, \"#7201a8\"], [0.3333333333333333, \"#9c179e\"], [0.4444444444444444, \"#bd3786\"], [0.5555555555555556, \"#d8576b\"], [0.6666666666666666, \"#ed7953\"], [0.7777777777777778, \"#fb9f3a\"], [0.8888888888888888, \"#fdca26\"], [1.0, \"#f0f921\"]], \"type\": \"surface\"}], \"table\": [{\"cells\": {\"fill\": {\"color\": \"#EBF0F8\"}, \"line\": {\"color\": \"white\"}}, \"header\": {\"fill\": {\"color\": \"#C8D4E3\"}, \"line\": {\"color\": \"white\"}}, \"type\": \"table\"}]}, \"layout\": {\"annotationdefaults\": {\"arrowcolor\": \"#2a3f5f\", \"arrowhead\": 0, \"arrowwidth\": 1}, \"coloraxis\": {\"colorbar\": {\"outlinewidth\": 0, \"ticks\": \"\"}}, \"colorscale\": {\"diverging\": [[0, \"#8e0152\"], [0.1, \"#c51b7d\"], [0.2, \"#de77ae\"], [0.3, \"#f1b6da\"], [0.4, \"#fde0ef\"], [0.5, \"#f7f7f7\"], [0.6, \"#e6f5d0\"], [0.7, \"#b8e186\"], [0.8, \"#7fbc41\"], [0.9, \"#4d9221\"], [1, \"#276419\"]], \"sequential\": [[0.0, \"#0d0887\"], [0.1111111111111111, \"#46039f\"], [0.2222222222222222, \"#7201a8\"], [0.3333333333333333, \"#9c179e\"], [0.4444444444444444, \"#bd3786\"], [0.5555555555555556, \"#d8576b\"], [0.6666666666666666, \"#ed7953\"], [0.7777777777777778, \"#fb9f3a\"], [0.8888888888888888, \"#fdca26\"], [1.0, \"#f0f921\"]], \"sequentialminus\": [[0.0, \"#0d0887\"], [0.1111111111111111, \"#46039f\"], [0.2222222222222222, \"#7201a8\"], [0.3333333333333333, \"#9c179e\"], [0.4444444444444444, \"#bd3786\"], [0.5555555555555556, \"#d8576b\"], [0.6666666666666666, \"#ed7953\"], [0.7777777777777778, \"#fb9f3a\"], [0.8888888888888888, \"#fdca26\"], [1.0, \"#f0f921\"]]}, \"colorway\": [\"#636efa\", \"#EF553B\", \"#00cc96\", \"#ab63fa\", \"#FFA15A\", \"#19d3f3\", \"#FF6692\", \"#B6E880\", \"#FF97FF\", \"#FECB52\"], \"font\": {\"color\": \"#2a3f5f\"}, \"geo\": {\"bgcolor\": \"white\", \"lakecolor\": \"white\", \"landcolor\": \"#E5ECF6\", \"showlakes\": true, \"showland\": true, \"subunitcolor\": \"white\"}, \"hoverlabel\": {\"align\": \"left\"}, \"hovermode\": \"closest\", \"mapbox\": {\"style\": \"light\"}, \"paper_bgcolor\": \"white\", \"plot_bgcolor\": \"#E5ECF6\", \"polar\": {\"angularaxis\": {\"gridcolor\": \"white\", \"linecolor\": \"white\", \"ticks\": \"\"}, \"bgcolor\": \"#E5ECF6\", \"radialaxis\": {\"gridcolor\": \"white\", \"linecolor\": \"white\", \"ticks\": \"\"}}, \"scene\": {\"xaxis\": {\"backgroundcolor\": \"#E5ECF6\", \"gridcolor\": \"white\", \"gridwidth\": 2, \"linecolor\": \"white\", \"showbackground\": true, \"ticks\": \"\", \"zerolinecolor\": \"white\"}, \"yaxis\": {\"backgroundcolor\": \"#E5ECF6\", \"gridcolor\": \"white\", \"gridwidth\": 2, \"linecolor\": \"white\", \"showbackground\": true, \"ticks\": \"\", \"zerolinecolor\": \"white\"}, \"zaxis\": {\"backgroundcolor\": \"#E5ECF6\", \"gridcolor\": \"white\", \"gridwidth\": 2, \"linecolor\": \"white\", \"showbackground\": true, \"ticks\": \"\", \"zerolinecolor\": \"white\"}}, \"shapedefaults\": {\"line\": {\"color\": \"#2a3f5f\"}}, \"ternary\": {\"aaxis\": {\"gridcolor\": \"white\", \"linecolor\": \"white\", \"ticks\": \"\"}, \"baxis\": {\"gridcolor\": \"white\", \"linecolor\": \"white\", \"ticks\": \"\"}, \"bgcolor\": \"#E5ECF6\", \"caxis\": {\"gridcolor\": \"white\", \"linecolor\": \"white\", \"ticks\": \"\"}}, \"title\": {\"x\": 0.05}, \"xaxis\": {\"automargin\": true, \"gridcolor\": \"white\", \"linecolor\": \"white\", \"ticks\": \"\", \"title\": {\"standoff\": 15}, \"zerolinecolor\": \"white\", \"zerolinewidth\": 2}, \"yaxis\": {\"automargin\": true, \"gridcolor\": \"white\", \"linecolor\": \"white\", \"ticks\": \"\", \"title\": {\"standoff\": 15}, \"zerolinecolor\": \"white\", \"zerolinewidth\": 2}}}, \"title\": {\"text\": \"Total de \\u00f3bitos por faixa de idade\"}},\n",
              "                        {\"responsive\": true}\n",
              "                    ).then(function(){\n",
              "                            \n",
              "var gd = document.getElementById('c9590355-71fa-44e9-b072-5dddbf2b9188');\n",
              "var x = new MutationObserver(function (mutations, observer) {{\n",
              "        var display = window.getComputedStyle(gd).display;\n",
              "        if (!display || display === 'none') {{\n",
              "            console.log([gd, 'removed!']);\n",
              "            Plotly.purge(gd);\n",
              "            observer.disconnect();\n",
              "        }}\n",
              "}});\n",
              "\n",
              "// Listen for the removal of the full notebook cells\n",
              "var notebookContainer = gd.closest('#notebook-container');\n",
              "if (notebookContainer) {{\n",
              "    x.observe(notebookContainer, {childList: true});\n",
              "}}\n",
              "\n",
              "// Listen for the clearing of the current output cell\n",
              "var outputEl = gd.closest('.output');\n",
              "if (outputEl) {{\n",
              "    x.observe(outputEl, {childList: true});\n",
              "}}\n",
              "\n",
              "                        })\n",
              "                };\n",
              "                \n",
              "            </script>\n",
              "        </div>\n",
              "</body>\n",
              "</html>"
            ]
          },
          "metadata": {
            "tags": []
          }
        }
      ]
    },
    {
      "cell_type": "code",
      "metadata": {
        "id": "8WreyNY9F4rV"
      },
      "source": [
        ""
      ],
      "execution_count": 56,
      "outputs": []
    },
    {
      "cell_type": "markdown",
      "metadata": {
        "id": "eco_zPwx1d7A"
      },
      "source": [
        "Distribuição de óbitos por sexo do paciente"
      ]
    },
    {
      "cell_type": "code",
      "metadata": {
        "id": "BmIaV_oO1igV"
      },
      "source": [
        "obito_by_sexo = df_obitos.groupby([ 'sexoCaso', 'racaCor']).size().unstack('racaCor')\r\n",
        "obito_by_sexo.columns =  ['Parda','Branca','Amarela', 'Não Informado','Preta','Ignorado','Indígena', 'Indigena']"
      ],
      "execution_count": 57,
      "outputs": []
    },
    {
      "cell_type": "code",
      "metadata": {
        "colab": {
          "base_uri": "https://localhost:8080/",
          "height": 141
        },
        "id": "WXy3s4j81kkL",
        "outputId": "0121120a-a598-4f00-a0f0-986a9233ddc6"
      },
      "source": [
        "obito_by_sexo"
      ],
      "execution_count": 58,
      "outputs": [
        {
          "output_type": "execute_result",
          "data": {
            "text/html": [
              "<div>\n",
              "<style scoped>\n",
              "    .dataframe tbody tr th:only-of-type {\n",
              "        vertical-align: middle;\n",
              "    }\n",
              "\n",
              "    .dataframe tbody tr th {\n",
              "        vertical-align: top;\n",
              "    }\n",
              "\n",
              "    .dataframe thead th {\n",
              "        text-align: right;\n",
              "    }\n",
              "</style>\n",
              "<table border=\"1\" class=\"dataframe\">\n",
              "  <thead>\n",
              "    <tr style=\"text-align: right;\">\n",
              "      <th></th>\n",
              "      <th>Parda</th>\n",
              "      <th>Branca</th>\n",
              "      <th>Amarela</th>\n",
              "      <th>Não Informado</th>\n",
              "      <th>Preta</th>\n",
              "      <th>Ignorado</th>\n",
              "      <th>Indígena</th>\n",
              "      <th>Indigena</th>\n",
              "    </tr>\n",
              "    <tr>\n",
              "      <th>sexoCaso</th>\n",
              "      <th></th>\n",
              "      <th></th>\n",
              "      <th></th>\n",
              "      <th></th>\n",
              "      <th></th>\n",
              "      <th></th>\n",
              "      <th></th>\n",
              "      <th></th>\n",
              "    </tr>\n",
              "  </thead>\n",
              "  <tbody>\n",
              "    <tr>\n",
              "      <th>FEMININO</th>\n",
              "      <td>48</td>\n",
              "      <td>395</td>\n",
              "      <td>10</td>\n",
              "      <td>2</td>\n",
              "      <td>2074</td>\n",
              "      <td>2390</td>\n",
              "      <td>56</td>\n",
              "      <td>21</td>\n",
              "    </tr>\n",
              "    <tr>\n",
              "      <th>MASCULINO</th>\n",
              "      <td>71</td>\n",
              "      <td>452</td>\n",
              "      <td>12</td>\n",
              "      <td>12</td>\n",
              "      <td>2769</td>\n",
              "      <td>3463</td>\n",
              "      <td>101</td>\n",
              "      <td>31</td>\n",
              "    </tr>\n",
              "  </tbody>\n",
              "</table>\n",
              "</div>"
            ],
            "text/plain": [
              "           Parda  Branca  Amarela  ...  Ignorado  Indígena  Indigena\n",
              "sexoCaso                           ...                              \n",
              "FEMININO      48     395       10  ...      2390        56        21\n",
              "MASCULINO     71     452       12  ...      3463       101        31\n",
              "\n",
              "[2 rows x 8 columns]"
            ]
          },
          "metadata": {
            "tags": []
          },
          "execution_count": 58
        }
      ]
    },
    {
      "cell_type": "code",
      "metadata": {
        "colab": {
          "base_uri": "https://localhost:8080/",
          "height": 141
        },
        "id": "OYTPx39bABAn",
        "outputId": "2092fce4-332e-4127-a1e7-840d84b2b427"
      },
      "source": [
        "obito_by_sexo['ind'] = obito_by_sexo['Indígena']+obito_by_sexo['Indigena']\r\n",
        "obito_by_sexo"
      ],
      "execution_count": 59,
      "outputs": [
        {
          "output_type": "execute_result",
          "data": {
            "text/html": [
              "<div>\n",
              "<style scoped>\n",
              "    .dataframe tbody tr th:only-of-type {\n",
              "        vertical-align: middle;\n",
              "    }\n",
              "\n",
              "    .dataframe tbody tr th {\n",
              "        vertical-align: top;\n",
              "    }\n",
              "\n",
              "    .dataframe thead th {\n",
              "        text-align: right;\n",
              "    }\n",
              "</style>\n",
              "<table border=\"1\" class=\"dataframe\">\n",
              "  <thead>\n",
              "    <tr style=\"text-align: right;\">\n",
              "      <th></th>\n",
              "      <th>Parda</th>\n",
              "      <th>Branca</th>\n",
              "      <th>Amarela</th>\n",
              "      <th>Não Informado</th>\n",
              "      <th>Preta</th>\n",
              "      <th>Ignorado</th>\n",
              "      <th>Indígena</th>\n",
              "      <th>Indigena</th>\n",
              "      <th>ind</th>\n",
              "    </tr>\n",
              "    <tr>\n",
              "      <th>sexoCaso</th>\n",
              "      <th></th>\n",
              "      <th></th>\n",
              "      <th></th>\n",
              "      <th></th>\n",
              "      <th></th>\n",
              "      <th></th>\n",
              "      <th></th>\n",
              "      <th></th>\n",
              "      <th></th>\n",
              "    </tr>\n",
              "  </thead>\n",
              "  <tbody>\n",
              "    <tr>\n",
              "      <th>FEMININO</th>\n",
              "      <td>48</td>\n",
              "      <td>395</td>\n",
              "      <td>10</td>\n",
              "      <td>2</td>\n",
              "      <td>2074</td>\n",
              "      <td>2390</td>\n",
              "      <td>56</td>\n",
              "      <td>21</td>\n",
              "      <td>77</td>\n",
              "    </tr>\n",
              "    <tr>\n",
              "      <th>MASCULINO</th>\n",
              "      <td>71</td>\n",
              "      <td>452</td>\n",
              "      <td>12</td>\n",
              "      <td>12</td>\n",
              "      <td>2769</td>\n",
              "      <td>3463</td>\n",
              "      <td>101</td>\n",
              "      <td>31</td>\n",
              "      <td>132</td>\n",
              "    </tr>\n",
              "  </tbody>\n",
              "</table>\n",
              "</div>"
            ],
            "text/plain": [
              "           Parda  Branca  Amarela  ...  Indígena  Indigena  ind\n",
              "sexoCaso                           ...                         \n",
              "FEMININO      48     395       10  ...        56        21   77\n",
              "MASCULINO     71     452       12  ...       101        31  132\n",
              "\n",
              "[2 rows x 9 columns]"
            ]
          },
          "metadata": {
            "tags": []
          },
          "execution_count": 59
        }
      ]
    },
    {
      "cell_type": "code",
      "metadata": {
        "colab": {
          "base_uri": "https://localhost:8080/",
          "height": 141
        },
        "id": "U9JckgNnAYXt",
        "outputId": "6bb76d5a-54d3-4c16-dcc5-cc8c5b2676c2"
      },
      "source": [
        "obito_by_sexo.drop(['Indígena', 'Indigena'], axis=1, inplace= True)\r\n",
        "obito_by_sexo"
      ],
      "execution_count": 60,
      "outputs": [
        {
          "output_type": "execute_result",
          "data": {
            "text/html": [
              "<div>\n",
              "<style scoped>\n",
              "    .dataframe tbody tr th:only-of-type {\n",
              "        vertical-align: middle;\n",
              "    }\n",
              "\n",
              "    .dataframe tbody tr th {\n",
              "        vertical-align: top;\n",
              "    }\n",
              "\n",
              "    .dataframe thead th {\n",
              "        text-align: right;\n",
              "    }\n",
              "</style>\n",
              "<table border=\"1\" class=\"dataframe\">\n",
              "  <thead>\n",
              "    <tr style=\"text-align: right;\">\n",
              "      <th></th>\n",
              "      <th>Parda</th>\n",
              "      <th>Branca</th>\n",
              "      <th>Amarela</th>\n",
              "      <th>Não Informado</th>\n",
              "      <th>Preta</th>\n",
              "      <th>Ignorado</th>\n",
              "      <th>ind</th>\n",
              "    </tr>\n",
              "    <tr>\n",
              "      <th>sexoCaso</th>\n",
              "      <th></th>\n",
              "      <th></th>\n",
              "      <th></th>\n",
              "      <th></th>\n",
              "      <th></th>\n",
              "      <th></th>\n",
              "      <th></th>\n",
              "    </tr>\n",
              "  </thead>\n",
              "  <tbody>\n",
              "    <tr>\n",
              "      <th>FEMININO</th>\n",
              "      <td>48</td>\n",
              "      <td>395</td>\n",
              "      <td>10</td>\n",
              "      <td>2</td>\n",
              "      <td>2074</td>\n",
              "      <td>2390</td>\n",
              "      <td>77</td>\n",
              "    </tr>\n",
              "    <tr>\n",
              "      <th>MASCULINO</th>\n",
              "      <td>71</td>\n",
              "      <td>452</td>\n",
              "      <td>12</td>\n",
              "      <td>12</td>\n",
              "      <td>2769</td>\n",
              "      <td>3463</td>\n",
              "      <td>132</td>\n",
              "    </tr>\n",
              "  </tbody>\n",
              "</table>\n",
              "</div>"
            ],
            "text/plain": [
              "           Parda  Branca  Amarela  Não Informado  Preta  Ignorado  ind\n",
              "sexoCaso                                                              \n",
              "FEMININO      48     395       10              2   2074      2390   77\n",
              "MASCULINO     71     452       12             12   2769      3463  132"
            ]
          },
          "metadata": {
            "tags": []
          },
          "execution_count": 60
        }
      ]
    },
    {
      "cell_type": "code",
      "metadata": {
        "colab": {
          "base_uri": "https://localhost:8080/",
          "height": 141
        },
        "id": "y3oLpj_tAvvW",
        "outputId": "c2c16c63-1bc0-4f63-f608-d6d9803412e8"
      },
      "source": [
        "obito_by_sexo.rename(columns={\"ind\": \"Indigena\"}, inplace= True)\r\n",
        "obito_by_sexo"
      ],
      "execution_count": 61,
      "outputs": [
        {
          "output_type": "execute_result",
          "data": {
            "text/html": [
              "<div>\n",
              "<style scoped>\n",
              "    .dataframe tbody tr th:only-of-type {\n",
              "        vertical-align: middle;\n",
              "    }\n",
              "\n",
              "    .dataframe tbody tr th {\n",
              "        vertical-align: top;\n",
              "    }\n",
              "\n",
              "    .dataframe thead th {\n",
              "        text-align: right;\n",
              "    }\n",
              "</style>\n",
              "<table border=\"1\" class=\"dataframe\">\n",
              "  <thead>\n",
              "    <tr style=\"text-align: right;\">\n",
              "      <th></th>\n",
              "      <th>Parda</th>\n",
              "      <th>Branca</th>\n",
              "      <th>Amarela</th>\n",
              "      <th>Não Informado</th>\n",
              "      <th>Preta</th>\n",
              "      <th>Ignorado</th>\n",
              "      <th>Indigena</th>\n",
              "    </tr>\n",
              "    <tr>\n",
              "      <th>sexoCaso</th>\n",
              "      <th></th>\n",
              "      <th></th>\n",
              "      <th></th>\n",
              "      <th></th>\n",
              "      <th></th>\n",
              "      <th></th>\n",
              "      <th></th>\n",
              "    </tr>\n",
              "  </thead>\n",
              "  <tbody>\n",
              "    <tr>\n",
              "      <th>FEMININO</th>\n",
              "      <td>48</td>\n",
              "      <td>395</td>\n",
              "      <td>10</td>\n",
              "      <td>2</td>\n",
              "      <td>2074</td>\n",
              "      <td>2390</td>\n",
              "      <td>77</td>\n",
              "    </tr>\n",
              "    <tr>\n",
              "      <th>MASCULINO</th>\n",
              "      <td>71</td>\n",
              "      <td>452</td>\n",
              "      <td>12</td>\n",
              "      <td>12</td>\n",
              "      <td>2769</td>\n",
              "      <td>3463</td>\n",
              "      <td>132</td>\n",
              "    </tr>\n",
              "  </tbody>\n",
              "</table>\n",
              "</div>"
            ],
            "text/plain": [
              "           Parda  Branca  Amarela  Não Informado  Preta  Ignorado  Indigena\n",
              "sexoCaso                                                                   \n",
              "FEMININO      48     395       10              2   2074      2390        77\n",
              "MASCULINO     71     452       12             12   2769      3463       132"
            ]
          },
          "metadata": {
            "tags": []
          },
          "execution_count": 61
        }
      ]
    },
    {
      "cell_type": "code",
      "metadata": {
        "colab": {
          "base_uri": "https://localhost:8080/",
          "height": 542
        },
        "id": "eMsp0V_l4GJt",
        "outputId": "50177423-f65d-41c8-c28d-83a3ef7d46a7"
      },
      "source": [
        "import plotly.graph_objects as go\r\n",
        "from plotly.subplots import make_subplots\r\n",
        "\r\n",
        "labels = ['FEMININO', 'MASCULINO']\r\n",
        "\r\n",
        "# Create subplots: use 'domain' type for Pie subplot\r\n",
        "fig = make_subplots(rows=2, cols=3, specs=[ [ {'type':'domain'}, {'type':'domain'}, {'type':'domain'}], \r\n",
        "                                          [{'type':'domain'}, {'type':'domain'}, {'type':'domain'}]\r\n",
        "                                          ]\r\n",
        "                    )\r\n",
        "\r\n",
        "#parda\r\n",
        "fig.add_trace(go.Pie(labels=labels, values=[45,68], name=\"Parda\"), 1, 1)\r\n",
        "fig.add_trace(go.Pie(labels=labels, values=[381,441], name=\"Branca\"), 1, 2)\r\n",
        "fig.add_trace(go.Pie(labels=labels, values=[9,6], name=\"Amarela\"), 1, 3)\r\n",
        "\r\n",
        "fig.add_trace(go.Pie(labels=labels, values=[2,12], name=\"Não Informado\"), 2, 1)\r\n",
        "fig.add_trace(go.Pie(labels=labels, values=[9,6], name=\"Preta\"), 2, 2)\r\n",
        "fig.add_trace(go.Pie(labels=labels, values=[381,441], name=\"Ignorado\"),2, 3)\r\n",
        "\r\n",
        "#fig.add_trace(go.Pie(labels=labels, values=[381,441], name=\"Ignorado\"),3, 1)\r\n",
        "#branca\r\n",
        "\r\n",
        "#fig.add_trace(go.Pie(labels=labels, values=[68, 381], name=\"Parda\"), 2, 1)\r\n",
        "#fig.add_trace(go.Pie(labels=labels, values=[68, 441], name=\"Branca\"),2, 2)\r\n",
        "\r\n",
        "# Use `hole` to create a donut-like pie chart\r\n",
        "fig.update_traces(hole=.4) #hoverinfo=\"label+percent+name\")\r\n",
        "\r\n",
        "fig.update_layout(\r\n",
        "    title_text=\"Relação de Número de óbitos confirmados segundo raça/cor\",\r\n",
        "    # Add annotations in the center of the donut pies.\r\n",
        "    annotations=[dict(text='Parda', x=0.12, y=0.5, font_size=20, showarrow=False),\r\n",
        "                 dict(text='Branca', x=0.50, y=0.5, font_size=20, showarrow=False),\r\n",
        "                 dict(text='Amarela', x=0.90, y=0.5, font_size=20, showarrow=False),\r\n",
        "                  dict(text='Nao Informado', x=0.12, y=3.4, font_size=20, showarrow=False)]\r\n",
        "                  )\r\n",
        "fig.show()\r\n",
        "\r\n"
      ],
      "execution_count": 62,
      "outputs": [
        {
          "output_type": "display_data",
          "data": {
            "text/html": [
              "<html>\n",
              "<head><meta charset=\"utf-8\" /></head>\n",
              "<body>\n",
              "    <div>\n",
              "            <script src=\"https://cdnjs.cloudflare.com/ajax/libs/mathjax/2.7.5/MathJax.js?config=TeX-AMS-MML_SVG\"></script><script type=\"text/javascript\">if (window.MathJax) {MathJax.Hub.Config({SVG: {font: \"STIX-Web\"}});}</script>\n",
              "                <script type=\"text/javascript\">window.PlotlyConfig = {MathJaxConfig: 'local'};</script>\n",
              "        <script src=\"https://cdn.plot.ly/plotly-latest.min.js\"></script>    \n",
              "            <div id=\"33e4ab15-540d-4179-9290-7405859b3c91\" class=\"plotly-graph-div\" style=\"height:525px; width:100%;\"></div>\n",
              "            <script type=\"text/javascript\">\n",
              "                \n",
              "                    window.PLOTLYENV=window.PLOTLYENV || {};\n",
              "                    \n",
              "                if (document.getElementById(\"33e4ab15-540d-4179-9290-7405859b3c91\")) {\n",
              "                    Plotly.newPlot(\n",
              "                        '33e4ab15-540d-4179-9290-7405859b3c91',\n",
              "                        [{\"domain\": {\"x\": [0.0, 0.2888888888888889], \"y\": [0.575, 1.0]}, \"hole\": 0.4, \"labels\": [\"FEMININO\", \"MASCULINO\"], \"name\": \"Parda\", \"type\": \"pie\", \"values\": [45, 68]}, {\"domain\": {\"x\": [0.35555555555555557, 0.6444444444444445], \"y\": [0.575, 1.0]}, \"hole\": 0.4, \"labels\": [\"FEMININO\", \"MASCULINO\"], \"name\": \"Branca\", \"type\": \"pie\", \"values\": [381, 441]}, {\"domain\": {\"x\": [0.7111111111111111, 1.0], \"y\": [0.575, 1.0]}, \"hole\": 0.4, \"labels\": [\"FEMININO\", \"MASCULINO\"], \"name\": \"Amarela\", \"type\": \"pie\", \"values\": [9, 6]}, {\"domain\": {\"x\": [0.0, 0.2888888888888889], \"y\": [0.0, 0.425]}, \"hole\": 0.4, \"labels\": [\"FEMININO\", \"MASCULINO\"], \"name\": \"N\\u00e3o Informado\", \"type\": \"pie\", \"values\": [2, 12]}, {\"domain\": {\"x\": [0.35555555555555557, 0.6444444444444445], \"y\": [0.0, 0.425]}, \"hole\": 0.4, \"labels\": [\"FEMININO\", \"MASCULINO\"], \"name\": \"Preta\", \"type\": \"pie\", \"values\": [9, 6]}, {\"domain\": {\"x\": [0.7111111111111111, 1.0], \"y\": [0.0, 0.425]}, \"hole\": 0.4, \"labels\": [\"FEMININO\", \"MASCULINO\"], \"name\": \"Ignorado\", \"type\": \"pie\", \"values\": [381, 441]}],\n",
              "                        {\"annotations\": [{\"font\": {\"size\": 20}, \"showarrow\": false, \"text\": \"Parda\", \"x\": 0.12, \"y\": 0.5}, {\"font\": {\"size\": 20}, \"showarrow\": false, \"text\": \"Branca\", \"x\": 0.5, \"y\": 0.5}, {\"font\": {\"size\": 20}, \"showarrow\": false, \"text\": \"Amarela\", \"x\": 0.9, \"y\": 0.5}, {\"font\": {\"size\": 20}, \"showarrow\": false, \"text\": \"Nao Informado\", \"x\": 0.12, \"y\": 3.4}], \"template\": {\"data\": {\"bar\": [{\"error_x\": {\"color\": \"#2a3f5f\"}, \"error_y\": {\"color\": \"#2a3f5f\"}, \"marker\": {\"line\": {\"color\": \"#E5ECF6\", \"width\": 0.5}}, \"type\": \"bar\"}], \"barpolar\": [{\"marker\": {\"line\": {\"color\": \"#E5ECF6\", \"width\": 0.5}}, \"type\": \"barpolar\"}], \"carpet\": [{\"aaxis\": {\"endlinecolor\": \"#2a3f5f\", \"gridcolor\": \"white\", \"linecolor\": \"white\", \"minorgridcolor\": \"white\", \"startlinecolor\": \"#2a3f5f\"}, \"baxis\": {\"endlinecolor\": \"#2a3f5f\", \"gridcolor\": \"white\", \"linecolor\": \"white\", \"minorgridcolor\": \"white\", \"startlinecolor\": \"#2a3f5f\"}, \"type\": \"carpet\"}], \"choropleth\": [{\"colorbar\": {\"outlinewidth\": 0, \"ticks\": \"\"}, \"type\": \"choropleth\"}], \"contour\": [{\"colorbar\": {\"outlinewidth\": 0, \"ticks\": \"\"}, \"colorscale\": [[0.0, \"#0d0887\"], [0.1111111111111111, \"#46039f\"], [0.2222222222222222, \"#7201a8\"], [0.3333333333333333, \"#9c179e\"], [0.4444444444444444, \"#bd3786\"], [0.5555555555555556, \"#d8576b\"], [0.6666666666666666, \"#ed7953\"], [0.7777777777777778, \"#fb9f3a\"], [0.8888888888888888, \"#fdca26\"], [1.0, \"#f0f921\"]], \"type\": \"contour\"}], \"contourcarpet\": [{\"colorbar\": {\"outlinewidth\": 0, \"ticks\": \"\"}, \"type\": \"contourcarpet\"}], \"heatmap\": [{\"colorbar\": {\"outlinewidth\": 0, \"ticks\": \"\"}, \"colorscale\": [[0.0, \"#0d0887\"], [0.1111111111111111, \"#46039f\"], [0.2222222222222222, \"#7201a8\"], [0.3333333333333333, \"#9c179e\"], [0.4444444444444444, \"#bd3786\"], [0.5555555555555556, \"#d8576b\"], [0.6666666666666666, \"#ed7953\"], [0.7777777777777778, \"#fb9f3a\"], [0.8888888888888888, \"#fdca26\"], [1.0, \"#f0f921\"]], \"type\": \"heatmap\"}], \"heatmapgl\": [{\"colorbar\": {\"outlinewidth\": 0, \"ticks\": \"\"}, \"colorscale\": [[0.0, \"#0d0887\"], [0.1111111111111111, \"#46039f\"], [0.2222222222222222, \"#7201a8\"], [0.3333333333333333, \"#9c179e\"], [0.4444444444444444, \"#bd3786\"], [0.5555555555555556, \"#d8576b\"], [0.6666666666666666, \"#ed7953\"], [0.7777777777777778, \"#fb9f3a\"], [0.8888888888888888, \"#fdca26\"], [1.0, \"#f0f921\"]], \"type\": \"heatmapgl\"}], \"histogram\": [{\"marker\": {\"colorbar\": {\"outlinewidth\": 0, \"ticks\": \"\"}}, \"type\": \"histogram\"}], \"histogram2d\": [{\"colorbar\": {\"outlinewidth\": 0, \"ticks\": \"\"}, \"colorscale\": [[0.0, \"#0d0887\"], [0.1111111111111111, \"#46039f\"], [0.2222222222222222, \"#7201a8\"], [0.3333333333333333, \"#9c179e\"], [0.4444444444444444, \"#bd3786\"], [0.5555555555555556, \"#d8576b\"], [0.6666666666666666, \"#ed7953\"], [0.7777777777777778, \"#fb9f3a\"], [0.8888888888888888, \"#fdca26\"], [1.0, \"#f0f921\"]], \"type\": \"histogram2d\"}], \"histogram2dcontour\": [{\"colorbar\": {\"outlinewidth\": 0, \"ticks\": \"\"}, \"colorscale\": [[0.0, \"#0d0887\"], [0.1111111111111111, \"#46039f\"], [0.2222222222222222, \"#7201a8\"], [0.3333333333333333, \"#9c179e\"], [0.4444444444444444, \"#bd3786\"], [0.5555555555555556, \"#d8576b\"], [0.6666666666666666, \"#ed7953\"], [0.7777777777777778, \"#fb9f3a\"], [0.8888888888888888, \"#fdca26\"], [1.0, \"#f0f921\"]], \"type\": \"histogram2dcontour\"}], \"mesh3d\": [{\"colorbar\": {\"outlinewidth\": 0, \"ticks\": \"\"}, \"type\": \"mesh3d\"}], \"parcoords\": [{\"line\": {\"colorbar\": {\"outlinewidth\": 0, \"ticks\": \"\"}}, \"type\": \"parcoords\"}], \"pie\": [{\"automargin\": true, \"type\": \"pie\"}], \"scatter\": [{\"marker\": {\"colorbar\": {\"outlinewidth\": 0, \"ticks\": \"\"}}, \"type\": \"scatter\"}], \"scatter3d\": [{\"line\": {\"colorbar\": {\"outlinewidth\": 0, \"ticks\": \"\"}}, \"marker\": {\"colorbar\": {\"outlinewidth\": 0, \"ticks\": \"\"}}, \"type\": \"scatter3d\"}], \"scattercarpet\": [{\"marker\": {\"colorbar\": {\"outlinewidth\": 0, \"ticks\": \"\"}}, \"type\": \"scattercarpet\"}], \"scattergeo\": [{\"marker\": {\"colorbar\": {\"outlinewidth\": 0, \"ticks\": \"\"}}, \"type\": \"scattergeo\"}], \"scattergl\": [{\"marker\": {\"colorbar\": {\"outlinewidth\": 0, \"ticks\": \"\"}}, \"type\": \"scattergl\"}], \"scattermapbox\": [{\"marker\": {\"colorbar\": {\"outlinewidth\": 0, \"ticks\": \"\"}}, \"type\": \"scattermapbox\"}], \"scatterpolar\": [{\"marker\": {\"colorbar\": {\"outlinewidth\": 0, \"ticks\": \"\"}}, \"type\": \"scatterpolar\"}], \"scatterpolargl\": [{\"marker\": {\"colorbar\": {\"outlinewidth\": 0, \"ticks\": \"\"}}, \"type\": \"scatterpolargl\"}], \"scatterternary\": [{\"marker\": {\"colorbar\": {\"outlinewidth\": 0, \"ticks\": \"\"}}, \"type\": \"scatterternary\"}], \"surface\": [{\"colorbar\": {\"outlinewidth\": 0, \"ticks\": \"\"}, \"colorscale\": [[0.0, \"#0d0887\"], [0.1111111111111111, \"#46039f\"], [0.2222222222222222, \"#7201a8\"], [0.3333333333333333, \"#9c179e\"], [0.4444444444444444, \"#bd3786\"], [0.5555555555555556, \"#d8576b\"], [0.6666666666666666, \"#ed7953\"], [0.7777777777777778, \"#fb9f3a\"], [0.8888888888888888, \"#fdca26\"], [1.0, \"#f0f921\"]], \"type\": \"surface\"}], \"table\": [{\"cells\": {\"fill\": {\"color\": \"#EBF0F8\"}, \"line\": {\"color\": \"white\"}}, \"header\": {\"fill\": {\"color\": \"#C8D4E3\"}, \"line\": {\"color\": \"white\"}}, \"type\": \"table\"}]}, \"layout\": {\"annotationdefaults\": {\"arrowcolor\": \"#2a3f5f\", \"arrowhead\": 0, \"arrowwidth\": 1}, \"coloraxis\": {\"colorbar\": {\"outlinewidth\": 0, \"ticks\": \"\"}}, \"colorscale\": {\"diverging\": [[0, \"#8e0152\"], [0.1, \"#c51b7d\"], [0.2, \"#de77ae\"], [0.3, \"#f1b6da\"], [0.4, \"#fde0ef\"], [0.5, \"#f7f7f7\"], [0.6, \"#e6f5d0\"], [0.7, \"#b8e186\"], [0.8, \"#7fbc41\"], [0.9, \"#4d9221\"], [1, \"#276419\"]], \"sequential\": [[0.0, \"#0d0887\"], [0.1111111111111111, \"#46039f\"], [0.2222222222222222, \"#7201a8\"], [0.3333333333333333, \"#9c179e\"], [0.4444444444444444, \"#bd3786\"], [0.5555555555555556, \"#d8576b\"], [0.6666666666666666, \"#ed7953\"], [0.7777777777777778, \"#fb9f3a\"], [0.8888888888888888, \"#fdca26\"], [1.0, \"#f0f921\"]], \"sequentialminus\": [[0.0, \"#0d0887\"], [0.1111111111111111, \"#46039f\"], [0.2222222222222222, \"#7201a8\"], [0.3333333333333333, \"#9c179e\"], [0.4444444444444444, \"#bd3786\"], [0.5555555555555556, \"#d8576b\"], [0.6666666666666666, \"#ed7953\"], [0.7777777777777778, \"#fb9f3a\"], [0.8888888888888888, \"#fdca26\"], [1.0, \"#f0f921\"]]}, \"colorway\": [\"#636efa\", \"#EF553B\", \"#00cc96\", \"#ab63fa\", \"#FFA15A\", \"#19d3f3\", \"#FF6692\", \"#B6E880\", \"#FF97FF\", \"#FECB52\"], \"font\": {\"color\": \"#2a3f5f\"}, \"geo\": {\"bgcolor\": \"white\", \"lakecolor\": \"white\", \"landcolor\": \"#E5ECF6\", \"showlakes\": true, \"showland\": true, \"subunitcolor\": \"white\"}, \"hoverlabel\": {\"align\": \"left\"}, \"hovermode\": \"closest\", \"mapbox\": {\"style\": \"light\"}, \"paper_bgcolor\": \"white\", \"plot_bgcolor\": \"#E5ECF6\", \"polar\": {\"angularaxis\": {\"gridcolor\": \"white\", \"linecolor\": \"white\", \"ticks\": \"\"}, \"bgcolor\": \"#E5ECF6\", \"radialaxis\": {\"gridcolor\": \"white\", \"linecolor\": \"white\", \"ticks\": \"\"}}, \"scene\": {\"xaxis\": {\"backgroundcolor\": \"#E5ECF6\", \"gridcolor\": \"white\", \"gridwidth\": 2, \"linecolor\": \"white\", \"showbackground\": true, \"ticks\": \"\", \"zerolinecolor\": \"white\"}, \"yaxis\": {\"backgroundcolor\": \"#E5ECF6\", \"gridcolor\": \"white\", \"gridwidth\": 2, \"linecolor\": \"white\", \"showbackground\": true, \"ticks\": \"\", \"zerolinecolor\": \"white\"}, \"zaxis\": {\"backgroundcolor\": \"#E5ECF6\", \"gridcolor\": \"white\", \"gridwidth\": 2, \"linecolor\": \"white\", \"showbackground\": true, \"ticks\": \"\", \"zerolinecolor\": \"white\"}}, \"shapedefaults\": {\"line\": {\"color\": \"#2a3f5f\"}}, \"ternary\": {\"aaxis\": {\"gridcolor\": \"white\", \"linecolor\": \"white\", \"ticks\": \"\"}, \"baxis\": {\"gridcolor\": \"white\", \"linecolor\": \"white\", \"ticks\": \"\"}, \"bgcolor\": \"#E5ECF6\", \"caxis\": {\"gridcolor\": \"white\", \"linecolor\": \"white\", \"ticks\": \"\"}}, \"title\": {\"x\": 0.05}, \"xaxis\": {\"automargin\": true, \"gridcolor\": \"white\", \"linecolor\": \"white\", \"ticks\": \"\", \"title\": {\"standoff\": 15}, \"zerolinecolor\": \"white\", \"zerolinewidth\": 2}, \"yaxis\": {\"automargin\": true, \"gridcolor\": \"white\", \"linecolor\": \"white\", \"ticks\": \"\", \"title\": {\"standoff\": 15}, \"zerolinecolor\": \"white\", \"zerolinewidth\": 2}}}, \"title\": {\"text\": \"Rela\\u00e7\\u00e3o de N\\u00famero de \\u00f3bitos confirmados segundo ra\\u00e7a/cor\"}},\n",
              "                        {\"responsive\": true}\n",
              "                    ).then(function(){\n",
              "                            \n",
              "var gd = document.getElementById('33e4ab15-540d-4179-9290-7405859b3c91');\n",
              "var x = new MutationObserver(function (mutations, observer) {{\n",
              "        var display = window.getComputedStyle(gd).display;\n",
              "        if (!display || display === 'none') {{\n",
              "            console.log([gd, 'removed!']);\n",
              "            Plotly.purge(gd);\n",
              "            observer.disconnect();\n",
              "        }}\n",
              "}});\n",
              "\n",
              "// Listen for the removal of the full notebook cells\n",
              "var notebookContainer = gd.closest('#notebook-container');\n",
              "if (notebookContainer) {{\n",
              "    x.observe(notebookContainer, {childList: true});\n",
              "}}\n",
              "\n",
              "// Listen for the clearing of the current output cell\n",
              "var outputEl = gd.closest('.output');\n",
              "if (outputEl) {{\n",
              "    x.observe(outputEl, {childList: true});\n",
              "}}\n",
              "\n",
              "                        })\n",
              "                };\n",
              "                \n",
              "            </script>\n",
              "        </div>\n",
              "</body>\n",
              "</html>"
            ]
          },
          "metadata": {
            "tags": []
          }
        }
      ]
    },
    {
      "cell_type": "code",
      "metadata": {
        "colab": {
          "base_uri": "https://localhost:8080/",
          "height": 325
        },
        "id": "-dY54OJePl0b",
        "outputId": "0d251900-c9c0-465d-d959-6eb4de599547"
      },
      "source": [
        "counts_casos_raca_cor = df_obitos.groupby(['racaCor', 'sexoCaso']).racaCor.count().unstack()\r\n",
        "counts_casos_raca_cor"
      ],
      "execution_count": 63,
      "outputs": [
        {
          "output_type": "execute_result",
          "data": {
            "text/html": [
              "<div>\n",
              "<style scoped>\n",
              "    .dataframe tbody tr th:only-of-type {\n",
              "        vertical-align: middle;\n",
              "    }\n",
              "\n",
              "    .dataframe tbody tr th {\n",
              "        vertical-align: top;\n",
              "    }\n",
              "\n",
              "    .dataframe thead th {\n",
              "        text-align: right;\n",
              "    }\n",
              "</style>\n",
              "<table border=\"1\" class=\"dataframe\">\n",
              "  <thead>\n",
              "    <tr style=\"text-align: right;\">\n",
              "      <th>sexoCaso</th>\n",
              "      <th>FEMININO</th>\n",
              "      <th>MASCULINO</th>\n",
              "    </tr>\n",
              "    <tr>\n",
              "      <th>racaCor</th>\n",
              "      <th></th>\n",
              "      <th></th>\n",
              "    </tr>\n",
              "  </thead>\n",
              "  <tbody>\n",
              "    <tr>\n",
              "      <th>Amarela</th>\n",
              "      <td>48</td>\n",
              "      <td>71</td>\n",
              "    </tr>\n",
              "    <tr>\n",
              "      <th>Branca</th>\n",
              "      <td>395</td>\n",
              "      <td>452</td>\n",
              "    </tr>\n",
              "    <tr>\n",
              "      <th>Ignorado</th>\n",
              "      <td>10</td>\n",
              "      <td>12</td>\n",
              "    </tr>\n",
              "    <tr>\n",
              "      <th>Indígena</th>\n",
              "      <td>2</td>\n",
              "      <td>12</td>\n",
              "    </tr>\n",
              "    <tr>\n",
              "      <th>Não Informado</th>\n",
              "      <td>2074</td>\n",
              "      <td>2769</td>\n",
              "    </tr>\n",
              "    <tr>\n",
              "      <th>Parda</th>\n",
              "      <td>2390</td>\n",
              "      <td>3463</td>\n",
              "    </tr>\n",
              "    <tr>\n",
              "      <th>Preta</th>\n",
              "      <td>56</td>\n",
              "      <td>101</td>\n",
              "    </tr>\n",
              "    <tr>\n",
              "      <th>Sem Informacao</th>\n",
              "      <td>21</td>\n",
              "      <td>31</td>\n",
              "    </tr>\n",
              "  </tbody>\n",
              "</table>\n",
              "</div>"
            ],
            "text/plain": [
              "sexoCaso        FEMININO  MASCULINO\n",
              "racaCor                            \n",
              "Amarela               48         71\n",
              "Branca               395        452\n",
              "Ignorado              10         12\n",
              "Indígena               2         12\n",
              "Não Informado       2074       2769\n",
              "Parda               2390       3463\n",
              "Preta                 56        101\n",
              "Sem Informacao        21         31"
            ]
          },
          "metadata": {
            "tags": []
          },
          "execution_count": 63
        }
      ]
    },
    {
      "cell_type": "code",
      "metadata": {
        "colab": {
          "base_uri": "https://localhost:8080/",
          "height": 294
        },
        "id": "oMSqCDGVN_82",
        "outputId": "c89c325a-81d3-4a92-c2d8-81ae68f904cc"
      },
      "source": [
        "df_counts_casos_raca_cor = counts_casos_raca_cor.reset_index()\r\n",
        "df_counts_casos_raca_cor"
      ],
      "execution_count": 64,
      "outputs": [
        {
          "output_type": "execute_result",
          "data": {
            "text/html": [
              "<div>\n",
              "<style scoped>\n",
              "    .dataframe tbody tr th:only-of-type {\n",
              "        vertical-align: middle;\n",
              "    }\n",
              "\n",
              "    .dataframe tbody tr th {\n",
              "        vertical-align: top;\n",
              "    }\n",
              "\n",
              "    .dataframe thead th {\n",
              "        text-align: right;\n",
              "    }\n",
              "</style>\n",
              "<table border=\"1\" class=\"dataframe\">\n",
              "  <thead>\n",
              "    <tr style=\"text-align: right;\">\n",
              "      <th>sexoCaso</th>\n",
              "      <th>racaCor</th>\n",
              "      <th>FEMININO</th>\n",
              "      <th>MASCULINO</th>\n",
              "    </tr>\n",
              "  </thead>\n",
              "  <tbody>\n",
              "    <tr>\n",
              "      <th>0</th>\n",
              "      <td>Amarela</td>\n",
              "      <td>48</td>\n",
              "      <td>71</td>\n",
              "    </tr>\n",
              "    <tr>\n",
              "      <th>1</th>\n",
              "      <td>Branca</td>\n",
              "      <td>395</td>\n",
              "      <td>452</td>\n",
              "    </tr>\n",
              "    <tr>\n",
              "      <th>2</th>\n",
              "      <td>Ignorado</td>\n",
              "      <td>10</td>\n",
              "      <td>12</td>\n",
              "    </tr>\n",
              "    <tr>\n",
              "      <th>3</th>\n",
              "      <td>Indígena</td>\n",
              "      <td>2</td>\n",
              "      <td>12</td>\n",
              "    </tr>\n",
              "    <tr>\n",
              "      <th>4</th>\n",
              "      <td>Não Informado</td>\n",
              "      <td>2074</td>\n",
              "      <td>2769</td>\n",
              "    </tr>\n",
              "    <tr>\n",
              "      <th>5</th>\n",
              "      <td>Parda</td>\n",
              "      <td>2390</td>\n",
              "      <td>3463</td>\n",
              "    </tr>\n",
              "    <tr>\n",
              "      <th>6</th>\n",
              "      <td>Preta</td>\n",
              "      <td>56</td>\n",
              "      <td>101</td>\n",
              "    </tr>\n",
              "    <tr>\n",
              "      <th>7</th>\n",
              "      <td>Sem Informacao</td>\n",
              "      <td>21</td>\n",
              "      <td>31</td>\n",
              "    </tr>\n",
              "  </tbody>\n",
              "</table>\n",
              "</div>"
            ],
            "text/plain": [
              "sexoCaso         racaCor  FEMININO  MASCULINO\n",
              "0                Amarela        48         71\n",
              "1                 Branca       395        452\n",
              "2               Ignorado        10         12\n",
              "3               Indígena         2         12\n",
              "4          Não Informado      2074       2769\n",
              "5                  Parda      2390       3463\n",
              "6                  Preta        56        101\n",
              "7         Sem Informacao        21         31"
            ]
          },
          "metadata": {
            "tags": []
          },
          "execution_count": 64
        }
      ]
    },
    {
      "cell_type": "code",
      "metadata": {
        "colab": {
          "base_uri": "https://localhost:8080/",
          "height": 542
        },
        "id": "uJr_inT7VMs_",
        "outputId": "bed92ba7-338e-478b-c793-414ca66dcf47"
      },
      "source": [
        "import plotly.express as px\r\n",
        "\r\n",
        "sexos = ['MASCULINO', 'FEMININO']\r\n",
        "faixas  = ['Amarela\t', 'Branca', 'Ignorado', 'Indígena', 'Não Informado', 'Parda', 'Preta', 'Sem Informação']\r\n",
        "\r\n",
        "\r\n",
        "\r\n",
        "fig = go.Figure(data=[\r\n",
        "    go.Bar(name='MASCULINO', x= df_counts_casos_raca_cor.racaCor\t, y= df_counts_casos_raca_cor['MASCULINO']),\r\n",
        "    go.Bar(name='FEMININO', x= df_counts_casos_raca_cor.racaCor, y= df_counts_casos_raca_cor['FEMININO'])\r\n",
        "])\r\n",
        "# Change the bar mode\r\n",
        "fig.update_layout(barmode='group')\r\n",
        "fig.update_layout(title_text='Total de óbitos por faixa de idade')\r\n",
        "fig.show()"
      ],
      "execution_count": 65,
      "outputs": [
        {
          "output_type": "display_data",
          "data": {
            "text/html": [
              "<html>\n",
              "<head><meta charset=\"utf-8\" /></head>\n",
              "<body>\n",
              "    <div>\n",
              "            <script src=\"https://cdnjs.cloudflare.com/ajax/libs/mathjax/2.7.5/MathJax.js?config=TeX-AMS-MML_SVG\"></script><script type=\"text/javascript\">if (window.MathJax) {MathJax.Hub.Config({SVG: {font: \"STIX-Web\"}});}</script>\n",
              "                <script type=\"text/javascript\">window.PlotlyConfig = {MathJaxConfig: 'local'};</script>\n",
              "        <script src=\"https://cdn.plot.ly/plotly-latest.min.js\"></script>    \n",
              "            <div id=\"e7cd24e8-91f9-470e-954e-a10b4ef9b654\" class=\"plotly-graph-div\" style=\"height:525px; width:100%;\"></div>\n",
              "            <script type=\"text/javascript\">\n",
              "                \n",
              "                    window.PLOTLYENV=window.PLOTLYENV || {};\n",
              "                    \n",
              "                if (document.getElementById(\"e7cd24e8-91f9-470e-954e-a10b4ef9b654\")) {\n",
              "                    Plotly.newPlot(\n",
              "                        'e7cd24e8-91f9-470e-954e-a10b4ef9b654',\n",
              "                        [{\"name\": \"MASCULINO\", \"type\": \"bar\", \"x\": [\"Amarela\", \"Branca\", \"Ignorado\", \"Ind\\u00edgena\", \"N\\u00e3o Informado\", \"Parda\", \"Preta\", \"Sem Informacao\"], \"y\": [71, 452, 12, 12, 2769, 3463, 101, 31]}, {\"name\": \"FEMININO\", \"type\": \"bar\", \"x\": [\"Amarela\", \"Branca\", \"Ignorado\", \"Ind\\u00edgena\", \"N\\u00e3o Informado\", \"Parda\", \"Preta\", \"Sem Informacao\"], \"y\": [48, 395, 10, 2, 2074, 2390, 56, 21]}],\n",
              "                        {\"barmode\": \"group\", \"template\": {\"data\": {\"bar\": [{\"error_x\": {\"color\": \"#2a3f5f\"}, \"error_y\": {\"color\": \"#2a3f5f\"}, \"marker\": {\"line\": {\"color\": \"#E5ECF6\", \"width\": 0.5}}, \"type\": \"bar\"}], \"barpolar\": [{\"marker\": {\"line\": {\"color\": \"#E5ECF6\", \"width\": 0.5}}, \"type\": \"barpolar\"}], \"carpet\": [{\"aaxis\": {\"endlinecolor\": \"#2a3f5f\", \"gridcolor\": \"white\", \"linecolor\": \"white\", \"minorgridcolor\": \"white\", \"startlinecolor\": \"#2a3f5f\"}, \"baxis\": {\"endlinecolor\": \"#2a3f5f\", \"gridcolor\": \"white\", \"linecolor\": \"white\", \"minorgridcolor\": \"white\", \"startlinecolor\": \"#2a3f5f\"}, \"type\": \"carpet\"}], \"choropleth\": [{\"colorbar\": {\"outlinewidth\": 0, \"ticks\": \"\"}, \"type\": \"choropleth\"}], \"contour\": [{\"colorbar\": {\"outlinewidth\": 0, \"ticks\": \"\"}, \"colorscale\": [[0.0, \"#0d0887\"], [0.1111111111111111, \"#46039f\"], [0.2222222222222222, \"#7201a8\"], [0.3333333333333333, \"#9c179e\"], [0.4444444444444444, \"#bd3786\"], [0.5555555555555556, \"#d8576b\"], [0.6666666666666666, \"#ed7953\"], [0.7777777777777778, \"#fb9f3a\"], [0.8888888888888888, \"#fdca26\"], [1.0, \"#f0f921\"]], \"type\": \"contour\"}], \"contourcarpet\": [{\"colorbar\": {\"outlinewidth\": 0, \"ticks\": \"\"}, \"type\": \"contourcarpet\"}], \"heatmap\": [{\"colorbar\": {\"outlinewidth\": 0, \"ticks\": \"\"}, \"colorscale\": [[0.0, \"#0d0887\"], [0.1111111111111111, \"#46039f\"], [0.2222222222222222, \"#7201a8\"], [0.3333333333333333, \"#9c179e\"], [0.4444444444444444, \"#bd3786\"], [0.5555555555555556, \"#d8576b\"], [0.6666666666666666, \"#ed7953\"], [0.7777777777777778, \"#fb9f3a\"], [0.8888888888888888, \"#fdca26\"], [1.0, \"#f0f921\"]], \"type\": \"heatmap\"}], \"heatmapgl\": [{\"colorbar\": {\"outlinewidth\": 0, \"ticks\": \"\"}, \"colorscale\": [[0.0, \"#0d0887\"], [0.1111111111111111, \"#46039f\"], [0.2222222222222222, \"#7201a8\"], [0.3333333333333333, \"#9c179e\"], [0.4444444444444444, \"#bd3786\"], [0.5555555555555556, \"#d8576b\"], [0.6666666666666666, \"#ed7953\"], [0.7777777777777778, \"#fb9f3a\"], [0.8888888888888888, \"#fdca26\"], [1.0, \"#f0f921\"]], \"type\": \"heatmapgl\"}], \"histogram\": [{\"marker\": {\"colorbar\": {\"outlinewidth\": 0, \"ticks\": \"\"}}, \"type\": \"histogram\"}], \"histogram2d\": [{\"colorbar\": {\"outlinewidth\": 0, \"ticks\": \"\"}, \"colorscale\": [[0.0, \"#0d0887\"], [0.1111111111111111, \"#46039f\"], [0.2222222222222222, \"#7201a8\"], [0.3333333333333333, \"#9c179e\"], [0.4444444444444444, \"#bd3786\"], [0.5555555555555556, \"#d8576b\"], [0.6666666666666666, \"#ed7953\"], [0.7777777777777778, \"#fb9f3a\"], [0.8888888888888888, \"#fdca26\"], [1.0, \"#f0f921\"]], \"type\": \"histogram2d\"}], \"histogram2dcontour\": [{\"colorbar\": {\"outlinewidth\": 0, \"ticks\": \"\"}, \"colorscale\": [[0.0, \"#0d0887\"], [0.1111111111111111, \"#46039f\"], [0.2222222222222222, \"#7201a8\"], [0.3333333333333333, \"#9c179e\"], [0.4444444444444444, \"#bd3786\"], [0.5555555555555556, \"#d8576b\"], [0.6666666666666666, \"#ed7953\"], [0.7777777777777778, \"#fb9f3a\"], [0.8888888888888888, \"#fdca26\"], [1.0, \"#f0f921\"]], \"type\": \"histogram2dcontour\"}], \"mesh3d\": [{\"colorbar\": {\"outlinewidth\": 0, \"ticks\": \"\"}, \"type\": \"mesh3d\"}], \"parcoords\": [{\"line\": {\"colorbar\": {\"outlinewidth\": 0, \"ticks\": \"\"}}, \"type\": \"parcoords\"}], \"pie\": [{\"automargin\": true, \"type\": \"pie\"}], \"scatter\": [{\"marker\": {\"colorbar\": {\"outlinewidth\": 0, \"ticks\": \"\"}}, \"type\": \"scatter\"}], \"scatter3d\": [{\"line\": {\"colorbar\": {\"outlinewidth\": 0, \"ticks\": \"\"}}, \"marker\": {\"colorbar\": {\"outlinewidth\": 0, \"ticks\": \"\"}}, \"type\": \"scatter3d\"}], \"scattercarpet\": [{\"marker\": {\"colorbar\": {\"outlinewidth\": 0, \"ticks\": \"\"}}, \"type\": \"scattercarpet\"}], \"scattergeo\": [{\"marker\": {\"colorbar\": {\"outlinewidth\": 0, \"ticks\": \"\"}}, \"type\": \"scattergeo\"}], \"scattergl\": [{\"marker\": {\"colorbar\": {\"outlinewidth\": 0, \"ticks\": \"\"}}, \"type\": \"scattergl\"}], \"scattermapbox\": [{\"marker\": {\"colorbar\": {\"outlinewidth\": 0, \"ticks\": \"\"}}, \"type\": \"scattermapbox\"}], \"scatterpolar\": [{\"marker\": {\"colorbar\": {\"outlinewidth\": 0, \"ticks\": \"\"}}, \"type\": \"scatterpolar\"}], \"scatterpolargl\": [{\"marker\": {\"colorbar\": {\"outlinewidth\": 0, \"ticks\": \"\"}}, \"type\": \"scatterpolargl\"}], \"scatterternary\": [{\"marker\": {\"colorbar\": {\"outlinewidth\": 0, \"ticks\": \"\"}}, \"type\": \"scatterternary\"}], \"surface\": [{\"colorbar\": {\"outlinewidth\": 0, \"ticks\": \"\"}, \"colorscale\": [[0.0, \"#0d0887\"], [0.1111111111111111, \"#46039f\"], [0.2222222222222222, \"#7201a8\"], [0.3333333333333333, \"#9c179e\"], [0.4444444444444444, \"#bd3786\"], [0.5555555555555556, \"#d8576b\"], [0.6666666666666666, \"#ed7953\"], [0.7777777777777778, \"#fb9f3a\"], [0.8888888888888888, \"#fdca26\"], [1.0, \"#f0f921\"]], \"type\": \"surface\"}], \"table\": [{\"cells\": {\"fill\": {\"color\": \"#EBF0F8\"}, \"line\": {\"color\": \"white\"}}, \"header\": {\"fill\": {\"color\": \"#C8D4E3\"}, \"line\": {\"color\": \"white\"}}, \"type\": \"table\"}]}, \"layout\": {\"annotationdefaults\": {\"arrowcolor\": \"#2a3f5f\", \"arrowhead\": 0, \"arrowwidth\": 1}, \"coloraxis\": {\"colorbar\": {\"outlinewidth\": 0, \"ticks\": \"\"}}, \"colorscale\": {\"diverging\": [[0, \"#8e0152\"], [0.1, \"#c51b7d\"], [0.2, \"#de77ae\"], [0.3, \"#f1b6da\"], [0.4, \"#fde0ef\"], [0.5, \"#f7f7f7\"], [0.6, \"#e6f5d0\"], [0.7, \"#b8e186\"], [0.8, \"#7fbc41\"], [0.9, \"#4d9221\"], [1, \"#276419\"]], \"sequential\": [[0.0, \"#0d0887\"], [0.1111111111111111, \"#46039f\"], [0.2222222222222222, \"#7201a8\"], [0.3333333333333333, \"#9c179e\"], [0.4444444444444444, \"#bd3786\"], [0.5555555555555556, \"#d8576b\"], [0.6666666666666666, \"#ed7953\"], [0.7777777777777778, \"#fb9f3a\"], [0.8888888888888888, \"#fdca26\"], [1.0, \"#f0f921\"]], \"sequentialminus\": [[0.0, \"#0d0887\"], [0.1111111111111111, \"#46039f\"], [0.2222222222222222, \"#7201a8\"], [0.3333333333333333, \"#9c179e\"], [0.4444444444444444, \"#bd3786\"], [0.5555555555555556, \"#d8576b\"], [0.6666666666666666, \"#ed7953\"], [0.7777777777777778, \"#fb9f3a\"], [0.8888888888888888, \"#fdca26\"], [1.0, \"#f0f921\"]]}, \"colorway\": [\"#636efa\", \"#EF553B\", \"#00cc96\", \"#ab63fa\", \"#FFA15A\", \"#19d3f3\", \"#FF6692\", \"#B6E880\", \"#FF97FF\", \"#FECB52\"], \"font\": {\"color\": \"#2a3f5f\"}, \"geo\": {\"bgcolor\": \"white\", \"lakecolor\": \"white\", \"landcolor\": \"#E5ECF6\", \"showlakes\": true, \"showland\": true, \"subunitcolor\": \"white\"}, \"hoverlabel\": {\"align\": \"left\"}, \"hovermode\": \"closest\", \"mapbox\": {\"style\": \"light\"}, \"paper_bgcolor\": \"white\", \"plot_bgcolor\": \"#E5ECF6\", \"polar\": {\"angularaxis\": {\"gridcolor\": \"white\", \"linecolor\": \"white\", \"ticks\": \"\"}, \"bgcolor\": \"#E5ECF6\", \"radialaxis\": {\"gridcolor\": \"white\", \"linecolor\": \"white\", \"ticks\": \"\"}}, \"scene\": {\"xaxis\": {\"backgroundcolor\": \"#E5ECF6\", \"gridcolor\": \"white\", \"gridwidth\": 2, \"linecolor\": \"white\", \"showbackground\": true, \"ticks\": \"\", \"zerolinecolor\": \"white\"}, \"yaxis\": {\"backgroundcolor\": \"#E5ECF6\", \"gridcolor\": \"white\", \"gridwidth\": 2, \"linecolor\": \"white\", \"showbackground\": true, \"ticks\": \"\", \"zerolinecolor\": \"white\"}, \"zaxis\": {\"backgroundcolor\": \"#E5ECF6\", \"gridcolor\": \"white\", \"gridwidth\": 2, \"linecolor\": \"white\", \"showbackground\": true, \"ticks\": \"\", \"zerolinecolor\": \"white\"}}, \"shapedefaults\": {\"line\": {\"color\": \"#2a3f5f\"}}, \"ternary\": {\"aaxis\": {\"gridcolor\": \"white\", \"linecolor\": \"white\", \"ticks\": \"\"}, \"baxis\": {\"gridcolor\": \"white\", \"linecolor\": \"white\", \"ticks\": \"\"}, \"bgcolor\": \"#E5ECF6\", \"caxis\": {\"gridcolor\": \"white\", \"linecolor\": \"white\", \"ticks\": \"\"}}, \"title\": {\"x\": 0.05}, \"xaxis\": {\"automargin\": true, \"gridcolor\": \"white\", \"linecolor\": \"white\", \"ticks\": \"\", \"title\": {\"standoff\": 15}, \"zerolinecolor\": \"white\", \"zerolinewidth\": 2}, \"yaxis\": {\"automargin\": true, \"gridcolor\": \"white\", \"linecolor\": \"white\", \"ticks\": \"\", \"title\": {\"standoff\": 15}, \"zerolinecolor\": \"white\", \"zerolinewidth\": 2}}}, \"title\": {\"text\": \"Total de \\u00f3bitos por faixa de idade\"}},\n",
              "                        {\"responsive\": true}\n",
              "                    ).then(function(){\n",
              "                            \n",
              "var gd = document.getElementById('e7cd24e8-91f9-470e-954e-a10b4ef9b654');\n",
              "var x = new MutationObserver(function (mutations, observer) {{\n",
              "        var display = window.getComputedStyle(gd).display;\n",
              "        if (!display || display === 'none') {{\n",
              "            console.log([gd, 'removed!']);\n",
              "            Plotly.purge(gd);\n",
              "            observer.disconnect();\n",
              "        }}\n",
              "}});\n",
              "\n",
              "// Listen for the removal of the full notebook cells\n",
              "var notebookContainer = gd.closest('#notebook-container');\n",
              "if (notebookContainer) {{\n",
              "    x.observe(notebookContainer, {childList: true});\n",
              "}}\n",
              "\n",
              "// Listen for the clearing of the current output cell\n",
              "var outputEl = gd.closest('.output');\n",
              "if (outputEl) {{\n",
              "    x.observe(outputEl, {childList: true});\n",
              "}}\n",
              "\n",
              "                        })\n",
              "                };\n",
              "                \n",
              "            </script>\n",
              "        </div>\n",
              "</body>\n",
              "</html>"
            ]
          },
          "metadata": {
            "tags": []
          }
        }
      ]
    },
    {
      "cell_type": "code",
      "metadata": {
        "id": "oglFNM8Ww39_"
      },
      "source": [
        "df_confirmados_por_municipio = pd.read_csv(\"/content/drive/My Drive/IntegraSUS/casos_coronavirus_localidade_2021_01_10.csv\", low_memory=False, sep=';')"
      ],
      "execution_count": 66,
      "outputs": []
    },
    {
      "cell_type": "code",
      "metadata": {
        "id": "bdbJ-HPcP4TI",
        "colab": {
          "base_uri": "https://localhost:8080/",
          "height": 110
        },
        "outputId": "ba339f44-abff-48f9-adca-77f371b57a99"
      },
      "source": [
        "df_confirmados_por_municipio.head(2)"
      ],
      "execution_count": 67,
      "outputs": [
        {
          "output_type": "execute_result",
          "data": {
            "text/html": [
              "<div>\n",
              "<style scoped>\n",
              "    .dataframe tbody tr th:only-of-type {\n",
              "        vertical-align: middle;\n",
              "    }\n",
              "\n",
              "    .dataframe tbody tr th {\n",
              "        vertical-align: top;\n",
              "    }\n",
              "\n",
              "    .dataframe thead th {\n",
              "        text-align: right;\n",
              "    }\n",
              "</style>\n",
              "<table border=\"1\" class=\"dataframe\">\n",
              "  <thead>\n",
              "    <tr style=\"text-align: right;\">\n",
              "      <th></th>\n",
              "      <th>paisCaso</th>\n",
              "      <th>estadoCaso</th>\n",
              "      <th>municipioCaso</th>\n",
              "      <th>codigoMunicipioCaso</th>\n",
              "      <th>bairroCaso</th>\n",
              "      <th>cepCaso</th>\n",
              "    </tr>\n",
              "  </thead>\n",
              "  <tbody>\n",
              "    <tr>\n",
              "      <th>0</th>\n",
              "      <td>NaN</td>\n",
              "      <td>CE</td>\n",
              "      <td>FORTALEZA</td>\n",
              "      <td>230440.0</td>\n",
              "      <td>BARRA DO CEARA</td>\n",
              "      <td>60332690.0</td>\n",
              "    </tr>\n",
              "    <tr>\n",
              "      <th>1</th>\n",
              "      <td>NaN</td>\n",
              "      <td>CE</td>\n",
              "      <td>FORTALEZA</td>\n",
              "      <td>230440.0</td>\n",
              "      <td>NaN</td>\n",
              "      <td>NaN</td>\n",
              "    </tr>\n",
              "  </tbody>\n",
              "</table>\n",
              "</div>"
            ],
            "text/plain": [
              "  paisCaso estadoCaso  ...      bairroCaso     cepCaso\n",
              "0      NaN         CE  ...  BARRA DO CEARA  60332690.0\n",
              "1      NaN         CE  ...             NaN         NaN\n",
              "\n",
              "[2 rows x 6 columns]"
            ]
          },
          "metadata": {
            "tags": []
          },
          "execution_count": 67
        }
      ]
    },
    {
      "cell_type": "code",
      "metadata": {
        "id": "WP78xR6eP59s"
      },
      "source": [
        "# Como cada linha representa um caso, criar nova coluna com quantidade um para posterior agrupamento \r\n",
        "df_confirmados_por_municipio['qt_caso'] = np.where(df['municipioCaso'].notnull, 1, 0)\r\n"
      ],
      "execution_count": 68,
      "outputs": []
    },
    {
      "cell_type": "code",
      "metadata": {
        "id": "5oOjDDbQkR__",
        "colab": {
          "base_uri": "https://localhost:8080/",
          "height": 141
        },
        "outputId": "531c73f1-3256-44c0-cf8c-28691ddd80db"
      },
      "source": [
        "df_confirmados_por_municipio.head(3)"
      ],
      "execution_count": 69,
      "outputs": [
        {
          "output_type": "execute_result",
          "data": {
            "text/html": [
              "<div>\n",
              "<style scoped>\n",
              "    .dataframe tbody tr th:only-of-type {\n",
              "        vertical-align: middle;\n",
              "    }\n",
              "\n",
              "    .dataframe tbody tr th {\n",
              "        vertical-align: top;\n",
              "    }\n",
              "\n",
              "    .dataframe thead th {\n",
              "        text-align: right;\n",
              "    }\n",
              "</style>\n",
              "<table border=\"1\" class=\"dataframe\">\n",
              "  <thead>\n",
              "    <tr style=\"text-align: right;\">\n",
              "      <th></th>\n",
              "      <th>paisCaso</th>\n",
              "      <th>estadoCaso</th>\n",
              "      <th>municipioCaso</th>\n",
              "      <th>codigoMunicipioCaso</th>\n",
              "      <th>bairroCaso</th>\n",
              "      <th>cepCaso</th>\n",
              "      <th>qt_caso</th>\n",
              "    </tr>\n",
              "  </thead>\n",
              "  <tbody>\n",
              "    <tr>\n",
              "      <th>0</th>\n",
              "      <td>NaN</td>\n",
              "      <td>CE</td>\n",
              "      <td>FORTALEZA</td>\n",
              "      <td>230440.0</td>\n",
              "      <td>BARRA DO CEARA</td>\n",
              "      <td>60332690.0</td>\n",
              "      <td>1</td>\n",
              "    </tr>\n",
              "    <tr>\n",
              "      <th>1</th>\n",
              "      <td>NaN</td>\n",
              "      <td>CE</td>\n",
              "      <td>FORTALEZA</td>\n",
              "      <td>230440.0</td>\n",
              "      <td>NaN</td>\n",
              "      <td>NaN</td>\n",
              "      <td>1</td>\n",
              "    </tr>\n",
              "    <tr>\n",
              "      <th>2</th>\n",
              "      <td>NaN</td>\n",
              "      <td>CE</td>\n",
              "      <td>IGUATU</td>\n",
              "      <td>230550.0</td>\n",
              "      <td>PENHA</td>\n",
              "      <td>NaN</td>\n",
              "      <td>1</td>\n",
              "    </tr>\n",
              "  </tbody>\n",
              "</table>\n",
              "</div>"
            ],
            "text/plain": [
              "  paisCaso estadoCaso municipioCaso  ...      bairroCaso     cepCaso  qt_caso\n",
              "0      NaN         CE     FORTALEZA  ...  BARRA DO CEARA  60332690.0        1\n",
              "1      NaN         CE     FORTALEZA  ...             NaN         NaN        1\n",
              "2      NaN         CE        IGUATU  ...           PENHA         NaN        1\n",
              "\n",
              "[3 rows x 7 columns]"
            ]
          },
          "metadata": {
            "tags": []
          },
          "execution_count": 69
        }
      ]
    },
    {
      "cell_type": "code",
      "metadata": {
        "id": "d0egOyyLQ0HN"
      },
      "source": [
        "df_grafico_confirmados_municipio = df_confirmados_por_municipio.groupby('municipioCaso', sort=False)[\"qt_caso\"].sum().reset_index(name ='total_caso_municipio')"
      ],
      "execution_count": 70,
      "outputs": []
    },
    {
      "cell_type": "code",
      "metadata": {
        "id": "v5os7cc2mBMb",
        "colab": {
          "base_uri": "https://localhost:8080/",
          "height": 416
        },
        "outputId": "39cd4a5f-e282-4dbb-cf8b-e41741338128"
      },
      "source": [
        "df_grafico_confirmados_municipio.sort_values('total_caso_municipio')\r\n",
        "df_grafico_confirmados_municipio"
      ],
      "execution_count": 71,
      "outputs": [
        {
          "output_type": "execute_result",
          "data": {
            "text/html": [
              "<div>\n",
              "<style scoped>\n",
              "    .dataframe tbody tr th:only-of-type {\n",
              "        vertical-align: middle;\n",
              "    }\n",
              "\n",
              "    .dataframe tbody tr th {\n",
              "        vertical-align: top;\n",
              "    }\n",
              "\n",
              "    .dataframe thead th {\n",
              "        text-align: right;\n",
              "    }\n",
              "</style>\n",
              "<table border=\"1\" class=\"dataframe\">\n",
              "  <thead>\n",
              "    <tr style=\"text-align: right;\">\n",
              "      <th></th>\n",
              "      <th>municipioCaso</th>\n",
              "      <th>total_caso_municipio</th>\n",
              "    </tr>\n",
              "  </thead>\n",
              "  <tbody>\n",
              "    <tr>\n",
              "      <th>0</th>\n",
              "      <td>FORTALEZA</td>\n",
              "      <td>541919</td>\n",
              "    </tr>\n",
              "    <tr>\n",
              "      <th>1</th>\n",
              "      <td>IGUATU</td>\n",
              "      <td>27033</td>\n",
              "    </tr>\n",
              "    <tr>\n",
              "      <th>2</th>\n",
              "      <td>MARANGUAPE</td>\n",
              "      <td>17130</td>\n",
              "    </tr>\n",
              "    <tr>\n",
              "      <th>3</th>\n",
              "      <td>ICO</td>\n",
              "      <td>14545</td>\n",
              "    </tr>\n",
              "    <tr>\n",
              "      <th>4</th>\n",
              "      <td>MORADA NOVA</td>\n",
              "      <td>9685</td>\n",
              "    </tr>\n",
              "    <tr>\n",
              "      <th>...</th>\n",
              "      <td>...</td>\n",
              "      <td>...</td>\n",
              "    </tr>\n",
              "    <tr>\n",
              "      <th>2057</th>\n",
              "      <td>MATARACA</td>\n",
              "      <td>1</td>\n",
              "    </tr>\n",
              "    <tr>\n",
              "      <th>2058</th>\n",
              "      <td>SAO MANUEL</td>\n",
              "      <td>1</td>\n",
              "    </tr>\n",
              "    <tr>\n",
              "      <th>2059</th>\n",
              "      <td>JAGUARI</td>\n",
              "      <td>1</td>\n",
              "    </tr>\n",
              "    <tr>\n",
              "      <th>2060</th>\n",
              "      <td>GOVERNADOR ARCHER</td>\n",
              "      <td>1</td>\n",
              "    </tr>\n",
              "    <tr>\n",
              "      <th>2061</th>\n",
              "      <td>SERRA BRANCA</td>\n",
              "      <td>1</td>\n",
              "    </tr>\n",
              "  </tbody>\n",
              "</table>\n",
              "<p>2062 rows × 2 columns</p>\n",
              "</div>"
            ],
            "text/plain": [
              "          municipioCaso  total_caso_municipio\n",
              "0             FORTALEZA                541919\n",
              "1                IGUATU                 27033\n",
              "2            MARANGUAPE                 17130\n",
              "3                   ICO                 14545\n",
              "4           MORADA NOVA                  9685\n",
              "...                 ...                   ...\n",
              "2057           MATARACA                     1\n",
              "2058         SAO MANUEL                     1\n",
              "2059            JAGUARI                     1\n",
              "2060  GOVERNADOR ARCHER                     1\n",
              "2061       SERRA BRANCA                     1\n",
              "\n",
              "[2062 rows x 2 columns]"
            ]
          },
          "metadata": {
            "tags": []
          },
          "execution_count": 71
        }
      ]
    },
    {
      "cell_type": "code",
      "metadata": {
        "id": "y_FBvJo1ungV",
        "colab": {
          "base_uri": "https://localhost:8080/"
        },
        "outputId": "af34b7d6-b424-4c82-9f92-208050cace2e"
      },
      "source": [
        "type(df_grafico_confirmados_municipio)"
      ],
      "execution_count": 72,
      "outputs": [
        {
          "output_type": "execute_result",
          "data": {
            "text/plain": [
              "pandas.core.frame.DataFrame"
            ]
          },
          "metadata": {
            "tags": []
          },
          "execution_count": 72
        }
      ]
    },
    {
      "cell_type": "code",
      "metadata": {
        "id": "cRgQwJtymJd5",
        "colab": {
          "base_uri": "https://localhost:8080/",
          "height": 80
        },
        "outputId": "01c55e00-e23a-4a7a-b2bc-f13ef3f58f1f"
      },
      "source": [
        "df_grafico_confirmados_municipio[df_grafico_confirmados_municipio['municipioCaso'] == 'FORTALEZA']"
      ],
      "execution_count": 73,
      "outputs": [
        {
          "output_type": "execute_result",
          "data": {
            "text/html": [
              "<div>\n",
              "<style scoped>\n",
              "    .dataframe tbody tr th:only-of-type {\n",
              "        vertical-align: middle;\n",
              "    }\n",
              "\n",
              "    .dataframe tbody tr th {\n",
              "        vertical-align: top;\n",
              "    }\n",
              "\n",
              "    .dataframe thead th {\n",
              "        text-align: right;\n",
              "    }\n",
              "</style>\n",
              "<table border=\"1\" class=\"dataframe\">\n",
              "  <thead>\n",
              "    <tr style=\"text-align: right;\">\n",
              "      <th></th>\n",
              "      <th>municipioCaso</th>\n",
              "      <th>total_caso_municipio</th>\n",
              "    </tr>\n",
              "  </thead>\n",
              "  <tbody>\n",
              "    <tr>\n",
              "      <th>0</th>\n",
              "      <td>FORTALEZA</td>\n",
              "      <td>541919</td>\n",
              "    </tr>\n",
              "  </tbody>\n",
              "</table>\n",
              "</div>"
            ],
            "text/plain": [
              "  municipioCaso  total_caso_municipio\n",
              "0     FORTALEZA                541919"
            ]
          },
          "metadata": {
            "tags": []
          },
          "execution_count": 73
        }
      ]
    },
    {
      "cell_type": "code",
      "metadata": {
        "id": "1kL7JXB2mt1L",
        "colab": {
          "base_uri": "https://localhost:8080/",
          "height": 542
        },
        "outputId": "a72d3bb5-687f-4cc2-8e87-033f2c0c80ee"
      },
      "source": [
        "\r\n",
        "\r\n",
        "fig = go.Figure(data=[\r\n",
        "    go.Bar(x= df_grafico_confirmados_municipio['municipioCaso'], y=  df_grafico_confirmados_municipio['total_caso_municipio'], marker=dict(color='orangered')),\r\n",
        "])\r\n",
        "\r\n",
        "# gráfico\r\n",
        "fig.update_layout(\r\n",
        "    title='Total de casos confiramdos distribuiídos por raça do paciente no estado do Ceará',\r\n",
        "    xaxis_tickfont_size=24,\r\n",
        "    xaxis = dict(\r\n",
        "        title='Município',\r\n",
        "        titlefont_size=16,\r\n",
        "        tickfont_size=14,\r\n",
        "    ),\r\n",
        "    yaxis = dict(\r\n",
        "        title='Número de casos confirmados',\r\n",
        "        titlefont_size=16,\r\n",
        "        tickfont_size=14,\r\n",
        "    ), xaxis_tickangle=90)\r\n",
        "\r\n",
        "fig.show()"
      ],
      "execution_count": 74,
      "outputs": [
        {
          "output_type": "display_data",
          "data": {
            "text/html": [
              "<html>\n",
              "<head><meta charset=\"utf-8\" /></head>\n",
              "<body>\n",
              "    <div>\n",
              "            <script src=\"https://cdnjs.cloudflare.com/ajax/libs/mathjax/2.7.5/MathJax.js?config=TeX-AMS-MML_SVG\"></script><script type=\"text/javascript\">if (window.MathJax) {MathJax.Hub.Config({SVG: {font: \"STIX-Web\"}});}</script>\n",
              "                <script type=\"text/javascript\">window.PlotlyConfig = {MathJaxConfig: 'local'};</script>\n",
              "        <script src=\"https://cdn.plot.ly/plotly-latest.min.js\"></script>    \n",
              "            <div id=\"3de9d688-7180-45fb-abb4-6b48b3421edc\" class=\"plotly-graph-div\" style=\"height:525px; width:100%;\"></div>\n",
              "            <script type=\"text/javascript\">\n",
              "                \n",
              "                    window.PLOTLYENV=window.PLOTLYENV || {};\n",
              "                    \n",
              "                if (document.getElementById(\"3de9d688-7180-45fb-abb4-6b48b3421edc\")) {\n",
              "                    Plotly.newPlot(\n",
              "                        '3de9d688-7180-45fb-abb4-6b48b3421edc',\n",
              "                        [{\"marker\": {\"color\": \"orangered\"}, \"type\": \"bar\", \"x\": [\"FORTALEZA\", \"IGUATU\", \"MARANGUAPE\", \"ICO\", \"MORADA NOVA\", \"PIRES FERREIRA\", \"HORIZONTE\", \"ITAITINGA\", \"BEBERIBE\", \"REDENCAO\", \"FARIAS BRITO\", \"CASCAVEL\", \"ITAPIPOCA\", \"RUSSAS\", \"JARDIM\", \"BREJO SANTO\", \"IBICUITINGA\", \"TIANGUA\", \"ACARAPE\", \"CRUZ\", \"IPUEIRAS\", \"SANTA QUITERIA\", \"CAUCAIA\", \"SENADOR POMPEU\", \"PACOTI\", \"MARACANAU\", \"VICOSA DO CEARA\", \"BOA VIAGEM\", \"JUAZEIRO DO NORTE\", \"ACARAU\", \"EUSEBIO\", \"SOBRAL\", \"SANTANA DO ACARAU\", \"HIDROLANDIA\", \"SANTA LUZIA\", \"LAVRAS DA MANGABEIRA\", \"CRATO\", \"BELA CRUZ\", \"IRACEMA\", \"GENERAL SAMPAIO\", \"BARBALHA\", \"ARACOIABA\", \"SAO LU\\u00cdS DO CURU\", \"PACATUBA\", \"ICAPUI\", \"MANAUS\", \"CAPISTRANO\", \"ARACATI\", \"FORQUILHA\", \"AQUIRAZ\", \"CRATEUS\", \"SAO GONCALO DO AMARANTE\", \"JIJOCA DE JERICOACOARA\", \"FRECHEIRINHA\", \"CARIRIACU\", \"CEDRO\", \"CARNAUBAL\", \"MERUOCA\", \"SAO BENEDITO\", \"QUIXADA\", \"AMONTADA\", \"CAMOCIM\", \"IBIAPINA\", \"GRANJA\", \"MISSAO VELHA\", \"RERIUTABA\", \"URUOCA\", \"SAO JOAO DO JAGUARIBE\", \"TAUA\", \"TERESINA\", \"BAIXIO\", \"ACOPIARA\", \"PENTECOSTE\", \"MOMBACA\", \"COREAU\", \"LIMOEIRO DO NORTE\", \"TABULEIRO DO NORTE\", \"ARARIPE\", \"ITAREMA\", \"CANINDE\", \"TAMBORIL\", \"JAGUARUANA\", \"MORRINHOS\", \"QUIXERAMOBIM\", \"MADALENA\", \"PORTUGAL, CE - BR\", \"BATURIT\\u00c9\", \"ITAPAJE\", \"BANABUIU\", \"TRES FRONTEIRAS\", \"MASSAPE\", \"CAMPOS SALES\", \"OROS\", \"IPAPORANGA\", \"PEREIRO\", \"TRAIRI\", \"PARACURU\", \"SANTA QUITERIA DO MARANHAO\", \"SERRA\", \"JAGUARETAMA\", \"MULUNGU\", \"CARIUS\", \"BARRO\", \"SAO PAULO\", \"INDEPENDENCIA\", \"PACAJUS\", \"BRASILIA\", \"OCARA\", \"VARZEA ALEGRE\", \"GUARACIABA DO NORTE\", \"MARTINOPOLE\", \"PINDORETAMA\", \"GROAIRAS\", \"SENADOR SA\", \"MAURITI\", \"VARJOTA\", \"GRANJEIRO\", \"ALTO SANTO\", \"MONSENHOR TABOSA\", \"ITATIRA\", \"MORAUJO\", \"CATUNDA\", \"IPU\", \"BARREIRA\", \"CATARINA\", \"FORTIM\", \"GUARAMIRANGA\", \"UMARI\", \"SANTANA DO CARIRI\", \"ALCANTARAS\", \"CHOR\\u00d3\", \"ASSARE\", \"MARCO\", \"MILAGRES\", \"AURORA\", \"QUIXELO\", \"PEDRA BRANCA\", \"DEPUTADO IRAPUAN PINHEIRO\", \"URUBURETAMA\", \"PIQUET CARNEIRO\", \"JAGUARIBARA\", \"SAO LUIS\", \"QUITERIANOPOLIS\", \"ARATUBA\", \"UMIRIM\", \"UBAJARA\", \"MILHA\", \"ARARENDA\", \"IBARETAMA\", \"PORTEIRAS\", \"PARAMBU\", \"QUIXERE\", \"PORANGA\", \"ERERE\", \"CROATA\", \"PARAIPABA\", \"SAO PEDRO DA ALDEIA\", \"IPAUMIRIM\", \"SABOEIRO\", \"AIUABA\", \"RECIFE\", \"NOVO ORIENTE\", \"TEJUCUOCA\", \"MUCAMBO\", \"ITAICABA\", \"NOVA OLINDA\", \"ABAIARA\", \"MESSIAS\", \"CONFINS\", \"ALTANEIRA\", \"POTIRETAMA\", \"CAICO\", \"JAGUARIBE\", \"BARROQUINHA\", \"NATAL\", \"ELOI MENDES\", \"CAJAZEIRAS\", \"SERRA TALHADA\", \"CARIRE\", \"NOVA RUSSAS\", \"GUAI\\u00daBA\", \"CACIMBA DE DENTRO\", \"IRAUCUBA\", \"JATI\", \"PALMACIA\", \"RIO DE JANEIRO\", \"ITAPIUNA\", \"TRIZIDELA DO VALE\", \"CURITIBA\", \"SAO PAULO, SP - BR\", \"01, CE - BR\", \"PACUJA\", \"SOLONOPOLE\", \"SALVADOR\", \"PALHANO\", \"FORTALEZA-CE\", \"SALITRE\", \"CHOROZINHO\", \"DIADEMA\", \"SAO GONCALO\", \"SAO CAETANO DO SUL\", \"PORTO FRANCO\", \"GRACA\", \"TURURU\", \"OSASCO\", \"TARRAFAS\", \"SAO LEOPOLDO\", \"GUARULHOS\", \"GUARUJA\", \"CAMPO GRANDE\", \"JOAO PESSOA\", \"JUCAS\", \"CHAVAL\", \"MIRAIMA\", \"VASSOURAS\", \"FRANCISCO MORATO\", \"BELEM\", \"ALMINO AFONSO\", \"PENAFORTE\", \"CACERES\", \"ANTONINA DO NORTE\", \"MARABA\", \"PRAIA GRANDE\", \"GARANHUNS\", \"POTENGI\", \"MACEIO\", \"CAMETA\", \"SAO JOAO DO RIO DO PEIXE\", \"PARNAIBA\", \"SALGUEIRO\", \"ARARIPINA\", \"CARIDADE\", \"SOROCABA\", \"BATATAIS\", \"PERITORO\", \"EUZEBIO, CE - BR\", \"FORT, CE - BR\", \"ARNEIROZ\", \"SANTO AMARO DAS BROTAS\", \"RIO DO SUL\", \"BELO HORIZONTE\", \"MONTES CLAROS\", \"TABOAO DA SERRA\", \"IGUAPE\", \"OLINDA\", \"RONDONOPOLIS\", \"PARAUAPEBAS\", \"PARAMOTI\", \"FEIRA DE SANTANA\", \"UIRAUNA\", \"TIMON\", \"ITAJAI\", \"APUIARES\", \"NOSSA SENHORA DO SOCORRO\", \"PIMENTEIRAS\", \"IMACULADA\", \"PECEM\", \"CAMPINA GRANDE\", \"MOSSORO\", \"GURJAO\", \"TOBIAS BARRETO\", \"MARI\", \"GRAVATA\", \"BOA VISTA\", \"PINHAIS\", \"NANUQUE\", \"IMPERATRIZ\", \"SARZEDO\", \"JABOATAO DOS GUARARAPES\", \"RIBEIRAO PRETO\", \"MACAPA\", \"ORTALEZA, CE - BR\", \"CRUZEIRO DA FORTALEZA\", \"COCAL\", \"BOM JARDIM\", \"CATALAO\", \"VILA VELHA\", \"CONCEICAO\", \"EMBU DAS ARTES\", \"PICOS\", \"GOIANIRA\", \"PARNAMIRIM\", \"DUQUE DE CAXIAS\", \"APERIBE\", \"SAO JOAO NEPOMUCENO\", \"GOIANIA\", \"IBIRITE\", \"PELOTAS\", \"TANGARA DA SERRA\", \"ALAGOINHAS\", \"EXU\", \"BELEM DE SAO FRANCISCO\", \"TRINDADE\", \"PAULISTANA\", \"BARRA DO TURVO\", \"GURUPI\", \"ARACAGI\", \"DOUTOR SEVERIANO\", \"ANANINDEUA\", \"ILHEUS\", \"SANTA MARIA DO PARA\", \"SAO FRANCISCO DO CONDE\", \"RIO BRANCO\", \"SERRITA\", \"AMERICANA\", \"TUCURUI\", \"SAO LUIZ\", \"FLORIANOPOLIS\", \"VOLTA REDONDA\", \"CANDEIAS\", \"MARCOLANDIA\", \"ABREU E LIMA\", \"DOM ELISEU\", \"CANELA\", \"AFONSO BEZERRA\", \"PETROLINA\", \"SAO BERNARDO DO CAMPO\", \"SANTAREM\", \"ITUPEVA\", \"RIO CLARO\", \"TRIUNFO\", \"LEME\", \"TERESOPOLIS\", \"SAO BENEDITO DO RIO PRETO\", \"OURICURI\", \"MACAIBA\", \"CAMPINAS\", \"CONSELHEIRO LAFAIETE\", \"BARAUNA\", \"SAPE\", \"POJUCA\", \"JUATUBA\", \"FERRAZ DE VASCONCELOS\", \"PORTO ALEGRE\", \"PATOS\", \"NILOPOLIS\", \"FRANCISCO BELTRAO\", \"MESSEJANA\", \"TAILANDIA\", \"COTIA\", \"MONTENEGRO\", \"NORDESTINA\", \"SIRINHAEM\", \"MARINGA\", \"ITAPEMIRIM\", \"BATALHA\", \"EXTREMA\", \"FRANCISCO DANTAS\", \"CARBONITA\", \"VITORIA\", \"PEDRO II\", \"SOUSA\", \"-\", \"BAIA FORMOSA\", \"RIACHAO DO BACAMARTE\", \"SAO MIGUEL\", \"RAFAEL FERNANDES\", \"MACAE\", \"VARZEA GRANDE\", \"BRASILIA, DF - BR\", \"FRANCO DA ROCHA\", \"SAO JOSE DO RIO PRETO\", \"JURIPIRANGA\", \"ITAPEVI\", \"SANTA HELENA\", \"LINHARES\", \"CAUCAIA-CE\", \"FORTALEZAA, CE - BR\", \"FORALEZA', CE - BR\", \"SANTO ANDRE\", \"BREJO DOS SANTOS\", \"MARICA\", \"EQUADOR\", \"IPUBI\", \"NOVA SERRANA\", \"ACU\", \"PALMAS DE MONTE ALTO\", \"PORTO VELHO\", \"CAMACARI\", \"QUATIS\", \"SAO JOSE DE RIBAMAR\", \"CABO DE SANTO AGOSTINHO\", \"BARUERI\", \"SANTANA DO ARAGUAIA\", \"SAO JOSE DO BELMONTE\", \"GROSSOS\", \"FRONTEIRAS\", \"JACAREI\", \"SANTO ANTONIO DO RETIRO\", \"CORONEL JOAO PESSOA\", \"CUBATAO\", \"APODI\", \"UNIAO\", \"TEREZINA\", \"ARACATI, SP - BR\", \"MARITUBA\", \"PAULO AFONSO\", \"CAXIAS DO SUL\", \"ITAPETINGA\", \"RIO PRETO DA EVA\", \"DAMIAO\", \"CANABRAVA DO NORTE\", \"SOCORRO DO PIAUI\", \"FORTALEZA, SP - BR\", \"ITAMARAJU\", \"UBERLANDIA\", \"NOVA IORQUE\", \"VERDEJANTE\", \"SANTANA\", \"BLUMENAU\", \"WENCESLAU GUIMARAES\", \"FORTALEZA DE MINAS\", \"SUMARE\", \"TUFILANDIA\", \"ARACAJU\", \"SANTANA DO PARAISO\", \"BRAGANCA\", \"EXTREMOZ\", \"SEVERIANO MELO\", \"IPATINGA\", \"MIRANDIBA\", \"CORIBE\", \"0\", \"TENENTE ANANIAS\", \"CURRAIS NOVOS\", \", CE - BR\", \"ESCADA\", \"PAULISTA\", \"SANTO ANTONIO\", \"ICARAIMA\", \"INDAIAL\", \"PETROPOLIS\", \"OURO BRANCO\", \"ALEMANHA, CE - BR\", \"JOINVILLE\", \"SAO LUIZ DO CURU\", \"PARAIBA DO SUL\", \"FRONTEIRA\", \"AREIA BRANCA\", \"DOMINGOS MOURAO\", \"ITABUNA\", \"JAICOS\", \"SAO GABRIEL\", \"PECEM (SAO GONCALO DO AMARANTE), CE - BR\", \"MOJI MIRIM\", \"DUQUI DE CAXIAS\", \"AFOGADOS DA INGAZEIRA\", \"MONTEIRO\", \"PARELHAS\", \"SAO PAULO DO POTENGI\", \"IBIRA\", \"ASSIS\", \"BELEM DO BREJO DO CRUZ\", \"TUPA\", \"BALNEARIO CAMBORIU\", \"JARDIM DO SERIDO\", \"SANTA CRUZ DA BAIXA VERDE\", \"LAURO DE FREITAS\", \"MONTE ALEGRE DE SERGIPE\", \"PARAGUACU PAULISTA\", \"PASSO FUNDO\", \"SENADOR CANEDO\", \"PACO DO LUMIAR\", \"CAPIM GROSSO\", \"SANTOS\", \"NAVIRAI\", \"MONSENHOR PAULO\", \"ITAPISSUMA\", \"CATENDE\", \"MONTE ALEGRE\", \"SOBRAL-CE\", \"ITAPEMA\", \"URUARA\", \"COLATINA\", \"ALCOBACA\", \"IBICARAI\", \"RIBEIRAO PIRES\", \"ITABAIANA\", \"SANTANA DO MATOS\", \"SAO MATEUS\", \"SAO JOSE DE PIRANHAS\", \"AQUINAZ, CE - BR\", \"AQUIDABA\", \"AIMORES\", \"PAU DOS FERROS\", \"SAO LUIS DO CURURUA 7 DE SETEMBRO\", \"ARARAQUARA\", \"LIMOEIRA DO NORET\", \"ARACATUBA\", \"PIAUI, PI - BR\", \"MAUA\", \"SANTA MARIA DA BOA VISTA\", \"ITANHEM\", \"BREU BRANCO\", \"MATOES\", \"CAIEIRAS\", \"SANTO ANTONIO DE JESUS\", \"NITEROI\", \"GUARAPARI\", \"PALMAS\", \"CACOAL\", \"TURVO\", \"GRAVATAI\", \"PARATI\", \"GOVERNADOR VALADARES\", \"FOZ DO IGUACU\", \"DELMIRO GOUVEIA\", \"MERCES\", \"PONTO NOVO\", \"JARAGUA DO SUL\", \"JI-PARANA\", \"JUIZ DE FORA\", \"AFONSO CLAUDIO\", \"LAGOA DE ITAENGA\", \"FORALEZA, CE - BR\", \"CARUARU\", \"ESTREITO\", \"MORRO DO CHAPEU DO PIAUI\", \"BARRA DO CORDA\", \"FOSRTALEZA, CE - BR\", \"SAO GONCACO DO AMARANTE\", \"BATAYPORA\", \"LADARIO\", \"PEDRO LEOPOLDO\", \"POUSO ALEGRE\", \"TIBAU\", \"PIRIPIRI\", \"RIO DAS FLORES\", \"BRUSQUE\", \"RIACHUELO\", \"PANELAS\", \"LAVRAS\", \"FERNANDOPOLIS\", \"MOREILANDIA\", \"JOAO LISBOA\", \"MONTE ALEGRE DO PIAUI\", \"JUCURUTU\", \"UBERABA\", \"TANHACU\", \"FLORIANO\", \"SAO JOAO DE MERITI\", \"SAO SEBASTIAO\", \"UMUARAMA\", \"FORTALEZA / CE\", \"PAUDALHO\", \"BARREIRAS\", \"SAO LOURENCO\", \"MEDIANEIRA\", \"TEIXEIRA DE FREITAS\", \"TEOFILO OTONI\", \"SAO VICENTE\", \"JOAQUIM GOMES\", \"ITAGIMIRIM\", \"PONTAL\", \"TABIRA\", \"EUZEBIO\", \"CASTANHAL\", \"CACHOEIRA DOS INDIOS\", \"RESTINGA\", \"VARGEAO\", \"BOA VIAGEM, BA - BR\", \"EMBU\", \"CHA DE ALEGRIA\", \"MUCURI\", \"FORTAALEZA, CE - BR\", \"TABAPORA\", \"PIO IX\", \"CIDADE OCIDENTAL\", \"REMIGIO\", \"VITORIA DA CONQUISTA\", \"ITATIAIA\", \"VALPARAISO DE GOIAS\", \"GOIANA\", \"ALTA FLORESTA D''OESTE\", \"ITANHAEM\", \"SAPIRANGA\", \"CORUMBA\", \"RIO NOVO DO SUL\", \"IPOJUCA\", \"CONTAGEM\", \"CRUZEIRO\", \"TELEMACO BORBA\", \"NOVO HAMBURGO\", \"NOVA IGUACU\", \"SEABRA\", \"PASSIRA\", \"MONTE ALTO\", \"CONTENDA\", \"ITUMBIARA\", \"ESPERA FELIZ\", \"GRANITO\", \"ICARAI\", \"PORTO NACIONAL\", \"TATUI\", \"CACHOEIRINHA\", \"JOAQUIM PIRES\", \"VENTUROSA\", \"GEMINIANO\", \"CATU\", \"SANTA INES\", \"ALEGRETE\", \"APARECIDA DE GOIANIA\", \"BOM JESUS\", \"ICARAI (AMONTADA), CE - BR\", \"CACHOEIRAS DE MACACU\", \"CURITIBA, CE - BR\", \"PIRAMBU\", \"FOTALEZA, CE - BR\", \"ESPERANCA\", \"MAMANGUAPE\", \"AMAPA DO MARANHAO\", \"SANTO ANDRE, SP - BR\", \"CAMPO ALEGRE\", \"OEIRAS\", \"RODOLFO FERNANDES\", \"CHAPADAO DO CEU\", \"MARIZOPOLIS\", \"BETIM\", \"PIRAJU\", \"COLINAS DO TOCANTINS\", \"BRAGANCA PAULISTA\", \"CATOLE DO ROCHA\", \"NISIA FLORESTA\", \"SAPUPARA (MARANGUAPE), CE - BR\", \"SAO MIGUEL DA BAIXA GRANDE\", \"ILHA SOLTEIRA\", \"ALEGRE\", \"ITABORAI\", \"SAO MATEUS DO MARANHAO\", \"MUTUIPE\", \"APIAI\", \"SANTO ANTONIO DE LISBOA\", \"NOVA SOURE\", \"FORTAEZA\", \"SAO JOSE\", \"JUAZEIRINHO\", \"SAO JOSE DOS PINHAIS\", \"PORANGATU\", \"ILHABELA\", \"IGUABA GRANDE\", \"MACARA, CE - BR\", \"AREA BRANCA, RN - BR\", \"PEDRO AVELINO\", \"SAO ROQUE\", \"JAGUARAO\", \"QUIXAD\\u00bf, CE - BR\", \"SANTA BARBARA D''OESTE\", \"AMARANTE\", \"FORTA\\u00bfEZA, CE - BR\", \"CABROBO\", \"CAMPO GRANDE, CE - BR\", \"RIO BRILHANTE\", \"TAMANDARE\", \"CABEDELO\", \"POUSO ALTO\", \"ANGRA DOS REIS\", \"ACARI\", \"SAO FRANCISCO DO MARANHAO\", \"MINEIROS DO TIETE\", \"POMBAL\", \"INDIANOPOLIS\", \"NOVO MARANGUAPE, CE - BR\", \"CIANORTE\", \"SAO BENTO DO SUL\", \"CRISTALINA\", \"ITALIA, CE - BR\", \"ARRAIAL DO CABO\", \"SAO JOSE DE MIPIBU\", \"ITALIA\", \"MANICORE\", \"MOGI DAS CRUZES\", \"AGUAS LINDAS DE GOIAS\", \"SAPEZAL\", \"TOME-ACU\", \"ITAPERUCU\", \"GOVERNADOR NEWTON BELLO\", \"SAO RAIMUNDO NONATO\", \"DOURADOS\", \"SAO FRANCISCO DO OESTE\", \"SANTA CRUZ DO SUL\", \"ARARAS\", \"CANTO DO BURITI\", \"LIMEIRA\", \"CABECEIRAS DO PIAUI\", \"BODOCO\", \"CARAPICUIBA\", \"CACULE\", \"SOBRADINHO\", \"MAJOR SALES\", \"PORTO FERREIRA\", \"PANAMBI\", \"VITORIA DE SANTO ANTAO\", \"LUIS GOMES\", \"GUARANIACU\", \"NAVEGANTES\", \"ROSANA\", \"ARAGUAINA\", \"SAO BENTO DO UNA\", \"CABO FRIO\", \"NOVA OLIMPIA\", \"PARAU\", \"CARAUBAS DO PIAUI\", \"NOVA INDEPENDENCIA\", \"GUARATINGUETA\", \"ALTOS\", \"FORTALZA, CE - BR\", \"TAUBATE\", \"BARRA DO GARCAS\", \"ULIANOPOLIS\", \"TACIMA\", \"PARAGOMINAS\", \"SAO JOSE DOS CAMPOS\", \"ENCANTO\", \"MATIAS (PENTECOSTE), CE - BR\", \"CARIACICA\", \"BARRA DOS COQUEIROS\", \"MAGE\", \"GRAJAU\", \"BREVES\", \"AUGUSTINOPOLIS\", \"SAO SEBASTIAO DO PASSE\", \"BELEM DO SAO FRANCISCO\", \"ITAPORANGA\", \"IRANDUBA\", \"PIRAI\", \"ESTANCIA\", \"CHAPADINHA\", \"LIVRAMENTO\", \"MADRE DE DEUS\", \"ARACATI CEARA\", \"MARACANA\\u00bf, CE - BR\", \"BARBACENA\", \"CAJAZEIRINHAS\", \"NOVA CRUZ\", \"SONOLOPOLES, CE - BR\", \"INHUMA\", \"JAPARATUBA\", \"ICARA\", \"SAO FRANCISCO DO BREJAO\", \"SAO MIGUEL DO TOCANTINS\", \"JUAZEIRO\", \"ANCURI\", \"TUPANCIRETA\", \"VILA NOVA DO PIAUI\", \"SERTAOZINHO\", \"CANIDE\", \"BENTO GONCALVES\", \"ITAGUAI\", \"UTINGA\", \"PATO BRANCO\", \"CAXIAS\", \"SANTA FE DO SUL\", \"ARAPONGAS\", \"ITAITUBA\", \"MIRACEMA DO TOCANTINS\", \"PAULO DE FARIA\", \"SANTA CRUZ\", \"SAO GABRIEL DA CACHOEIRA\", \"UPANEMA\", \"ITAU\", \"TUNTUM\", \"NOVA MUTUM\", \"FORETALEZA, CE - BR\", \"VACARIA\", \"ROSARIO\", \"COLOMBO\", \"GENEVE, DF - BR\", \"VICOSA\", \"LISBOA, CE - BR\", \"CANOAS\", \"ARAPEI\", \"CAMPO MAGRO\", \"IPE\", \"ESPERANTINA\", \"PARANGABA\", \"BALNEARIO PINHAL\", \"POCO DE JOSE DE MOURA\", \"CAUCAIA, SP - BR\", \"GUAJARA-MIRIM\", \"CORURIPE\", \"POSSE\", \"IGARAPE-ACU\", \"TABATINGA\", \"ARAUCARIA\", \"GUARIBA\", \"PORTUGAL\", \"ARARUAMA\", \"BELA VISTA DE GOIAS\", \"MARCELINO VIEIRA\", \"FREI MARTINHO\", \"COCOS\", \"BARAO DE GRAJAU\", \"LONDRINA\", \"BELFORD ROXO\", \"PIRACURUCA\", \"SAO JOAO DO PARAISO\", \"BARRA DE SAO FRANCISCO\", \"DIAS D'AVILA\", \"PARACATU\", \"PENHA\", \"MUNIZ FREIRE\", \"LIMOEIRO\", \"CAPIVARI\", \"ABAETETUBA\", \"ITU\", \"BEZERROS\", \"TRES COROAS\", \"ELIAS FAUSTO\", \"FORTELEZA, CE - BR\", \"PORTO SEGURO\", \"COELHO NETO\", \"SAO JOAO DA FRONTEIRA\", \"SAPUCAIA DO SUL\", \"ITAPAJE, CE - BR\", \"SANTA TEREZINHA DE ITAIPU\", \"EUCLIDES DA CUNHA\", \"PAULINO NEVES\", \"COLINAS\", \"PARAZINHO\", \"VARZEA PAULISTA\", \"ASSAI\", \"COLONIA LEOPOLDINA\", \"SANTANA DE PARNAIBA\", \"BELO ORIENTE\", \"ALENQUER\", \"CARAPEBUS\", \"CASA NOVA\", \"CAMARAGIBE\", \"TERRA NOVA\", \"MOGI GUACU\", \"SANTA CRUZ DAS PALMEIRAS\", \"MAIRIPORA\", \"SAO FERNANDO\", \"CUIABA\", \"LAGOA DA PRATA\", \"JOSE DE FREITAS\", \"JOSELANDIA\", \"TANGARA\", \"RIO VERDE\", \"SAO BERNARDO\", \"CUMBUCO\", \"ANGICO\", \"TUPARETAMA\", \"CALUMBI\", \"UMARIZAL\", \"SAO JOSE DO RIO PARDO\", \"MAE DO RIO\", \"PATU\", \"PIRACICABA\", \"FORTALEZA DOS NOGUEIRAS\", \"00, CE - BR\", \"LAGOA GRANDE DO MARANHAO\", \"CANID\\u00bf, CE - BR\", \"ARAGUACU\", \"BELA VISTA DO MARANHAO\", \"MARILIA\", \"SIMOES\", \"CAUCAIA / CE\", \"NITEROI, RJ - BR\", \"TAIBA\", \"BADY BASSITT\", \"IUNA\", \"DIVINOPOLIS\", \"CAPINZAL DO NORTE\", \"CAMPO FORMOSO\", \"GUAMARE\", \"IPIXUNA DO PARA\", \"BERNARDINO BATISTA\", \"PALHOCA\", \"ALTINHO\", \"PALMARES\", \"LUCAS DO RIO VERDE\", \"LUIZIANA\", \"PORTO, CE - BR\", \"JUNDIAI\", \"CAMPO MAIOR\", \"JERICOCARA\", \"TREMEMBE\", \"RIO BONITO\", \"EUISEBIO, CE - BR\", \"BOLIVIA, CE - BR\", \"CAPONGA (CASCAVEL), CE - BR\", \"CANTA\", \"FORMIGA\", \"LAJEADO\", \"REMANSO\", \"BARCARENA\", \"BURITI DOS LOPES\", \"ANAPOLIS\", \"PINHALZINHO\", \"IBAITI\", \"ITACOATIARA\", \"PARANAGUA\", \"CANINDE DE SAO FRANCISCO\", \"BREJO\", \"PATOS DE MINAS\", \"SETE LAGOAS\", \"PENDENCIAS\", \"PORTO\", \"MACAPARANA\", \"CAPELA DE SANTANA\", \"PALMEIRA DOS INDIOS\", \"ARES\", \"MANAIRA\", \"VARGEM ALTA\", \"CALDEIRAO GRANDE DO PIAUI\", \"AUGUSTO CORREA\", \"FORTAL, CE - BR\", \"ASSUNCAO DO PIAUI\", \"ALMIRANTE TAMANDARE\", \"CHARQUEADAS\", \"CONCHAL\", \"IBIUNA\", \"ARUJA\", \"PRIMAVERA\", \"BAYEUX\", \"ITABIRA\", \"ARACRUZ\", \"MESQUITA\", \"ALTAMIRA\", \"GUARABIRA\", \"MORUNGABA\", \"ESTANCIA VELHA\", \"MARMELEIRO\", \"BREJINHO\", \"ATIBAIA\", \"MONTIVIDIU\", \"CEARA-MIRIM\", \"CAMBORIU\", \"MARTINS\", \"ARCOVERDE\", \"SANTO ANTONIO DO DESCOBERTO\", \"CABACEIRAS DO PARAGUACU\", \"JARAGUA\", \"NOVA FRIBURGO\", \"BERTIOGA\", \"BARROSO\", \"MONTE HOREBE\", \"IACRI\", \"SAO DOMINGOS DO MARANHAO\", \"MEDICILANDIA\", \"JANDIRA\", \"CAMPO VERDE\", \"PALMEIRAS\", \"IBIRAPITANGA\", \"MORADA NOVA DE MINAS\", \"SIMOES FILHO\", \"CAMBUI\", \"ITAQUAQUECETUBA\", \"ITAPETININGA\", \"VILHENA\", \"BOM SUCESSO\", \"VITORIA DO MEARIM\", \"CRUZEIRO DO SUL\", \"BAHIA, BA - BR\", \"ARAXA\", \"ITIQUIRA\", \"SARANDI\", \"BACABAL\", \"IPIAU\", \"BARRAS\", \"TAQUARANA\", \"GRAMADO\", \"BUENOS AIRES, CE - BR\", \"FORTAELZA, CE - BR\", \"SAO CRISTOVAO\", \"HOLANDA\", \"JABOTICABAL\", \"TRES LAGOAS\", \"LUZIANIA\", \"PESQUEIRA\", \"FARROUPILHA\", \"VAZANTES (ARACOIABA), CE - BR\", \"SAO GONCALO DO SAPUCAI\", \"BEJA, CE - BR\", \"GOIANESIA DO PARA\", \"CANELINHA\", \"ARACI\", \"PIRACAIA\", \"REGENTE FEIJO\", \"ARACARIGUAMA\", \"CACHOEIRA\", \"PAJEU DO PIAUI\", \"URUCURITUBA\", \"CATUANA (CAUCAIA), CE - BR\", \"SAO PAULO DAS MISSOES\", \"LOUVEIRA\", \"CAFELANDIA\", \"FORTALEZ, CE - BR\", \"DOIS RIACHOS\", \"LAGOA DO MATO\", \"PIACABUCU\", \"CAMPOS DOS GOYTACAZES\", \"SAO LOURENCO DO OESTE\", \"OURICANGAS\", \"PARIQUERA-ACU\", \"ACAILANDIA\", \"ALEXANDRIA\", \"REGENERACAO\", \"CENTRO, CE - BR\", \"COQUEIRAL\", \"PLANALTINA\", \"ALTO DO RODRIGUES\", \"PORTO REAL\", \"SANTA ROSA DE VITERBO\", \"IMBITUBA\", \"CARPINA\", \"ANGICOS\", \"TIMBAUBA DOS BATISTAS\", \"LAGOA DE VELHOS\", \"ITAPACI\", \"LUIS CORREIA\", \"SANTA TEREZINHA\", \"SAO LOURENCO DA MATA\", \"SENADOR LA ROCQUE\", \"FLORESTA\", \"MARIBONDO\", \"IRATI\", \"SOROCABA, CE - BR\", \"FORRALEZA, CE - BR\", \"ILHA GRANDE\", \"ITAITINGA-CE\", \"ALTO TAQUARI\", \"AXIXA DO TOCANTINS\", \"ITALY, CE - BR\", \"FORTAEZA, CE - BR\", \"SERRA DO MEL\", \"SANTO ANGELO\", \"UMBAUBA\", \"CARIRA\", \"CODO\", \"PINHEIRO\", \"CANARANA\", \"ITAPECERICA DA SERRA\", \"SAO GONCALO DO AMARANTE-CE\", \"CONCHAS\", \"BIRIGUI\", \"CABEVELO, PB - BR\", \"ITATIBA\", \"HORTOLANDIA\", \"MINEIROS\", \"ANAJATUBA\", \"CACHOEIRA PAULISTA\", \"XINGUARA\", \"ALAGOINHA DO PIAUI\", \"SANTO AMARO\", \"GARUVA\", \"RESENDE\", \"TOLEDO\", \"NORTELANDIA\", \"IGARASSU\", \"SAO MATEUS DO SUL\", \"FLORANIA\", \"DIAMANTE\", \"CAPINZAL\", \"POTIM\", \"ALVARES MACHADO\", \"AREIA DE BARAUNAS\", \"BRUMADO\", \"JAGUARE\", \"CUPIRA\", \"SANTO ANASTACIO\", \"BURITI DOS MONTES\", \"XANXERE\", \"LAGOA DO ITAENGA\", \"IRECE\", \"BONITO DE SANTA FE\", \"BURITAMA\", \"SAO JOAO DA BOA VISTA\", \"SANTA CLARA DO SUL\", \"MIRACATU\", \"CAPITAO POCO\", \"MARAVILHA\", \"PETROLANDIA\", \"CAJUEIRO DA PRAIA\", \"MATA DE SAO JOAO\", \"ORIZONTE, CE - BR\", \"NOVA ODESSA\", \"POMBOS\", \"MATAO\", \"FRANCISCO SANTOS\", \"ITINGA DO MARANHAO\", \"BARRA DE SANTO ANTONIO\", \"VIDEIRA\", \"FORTLEZA, CE - BR\", \"SAO FRANCISCO DO SUL\", \"JORDAO\", \"APARECIDA\", \"BRASILIA, CE - BR\", \"RIO GRANDE\", \"CAETE\", \"PITANGA\", \"LAGOA DE SAO FRANCISCO\", \"SATUBINHA\", \"GUARAPUAVA\", \"EUSEBIO, ES - BR\", \"PACAJUAS, CE - BR\", \"SAO BENTO\", \"SAO GONCALO DO AMARA, CE - BR\", \"CALDAS NOVAS\", \"FOARTALEZA\", \"URUACU\", \"BRASILEIA\", \"PAULA CANDIDO\", \"AGUA DOCE DO MARANHAO\", \"SAO MIGUEL DO TAPUIO\", \"PARANAIBA\", \"ALFREDO CHAVES\", \"UNIAO DA VITORIA\", \"PORANGABA\", \"ANDRADINA\", \"ITAMBE\", \"BARRA MANSA\", \"CHAPECO\", \"NOVO HORIZONTE\", \"OURO PRETO DO OESTE\", \"PORTO CALVO\", \"GOVERNADOR DIX-SEPT ROSADO\", \"MACAU\", \"OLIMPIA\", \"LAGUNA\", \"CORONEL FABRICIANO\", \"CAMBE\", \"CAMPO BOM\", \"PIRASSUNUNGA\", \"SUZANO\", \"BAURU\", \"EDSON QUEIROZ, CE - BR\", \"CASTELO DO PIAUI\", \"BURITI\", \"TERRA SANTA\", \"PORTALEGRE\", \"RIBEIRAO\", \"BOCAINA\", \"SILVA JARDIM\", \"PASSOS\", \"PILOES\", \"ROSARIO OESTE\", \"EMBU-GUACU\", \"CATU DE ABRANTES (CAMACARI), BA - BR\", \"TAIBA (SAO GONCALO DO AMARANTE), CE - BR\", \"ANDORINHA\", \"PERUIBE\", \"JOAO CAMARA\", \"DIAS D''AVILA\", \"JAGUAQUARA\", \"TAQUARI\", \"IPORA\", \"PIANCO\", \"BANDEIRANTES\", \"SANTA TERESA\", \"CONDADO\", \"INDAIATUBA\", \"ALCANTARA\", \"ARAPIRACA\", \"MACAMBIRA\", \"PASTOS BONS\", \"LAGES\", \"LANDRI SALES\", \"CARNAUBAIS\", \"UARINI\", \"DOM PEDRO\", \"LARANJAL PAULISTA\", \"SAO CARLOS\", \"RUROPOLIS\", \"ALTA FLORESTA\", \"RIO DE JANIERO\", \"BARRA BONITA\", \"FLEICHEIRINHA, CE - BR\", \"PROMISSAO\", \"MOSSORO - R. G DO NORTE\", \"VARGEM GRANDE\", \"ITATINGA\", \"CONGONHAS\", \"FRANCA\", \"NOVA PALMEIRA\", \"BOM RETIRO\", \"CARNAIBA\", \"PEIXE-BOI\", \"LUCELIA\", \"FLEXEIRINHA, CE - BR\", \"JAGUAPITA\", \"JAGUARIUNA\", \"CAMPO MOURAO\", \"RIBEIRAO DAS NEVES\", \"TAQUARITINGA DO NORTE\", \"CAPAO BONITO\", \"SAO JOSE DOS QUATRO MARCOS\", \"PARANAVAI\", \"JATOBA DO PIAUI\", \"TEIXEIRA\", \"INDAIABIRA\", \"PAULINIA\", \"ZE DOCA\", \"CRATEUS-CE\", \"QUERENCIA\", \"GUAIRA\", \"IGARAPE-MIRI\", \"CAMPOS NOVOS\", \"CACHOEIRA GRANDE\", \"MATINHA\", \"RIO GRANDE DA SERRA\", \"SAO VALENTIM\", \"DUAS BARRAS\", \"PICUI\", \"SANTANA DO IPANEMA\", \"REGISTRO\", \"MIGUEL ALVES\", \"ITAPIRA\", \"TUTOIA\", \"RIACHAO\", \"AURORA DO TOCANTINS\", \"IMARUI\", \"RJSBURG, CE - BR\", \"TARAUACA\", \"FORTALEZA DOS VALOS\", \"NOVO PROGRESSO\", \"JANUARIO CICCO (BOA SAUDE)\", \"CERQUILHO\", \"MASSARANDUBA\", \"PAROBE\", \"ARARI\", \"MATOZINHOS\", \"CAJAMAR\", \"VERA\", \"SANTA RITA\", \"ALMADA\", \"CANAA DOS CARAJAS\", \"LAGOA GRANDE\", \"ARIQUEMES\", \"SANTA GERTRUDES\", \"PASSAGEM\", \"JANDAIA DO SUL\", \"PILAR\", \"SANTA BARBARA\", \"CAPANEMA\", \"NOVA REDENCAO\", \"ITAPECURU MIRIM\", \"QUEIMADOS\", \"SINOP\", \"CAICARA DO NORTE\", \"TEREZINA, CE - BR\", \"FORTALEZZA, CE - BR\", \"COLNIZA\", \"BAHIA\", \"JACOBINA\", \"TABUBA\", \"ITAPERUNA\", \"UBERLANDIA MG\", \"URUGUAIANA\", \"LAPA\", \"PIRPIRITUBA\", \"TAMBOARA\", \"MOGI MIRIM\", \"GUAPIACU\", \"FORLTAEZ, CE - BR\", \"MARACANA\", \"CARAGUATATUBA\", \"SAO JOAQUIM DA BARRA\", \"ITAPURA\", \"MANICORE, CE - BR\", \"BREJO DO CRUZ\", \"ELDORADO DO SUL\", \"SERRINHA DOS PINTOS\", \"SERTANIA\", \"OROCO\", \"FOTALEZA\", \"SAO CARLOS, SP - BR\", \"PONTA GROSSA\", \"CAPOEIRAS, CE - BR\", \"ALDEIAS ALTAS\", \"SAO JOAO DO SABUGI\", \"PIRAPORA\", \"ABATIA\", \"BARREIROS\", \"NEOPOLIS\", \"VIAMAO\", \"SAO GON\\u00bfALO, CE - BR\", \"ARAIOSES\", \"SUSSUAPARA\", \"SANTA LUZIA DO PARUA\", \"FLORES\", \"CARATINGA\", \"JOAO MONLEVADE\", \"TAIOBEIRAS\", \"CEARA, CE - BR\", \"FRUTUOSO GOMES\", \"MONGAGUA\", \"FERNANDO PEDROZA\", \"OLHO DAGUA, CE - BR\", \"ANTONIETA DAMASCENO PAIXAO\", \"PORTO DE MOZ\", \"GUARA\", \"SAO JOAO DO PIAUI\", \"AMARANTE DO MARANHAO\", \"MANGARATIBA\", \"AQUIRAZ-CE\", \"PRESIDENTE PRUDENTE\", \"LAGO VERDE\", \"PACARAIMA\", \"CAMACAN\", \"CAMPINAPOLIS\", \"MATIPO\", \"CAMAQUA\", \"SANTA MARIA MADALENA\", \"LAGOA ALEGRE\", \"MESEJANA\", \"IBATE\", \"CAMALAU\", \"SANTANA DO MUNDAU\", \"BRASIL NOVO\", \"CARAUBAS\", \"ALTO ALEGRE DO MARANHAO\", \"ROLANTE\", \"BOM CONSELHO\", \"JAPERI\", \"MINADOR DO NEGRAO\", \"CAJUEIRO\", \"UBATUBA\", \"IBIARA\", \"FPORTALEZA, CE - BR\", \"DAVINOPOLIS\", \"MARACAI\", \"ALIANCA\", \"RECIFE, CE - BR\", \"MANHUMIRIM\", \"MACHADINHO\", \"FELIZ\", \"VIRGINOPOLIS\", \"CUITE\", \"IJUI\", \"RONDON DO PARA\", \"PERDIZES\", \"FAZENDA RIO GRANDE\", \"CANOA QUEBRADA, CE - BR\", \"REINO UNIDO, CE - BR\", \"QUINTANA\", \"SEM CIDADE\", \"SAO JOAQUIM DE BICAS\", \"BANANEIRAS\", \"SANTA CRUZ DO CAPIBARIBE\", \"AMERICA DOURADA\", \"FORTAKEZA, CE - BR\", \"BRASILANDIA DE MINAS\", \"LINS\", \"CONCEICAO DA APARECIDA\", \"AREIOPOLIS\", \"FRANCISCO SA\", \"ALFENAS\", \"LAUSANNE, CE - BR\", \"PERDIGAO\", \"CAETES\", \"RINOPOLIS\", \"VARZEA NOVA\", \"CANUDOS\", \"MIRASSOL\", \"CAICAIA, CE - BR\", \"JATOBA\", \"SANTA MARIA\", \"EUSEBIO CE, CE - BR\", \"LIMOEIRO DO NORTE-CE\", \"PRESIDENTE MEDICI\", \"PARIS, CE - BR\", \"LOMOEIRO DO NORTE\", \"ARAME\", \"BALSAS\", \"PRESIDENTE DUTRA\", \"COLINA\", \"VINHEDO\", \"SOURE\", \"LAJEDO\", \"BELO JARDIM\", \"PERNAMBUCO\", \"SIQUEIRA CAMPOS\", \"MATOES DO NORTE\", \"PARNAIBA, CE - BR\", \"NOVA LIMA\", \"MANARI\", \"CANDEIAS DO JAMARI\", \"CASTILHO\", \"ITIUBA\", \"QUEBRANGULO\", \"RELVADO\", \"SANTA TEREZA DO OESTE\", \"GUADALUPE\", \"MANHUACU\", \"JEQUIE\", \"ASTOLFO DUTRA\", \"VOTORANTIM\", \"MOSSORO - RIO G DO NORTE\", \"POCO DAS TRINCHEIRAS\", \"BARRA DO PIRAI\", \"SAO JOSE DO EGITO\", \"SOLONOPOLI\", \"RIACHAO DO JACUIPE\", \"SANTA RITA DO SAPUCAI\", \"SAO MIGUEL DO GOSTOSO\", \"CAROLINA\", \"ICEM\", \"TIBAU DO SUL\", \"PINDAMONHANGABA\", \"BELEM DO PIAUI\", \"SAO RAIMUNDO DAS MANGABEIRAS\", \"PIATA\", \"FORTALEZA DO TABOCAO\", \"GUAIBA\", \"CAUACAIA, CE - BR\", \"PONTA PORA\", \"JUAZEIRO DO NORTE, AP - BR\", \"AUSTRIA, CE - BR\", \"FRTALEZA, CE - BR\", \"VISCONDE DO RIO BRANCO\", \"JUREMA\", \"QUATRO BARRAS\", \"SANTO ANTONIO DA PATRULHA\", \"FORTALZE, CE - BR\", \"POCO DANTAS\", \"CUNHA\", \"SABINO\", \"ALTAMIRA DO PARANA\", \"TERRA BOA\", \"QUIXABA\", \"MATELANDIA\", \"SONOLOPIS, CE - BR\", \"PARARI\", \"JOANOPOLIS\", \"ITARIRI\", \"MO\\u00bfAMBIQUE, CE - BR\", \"FORTA, CE - BR\", \"NOVA PETROPOLIS\", \"LISBOA - PORTUGAL, CE - BR\", \"BARAO DO TRIUNFO\", \"VALENCA DO PIAUI\", \"SAO TOME\", \"AREIA\", \"PEDRO CANARIO\", \"PRAIA DE ICARAI, CE - BR\", \"PRESIDENTE JUSCELINO\", \"BITUPITA (BARROQUINHA), CE - BR\", \"LAGOA FORMOSA\", \"CATANDUVA\", \"MORRO DO CHAPEU\", \"MIMOSO DO SUL\", \"PEDREIRAS\", \"CONCORDIA\", \"LIBERATO SALZANO\", \"ROLIM DE MOURA\", \"PECEM-CE\", \"CARINHANHA\", \"SIDROLANDIA\", \"MAJOR ISIDORO\", \"CAMPANHA\", \"PIRAQUARA\", \"FORTALEZ\", \"EUNAPOLIS\", \"ITARARE\", \"IBIPEBA\", \"POCOS DE CALDAS\", \"IGARACU DO TIETE\", \"PADRE PARAISO\", \"SENHOR DO BONFIM\", \"CHAVES\", \"JUINA\", \"ARACOIABA DA SERRA\", \"CONJ NOVO ORIENTE, CE - BR\", \"QUIRINOPOLIS\", \"IGARAPE\", \"CAMPO GRANDE DO PIAUI\", \"PUXINANA\", \"GAUCHA DO NORTE\", \"ALEM PARAIBA\", \"CARACARAI\", \"ANTONIO ALMEIDA\", \"NOVO PLANALTO\", \"MORENO\", \"TIMBO\", \"CORINTO\", \"LUIS EDUARDO MAGALHAES\", \"PENEDO\", \"SANTA HELENA DE MINAS\", \"CAMPO NOVO DE RONDONIA\", \"GILBUES\", \"DOIS IRMAOS\", \"RIO TINTO\", \"SERAFINA CORREA\", \"SANTA CATARINA\", \"BENEVIDES\", \"JARINU\", \"CATAGUASES\", \"DOM PEDRITO\", \"SAO LUIS GONZAGA DO MARANHAO\", \"IPIRA\", \"TAQUARA\", \"UBAPORANGA\", \"ALVORADA\", \"NOVO GAMA\", \"ABEL FIGUEIREDO\", \"SAO VICENTE FERRER\", \"POMERODE\", \"JIJOCA, CE - BR\", \"PATROCINIO\", \"ENTRE RIOS DE MINAS\", \"CANAPOLIS\", \"JACIARA\", \"PEDREIRA\", \"GUACUI\", \"BARRETOS\", \"PARAISO DO TOCANTINS\", \"SAO JOSE DO BONFIM\", \"COCALZINHO DE GOIAS\", \"CACIMBINHAS\", \"FRANCE, CE - BR\", \"SANTO ANTONIO DO MONTE\", \"LUZARDO VIANA MARACANAU, CE - BR\", \"SAO LUIZ GONZAGA\", \"JANAUBA\", \"BAIXA GRANDE DO RIBEIRO\", \"SOBRALIA\", \"SERRA GRANDE\", \"TIMOTEO\", \"BARREIRINHAS\", \"JOSE WALTER\", \"BODO\", \"SAO RAIMUNDO, CE - BR\", \"ORLANDIA\", \"ALMEIRIM\", \"MATINA\", \"ALTO PARAISO\", \"SAO JOSE DE CAIANA\", \"CAMPESTRE DO MARANHAO\", \"ALTA FLORESTA D'OESTE\", \"BONITO DE MINAS\", \"CAPELA\", \"SALINOPOLIS\", \"PRESIDENTE FIGUEIREDO\", \"JUSSIAPE\", \"VERA CRUZ\", \"BRUMADINHO\", \"ACAUA\", \"CRUZ ALTA\", \"BELEM- PARA\", \"DESCALVADO\", \"INHUMAS\", \"MARUIM\", \"MARAU\", \"GUANAMBI\", \"MONSENHOR HIPOLITO\", \"MARANGUAPE-CE\", \"CRISTINO CASTRO\", \"OLEO\", \"ALAGOINHA\", \"PAINS\", \"PEDRA PRETA\", \"JAU\", \"FORMOSA\", \"RIO LARGO\", \"FOERTALEZA\", \"AFONSO CUNHA\", \"PARANATAMA\", \"BOM RETIRO DO SUL\", \"RORAIMA, TO - BR\", \"A\", \"ILHA DE ITAMARACA\", \"MURICI DOS PORTELAS\", \"OLIVEIRA\", \"PARIPIRANGA\", \"LUCENA\", \"DIANOPOLIS\", \"BICAS\", \"NOVA VENECIA\", \"CACAULANDIA\", \"JUSCIMEIRA\", \"PAPARA\", \"FORLTALEZA, CE - BR\", \"ERECHIM\", \"FELIPE GUERRA\", \"SORRISO\", \"INHUCU (SAO BENEDITO), CE - BR\", \"BREJO DA MADRE DE DEUS\", \"MAIRINQUE\", \"CUMBUCO, CE - BR\", \"FLORIANOPOLIS, SC - BR\", \"BENJAMIN CONSTANT\", \"TENORIO\", \"J. N CE\", \"BAMBUI\", \"PEDRA LAVRADA\", \"ALAGOA GRANDE\", \"CACAIA, CE - BR\", \"MADRE DE DEUS DE MINAS\", \"JANGADA\", \"BUENOS AIRES\", \"RIALMA\", \"SIDEROPOLIS\", \"MERIDIANO\", \"GUAPIMIRIM\", \"NOVA ALVORADA DO SUL\", \"BARRO ALTO\", \"PORTO FELIZ\", \"GOVERNADOR NUNES FREIRE\", \"CACAPAVA\", \"CAMPO BONITO\", \"CACEQUI\", \"SOMBRIO\", \"VALENCA\", \"BREJOLANDIA\", \"NOVA UBIRATA\", \"PROPRIA\", \"639, CE - BR\", \"AMAPA\", \"CASA BRANCA\", \"AUGUSTO SEVERO (CAMPO GRANDE)\", \"BENEDITO NOVO\", \"CLAUDIO\", \"SOLANEA\", \"ENTRE RIOS\", \"SANTA CRUZ DO ARARI\", \"MANAUS, CE - BR\", \"R,CORONEL VICENTE SOARES\", \"CARNEIROS\", \"PIAU\", \"AFRANIO\", \"AGUIAR\", \"SAO JOAO DO ARRAIAL\", \"PALMITOS\", \"ALTO PARNAIBA\", \"SOLEDADE\", \"FOR, CE - BR\", \"TRES CORACOES\", \"ANHEMBI\", \"SAO RAFAEL\", \"CRICIUMA\", \"CANUTAMA\", \"POMPEIA\", \"CRUZEIRO DO OESTE\", \"SAO FELIX DO XINGU\", \"MONTE SANTO\", \"SERTAO SANTANA\", \"AVARE\", \"JARDIM DE PIRANHAS\", \"FOPRTALEZA, CE - BR\", \"SAO JOAO DOS PATOS\", \"ESTEIO\", \"XAPURI\", \"ALBANIA, CE - BR\", \"SAO BERNARDO DO CAMPO, SP - BR\", \"AQUIDAUANA\", \"FELISBURGO\", \"CRISTIANO OTONI\", \"GASPAR\", \"LUCRECIA\", \"CAPIVARI DE BAIXO\", \"ITOBI\", \"BAEPENDI\", \"RITAPOLIS\", \"PIAUI, CE - BR\", \"POCOES\", \"ALTO PARAISO DE GOIAS\", \"SAO JULIAO\", \"SITIO NOVO DO TOCANTINS\", \"ITACURUBA\", \"SANTA BARBARA D'OESTE\", \"SERRANA\", \"ARAPUA\", \"JATAI\", \"CEREJEIRAS\", \"LIBERDADE\", \"SILVANIA\", \"MINACU\", \"BRAGA, CE - BR\", \"GUAXUPE\", \"NOVA XAVANTINA\", \"TRES RIOS\", \"RIO DAS OSTRAS\", \"GARRAFAO DO NORTE\", \"CAMBEBA, CE - BR\", \"TEFE\", \"PORTO DO MANGUE\", \"JUCATI\", \"MOSSORO, CE - BR\", \"MATUPA\", \"COCAL DO SUL\", \"ALTO ALEGRE DOS PARECIS\", \"BURITI DO TOCANTINS\", \"FORTLALEZA, CE - BR\", \"1, CE - BR\", \"PENALVA\", \"EUSEBIO-CE\", \"DIVINO\", \"HOLLAND, CE - BR\", \"MARANHAO, CE - BR\", \"ARMAZEM\", \"MUCAJAI\", \"GRACA ARANHA\", \"LORENA\", \"CARNAUBA DOS DANTAS\", \"TAMBORIL DO PIAUI\", \"BREJAO\", \"COITE DO NOIA\", \"DISTRITO FEDERAL, DF - BR\", \"COROATA\", \"TRAIPU\", \"BURITI BRAVO\", \"PINHALAO\", \"MARAGOGIPE\", \"OLIVEIRA DOS BREJINHOS\", \"CERQUEIRA CESAR\", \"ITALVA\", \"TUBARAO\", \"BARRA D''ALCANTARA\", \"TACARATU\", \"POA\", \"GUARAMIRIM\", \"SAO JOAO BATISTA\", \"IRITUIA\", \"PARINTINS\", \"0, CE - BR\", \"RIO FORMOSO\", \"PLACIDO DE CASTRO\", \"SAO SEBASTIAO DO OESTE\", \"VARGEM GRANDE DO SUL\", \"IPIRANGA DO PIAUI\", \"FORTALEZAC, CE - BR\", \"VIANA\", \"SALGADINHO\", \"PENTECOSTES, CE - BR\", \"CUSTODIA\", \"QUEIMADAS\", \"ANGICAL DO PIAUI\", \"MIRANDA\", \"MOCAMBIQUE, CE - BR\", \"CACHOEIRO DE ITAPEMIRIM\", \"PARNARAMA\", \"SAO BORJA\", \"PAPANDUVA\", \"RIBAS DO RIO PARDO\", \"XIANGA, CE - BR\", \"ANTONIO MARTINS\", \"HERVAL D'OESTE\", \"VERA CRUZ DO OESTE\", \"COLORADO DO OESTE\", \"AGRICOLANDIA\", \"SURUBIM\", \"ARCEBURGO\", \"LAGO DOS RODRIGUES\", \"ENCANTADO\", \"RIACHO DOS CAVALOS\", \"BOM LUGAR\", \"CRUZ DAS ALMAS\", \"SAPUCAI-MIRIM\", \"CERES\", \"NOVA OLINDA DO NORTE\", \"SANT'' ANA DO LIVRAMENTO\", \"QUATIPURU\", \"TIMBAUBA\", \"INDIAROBA\", \"EPITACIOLANDIA\", \"DORES DO INDAIA\", \"GOIANESIA\", \"CANDIDO MOTA\", \"XAMBIOA\", \"PATY DO ALFERES\", \"SALVADOR, CE - BR\", \"ACRELANDIA\", \"VARGINHA\", \"CONDE\", \"JAGUARARI\", \"VESPASIANO\", \"SAO GERALDO DO ARAGUAIA\", \"NAZARE PAULISTA\", \"BELAGUA\", \"SANTO AMARO DA IMPERATRIZ\", \"PECEM (SAO GONCALO D, CE - BR\", \"BARROCAS\", \"CURVELO\", \"BURITIS\", \"SULINA\", \"SAO FRANCISCO\", \"ALPHA\", \"SANTA ISABEL\", \"PASSA E FICA\", \"TACAIMBO\", \"MONDUBIM\", \"BOA ESPERANCA\", \"PITIMBU\", \"JERICO\", \"BOCA DA MATA\", \"NOVO ACORDO\", \"BOM JESUS DA LAPA\", \"ANCHIETA\", \"ALUMINIO\", \"SANTANA DO MARANHAO\", \"FRANCA, CE - BR\", \"GUARAREMA\", \"GOIAS\", \"SAO ROBERTO\", \"PINHEIRO PRETO\", \"URBANO SANTOS\", \"NOVA PRATA\", \"CHA GRANDE\", \"VARGEM GRANDE PAULISTA\", \"SEROPEDICA\", \"MIRANDA DO NORTE\", \"CABO DE SANTO\", \"ITABERABA\", \"ALHANDRA\", \"COARI\", \"OURO PRETO, RO - BR\", \"RIO GRANDE DO NORTE, CE - BR\", \"LUZILANDIA\", \"CUJUBIM\", \"RIO DO FOGO\", \"FORMOSO DO ARAGUAIA\", \"CONCEICAO DO CASTELO\", \"TORINO, CE - BR\", \"MATIAS OLIMPIO\", \"MARIANA\", \"SAO JOSE DO PIAUI\", \"PARATY\", \"FORTALEZE, CE - BR\", \"CHUI\", \"TENENTE LAURENTINO CRUZ\", \"JIJOCA DE JERICOACOARA-CE\", \"SAO GONCALO DOS CAMPOS\", \"COSMOPOLIS\", \"LUZARDO VIANA, CE - BR\", \"ANICUNS\", \"PORTO REAL DO COLEGIO\", \"ARAPORA\", \"CAMANDUCAIA\", \"IPANGUACU\", \"MEIRELES\", \"RUY BARBOSA\", \"MACHACALIS\", \"CONCEICAO DE MACABU\", \"SANTA CECILIA DO PAVAO\", \"BARBOSA\", \"SAO PEDRO DO IGUACU\", \"MATINHOS\", \"TEODORO SAMPAIO\", \"BARRA VELHA\", \"RIBEIRAO PRETO, SP - BR\", \"FEIRA NOVA\", \"LIMA CAMPOS\", \"IPABA\", \"SABARA\", \"CABREUVA\", \"MATEUS LEME\", \"ADRIANOPOLIS\", \"BOTUCATU\", \"POMPEU\", \"MACHADINHO D'OESTE\", \"RIO REAL\", \"AMARGOSA\", \"CAAPORA\", \"BURITICUPU\", \"LEOPOLDINA\", \"SAO LUIZ DO PARAITINGA\", \"TAPERA (AQUIRAZ), CE - BR\", \"AGUA BRANCA\", \"BARRA\", \"ITAJUIPE\", \"SAO SIMAO\", \"QUIXERAMOBUIM, CE - BR\", \"JACINTO\", \"CACU\", \"LIMA DUARTE\", \"MATHIAS LOBATO\", \"JEREMOABO\", \"SAO LOURENCO DA SERRA\", \"CORACAO DE MARIA\", \"LAJES\", \"ICARAI (AMONTADA)\", \"SAO LUIS DE MONTES BELOS\", \"AQUIRAZ, SP - BR\", \"CRUZETA\", \"ZURICH, CE - BR\", \"SACRAMENTO\", \"TABOLEIRO GRANDE\", \"CAMPO ALEGRE DE LOURDES\", \"SAO JOAO DA SERRA\", \"APARECIDA DE GOIANIA, GO - BR\", \"SANTA TEREZA DO TOCANTINS\", \"PONTO DOS VOLANTES\", \"CAPELA DO ALTO\", \"SALTO\", \"GOIANAPOLIS\", \"BRASILEIRA\", \"TIMBIRAS\", \"LAGOA SALGADA\", \"GUAPO\", \"OROBO\", \"SANTA CRUZ DO RIO PARDO\", \"MANDAGUACU\", \"CORDEIROPOLIS\", \"SAO MIGUEL DO GUAMA\", \"PARQUE SANTO AMARO, CE - BR\", \"GUAJARA\", \"CARANGOLA\", \"MOREIRA SALES\", \"CAMPO LIMPO PAULISTA\", \"ANAPURUS\", \"ITAQUI\", \"BORDA DA MATA\", \"JACUPIRANGA\", \"DEMERVAL LOBAO\", \"SUCUPIRA DO NORTE\", \"SAO MIGUEL DOS CAMPOS\", \"EUS\\u00bfBIO, CE - BR\", \"RIO BRANCO DO SUL\", \"SAO JOSE DA LAGOA TAPADA\", \"FORTALEZA CE, CE - BR\", \"LENCOIS PAULISTA, SP - BR\", \"LIVRAMENTO DE NOSSA SENHORA\", \"TASSO FRAGOSO\", \"MARTINOPOLIS\", \"CARIRI DO TOCANTINS\", \"GLORIA\", \"PARAI\", \"BARRA D'ALCANTARA\", \"CONCEICAO DO JACUIPE\", \"FORTALEZAF\", \"FLORESTA DO ARAGUAIA\", \"ARAGUATINS\", \"ASTORGA\", \"AURORA DO PARA\", \"JOAO NEIVA\", \"CAARAPO\", \"NOSSA SENHORA DA GLORIA\", \"MARECHAL DEODORO\", \"JAGUARIAIVA\", \"UNAI\", \"MONTE CARMELO\", \"CAMPINA GRANDE DO SUL\", \"CUITE DE MAMANGUAPE\", \"MUNDO NOVO\", \"NOVA SANTA RITA\", \"TERESOPOLES\", \"SANTA RITA DO PASSA QUATRO\", \"RIO GRANDE DO NORTE\", \"MARACA, CE - BR\", \"BENFICA, CE - BR\", \"JOAO PINHEIRO\", \"AIQUARA\", \"MAURILANDIA\", \"GOIOERE\", \"PIRAI DO SUL\", \"FRANCISCO MACEDO\", \"01, RJ - BR\", \"ARMACAO DOS BUZIOS\", \"MEIRELES, CE - BR\", \"JACUNDA\", \"PINHEIRAL\", \"ARCOS\", \"RUA PEREIRA DE MIRANDA\", \"BONITO\", \"PARA\", \"ITABIRITO\", \"SAO JOAO DEL REI\", \"GENERAL CAMARA\", \"ITAPEVA\", \"FORATALEZA\", \"ITAREMA-CE\", \"CRAIBAS\", \"GUARATINGA\", \"VARZEDO\", \"SANT'ANA DO LIVRAMENTO\", \"QUEIMADOS (HORIZONTE), CE - BR\", \"BAGE\", \"BEBEDOURO\", \"CAMPANARIO\", \"COCO, CE - BR\", \"GUABIJU\", \"CUACAIA\", \"FORTAKEZ A, CE - BR\", \"GOVERNADOR EDISON LOBAO\", \"BARRINHA\", \"AREIAL\", \"CONCEICAO DO CANINDE\", \"NOVA PONTE\", \"QUIPAPA\", \"HARMONIA\", \"COREMAS\", \"JUPI\", \"OERAS, PI - BR\", \"MARACANAU-CE\", \"IGARATA\", \"MONTES ALTOS\", \"OURO PRETO\", \"FORATLEA\", \"CAPANEMA -PR\", \"SAO JOSE DA VARGINHA\", \"RIO VERDE DE MATO GROSSO\", \"BRANQUINHA\", \"SANTO ESTEVAO\", \"PAICANDU\", \"MEITEN, CE - BR\", \"FORTALEIZA, CE - BR\", \"ACREUNA\", \"TOUROS\", \"ROTTERDAN, CE - BR\", \"SANTA CRUZ DO PIAUI\", \"ITAJUBA\", \"SAO FRANCISCO DO PIAUI\", \"J. NORTE\", \"AMADORA PORTUGAL, CE - BR\", \"CANSANCAO\", \"TUPACIGUARA\", \"FONTOURA XAVIER\", \"BRASILIA DE MINAS\", \"PIRENOPOLIS\", \"LAGOA DA CANOA\", \"GUARATUBA\", \"CAMPO LARGO\", \"QUATA\", \"PALMEIRA\", \"ORIZONTE, PB - BR\", \"LARANJAL DO JARI\", \"AMPARO\", \"SAO FIDELIS\", \"SAO MIGUEL DO PASSA QUATRO\", \"GENEBRA, CE - BR\", \"VENHA-VER\", \"ITACARE\", \"PIQUETE\", \"PARA DE MINAS\", \"CONFRESA\", \"MARACANAU / CE\", \"NOVO ORIENTE DO PIAUI\", \"SAO MIGUEL DO OESTE\", \"SANTA BARBARA DO PARA\", \"POCO FUNDO\", \"MOEDA\", \"SAO PEDRO\", \"PINHEIROS\", \"SAQUAREMA\", \"JARDIM DE ANGICOS\", \"SAO JOSE DO SERIDO\", \"SERGIPE\", \"IPEUNA\", \"JACAREZINHO\", \"MILTON BRANDAO\", \"IBIRUBA\", \"LAGOA SANTA\", \"MAFRA\", \"RIO DOS CEDROS\", \"ITAIPULANDIA\", \"NOVA LONDRINA\", \"CAVALCANTE\", \"IMBE\", \"GOIABEIRA\", \"EUEBIO, CE - BR\", \"IVOTI\", \"ALVINOPOLIS\", \"AMSTERDAM, CE - BR\", \"SAO SEBASTIAO DO PARAISO\", \"MOJU\", \"MATARACA\", \"SAO MANUEL\", \"JAGUARI\", \"GOVERNADOR ARCHER\", \"SERRA BRANCA\"], \"y\": [541919, 27033, 17130, 14545, 9685, 1802, 14085, 5332, 5563, 10555, 3443, 11413, 9534, 13616, 1993, 19054, 1991, 12624, 3981, 5265, 6022, 7592, 29344, 2849, 1793, 35561, 6134, 6043, 56925, 8669, 16347, 45249, 3041, 7179, 11, 7929, 39182, 5515, 3535, 542, 12320, 3696, 1274, 9034, 3421, 317, 2437, 11135, 1432, 8036, 27767, 10635, 4850, 3105, 2362, 9276, 1545, 2277, 4275, 14346, 3529, 14531, 2744, 7085, 3770, 3006, 2480, 775, 11697, 449, 1039, 5144, 3191, 7072, 4278, 9132, 6651, 2746, 6974, 8951, 5752, 4871, 1282, 12367, 2483, 50, 3810, 3139, 2720, 1, 3457, 5030, 6290, 2843, 3145, 2704, 3639, 6, 21, 4814, 950, 4310, 3056, 2169, 3530, 9591, 780, 2092, 4978, 3407, 1496, 2677, 3060, 541, 6443, 3941, 1069, 3166, 4323, 3156, 1456, 2576, 9721, 1319, 1574, 1411, 2411, 1174, 2373, 2303, 827, 5646, 1560, 4175, 3372, 4878, 1396, 2275, 2449, 5813, 2581, 641, 1340, 1104, 1232, 4027, 1315, 1572, 644, 5075, 1957, 4367, 1550, 1353, 1769, 3558, 4, 1866, 1958, 642, 423, 2613, 1844, 1584, 1191, 1601, 988, 13, 1, 1407, 657, 28, 5373, 2551, 1082, 1, 386, 44, 3498, 4057, 1783, 4, 681, 824, 1538, 991, 2230, 3, 118, 68, 3, 563, 1434, 327, 1192, 72, 1584, 2923, 211, 133, 34, 1, 1608, 1734, 80, 450, 9, 150, 28, 88, 261, 1806, 1717, 1319, 1, 10, 278, 3, 555, 5, 385, 22, 27, 27, 1193, 109, 5, 24, 169, 87, 200, 1424, 57, 6, 4, 30, 19, 254, 3, 3, 199, 11, 41, 1, 42, 3, 18, 765, 46, 63, 15, 23, 1014, 9, 9, 8, 97, 81, 375, 2, 4, 2, 1, 97, 5, 1, 148, 4, 90, 48, 81, 1, 68, 19, 5, 3, 18, 46, 25, 77, 5, 158, 36, 1, 1, 59, 3, 26, 4, 12, 82, 2, 19, 3, 1, 4, 1, 10, 52, 6, 4, 37, 79, 96, 11, 4, 6, 38, 23, 84, 44, 13, 3, 9, 4, 63, 202, 25, 2, 15, 19, 23, 9, 2, 75, 9, 99, 3, 35, 4, 3, 2, 11, 117, 38, 15, 7, 4, 7, 21, 4, 1, 2, 23, 4, 4, 1, 3, 1, 23, 9, 70, 6, 2, 2, 33, 10, 11, 14, 36, 10, 14, 2, 14, 19, 6, 16, 2, 2, 76, 4, 17, 2, 13, 6, 27, 1, 92, 19, 2, 23, 20, 58, 1, 62, 26, 15, 14, 1, 4, 13, 26, 4, 1, 2, 2, 6, 20, 9, 28, 1, 1, 3, 8, 3, 33, 1, 14, 9, 15, 1, 9, 20, 3, 107, 3, 9, 13, 3, 12, 5, 2, 50, 4, 11, 117, 2, 22, 3, 5, 5, 15, 8, 3, 27, 9, 1, 2, 32, 3, 13, 3, 2, 8, 5, 1, 3, 10, 5, 2, 3, 5, 9, 1, 8, 2, 9, 35, 3, 2, 3, 10, 14, 3, 61, 1, 1, 3, 3, 7, 21, 6, 3, 2, 2, 1, 11, 10, 2, 5, 20, 2, 2, 1, 67, 1, 13, 6, 9, 2, 35, 3, 1, 2, 3, 13, 4, 67, 13, 45, 2, 1, 10, 2, 6, 22, 4, 5, 2, 6, 2, 19, 1, 1, 6, 22, 3, 1, 9, 1, 12, 1, 1, 4, 11, 9, 31, 1, 5, 2, 2, 7, 3, 12, 5, 4, 2, 15, 1, 26, 20, 7, 3, 33, 6, 7, 4, 1, 3, 1, 25, 3, 1, 4, 3, 9, 18, 7, 1, 1, 1, 18, 3, 1, 1, 2, 12, 7, 1, 10, 1, 18, 6, 2, 6, 4, 9, 9, 5, 22, 3, 4, 11, 18, 2, 3, 1, 1, 3, 1, 8, 20, 7, 12, 5, 3, 4, 1, 3, 34, 3, 21, 13, 1, 1, 1, 2, 3, 2, 2, 4, 1, 3, 12, 11, 4, 3, 7, 1, 3, 5, 6, 7, 4, 3, 4, 2, 28, 8, 3, 2, 14, 1, 3, 17, 3, 15, 1, 4, 1, 1, 2, 1, 1, 2, 1, 5, 1, 2, 9, 3, 1, 1, 35, 3, 9, 3, 5, 1, 7, 3, 1, 3, 2, 8, 2, 11, 8, 5, 1, 12, 7, 4, 7, 1, 2, 17, 7, 8, 2, 5, 5, 8, 4, 43, 32, 1, 5, 4, 2, 1, 7, 6, 1, 15, 2, 20, 4, 15, 1, 1, 1, 1, 5, 7, 1, 16, 5, 6, 1, 5, 48, 8, 2, 12, 15, 17, 4, 3, 2, 12, 2, 7, 2, 3, 13, 13, 1, 22, 2, 4, 10, 2, 3, 4, 4, 1, 2, 1, 2, 30, 1, 1, 1, 4, 1, 8, 6, 2, 3, 32, 2, 3, 7, 1, 1, 21, 8, 11, 8, 5, 1, 2, 1, 1, 10, 1, 3, 2, 13, 1, 1, 1, 4, 2, 1, 3, 1, 10, 2, 1, 2, 3, 5, 2, 2, 4, 3, 3, 1, 3, 1, 22, 8, 12, 1, 2, 3, 2, 3, 1, 8, 1, 4, 9, 6, 2, 1, 3, 12, 4, 7, 5, 22, 1, 1, 7, 7, 1, 4, 2, 2, 9, 2, 3, 3, 4, 13, 4, 5, 18, 4, 2, 22, 1, 8, 1, 1, 7, 10, 8, 1, 2, 1, 2, 3, 2, 4, 11, 7, 1, 3, 1, 1, 4, 9, 3, 1, 5, 4, 1, 2, 2, 1, 7, 5, 1, 2, 4, 2, 6, 5, 1, 2, 18, 12, 1, 3, 3, 1, 4, 3, 4, 2, 4, 3, 10, 16, 14, 1, 1, 4, 3, 2, 3, 3, 3, 1, 2, 2, 1, 2, 3, 3, 1, 5, 6, 5, 1, 3, 1, 4, 4, 7, 2, 8, 5, 2, 3, 5, 6, 1, 3, 2, 2, 4, 1, 11, 1, 3, 5, 5, 1, 1, 8, 3, 4, 4, 1, 2, 3, 5, 2, 1, 1, 1, 9, 1, 11, 1, 3, 3, 1, 3, 2, 5, 1, 2, 14, 2, 2, 1, 3, 2, 4, 8, 7, 1, 2, 8, 2, 2, 2, 1, 1, 3, 2, 1, 1, 2, 2, 1, 1, 2, 2, 2, 2, 4, 9, 1, 2, 2, 9, 1, 1, 2, 14, 6, 1, 2, 1, 4, 2, 1, 2, 2, 8, 3, 1, 1, 1, 10, 1, 9, 2, 5, 4, 1, 3, 1, 4, 2, 8, 1, 2, 1, 4, 3, 3, 1, 4, 4, 5, 10, 2, 2, 5, 1, 9, 8, 3, 1, 4, 1, 3, 2, 1, 10, 10, 2, 6, 1, 1, 5, 2, 2, 2, 1, 2, 1, 2, 1, 19, 7, 3, 6, 11, 1, 8, 1, 2, 5, 2, 5, 3, 2, 3, 3, 1, 3, 3, 2, 2, 1, 2, 3, 2, 3, 2, 5, 1, 2, 2, 1, 4, 1, 2, 9, 3, 6, 1, 3, 2, 1, 1, 7, 3, 1, 5, 1, 1, 2, 5, 3, 2, 1, 2, 2, 11, 2, 4, 1, 2, 3, 2, 2, 4, 1, 7, 4, 2, 1, 1, 4, 1, 1, 2, 1, 7, 2, 1, 1, 5, 9, 4, 1, 2, 1, 3, 1, 1, 3, 7, 1, 14, 1, 2, 1, 1, 4, 1, 2, 2, 8, 1, 2, 1, 1, 2, 3, 1, 1, 2, 2, 9, 1, 4, 2, 1, 2, 2, 2, 9, 5, 2, 1, 1, 3, 2, 1, 2, 1, 9, 2, 1, 1, 1, 2, 3, 1, 1, 5, 1, 2, 1, 3, 2, 3, 4, 7, 2, 2, 1, 1, 1, 2, 1, 1, 3, 1, 3, 3, 1, 1, 1, 11, 1, 4, 2, 6, 1, 2, 1, 1, 3, 3, 4, 2, 1, 2, 2, 1, 1, 2, 3, 10, 2, 5, 1, 4, 1, 2, 1, 1, 1, 1, 3, 5, 1, 2, 1, 5, 6, 2, 2, 3, 1, 1, 4, 1, 2, 1, 1, 1, 2, 1, 2, 1, 9, 1, 2, 9, 2, 3, 3, 4, 1, 3, 2, 1, 1, 1, 1, 2, 6, 5, 4, 2, 4, 2, 2, 1, 1, 2, 2, 1, 2, 2, 1, 1, 1, 5, 2, 2, 1, 1, 1, 1, 2, 2, 1, 3, 2, 1, 2, 2, 1, 2, 1, 1, 4, 2, 1, 3, 2, 2, 1, 6, 2, 1, 4, 1, 1, 1, 2, 1, 1, 1, 1, 1, 1, 1, 2, 1, 2, 2, 1, 1, 9, 1, 2, 1, 2, 1, 2, 9, 5, 1, 3, 2, 2, 4, 4, 1, 1, 1, 2, 1, 1, 1, 2, 1, 1, 3, 1, 1, 3, 1, 4, 2, 1, 3, 4, 4, 1, 1, 1, 1, 1, 1, 3, 3, 2, 1, 1, 3, 2, 3, 1, 1, 2, 3, 1, 1, 1, 1, 5, 1, 1, 1, 1, 1, 3, 2, 1, 1, 1, 1, 2, 1, 1, 1, 5, 4, 3, 2, 1, 1, 1, 1, 2, 1, 2, 4, 4, 1, 1, 1, 1, 1, 1, 2, 1, 2, 5, 1, 2, 4, 2, 2, 5, 2, 3, 2, 1, 1, 1, 2, 1, 1, 1, 3, 1, 1, 12, 4, 1, 2, 5, 1, 1, 1, 2, 1, 1, 1, 4, 1, 3, 1, 2, 2, 1, 1, 2, 2, 1, 2, 2, 2, 1, 1, 2, 6, 1, 1, 1, 1, 1, 1, 1, 2, 2, 1, 2, 3, 1, 1, 2, 3, 1, 3, 2, 1, 1, 1, 1, 3, 1, 1, 1, 1, 3, 3, 2, 1, 8, 3, 3, 1, 1, 1, 2, 3, 1, 2, 2, 2, 1, 1, 1, 1, 1, 7, 3, 3, 2, 1, 1, 2, 1, 5, 1, 2, 1, 1, 3, 1, 2, 3, 2, 1, 1, 1, 3, 1, 2, 1, 1, 1, 2, 1, 2, 4, 1, 1, 1, 1, 1, 1, 1, 1, 2, 1, 2, 2, 2, 1, 1, 1, 2, 1, 1, 2, 1, 4, 1, 1, 1, 1, 3, 1, 1, 1, 2, 1, 1, 2, 1, 1, 1, 1, 1, 2, 2, 1, 1, 1, 4, 1, 2, 4, 1, 1, 1, 2, 2, 1, 1, 1, 2, 1, 2, 2, 1, 1, 1, 1, 1, 1, 1, 4, 1, 1, 1, 1, 1, 2, 3, 1, 1, 4, 1, 1, 2, 1, 1, 1, 1, 1, 2, 1, 1, 4, 1, 1, 4, 2, 1, 4, 1, 1, 1, 2, 1, 3, 2, 4, 2, 1, 1, 1, 1, 1, 1, 2, 1, 1, 1, 1, 2, 1, 2, 1, 1, 1, 1, 1, 2, 1, 1, 2, 1, 2, 1, 1, 1, 2, 1, 1, 2, 1, 2, 2, 1, 1, 3, 1, 1, 1, 2, 3, 1, 1, 3, 1, 1, 1, 1, 1, 1, 2, 3, 1, 1, 1, 1, 1, 1, 1, 1, 2, 3, 1, 1, 1, 1, 1, 2, 1, 1, 1, 2, 1, 1, 1, 2, 1, 1, 2, 1, 1, 1, 1, 2, 1, 1, 1, 1, 2, 1, 1, 1, 1, 1, 3, 1, 1, 1, 1, 1, 1, 2, 1, 1, 1, 1, 2, 2, 1, 2, 1, 2, 1, 1, 1, 1, 2, 1, 2, 2, 2, 1, 1, 1, 3, 1, 1, 1, 1, 1, 1, 2, 1, 2, 1, 1, 1, 1, 1, 1, 1, 1, 1, 1, 1, 1, 1, 1, 1, 1, 1, 1, 1, 1, 1, 2, 1, 1, 4, 1, 1, 1, 2, 1, 3, 1, 1, 1, 1, 1, 3, 1, 1, 1, 1, 1, 1, 2, 1, 1, 1, 1, 1, 2, 2, 1, 1, 1, 2, 1, 1, 1, 1, 1, 2, 1, 2, 1, 1, 1, 1, 1, 1, 1, 1, 1, 1, 1, 2, 1, 1, 1, 1, 1, 1, 1, 1, 3, 1, 1, 1, 1, 2, 1, 1, 1, 1, 1, 1, 1, 1, 1, 1, 1, 1, 1, 1, 1, 2, 1, 1, 1, 2, 1, 1, 1, 2, 1, 1, 1, 2, 1, 1, 1, 1, 1, 1, 1, 1, 2, 2, 1, 1, 1, 1, 1, 3, 2, 1, 1, 1, 1, 1, 1, 1, 1, 1, 2, 2, 1, 1, 1, 1, 1, 2, 1, 1, 1, 1, 1, 1, 1, 1, 1, 1, 1, 1, 1, 1, 1, 1, 1, 1, 1, 1, 1, 1, 1, 1, 1, 1, 1, 1, 1, 2, 1, 1, 1, 1, 1, 1, 1, 1, 1, 1, 1, 1, 1, 1, 1, 1, 1, 1, 1, 1, 1, 1, 1, 1, 1, 1, 1, 1, 1, 1, 1, 1, 1, 1, 1, 1, 1, 1, 1, 1, 1, 1, 1, 1, 1, 1, 1, 1, 1, 1, 1, 1, 1, 1, 1, 1]}],\n",
              "                        {\"template\": {\"data\": {\"bar\": [{\"error_x\": {\"color\": \"#2a3f5f\"}, \"error_y\": {\"color\": \"#2a3f5f\"}, \"marker\": {\"line\": {\"color\": \"#E5ECF6\", \"width\": 0.5}}, \"type\": \"bar\"}], \"barpolar\": [{\"marker\": {\"line\": {\"color\": \"#E5ECF6\", \"width\": 0.5}}, \"type\": \"barpolar\"}], \"carpet\": [{\"aaxis\": {\"endlinecolor\": \"#2a3f5f\", \"gridcolor\": \"white\", \"linecolor\": \"white\", \"minorgridcolor\": \"white\", \"startlinecolor\": \"#2a3f5f\"}, \"baxis\": {\"endlinecolor\": \"#2a3f5f\", \"gridcolor\": \"white\", \"linecolor\": \"white\", \"minorgridcolor\": \"white\", \"startlinecolor\": \"#2a3f5f\"}, \"type\": \"carpet\"}], \"choropleth\": [{\"colorbar\": {\"outlinewidth\": 0, \"ticks\": \"\"}, \"type\": \"choropleth\"}], \"contour\": [{\"colorbar\": {\"outlinewidth\": 0, \"ticks\": \"\"}, \"colorscale\": [[0.0, \"#0d0887\"], [0.1111111111111111, \"#46039f\"], [0.2222222222222222, \"#7201a8\"], [0.3333333333333333, \"#9c179e\"], [0.4444444444444444, \"#bd3786\"], [0.5555555555555556, \"#d8576b\"], [0.6666666666666666, \"#ed7953\"], [0.7777777777777778, \"#fb9f3a\"], [0.8888888888888888, \"#fdca26\"], [1.0, \"#f0f921\"]], \"type\": \"contour\"}], \"contourcarpet\": [{\"colorbar\": {\"outlinewidth\": 0, \"ticks\": \"\"}, \"type\": \"contourcarpet\"}], \"heatmap\": [{\"colorbar\": {\"outlinewidth\": 0, \"ticks\": \"\"}, \"colorscale\": [[0.0, \"#0d0887\"], [0.1111111111111111, \"#46039f\"], [0.2222222222222222, \"#7201a8\"], [0.3333333333333333, \"#9c179e\"], [0.4444444444444444, \"#bd3786\"], [0.5555555555555556, \"#d8576b\"], [0.6666666666666666, \"#ed7953\"], [0.7777777777777778, \"#fb9f3a\"], [0.8888888888888888, \"#fdca26\"], [1.0, \"#f0f921\"]], \"type\": \"heatmap\"}], \"heatmapgl\": [{\"colorbar\": {\"outlinewidth\": 0, \"ticks\": \"\"}, \"colorscale\": [[0.0, \"#0d0887\"], [0.1111111111111111, \"#46039f\"], [0.2222222222222222, \"#7201a8\"], [0.3333333333333333, \"#9c179e\"], [0.4444444444444444, \"#bd3786\"], [0.5555555555555556, \"#d8576b\"], [0.6666666666666666, \"#ed7953\"], [0.7777777777777778, \"#fb9f3a\"], [0.8888888888888888, \"#fdca26\"], [1.0, \"#f0f921\"]], \"type\": \"heatmapgl\"}], \"histogram\": [{\"marker\": {\"colorbar\": {\"outlinewidth\": 0, \"ticks\": \"\"}}, \"type\": \"histogram\"}], \"histogram2d\": [{\"colorbar\": {\"outlinewidth\": 0, \"ticks\": \"\"}, \"colorscale\": [[0.0, \"#0d0887\"], [0.1111111111111111, \"#46039f\"], [0.2222222222222222, \"#7201a8\"], [0.3333333333333333, \"#9c179e\"], [0.4444444444444444, \"#bd3786\"], [0.5555555555555556, \"#d8576b\"], [0.6666666666666666, \"#ed7953\"], [0.7777777777777778, \"#fb9f3a\"], [0.8888888888888888, \"#fdca26\"], [1.0, \"#f0f921\"]], \"type\": \"histogram2d\"}], \"histogram2dcontour\": [{\"colorbar\": {\"outlinewidth\": 0, \"ticks\": \"\"}, \"colorscale\": [[0.0, \"#0d0887\"], [0.1111111111111111, \"#46039f\"], [0.2222222222222222, \"#7201a8\"], [0.3333333333333333, \"#9c179e\"], [0.4444444444444444, \"#bd3786\"], [0.5555555555555556, \"#d8576b\"], [0.6666666666666666, \"#ed7953\"], [0.7777777777777778, \"#fb9f3a\"], [0.8888888888888888, \"#fdca26\"], [1.0, \"#f0f921\"]], \"type\": \"histogram2dcontour\"}], \"mesh3d\": [{\"colorbar\": {\"outlinewidth\": 0, \"ticks\": \"\"}, \"type\": \"mesh3d\"}], \"parcoords\": [{\"line\": {\"colorbar\": {\"outlinewidth\": 0, \"ticks\": \"\"}}, \"type\": \"parcoords\"}], \"pie\": [{\"automargin\": true, \"type\": \"pie\"}], \"scatter\": [{\"marker\": {\"colorbar\": {\"outlinewidth\": 0, \"ticks\": \"\"}}, \"type\": \"scatter\"}], \"scatter3d\": [{\"line\": {\"colorbar\": {\"outlinewidth\": 0, \"ticks\": \"\"}}, \"marker\": {\"colorbar\": {\"outlinewidth\": 0, \"ticks\": \"\"}}, \"type\": \"scatter3d\"}], \"scattercarpet\": [{\"marker\": {\"colorbar\": {\"outlinewidth\": 0, \"ticks\": \"\"}}, \"type\": \"scattercarpet\"}], \"scattergeo\": [{\"marker\": {\"colorbar\": {\"outlinewidth\": 0, \"ticks\": \"\"}}, \"type\": \"scattergeo\"}], \"scattergl\": [{\"marker\": {\"colorbar\": {\"outlinewidth\": 0, \"ticks\": \"\"}}, \"type\": \"scattergl\"}], \"scattermapbox\": [{\"marker\": {\"colorbar\": {\"outlinewidth\": 0, \"ticks\": \"\"}}, \"type\": \"scattermapbox\"}], \"scatterpolar\": [{\"marker\": {\"colorbar\": {\"outlinewidth\": 0, \"ticks\": \"\"}}, \"type\": \"scatterpolar\"}], \"scatterpolargl\": [{\"marker\": {\"colorbar\": {\"outlinewidth\": 0, \"ticks\": \"\"}}, \"type\": \"scatterpolargl\"}], \"scatterternary\": [{\"marker\": {\"colorbar\": {\"outlinewidth\": 0, \"ticks\": \"\"}}, \"type\": \"scatterternary\"}], \"surface\": [{\"colorbar\": {\"outlinewidth\": 0, \"ticks\": \"\"}, \"colorscale\": [[0.0, \"#0d0887\"], [0.1111111111111111, \"#46039f\"], [0.2222222222222222, \"#7201a8\"], [0.3333333333333333, \"#9c179e\"], [0.4444444444444444, \"#bd3786\"], [0.5555555555555556, \"#d8576b\"], [0.6666666666666666, \"#ed7953\"], [0.7777777777777778, \"#fb9f3a\"], [0.8888888888888888, \"#fdca26\"], [1.0, \"#f0f921\"]], \"type\": \"surface\"}], \"table\": [{\"cells\": {\"fill\": {\"color\": \"#EBF0F8\"}, \"line\": {\"color\": \"white\"}}, \"header\": {\"fill\": {\"color\": \"#C8D4E3\"}, \"line\": {\"color\": \"white\"}}, \"type\": \"table\"}]}, \"layout\": {\"annotationdefaults\": {\"arrowcolor\": \"#2a3f5f\", \"arrowhead\": 0, \"arrowwidth\": 1}, \"coloraxis\": {\"colorbar\": {\"outlinewidth\": 0, \"ticks\": \"\"}}, \"colorscale\": {\"diverging\": [[0, \"#8e0152\"], [0.1, \"#c51b7d\"], [0.2, \"#de77ae\"], [0.3, \"#f1b6da\"], [0.4, \"#fde0ef\"], [0.5, \"#f7f7f7\"], [0.6, \"#e6f5d0\"], [0.7, \"#b8e186\"], [0.8, \"#7fbc41\"], [0.9, \"#4d9221\"], [1, \"#276419\"]], \"sequential\": [[0.0, \"#0d0887\"], [0.1111111111111111, \"#46039f\"], [0.2222222222222222, \"#7201a8\"], [0.3333333333333333, \"#9c179e\"], [0.4444444444444444, \"#bd3786\"], [0.5555555555555556, \"#d8576b\"], [0.6666666666666666, \"#ed7953\"], [0.7777777777777778, \"#fb9f3a\"], [0.8888888888888888, \"#fdca26\"], [1.0, \"#f0f921\"]], \"sequentialminus\": [[0.0, \"#0d0887\"], [0.1111111111111111, \"#46039f\"], [0.2222222222222222, \"#7201a8\"], [0.3333333333333333, \"#9c179e\"], [0.4444444444444444, \"#bd3786\"], [0.5555555555555556, \"#d8576b\"], [0.6666666666666666, \"#ed7953\"], [0.7777777777777778, \"#fb9f3a\"], [0.8888888888888888, \"#fdca26\"], [1.0, \"#f0f921\"]]}, \"colorway\": [\"#636efa\", \"#EF553B\", \"#00cc96\", \"#ab63fa\", \"#FFA15A\", \"#19d3f3\", \"#FF6692\", \"#B6E880\", \"#FF97FF\", \"#FECB52\"], \"font\": {\"color\": \"#2a3f5f\"}, \"geo\": {\"bgcolor\": \"white\", \"lakecolor\": \"white\", \"landcolor\": \"#E5ECF6\", \"showlakes\": true, \"showland\": true, \"subunitcolor\": \"white\"}, \"hoverlabel\": {\"align\": \"left\"}, \"hovermode\": \"closest\", \"mapbox\": {\"style\": \"light\"}, \"paper_bgcolor\": \"white\", \"plot_bgcolor\": \"#E5ECF6\", \"polar\": {\"angularaxis\": {\"gridcolor\": \"white\", \"linecolor\": \"white\", \"ticks\": \"\"}, \"bgcolor\": \"#E5ECF6\", \"radialaxis\": {\"gridcolor\": \"white\", \"linecolor\": \"white\", \"ticks\": \"\"}}, \"scene\": {\"xaxis\": {\"backgroundcolor\": \"#E5ECF6\", \"gridcolor\": \"white\", \"gridwidth\": 2, \"linecolor\": \"white\", \"showbackground\": true, \"ticks\": \"\", \"zerolinecolor\": \"white\"}, \"yaxis\": {\"backgroundcolor\": \"#E5ECF6\", \"gridcolor\": \"white\", \"gridwidth\": 2, \"linecolor\": \"white\", \"showbackground\": true, \"ticks\": \"\", \"zerolinecolor\": \"white\"}, \"zaxis\": {\"backgroundcolor\": \"#E5ECF6\", \"gridcolor\": \"white\", \"gridwidth\": 2, \"linecolor\": \"white\", \"showbackground\": true, \"ticks\": \"\", \"zerolinecolor\": \"white\"}}, \"shapedefaults\": {\"line\": {\"color\": \"#2a3f5f\"}}, \"ternary\": {\"aaxis\": {\"gridcolor\": \"white\", \"linecolor\": \"white\", \"ticks\": \"\"}, \"baxis\": {\"gridcolor\": \"white\", \"linecolor\": \"white\", \"ticks\": \"\"}, \"bgcolor\": \"#E5ECF6\", \"caxis\": {\"gridcolor\": \"white\", \"linecolor\": \"white\", \"ticks\": \"\"}}, \"title\": {\"x\": 0.05}, \"xaxis\": {\"automargin\": true, \"gridcolor\": \"white\", \"linecolor\": \"white\", \"ticks\": \"\", \"title\": {\"standoff\": 15}, \"zerolinecolor\": \"white\", \"zerolinewidth\": 2}, \"yaxis\": {\"automargin\": true, \"gridcolor\": \"white\", \"linecolor\": \"white\", \"ticks\": \"\", \"title\": {\"standoff\": 15}, \"zerolinecolor\": \"white\", \"zerolinewidth\": 2}}}, \"title\": {\"text\": \"Total de casos confiramdos distribui\\u00eddos por ra\\u00e7a do paciente no estado do Cear\\u00e1\"}, \"xaxis\": {\"tickangle\": 90, \"tickfont\": {\"size\": 14}, \"title\": {\"font\": {\"size\": 16}, \"text\": \"Munic\\u00edpio\"}}, \"yaxis\": {\"tickfont\": {\"size\": 14}, \"title\": {\"font\": {\"size\": 16}, \"text\": \"N\\u00famero de casos confirmados\"}}},\n",
              "                        {\"responsive\": true}\n",
              "                    ).then(function(){\n",
              "                            \n",
              "var gd = document.getElementById('3de9d688-7180-45fb-abb4-6b48b3421edc');\n",
              "var x = new MutationObserver(function (mutations, observer) {{\n",
              "        var display = window.getComputedStyle(gd).display;\n",
              "        if (!display || display === 'none') {{\n",
              "            console.log([gd, 'removed!']);\n",
              "            Plotly.purge(gd);\n",
              "            observer.disconnect();\n",
              "        }}\n",
              "}});\n",
              "\n",
              "// Listen for the removal of the full notebook cells\n",
              "var notebookContainer = gd.closest('#notebook-container');\n",
              "if (notebookContainer) {{\n",
              "    x.observe(notebookContainer, {childList: true});\n",
              "}}\n",
              "\n",
              "// Listen for the clearing of the current output cell\n",
              "var outputEl = gd.closest('.output');\n",
              "if (outputEl) {{\n",
              "    x.observe(outputEl, {childList: true});\n",
              "}}\n",
              "\n",
              "                        })\n",
              "                };\n",
              "                \n",
              "            </script>\n",
              "        </div>\n",
              "</body>\n",
              "</html>"
            ]
          },
          "metadata": {
            "tags": []
          }
        }
      ]
    },
    {
      "cell_type": "code",
      "metadata": {
        "id": "gGA_WPktr--U",
        "colab": {
          "base_uri": "https://localhost:8080/",
          "height": 542
        },
        "outputId": "6f15c422-a596-4805-917e-95c7933cd1fd"
      },
      "source": [
        "import plotly.express as px\r\n",
        "\r\n",
        "\r\n",
        "fig = px.bar(df_grafico_confirmados_municipio, x= df_grafico_confirmados_municipio['municipioCaso'], y= df_grafico_confirmados_municipio['total_caso_municipio'])\r\n",
        "fig.show()"
      ],
      "execution_count": 75,
      "outputs": [
        {
          "output_type": "display_data",
          "data": {
            "text/html": [
              "<html>\n",
              "<head><meta charset=\"utf-8\" /></head>\n",
              "<body>\n",
              "    <div>\n",
              "            <script src=\"https://cdnjs.cloudflare.com/ajax/libs/mathjax/2.7.5/MathJax.js?config=TeX-AMS-MML_SVG\"></script><script type=\"text/javascript\">if (window.MathJax) {MathJax.Hub.Config({SVG: {font: \"STIX-Web\"}});}</script>\n",
              "                <script type=\"text/javascript\">window.PlotlyConfig = {MathJaxConfig: 'local'};</script>\n",
              "        <script src=\"https://cdn.plot.ly/plotly-latest.min.js\"></script>    \n",
              "            <div id=\"4663d81a-c075-4372-8f31-efa6eb426350\" class=\"plotly-graph-div\" style=\"height:525px; width:100%;\"></div>\n",
              "            <script type=\"text/javascript\">\n",
              "                \n",
              "                    window.PLOTLYENV=window.PLOTLYENV || {};\n",
              "                    \n",
              "                if (document.getElementById(\"4663d81a-c075-4372-8f31-efa6eb426350\")) {\n",
              "                    Plotly.newPlot(\n",
              "                        '4663d81a-c075-4372-8f31-efa6eb426350',\n",
              "                        [{\"alignmentgroup\": \"True\", \"hoverlabel\": {\"namelength\": 0}, \"hovertemplate\": \"municipioCaso=%{x}<br>total_caso_municipio=%{y}\", \"legendgroup\": \"\", \"marker\": {\"color\": \"#636efa\"}, \"name\": \"\", \"offsetgroup\": \"\", \"orientation\": \"v\", \"showlegend\": false, \"textposition\": \"auto\", \"type\": \"bar\", \"x\": [\"FORTALEZA\", \"IGUATU\", \"MARANGUAPE\", \"ICO\", \"MORADA NOVA\", \"PIRES FERREIRA\", \"HORIZONTE\", \"ITAITINGA\", \"BEBERIBE\", \"REDENCAO\", \"FARIAS BRITO\", \"CASCAVEL\", \"ITAPIPOCA\", \"RUSSAS\", \"JARDIM\", \"BREJO SANTO\", \"IBICUITINGA\", \"TIANGUA\", \"ACARAPE\", \"CRUZ\", \"IPUEIRAS\", \"SANTA QUITERIA\", \"CAUCAIA\", \"SENADOR POMPEU\", \"PACOTI\", \"MARACANAU\", \"VICOSA DO CEARA\", \"BOA VIAGEM\", \"JUAZEIRO DO NORTE\", \"ACARAU\", \"EUSEBIO\", \"SOBRAL\", \"SANTANA DO ACARAU\", \"HIDROLANDIA\", \"SANTA LUZIA\", \"LAVRAS DA MANGABEIRA\", \"CRATO\", \"BELA CRUZ\", \"IRACEMA\", \"GENERAL SAMPAIO\", \"BARBALHA\", \"ARACOIABA\", \"SAO LU\\u00cdS DO CURU\", \"PACATUBA\", \"ICAPUI\", \"MANAUS\", \"CAPISTRANO\", \"ARACATI\", \"FORQUILHA\", \"AQUIRAZ\", \"CRATEUS\", \"SAO GONCALO DO AMARANTE\", \"JIJOCA DE JERICOACOARA\", \"FRECHEIRINHA\", \"CARIRIACU\", \"CEDRO\", \"CARNAUBAL\", \"MERUOCA\", \"SAO BENEDITO\", \"QUIXADA\", \"AMONTADA\", \"CAMOCIM\", \"IBIAPINA\", \"GRANJA\", \"MISSAO VELHA\", \"RERIUTABA\", \"URUOCA\", \"SAO JOAO DO JAGUARIBE\", \"TAUA\", \"TERESINA\", \"BAIXIO\", \"ACOPIARA\", \"PENTECOSTE\", \"MOMBACA\", \"COREAU\", \"LIMOEIRO DO NORTE\", \"TABULEIRO DO NORTE\", \"ARARIPE\", \"ITAREMA\", \"CANINDE\", \"TAMBORIL\", \"JAGUARUANA\", \"MORRINHOS\", \"QUIXERAMOBIM\", \"MADALENA\", \"PORTUGAL, CE - BR\", \"BATURIT\\u00c9\", \"ITAPAJE\", \"BANABUIU\", \"TRES FRONTEIRAS\", \"MASSAPE\", \"CAMPOS SALES\", \"OROS\", \"IPAPORANGA\", \"PEREIRO\", \"TRAIRI\", \"PARACURU\", \"SANTA QUITERIA DO MARANHAO\", \"SERRA\", \"JAGUARETAMA\", \"MULUNGU\", \"CARIUS\", \"BARRO\", \"SAO PAULO\", \"INDEPENDENCIA\", \"PACAJUS\", \"BRASILIA\", \"OCARA\", \"VARZEA ALEGRE\", \"GUARACIABA DO NORTE\", \"MARTINOPOLE\", \"PINDORETAMA\", \"GROAIRAS\", \"SENADOR SA\", \"MAURITI\", \"VARJOTA\", \"GRANJEIRO\", \"ALTO SANTO\", \"MONSENHOR TABOSA\", \"ITATIRA\", \"MORAUJO\", \"CATUNDA\", \"IPU\", \"BARREIRA\", \"CATARINA\", \"FORTIM\", \"GUARAMIRANGA\", \"UMARI\", \"SANTANA DO CARIRI\", \"ALCANTARAS\", \"CHOR\\u00d3\", \"ASSARE\", \"MARCO\", \"MILAGRES\", \"AURORA\", \"QUIXELO\", \"PEDRA BRANCA\", \"DEPUTADO IRAPUAN PINHEIRO\", \"URUBURETAMA\", \"PIQUET CARNEIRO\", \"JAGUARIBARA\", \"SAO LUIS\", \"QUITERIANOPOLIS\", \"ARATUBA\", \"UMIRIM\", \"UBAJARA\", \"MILHA\", \"ARARENDA\", \"IBARETAMA\", \"PORTEIRAS\", \"PARAMBU\", \"QUIXERE\", \"PORANGA\", \"ERERE\", \"CROATA\", \"PARAIPABA\", \"SAO PEDRO DA ALDEIA\", \"IPAUMIRIM\", \"SABOEIRO\", \"AIUABA\", \"RECIFE\", \"NOVO ORIENTE\", \"TEJUCUOCA\", \"MUCAMBO\", \"ITAICABA\", \"NOVA OLINDA\", \"ABAIARA\", \"MESSIAS\", \"CONFINS\", \"ALTANEIRA\", \"POTIRETAMA\", \"CAICO\", \"JAGUARIBE\", \"BARROQUINHA\", \"NATAL\", \"ELOI MENDES\", \"CAJAZEIRAS\", \"SERRA TALHADA\", \"CARIRE\", \"NOVA RUSSAS\", \"GUAI\\u00daBA\", \"CACIMBA DE DENTRO\", \"IRAUCUBA\", \"JATI\", \"PALMACIA\", \"RIO DE JANEIRO\", \"ITAPIUNA\", \"TRIZIDELA DO VALE\", \"CURITIBA\", \"SAO PAULO, SP - BR\", \"01, CE - BR\", \"PACUJA\", \"SOLONOPOLE\", \"SALVADOR\", \"PALHANO\", \"FORTALEZA-CE\", \"SALITRE\", \"CHOROZINHO\", \"DIADEMA\", \"SAO GONCALO\", \"SAO CAETANO DO SUL\", \"PORTO FRANCO\", \"GRACA\", \"TURURU\", \"OSASCO\", \"TARRAFAS\", \"SAO LEOPOLDO\", \"GUARULHOS\", \"GUARUJA\", \"CAMPO GRANDE\", \"JOAO PESSOA\", \"JUCAS\", \"CHAVAL\", \"MIRAIMA\", \"VASSOURAS\", \"FRANCISCO MORATO\", \"BELEM\", \"ALMINO AFONSO\", \"PENAFORTE\", \"CACERES\", \"ANTONINA DO NORTE\", \"MARABA\", \"PRAIA GRANDE\", \"GARANHUNS\", \"POTENGI\", \"MACEIO\", \"CAMETA\", \"SAO JOAO DO RIO DO PEIXE\", \"PARNAIBA\", \"SALGUEIRO\", \"ARARIPINA\", \"CARIDADE\", \"SOROCABA\", \"BATATAIS\", \"PERITORO\", \"EUZEBIO, CE - BR\", \"FORT, CE - BR\", \"ARNEIROZ\", \"SANTO AMARO DAS BROTAS\", \"RIO DO SUL\", \"BELO HORIZONTE\", \"MONTES CLAROS\", \"TABOAO DA SERRA\", \"IGUAPE\", \"OLINDA\", \"RONDONOPOLIS\", \"PARAUAPEBAS\", \"PARAMOTI\", \"FEIRA DE SANTANA\", \"UIRAUNA\", \"TIMON\", \"ITAJAI\", \"APUIARES\", \"NOSSA SENHORA DO SOCORRO\", \"PIMENTEIRAS\", \"IMACULADA\", \"PECEM\", \"CAMPINA GRANDE\", \"MOSSORO\", \"GURJAO\", \"TOBIAS BARRETO\", \"MARI\", \"GRAVATA\", \"BOA VISTA\", \"PINHAIS\", \"NANUQUE\", \"IMPERATRIZ\", \"SARZEDO\", \"JABOATAO DOS GUARARAPES\", \"RIBEIRAO PRETO\", \"MACAPA\", \"ORTALEZA, CE - BR\", \"CRUZEIRO DA FORTALEZA\", \"COCAL\", \"BOM JARDIM\", \"CATALAO\", \"VILA VELHA\", \"CONCEICAO\", \"EMBU DAS ARTES\", \"PICOS\", \"GOIANIRA\", \"PARNAMIRIM\", \"DUQUE DE CAXIAS\", \"APERIBE\", \"SAO JOAO NEPOMUCENO\", \"GOIANIA\", \"IBIRITE\", \"PELOTAS\", \"TANGARA DA SERRA\", \"ALAGOINHAS\", \"EXU\", \"BELEM DE SAO FRANCISCO\", \"TRINDADE\", \"PAULISTANA\", \"BARRA DO TURVO\", \"GURUPI\", \"ARACAGI\", \"DOUTOR SEVERIANO\", \"ANANINDEUA\", \"ILHEUS\", \"SANTA MARIA DO PARA\", \"SAO FRANCISCO DO CONDE\", \"RIO BRANCO\", \"SERRITA\", \"AMERICANA\", \"TUCURUI\", \"SAO LUIZ\", \"FLORIANOPOLIS\", \"VOLTA REDONDA\", \"CANDEIAS\", \"MARCOLANDIA\", \"ABREU E LIMA\", \"DOM ELISEU\", \"CANELA\", \"AFONSO BEZERRA\", \"PETROLINA\", \"SAO BERNARDO DO CAMPO\", \"SANTAREM\", \"ITUPEVA\", \"RIO CLARO\", \"TRIUNFO\", \"LEME\", \"TERESOPOLIS\", \"SAO BENEDITO DO RIO PRETO\", \"OURICURI\", \"MACAIBA\", \"CAMPINAS\", \"CONSELHEIRO LAFAIETE\", \"BARAUNA\", \"SAPE\", \"POJUCA\", \"JUATUBA\", \"FERRAZ DE VASCONCELOS\", \"PORTO ALEGRE\", \"PATOS\", \"NILOPOLIS\", \"FRANCISCO BELTRAO\", \"MESSEJANA\", \"TAILANDIA\", \"COTIA\", \"MONTENEGRO\", \"NORDESTINA\", \"SIRINHAEM\", \"MARINGA\", \"ITAPEMIRIM\", \"BATALHA\", \"EXTREMA\", \"FRANCISCO DANTAS\", \"CARBONITA\", \"VITORIA\", \"PEDRO II\", \"SOUSA\", \"-\", \"BAIA FORMOSA\", \"RIACHAO DO BACAMARTE\", \"SAO MIGUEL\", \"RAFAEL FERNANDES\", \"MACAE\", \"VARZEA GRANDE\", \"BRASILIA, DF - BR\", \"FRANCO DA ROCHA\", \"SAO JOSE DO RIO PRETO\", \"JURIPIRANGA\", \"ITAPEVI\", \"SANTA HELENA\", \"LINHARES\", \"CAUCAIA-CE\", \"FORTALEZAA, CE - BR\", \"FORALEZA', CE - BR\", \"SANTO ANDRE\", \"BREJO DOS SANTOS\", \"MARICA\", \"EQUADOR\", \"IPUBI\", \"NOVA SERRANA\", \"ACU\", \"PALMAS DE MONTE ALTO\", \"PORTO VELHO\", \"CAMACARI\", \"QUATIS\", \"SAO JOSE DE RIBAMAR\", \"CABO DE SANTO AGOSTINHO\", \"BARUERI\", \"SANTANA DO ARAGUAIA\", \"SAO JOSE DO BELMONTE\", \"GROSSOS\", \"FRONTEIRAS\", \"JACAREI\", \"SANTO ANTONIO DO RETIRO\", \"CORONEL JOAO PESSOA\", \"CUBATAO\", \"APODI\", \"UNIAO\", \"TEREZINA\", \"ARACATI, SP - BR\", \"MARITUBA\", \"PAULO AFONSO\", \"CAXIAS DO SUL\", \"ITAPETINGA\", \"RIO PRETO DA EVA\", \"DAMIAO\", \"CANABRAVA DO NORTE\", \"SOCORRO DO PIAUI\", \"FORTALEZA, SP - BR\", \"ITAMARAJU\", \"UBERLANDIA\", \"NOVA IORQUE\", \"VERDEJANTE\", \"SANTANA\", \"BLUMENAU\", \"WENCESLAU GUIMARAES\", \"FORTALEZA DE MINAS\", \"SUMARE\", \"TUFILANDIA\", \"ARACAJU\", \"SANTANA DO PARAISO\", \"BRAGANCA\", \"EXTREMOZ\", \"SEVERIANO MELO\", \"IPATINGA\", \"MIRANDIBA\", \"CORIBE\", \"0\", \"TENENTE ANANIAS\", \"CURRAIS NOVOS\", \", CE - BR\", \"ESCADA\", \"PAULISTA\", \"SANTO ANTONIO\", \"ICARAIMA\", \"INDAIAL\", \"PETROPOLIS\", \"OURO BRANCO\", \"ALEMANHA, CE - BR\", \"JOINVILLE\", \"SAO LUIZ DO CURU\", \"PARAIBA DO SUL\", \"FRONTEIRA\", \"AREIA BRANCA\", \"DOMINGOS MOURAO\", \"ITABUNA\", \"JAICOS\", \"SAO GABRIEL\", \"PECEM (SAO GONCALO DO AMARANTE), CE - BR\", \"MOJI MIRIM\", \"DUQUI DE CAXIAS\", \"AFOGADOS DA INGAZEIRA\", \"MONTEIRO\", \"PARELHAS\", \"SAO PAULO DO POTENGI\", \"IBIRA\", \"ASSIS\", \"BELEM DO BREJO DO CRUZ\", \"TUPA\", \"BALNEARIO CAMBORIU\", \"JARDIM DO SERIDO\", \"SANTA CRUZ DA BAIXA VERDE\", \"LAURO DE FREITAS\", \"MONTE ALEGRE DE SERGIPE\", \"PARAGUACU PAULISTA\", \"PASSO FUNDO\", \"SENADOR CANEDO\", \"PACO DO LUMIAR\", \"CAPIM GROSSO\", \"SANTOS\", \"NAVIRAI\", \"MONSENHOR PAULO\", \"ITAPISSUMA\", \"CATENDE\", \"MONTE ALEGRE\", \"SOBRAL-CE\", \"ITAPEMA\", \"URUARA\", \"COLATINA\", \"ALCOBACA\", \"IBICARAI\", \"RIBEIRAO PIRES\", \"ITABAIANA\", \"SANTANA DO MATOS\", \"SAO MATEUS\", \"SAO JOSE DE PIRANHAS\", \"AQUINAZ, CE - BR\", \"AQUIDABA\", \"AIMORES\", \"PAU DOS FERROS\", \"SAO LUIS DO CURURUA 7 DE SETEMBRO\", \"ARARAQUARA\", \"LIMOEIRA DO NORET\", \"ARACATUBA\", \"PIAUI, PI - BR\", \"MAUA\", \"SANTA MARIA DA BOA VISTA\", \"ITANHEM\", \"BREU BRANCO\", \"MATOES\", \"CAIEIRAS\", \"SANTO ANTONIO DE JESUS\", \"NITEROI\", \"GUARAPARI\", \"PALMAS\", \"CACOAL\", \"TURVO\", \"GRAVATAI\", \"PARATI\", \"GOVERNADOR VALADARES\", \"FOZ DO IGUACU\", \"DELMIRO GOUVEIA\", \"MERCES\", \"PONTO NOVO\", \"JARAGUA DO SUL\", \"JI-PARANA\", \"JUIZ DE FORA\", \"AFONSO CLAUDIO\", \"LAGOA DE ITAENGA\", \"FORALEZA, CE - BR\", \"CARUARU\", \"ESTREITO\", \"MORRO DO CHAPEU DO PIAUI\", \"BARRA DO CORDA\", \"FOSRTALEZA, CE - BR\", \"SAO GONCACO DO AMARANTE\", \"BATAYPORA\", \"LADARIO\", \"PEDRO LEOPOLDO\", \"POUSO ALEGRE\", \"TIBAU\", \"PIRIPIRI\", \"RIO DAS FLORES\", \"BRUSQUE\", \"RIACHUELO\", \"PANELAS\", \"LAVRAS\", \"FERNANDOPOLIS\", \"MOREILANDIA\", \"JOAO LISBOA\", \"MONTE ALEGRE DO PIAUI\", \"JUCURUTU\", \"UBERABA\", \"TANHACU\", \"FLORIANO\", \"SAO JOAO DE MERITI\", \"SAO SEBASTIAO\", \"UMUARAMA\", \"FORTALEZA / CE\", \"PAUDALHO\", \"BARREIRAS\", \"SAO LOURENCO\", \"MEDIANEIRA\", \"TEIXEIRA DE FREITAS\", \"TEOFILO OTONI\", \"SAO VICENTE\", \"JOAQUIM GOMES\", \"ITAGIMIRIM\", \"PONTAL\", \"TABIRA\", \"EUZEBIO\", \"CASTANHAL\", \"CACHOEIRA DOS INDIOS\", \"RESTINGA\", \"VARGEAO\", \"BOA VIAGEM, BA - BR\", \"EMBU\", \"CHA DE ALEGRIA\", \"MUCURI\", \"FORTAALEZA, CE - BR\", \"TABAPORA\", \"PIO IX\", \"CIDADE OCIDENTAL\", \"REMIGIO\", \"VITORIA DA CONQUISTA\", \"ITATIAIA\", \"VALPARAISO DE GOIAS\", \"GOIANA\", \"ALTA FLORESTA D''OESTE\", \"ITANHAEM\", \"SAPIRANGA\", \"CORUMBA\", \"RIO NOVO DO SUL\", \"IPOJUCA\", \"CONTAGEM\", \"CRUZEIRO\", \"TELEMACO BORBA\", \"NOVO HAMBURGO\", \"NOVA IGUACU\", \"SEABRA\", \"PASSIRA\", \"MONTE ALTO\", \"CONTENDA\", \"ITUMBIARA\", \"ESPERA FELIZ\", \"GRANITO\", \"ICARAI\", \"PORTO NACIONAL\", \"TATUI\", \"CACHOEIRINHA\", \"JOAQUIM PIRES\", \"VENTUROSA\", \"GEMINIANO\", \"CATU\", \"SANTA INES\", \"ALEGRETE\", \"APARECIDA DE GOIANIA\", \"BOM JESUS\", \"ICARAI (AMONTADA), CE - BR\", \"CACHOEIRAS DE MACACU\", \"CURITIBA, CE - BR\", \"PIRAMBU\", \"FOTALEZA, CE - BR\", \"ESPERANCA\", \"MAMANGUAPE\", \"AMAPA DO MARANHAO\", \"SANTO ANDRE, SP - BR\", \"CAMPO ALEGRE\", \"OEIRAS\", \"RODOLFO FERNANDES\", \"CHAPADAO DO CEU\", \"MARIZOPOLIS\", \"BETIM\", \"PIRAJU\", \"COLINAS DO TOCANTINS\", \"BRAGANCA PAULISTA\", \"CATOLE DO ROCHA\", \"NISIA FLORESTA\", \"SAPUPARA (MARANGUAPE), CE - BR\", \"SAO MIGUEL DA BAIXA GRANDE\", \"ILHA SOLTEIRA\", \"ALEGRE\", \"ITABORAI\", \"SAO MATEUS DO MARANHAO\", \"MUTUIPE\", \"APIAI\", \"SANTO ANTONIO DE LISBOA\", \"NOVA SOURE\", \"FORTAEZA\", \"SAO JOSE\", \"JUAZEIRINHO\", \"SAO JOSE DOS PINHAIS\", \"PORANGATU\", \"ILHABELA\", \"IGUABA GRANDE\", \"MACARA, CE - BR\", \"AREA BRANCA, RN - BR\", \"PEDRO AVELINO\", \"SAO ROQUE\", \"JAGUARAO\", \"QUIXAD\\u00bf, CE - BR\", \"SANTA BARBARA D''OESTE\", \"AMARANTE\", \"FORTA\\u00bfEZA, CE - BR\", \"CABROBO\", \"CAMPO GRANDE, CE - BR\", \"RIO BRILHANTE\", \"TAMANDARE\", \"CABEDELO\", \"POUSO ALTO\", \"ANGRA DOS REIS\", \"ACARI\", \"SAO FRANCISCO DO MARANHAO\", \"MINEIROS DO TIETE\", \"POMBAL\", \"INDIANOPOLIS\", \"NOVO MARANGUAPE, CE - BR\", \"CIANORTE\", \"SAO BENTO DO SUL\", \"CRISTALINA\", \"ITALIA, CE - BR\", \"ARRAIAL DO CABO\", \"SAO JOSE DE MIPIBU\", \"ITALIA\", \"MANICORE\", \"MOGI DAS CRUZES\", \"AGUAS LINDAS DE GOIAS\", \"SAPEZAL\", \"TOME-ACU\", \"ITAPERUCU\", \"GOVERNADOR NEWTON BELLO\", \"SAO RAIMUNDO NONATO\", \"DOURADOS\", \"SAO FRANCISCO DO OESTE\", \"SANTA CRUZ DO SUL\", \"ARARAS\", \"CANTO DO BURITI\", \"LIMEIRA\", \"CABECEIRAS DO PIAUI\", \"BODOCO\", \"CARAPICUIBA\", \"CACULE\", \"SOBRADINHO\", \"MAJOR SALES\", \"PORTO FERREIRA\", \"PANAMBI\", \"VITORIA DE SANTO ANTAO\", \"LUIS GOMES\", \"GUARANIACU\", \"NAVEGANTES\", \"ROSANA\", \"ARAGUAINA\", \"SAO BENTO DO UNA\", \"CABO FRIO\", \"NOVA OLIMPIA\", \"PARAU\", \"CARAUBAS DO PIAUI\", \"NOVA INDEPENDENCIA\", \"GUARATINGUETA\", \"ALTOS\", \"FORTALZA, CE - BR\", \"TAUBATE\", \"BARRA DO GARCAS\", \"ULIANOPOLIS\", \"TACIMA\", \"PARAGOMINAS\", \"SAO JOSE DOS CAMPOS\", \"ENCANTO\", \"MATIAS (PENTECOSTE), CE - BR\", \"CARIACICA\", \"BARRA DOS COQUEIROS\", \"MAGE\", \"GRAJAU\", \"BREVES\", \"AUGUSTINOPOLIS\", \"SAO SEBASTIAO DO PASSE\", \"BELEM DO SAO FRANCISCO\", \"ITAPORANGA\", \"IRANDUBA\", \"PIRAI\", \"ESTANCIA\", \"CHAPADINHA\", \"LIVRAMENTO\", \"MADRE DE DEUS\", \"ARACATI CEARA\", \"MARACANA\\u00bf, CE - BR\", \"BARBACENA\", \"CAJAZEIRINHAS\", \"NOVA CRUZ\", \"SONOLOPOLES, CE - BR\", \"INHUMA\", \"JAPARATUBA\", \"ICARA\", \"SAO FRANCISCO DO BREJAO\", \"SAO MIGUEL DO TOCANTINS\", \"JUAZEIRO\", \"ANCURI\", \"TUPANCIRETA\", \"VILA NOVA DO PIAUI\", \"SERTAOZINHO\", \"CANIDE\", \"BENTO GONCALVES\", \"ITAGUAI\", \"UTINGA\", \"PATO BRANCO\", \"CAXIAS\", \"SANTA FE DO SUL\", \"ARAPONGAS\", \"ITAITUBA\", \"MIRACEMA DO TOCANTINS\", \"PAULO DE FARIA\", \"SANTA CRUZ\", \"SAO GABRIEL DA CACHOEIRA\", \"UPANEMA\", \"ITAU\", \"TUNTUM\", \"NOVA MUTUM\", \"FORETALEZA, CE - BR\", \"VACARIA\", \"ROSARIO\", \"COLOMBO\", \"GENEVE, DF - BR\", \"VICOSA\", \"LISBOA, CE - BR\", \"CANOAS\", \"ARAPEI\", \"CAMPO MAGRO\", \"IPE\", \"ESPERANTINA\", \"PARANGABA\", \"BALNEARIO PINHAL\", \"POCO DE JOSE DE MOURA\", \"CAUCAIA, SP - BR\", \"GUAJARA-MIRIM\", \"CORURIPE\", \"POSSE\", \"IGARAPE-ACU\", \"TABATINGA\", \"ARAUCARIA\", \"GUARIBA\", \"PORTUGAL\", \"ARARUAMA\", \"BELA VISTA DE GOIAS\", \"MARCELINO VIEIRA\", \"FREI MARTINHO\", \"COCOS\", \"BARAO DE GRAJAU\", \"LONDRINA\", \"BELFORD ROXO\", \"PIRACURUCA\", \"SAO JOAO DO PARAISO\", \"BARRA DE SAO FRANCISCO\", \"DIAS D'AVILA\", \"PARACATU\", \"PENHA\", \"MUNIZ FREIRE\", \"LIMOEIRO\", \"CAPIVARI\", \"ABAETETUBA\", \"ITU\", \"BEZERROS\", \"TRES COROAS\", \"ELIAS FAUSTO\", \"FORTELEZA, CE - BR\", \"PORTO SEGURO\", \"COELHO NETO\", \"SAO JOAO DA FRONTEIRA\", \"SAPUCAIA DO SUL\", \"ITAPAJE, CE - BR\", \"SANTA TEREZINHA DE ITAIPU\", \"EUCLIDES DA CUNHA\", \"PAULINO NEVES\", \"COLINAS\", \"PARAZINHO\", \"VARZEA PAULISTA\", \"ASSAI\", \"COLONIA LEOPOLDINA\", \"SANTANA DE PARNAIBA\", \"BELO ORIENTE\", \"ALENQUER\", \"CARAPEBUS\", \"CASA NOVA\", \"CAMARAGIBE\", \"TERRA NOVA\", \"MOGI GUACU\", \"SANTA CRUZ DAS PALMEIRAS\", \"MAIRIPORA\", \"SAO FERNANDO\", \"CUIABA\", \"LAGOA DA PRATA\", \"JOSE DE FREITAS\", \"JOSELANDIA\", \"TANGARA\", \"RIO VERDE\", \"SAO BERNARDO\", \"CUMBUCO\", \"ANGICO\", \"TUPARETAMA\", \"CALUMBI\", \"UMARIZAL\", \"SAO JOSE DO RIO PARDO\", \"MAE DO RIO\", \"PATU\", \"PIRACICABA\", \"FORTALEZA DOS NOGUEIRAS\", \"00, CE - BR\", \"LAGOA GRANDE DO MARANHAO\", \"CANID\\u00bf, CE - BR\", \"ARAGUACU\", \"BELA VISTA DO MARANHAO\", \"MARILIA\", \"SIMOES\", \"CAUCAIA / CE\", \"NITEROI, RJ - BR\", \"TAIBA\", \"BADY BASSITT\", \"IUNA\", \"DIVINOPOLIS\", \"CAPINZAL DO NORTE\", \"CAMPO FORMOSO\", \"GUAMARE\", \"IPIXUNA DO PARA\", \"BERNARDINO BATISTA\", \"PALHOCA\", \"ALTINHO\", \"PALMARES\", \"LUCAS DO RIO VERDE\", \"LUIZIANA\", \"PORTO, CE - BR\", \"JUNDIAI\", \"CAMPO MAIOR\", \"JERICOCARA\", \"TREMEMBE\", \"RIO BONITO\", \"EUISEBIO, CE - BR\", \"BOLIVIA, CE - BR\", \"CAPONGA (CASCAVEL), CE - BR\", \"CANTA\", \"FORMIGA\", \"LAJEADO\", \"REMANSO\", \"BARCARENA\", \"BURITI DOS LOPES\", \"ANAPOLIS\", \"PINHALZINHO\", \"IBAITI\", \"ITACOATIARA\", \"PARANAGUA\", \"CANINDE DE SAO FRANCISCO\", \"BREJO\", \"PATOS DE MINAS\", \"SETE LAGOAS\", \"PENDENCIAS\", \"PORTO\", \"MACAPARANA\", \"CAPELA DE SANTANA\", \"PALMEIRA DOS INDIOS\", \"ARES\", \"MANAIRA\", \"VARGEM ALTA\", \"CALDEIRAO GRANDE DO PIAUI\", \"AUGUSTO CORREA\", \"FORTAL, CE - BR\", \"ASSUNCAO DO PIAUI\", \"ALMIRANTE TAMANDARE\", \"CHARQUEADAS\", \"CONCHAL\", \"IBIUNA\", \"ARUJA\", \"PRIMAVERA\", \"BAYEUX\", \"ITABIRA\", \"ARACRUZ\", \"MESQUITA\", \"ALTAMIRA\", \"GUARABIRA\", \"MORUNGABA\", \"ESTANCIA VELHA\", \"MARMELEIRO\", \"BREJINHO\", \"ATIBAIA\", \"MONTIVIDIU\", \"CEARA-MIRIM\", \"CAMBORIU\", \"MARTINS\", \"ARCOVERDE\", \"SANTO ANTONIO DO DESCOBERTO\", \"CABACEIRAS DO PARAGUACU\", \"JARAGUA\", \"NOVA FRIBURGO\", \"BERTIOGA\", \"BARROSO\", \"MONTE HOREBE\", \"IACRI\", \"SAO DOMINGOS DO MARANHAO\", \"MEDICILANDIA\", \"JANDIRA\", \"CAMPO VERDE\", \"PALMEIRAS\", \"IBIRAPITANGA\", \"MORADA NOVA DE MINAS\", \"SIMOES FILHO\", \"CAMBUI\", \"ITAQUAQUECETUBA\", \"ITAPETININGA\", \"VILHENA\", \"BOM SUCESSO\", \"VITORIA DO MEARIM\", \"CRUZEIRO DO SUL\", \"BAHIA, BA - BR\", \"ARAXA\", \"ITIQUIRA\", \"SARANDI\", \"BACABAL\", \"IPIAU\", \"BARRAS\", \"TAQUARANA\", \"GRAMADO\", \"BUENOS AIRES, CE - BR\", \"FORTAELZA, CE - BR\", \"SAO CRISTOVAO\", \"HOLANDA\", \"JABOTICABAL\", \"TRES LAGOAS\", \"LUZIANIA\", \"PESQUEIRA\", \"FARROUPILHA\", \"VAZANTES (ARACOIABA), CE - BR\", \"SAO GONCALO DO SAPUCAI\", \"BEJA, CE - BR\", \"GOIANESIA DO PARA\", \"CANELINHA\", \"ARACI\", \"PIRACAIA\", \"REGENTE FEIJO\", \"ARACARIGUAMA\", \"CACHOEIRA\", \"PAJEU DO PIAUI\", \"URUCURITUBA\", \"CATUANA (CAUCAIA), CE - BR\", \"SAO PAULO DAS MISSOES\", \"LOUVEIRA\", \"CAFELANDIA\", \"FORTALEZ, CE - BR\", \"DOIS RIACHOS\", \"LAGOA DO MATO\", \"PIACABUCU\", \"CAMPOS DOS GOYTACAZES\", \"SAO LOURENCO DO OESTE\", \"OURICANGAS\", \"PARIQUERA-ACU\", \"ACAILANDIA\", \"ALEXANDRIA\", \"REGENERACAO\", \"CENTRO, CE - BR\", \"COQUEIRAL\", \"PLANALTINA\", \"ALTO DO RODRIGUES\", \"PORTO REAL\", \"SANTA ROSA DE VITERBO\", \"IMBITUBA\", \"CARPINA\", \"ANGICOS\", \"TIMBAUBA DOS BATISTAS\", \"LAGOA DE VELHOS\", \"ITAPACI\", \"LUIS CORREIA\", \"SANTA TEREZINHA\", \"SAO LOURENCO DA MATA\", \"SENADOR LA ROCQUE\", \"FLORESTA\", \"MARIBONDO\", \"IRATI\", \"SOROCABA, CE - BR\", \"FORRALEZA, CE - BR\", \"ILHA GRANDE\", \"ITAITINGA-CE\", \"ALTO TAQUARI\", \"AXIXA DO TOCANTINS\", \"ITALY, CE - BR\", \"FORTAEZA, CE - BR\", \"SERRA DO MEL\", \"SANTO ANGELO\", \"UMBAUBA\", \"CARIRA\", \"CODO\", \"PINHEIRO\", \"CANARANA\", \"ITAPECERICA DA SERRA\", \"SAO GONCALO DO AMARANTE-CE\", \"CONCHAS\", \"BIRIGUI\", \"CABEVELO, PB - BR\", \"ITATIBA\", \"HORTOLANDIA\", \"MINEIROS\", \"ANAJATUBA\", \"CACHOEIRA PAULISTA\", \"XINGUARA\", \"ALAGOINHA DO PIAUI\", \"SANTO AMARO\", \"GARUVA\", \"RESENDE\", \"TOLEDO\", \"NORTELANDIA\", \"IGARASSU\", \"SAO MATEUS DO SUL\", \"FLORANIA\", \"DIAMANTE\", \"CAPINZAL\", \"POTIM\", \"ALVARES MACHADO\", \"AREIA DE BARAUNAS\", \"BRUMADO\", \"JAGUARE\", \"CUPIRA\", \"SANTO ANASTACIO\", \"BURITI DOS MONTES\", \"XANXERE\", \"LAGOA DO ITAENGA\", \"IRECE\", \"BONITO DE SANTA FE\", \"BURITAMA\", \"SAO JOAO DA BOA VISTA\", \"SANTA CLARA DO SUL\", \"MIRACATU\", \"CAPITAO POCO\", \"MARAVILHA\", \"PETROLANDIA\", \"CAJUEIRO DA PRAIA\", \"MATA DE SAO JOAO\", \"ORIZONTE, CE - BR\", \"NOVA ODESSA\", \"POMBOS\", \"MATAO\", \"FRANCISCO SANTOS\", \"ITINGA DO MARANHAO\", \"BARRA DE SANTO ANTONIO\", \"VIDEIRA\", \"FORTLEZA, CE - BR\", \"SAO FRANCISCO DO SUL\", \"JORDAO\", \"APARECIDA\", \"BRASILIA, CE - BR\", \"RIO GRANDE\", \"CAETE\", \"PITANGA\", \"LAGOA DE SAO FRANCISCO\", \"SATUBINHA\", \"GUARAPUAVA\", \"EUSEBIO, ES - BR\", \"PACAJUAS, CE - BR\", \"SAO BENTO\", \"SAO GONCALO DO AMARA, CE - BR\", \"CALDAS NOVAS\", \"FOARTALEZA\", \"URUACU\", \"BRASILEIA\", \"PAULA CANDIDO\", \"AGUA DOCE DO MARANHAO\", \"SAO MIGUEL DO TAPUIO\", \"PARANAIBA\", \"ALFREDO CHAVES\", \"UNIAO DA VITORIA\", \"PORANGABA\", \"ANDRADINA\", \"ITAMBE\", \"BARRA MANSA\", \"CHAPECO\", \"NOVO HORIZONTE\", \"OURO PRETO DO OESTE\", \"PORTO CALVO\", \"GOVERNADOR DIX-SEPT ROSADO\", \"MACAU\", \"OLIMPIA\", \"LAGUNA\", \"CORONEL FABRICIANO\", \"CAMBE\", \"CAMPO BOM\", \"PIRASSUNUNGA\", \"SUZANO\", \"BAURU\", \"EDSON QUEIROZ, CE - BR\", \"CASTELO DO PIAUI\", \"BURITI\", \"TERRA SANTA\", \"PORTALEGRE\", \"RIBEIRAO\", \"BOCAINA\", \"SILVA JARDIM\", \"PASSOS\", \"PILOES\", \"ROSARIO OESTE\", \"EMBU-GUACU\", \"CATU DE ABRANTES (CAMACARI), BA - BR\", \"TAIBA (SAO GONCALO DO AMARANTE), CE - BR\", \"ANDORINHA\", \"PERUIBE\", \"JOAO CAMARA\", \"DIAS D''AVILA\", \"JAGUAQUARA\", \"TAQUARI\", \"IPORA\", \"PIANCO\", \"BANDEIRANTES\", \"SANTA TERESA\", \"CONDADO\", \"INDAIATUBA\", \"ALCANTARA\", \"ARAPIRACA\", \"MACAMBIRA\", \"PASTOS BONS\", \"LAGES\", \"LANDRI SALES\", \"CARNAUBAIS\", \"UARINI\", \"DOM PEDRO\", \"LARANJAL PAULISTA\", \"SAO CARLOS\", \"RUROPOLIS\", \"ALTA FLORESTA\", \"RIO DE JANIERO\", \"BARRA BONITA\", \"FLEICHEIRINHA, CE - BR\", \"PROMISSAO\", \"MOSSORO - R. G DO NORTE\", \"VARGEM GRANDE\", \"ITATINGA\", \"CONGONHAS\", \"FRANCA\", \"NOVA PALMEIRA\", \"BOM RETIRO\", \"CARNAIBA\", \"PEIXE-BOI\", \"LUCELIA\", \"FLEXEIRINHA, CE - BR\", \"JAGUAPITA\", \"JAGUARIUNA\", \"CAMPO MOURAO\", \"RIBEIRAO DAS NEVES\", \"TAQUARITINGA DO NORTE\", \"CAPAO BONITO\", \"SAO JOSE DOS QUATRO MARCOS\", \"PARANAVAI\", \"JATOBA DO PIAUI\", \"TEIXEIRA\", \"INDAIABIRA\", \"PAULINIA\", \"ZE DOCA\", \"CRATEUS-CE\", \"QUERENCIA\", \"GUAIRA\", \"IGARAPE-MIRI\", \"CAMPOS NOVOS\", \"CACHOEIRA GRANDE\", \"MATINHA\", \"RIO GRANDE DA SERRA\", \"SAO VALENTIM\", \"DUAS BARRAS\", \"PICUI\", \"SANTANA DO IPANEMA\", \"REGISTRO\", \"MIGUEL ALVES\", \"ITAPIRA\", \"TUTOIA\", \"RIACHAO\", \"AURORA DO TOCANTINS\", \"IMARUI\", \"RJSBURG, CE - BR\", \"TARAUACA\", \"FORTALEZA DOS VALOS\", \"NOVO PROGRESSO\", \"JANUARIO CICCO (BOA SAUDE)\", \"CERQUILHO\", \"MASSARANDUBA\", \"PAROBE\", \"ARARI\", \"MATOZINHOS\", \"CAJAMAR\", \"VERA\", \"SANTA RITA\", \"ALMADA\", \"CANAA DOS CARAJAS\", \"LAGOA GRANDE\", \"ARIQUEMES\", \"SANTA GERTRUDES\", \"PASSAGEM\", \"JANDAIA DO SUL\", \"PILAR\", \"SANTA BARBARA\", \"CAPANEMA\", \"NOVA REDENCAO\", \"ITAPECURU MIRIM\", \"QUEIMADOS\", \"SINOP\", \"CAICARA DO NORTE\", \"TEREZINA, CE - BR\", \"FORTALEZZA, CE - BR\", \"COLNIZA\", \"BAHIA\", \"JACOBINA\", \"TABUBA\", \"ITAPERUNA\", \"UBERLANDIA MG\", \"URUGUAIANA\", \"LAPA\", \"PIRPIRITUBA\", \"TAMBOARA\", \"MOGI MIRIM\", \"GUAPIACU\", \"FORLTAEZ, CE - BR\", \"MARACANA\", \"CARAGUATATUBA\", \"SAO JOAQUIM DA BARRA\", \"ITAPURA\", \"MANICORE, CE - BR\", \"BREJO DO CRUZ\", \"ELDORADO DO SUL\", \"SERRINHA DOS PINTOS\", \"SERTANIA\", \"OROCO\", \"FOTALEZA\", \"SAO CARLOS, SP - BR\", \"PONTA GROSSA\", \"CAPOEIRAS, CE - BR\", \"ALDEIAS ALTAS\", \"SAO JOAO DO SABUGI\", \"PIRAPORA\", \"ABATIA\", \"BARREIROS\", \"NEOPOLIS\", \"VIAMAO\", \"SAO GON\\u00bfALO, CE - BR\", \"ARAIOSES\", \"SUSSUAPARA\", \"SANTA LUZIA DO PARUA\", \"FLORES\", \"CARATINGA\", \"JOAO MONLEVADE\", \"TAIOBEIRAS\", \"CEARA, CE - BR\", \"FRUTUOSO GOMES\", \"MONGAGUA\", \"FERNANDO PEDROZA\", \"OLHO DAGUA, CE - BR\", \"ANTONIETA DAMASCENO PAIXAO\", \"PORTO DE MOZ\", \"GUARA\", \"SAO JOAO DO PIAUI\", \"AMARANTE DO MARANHAO\", \"MANGARATIBA\", \"AQUIRAZ-CE\", \"PRESIDENTE PRUDENTE\", \"LAGO VERDE\", \"PACARAIMA\", \"CAMACAN\", \"CAMPINAPOLIS\", \"MATIPO\", \"CAMAQUA\", \"SANTA MARIA MADALENA\", \"LAGOA ALEGRE\", \"MESEJANA\", \"IBATE\", \"CAMALAU\", \"SANTANA DO MUNDAU\", \"BRASIL NOVO\", \"CARAUBAS\", \"ALTO ALEGRE DO MARANHAO\", \"ROLANTE\", \"BOM CONSELHO\", \"JAPERI\", \"MINADOR DO NEGRAO\", \"CAJUEIRO\", \"UBATUBA\", \"IBIARA\", \"FPORTALEZA, CE - BR\", \"DAVINOPOLIS\", \"MARACAI\", \"ALIANCA\", \"RECIFE, CE - BR\", \"MANHUMIRIM\", \"MACHADINHO\", \"FELIZ\", \"VIRGINOPOLIS\", \"CUITE\", \"IJUI\", \"RONDON DO PARA\", \"PERDIZES\", \"FAZENDA RIO GRANDE\", \"CANOA QUEBRADA, CE - BR\", \"REINO UNIDO, CE - BR\", \"QUINTANA\", \"SEM CIDADE\", \"SAO JOAQUIM DE BICAS\", \"BANANEIRAS\", \"SANTA CRUZ DO CAPIBARIBE\", \"AMERICA DOURADA\", \"FORTAKEZA, CE - BR\", \"BRASILANDIA DE MINAS\", \"LINS\", \"CONCEICAO DA APARECIDA\", \"AREIOPOLIS\", \"FRANCISCO SA\", \"ALFENAS\", \"LAUSANNE, CE - BR\", \"PERDIGAO\", \"CAETES\", \"RINOPOLIS\", \"VARZEA NOVA\", \"CANUDOS\", \"MIRASSOL\", \"CAICAIA, CE - BR\", \"JATOBA\", \"SANTA MARIA\", \"EUSEBIO CE, CE - BR\", \"LIMOEIRO DO NORTE-CE\", \"PRESIDENTE MEDICI\", \"PARIS, CE - BR\", \"LOMOEIRO DO NORTE\", \"ARAME\", \"BALSAS\", \"PRESIDENTE DUTRA\", \"COLINA\", \"VINHEDO\", \"SOURE\", \"LAJEDO\", \"BELO JARDIM\", \"PERNAMBUCO\", \"SIQUEIRA CAMPOS\", \"MATOES DO NORTE\", \"PARNAIBA, CE - BR\", \"NOVA LIMA\", \"MANARI\", \"CANDEIAS DO JAMARI\", \"CASTILHO\", \"ITIUBA\", \"QUEBRANGULO\", \"RELVADO\", \"SANTA TEREZA DO OESTE\", \"GUADALUPE\", \"MANHUACU\", \"JEQUIE\", \"ASTOLFO DUTRA\", \"VOTORANTIM\", \"MOSSORO - RIO G DO NORTE\", \"POCO DAS TRINCHEIRAS\", \"BARRA DO PIRAI\", \"SAO JOSE DO EGITO\", \"SOLONOPOLI\", \"RIACHAO DO JACUIPE\", \"SANTA RITA DO SAPUCAI\", \"SAO MIGUEL DO GOSTOSO\", \"CAROLINA\", \"ICEM\", \"TIBAU DO SUL\", \"PINDAMONHANGABA\", \"BELEM DO PIAUI\", \"SAO RAIMUNDO DAS MANGABEIRAS\", \"PIATA\", \"FORTALEZA DO TABOCAO\", \"GUAIBA\", \"CAUACAIA, CE - BR\", \"PONTA PORA\", \"JUAZEIRO DO NORTE, AP - BR\", \"AUSTRIA, CE - BR\", \"FRTALEZA, CE - BR\", \"VISCONDE DO RIO BRANCO\", \"JUREMA\", \"QUATRO BARRAS\", \"SANTO ANTONIO DA PATRULHA\", \"FORTALZE, CE - BR\", \"POCO DANTAS\", \"CUNHA\", \"SABINO\", \"ALTAMIRA DO PARANA\", \"TERRA BOA\", \"QUIXABA\", \"MATELANDIA\", \"SONOLOPIS, CE - BR\", \"PARARI\", \"JOANOPOLIS\", \"ITARIRI\", \"MO\\u00bfAMBIQUE, CE - BR\", \"FORTA, CE - BR\", \"NOVA PETROPOLIS\", \"LISBOA - PORTUGAL, CE - BR\", \"BARAO DO TRIUNFO\", \"VALENCA DO PIAUI\", \"SAO TOME\", \"AREIA\", \"PEDRO CANARIO\", \"PRAIA DE ICARAI, CE - BR\", \"PRESIDENTE JUSCELINO\", \"BITUPITA (BARROQUINHA), CE - BR\", \"LAGOA FORMOSA\", \"CATANDUVA\", \"MORRO DO CHAPEU\", \"MIMOSO DO SUL\", \"PEDREIRAS\", \"CONCORDIA\", \"LIBERATO SALZANO\", \"ROLIM DE MOURA\", \"PECEM-CE\", \"CARINHANHA\", \"SIDROLANDIA\", \"MAJOR ISIDORO\", \"CAMPANHA\", \"PIRAQUARA\", \"FORTALEZ\", \"EUNAPOLIS\", \"ITARARE\", \"IBIPEBA\", \"POCOS DE CALDAS\", \"IGARACU DO TIETE\", \"PADRE PARAISO\", \"SENHOR DO BONFIM\", \"CHAVES\", \"JUINA\", \"ARACOIABA DA SERRA\", \"CONJ NOVO ORIENTE, CE - BR\", \"QUIRINOPOLIS\", \"IGARAPE\", \"CAMPO GRANDE DO PIAUI\", \"PUXINANA\", \"GAUCHA DO NORTE\", \"ALEM PARAIBA\", \"CARACARAI\", \"ANTONIO ALMEIDA\", \"NOVO PLANALTO\", \"MORENO\", \"TIMBO\", \"CORINTO\", \"LUIS EDUARDO MAGALHAES\", \"PENEDO\", \"SANTA HELENA DE MINAS\", \"CAMPO NOVO DE RONDONIA\", \"GILBUES\", \"DOIS IRMAOS\", \"RIO TINTO\", \"SERAFINA CORREA\", \"SANTA CATARINA\", \"BENEVIDES\", \"JARINU\", \"CATAGUASES\", \"DOM PEDRITO\", \"SAO LUIS GONZAGA DO MARANHAO\", \"IPIRA\", \"TAQUARA\", \"UBAPORANGA\", \"ALVORADA\", \"NOVO GAMA\", \"ABEL FIGUEIREDO\", \"SAO VICENTE FERRER\", \"POMERODE\", \"JIJOCA, CE - BR\", \"PATROCINIO\", \"ENTRE RIOS DE MINAS\", \"CANAPOLIS\", \"JACIARA\", \"PEDREIRA\", \"GUACUI\", \"BARRETOS\", \"PARAISO DO TOCANTINS\", \"SAO JOSE DO BONFIM\", \"COCALZINHO DE GOIAS\", \"CACIMBINHAS\", \"FRANCE, CE - BR\", \"SANTO ANTONIO DO MONTE\", \"LUZARDO VIANA MARACANAU, CE - BR\", \"SAO LUIZ GONZAGA\", \"JANAUBA\", \"BAIXA GRANDE DO RIBEIRO\", \"SOBRALIA\", \"SERRA GRANDE\", \"TIMOTEO\", \"BARREIRINHAS\", \"JOSE WALTER\", \"BODO\", \"SAO RAIMUNDO, CE - BR\", \"ORLANDIA\", \"ALMEIRIM\", \"MATINA\", \"ALTO PARAISO\", \"SAO JOSE DE CAIANA\", \"CAMPESTRE DO MARANHAO\", \"ALTA FLORESTA D'OESTE\", \"BONITO DE MINAS\", \"CAPELA\", \"SALINOPOLIS\", \"PRESIDENTE FIGUEIREDO\", \"JUSSIAPE\", \"VERA CRUZ\", \"BRUMADINHO\", \"ACAUA\", \"CRUZ ALTA\", \"BELEM- PARA\", \"DESCALVADO\", \"INHUMAS\", \"MARUIM\", \"MARAU\", \"GUANAMBI\", \"MONSENHOR HIPOLITO\", \"MARANGUAPE-CE\", \"CRISTINO CASTRO\", \"OLEO\", \"ALAGOINHA\", \"PAINS\", \"PEDRA PRETA\", \"JAU\", \"FORMOSA\", \"RIO LARGO\", \"FOERTALEZA\", \"AFONSO CUNHA\", \"PARANATAMA\", \"BOM RETIRO DO SUL\", \"RORAIMA, TO - BR\", \"A\", \"ILHA DE ITAMARACA\", \"MURICI DOS PORTELAS\", \"OLIVEIRA\", \"PARIPIRANGA\", \"LUCENA\", \"DIANOPOLIS\", \"BICAS\", \"NOVA VENECIA\", \"CACAULANDIA\", \"JUSCIMEIRA\", \"PAPARA\", \"FORLTALEZA, CE - BR\", \"ERECHIM\", \"FELIPE GUERRA\", \"SORRISO\", \"INHUCU (SAO BENEDITO), CE - BR\", \"BREJO DA MADRE DE DEUS\", \"MAIRINQUE\", \"CUMBUCO, CE - BR\", \"FLORIANOPOLIS, SC - BR\", \"BENJAMIN CONSTANT\", \"TENORIO\", \"J. N CE\", \"BAMBUI\", \"PEDRA LAVRADA\", \"ALAGOA GRANDE\", \"CACAIA, CE - BR\", \"MADRE DE DEUS DE MINAS\", \"JANGADA\", \"BUENOS AIRES\", \"RIALMA\", \"SIDEROPOLIS\", \"MERIDIANO\", \"GUAPIMIRIM\", \"NOVA ALVORADA DO SUL\", \"BARRO ALTO\", \"PORTO FELIZ\", \"GOVERNADOR NUNES FREIRE\", \"CACAPAVA\", \"CAMPO BONITO\", \"CACEQUI\", \"SOMBRIO\", \"VALENCA\", \"BREJOLANDIA\", \"NOVA UBIRATA\", \"PROPRIA\", \"639, CE - BR\", \"AMAPA\", \"CASA BRANCA\", \"AUGUSTO SEVERO (CAMPO GRANDE)\", \"BENEDITO NOVO\", \"CLAUDIO\", \"SOLANEA\", \"ENTRE RIOS\", \"SANTA CRUZ DO ARARI\", \"MANAUS, CE - BR\", \"R,CORONEL VICENTE SOARES\", \"CARNEIROS\", \"PIAU\", \"AFRANIO\", \"AGUIAR\", \"SAO JOAO DO ARRAIAL\", \"PALMITOS\", \"ALTO PARNAIBA\", \"SOLEDADE\", \"FOR, CE - BR\", \"TRES CORACOES\", \"ANHEMBI\", \"SAO RAFAEL\", \"CRICIUMA\", \"CANUTAMA\", \"POMPEIA\", \"CRUZEIRO DO OESTE\", \"SAO FELIX DO XINGU\", \"MONTE SANTO\", \"SERTAO SANTANA\", \"AVARE\", \"JARDIM DE PIRANHAS\", \"FOPRTALEZA, CE - BR\", \"SAO JOAO DOS PATOS\", \"ESTEIO\", \"XAPURI\", \"ALBANIA, CE - BR\", \"SAO BERNARDO DO CAMPO, SP - BR\", \"AQUIDAUANA\", \"FELISBURGO\", \"CRISTIANO OTONI\", \"GASPAR\", \"LUCRECIA\", \"CAPIVARI DE BAIXO\", \"ITOBI\", \"BAEPENDI\", \"RITAPOLIS\", \"PIAUI, CE - BR\", \"POCOES\", \"ALTO PARAISO DE GOIAS\", \"SAO JULIAO\", \"SITIO NOVO DO TOCANTINS\", \"ITACURUBA\", \"SANTA BARBARA D'OESTE\", \"SERRANA\", \"ARAPUA\", \"JATAI\", \"CEREJEIRAS\", \"LIBERDADE\", \"SILVANIA\", \"MINACU\", \"BRAGA, CE - BR\", \"GUAXUPE\", \"NOVA XAVANTINA\", \"TRES RIOS\", \"RIO DAS OSTRAS\", \"GARRAFAO DO NORTE\", \"CAMBEBA, CE - BR\", \"TEFE\", \"PORTO DO MANGUE\", \"JUCATI\", \"MOSSORO, CE - BR\", \"MATUPA\", \"COCAL DO SUL\", \"ALTO ALEGRE DOS PARECIS\", \"BURITI DO TOCANTINS\", \"FORTLALEZA, CE - BR\", \"1, CE - BR\", \"PENALVA\", \"EUSEBIO-CE\", \"DIVINO\", \"HOLLAND, CE - BR\", \"MARANHAO, CE - BR\", \"ARMAZEM\", \"MUCAJAI\", \"GRACA ARANHA\", \"LORENA\", \"CARNAUBA DOS DANTAS\", \"TAMBORIL DO PIAUI\", \"BREJAO\", \"COITE DO NOIA\", \"DISTRITO FEDERAL, DF - BR\", \"COROATA\", \"TRAIPU\", \"BURITI BRAVO\", \"PINHALAO\", \"MARAGOGIPE\", \"OLIVEIRA DOS BREJINHOS\", \"CERQUEIRA CESAR\", \"ITALVA\", \"TUBARAO\", \"BARRA D''ALCANTARA\", \"TACARATU\", \"POA\", \"GUARAMIRIM\", \"SAO JOAO BATISTA\", \"IRITUIA\", \"PARINTINS\", \"0, CE - BR\", \"RIO FORMOSO\", \"PLACIDO DE CASTRO\", \"SAO SEBASTIAO DO OESTE\", \"VARGEM GRANDE DO SUL\", \"IPIRANGA DO PIAUI\", \"FORTALEZAC, CE - BR\", \"VIANA\", \"SALGADINHO\", \"PENTECOSTES, CE - BR\", \"CUSTODIA\", \"QUEIMADAS\", \"ANGICAL DO PIAUI\", \"MIRANDA\", \"MOCAMBIQUE, CE - BR\", \"CACHOEIRO DE ITAPEMIRIM\", \"PARNARAMA\", \"SAO BORJA\", \"PAPANDUVA\", \"RIBAS DO RIO PARDO\", \"XIANGA, CE - BR\", \"ANTONIO MARTINS\", \"HERVAL D'OESTE\", \"VERA CRUZ DO OESTE\", \"COLORADO DO OESTE\", \"AGRICOLANDIA\", \"SURUBIM\", \"ARCEBURGO\", \"LAGO DOS RODRIGUES\", \"ENCANTADO\", \"RIACHO DOS CAVALOS\", \"BOM LUGAR\", \"CRUZ DAS ALMAS\", \"SAPUCAI-MIRIM\", \"CERES\", \"NOVA OLINDA DO NORTE\", \"SANT'' ANA DO LIVRAMENTO\", \"QUATIPURU\", \"TIMBAUBA\", \"INDIAROBA\", \"EPITACIOLANDIA\", \"DORES DO INDAIA\", \"GOIANESIA\", \"CANDIDO MOTA\", \"XAMBIOA\", \"PATY DO ALFERES\", \"SALVADOR, CE - BR\", \"ACRELANDIA\", \"VARGINHA\", \"CONDE\", \"JAGUARARI\", \"VESPASIANO\", \"SAO GERALDO DO ARAGUAIA\", \"NAZARE PAULISTA\", \"BELAGUA\", \"SANTO AMARO DA IMPERATRIZ\", \"PECEM (SAO GONCALO D, CE - BR\", \"BARROCAS\", \"CURVELO\", \"BURITIS\", \"SULINA\", \"SAO FRANCISCO\", \"ALPHA\", \"SANTA ISABEL\", \"PASSA E FICA\", \"TACAIMBO\", \"MONDUBIM\", \"BOA ESPERANCA\", \"PITIMBU\", \"JERICO\", \"BOCA DA MATA\", \"NOVO ACORDO\", \"BOM JESUS DA LAPA\", \"ANCHIETA\", \"ALUMINIO\", \"SANTANA DO MARANHAO\", \"FRANCA, CE - BR\", \"GUARAREMA\", \"GOIAS\", \"SAO ROBERTO\", \"PINHEIRO PRETO\", \"URBANO SANTOS\", \"NOVA PRATA\", \"CHA GRANDE\", \"VARGEM GRANDE PAULISTA\", \"SEROPEDICA\", \"MIRANDA DO NORTE\", \"CABO DE SANTO\", \"ITABERABA\", \"ALHANDRA\", \"COARI\", \"OURO PRETO, RO - BR\", \"RIO GRANDE DO NORTE, CE - BR\", \"LUZILANDIA\", \"CUJUBIM\", \"RIO DO FOGO\", \"FORMOSO DO ARAGUAIA\", \"CONCEICAO DO CASTELO\", \"TORINO, CE - BR\", \"MATIAS OLIMPIO\", \"MARIANA\", \"SAO JOSE DO PIAUI\", \"PARATY\", \"FORTALEZE, CE - BR\", \"CHUI\", \"TENENTE LAURENTINO CRUZ\", \"JIJOCA DE JERICOACOARA-CE\", \"SAO GONCALO DOS CAMPOS\", \"COSMOPOLIS\", \"LUZARDO VIANA, CE - BR\", \"ANICUNS\", \"PORTO REAL DO COLEGIO\", \"ARAPORA\", \"CAMANDUCAIA\", \"IPANGUACU\", \"MEIRELES\", \"RUY BARBOSA\", \"MACHACALIS\", \"CONCEICAO DE MACABU\", \"SANTA CECILIA DO PAVAO\", \"BARBOSA\", \"SAO PEDRO DO IGUACU\", \"MATINHOS\", \"TEODORO SAMPAIO\", \"BARRA VELHA\", \"RIBEIRAO PRETO, SP - BR\", \"FEIRA NOVA\", \"LIMA CAMPOS\", \"IPABA\", \"SABARA\", \"CABREUVA\", \"MATEUS LEME\", \"ADRIANOPOLIS\", \"BOTUCATU\", \"POMPEU\", \"MACHADINHO D'OESTE\", \"RIO REAL\", \"AMARGOSA\", \"CAAPORA\", \"BURITICUPU\", \"LEOPOLDINA\", \"SAO LUIZ DO PARAITINGA\", \"TAPERA (AQUIRAZ), CE - BR\", \"AGUA BRANCA\", \"BARRA\", \"ITAJUIPE\", \"SAO SIMAO\", \"QUIXERAMOBUIM, CE - BR\", \"JACINTO\", \"CACU\", \"LIMA DUARTE\", \"MATHIAS LOBATO\", \"JEREMOABO\", \"SAO LOURENCO DA SERRA\", \"CORACAO DE MARIA\", \"LAJES\", \"ICARAI (AMONTADA)\", \"SAO LUIS DE MONTES BELOS\", \"AQUIRAZ, SP - BR\", \"CRUZETA\", \"ZURICH, CE - BR\", \"SACRAMENTO\", \"TABOLEIRO GRANDE\", \"CAMPO ALEGRE DE LOURDES\", \"SAO JOAO DA SERRA\", \"APARECIDA DE GOIANIA, GO - BR\", \"SANTA TEREZA DO TOCANTINS\", \"PONTO DOS VOLANTES\", \"CAPELA DO ALTO\", \"SALTO\", \"GOIANAPOLIS\", \"BRASILEIRA\", \"TIMBIRAS\", \"LAGOA SALGADA\", \"GUAPO\", \"OROBO\", \"SANTA CRUZ DO RIO PARDO\", \"MANDAGUACU\", \"CORDEIROPOLIS\", \"SAO MIGUEL DO GUAMA\", \"PARQUE SANTO AMARO, CE - BR\", \"GUAJARA\", \"CARANGOLA\", \"MOREIRA SALES\", \"CAMPO LIMPO PAULISTA\", \"ANAPURUS\", \"ITAQUI\", \"BORDA DA MATA\", \"JACUPIRANGA\", \"DEMERVAL LOBAO\", \"SUCUPIRA DO NORTE\", \"SAO MIGUEL DOS CAMPOS\", \"EUS\\u00bfBIO, CE - BR\", \"RIO BRANCO DO SUL\", \"SAO JOSE DA LAGOA TAPADA\", \"FORTALEZA CE, CE - BR\", \"LENCOIS PAULISTA, SP - BR\", \"LIVRAMENTO DE NOSSA SENHORA\", \"TASSO FRAGOSO\", \"MARTINOPOLIS\", \"CARIRI DO TOCANTINS\", \"GLORIA\", \"PARAI\", \"BARRA D'ALCANTARA\", \"CONCEICAO DO JACUIPE\", \"FORTALEZAF\", \"FLORESTA DO ARAGUAIA\", \"ARAGUATINS\", \"ASTORGA\", \"AURORA DO PARA\", \"JOAO NEIVA\", \"CAARAPO\", \"NOSSA SENHORA DA GLORIA\", \"MARECHAL DEODORO\", \"JAGUARIAIVA\", \"UNAI\", \"MONTE CARMELO\", \"CAMPINA GRANDE DO SUL\", \"CUITE DE MAMANGUAPE\", \"MUNDO NOVO\", \"NOVA SANTA RITA\", \"TERESOPOLES\", \"SANTA RITA DO PASSA QUATRO\", \"RIO GRANDE DO NORTE\", \"MARACA, CE - BR\", \"BENFICA, CE - BR\", \"JOAO PINHEIRO\", \"AIQUARA\", \"MAURILANDIA\", \"GOIOERE\", \"PIRAI DO SUL\", \"FRANCISCO MACEDO\", \"01, RJ - BR\", \"ARMACAO DOS BUZIOS\", \"MEIRELES, CE - BR\", \"JACUNDA\", \"PINHEIRAL\", \"ARCOS\", \"RUA PEREIRA DE MIRANDA\", \"BONITO\", \"PARA\", \"ITABIRITO\", \"SAO JOAO DEL REI\", \"GENERAL CAMARA\", \"ITAPEVA\", \"FORATALEZA\", \"ITAREMA-CE\", \"CRAIBAS\", \"GUARATINGA\", \"VARZEDO\", \"SANT'ANA DO LIVRAMENTO\", \"QUEIMADOS (HORIZONTE), CE - BR\", \"BAGE\", \"BEBEDOURO\", \"CAMPANARIO\", \"COCO, CE - BR\", \"GUABIJU\", \"CUACAIA\", \"FORTAKEZ A, CE - BR\", \"GOVERNADOR EDISON LOBAO\", \"BARRINHA\", \"AREIAL\", \"CONCEICAO DO CANINDE\", \"NOVA PONTE\", \"QUIPAPA\", \"HARMONIA\", \"COREMAS\", \"JUPI\", \"OERAS, PI - BR\", \"MARACANAU-CE\", \"IGARATA\", \"MONTES ALTOS\", \"OURO PRETO\", \"FORATLEA\", \"CAPANEMA -PR\", \"SAO JOSE DA VARGINHA\", \"RIO VERDE DE MATO GROSSO\", \"BRANQUINHA\", \"SANTO ESTEVAO\", \"PAICANDU\", \"MEITEN, CE - BR\", \"FORTALEIZA, CE - BR\", \"ACREUNA\", \"TOUROS\", \"ROTTERDAN, CE - BR\", \"SANTA CRUZ DO PIAUI\", \"ITAJUBA\", \"SAO FRANCISCO DO PIAUI\", \"J. NORTE\", \"AMADORA PORTUGAL, CE - BR\", \"CANSANCAO\", \"TUPACIGUARA\", \"FONTOURA XAVIER\", \"BRASILIA DE MINAS\", \"PIRENOPOLIS\", \"LAGOA DA CANOA\", \"GUARATUBA\", \"CAMPO LARGO\", \"QUATA\", \"PALMEIRA\", \"ORIZONTE, PB - BR\", \"LARANJAL DO JARI\", \"AMPARO\", \"SAO FIDELIS\", \"SAO MIGUEL DO PASSA QUATRO\", \"GENEBRA, CE - BR\", \"VENHA-VER\", \"ITACARE\", \"PIQUETE\", \"PARA DE MINAS\", \"CONFRESA\", \"MARACANAU / CE\", \"NOVO ORIENTE DO PIAUI\", \"SAO MIGUEL DO OESTE\", \"SANTA BARBARA DO PARA\", \"POCO FUNDO\", \"MOEDA\", \"SAO PEDRO\", \"PINHEIROS\", \"SAQUAREMA\", \"JARDIM DE ANGICOS\", \"SAO JOSE DO SERIDO\", \"SERGIPE\", \"IPEUNA\", \"JACAREZINHO\", \"MILTON BRANDAO\", \"IBIRUBA\", \"LAGOA SANTA\", \"MAFRA\", \"RIO DOS CEDROS\", \"ITAIPULANDIA\", \"NOVA LONDRINA\", \"CAVALCANTE\", \"IMBE\", \"GOIABEIRA\", \"EUEBIO, CE - BR\", \"IVOTI\", \"ALVINOPOLIS\", \"AMSTERDAM, CE - BR\", \"SAO SEBASTIAO DO PARAISO\", \"MOJU\", \"MATARACA\", \"SAO MANUEL\", \"JAGUARI\", \"GOVERNADOR ARCHER\", \"SERRA BRANCA\"], \"xaxis\": \"x\", \"y\": [541919, 27033, 17130, 14545, 9685, 1802, 14085, 5332, 5563, 10555, 3443, 11413, 9534, 13616, 1993, 19054, 1991, 12624, 3981, 5265, 6022, 7592, 29344, 2849, 1793, 35561, 6134, 6043, 56925, 8669, 16347, 45249, 3041, 7179, 11, 7929, 39182, 5515, 3535, 542, 12320, 3696, 1274, 9034, 3421, 317, 2437, 11135, 1432, 8036, 27767, 10635, 4850, 3105, 2362, 9276, 1545, 2277, 4275, 14346, 3529, 14531, 2744, 7085, 3770, 3006, 2480, 775, 11697, 449, 1039, 5144, 3191, 7072, 4278, 9132, 6651, 2746, 6974, 8951, 5752, 4871, 1282, 12367, 2483, 50, 3810, 3139, 2720, 1, 3457, 5030, 6290, 2843, 3145, 2704, 3639, 6, 21, 4814, 950, 4310, 3056, 2169, 3530, 9591, 780, 2092, 4978, 3407, 1496, 2677, 3060, 541, 6443, 3941, 1069, 3166, 4323, 3156, 1456, 2576, 9721, 1319, 1574, 1411, 2411, 1174, 2373, 2303, 827, 5646, 1560, 4175, 3372, 4878, 1396, 2275, 2449, 5813, 2581, 641, 1340, 1104, 1232, 4027, 1315, 1572, 644, 5075, 1957, 4367, 1550, 1353, 1769, 3558, 4, 1866, 1958, 642, 423, 2613, 1844, 1584, 1191, 1601, 988, 13, 1, 1407, 657, 28, 5373, 2551, 1082, 1, 386, 44, 3498, 4057, 1783, 4, 681, 824, 1538, 991, 2230, 3, 118, 68, 3, 563, 1434, 327, 1192, 72, 1584, 2923, 211, 133, 34, 1, 1608, 1734, 80, 450, 9, 150, 28, 88, 261, 1806, 1717, 1319, 1, 10, 278, 3, 555, 5, 385, 22, 27, 27, 1193, 109, 5, 24, 169, 87, 200, 1424, 57, 6, 4, 30, 19, 254, 3, 3, 199, 11, 41, 1, 42, 3, 18, 765, 46, 63, 15, 23, 1014, 9, 9, 8, 97, 81, 375, 2, 4, 2, 1, 97, 5, 1, 148, 4, 90, 48, 81, 1, 68, 19, 5, 3, 18, 46, 25, 77, 5, 158, 36, 1, 1, 59, 3, 26, 4, 12, 82, 2, 19, 3, 1, 4, 1, 10, 52, 6, 4, 37, 79, 96, 11, 4, 6, 38, 23, 84, 44, 13, 3, 9, 4, 63, 202, 25, 2, 15, 19, 23, 9, 2, 75, 9, 99, 3, 35, 4, 3, 2, 11, 117, 38, 15, 7, 4, 7, 21, 4, 1, 2, 23, 4, 4, 1, 3, 1, 23, 9, 70, 6, 2, 2, 33, 10, 11, 14, 36, 10, 14, 2, 14, 19, 6, 16, 2, 2, 76, 4, 17, 2, 13, 6, 27, 1, 92, 19, 2, 23, 20, 58, 1, 62, 26, 15, 14, 1, 4, 13, 26, 4, 1, 2, 2, 6, 20, 9, 28, 1, 1, 3, 8, 3, 33, 1, 14, 9, 15, 1, 9, 20, 3, 107, 3, 9, 13, 3, 12, 5, 2, 50, 4, 11, 117, 2, 22, 3, 5, 5, 15, 8, 3, 27, 9, 1, 2, 32, 3, 13, 3, 2, 8, 5, 1, 3, 10, 5, 2, 3, 5, 9, 1, 8, 2, 9, 35, 3, 2, 3, 10, 14, 3, 61, 1, 1, 3, 3, 7, 21, 6, 3, 2, 2, 1, 11, 10, 2, 5, 20, 2, 2, 1, 67, 1, 13, 6, 9, 2, 35, 3, 1, 2, 3, 13, 4, 67, 13, 45, 2, 1, 10, 2, 6, 22, 4, 5, 2, 6, 2, 19, 1, 1, 6, 22, 3, 1, 9, 1, 12, 1, 1, 4, 11, 9, 31, 1, 5, 2, 2, 7, 3, 12, 5, 4, 2, 15, 1, 26, 20, 7, 3, 33, 6, 7, 4, 1, 3, 1, 25, 3, 1, 4, 3, 9, 18, 7, 1, 1, 1, 18, 3, 1, 1, 2, 12, 7, 1, 10, 1, 18, 6, 2, 6, 4, 9, 9, 5, 22, 3, 4, 11, 18, 2, 3, 1, 1, 3, 1, 8, 20, 7, 12, 5, 3, 4, 1, 3, 34, 3, 21, 13, 1, 1, 1, 2, 3, 2, 2, 4, 1, 3, 12, 11, 4, 3, 7, 1, 3, 5, 6, 7, 4, 3, 4, 2, 28, 8, 3, 2, 14, 1, 3, 17, 3, 15, 1, 4, 1, 1, 2, 1, 1, 2, 1, 5, 1, 2, 9, 3, 1, 1, 35, 3, 9, 3, 5, 1, 7, 3, 1, 3, 2, 8, 2, 11, 8, 5, 1, 12, 7, 4, 7, 1, 2, 17, 7, 8, 2, 5, 5, 8, 4, 43, 32, 1, 5, 4, 2, 1, 7, 6, 1, 15, 2, 20, 4, 15, 1, 1, 1, 1, 5, 7, 1, 16, 5, 6, 1, 5, 48, 8, 2, 12, 15, 17, 4, 3, 2, 12, 2, 7, 2, 3, 13, 13, 1, 22, 2, 4, 10, 2, 3, 4, 4, 1, 2, 1, 2, 30, 1, 1, 1, 4, 1, 8, 6, 2, 3, 32, 2, 3, 7, 1, 1, 21, 8, 11, 8, 5, 1, 2, 1, 1, 10, 1, 3, 2, 13, 1, 1, 1, 4, 2, 1, 3, 1, 10, 2, 1, 2, 3, 5, 2, 2, 4, 3, 3, 1, 3, 1, 22, 8, 12, 1, 2, 3, 2, 3, 1, 8, 1, 4, 9, 6, 2, 1, 3, 12, 4, 7, 5, 22, 1, 1, 7, 7, 1, 4, 2, 2, 9, 2, 3, 3, 4, 13, 4, 5, 18, 4, 2, 22, 1, 8, 1, 1, 7, 10, 8, 1, 2, 1, 2, 3, 2, 4, 11, 7, 1, 3, 1, 1, 4, 9, 3, 1, 5, 4, 1, 2, 2, 1, 7, 5, 1, 2, 4, 2, 6, 5, 1, 2, 18, 12, 1, 3, 3, 1, 4, 3, 4, 2, 4, 3, 10, 16, 14, 1, 1, 4, 3, 2, 3, 3, 3, 1, 2, 2, 1, 2, 3, 3, 1, 5, 6, 5, 1, 3, 1, 4, 4, 7, 2, 8, 5, 2, 3, 5, 6, 1, 3, 2, 2, 4, 1, 11, 1, 3, 5, 5, 1, 1, 8, 3, 4, 4, 1, 2, 3, 5, 2, 1, 1, 1, 9, 1, 11, 1, 3, 3, 1, 3, 2, 5, 1, 2, 14, 2, 2, 1, 3, 2, 4, 8, 7, 1, 2, 8, 2, 2, 2, 1, 1, 3, 2, 1, 1, 2, 2, 1, 1, 2, 2, 2, 2, 4, 9, 1, 2, 2, 9, 1, 1, 2, 14, 6, 1, 2, 1, 4, 2, 1, 2, 2, 8, 3, 1, 1, 1, 10, 1, 9, 2, 5, 4, 1, 3, 1, 4, 2, 8, 1, 2, 1, 4, 3, 3, 1, 4, 4, 5, 10, 2, 2, 5, 1, 9, 8, 3, 1, 4, 1, 3, 2, 1, 10, 10, 2, 6, 1, 1, 5, 2, 2, 2, 1, 2, 1, 2, 1, 19, 7, 3, 6, 11, 1, 8, 1, 2, 5, 2, 5, 3, 2, 3, 3, 1, 3, 3, 2, 2, 1, 2, 3, 2, 3, 2, 5, 1, 2, 2, 1, 4, 1, 2, 9, 3, 6, 1, 3, 2, 1, 1, 7, 3, 1, 5, 1, 1, 2, 5, 3, 2, 1, 2, 2, 11, 2, 4, 1, 2, 3, 2, 2, 4, 1, 7, 4, 2, 1, 1, 4, 1, 1, 2, 1, 7, 2, 1, 1, 5, 9, 4, 1, 2, 1, 3, 1, 1, 3, 7, 1, 14, 1, 2, 1, 1, 4, 1, 2, 2, 8, 1, 2, 1, 1, 2, 3, 1, 1, 2, 2, 9, 1, 4, 2, 1, 2, 2, 2, 9, 5, 2, 1, 1, 3, 2, 1, 2, 1, 9, 2, 1, 1, 1, 2, 3, 1, 1, 5, 1, 2, 1, 3, 2, 3, 4, 7, 2, 2, 1, 1, 1, 2, 1, 1, 3, 1, 3, 3, 1, 1, 1, 11, 1, 4, 2, 6, 1, 2, 1, 1, 3, 3, 4, 2, 1, 2, 2, 1, 1, 2, 3, 10, 2, 5, 1, 4, 1, 2, 1, 1, 1, 1, 3, 5, 1, 2, 1, 5, 6, 2, 2, 3, 1, 1, 4, 1, 2, 1, 1, 1, 2, 1, 2, 1, 9, 1, 2, 9, 2, 3, 3, 4, 1, 3, 2, 1, 1, 1, 1, 2, 6, 5, 4, 2, 4, 2, 2, 1, 1, 2, 2, 1, 2, 2, 1, 1, 1, 5, 2, 2, 1, 1, 1, 1, 2, 2, 1, 3, 2, 1, 2, 2, 1, 2, 1, 1, 4, 2, 1, 3, 2, 2, 1, 6, 2, 1, 4, 1, 1, 1, 2, 1, 1, 1, 1, 1, 1, 1, 2, 1, 2, 2, 1, 1, 9, 1, 2, 1, 2, 1, 2, 9, 5, 1, 3, 2, 2, 4, 4, 1, 1, 1, 2, 1, 1, 1, 2, 1, 1, 3, 1, 1, 3, 1, 4, 2, 1, 3, 4, 4, 1, 1, 1, 1, 1, 1, 3, 3, 2, 1, 1, 3, 2, 3, 1, 1, 2, 3, 1, 1, 1, 1, 5, 1, 1, 1, 1, 1, 3, 2, 1, 1, 1, 1, 2, 1, 1, 1, 5, 4, 3, 2, 1, 1, 1, 1, 2, 1, 2, 4, 4, 1, 1, 1, 1, 1, 1, 2, 1, 2, 5, 1, 2, 4, 2, 2, 5, 2, 3, 2, 1, 1, 1, 2, 1, 1, 1, 3, 1, 1, 12, 4, 1, 2, 5, 1, 1, 1, 2, 1, 1, 1, 4, 1, 3, 1, 2, 2, 1, 1, 2, 2, 1, 2, 2, 2, 1, 1, 2, 6, 1, 1, 1, 1, 1, 1, 1, 2, 2, 1, 2, 3, 1, 1, 2, 3, 1, 3, 2, 1, 1, 1, 1, 3, 1, 1, 1, 1, 3, 3, 2, 1, 8, 3, 3, 1, 1, 1, 2, 3, 1, 2, 2, 2, 1, 1, 1, 1, 1, 7, 3, 3, 2, 1, 1, 2, 1, 5, 1, 2, 1, 1, 3, 1, 2, 3, 2, 1, 1, 1, 3, 1, 2, 1, 1, 1, 2, 1, 2, 4, 1, 1, 1, 1, 1, 1, 1, 1, 2, 1, 2, 2, 2, 1, 1, 1, 2, 1, 1, 2, 1, 4, 1, 1, 1, 1, 3, 1, 1, 1, 2, 1, 1, 2, 1, 1, 1, 1, 1, 2, 2, 1, 1, 1, 4, 1, 2, 4, 1, 1, 1, 2, 2, 1, 1, 1, 2, 1, 2, 2, 1, 1, 1, 1, 1, 1, 1, 4, 1, 1, 1, 1, 1, 2, 3, 1, 1, 4, 1, 1, 2, 1, 1, 1, 1, 1, 2, 1, 1, 4, 1, 1, 4, 2, 1, 4, 1, 1, 1, 2, 1, 3, 2, 4, 2, 1, 1, 1, 1, 1, 1, 2, 1, 1, 1, 1, 2, 1, 2, 1, 1, 1, 1, 1, 2, 1, 1, 2, 1, 2, 1, 1, 1, 2, 1, 1, 2, 1, 2, 2, 1, 1, 3, 1, 1, 1, 2, 3, 1, 1, 3, 1, 1, 1, 1, 1, 1, 2, 3, 1, 1, 1, 1, 1, 1, 1, 1, 2, 3, 1, 1, 1, 1, 1, 2, 1, 1, 1, 2, 1, 1, 1, 2, 1, 1, 2, 1, 1, 1, 1, 2, 1, 1, 1, 1, 2, 1, 1, 1, 1, 1, 3, 1, 1, 1, 1, 1, 1, 2, 1, 1, 1, 1, 2, 2, 1, 2, 1, 2, 1, 1, 1, 1, 2, 1, 2, 2, 2, 1, 1, 1, 3, 1, 1, 1, 1, 1, 1, 2, 1, 2, 1, 1, 1, 1, 1, 1, 1, 1, 1, 1, 1, 1, 1, 1, 1, 1, 1, 1, 1, 1, 1, 2, 1, 1, 4, 1, 1, 1, 2, 1, 3, 1, 1, 1, 1, 1, 3, 1, 1, 1, 1, 1, 1, 2, 1, 1, 1, 1, 1, 2, 2, 1, 1, 1, 2, 1, 1, 1, 1, 1, 2, 1, 2, 1, 1, 1, 1, 1, 1, 1, 1, 1, 1, 1, 2, 1, 1, 1, 1, 1, 1, 1, 1, 3, 1, 1, 1, 1, 2, 1, 1, 1, 1, 1, 1, 1, 1, 1, 1, 1, 1, 1, 1, 1, 2, 1, 1, 1, 2, 1, 1, 1, 2, 1, 1, 1, 2, 1, 1, 1, 1, 1, 1, 1, 1, 2, 2, 1, 1, 1, 1, 1, 3, 2, 1, 1, 1, 1, 1, 1, 1, 1, 1, 2, 2, 1, 1, 1, 1, 1, 2, 1, 1, 1, 1, 1, 1, 1, 1, 1, 1, 1, 1, 1, 1, 1, 1, 1, 1, 1, 1, 1, 1, 1, 1, 1, 1, 1, 1, 1, 2, 1, 1, 1, 1, 1, 1, 1, 1, 1, 1, 1, 1, 1, 1, 1, 1, 1, 1, 1, 1, 1, 1, 1, 1, 1, 1, 1, 1, 1, 1, 1, 1, 1, 1, 1, 1, 1, 1, 1, 1, 1, 1, 1, 1, 1, 1, 1, 1, 1, 1, 1, 1, 1, 1, 1, 1], \"yaxis\": \"y\"}],\n",
              "                        {\"barmode\": \"relative\", \"legend\": {\"tracegroupgap\": 0}, \"margin\": {\"t\": 60}, \"template\": {\"data\": {\"bar\": [{\"error_x\": {\"color\": \"#2a3f5f\"}, \"error_y\": {\"color\": \"#2a3f5f\"}, \"marker\": {\"line\": {\"color\": \"#E5ECF6\", \"width\": 0.5}}, \"type\": \"bar\"}], \"barpolar\": [{\"marker\": {\"line\": {\"color\": \"#E5ECF6\", \"width\": 0.5}}, \"type\": \"barpolar\"}], \"carpet\": [{\"aaxis\": {\"endlinecolor\": \"#2a3f5f\", \"gridcolor\": \"white\", \"linecolor\": \"white\", \"minorgridcolor\": \"white\", \"startlinecolor\": \"#2a3f5f\"}, \"baxis\": {\"endlinecolor\": \"#2a3f5f\", \"gridcolor\": \"white\", \"linecolor\": \"white\", \"minorgridcolor\": \"white\", \"startlinecolor\": \"#2a3f5f\"}, \"type\": \"carpet\"}], \"choropleth\": [{\"colorbar\": {\"outlinewidth\": 0, \"ticks\": \"\"}, \"type\": \"choropleth\"}], \"contour\": [{\"colorbar\": {\"outlinewidth\": 0, \"ticks\": \"\"}, \"colorscale\": [[0.0, \"#0d0887\"], [0.1111111111111111, \"#46039f\"], [0.2222222222222222, \"#7201a8\"], [0.3333333333333333, \"#9c179e\"], [0.4444444444444444, \"#bd3786\"], [0.5555555555555556, \"#d8576b\"], [0.6666666666666666, \"#ed7953\"], [0.7777777777777778, \"#fb9f3a\"], [0.8888888888888888, \"#fdca26\"], [1.0, \"#f0f921\"]], \"type\": \"contour\"}], \"contourcarpet\": [{\"colorbar\": {\"outlinewidth\": 0, \"ticks\": \"\"}, \"type\": \"contourcarpet\"}], \"heatmap\": [{\"colorbar\": {\"outlinewidth\": 0, \"ticks\": \"\"}, \"colorscale\": [[0.0, \"#0d0887\"], [0.1111111111111111, \"#46039f\"], [0.2222222222222222, \"#7201a8\"], [0.3333333333333333, \"#9c179e\"], [0.4444444444444444, \"#bd3786\"], [0.5555555555555556, \"#d8576b\"], [0.6666666666666666, \"#ed7953\"], [0.7777777777777778, \"#fb9f3a\"], [0.8888888888888888, \"#fdca26\"], [1.0, \"#f0f921\"]], \"type\": \"heatmap\"}], \"heatmapgl\": [{\"colorbar\": {\"outlinewidth\": 0, \"ticks\": \"\"}, \"colorscale\": [[0.0, \"#0d0887\"], [0.1111111111111111, \"#46039f\"], [0.2222222222222222, \"#7201a8\"], [0.3333333333333333, \"#9c179e\"], [0.4444444444444444, \"#bd3786\"], [0.5555555555555556, \"#d8576b\"], [0.6666666666666666, \"#ed7953\"], [0.7777777777777778, \"#fb9f3a\"], [0.8888888888888888, \"#fdca26\"], [1.0, \"#f0f921\"]], \"type\": \"heatmapgl\"}], \"histogram\": [{\"marker\": {\"colorbar\": {\"outlinewidth\": 0, \"ticks\": \"\"}}, \"type\": \"histogram\"}], \"histogram2d\": [{\"colorbar\": {\"outlinewidth\": 0, \"ticks\": \"\"}, \"colorscale\": [[0.0, \"#0d0887\"], [0.1111111111111111, \"#46039f\"], [0.2222222222222222, \"#7201a8\"], [0.3333333333333333, \"#9c179e\"], [0.4444444444444444, \"#bd3786\"], [0.5555555555555556, \"#d8576b\"], [0.6666666666666666, \"#ed7953\"], [0.7777777777777778, \"#fb9f3a\"], [0.8888888888888888, \"#fdca26\"], [1.0, \"#f0f921\"]], \"type\": \"histogram2d\"}], \"histogram2dcontour\": [{\"colorbar\": {\"outlinewidth\": 0, \"ticks\": \"\"}, \"colorscale\": [[0.0, \"#0d0887\"], [0.1111111111111111, \"#46039f\"], [0.2222222222222222, \"#7201a8\"], [0.3333333333333333, \"#9c179e\"], [0.4444444444444444, \"#bd3786\"], [0.5555555555555556, \"#d8576b\"], [0.6666666666666666, \"#ed7953\"], [0.7777777777777778, \"#fb9f3a\"], [0.8888888888888888, \"#fdca26\"], [1.0, \"#f0f921\"]], \"type\": \"histogram2dcontour\"}], \"mesh3d\": [{\"colorbar\": {\"outlinewidth\": 0, \"ticks\": \"\"}, \"type\": \"mesh3d\"}], \"parcoords\": [{\"line\": {\"colorbar\": {\"outlinewidth\": 0, \"ticks\": \"\"}}, \"type\": \"parcoords\"}], \"pie\": [{\"automargin\": true, \"type\": \"pie\"}], \"scatter\": [{\"marker\": {\"colorbar\": {\"outlinewidth\": 0, \"ticks\": \"\"}}, \"type\": \"scatter\"}], \"scatter3d\": [{\"line\": {\"colorbar\": {\"outlinewidth\": 0, \"ticks\": \"\"}}, \"marker\": {\"colorbar\": {\"outlinewidth\": 0, \"ticks\": \"\"}}, \"type\": \"scatter3d\"}], \"scattercarpet\": [{\"marker\": {\"colorbar\": {\"outlinewidth\": 0, \"ticks\": \"\"}}, \"type\": \"scattercarpet\"}], \"scattergeo\": [{\"marker\": {\"colorbar\": {\"outlinewidth\": 0, \"ticks\": \"\"}}, \"type\": \"scattergeo\"}], \"scattergl\": [{\"marker\": {\"colorbar\": {\"outlinewidth\": 0, \"ticks\": \"\"}}, \"type\": \"scattergl\"}], \"scattermapbox\": [{\"marker\": {\"colorbar\": {\"outlinewidth\": 0, \"ticks\": \"\"}}, \"type\": \"scattermapbox\"}], \"scatterpolar\": [{\"marker\": {\"colorbar\": {\"outlinewidth\": 0, \"ticks\": \"\"}}, \"type\": \"scatterpolar\"}], \"scatterpolargl\": [{\"marker\": {\"colorbar\": {\"outlinewidth\": 0, \"ticks\": \"\"}}, \"type\": \"scatterpolargl\"}], \"scatterternary\": [{\"marker\": {\"colorbar\": {\"outlinewidth\": 0, \"ticks\": \"\"}}, \"type\": \"scatterternary\"}], \"surface\": [{\"colorbar\": {\"outlinewidth\": 0, \"ticks\": \"\"}, \"colorscale\": [[0.0, \"#0d0887\"], [0.1111111111111111, \"#46039f\"], [0.2222222222222222, \"#7201a8\"], [0.3333333333333333, \"#9c179e\"], [0.4444444444444444, \"#bd3786\"], [0.5555555555555556, \"#d8576b\"], [0.6666666666666666, \"#ed7953\"], [0.7777777777777778, \"#fb9f3a\"], [0.8888888888888888, \"#fdca26\"], [1.0, \"#f0f921\"]], \"type\": \"surface\"}], \"table\": [{\"cells\": {\"fill\": {\"color\": \"#EBF0F8\"}, \"line\": {\"color\": \"white\"}}, \"header\": {\"fill\": {\"color\": \"#C8D4E3\"}, \"line\": {\"color\": \"white\"}}, \"type\": \"table\"}]}, \"layout\": {\"annotationdefaults\": {\"arrowcolor\": \"#2a3f5f\", \"arrowhead\": 0, \"arrowwidth\": 1}, \"coloraxis\": {\"colorbar\": {\"outlinewidth\": 0, \"ticks\": \"\"}}, \"colorscale\": {\"diverging\": [[0, \"#8e0152\"], [0.1, \"#c51b7d\"], [0.2, \"#de77ae\"], [0.3, \"#f1b6da\"], [0.4, \"#fde0ef\"], [0.5, \"#f7f7f7\"], [0.6, \"#e6f5d0\"], [0.7, \"#b8e186\"], [0.8, \"#7fbc41\"], [0.9, \"#4d9221\"], [1, \"#276419\"]], \"sequential\": [[0.0, \"#0d0887\"], [0.1111111111111111, \"#46039f\"], [0.2222222222222222, \"#7201a8\"], [0.3333333333333333, \"#9c179e\"], [0.4444444444444444, \"#bd3786\"], [0.5555555555555556, \"#d8576b\"], [0.6666666666666666, \"#ed7953\"], [0.7777777777777778, \"#fb9f3a\"], [0.8888888888888888, \"#fdca26\"], [1.0, \"#f0f921\"]], \"sequentialminus\": [[0.0, \"#0d0887\"], [0.1111111111111111, \"#46039f\"], [0.2222222222222222, \"#7201a8\"], [0.3333333333333333, \"#9c179e\"], [0.4444444444444444, \"#bd3786\"], [0.5555555555555556, \"#d8576b\"], [0.6666666666666666, \"#ed7953\"], [0.7777777777777778, \"#fb9f3a\"], [0.8888888888888888, \"#fdca26\"], [1.0, \"#f0f921\"]]}, \"colorway\": [\"#636efa\", \"#EF553B\", \"#00cc96\", \"#ab63fa\", \"#FFA15A\", \"#19d3f3\", \"#FF6692\", \"#B6E880\", \"#FF97FF\", \"#FECB52\"], \"font\": {\"color\": \"#2a3f5f\"}, \"geo\": {\"bgcolor\": \"white\", \"lakecolor\": \"white\", \"landcolor\": \"#E5ECF6\", \"showlakes\": true, \"showland\": true, \"subunitcolor\": \"white\"}, \"hoverlabel\": {\"align\": \"left\"}, \"hovermode\": \"closest\", \"mapbox\": {\"style\": \"light\"}, \"paper_bgcolor\": \"white\", \"plot_bgcolor\": \"#E5ECF6\", \"polar\": {\"angularaxis\": {\"gridcolor\": \"white\", \"linecolor\": \"white\", \"ticks\": \"\"}, \"bgcolor\": \"#E5ECF6\", \"radialaxis\": {\"gridcolor\": \"white\", \"linecolor\": \"white\", \"ticks\": \"\"}}, \"scene\": {\"xaxis\": {\"backgroundcolor\": \"#E5ECF6\", \"gridcolor\": \"white\", \"gridwidth\": 2, \"linecolor\": \"white\", \"showbackground\": true, \"ticks\": \"\", \"zerolinecolor\": \"white\"}, \"yaxis\": {\"backgroundcolor\": \"#E5ECF6\", \"gridcolor\": \"white\", \"gridwidth\": 2, \"linecolor\": \"white\", \"showbackground\": true, \"ticks\": \"\", \"zerolinecolor\": \"white\"}, \"zaxis\": {\"backgroundcolor\": \"#E5ECF6\", \"gridcolor\": \"white\", \"gridwidth\": 2, \"linecolor\": \"white\", \"showbackground\": true, \"ticks\": \"\", \"zerolinecolor\": \"white\"}}, \"shapedefaults\": {\"line\": {\"color\": \"#2a3f5f\"}}, \"ternary\": {\"aaxis\": {\"gridcolor\": \"white\", \"linecolor\": \"white\", \"ticks\": \"\"}, \"baxis\": {\"gridcolor\": \"white\", \"linecolor\": \"white\", \"ticks\": \"\"}, \"bgcolor\": \"#E5ECF6\", \"caxis\": {\"gridcolor\": \"white\", \"linecolor\": \"white\", \"ticks\": \"\"}}, \"title\": {\"x\": 0.05}, \"xaxis\": {\"automargin\": true, \"gridcolor\": \"white\", \"linecolor\": \"white\", \"ticks\": \"\", \"title\": {\"standoff\": 15}, \"zerolinecolor\": \"white\", \"zerolinewidth\": 2}, \"yaxis\": {\"automargin\": true, \"gridcolor\": \"white\", \"linecolor\": \"white\", \"ticks\": \"\", \"title\": {\"standoff\": 15}, \"zerolinecolor\": \"white\", \"zerolinewidth\": 2}}}, \"xaxis\": {\"anchor\": \"y\", \"domain\": [0.0, 1.0], \"title\": {\"text\": \"municipioCaso\"}}, \"yaxis\": {\"anchor\": \"x\", \"domain\": [0.0, 1.0], \"title\": {\"text\": \"total_caso_municipio\"}}},\n",
              "                        {\"responsive\": true}\n",
              "                    ).then(function(){\n",
              "                            \n",
              "var gd = document.getElementById('4663d81a-c075-4372-8f31-efa6eb426350');\n",
              "var x = new MutationObserver(function (mutations, observer) {{\n",
              "        var display = window.getComputedStyle(gd).display;\n",
              "        if (!display || display === 'none') {{\n",
              "            console.log([gd, 'removed!']);\n",
              "            Plotly.purge(gd);\n",
              "            observer.disconnect();\n",
              "        }}\n",
              "}});\n",
              "\n",
              "// Listen for the removal of the full notebook cells\n",
              "var notebookContainer = gd.closest('#notebook-container');\n",
              "if (notebookContainer) {{\n",
              "    x.observe(notebookContainer, {childList: true});\n",
              "}}\n",
              "\n",
              "// Listen for the clearing of the current output cell\n",
              "var outputEl = gd.closest('.output');\n",
              "if (outputEl) {{\n",
              "    x.observe(outputEl, {childList: true});\n",
              "}}\n",
              "\n",
              "                        })\n",
              "                };\n",
              "                \n",
              "            </script>\n",
              "        </div>\n",
              "</body>\n",
              "</html>"
            ]
          },
          "metadata": {
            "tags": []
          }
        }
      ]
    },
    {
      "cell_type": "code",
      "metadata": {
        "id": "YZbomz6swodf"
      },
      "source": [
        ""
      ],
      "execution_count": 75,
      "outputs": []
    }
  ]
}